{
 "cells": [
  {
   "cell_type": "code",
   "execution_count": 1,
   "id": "8df7ad01-fe98-4821-be7d-e93888ac7998",
   "metadata": {},
   "outputs": [],
   "source": [
    "%creates the Lat matrix (matrix of connectivities) to use in fortran\n",
    "%micromodel.f90\n",
    "close all\n",
    "clear all"
   ]
  },
  {
   "cell_type": "code",
   "execution_count": 7,
   "id": "b8bb2582-ce9e-4bb3-a210-450c5d374260",
   "metadata": {},
   "outputs": [],
   "source": [
    "expCode = '2022-12-20-1600';"
   ]
  },
  {
   "cell_type": "code",
   "execution_count": 2,
   "id": "be0c814d-ddf3-454b-8b25-e5c463a657df",
   "metadata": {},
   "outputs": [],
   "source": [
    "nodes=7; %total number of nodes in one row of the lattice. 5 for Q1, 7 for Q2, 8 for Q3"
   ]
  },
  {
   "cell_type": "code",
   "execution_count": 3,
   "id": "e5449bf7-9a5c-4619-a449-ce7b5752b92c",
   "metadata": {},
   "outputs": [],
   "source": [
    "I=eye(nodes^2); %creates main diagonal\n",
    "D1=diag(ones(nodes^2-nodes,1),nodes); %creates right-most diagonal of ones\n",
    "D2=diag(ones(nodes^2-nodes,1),-nodes); %creates left-most diagonal\n",
    "\n",
    "dvect=ones(nodes^2-1,1);\n",
    "for i=1:length(dvect)\n",
    "    if(mod(i,nodes)==0)\n",
    "        dvect(i)=0;\n",
    "    end\n",
    "end\n",
    "D3=diag(dvect,1); %creates above-diagonal\n",
    "D4=diag(dvect,-1); %creates below-diagonal\n",
    "\n",
    "Lat=D1+D2+D3+D4+I;"
   ]
  },
  {
   "cell_type": "code",
   "execution_count": 8,
   "id": "6a586b49-7849-4908-9bc9-b68cb7e2d60c",
   "metadata": {},
   "outputs": [],
   "source": [
    "%Be sure to change the name of the saved file when you change \"nodes\"!!\n",
    "filename = strcat('../../data/', expCode, '/LatQ2.dat');\n",
    "save(filename, 'Lat', '-ascii');"
   ]
  },
  {
   "cell_type": "code",
   "execution_count": null,
   "id": "1e1551b6-993d-4a50-9460-609d2a05d2e3",
   "metadata": {},
   "outputs": [],
   "source": []
  }
 ],
 "metadata": {
  "kernelspec": {
   "display_name": "Octave",
   "language": "octave",
   "name": "octave"
  },
  "language_info": {
   "file_extension": ".m",
   "help_links": [
    {
     "text": "GNU Octave",
     "url": "https://www.gnu.org/software/octave/support.html"
    },
    {
     "text": "Octave Kernel",
     "url": "https://github.com/Calysto/octave_kernel"
    },
    {
     "text": "MetaKernel Magics",
     "url": "https://metakernel.readthedocs.io/en/latest/source/README.html"
    }
   ],
   "mimetype": "text/x-octave",
   "name": "octave",
   "version": "5.1.0"
  }
 },
 "nbformat": 4,
 "nbformat_minor": 5
}
