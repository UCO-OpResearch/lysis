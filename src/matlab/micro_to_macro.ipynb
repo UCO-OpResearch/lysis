{
 "cells": [
  {
   "cell_type": "code",
   "execution_count": 1,
   "id": "dba9ad1d-35ed-4959-a2e2-aa6baa6b8d97",
   "metadata": {},
   "outputs": [],
   "source": [
    "close all\n",
    "clear all\n",
    "graphics_toolkit (\"gnuplot\");"
   ]
  },
  {
   "cell_type": "code",
   "execution_count": 2,
   "id": "d12c1303-7ff6-4050-8785-a958dcca0f5f",
   "metadata": {},
   "outputs": [],
   "source": [
    "%THE WHOLE PURPOSE OF THIS CODE IS TO GENERATE THE NECESSARY DATA TO READ\n",
    "%INTO THE MACROSCALE MODEL - THE 4 FILES THAT WE SAVE USING THE \"save\"\n",
    "%COMMAND IN THIS CODE. WE ALSO GENERATE SOME INFORMATION ABOUT THE\n",
    "%MICROSCALE MODEL RESULTS, LIKE THE MEDIAN TPA LEAVING TIMES AND LYSIS\n",
    "%TIMES\n",
    "\n",
    "binaryformat='ieee-le';\n",
    "\n",
    "runCode = '2024-01-13-0710';\n",
    "fileCode = strcat('_', runCode, '.dat');\n",
    "simulations=50000;%10000;"
   ]
  },
  {
   "cell_type": "code",
   "execution_count": 3,
   "id": "185a08f0-388e-4ed0-821e-449311973876",
   "metadata": {},
   "outputs": [],
   "source": [
    "folder = strcat('../../data/', runCode);\n",
    "%FOR 'BINARY' DATA. READ IN THE FILES GENERATED WITH FORTRAN\n",
    "fids(1) = fopen(strcat(folder, '/lysis', fileCode),'r',binaryformat);\n",
    "fids(2) = fopen(strcat(folder, '/tPA_time', fileCode),'r',binaryformat);\n",
    "fids(3) = fopen(strcat(folder, '/PLi', fileCode),'r',binaryformat);\n",
    "fids(4) = fopen(strcat(folder, '/lyscomplete', fileCode),'r',binaryformat);\n",
    "fids(5) = fopen(strcat(folder, '/firstPLi', fileCode),'r',binaryformat);\n",
    "fids(12) = fopen(strcat(folder, '/lasttPA', fileCode),'r',binaryformat);\n",
    "\n",
    "%RENAME NEW FILES SOMETHING SHORTER \n",
    "lysis = fread(fids(1),inf,'double');\n",
    "tPA = fread(fids(2),inf,'double');\n",
    "PLi = fread(fids(3),inf,'int');\n",
    "lyscom=fread(fids(4),inf,'int');\n",
    "firstPLi=fread(fids(5),inf,'double');\n",
    "lasttPA=fread(fids(12),inf,'int');\n",
    "\n",
    "%CLOSE THE FILES SO YOU DON'T ACCIDENTALLY RE-READ THE DATA \n",
    "fclose(fids(1));\n",
    "fclose(fids(2));\n",
    "fclose(fids(3));\n",
    "fclose(fids(4));\n",
    "fclose(fids(5));\n",
    "fclose(fids(12));"
   ]
  },
  {
   "cell_type": "code",
   "execution_count": 4,
   "id": "06e460a6-b189-4fd7-8dad-96b2b3a7cd5b",
   "metadata": {},
   "outputs": [
    {
     "name": "stdout",
     "output_type": "stream",
     "text": [
      "ans = 50000\n"
     ]
    }
   ],
   "source": [
    "length(lyscom)"
   ]
  },
  {
   "cell_type": "code",
   "execution_count": 5,
   "id": "14545086-5913-42c9-8fa4-5a767647a618",
   "metadata": {},
   "outputs": [
    {
     "name": "stdout",
     "output_type": "stream",
     "text": [
      "num_forced = 4158\n",
      "num_unbd = 44931\n",
      "frac_forced = 0.084703\n"
     ]
    }
   ],
   "source": [
    "%READ IN ADDITIONAL FILES GENERATED WITH FORTRAN\n",
    "fids(5) = fopen(strcat(folder, '/tPAPLiunbd', fileCode),'r',binaryformat);\n",
    "fids(6) = fopen(strcat(folder, '/tPAunbind', fileCode),'r',binaryformat);\n",
    "\n",
    "\n",
    "%RENAME THOSE FILES\n",
    "tPAforced = fread(fids(5),inf,'int');\n",
    "tPAunbound = fread(fids(6),inf,'int');\n",
    "\n",
    "%FIND THE NUMBER OF TIMES TPA WAS FORCED TO UNBIND BY PLASMIN-MEDIATED\n",
    "%DEGRADATION OF FIBRIN (num_forced) AND THE NUMBER OF TIMES TPA UNBOUND ON\n",
    "%ITS OWN (num_unbd)\n",
    "num_forced=length(find(tPAforced==1))\n",
    "num_unbd=length(find(tPAunbound==1))\n",
    "frac_forced = num_forced / (num_forced + num_unbd)\n",
    "\n",
    "%CLOSE THE FILES\n",
    "fclose(fids(5));\n",
    "fclose(fids(6));"
   ]
  },
  {
   "cell_type": "code",
   "execution_count": 5,
   "id": "0c4d2516-a21c-4d2b-8a01-413cfcfa8a38",
   "metadata": {},
   "outputs": [
    {
     "name": "stdout",
     "output_type": "stream",
     "text": [
      "num_runs_lysis_complete =  6366\n"
     ]
    }
   ],
   "source": [
    "%FIND THE NUMBER OF simulations FOR WHICH TPA STAYED BOUND THE WHOLE SIMULATION\n",
    "tPAstay=length(find(lasttPA==1)); \n",
    "\n",
    "\n",
    "%RENAME THE FILES SO WE CAN MANIPULATE THEM WITHOUT AFFECTING THE ORIGINAL\n",
    "%DATA\n",
    "tPAn=tPA;\n",
    "PLin=PLi;\n",
    "lysisn=lysis;\n",
    "asd1=find(lyscom==0);\n",
    "num_simulations_lysis_complete=simulations-length(asd1)\n",
    "\n",
    "%SET THE lysisn ENTRIES FOR WHICH LYSIS DID NOT OCCUR (lyscomplete=0) EQUAL\n",
    "%TO 100*60 SECONDS\n",
    "for i=1:length(asd1)\n",
    "    lysisn(asd1(i))=100*60;\n",
    "end\n",
    "\n",
    "%SORT THE tPAn VECTOR SO THAT ITS ENTRIES ARE IN ASCENDING ORDER. REARRANGE \n",
    "%THE PLin AND lysisn VECTORS SO THAT EACH ENTRY STILL CORRESPONDS TO ITS\n",
    "%APPROPRIATE tPAn ENTRY. E.G., THE FIRST ENTRIES IN tPAn, PLin, and lysisn, \n",
    "%ALL CORRESPOND TO THE OUTPUT FROM THE FIRST RUN OF THE MICROSCALE MODEL\n",
    "%(RECALL WE DID 10,000 simulations). IF WE REARRANGE tPAn (BY MAKING THE NEW\n",
    "%VECTOR StPA), AND WHAT USED TO BE THE FIRST ENTRY IS NOW THE 108TH ENTRY,\n",
    "%WE NEED TO MOVE THE FIRST ENTRIES OF PLin AND lysisn TO THE 108TH ENTRIES\n",
    "%OF THEIR NEW VECTORS, SPLi AND Slysis.\n",
    "[StPA,IX]=sort(tPAn);\n",
    "for i=1:length(IX)\n",
    "    SPLi(i)=PLin(IX(i));\n",
    "    Slysis(i)=lysisn(IX(i));\n",
    "end\n",
    "%SO NOW StPA IS A VECTOR OF TPA LEAVING TIMES IN ASCENDING ORDER. SPLi AND\n",
    "%Slysis ARE NOT IN ASCENDING ORDER. "
   ]
  },
  {
   "cell_type": "code",
   "execution_count": 6,
   "id": "e1265987-b455-410c-a2cd-0d14c15eefbb",
   "metadata": {},
   "outputs": [],
   "source": [
    "if simulations==50000\n",
    "%BECAUSE I DID 50,000 simulations, IF I BIN EVERY 500 TPA LEAVING TIMES, I'LL HAVE \n",
    "%BINNED BY 1% OF THE TOTAL NUMBER OF simulations. CREATE MATRICES StPAmat AND \n",
    "%Slysismat TO HOLD THE DATA FOR EACH BIN. COLUMN=BIN NUMBER, AND THE ROW \n",
    "%ENTRIES ARE THE DATA FOR BIN GIVEN BY COLUMN NUMBER\n",
    "    StPAmat=zeros(500,100);\n",
    "    Slysismat=zeros(500,100);\n",
    "    for i=1:100\n",
    "        StPAmat(:,i)=StPA((i-1)*500+1:i*500);\n",
    "        Slysismat(:,i)=Slysis((i-1)*500+1:i*500);\n",
    "        tPAbin(i)=StPA(i*500);    %SAVES THE ACTUAL TIMES THE BINS ARE BROKEN UP INTO\n",
    "    end\n",
    "\n",
    "elseif simulations==10000\n",
    "%BECAUSE I DID 10,000 simulations, IF I BIN EVERY 100 TPA LEAVING TIMES, I'LL HAVE \n",
    "%BINNED BY 1% OF THE TOTAL NUMBER OF simulations. CREATE MATRICES StPAmat AND \n",
    "%Slysismat TO HOLD THE DATA FOR EACH BIN. COLUMN=BIN NUMBER, AND THE ROW \n",
    "%ENTRIES ARE THE DATA FOR BIN GIVEN BY COLUMN NUMBER\n",
    "    StPAmat=zeros(100,100);\n",
    "    Slysismat=zeros(100,100);\n",
    "    for i=1:100\n",
    "        StPAmat(:,i)=StPA((i-1)*100+1:i*100);\n",
    "        Slysismat(:,i)=Slysis((i-1)*100+1:i*100);\n",
    "        tPAbin(i)=StPA(i*100);    %SAVES THE ACTUAL TIMES THE BINS ARE BROKEN UP INTO\n",
    "    end\n",
    "end"
   ]
  },
  {
   "cell_type": "code",
   "execution_count": 7,
   "id": "bb055989-8c05-4e2a-b7e9-f5473fd00b3a",
   "metadata": {},
   "outputs": [],
   "source": [
    "%INITIALIZE THE CDFbin VECTOR TO BE A VECTOR WITH 101 ENTRIES. THEN DEFINE\n",
    "%THE VECTOR TO COUNT FROM 0 TO 1 BY STEPS OF 0.01. ADD AN ENTRY CONTAINING\n",
    "%THE NUBMER 0 TO THE VECTOR tPAbin AND RENAME IT tPAbin2.\n",
    "CDFbin=zeros(1,101);\n",
    "CDFbin=[0:0.01:1];\n",
    "tPAbin2=horzcat(0,tPAbin);\n",
    "\n",
    "\n",
    "%FIND THE TRANSPOSE OF THE tPAbin2 AND CDFbin VECTORS AND RENAME THEM\n",
    "tsectPA=tPAbin2';\n",
    "tPAleave=CDFbin';\n",
    "\n",
    "%SAVE THE ABOVE TWO VECTORS SO WE CAN READ THEM INTO THE MACROSCALE MODEL\n",
    "save(strcat(folder, '/tsectPA', fileCode), 'tsectPA', '-ascii', '-double');\n",
    "save(strcat(folder, '/tPAleave', fileCode), 'tPAleave', '-ascii', '-double');"
   ]
  },
  {
   "cell_type": "code",
   "execution_count": 8,
   "id": "074e0bac-8388-41ad-8ecb-6ef8dcab652b",
   "metadata": {},
   "outputs": [],
   "source": [
    "%MAKE A PLOT OF THE TPA LEAVING TIME CUMULATIVE DISTRIBUTION FUNCTION (CDF)\n",
    "figure\n",
    "plot(tsectPA,tPAleave,'LineWidth',3)\n",
    "set(gca,'FontSize',16,'FontWeight','bold')\n",
    "xlabel('tPA leaving time (s)','FontSize',16,'FontWeight','bold')\n",
    "ylabel('Probability','FontSize',16,'FontWeight','bold')"
   ]
  },
  {
   "cell_type": "code",
   "execution_count": 9,
   "id": "7e94217c-3533-407e-ad05-16350992facf",
   "metadata": {},
   "outputs": [],
   "source": [
    "%SORT THE ORIGINIAL PLin VECTOR SO THAT THE ENTRIES ARE IN ASCENDING ORDER.\n",
    "%REORDER THE tPAn AND lysisn VECTORS SO THAT THE CORRESPONDING ENTRIES ARE\n",
    "%IN THE CORRECT PLACES (LIKE WE DID WHEN WE SORTED THE tPAn VECTOR)\n",
    "[SPLi3,IX3]=sort(PLin);\n",
    "for i= 1:length(IX3)\n",
    "    StPA3(i)=tPAn(IX3(i));\n",
    "    Slysis3(i)=lysisn(IX3(i));\n",
    "end"
   ]
  },
  {
   "cell_type": "code",
   "execution_count": 10,
   "id": "c0c013f0-6b45-4ed3-a3b8-f119ab4736cf",
   "metadata": {},
   "outputs": [],
   "source": [
    "%MAKE NEW VECTORS Slysis3_0, Slysis3_1, Slysis3_2, Slysis3_3, Slysis3_4,\n",
    "%Slysis3_5, WHICH CONTAIN THE LYSIS TIME DATA FOR WHICH 0 PLI, 1 PLI, 2 \n",
    "%PLI, 3 PLI, 4 PLI, AND 5 OR MORE PLI WERE CREATED, RESPECTIVELY. SIMILARLY\n",
    "%FOR THE TPA LEAVING TIME DATA.\n",
    "end0=find(SPLi3==0,1,'last');\n",
    "end1=find(SPLi3==1,1,'last');\n",
    "end2=find(SPLi3==2,1,'last');\n",
    "end3=find(SPLi3==3,1,'last');\n",
    "end4=find(SPLi3==4,1,'last');\n",
    "end5=find(SPLi3>=5,1,'last');\n",
    "first1=find(SPLi3==1,1,'first');\n",
    "first2=find(SPLi3==2,1,'first');\n",
    "first3=find(SPLi3==3,1,'first');\n",
    "first4=find(SPLi3==4,1,'first');\n",
    "first5=find(SPLi3>=5,1,'first');\n",
    "\n",
    "SPLi3_0=SPLi3(1:end0);\n",
    "StPA3_0=StPA3(1:end0);\n",
    "Slysis3_0=Slysis3(1:end0);\n",
    "SPLi3_1=SPLi3(first1:end1);\n",
    "StPA3_1=StPA3(first1:end1);\n",
    "Slysis3_1=Slysis3(first1:end1);\n",
    "SPLi3_2=SPLi3(first2:end2);\n",
    "StPA3_2=StPA3(first2:end2);\n",
    "Slysis3_2=Slysis3(first2:end2);\n",
    "SPLi3_3=SPLi3(first3:end3);\n",
    "StPA3_3=StPA3(first3:end3);\n",
    "Slysis3_3=Slysis3(first3:end3);\n",
    "SPLi3_4=SPLi3(first4:end4);\n",
    "StPA3_4=StPA3(first4:end4);\n",
    "Slysis3_4=Slysis3(first4:end4);\n",
    "SPLi3_5=SPLi3(first5:end5);\n",
    "StPA3_5=StPA3(first5:end5);\n",
    "Slysis3_5=Slysis3(first5:end5);"
   ]
  },
  {
   "cell_type": "code",
   "execution_count": 11,
   "id": "7c80782d-ac04-4f2f-8f32-38197e3b74b1",
   "metadata": {},
   "outputs": [],
   "source": [
    "%MAKE A SCATTER PLOT OF TPA LEAVING TIME VS. LYSIS TIME, COLOR CODED BY THE\n",
    "%NUMBER OF PLI MOLECULES CREATED IN EACH RUN\n",
    "figure\n",
    "plot(StPA3_0,Slysis3_0/60,'y*','MarkerSize',7)\n",
    "hold on\n",
    "plot(StPA3_1,Slysis3_1/60,'g*','MarkerSize',7)\n",
    "plot(StPA3_2,Slysis3_2/60,'r*','MarkerSize',7)\n",
    "plot(StPA3_3,Slysis3_3/60,'b*','MarkerSize',7)\n",
    "plot(StPA3_4,Slysis3_4/60,'m*','MarkerSize',7)\n",
    "plot(StPA3_5,Slysis3_5/60,'k*','MarkerSize',7)\n",
    "set(gca,'FontSize',16,'FontWeight','bold')\n",
    "xlabel('tPA leaving time (s)','FontSize',16,'FontWeight','bold')\n",
    "ylabel('lysis time (min)','FontSize',16,'FontWeight','bold')"
   ]
  },
  {
   "cell_type": "code",
   "execution_count": 12,
   "id": "7e5e231d-1611-42fd-b492-3a9e10f26d47",
   "metadata": {},
   "outputs": [
    {
     "name": "stdout",
     "output_type": "stream",
     "text": [
      "mediantPA =  18.714\n",
      "Q1tPA =  7.9191\n",
      "Q3tPA =  36.401\n"
     ]
    }
   ],
   "source": [
    "if simulations==10000\n",
    "    %FIND THE MEDIAN, FIRST QUARTILE, AND THIRD QUARTILE OF THE StPA DATA. THIS\n",
    "    %GIVES THE MEDIAN, Q1, Q3 TPA LEAVING TIMES (IN S) FOR THE 10,000 simulations\n",
    "    mediantPA=median(StPA)\n",
    "    Q1tPA=StPA(2500)\n",
    "    Q3tPA=StPA(7501)\n",
    "    %I USED THE MENDENHALL AND SINCICH METHOD FOR CALCULATING QUARTILES\n",
    "elseif simulations==50000\n",
    "    %FIND THE MEDIAN, FIRST QUARTILE, AND THIRD QUARTILE OF THE StPA DATA. THIS\n",
    "    %GIVES THE MEDIAN, Q1, Q3 TPA LEAVING TIMES (IN S) FOR THE 50,000 simulations\n",
    "    mediantPA=median(StPA)\n",
    "    Q1tPA=StPA(12500)\n",
    "    Q3tPA=StPA(37501)\n",
    "    %I USED THE MENDENHALL AND SINCICH METHOD FOR CALCULATING QUARTILES\n",
    "end"
   ]
  },
  {
   "cell_type": "code",
   "execution_count": 13,
   "id": "41c3c90b-c3c9-4350-9136-a7b72a2c6cf4",
   "metadata": {},
   "outputs": [],
   "source": [
    "%SORT THE ORIGINIAL lysisn VECTOR SO ITS ENTRIES ARE IN ASCENDING ORDER.\n",
    "%REORDER THE tPAn VECTOR SO THE CORRESPONDING ENTRIES ARE IN THE CORRECT\n",
    "%PLACE. SIMILARLY FOR THE firstPLi VECTOR.\n",
    "[T,IXL]=sort(lysisn);\n",
    "for i=1:length(IXL)\n",
    "    StPA2(i)=tPAn(IXL(i));\n",
    "    fPLi(i)=firstPLi(IXL(i));\n",
    "    nPLi(i)=PLin(IXL(i));\n",
    "end\n",
    "Tmin=T/60; %Tmin IS THE TIME DATA IN TERMS OF MINUTES INSTEAD OF SECONDS"
   ]
  },
  {
   "cell_type": "code",
   "execution_count": 14,
   "id": "c1766584-41f9-4e9b-b5c8-c172d7c22985",
   "metadata": {},
   "outputs": [],
   "source": [
    "%MAKE A VECTOR OF LYSIS TIMES FOR WHICH LYSIS ACTUALLY OCCURRED, AND VECTOR\n",
    "%OF TIME TO FIRST PLASMIN MOLECULE IN simulations WHERE LYSIS OCCURRED.\n",
    "%***IN simulations WITH alpha2-AP I'LL HAVE TO CHANGE THIS TO GIVE TIME TO FIRST\n",
    "%PLASMIN IN RUN IN WHICH PLASMIN WAS CREATED\n",
    "\n",
    "LT=Tmin(1:end-length(asd1));\n",
    "LfPLi=fPLi(1:end-length(asd1));\n",
    "LnPLi=nPLi(1:end-length(asd1));"
   ]
  },
  {
   "cell_type": "code",
   "execution_count": 15,
   "id": "acaad0d3-d84c-4aed-a749-e5812ccb5a1f",
   "metadata": {},
   "outputs": [],
   "source": [
    "%THIS IS PREP WORK IN ORDER TO ACCURATELY FIND THE MEDIAN, Q1, Q3 LYSIS\n",
    "%TIMES\n",
    "Lq=1/4*(length(LT)+1);\n",
    "if abs(floor(Lq)-Lq)>=0.5\n",
    "    Lq=floor(Lq)+1;\n",
    "else\n",
    "    Lq=floor(Lq);\n",
    "end\n",
    "Uq=3/4*(length(LT)+1);\n",
    "if abs(floor(Uq)-Uq)>=0.5\n",
    "    Uq=floor(Uq)+1;\n",
    "else\n",
    "    Uq=floor(Uq);\n",
    "end"
   ]
  },
  {
   "cell_type": "code",
   "execution_count": 16,
   "id": "3f7b63b7-b34e-4252-8286-69a02b76d189",
   "metadata": {},
   "outputs": [
    {
     "name": "stdout",
     "output_type": "stream",
     "text": [
      "medianlysis =  0.78820\n",
      "Q1lysis =  0.60492\n",
      "Q3lysis =  1.0748\n",
      "mediantimetoplasmin =  17.233\n",
      "Q1timetoplasmin =  6.8019\n",
      "Q3timetoplasmin =  34.101\n"
     ]
    }
   ],
   "source": [
    "%FIND THE MEDIAN, FIRST QUARTILE, AND THIRD QUARTILE OF THE LT DATA. THIS\n",
    "%GIVES THE MEDIAN, Q1, Q3 LYSIS TIMES (IN MIN) FOR THE 10,000 simulations\n",
    "medianlysis=median(LT)\n",
    "Q1lysis=LT(Lq)\n",
    "Q3lysis=LT(Uq)\n",
    "\n",
    "%FIND THE MEDIAN, Q1 AND Q3 OF THE TIME TO PRODUCTION OF FIRST PLASMIN\n",
    "%MOLECULE. THIS IS ONLY FOR simulations IN WHICH PLASMIN WAS PRODUCED.\n",
    "[mPLi,index_mPLi]=sort(LfPLi);\n",
    "mediantimetoplasmin=median(mPLi)\n",
    "Q1timetoplasmin=mPLi(Lq)\n",
    "Q3timetoplasmin=mPLi(Uq)"
   ]
  },
  {
   "cell_type": "code",
   "execution_count": 17,
   "id": "fdbdd8fd-188d-48f7-a549-498c027eb809",
   "metadata": {},
   "outputs": [
    {
     "name": "stdout",
     "output_type": "stream",
     "text": [
      "maxPLi =  7\n",
      "medianPLinum =  1\n",
      "Q1PLinum =  1\n",
      "Q3PLinum =  2\n",
      "medianPLinum2 = 0\n",
      "Q1PLinum2 = 0\n",
      "Q3PLinum2 = 0\n"
     ]
    }
   ],
   "source": [
    "%FIND THE MAX NUMBER OF PLASMIN PRODUCED IN ANY RUN, AND THE MEDIAN, Q1 AND\n",
    "%Q3 OF PLASMIN PRODUCED IN A GIVEN RUN. ***SHOULD THIS BE FOR ALL 10,000\n",
    "%simulations, OR JUST THOSE THAT RESULT IN DEGRADATION? FOR NOW, HAVE IT BE JUST\n",
    "%FOR THOSE RESULTING IN DEGRADATION\n",
    "maxPLi=max(PLi)\n",
    "[mnPLi,index_mnPLi]=sort(LnPLi);\n",
    "medianPLinum=median(mnPLi)\n",
    "Q1PLinum=mnPLi(Lq)\n",
    "Q3PLinum=mnPLi(Uq)\n",
    "\n",
    "if simulations==10000\n",
    "    %IF I WANT MEDIAN OF ALL 10,000 simulations, UNCOMMENT BELOW\n",
    "    [mnPLi2,index_mnPLi2]=sort(PLin);\n",
    "    medianPLinum2=median(mnPLi2)\n",
    "    Q1PLinum2=mnPLi2(2500)\n",
    "    Q3PLinum2=mnPLi2(7501)\n",
    "\n",
    "elseif simulations==50000\n",
    "    %IF I WANT MEDIAN OF ALL 50,000 simulations, UNCOMMENT BELOW\n",
    "    [mnPLi2,index_mnPLi2]=sort(PLin);\n",
    "    medianPLinum2=median(mnPLi2)\n",
    "    Q1PLinum2=mnPLi2(12500)\n",
    "    Q3PLinum2=mnPLi2(37501)\n",
    "end"
   ]
  },
  {
   "cell_type": "code",
   "execution_count": 18,
   "id": "3203e768-5a5d-4384-9db3-76e5d42c8272",
   "metadata": {},
   "outputs": [],
   "source": [
    "%CREATE LYSIS TIME DISTRIBUTIONS, USING THE FACT THAT WE BINNED TPA LEAVING\n",
    "%TIMES BY PERCENT OF TOTAL simulations:\n",
    "sSlysismat=sort(Slysismat);\n",
    "for i=1:100\n",
    "    if length(find(sSlysismat(:,i)==6000))>0\n",
    "        ind6000v(i)=find(sSlysismat(:,i)==6000,1,'first');\n",
    "        if isempty(ind6000v(i))==1;\n",
    "            ind6000v(i)=-1;  %IF THERE ARE NO 6000 ENTRIES, DENOTE THIS BY A -1\n",
    "            no600simulations=5\n",
    "            tseclys=0;\n",
    "            lyscdf=0;\n",
    "        else\n",
    "            tseclys=sSlysismat(1:ind6000v(i),i);\n",
    "            lyscdf=[0.01:0.01:ind6000v(i)/100];\n",
    "        end\n",
    "    else\n",
    "        ind6000v(i)=999;\n",
    "    end\n",
    "end"
   ]
  },
  {
   "cell_type": "code",
   "execution_count": 19,
   "id": "e3137f38-60c0-4d70-8ec1-1d6a7f1ddcab",
   "metadata": {},
   "outputs": [],
   "source": [
    "%SAVE THE POSITION IN EACH COLUMN OF THE sSlysismat MATRIX THAT WE FIRST\n",
    "%HAVE NO LYSIS (I.E. FIRST HAVE A LYSIS TIME OF 6000 S). SO FOR EXAMPLE,\n",
    "%THE 5TH ENTRY OF THE lenind6000 VECTOR IS THE ROW NUMBER IN THE 5TH COLUMN\n",
    "%OF THE sSlysismat MATRIX FOR WHICH WE FIRST HAVE A 6000\n",
    "lenind6000=ind6000v';\n",
    "save(strcat(folder, '/lenlysisvect', fileCode), 'lenind6000', '-ascii', '-double');"
   ]
  },
  {
   "cell_type": "code",
   "execution_count": 20,
   "id": "b77c47c9-b07c-4a92-bd32-39881474e54b",
   "metadata": {},
   "outputs": [],
   "source": [
    "%SAVE A MATRIX OF THE LYSIS TIMES WITH EACH COLUMN CORRESPONDING TO 1% OF\n",
    "%THE NUMBER OF simulations. SO COLUMN 1 IS A LIST OF THE 100 (OUT OF 10,000) LYSIS\n",
    "%TIMES CORRESPONDING TO THE FIRST 100 TPA LEAVING TIMES. WE WRITE THE LYSIS\n",
    "%TIMES IN ASCENDING ORDER, AND 6000 MEANS LYSIS DID NOT OCCUR. COLUMN 49 IS\n",
    "%THE LYSIS TIMES CORRESPONDING TO THE 100 TPA TIMES FROM 4801-4900, WHEN\n",
    "%SORTED IN ASCENDING ORDER.\n",
    "save(strcat(folder, '/lysismat', fileCode), 'sSlysismat', '-ascii', '-double'); \n",
    "\n",
    "\n",
    "%PUT IN CODE TO SAVE THE MEDIAN (Q1,Q3) TIME TO FIRST PLASMIN!!!!!!"
   ]
  },
  {
   "cell_type": "code",
   "execution_count": null,
   "id": "2614977c-397b-4e54-8b4a-cbdb15afbb47",
   "metadata": {},
   "outputs": [],
   "source": []
  }
 ],
 "metadata": {
  "kernelspec": {
   "display_name": "Octave",
   "language": "octave",
   "name": "octave"
  },
  "language_info": {
   "file_extension": ".m",
   "help_links": [
    {
     "text": "GNU Octave",
     "url": "https://www.gnu.org/software/octave/support.html"
    },
    {
     "text": "Octave Kernel",
     "url": "https://github.com/Calysto/octave_kernel"
    },
    {
     "text": "MetaKernel Magics",
     "url": "https://metakernel.readthedocs.io/en/latest/source/README.html"
    }
   ],
   "mimetype": "text/x-octave",
   "name": "octave",
   "version": "7.1.0"
  }
 },
 "nbformat": 4,
 "nbformat_minor": 5
}
