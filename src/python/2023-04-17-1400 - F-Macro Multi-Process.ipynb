{
 "cells": [
  {
   "cell_type": "code",
   "execution_count": 1,
   "id": "c62a037a-f489-4457-890c-06c2b83a6a51",
   "metadata": {
    "tags": []
   },
   "outputs": [
    {
     "data": {
      "text/html": [
       "\n",
       "                <script type=\"application/javascript\" id=\"jupyter_black\">\n",
       "                (function() {\n",
       "                    if (window.IPython === undefined) {\n",
       "                        return\n",
       "                    }\n",
       "                    var msg = \"WARNING: it looks like you might have loaded \" +\n",
       "                        \"jupyter_black in a non-lab notebook with \" +\n",
       "                        \"`is_lab=True`. Please double check, and if \" +\n",
       "                        \"loading with `%load_ext` please review the README!\"\n",
       "                    console.log(msg)\n",
       "                    alert(msg)\n",
       "                })()\n",
       "                </script>\n",
       "                "
      ],
      "text/plain": [
       "<IPython.core.display.HTML object>"
      ]
     },
     "metadata": {},
     "output_type": "display_data"
    }
   ],
   "source": [
    "import black\n",
    "import jupyter_black\n",
    "\n",
    "jupyter_black.load(\n",
    "    lab=True,\n",
    "    line_length=110,\n",
    "    target_version=black.TargetVersion.PY310,\n",
    ")"
   ]
  },
  {
   "cell_type": "code",
   "execution_count": 2,
   "id": "a4019585-dea6-47b9-bf6e-b40c5022b51a",
   "metadata": {
    "tags": []
   },
   "outputs": [],
   "source": [
    "import os\n",
    "import re\n",
    "\n",
    "import numpy as np\n",
    "import matplotlib.pyplot as plt\n",
    "import matplotlib as mpl\n",
    "import pandas as pd\n",
    "\n",
    "from matplotlib.animation import FFMpegWriter, FuncAnimation\n",
    "from matplotlib.colors import BoundaryNorm, ListedColormap\n",
    "\n",
    "import lysis\n",
    "\n",
    "pd.reset_option(\"display.precision\")\n",
    "pd.set_option(\"display.float_format\", lambda x: f\"{x:,.3f}\")"
   ]
  },
  {
   "cell_type": "code",
   "execution_count": 3,
   "id": "1da30469-300e-4c4e-800a-570a8da4de25",
   "metadata": {},
   "outputs": [],
   "source": [
    "scenario_type = np.dtype(\n",
    "    [\n",
    "        (\"descriptor\", np.str_, 40),\n",
    "        (\"total_molecules\", int),\n",
    "        (\"pore_size\", float),  # in microns. Code requires cm\n",
    "        (\"fiber_diameter\", float),  # in microns. Needs to be added to pore_size to get grid_node_distance\n",
    "        (\"cols\", int),\n",
    "        (\"rows\", int),\n",
    "        (\"forced_unbind\", float),\n",
    "    ]\n",
    ")\n",
    "mechanism_type = np.dtype([(\"descriptor\", np.str_, 40), (\"executable\", np.str_, 40)])\n",
    "run_type = np.dtype(\n",
    "    [\n",
    "        (\"exp_code\", np.str_, 15),\n",
    "        (\"scenario\", np.str_, 40),\n",
    "        (\"mechanism\", np.str_, 40),\n",
    "        (\"seed\", int),\n",
    "        (\"running_time\", int),\n",
    "    ]\n",
    ")\n",
    "diameter_code = {\n",
    "    72.7: \"Q2\",\n",
    "    145.4: \"Q4\",\n",
    "}"
   ]
  },
  {
   "cell_type": "code",
   "execution_count": 4,
   "id": "0ded861c-e78b-4661-8cae-e75c9bbff8f2",
   "metadata": {},
   "outputs": [],
   "source": [
    "# seed sequence entropy: 3881821051554698152964433817123076384\n",
    "scenarios = np.array(\n",
    "    [\n",
    "        # (\"TN-L_9350\", 9_350, 1.0135, 72.7, 93, 121, 0.0852),\n",
    "        # (\"TN-L_307\", 307, 1.0135, 72.7, 93, 121, 0.0852),\n",
    "        (\"TN-D_684\", 684, 0.22, 72.7, 342, 144, 0.0852),\n",
    "        # (\"TN-D_9350\", 9_350, 0.22, 72.7, 342, 144, 0.0852),\n",
    "        (\"TN-D_307\", 307, 0.22, 72.7, 342, 144, 0.0852),\n",
    "        # (\"TK-L_3042\", 3_042, 1.0135, 145.4, 87, 67, 0.0729129),\n",
    "        # (\"TK-L_9350\", 9_350, 1.0135, 145.4, 87, 67, 0.0729129),\n",
    "        # (\"TK-L_307\", 307, 1.0135, 145.4, 87, 67, 0.0729129),\n",
    "        (\"TK-D_307\", 307, 0.22, 145.4, 274, 65, 0.0729129),\n",
    "        (\"TK-D_9350\", 9350, 0.22, 145.4, 274, 65, 0.0729129),\n",
    "    ],\n",
    "    dtype=scenario_type,\n",
    ")\n",
    "mechanisms = np.array(\n",
    "    [\n",
    "        (\"Into and along - Internal\", \"macro_diffuse_into_and_along__internal\"),\n",
    "    ],\n",
    "    dtype=mechanism_type,\n",
    ")"
   ]
  },
  {
   "cell_type": "code",
   "execution_count": 5,
   "id": "de1a1855-5774-4e90-80f2-e2376b5e9a3d",
   "metadata": {},
   "outputs": [],
   "source": [
    "in_file_code = \"_PLG2_tPA01_{input_code}.dat\"\n",
    "out_file_code = \"_{scenario_code}.dat\"\n",
    "\n",
    "slope_tolerance = 1e-5\n",
    "rng = np.random.default_rng(65463453)"
   ]
  },
  {
   "cell_type": "code",
   "execution_count": 6,
   "id": "5c5a1598-5e5d-4b9b-870c-d0a9ea072a28",
   "metadata": {},
   "outputs": [],
   "source": [
    "group_code = \"2023-04-17-14\"\n",
    "runs = np.array(\n",
    "    [\n",
    "        # (group_code + \"00\", \"TN-L_9350\", \"Into and along - Internal\", 1_034_836_197, 0),\n",
    "        # (group_code + \"01\", \"TN-L_307\", \"Into and along - Internal\", 2_464_079_704, 0),\n",
    "        (group_code + \"02\", \"TN-D_684\", \"Into and along - Internal\", 982_919_027, 0),\n",
    "        # (group_code + \"03\", \"TN-D_9350\", \"Into and along - Internal\", 129_314_213, 0),\n",
    "        (group_code + \"04\", \"TN-D_307\", \"Into and along - Internal\", 2_705_873_059, 0),\n",
    "        # (group_code + \"05\", \"TK-L_3042\", \"Into and along - Internal\", 2_104_158_012, 0),\n",
    "        # (group_code + \"06\", \"TK-L_9350\", \"Into and along - Internal\", 2_608_028_918, 0),\n",
    "        # (group_code + \"07\", \"TK-L_307\", \"Into and along - Internal\", 1_819_293_232, 0),\n",
    "        (group_code + \"08\", \"TK-D_307\", \"Into and along - Internal\", 3_128_495_922, 0),\n",
    "        (group_code + \"09\", \"TK-D_9350\", \"Into and along - Internal\", 106_672_317, 0),\n",
    "    ],\n",
    "    dtype=run_type,\n",
    ")"
   ]
  },
  {
   "cell_type": "code",
   "execution_count": 7,
   "id": "15844fe3-09f2-4732-9c0f-65a3d16d6c29",
   "metadata": {},
   "outputs": [],
   "source": [
    "index = pd.Index(runs[\"scenario\"], name=\"Scenario\")\n",
    "# index = [run['experiment'] + \" - \" + run['code'] for run in runs]\n",
    "statistics = [\"Mean front velocity\", \"Mean of Standard Deviation of front velocity\"]\n",
    "results = pd.DataFrame(index=index, columns=statistics)\n",
    "# front_velocity_table = pd.DataFrame(index=mechanisms[\"descriptor\"], columns=scenarios[\"descriptor\"])"
   ]
  },
  {
   "cell_type": "code",
   "execution_count": 8,
   "id": "9ff5e52c-f778-4f6a-b47c-2a13e17e1bd3",
   "metadata": {},
   "outputs": [],
   "source": [
    "colormap_f = plt.cm.cividis(np.arange(plt.cm.cividis.N))\n",
    "colormap_f[:, 3] = 0.3\n",
    "colormap_f = ListedColormap(colormap_f)\n",
    "colormap_f.set_extremes(bad=\"#0c21c4\", under=\"w\", over=\"#0c21c4\")\n",
    "colormap_m = ListedColormap([\"green\", \"#00fffb\"])\n",
    "bounds = [0, 0.5, 1]\n",
    "norm_m = BoundaryNorm(bounds, colormap_m.N)"
   ]
  },
  {
   "cell_type": "code",
   "execution_count": 9,
   "id": "95057110-58f5-42db-982c-06a1d6a1027b",
   "metadata": {
    "tags": []
   },
   "outputs": [],
   "source": [
    "def load_fortran_files(exp, file_code):\n",
    "    n_save = np.fromfile(os.path.join(e.os_path, \"Nsave\" + file_code), dtype=np.int32)\n",
    "    n_save += 1\n",
    "    raw_deg = np.fromfile(os.path.join(e.os_path, \"deg\" + file_code))\n",
    "    raw_tsave = np.fromfile(os.path.join(e.os_path, \"tsave\" + file_code))\n",
    "    raw_mol_location = np.fromfile(os.path.join(e.os_path, \"m_loc\" + file_code), dtype=np.int32)\n",
    "    raw_mol_status = np.fromfile(os.path.join(e.os_path, \"m_bound\" + file_code), dtype=np.int32)\n",
    "    raw_mol_status = raw_mol_status.astype(np.bool_)\n",
    "    raw_mfpt = np.fromfile(os.path.join(e.os_path, \"mfpt\" + file_code))\n",
    "\n",
    "    mfpt = raw_mfpt.reshape(raw_mfpt.size // e.macro_params.total_molecules, e.macro_params.total_molecules)\n",
    "    if mfpt.shape[0] > e.macro_params.total_trials:\n",
    "        mfpt = mfpt[: e.macro_params.total_trials]\n",
    "    # mfpt = mfpt[mfpt[:, -1] != 0]\n",
    "\n",
    "    raw_mapped_deg = -raw_deg\n",
    "    raw_mapped_deg[raw_deg == 0] = np.max(raw_tsave) + e.macro_params.save_interval  # float('inf') #\n",
    "    raw_mapped_deg[raw_deg == -1] = 0\n",
    "\n",
    "    mapped_deg = []\n",
    "    tsave = []\n",
    "    mol_location = []\n",
    "    mol_status = []\n",
    "    start = 0\n",
    "    end = 0\n",
    "    for r in range(e.macro_params.total_trials):\n",
    "        start = end\n",
    "        end += n_save[r]\n",
    "        mapped_deg.append(\n",
    "            raw_mapped_deg[start * e.macro_params.total_edges : end * e.macro_params.total_edges].reshape(\n",
    "                n_save[r], e.macro_params.total_edges\n",
    "            )\n",
    "        )\n",
    "        mol_location.append(\n",
    "            raw_mol_location[\n",
    "                start * e.macro_params.total_molecules : end * e.macro_params.total_molecules\n",
    "            ].reshape(n_save[r], e.macro_params.total_molecules)\n",
    "            - 1\n",
    "        )\n",
    "        mol_status.append(\n",
    "            raw_mol_status[\n",
    "                start * e.macro_params.total_molecules : end * e.macro_params.total_molecules\n",
    "            ].reshape(n_save[r], e.macro_params.total_molecules)\n",
    "        )\n",
    "        tsave.append(raw_tsave[start:end])\n",
    "    return n_save, mapped_deg, tsave, mfpt, mol_location, mol_status\n",
    "\n",
    "\n",
    "def calculate_time_row_exposed(exp, deg):\n",
    "    exposed_time = np.empty(\n",
    "        (exp.macro_params.total_trials, exp.macro_params.rows - 1, exp.macro_params.cols), dtype=np.float_\n",
    "    )\n",
    "    for run in range(exp.macro_params.total_trials):\n",
    "        for j in range(exp.macro_params.cols):\n",
    "            for i in range(exp.macro_params.rows - 1):\n",
    "                if i == 0:\n",
    "                    exposed_time[run, i, j] = 0\n",
    "                else:\n",
    "                    k = lysis.to_fortran_edge_index(i, j, exp.macro_params.rows, exp.macro_params.cols)\n",
    "                    exposed_time[run, i, j] = max(exposed_time[run, i - 1, j], deg[run][-1, k])\n",
    "    # exposed_time = 10* np.ceil(exposed_time / 10)\n",
    "    return exposed_time / 60\n",
    "\n",
    "\n",
    "def find_degradation_fronts(exp, exposed_time, y_distance, tsave):\n",
    "    deg_fronts = []\n",
    "    for r in range(exp.macro_params.total_trials):\n",
    "        run_deg_fronts = []\n",
    "        for j in range(exp.macro_params.cols):\n",
    "            col_deg_front = []\n",
    "            for i in range(1, exp.macro_params.rows - 1):\n",
    "                if exposed_time[r, i - 1, j] < exposed_time[r, i, j] < tsave[r][-1] + 1:\n",
    "                    col_deg_front.append([exposed_time[r, i, j], y_distance[i]])\n",
    "            run_deg_fronts.append(np.array(col_deg_front).T)\n",
    "        deg_fronts.append(run_deg_fronts)\n",
    "    return deg_fronts\n",
    "\n",
    "\n",
    "# TODO(bpaynter): Change this later to do mean and std of all columns across all runs\n",
    "def mean_front_velocity(exp, deg_fronts):\n",
    "    run_mean_velocity = np.empty(exp.macro_params.total_trials, dtype=np.float_)\n",
    "    run_std_velocity = np.empty(exp.macro_params.total_trials, dtype=np.float_)\n",
    "    for run in range(exp.macro_params.total_trials):\n",
    "        front_velocity = np.empty(exp.macro_params.cols, dtype=np.float_)\n",
    "        for j in range(exp.macro_params.cols):\n",
    "            b, m = np.polynomial.polynomial.polyfit(deg_fronts[run][j][0], deg_fronts[run][j][1], 1)\n",
    "            front_velocity[j] = m\n",
    "        run_mean_velocity[run] = np.mean(front_velocity)\n",
    "        run_std_velocity[run] = np.std(front_velocity)\n",
    "    return np.mean(run_mean_velocity), np.mean(run_std_velocity)\n",
    "\n",
    "\n",
    "def plot_front_degradation(exp, file_code, deg_fronts, deg):\n",
    "    fig = plt.figure(figsize=(7, 5))\n",
    "    ax = fig.add_axes([0, 0, 1, 1])\n",
    "    ax.set_axis_on()\n",
    "    ax.set_xlim(0, (max([np.max(deg_run[-1, :]) for deg_run in deg]) // 60) + 1)\n",
    "    ax.set_ylim(\n",
    "        (exp.macro_params.empty_rows - 1) * e.macro_params.grid_node_distance,\n",
    "        (exp.macro_params.rows - 1) * exp.macro_params.grid_node_distance,\n",
    "    )\n",
    "    for run in range(exp.macro_params.total_trials):\n",
    "        for j in range(exp.macro_params.cols):\n",
    "            plt.plot(deg_fronts[run][j][0], deg_fronts[run][j][1], linewidth=1)\n",
    "    fig.savefig(os.path.join(exp.os_path, \"deg_fronts\" + file_code[:-4] + \".png\"), bbox_inches=\"tight\")\n",
    "    plt.close()\n",
    "\n",
    "\n",
    "def find_degraded_percent(exp, deg, tsave):\n",
    "    degraded_percent = []\n",
    "    for r in range(exp.macro_params.total_trials):\n",
    "        run_degraded_percent = np.empty(deg[r].shape[0], dtype=np.float_)\n",
    "        for t in range(deg[r].shape[0]):\n",
    "            run_degraded_percent[t] = np.count_nonzero(deg[r][t] <= tsave[r][t])\n",
    "        run_degraded_percent -= exp.macro_params.empty_rows * exp.macro_params.full_row\n",
    "        degraded_percent.append(run_degraded_percent / exp.macro_params.total_fibers)\n",
    "    return degraded_percent\n",
    "\n",
    "\n",
    "def mean_degradation_rate(exp, degraded_percent, tsave):\n",
    "    degradation_rate = np.empty(exp.macro_params.total_trials, dtype=np.float_)\n",
    "    offset = np.empty(exp.macro_params.total_trials, dtype=np.float_)\n",
    "    deg_start_time = np.empty(exp.macro_params.total_trials, dtype=np.float_)\n",
    "    for r in range(exp.macro_params.total_trials):\n",
    "        slope = np.empty(degraded_percent[r].shape[0], dtype=np.float_)\n",
    "        slope[0] = degraded_percent[r][0]\n",
    "        for t in range(1, degraded_percent[r].shape[0]):\n",
    "            slope[t] = degraded_percent[r][t] - degraded_percent[r][t - 1]\n",
    "        degradation_happening = slope > slope.max() / 2\n",
    "        s = np.argmax(degradation_happening)\n",
    "        b, m = np.polynomial.polynomial.polyfit(\n",
    "            tsave[r][degradation_happening] / 60, degraded_percent[r][degradation_happening], 1\n",
    "        )\n",
    "        degradation_rate[r] = m\n",
    "        offset[r] = b\n",
    "        deg_start_time[r] = tsave[r][s] / 60\n",
    "    return degradation_rate, offset, deg_start_time\n",
    "\n",
    "\n",
    "def plot_degradation_percent(exp, degraded_percent, tsave, degradation_rate, offset):\n",
    "    fig = plt.figure(figsize=(7, 5))\n",
    "    ax = fig.add_axes([0, 0, 1, 1])\n",
    "    ax.set_xlim(0, (max([np.max(deg_run[-1, :]) for deg_run in deg]) // 60) + 1)\n",
    "    ax.set_ylim(-0.1, 1.1)\n",
    "    for r in range(exp.macro_params.total_trials):\n",
    "        plt.plot(tsave[r] / 60, degraded_percent[r])\n",
    "        plt.plot(\n",
    "            np.arange((max([np.max(deg_run[-1, :]) for deg_run in deg]) // 60) + 1) * degradation_rate[r]\n",
    "            + offset[r],\n",
    "            color=\"b\",\n",
    "            alpha=0.5,\n",
    "            zorder=0.1,\n",
    "        )\n",
    "    fig.savefig(os.path.join(exp.os_path, \"deg_rate\" + file_code[:-4] + \".png\"), bbox_inches=\"tight\")\n",
    "    plt.close()\n",
    "\n",
    "\n",
    "def get_unbind_amounts(exp, file_code):\n",
    "    macro_unbind_pattern = re.compile(r\"countmacrounbd=\\s*(\\d+)\")\n",
    "    micro_unbind_pattern = re.compile(r\"countmicrounbd=\\s*(\\d+)\")\n",
    "    log_file_name = os.path.join(exp.os_path, \"macro\" + file_code[:-4] + \".txt\")\n",
    "    with open(log_file_name, \"r\") as file:\n",
    "        log_text = file.read()\n",
    "    macro_unbinds = re.findall(macro_unbind_pattern, log_text)\n",
    "    micro_unbinds = re.findall(micro_unbind_pattern, log_text)\n",
    "    return np.array(macro_unbinds, dtype=int), np.array(micro_unbinds, dtype=int)\n",
    "\n",
    "\n",
    "def plot_coords(i, j):\n",
    "    x = j\n",
    "    y = -i\n",
    "    if j % 3 == 0:\n",
    "        return x / 3.0, y - 0.5\n",
    "    if j % 3 == 1:\n",
    "        return (x - 1) / 3.0, y\n",
    "    if j % 3 == 2:\n",
    "        return (x - 2) / 3.0 + 0.5, y\n",
    "\n",
    "\n",
    "def get_edge_index(exp):\n",
    "    edge_index = np.empty(exp.macro_params.total_edges, dtype=tuple)\n",
    "    for k in range(exp.macro_params.total_edges):\n",
    "        edge_index[k] = lysis.from_fortran_edge_index(k, exp.macro_params.rows, exp.macro_params.cols)\n",
    "    return edge_index\n",
    "\n",
    "\n",
    "def animation_data(exp, edge_index, mol_location):\n",
    "    x_f = np.empty(exp.macro_params.total_edges, dtype=float)\n",
    "    y_f = np.empty(exp.macro_params.total_edges, dtype=float)\n",
    "    for k in range(exp.macro_params.total_edges):\n",
    "        i, j = edge_index[k]\n",
    "        x_f[k], y_f[k] = plot_coords(i, j)\n",
    "    d_x = (rng.random(size=exp.macro_params.total_molecules) - 0.5) / 2.5\n",
    "    d_y = (rng.random(size=exp.macro_params.total_molecules) - 0.5) / 2.5\n",
    "    x_m = []\n",
    "    y_m = []\n",
    "    for r in range(exp.macro_params.total_trials):\n",
    "        x = np.empty((n_save[r], exp.macro_params.total_molecules), dtype=np.float_)\n",
    "        y = np.empty((n_save[r], exp.macro_params.total_molecules), dtype=np.float_)\n",
    "        for t in range(n_save[r]):\n",
    "            for k in range(exp.macro_params.total_molecules):\n",
    "                i, j = edge_index[mol_location[r][t, k]]\n",
    "                x[t, k], y[t, k] = plot_coords(i, j)\n",
    "            x[t] += d_x\n",
    "            y[t] += d_y\n",
    "        x_m.append(x)\n",
    "        y_m.append(y)\n",
    "    return x_f, y_f, x_m, y_m\n",
    "\n",
    "\n",
    "def create_animation(exp, file_code, edge_index, deg, mol_status, tsave, x_f, y_f, x_m, y_m):\n",
    "    for run in range(1):\n",
    "        fig = plt.figure(figsize=(121, 121), dpi=10)\n",
    "        ax = fig.add_axes([0, 0, 1, 1])\n",
    "        ax.set_axis_off()\n",
    "        vmin = 0\n",
    "        vmax = exp.macro_params.cols - 1\n",
    "\n",
    "        ydiff = exp.macro_params.rows - exp.macro_params.cols\n",
    "\n",
    "        ax.set_xlim(vmin - 0.25, vmax + 0.25)\n",
    "        ax.set_ylim(-vmax - ydiff - 0.25, -vmin + 0.25)\n",
    "        ax.set_aspect(\"equal\")\n",
    "        fig.canvas.draw()\n",
    "        title = ax.annotate(f\"t = {tsave[run][0]:.1f} sec\", (0, 0), zorder=100)\n",
    "        s = (ax.get_window_extent().width / (vmax - vmin + 0.5) * 72 / (2 * fig.dpi)) ** 2\n",
    "        scatt_f = ax.scatter(\n",
    "            x_f,\n",
    "            y_f,\n",
    "            s=s,\n",
    "            marker=\"s\",\n",
    "            linewidths=0,\n",
    "            c=deg[run][0],\n",
    "            cmap=colormap_f,\n",
    "            vmin=1,\n",
    "            vmax=deg[run][-1][deg[run][-1] < max([max(t) for t in tsave])].max(),\n",
    "        )\n",
    "        scatt_m = ax.scatter(\n",
    "            x_m[run][0],\n",
    "            y_m[run][0],\n",
    "            s=s / 2.5,\n",
    "            marker=\"o\",\n",
    "            linewidths=0,\n",
    "            c=mol_status[run][0],\n",
    "            cmap=colormap_m,\n",
    "            norm=norm_m,\n",
    "        )\n",
    "\n",
    "        def update(frame_number):\n",
    "            scatt_f.set_array(deg[run][frame_number])\n",
    "            scatt_m.set_array(mol_status[run][frame_number])\n",
    "            scatt_m.set_offsets(np.append((x_m[run][frame_number],), (y_m[run][frame_number],), axis=0).T)\n",
    "            title.set_text(f\"t = {tsave[run][frame_number]:.1f} sec\")\n",
    "\n",
    "        animation = FuncAnimation(fig, update, frames=np.arange(n_save[run]), interval=200)\n",
    "\n",
    "        FFwriter = FFMpegWriter(fps=10)\n",
    "        animation.save(\n",
    "            os.path.join(e.os_path, f\"combined_animation_{run:02}\" + file_code[:-4] + \".mp4\"), writer=FFwriter\n",
    "        )\n",
    "        plt.close()\n",
    "\n",
    "\n",
    "def create_animation_stills(exp, file_code, edge_index, deg, mol_status, tsave, x_f, y_f, x_m, y_m):\n",
    "    for run in range(1):\n",
    "        for time in [10 * 60, 20 * 60, 30 * 60]:\n",
    "            a = np.argwhere(tsave[0] >= time)\n",
    "            if a.size > 0:\n",
    "                frame = int(a[0])\n",
    "            else:\n",
    "                frame = -1\n",
    "            fig = plt.figure(figsize=(12.1, 12.1), dpi=100)\n",
    "            ax = fig.add_axes([0, 0, 1, 1])\n",
    "            ax.set_axis_off()\n",
    "            vmin = 0\n",
    "            vmax = exp.macro_params.cols - 1\n",
    "\n",
    "            ydiff = exp.macro_params.rows - exp.macro_params.cols\n",
    "\n",
    "            ax.set_xlim(vmin - 0.25, vmax + 0.25)\n",
    "            ax.set_ylim(-vmax - ydiff - 0.25, -vmin + 0.25)\n",
    "            ax.set_aspect(\"equal\")\n",
    "            fig.canvas.draw()\n",
    "            # title = ax.annotate(f\"t = {tsave[run][frame]:.1f} sec\", (0, 0), zorder=100)\n",
    "            s = (ax.get_window_extent().width / (vmax - vmin + 0.5) * 72 / (2 * fig.dpi)) ** 2\n",
    "            scatt_f = ax.scatter(\n",
    "                x_f,\n",
    "                y_f,\n",
    "                s=s,\n",
    "                marker=\"s\",\n",
    "                linewidths=0,\n",
    "                c=deg[run][frame],\n",
    "                cmap=colormap_f,\n",
    "                vmin=1,\n",
    "                vmax=deg[run][n_save[run] - 1][\n",
    "                    deg[run][n_save[run] - 1] < max([max(t) for t in tsave])\n",
    "                ].max(),\n",
    "            )\n",
    "            scatt_m = ax.scatter(\n",
    "                x_m[run][frame],\n",
    "                y_m[run][frame],\n",
    "                s=s / 2.5,\n",
    "                marker=\"o\",\n",
    "                linewidths=0,\n",
    "                c=mol_status[run][frame],\n",
    "                cmap=colormap_m,\n",
    "                norm=norm_m,\n",
    "            )\n",
    "\n",
    "            fig.savefig(\n",
    "                os.path.join(e.os_path, f\"fiber_grid_plot_r{run:02}_t{time:04}\" + file_code[:-4] + \".png\"),\n",
    "                bbox_inches=\"tight\",\n",
    "            )\n",
    "            plt.close()"
   ]
  },
  {
   "cell_type": "code",
   "execution_count": 10,
   "id": "24547450-aec3-4762-8e9a-8a3d9bbc24ea",
   "metadata": {},
   "outputs": [
    {
     "name": "stdout",
     "output_type": "stream",
     "text": [
      "2023-04-17-1402 _TN-D_684.dat\n"
     ]
    },
    {
     "name": "stderr",
     "output_type": "stream",
     "text": [
      "/home/bpaynter/.conda/envs/lysis/lib/python3.10/site-packages/numpy/polynomial/polynomial.py:1362: RankWarning: The fit may be poorly conditioned\n",
      "  return pu._fit(polyvander, x, y, deg, rcond, full, w)\n"
     ]
    },
    {
     "name": "stdout",
     "output_type": "stream",
     "text": [
      "2023-04-17-1404 _TN-D_307.dat\n"
     ]
    },
    {
     "name": "stderr",
     "output_type": "stream",
     "text": [
      "/home/bpaynter/.conda/envs/lysis/lib/python3.10/site-packages/numpy/polynomial/polynomial.py:1362: RankWarning: The fit may be poorly conditioned\n",
      "  return pu._fit(polyvander, x, y, deg, rcond, full, w)\n"
     ]
    },
    {
     "name": "stdout",
     "output_type": "stream",
     "text": [
      "2023-04-17-1408 _TK-D_307.dat\n"
     ]
    },
    {
     "name": "stderr",
     "output_type": "stream",
     "text": [
      "/home/bpaynter/.conda/envs/lysis/lib/python3.10/site-packages/numpy/polynomial/polynomial.py:1362: RankWarning: The fit may be poorly conditioned\n",
      "  return pu._fit(polyvander, x, y, deg, rcond, full, w)\n"
     ]
    },
    {
     "name": "stdout",
     "output_type": "stream",
     "text": [
      "2023-04-17-1409 _TK-D_9350.dat\n"
     ]
    },
    {
     "name": "stderr",
     "output_type": "stream",
     "text": [
      "/home/bpaynter/.conda/envs/lysis/lib/python3.10/site-packages/numpy/polynomial/polynomial.py:1362: RankWarning: The fit may be poorly conditioned\n",
      "  return pu._fit(polyvander, x, y, deg, rcond, full, w)\n"
     ]
    }
   ],
   "source": [
    "for run in runs:\n",
    "    mech = mechanisms[mechanisms[\"descriptor\"] == run[\"mechanism\"]][0]\n",
    "    scen = scenarios[scenarios[\"descriptor\"] == run[\"scenario\"]][0]\n",
    "    e = lysis.util.Experiment(os.path.join(\"..\", \"..\", \"data\"), experiment_code=run[\"exp_code\"])\n",
    "    # e = lysis.util.Experiment(\n",
    "    #     os.path.join(\"/\", \"home\", \"bpaynter\", \"Archive\", \"lysis_data\"), experiment_code=run[\"exp_code\"]\n",
    "    # )\n",
    "    e.read_file()\n",
    "    y_distance = np.arange(e.macro_params.rows - 1) * e.macro_params.grid_node_distance\n",
    "    file_code = out_file_code.format(scenario_code=run[\"scenario\"])\n",
    "    print(run[\"exp_code\"], file_code)\n",
    "    n_save, deg, tsave, mfpt, mol_location, mol_status = load_fortran_files(e, file_code)\n",
    "    exposed_time = calculate_time_row_exposed(e, deg)\n",
    "    deg_fronts = find_degradation_fronts(e, exposed_time, y_distance, tsave)\n",
    "    plot_front_degradation(e, file_code, deg_fronts, deg)\n",
    "    m, sd = mean_front_velocity(e, deg_fronts)\n",
    "    results.loc[run[\"scenario\"], \"Mean front velocity\"] = m\n",
    "    results.loc[run[\"scenario\"], \"Mean of Standard Deviation of front velocity\"] = sd\n",
    "\n",
    "    deg_percent = find_degraded_percent(e, deg, tsave)\n",
    "    results.loc[run[\"scenario\"], \"Mean degradation percent\"] = (\n",
    "        np.mean([run_deg_percent[-1] for run_deg_percent in deg_percent]) * 100\n",
    "    )\n",
    "    deg_rate, offset, deg_start = mean_degradation_rate(e, deg_percent, tsave)\n",
    "    results.loc[run[\"scenario\"], \"Mean degradation rate\"] = np.mean(deg_rate) * 100\n",
    "    results.loc[run[\"scenario\"], \"Standard deviation of degradation rate\"] = np.std(deg_rate) * 100\n",
    "    results.loc[run[\"scenario\"], \"Mean degradation start time\"] = np.mean(deg_start)\n",
    "    results.loc[run[\"scenario\"], \"Standard deviation of degradation start time\"] = np.std(deg_start)\n",
    "    plot_degradation_percent(e, deg_percent, tsave, deg_rate, offset)\n",
    "\n",
    "    results.loc[run[\"scenario\"], \"Number of molecules that reached the back row\"] = np.mean(\n",
    "        np.count_nonzero(mfpt > 0, axis=1)\n",
    "    )\n",
    "    results.loc[run[\"scenario\"], \"Percent of molecules that reached the back row\"] = (\n",
    "        np.mean(np.count_nonzero(mfpt > 0, axis=1)) / e.macro_params.total_molecules * 100\n",
    "    )\n",
    "    results.loc[run[\"scenario\"], \"Mean first passage time (min)\"] = np.mean(mfpt[mfpt > 0] / 60)\n",
    "    results.loc[run[\"scenario\"], \"Standard deviation of first passage time\"] = np.std(mfpt[mfpt > 0] / 60)\n",
    "    macro_unbinds, micro_unbinds = get_unbind_amounts(e, file_code)\n",
    "    if macro_unbinds.size > 0:\n",
    "        results.loc[run[\"scenario\"], \"Mean number of macroscale unbinds\"] = np.mean(macro_unbinds)\n",
    "        results.loc[run[\"scenario\"], \"Standard deviation in number of macroscale unbinds\"] = np.std(\n",
    "            macro_unbinds\n",
    "        )\n",
    "    if micro_unbinds.size > 0:\n",
    "        results.loc[run[\"scenario\"], \"Mean number of microscale unbinds\"] = np.mean(micro_unbinds)\n",
    "        results.loc[run[\"scenario\"], \"Standard deviation in number of microscale unbinds\"] = np.std(\n",
    "            micro_unbinds\n",
    "        )\n",
    "    edge_index = get_edge_index(e)\n",
    "    x_f, y_f, x_m, y_m = animation_data(e, edge_index, mol_location)\n",
    "    create_animation(e, file_code, edge_index, deg, mol_status, tsave, x_f, y_f, x_m, y_m)\n",
    "    create_animation_stills(e, file_code, edge_index, deg, mol_status, tsave, x_f, y_f, x_m, y_m)"
   ]
  },
  {
   "cell_type": "code",
   "execution_count": 11,
   "id": "fc101d23-29e0-4f7c-a8a9-09f383d315f3",
   "metadata": {},
   "outputs": [
    {
     "data": {
      "text/html": [
       "<div>\n",
       "<style scoped>\n",
       "    .dataframe tbody tr th:only-of-type {\n",
       "        vertical-align: middle;\n",
       "    }\n",
       "\n",
       "    .dataframe tbody tr th {\n",
       "        vertical-align: top;\n",
       "    }\n",
       "\n",
       "    .dataframe thead th {\n",
       "        text-align: right;\n",
       "    }\n",
       "</style>\n",
       "<table border=\"1\" class=\"dataframe\">\n",
       "  <thead>\n",
       "    <tr style=\"text-align: right;\">\n",
       "      <th></th>\n",
       "      <th>Mean front velocity</th>\n",
       "      <th>Mean of Standard Deviation of front velocity</th>\n",
       "      <th>Mean degradation percent</th>\n",
       "      <th>Mean degradation rate</th>\n",
       "      <th>Standard deviation of degradation rate</th>\n",
       "      <th>Mean degradation start time</th>\n",
       "      <th>Standard deviation of degradation start time</th>\n",
       "      <th>Number of molecules that reached the back row</th>\n",
       "      <th>Percent of molecules that reached the back row</th>\n",
       "      <th>Mean first passage time (min)</th>\n",
       "      <th>Standard deviation of first passage time</th>\n",
       "      <th>Mean number of macroscale unbinds</th>\n",
       "      <th>Standard deviation in number of macroscale unbinds</th>\n",
       "      <th>Mean number of microscale unbinds</th>\n",
       "      <th>Standard deviation in number of microscale unbinds</th>\n",
       "    </tr>\n",
       "    <tr>\n",
       "      <th>Scenario</th>\n",
       "      <th></th>\n",
       "      <th></th>\n",
       "      <th></th>\n",
       "      <th></th>\n",
       "      <th></th>\n",
       "      <th></th>\n",
       "      <th></th>\n",
       "      <th></th>\n",
       "      <th></th>\n",
       "      <th></th>\n",
       "      <th></th>\n",
       "      <th></th>\n",
       "      <th></th>\n",
       "      <th></th>\n",
       "      <th></th>\n",
       "    </tr>\n",
       "  </thead>\n",
       "  <tbody>\n",
       "    <tr>\n",
       "      <th>TN-D_684</th>\n",
       "      <td>0.130</td>\n",
       "      <td>0.051</td>\n",
       "      <td>4.392</td>\n",
       "      <td>0.149</td>\n",
       "      <td>0.003</td>\n",
       "      <td>0.750</td>\n",
       "      <td>0.083</td>\n",
       "      <td>681</td>\n",
       "      <td>99.693</td>\n",
       "      <td>4.629</td>\n",
       "      <td>4.760</td>\n",
       "      <td>281.500</td>\n",
       "      <td>14.087</td>\n",
       "      <td>3,573.000</td>\n",
       "      <td>56.059</td>\n",
       "    </tr>\n",
       "    <tr>\n",
       "      <th>TN-D_307</th>\n",
       "      <td>0.133</td>\n",
       "      <td>0.024</td>\n",
       "      <td>1.998</td>\n",
       "      <td>0.068</td>\n",
       "      <td>0.002</td>\n",
       "      <td>0.733</td>\n",
       "      <td>0.111</td>\n",
       "      <td>306</td>\n",
       "      <td>99.902</td>\n",
       "      <td>4.504</td>\n",
       "      <td>4.690</td>\n",
       "      <td>121.600</td>\n",
       "      <td>7.432</td>\n",
       "      <td>1,619.000</td>\n",
       "      <td>42.856</td>\n",
       "    </tr>\n",
       "    <tr>\n",
       "      <th>TK-D_307</th>\n",
       "      <td>0.159</td>\n",
       "      <td>0.049</td>\n",
       "      <td>7.310</td>\n",
       "      <td>0.260</td>\n",
       "      <td>0.004</td>\n",
       "      <td>2.483</td>\n",
       "      <td>0.320</td>\n",
       "      <td>307</td>\n",
       "      <td>100.000</td>\n",
       "      <td>3.189</td>\n",
       "      <td>3.785</td>\n",
       "      <td>46.900</td>\n",
       "      <td>3.390</td>\n",
       "      <td>1,371.600</td>\n",
       "      <td>35.945</td>\n",
       "    </tr>\n",
       "    <tr>\n",
       "      <th>TK-D_9350</th>\n",
       "      <td>1.145</td>\n",
       "      <td>3.877</td>\n",
       "      <td>100.000</td>\n",
       "      <td>6.015</td>\n",
       "      <td>0.029</td>\n",
       "      <td>2.017</td>\n",
       "      <td>0.050</td>\n",
       "      <td>9350</td>\n",
       "      <td>100.000</td>\n",
       "      <td>2.988</td>\n",
       "      <td>3.221</td>\n",
       "      <td>44,152.700</td>\n",
       "      <td>101.926</td>\n",
       "      <td>26,034.900</td>\n",
       "      <td>158.665</td>\n",
       "    </tr>\n",
       "  </tbody>\n",
       "</table>\n",
       "</div>"
      ],
      "text/plain": [
       "          Mean front velocity Mean of Standard Deviation of front velocity  \\\n",
       "Scenario                                                                     \n",
       "TN-D_684                0.130                                        0.051   \n",
       "TN-D_307                0.133                                        0.024   \n",
       "TK-D_307                0.159                                        0.049   \n",
       "TK-D_9350               1.145                                        3.877   \n",
       "\n",
       "           Mean degradation percent  Mean degradation rate  \\\n",
       "Scenario                                                     \n",
       "TN-D_684                      4.392                  0.149   \n",
       "TN-D_307                      1.998                  0.068   \n",
       "TK-D_307                      7.310                  0.260   \n",
       "TK-D_9350                   100.000                  6.015   \n",
       "\n",
       "           Standard deviation of degradation rate  \\\n",
       "Scenario                                            \n",
       "TN-D_684                                    0.003   \n",
       "TN-D_307                                    0.002   \n",
       "TK-D_307                                    0.004   \n",
       "TK-D_9350                                   0.029   \n",
       "\n",
       "           Mean degradation start time  \\\n",
       "Scenario                                 \n",
       "TN-D_684                         0.750   \n",
       "TN-D_307                         0.733   \n",
       "TK-D_307                         2.483   \n",
       "TK-D_9350                        2.017   \n",
       "\n",
       "           Standard deviation of degradation start time  \\\n",
       "Scenario                                                  \n",
       "TN-D_684                                          0.083   \n",
       "TN-D_307                                          0.111   \n",
       "TK-D_307                                          0.320   \n",
       "TK-D_9350                                         0.050   \n",
       "\n",
       "           Number of molecules that reached the back row  \\\n",
       "Scenario                                                   \n",
       "TN-D_684                                             681   \n",
       "TN-D_307                                             306   \n",
       "TK-D_307                                             307   \n",
       "TK-D_9350                                           9350   \n",
       "\n",
       "           Percent of molecules that reached the back row  \\\n",
       "Scenario                                                    \n",
       "TN-D_684                                           99.693   \n",
       "TN-D_307                                           99.902   \n",
       "TK-D_307                                          100.000   \n",
       "TK-D_9350                                         100.000   \n",
       "\n",
       "           Mean first passage time (min)  \\\n",
       "Scenario                                   \n",
       "TN-D_684                           4.629   \n",
       "TN-D_307                           4.504   \n",
       "TK-D_307                           3.189   \n",
       "TK-D_9350                          2.988   \n",
       "\n",
       "           Standard deviation of first passage time  \\\n",
       "Scenario                                              \n",
       "TN-D_684                                      4.760   \n",
       "TN-D_307                                      4.690   \n",
       "TK-D_307                                      3.785   \n",
       "TK-D_9350                                     3.221   \n",
       "\n",
       "           Mean number of macroscale unbinds  \\\n",
       "Scenario                                       \n",
       "TN-D_684                             281.500   \n",
       "TN-D_307                             121.600   \n",
       "TK-D_307                              46.900   \n",
       "TK-D_9350                         44,152.700   \n",
       "\n",
       "           Standard deviation in number of macroscale unbinds  \\\n",
       "Scenario                                                        \n",
       "TN-D_684                                              14.087    \n",
       "TN-D_307                                               7.432    \n",
       "TK-D_307                                               3.390    \n",
       "TK-D_9350                                            101.926    \n",
       "\n",
       "           Mean number of microscale unbinds  \\\n",
       "Scenario                                       \n",
       "TN-D_684                           3,573.000   \n",
       "TN-D_307                           1,619.000   \n",
       "TK-D_307                           1,371.600   \n",
       "TK-D_9350                         26,034.900   \n",
       "\n",
       "           Standard deviation in number of microscale unbinds  \n",
       "Scenario                                                       \n",
       "TN-D_684                                              56.059   \n",
       "TN-D_307                                              42.856   \n",
       "TK-D_307                                              35.945   \n",
       "TK-D_9350                                            158.665   "
      ]
     },
     "execution_count": 11,
     "metadata": {},
     "output_type": "execute_result"
    }
   ],
   "source": [
    "results = results.astype({\"Number of molecules that reached the back row\": int})\n",
    "results"
   ]
  },
  {
   "cell_type": "code",
   "execution_count": 12,
   "id": "5f593878-a7ad-4900-8474-cb1af03b0f4c",
   "metadata": {},
   "outputs": [],
   "source": [
    "e = lysis.util.Experiment(os.path.join(\"..\", \"..\", \"data\"), experiment_code=runs[0][\"exp_code\"])\n",
    "e.read_file()\n",
    "results.to_json(os.path.join(e.os_path, \"results.json\"), orient=\"table\")"
   ]
  },
  {
   "cell_type": "code",
   "execution_count": 15,
   "id": "9f5039e6-753b-4403-a8b8-2d7fae6af060",
   "metadata": {},
   "outputs": [],
   "source": [
    "compilations = {\n",
    "    \"Front Velocity\": [\n",
    "        \"Mean front velocity\",\n",
    "        \"Mean of Standard Deviation of front velocity\",\n",
    "    ],\n",
    "    \"Degradation Rate\": [\"Mean degradation rate\", \"Standard deviation of degradation rate\"],\n",
    "    \"Degradation Start Time\": [\"Mean degradation start time\", \"Standard deviation of degradation start time\"],\n",
    "    \"Mean First Passage Time\": [\"Mean first passage time (min)\", \"Standard deviation of first passage time\"],\n",
    "    \"Macroscale Unbinds\": [\n",
    "        \"Mean number of macroscale unbinds\",\n",
    "        \"Standard deviation in number of macroscale unbinds\",\n",
    "    ],\n",
    "    \"Microscale Unbinds\": [\n",
    "        \"Mean number of microscale unbinds\",\n",
    "        \"Standard deviation in number of microscale unbinds\",\n",
    "    ],\n",
    "}"
   ]
  },
  {
   "cell_type": "code",
   "execution_count": 29,
   "id": "b46c83e3-d8c5-4083-9454-8ecbc9861366",
   "metadata": {
    "tags": []
   },
   "outputs": [
    {
     "name": "stdout",
     "output_type": "stream",
     "text": [
      "\\begin{tabular}{lll}\n",
      " & Macroscale Unbinds & Microscale Unbinds \\\\\n",
      "Scenario &  &  \\\\\n",
      "TN-L_9350 & 46,456 ± 372 & 20,516 ± 156 \\\\\n",
      "TN-L_307 & 4,993 ± 57 & 17,476 ± 131 \\\\\n",
      "TK-L_3042 & 17,688 ± 204 & 9,242 ± 102 \\\\\n",
      "TK-L_9350 & 42,112 ± 221 & 12,633 ± 101 \\\\\n",
      "TK-L_307 & 2,447 ± 24 & 6,482 ± 89 \\\\\n",
      "\\end{tabular}\n",
      "\n"
     ]
    },
    {
     "data": {
      "text/html": [
       "<div>\n",
       "<style scoped>\n",
       "    .dataframe tbody tr th:only-of-type {\n",
       "        vertical-align: middle;\n",
       "    }\n",
       "\n",
       "    .dataframe tbody tr th {\n",
       "        vertical-align: top;\n",
       "    }\n",
       "\n",
       "    .dataframe thead th {\n",
       "        text-align: right;\n",
       "    }\n",
       "</style>\n",
       "<table border=\"1\" class=\"dataframe\">\n",
       "  <thead>\n",
       "    <tr style=\"text-align: right;\">\n",
       "      <th></th>\n",
       "      <th>Macroscale Unbinds</th>\n",
       "      <th>Microscale Unbinds</th>\n",
       "    </tr>\n",
       "    <tr>\n",
       "      <th>Scenario</th>\n",
       "      <th></th>\n",
       "      <th></th>\n",
       "    </tr>\n",
       "  </thead>\n",
       "  <tbody>\n",
       "    <tr>\n",
       "      <th>TN-L_9350</th>\n",
       "      <td>46,456 ± 372</td>\n",
       "      <td>20,516 ± 156</td>\n",
       "    </tr>\n",
       "    <tr>\n",
       "      <th>TN-L_307</th>\n",
       "      <td>4,993 ± 57</td>\n",
       "      <td>17,476 ± 131</td>\n",
       "    </tr>\n",
       "    <tr>\n",
       "      <th>TK-L_3042</th>\n",
       "      <td>17,688 ± 204</td>\n",
       "      <td>9,242 ± 102</td>\n",
       "    </tr>\n",
       "    <tr>\n",
       "      <th>TK-L_9350</th>\n",
       "      <td>42,112 ± 221</td>\n",
       "      <td>12,633 ± 101</td>\n",
       "    </tr>\n",
       "    <tr>\n",
       "      <th>TK-L_307</th>\n",
       "      <td>2,447 ± 24</td>\n",
       "      <td>6,482 ± 89</td>\n",
       "    </tr>\n",
       "  </tbody>\n",
       "</table>\n",
       "</div>"
      ],
      "text/plain": [
       "          Macroscale Unbinds Microscale Unbinds\n",
       "Scenario                                       \n",
       "TN-L_9350       46,456 ± 372       20,516 ± 156\n",
       "TN-L_307          4,993 ± 57       17,476 ± 131\n",
       "TK-L_3042       17,688 ± 204        9,242 ± 102\n",
       "TK-L_9350       42,112 ± 221       12,633 ± 101\n",
       "TK-L_307          2,447 ± 24         6,482 ± 89"
      ]
     },
     "execution_count": 29,
     "metadata": {},
     "output_type": "execute_result"
    }
   ],
   "source": [
    "display = pd.DataFrame(index=results.index)\n",
    "# for which_display in [\n",
    "#     # \"Front Velocity\",\n",
    "#     # \"Degradation Rate\",\n",
    "#     \"Degradation Start Time\",\n",
    "#     \"Mean First Passage Time\",\n",
    "# ]:\n",
    "#     display[which_display] = results[compilations[which_display]].apply(\n",
    "#         lambda x: f\"{x[0]:.3f} \\u00B1 {x[1]:.3f}\",  # for floats\n",
    "#         axis=1,\n",
    "#     )\n",
    "for which_display in [\"Macroscale Unbinds\", \"Microscale Unbinds\"]:\n",
    "    display[which_display] = results[compilations[which_display]].apply(\n",
    "        lambda x: f\"{x[0]:,.0f} \\u00B1 {x[1]:,.0f}\",  # for ints\n",
    "        axis=1,\n",
    "    )\n",
    "print(display.style.to_latex())\n",
    "display"
   ]
  },
  {
   "cell_type": "code",
   "execution_count": 23,
   "id": "13e4ce6d-1677-4604-8735-3bdb01ccda84",
   "metadata": {},
   "outputs": [
    {
     "data": {
      "text/plain": [
       "dict_keys(['Front Velocity', 'Degradation Rate', 'Degradation Start Time', 'Mean First Passage Time', 'Macroscale Unbinds', 'Microscale Unbinds'])"
      ]
     },
     "execution_count": 23,
     "metadata": {},
     "output_type": "execute_result"
    }
   ],
   "source": [
    "compilations.keys()"
   ]
  },
  {
   "cell_type": "code",
   "execution_count": 14,
   "id": "744c3008-1351-4f1f-9872-18ae4a32df3c",
   "metadata": {},
   "outputs": [
    {
     "data": {
      "text/plain": [
       "('TN-L_307', 307, 1.0135, 72.7, 93, 121, 0.0852)"
      ]
     },
     "execution_count": 14,
     "metadata": {},
     "output_type": "execute_result"
    }
   ],
   "source": [
    "scenarios[scenarios[\"descriptor\"] == run[\"scenario\"]][0]"
   ]
  },
  {
   "cell_type": "code",
   "execution_count": 15,
   "id": "1dc3ff3d-29ff-41b6-a5a4-dd2a144c2a40",
   "metadata": {},
   "outputs": [
    {
     "data": {
      "text/plain": [
       "'TN-L_307'"
      ]
     },
     "execution_count": 15,
     "metadata": {},
     "output_type": "execute_result"
    }
   ],
   "source": [
    "run[\"scenario\"]"
   ]
  },
  {
   "cell_type": "code",
   "execution_count": 20,
   "id": "4bcabf7f-2cb4-4969-9b28-dd056e201f19",
   "metadata": {},
   "outputs": [
    {
     "name": "stdout",
     "output_type": "stream",
     "text": [
      "2023-04-17-1409 _TK-D_9350.dat\n"
     ]
    }
   ],
   "source": [
    "run = runs[-1]\n",
    "mech = mechanisms[mechanisms[\"descriptor\"] == run[\"mechanism\"]][0]\n",
    "scen = scenarios[scenarios[\"descriptor\"] == run[\"scenario\"]][0]\n",
    "e = lysis.util.Experiment(os.path.join(\"..\", \"..\", \"data\"), experiment_code=run[\"exp_code\"])\n",
    "# e = lysis.util.Experiment(\n",
    "#     os.path.join(\"/\", \"home\", \"bpaynter\", \"Archive\", \"lysis_data\"), experiment_code=run[\"exp_code\"]\n",
    "# )\n",
    "e.read_file()\n",
    "y_distance = np.arange(e.macro_params.rows - 1) * e.macro_params.grid_node_distance\n",
    "file_code = out_file_code.format(scenario_code=run[\"scenario\"])\n",
    "print(run[\"exp_code\"], file_code)\n",
    "n_save, deg, tsave, mfpt, mol_location, mol_status = load_fortran_files(e, file_code)"
   ]
  },
  {
   "cell_type": "code",
   "execution_count": 21,
   "id": "bbaeccea-535f-40fc-b609-1b60fbba9e25",
   "metadata": {},
   "outputs": [],
   "source": [
    "deg_percent = find_degraded_percent(e, deg, tsave)"
   ]
  },
  {
   "cell_type": "code",
   "execution_count": 22,
   "id": "bc78df9b-c7ca-4894-b0f1-9543afaca8ea",
   "metadata": {},
   "outputs": [],
   "source": [
    "slopes = []\n",
    "for r in range(e.macro_params.total_trials):\n",
    "    slope = np.empty(deg_percent[r].shape[0], dtype=np.float_)\n",
    "    slope[0] = deg_percent[r][0]\n",
    "    for t in range(1, deg_percent[r].shape[0]):\n",
    "        slope[t] = deg_percent[r][t] - deg_percent[r][t - 1]\n",
    "    slopes.append(slope)"
   ]
  },
  {
   "cell_type": "code",
   "execution_count": 81,
   "id": "cfb56a3e-efbc-4fe0-afce-b91d3e60bd79",
   "metadata": {},
   "outputs": [
    {
     "data": {
      "image/png": "[encoded data removed]",
      "text/plain": [
       "<Figure size 700x500 with 1 Axes>"
      ]
     },
     "metadata": {},
     "output_type": "display_data"
    }
   ],
   "source": [
    "fig = plt.figure(figsize=(7, 5))\n",
    "ax = fig.add_axes([0, 0, 1, 1])\n",
    "# ax.set_xlim(0, (max([np.max(deg_run[-1, :]) for deg_run in deg]) // 60) + 1)\n",
    "# ax.set_ylim(-0.1, 1.1)\n",
    "for r in range(e.macro_params.total_trials):\n",
    "    # plt.hist(slopes[r])\n",
    "    plt.plot(tsave[r] / 60, slopes[r])\n",
    "    # plt.plot([0, tsave[r][-1] / 60], [0.010569771058758868, 0.010569771058758868])"
   ]
  },
  {
   "cell_type": "code",
   "execution_count": 69,
   "id": "f6d68139-336d-4c9e-8fb7-dd0d3feda08e",
   "metadata": {},
   "outputs": [
    {
     "data": {
      "text/plain": [
       "(13, 0.010569771058758868)"
      ]
     },
     "execution_count": 69,
     "metadata": {},
     "output_type": "execute_result"
    }
   ],
   "source": [
    "k = 0\n",
    "m = np.mean(slopes[0][: slopes[0].size // 2])\n",
    "for i in range(slopes[0].size // 2):\n",
    "    new_mean = np.mean(slopes[0][i : i + slopes[0].size // 2])\n",
    "    if new_mean > m:\n",
    "        m = new_mean\n",
    "        k = i\n",
    "k, m"
   ]
  },
  {
   "cell_type": "code",
   "execution_count": 68,
   "id": "a17640d4-0d5f-4563-ba4f-7244e5fb6c30",
   "metadata": {},
   "outputs": [
    {
     "data": {
      "text/plain": [
       "0.01039763478723052"
      ]
     },
     "execution_count": 68,
     "metadata": {},
     "output_type": "execute_result"
    }
   ],
   "source": [
    "np.median(slopes[0][18 : 18 + slopes[0].size // 2])"
   ]
  },
  {
   "cell_type": "code",
   "execution_count": 65,
   "id": "927840ea-c984-4d80-a76e-233ee01658fc",
   "metadata": {},
   "outputs": [
    {
     "data": {
      "image/png": "[encoded data removed]",
      "text/plain": [
       "<Figure size 700x500 with 1 Axes>"
      ]
     },
     "metadata": {},
     "output_type": "display_data"
    }
   ],
   "source": [
    "fig = plt.figure(figsize=(7, 5))\n",
    "ax = fig.add_axes([0, 0, 1, 1])\n",
    "ax.set_xlim(0, (max([np.max(deg_run[-1, :]) for deg_run in deg]) // 60) + 1)\n",
    "ax.set_ylim(-0.1, 1.1)\n",
    "for r in range(e.macro_params.total_trials):\n",
    "    plt.plot(tsave[r] / 60, deg_percent[r])\n",
    "    plt.plot(\n",
    "        (np.arange(n_save[r]) - 13 / 6) * 0.010569771058758868 * 6 + deg_percent[r][13],\n",
    "        color=\"b\",\n",
    "        alpha=0.5,\n",
    "        zorder=0.1,\n",
    "    )"
   ]
  },
  {
   "cell_type": "code",
   "execution_count": 51,
   "id": "8794c180-3175-4a7e-9b00-cbf996d0b923",
   "metadata": {},
   "outputs": [
    {
     "data": {
      "text/plain": [
       "133"
      ]
     },
     "execution_count": 51,
     "metadata": {},
     "output_type": "execute_result"
    }
   ],
   "source": [
    "n_save[0]"
   ]
  },
  {
   "cell_type": "code",
   "execution_count": 52,
   "id": "145e4d3a-037f-4675-8b6a-bf3d1b776ac2",
   "metadata": {},
   "outputs": [
    {
     "data": {
      "text/plain": [
       "133"
      ]
     },
     "execution_count": 52,
     "metadata": {},
     "output_type": "execute_result"
    }
   ],
   "source": [
    "deg_percent[0].shape[0]"
   ]
  },
  {
   "cell_type": "code",
   "execution_count": 75,
   "id": "455cb577-8fe0-4dfb-8ce6-ed267c8cf0ea",
   "metadata": {
    "collapsed": true,
    "jupyter": {
     "outputs_hidden": true
    },
    "tags": []
   },
   "outputs": [
    {
     "data": {
      "text/plain": [
       "array([[12],\n",
       "       [13],\n",
       "       [14],\n",
       "       [15],\n",
       "       [16],\n",
       "       [17],\n",
       "       [18],\n",
       "       [19],\n",
       "       [20],\n",
       "       [21],\n",
       "       [22],\n",
       "       [23],\n",
       "       [24],\n",
       "       [25],\n",
       "       [26],\n",
       "       [27],\n",
       "       [28],\n",
       "       [29],\n",
       "       [30],\n",
       "       [31],\n",
       "       [32],\n",
       "       [33],\n",
       "       [34],\n",
       "       [35],\n",
       "       [36],\n",
       "       [37],\n",
       "       [38],\n",
       "       [39],\n",
       "       [40],\n",
       "       [41],\n",
       "       [42],\n",
       "       [43],\n",
       "       [44],\n",
       "       [45],\n",
       "       [46],\n",
       "       [47],\n",
       "       [48],\n",
       "       [49],\n",
       "       [50],\n",
       "       [51],\n",
       "       [52],\n",
       "       [53],\n",
       "       [54],\n",
       "       [55],\n",
       "       [56],\n",
       "       [57],\n",
       "       [58],\n",
       "       [59],\n",
       "       [60],\n",
       "       [61],\n",
       "       [62],\n",
       "       [63],\n",
       "       [64],\n",
       "       [65],\n",
       "       [66],\n",
       "       [67],\n",
       "       [68],\n",
       "       [69],\n",
       "       [70],\n",
       "       [71],\n",
       "       [72],\n",
       "       [73],\n",
       "       [74],\n",
       "       [75],\n",
       "       [76],\n",
       "       [77],\n",
       "       [78],\n",
       "       [79],\n",
       "       [80],\n",
       "       [81],\n",
       "       [82],\n",
       "       [83],\n",
       "       [84],\n",
       "       [85],\n",
       "       [86],\n",
       "       [87],\n",
       "       [88],\n",
       "       [89],\n",
       "       [90],\n",
       "       [91],\n",
       "       [92],\n",
       "       [93],\n",
       "       [94],\n",
       "       [96],\n",
       "       [97],\n",
       "       [98],\n",
       "       [99]])"
      ]
     },
     "execution_count": 75,
     "metadata": {},
     "output_type": "execute_result"
    }
   ],
   "source": [
    "np.argwhere(slopes[0] > slopes[0].max() / 2)"
   ]
  },
  {
   "cell_type": "code",
   "execution_count": 79,
   "id": "a5537157-3334-443a-a25f-476d5f1b7c5d",
   "metadata": {},
   "outputs": [],
   "source": [
    "degradation_rate = np.empty(e.macro_params.total_trials, dtype=np.float_)\n",
    "offset = np.empty(e.macro_params.total_trials, dtype=np.float_)\n",
    "deg_start_time = np.empty(e.macro_params.total_trials, dtype=np.float_)\n",
    "for r in range(e.macro_params.total_trials):\n",
    "    slope = np.empty(deg_percent[r].shape[0], dtype=np.float_)\n",
    "    slope[0] = deg_percent[r][0]\n",
    "    for t in range(1, deg_percent[r].shape[0]):\n",
    "        slope[t] = deg_percent[r][t] - deg_percent[r][t - 1]\n",
    "    degradation_happening = slope > slope.max() / 2\n",
    "    s = np.argmax(degradation_happening)\n",
    "    b, m = np.polynomial.polynomial.polyfit(\n",
    "        tsave[r][degradation_happening] / 60, deg_percent[r][degradation_happening], 1\n",
    "    )\n",
    "    degradation_rate[r] = m\n",
    "    offset[r] = b\n",
    "    deg_start_time[r] = tsave[r][s] / 60"
   ]
  },
  {
   "cell_type": "code",
   "execution_count": 80,
   "id": "0a11556f-81bb-4eb8-a867-cdeee6d36ff9",
   "metadata": {},
   "outputs": [
    {
     "data": {
      "image/png": "[encoded data removed]",
      "text/plain": [
       "<Figure size 700x500 with 1 Axes>"
      ]
     },
     "metadata": {},
     "output_type": "display_data"
    }
   ],
   "source": [
    "fig = plt.figure(figsize=(7, 5))\n",
    "ax = fig.add_axes([0, 0, 1, 1])\n",
    "ax.set_xlim(0, (max([np.max(deg_run[-1, :]) for deg_run in deg]) // 60) + 1)\n",
    "ax.set_ylim(-0.1, 1.1)\n",
    "for r in range(e.macro_params.total_trials):\n",
    "    plt.plot(tsave[r] / 60, deg_percent[r])\n",
    "    plt.plot(\n",
    "        np.arange((max([np.max(deg_run[-1, :]) for deg_run in deg]) // 60) + 1) * degradation_rate[r]\n",
    "        + offset[r],\n",
    "        color=\"b\",\n",
    "        alpha=0.5,\n",
    "        zorder=0.1,\n",
    "    )"
   ]
  },
  {
   "cell_type": "code",
   "execution_count": 82,
   "id": "def338ab-59f8-406d-b23c-dfb5686aa6f4",
   "metadata": {},
   "outputs": [
    {
     "data": {
      "text/plain": [
       "array([0.06047394, 0.05996991, 0.05991189, 0.059681  , 0.06043641,\n",
       "       0.06003008, 0.0602156 , 0.06011381, 0.0599916 , 0.06067403])"
      ]
     },
     "execution_count": 82,
     "metadata": {},
     "output_type": "execute_result"
    }
   ],
   "source": [
    "degradation_rate"
   ]
  },
  {
   "cell_type": "code",
   "execution_count": 83,
   "id": "88b75784-9fdd-4ad0-ae97-229a8eed83f4",
   "metadata": {},
   "outputs": [
    {
     "data": {
      "text/plain": [
       "0.060149827739488015"
      ]
     },
     "execution_count": 83,
     "metadata": {},
     "output_type": "execute_result"
    }
   ],
   "source": [
    "np.mean(degradation_rate)"
   ]
  },
  {
   "cell_type": "code",
   "execution_count": null,
   "id": "8d34b92e-c655-45b9-87ee-ebf54eba3039",
   "metadata": {},
   "outputs": [],
   "source": []
  }
 ],
 "metadata": {
  "kernelspec": {
   "display_name": "Python 3 (ipykernel)",
   "language": "python",
   "name": "python3"
  },
  "language_info": {
   "codemirror_mode": {
    "name": "ipython",
    "version": 3
   },
   "file_extension": ".py",
   "mimetype": "text/x-python",
   "name": "python",
   "nbconvert_exporter": "python",
   "pygments_lexer": "ipython3",
   "version": "3.10.8"
  }
 },
 "nbformat": 4,
 "nbformat_minor": 5
}
