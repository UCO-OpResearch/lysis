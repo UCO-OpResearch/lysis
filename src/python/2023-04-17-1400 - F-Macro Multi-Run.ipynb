{
 "cells": [
  {
   "cell_type": "code",
   "execution_count": null,
   "id": "ba9f5b22-026e-4c21-9fba-19cd201002ee",
   "metadata": {},
   "outputs": [],
   "source": []
  },
  {
   "cell_type": "code",
   "execution_count": 1,
   "id": "15194d88-70da-43ec-ae61-7398cc0c17c8",
   "metadata": {
    "tags": []
   },
   "outputs": [
    {
     "data": {
      "text/html": [
       "\n",
       "                <script type=\"application/javascript\" id=\"jupyter_black\">\n",
       "                (function() {\n",
       "                    if (window.IPython === undefined) {\n",
       "                        return\n",
       "                    }\n",
       "                    var msg = \"WARNING: it looks like you might have loaded \" +\n",
       "                        \"jupyter_black in a non-lab notebook with \" +\n",
       "                        \"`is_lab=True`. Please double check, and if \" +\n",
       "                        \"loading with `%load_ext` please review the README!\"\n",
       "                    console.log(msg)\n",
       "                    alert(msg)\n",
       "                })()\n",
       "                </script>\n",
       "                "
      ],
      "text/plain": [
       "<IPython.core.display.HTML object>"
      ]
     },
     "metadata": {},
     "output_type": "display_data"
    }
   ],
   "source": [
    "import black\n",
    "import jupyter_black\n",
    "\n",
    "jupyter_black.load(\n",
    "    lab=True,\n",
    "    line_length=110,\n",
    "    target_version=black.TargetVersion.PY310,\n",
    ")"
   ]
  },
  {
   "cell_type": "code",
   "execution_count": 2,
   "id": "ff26407c-9b35-44b7-9fa7-6181d91da4fb",
   "metadata": {},
   "outputs": [],
   "source": [
    "import os\n",
    "import subprocess\n",
    "\n",
    "import GooseSLURM as gs\n",
    "import numpy as np\n",
    "\n",
    "import lysis"
   ]
  },
  {
   "cell_type": "code",
   "execution_count": 3,
   "id": "9860e975-4be3-4514-af0a-06096bb2b44b",
   "metadata": {},
   "outputs": [],
   "source": [
    "scenario_type = np.dtype(\n",
    "    [\n",
    "        (\"descriptor\", np.str_, 40),\n",
    "        (\"total_molecules\", int),\n",
    "        (\"pore_size\", float),  # in microns. Code requires cm\n",
    "        (\"fiber_diameter\", float),  # in microns. Needs to be added to pore_size to get grid_node_distance\n",
    "        (\"cols\", int),\n",
    "        (\"rows\", int),\n",
    "        (\"forced_unbind\", float),\n",
    "    ]\n",
    ")\n",
    "mechanism_type = np.dtype([(\"descriptor\", np.str_, 40), (\"executable\", np.str_, 40)])\n",
    "run_type = np.dtype(\n",
    "    [\n",
    "        (\"exp_code\", np.str_, 15),\n",
    "        (\"scenario\", np.str_, 40),\n",
    "        (\"mechanism\", np.str_, 40),\n",
    "        (\"seed\", int),\n",
    "        (\"running_time\", int),\n",
    "    ]\n",
    ")\n",
    "diameter_code = {\n",
    "    72.7: \"Q2\",\n",
    "    145.4: \"Q4\",\n",
    "}"
   ]
  },
  {
   "cell_type": "code",
   "execution_count": 4,
   "id": "8acd2e5a-a400-4c6f-bd8d-20606e7a743d",
   "metadata": {},
   "outputs": [],
   "source": [
    "# seed sequence entropy: 3881821051554698152964433817123076384\n",
    "scenarios = np.array(\n",
    "    [\n",
    "        (\"TN-L_9350\", 9_350, 1.0135, 72.7, 93, 121, 0.0852),\n",
    "        (\"TN-L_307\", 307, 1.0135, 72.7, 93, 121, 0.0852),\n",
    "        (\"TN-D_684\", 684, 0.22, 72.7, 342, 144, 0.0852),\n",
    "        (\"TN-D_9350\", 9_350, 0.22, 72.7, 342, 144, 0.0852),\n",
    "        (\"TN-D_307\", 307, 0.22, 72.7, 342, 144, 0.0852),\n",
    "        (\"TK-L_3042\", 3_042, 1.0135, 145.4, 87, 67, 0.0729129),\n",
    "        (\"TK-L_9350\", 9_350, 1.0135, 145.4, 87, 67, 0.0729129),\n",
    "        (\"TK-L_307\", 307, 1.0135, 145.4, 87, 67, 0.0729129),\n",
    "        (\"TK-D_307\", 307, 0.22, 145.4, 274, 65, 0.0729129),\n",
    "        (\"TK-D_9350\", 9350, 0.22, 145.4, 274, 65, 0.0729129),\n",
    "    ],\n",
    "    dtype=scenario_type,\n",
    ")\n",
    "mechanisms = np.array(\n",
    "    [\n",
    "        (\"Into and along - Internal\", \"macro_diffuse_into_and_along__internal\"),\n",
    "    ],\n",
    "    dtype=mechanism_type,\n",
    ")"
   ]
  },
  {
   "cell_type": "code",
   "execution_count": 5,
   "id": "7fc6b68b-a8b1-4c5a-956e-3efe8234ce92",
   "metadata": {},
   "outputs": [],
   "source": [
    "in_file_code = \"_PLG2_tPA01_{input_code}.dat\"\n",
    "out_file_code = \"_{scenario_code}.dat\""
   ]
  },
  {
   "cell_type": "code",
   "execution_count": 6,
   "id": "ebe8c9d5-f35e-4e19-b72e-43fea2254325",
   "metadata": {},
   "outputs": [],
   "source": [
    "group_code = \"2023-04-17-14\"\n",
    "runs = np.array(\n",
    "    [\n",
    "        # (group_code + \"00\", \"TN-L_9350\", \"Into and along - Internal\", 1_034_836_197, 0),\n",
    "        # (group_code + \"01\", \"TN-L_307\", \"Into and along - Internal\", 2_464_079_704, 0),\n",
    "        # (group_code + \"02\", \"TN-D_684\", \"Into and along - Internal\", 982_919_027, 1800),\n",
    "        # (group_code + \"03\", \"TN-D_9350\", \"Into and along - Internal\", 129_314_213, 1800),\n",
    "        # (group_code + \"04\", \"TN-D_307\", \"Into and along - Internal\", 2_705_873_059, 1800),\n",
    "        # (group_code + \"05\", \"TK-L_3042\", \"Into and along - Internal\", 2_104_158_012, 0),\n",
    "        # (group_code + \"06\", \"TK-L_9350\", \"Into and along - Internal\", 2_608_028_918, 0),\n",
    "        # (group_code + \"07\", \"TK-L_307\", \"Into and along - Internal\", 1_819_293_232, 0),\n",
    "        # (group_code + \"08\", \"TK-D_307\", \"Into and along - Internal\", 3_128_495_922, 1800),\n",
    "        (group_code + \"09\", \"TK-D_9350\", \"Into and along - Internal\", 106_672_317, 1800),\n",
    "    ],\n",
    "    dtype=run_type,\n",
    ")"
   ]
  },
  {
   "cell_type": "code",
   "execution_count": 7,
   "id": "e5667d27-3084-4c94-a36b-67f243daaa0e",
   "metadata": {},
   "outputs": [
    {
     "name": "stdout",
     "output_type": "stream",
     "text": [
      "CompletedProcess(args=['cp', 'src/fortran/macro_diffuse_into_and_along__internal.f90', '/home/bpaynter/git/UCO-OpResearch/lysis/data/2023-04-17-1409'], returncode=0, stdout=b'', stderr=b'')\n"
     ]
    }
   ],
   "source": [
    "for run in runs:\n",
    "    mech = mechanisms[mechanisms[\"descriptor\"] == run[\"mechanism\"]][0]\n",
    "    scen = scenarios[scenarios[\"descriptor\"] == run[\"scenario\"]][0]\n",
    "    e = lysis.util.Experiment(\n",
    "        os.path.join(\"/\", \"home\", \"bpaynter\", \"git\", \"UCO-OpResearch\", \"lysis\", \"data\"),\n",
    "        experiment_code=run[\"exp_code\"],\n",
    "    )\n",
    "    p = {\n",
    "        \"total_molecules\": int(scen[\"total_molecules\"]),\n",
    "        \"pore_size\": scen[\"pore_size\"] / 10_000,  # convert to cm\n",
    "        \"grid_node_distance\": scen[\"fiber_diameter\"] / 1_000 + scen[\"pore_size\"],\n",
    "        \"cols\": int(scen[\"cols\"]),\n",
    "        \"rows\": int(scen[\"rows\"]),\n",
    "        \"forced_unbind\": scen[\"forced_unbind\"],\n",
    "        \"seed\": int(np.int32(run[\"seed\"])),\n",
    "        \"total_time\": int(run[\"running_time\"]),\n",
    "        \"macro_version\": \"macro_diffuse_into_and_along__internal\",\n",
    "    }\n",
    "    e.initialize_macro_param(p)\n",
    "    e.to_file()\n",
    "\n",
    "    with open(os.path.join(e.os_path, \"README.md\"), \"w\") as file:\n",
    "        file.write(\n",
    "            f\"\"\" ## {e.experiment_code}\n",
    "Internal lysis experiments\n",
    "\n",
    "Uses Fortran Macroscale code with\n",
    "    -  Diffuse into and along\n",
    "    -  'restricted move' bug correction\n",
    "    -  'passerby molecule' bug correction\n",
    "    -  addition of extra output data\n",
    "    -  changing macro-unbind wait time to remaining leaving time.\n",
    "    -  changing the molecule start location calculation\n",
    "    -  eliminating unused data variables\n",
    "\n",
    "These sets are 30 min simulations\n",
    "    \n",
    "This set of data is from the \"{run['scenario']}\" set.\n",
    "\"\"\"\n",
    "        )\n",
    "\n",
    "    result = subprocess.run(\n",
    "        [\"cp\", os.path.join(\"src\", \"fortran\", mech[\"executable\"] + \".f90\"), e.os_path],\n",
    "        cwd=os.path.join(\"/\", \"home\", \"bpaynter\", \"git\", \"UCO-OpResearch\", \"lysis\"),\n",
    "        capture_output=True,\n",
    "    )\n",
    "    print(result)"
   ]
  },
  {
   "cell_type": "code",
   "execution_count": 8,
   "id": "90162ce4-4da6-41c7-9165-d5f302a84771",
   "metadata": {},
   "outputs": [
    {
     "name": "stdout",
     "output_type": "stream",
     "text": [
      "CompletedProcess(args=['sbatch', '/home/bpaynter/git/UCO-OpResearch/lysis/data/2023-04-17-1409/job.slurm'], returncode=0, stdout=b'Submitted batch job 2215992\\n', stderr=b'')\n"
     ]
    }
   ],
   "source": [
    "for run in runs:\n",
    "    mech = mechanisms[mechanisms[\"descriptor\"] == run[\"mechanism\"]][0]\n",
    "    scen = scenarios[scenarios[\"descriptor\"] == run[\"scenario\"]][0]\n",
    "    e = lysis.util.Experiment(\n",
    "        os.path.join(\"/\", \"home\", \"bpaynter\", \"git\", \"UCO-OpResearch\", \"lysis\", \"data\"),\n",
    "        experiment_code=run[\"exp_code\"],\n",
    "    )\n",
    "    e.read_file()\n",
    "    f = lysis.util.FortranMacro(\n",
    "        exp=e,\n",
    "        executable=os.path.join(\n",
    "            \"/\", \"home\", \"bpaynter\", \"git\", \"UCO-OpResearch\", \"lysis\", \"bin\", mech[\"executable\"]\n",
    "        ),\n",
    "        in_file_code=in_file_code.format(input_code=diameter_code[scen[\"fiber_diameter\"]]),\n",
    "        out_file_code=out_file_code.format(scenario_code=run[\"scenario\"]),\n",
    "    )\n",
    "    comm = f.exec_command()\n",
    "    comm += [\n",
    "        \">\",\n",
    "        os.path.join(\n",
    "            e.os_path,\n",
    "            \"macro\" + out_file_code[:-4].format(scenario_code=run[\"scenario\"]) + \".txt\",\n",
    "        ),\n",
    "    ]\n",
    "    comm = \" \".join(comm)\n",
    "    # job-options\n",
    "    sbatch = {\n",
    "        \"job-name\": \"lysis-\" + e.experiment_code,\n",
    "        \"out\": os.path.join(e.os_path, \"job.slurm-%j.out\"),\n",
    "        \"nodes\": 1,\n",
    "        \"mem\": 3096,\n",
    "        \"ntasks\": 1,\n",
    "        \"cpus-per-task\": 1,\n",
    "        \"partition\": \"long\",\n",
    "    }\n",
    "    script = [\"module purge\", \"module load oneapi/compiler\", comm]\n",
    "    with open(os.path.join(e.os_path, \"job.slurm\"), \"w\") as file:\n",
    "        file.write(gs.scripts.plain(script, **sbatch))\n",
    "    result = subprocess.run(\n",
    "        [\"sbatch\", os.path.join(e.os_path, \"job.slurm\")],\n",
    "        cwd=os.path.join(\"/\", \"home\", \"bpaynter\", \"git\", \"UCO-OpResearch\", \"lysis\"),\n",
    "        capture_output=True,\n",
    "    )\n",
    "    print(result)"
   ]
  },
  {
   "cell_type": "code",
   "execution_count": null,
   "id": "41e871aa-ebfc-48a5-9b50-4932feb9d800",
   "metadata": {},
   "outputs": [],
   "source": []
  },
  {
   "cell_type": "code",
   "execution_count": null,
   "id": "5db8f208-e0f8-4f89-923d-7b636a20c6c0",
   "metadata": {},
   "outputs": [],
   "source": []
  }
 ],
 "metadata": {
  "kernelspec": {
   "display_name": "Python 3 (ipykernel)",
   "language": "python",
   "name": "python3"
  },
  "language_info": {
   "codemirror_mode": {
    "name": "ipython",
    "version": 3
   },
   "file_extension": ".py",
   "mimetype": "text/x-python",
   "name": "python",
   "nbconvert_exporter": "python",
   "pygments_lexer": "ipython3",
   "version": "3.10.8"
  }
 },
 "nbformat": 4,
 "nbformat_minor": 5
}
