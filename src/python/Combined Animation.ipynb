{
 "cells": [
  {
   "cell_type": "code",
   "execution_count": 1,
   "id": "b6aff4dd-5aa3-42f5-88f4-369d145d1e17",
   "metadata": {},
   "outputs": [],
   "source": [
    "import numpy as np\n",
    "import lysis\n",
    "import os\n",
    "\n",
    "import matplotlib.pyplot as plt\n",
    "import matplotlib as mpl\n",
    "from matplotlib.animation import FFMpegWriter, FuncAnimation\n",
    "from matplotlib.colors import BoundaryNorm, ListedColormap\n",
    "from matplotlib.patches import Patch\n",
    "\n",
    "from IPython.display import HTML\n",
    "plt.rcParams[\"animation.html\"] = \"jshtml\""
   ]
  },
  {
   "cell_type": "code",
   "execution_count": 2,
   "id": "9907a2ba-96a3-4784-87e7-0f2971a4b2c4",
   "metadata": {},
   "outputs": [],
   "source": [
    "e = lysis.util.Experiment(os.path.join(\"..\", \"..\", \"data\"), experiment_code=\"2023-01-31-1200\")\n",
    "e.read_file()\n",
    "rng = np.random.default_rng(65463453)\n",
    "file_code = \".f-array.dat\""
   ]
  },
  {
   "cell_type": "code",
   "execution_count": 3,
   "id": "4b61a60e-3422-40ec-90a1-8c821cd960fa",
   "metadata": {},
   "outputs": [
    {
     "name": "stdout",
     "output_type": "stream",
     "text": [
      "experiment_code : 2023-01-31-1200\n",
      "data_filenames  : unbinding_time    : tsectPA.dat\n",
      "                  lysis_time        : lysismat.dat\n",
      "                  total_lyses       : lenlysisvect.dat\n",
      "                  degradation_state : deg.p.npy\n",
      "                  molecule_location : m_loc.p.npy\n",
      "                  molecule_state    : m_bound.p.npy\n",
      "                  save_time         : tsave.p.npy\n",
      "micro_params    : None\n",
      "macro_params    : binding_rate       : 0.1\n",
      "                  pore_size          : 0.00010135\n",
      "                  diffusion_coeff    : 5e-07\n",
      "                  binding_sites      : 427\n",
      "                  forced_unbind      : 0.0852\n",
      "                  average_bind_time  : 27.8\n",
      "                  grid_node_distance : 1.0862\n",
      "                  cols               : 10\n",
      "                  rows               : 13\n",
      "                  full_row           : 29\n",
      "                  xz_row             : 19\n",
      "                  total_edges        : 367\n",
      "                  total_fibers       : 280\n",
      "                  empty_rows         : 3\n",
      "                  last_empty_edge    : 86\n",
      "                  total_molecules    : 50\n",
      "                  moving_probability : 0.2\n",
      "                  microscale_runs    : 50,000\n",
      "                  total_trials       : 1\n",
      "                  total_time         : 300\n",
      "                  time_step          : 0.0003423940833333333\n",
      "                  total_time_steps   : 876,183\n",
      "                  seed               : 758,492,894\n",
      "                  state              : (129281, 362436069, 123456789, 758492894)\n",
      "                  input_data         : ['unbinding_time', 'lysis_time', 'total_lyses']\n",
      "                  output_data        : ['degradation_state', 'molecule_location', 'molecule_state', 'save_time']\n",
      "                  save_interval      : 1\n",
      "                  number_of_saves    : 301\n",
      "                  macro_version      : rng_array.f90; py_macro\n",
      "                  log_lvl            : 30\n",
      "                  duplicate_fortran  : 1\n",
      "                  processing_library : numpy\n",
      "\n"
     ]
    }
   ],
   "source": [
    "print(e)"
   ]
  },
  {
   "cell_type": "code",
   "execution_count": 4,
   "id": "08f7a84d-570c-4c7c-8373-574c3663f870",
   "metadata": {},
   "outputs": [],
   "source": [
    "if file_code[-3:] == \"dat\":   \n",
    "    deg = np.fromfile(os.path.join(e.os_path, \"deg\" + file_code))\n",
    "    mol_location = np.fromfile(os.path.join(e.os_path, \"m_loc\" + file_code), dtype=np.int32)\n",
    "    mol_status = np.fromfile(os.path.join(e.os_path, \"m_bound\" + file_code), dtype=np.int32)\n",
    "    tsave = np.fromfile(os.path.join(e.os_path, \"tsave\" + file_code))\n",
    "    deg = deg.reshape(e.macro_params.total_trials, e.macro_params.number_of_saves, e.macro_params.total_edges)\n",
    "    mol_location = mol_location.reshape(e.macro_params.total_trials, e.macro_params.number_of_saves, e.macro_params.total_molecules) - 1\n",
    "    mol_status = mol_status.reshape(e.macro_params.total_trials, e.macro_params.number_of_saves, e.macro_params.total_molecules)\n",
    "    tsave = tsave.reshape(e.macro_params.total_trials, e.macro_params.number_of_saves)"
   ]
  },
  {
   "cell_type": "code",
   "execution_count": 5,
   "id": "78064e7a-c637-41ce-a2a9-9b319701dc44",
   "metadata": {},
   "outputs": [],
   "source": [
    "if file_code[-3:] == 'npy':\n",
    "    deg = np.load(os.path.join(e.os_path, \"deg\" + file_code))\n",
    "    mol_location = np.load(os.path.join(e.os_path, \"m_loc\" + file_code))\n",
    "    mol_status = np.load(os.path.join(e.os_path, \"m_bound\" + file_code))\n",
    "    tsave = np.load(os.path.join(e.os_path, \"tsave\" + file_code))\n",
    "    deg = np.expand_dims(deg, axis=0)\n",
    "    mol_location = np.expand_dims(mol_location, axis=0)\n",
    "    mol_status = np.expand_dims(mol_status, axis=0)\n",
    "    tsave = np.expand_dims(tsave, axis=0)\n",
    "    true_edge = np.full(e.macro_params.rows*e.macro_params.full_row,\n",
    "                        True,\n",
    "                        np.bool_)\n",
    "    for k in range(e.macro_params.cols):\n",
    "        true_edge[(e.macro_params.rows-1)*e.macro_params.full_row + 3*k] = False"
   ]
  },
  {
   "cell_type": "code",
   "execution_count": 6,
   "id": "95dbe530-4596-4f03-9d91-e7d30647ccb7",
   "metadata": {},
   "outputs": [],
   "source": [
    "if file_code[-3:] == \"dat\":   \n",
    "    mol_status = mol_status.astype(np.bool_)\n",
    "    mapped_deg = -deg\n",
    "    mapped_deg[deg == 0] = e.macro_params.total_time * 2\n",
    "    mapped_deg[deg == -1] = 0\n",
    "elif file_code[-3:] == 'npy':\n",
    "    mapped_deg = deg[:, :, true_edge]\n",
    "    for r in range(e.macro_params.total_trials):\n",
    "        for s in range(e.macro_params.number_of_saves):\n",
    "            mapped_deg[r, s][mapped_deg[r, s] > tsave[r, s]] = e.macro_params.total_time * 2"
   ]
  },
  {
   "cell_type": "code",
   "execution_count": 7,
   "id": "3ee53ac6-94cd-44b4-ae64-4bfff7b65006",
   "metadata": {},
   "outputs": [],
   "source": [
    "def plot_coords(i, j):\n",
    "    x = j\n",
    "    y = i\n",
    "    if j % 3 == 0:\n",
    "        return x / 3.0, y + 0.5\n",
    "    if j % 3 == 1:\n",
    "        return (x - 1) / 3.0, y\n",
    "    if j % 3 == 2:\n",
    "        return (x - 2) / 3.0 + 0.5, y"
   ]
  },
  {
   "cell_type": "code",
   "execution_count": 8,
   "id": "f726ee77-9cfb-4837-b29c-e94edfc9934d",
   "metadata": {},
   "outputs": [],
   "source": [
    "if file_code[-3:] == \"dat\":   \n",
    "    edge_index = np.empty(e.macro_params.total_edges, dtype=tuple)\n",
    "    for k in range(e.macro_params.total_edges):\n",
    "        edge_index[k] = lysis.from_fortran_edge_index(k, e.macro_params.rows, e.macro_params.cols)\n",
    "elif file_code[-3:] == 'npy':\n",
    "    edge_index = np.empty(e.macro_params.rows*e.macro_params.full_row, dtype=tuple)\n",
    "    for k in range(e.macro_params.rows*e.macro_params.full_row):\n",
    "        edge_index[k] = np.unravel_index(k, shape=(e.macro_params.rows, e.macro_params.full_row))"
   ]
  },
  {
   "cell_type": "code",
   "execution_count": 9,
   "id": "e8629111-82ac-44f0-baac-bbfbb41e5d86",
   "metadata": {},
   "outputs": [],
   "source": [
    "x_f = np.empty(e.macro_params.total_edges, dtype=float)\n",
    "y_f = np.empty(e.macro_params.total_edges, dtype=float)\n",
    "for k in range(e.macro_params.total_edges):\n",
    "    if file_code[-3:] == \"dat\":  \n",
    "        i, j = edge_index[k]\n",
    "    elif file_code[-3:] == 'npy':\n",
    "        i, j = edge_index[true_edge][k]\n",
    "    x_f[k], y_f[k] = plot_coords(i, j)"
   ]
  },
  {
   "cell_type": "code",
   "execution_count": 10,
   "id": "18d5ed05-d948-4030-8187-ba8726835942",
   "metadata": {},
   "outputs": [],
   "source": [
    "colormap_f = plt.cm.cividis(np.arange(plt.cm.cividis.N))\n",
    "colormap_f[:,3] = 0.3\n",
    "colormap_f = ListedColormap(colormap_f)\n",
    "\n",
    "#colormap = mpl.colormaps['viridis']\n",
    "#colormap[:,0:3] *= 0.5\n",
    "colormap_f.set_extremes(bad='k', under='w', over='k')"
   ]
  },
  {
   "cell_type": "code",
   "execution_count": 11,
   "id": "5cec5b5f-c8d3-41ff-9fec-a4d49ee36c74",
   "metadata": {},
   "outputs": [],
   "source": [
    "d_x = (rng.random(size=e.macro_params.total_molecules) - 0.5) / 2.5\n",
    "d_y = (rng.random(size=e.macro_params.total_molecules) - 0.5) / 2.5\n",
    "x_m = np.empty((e.macro_params.total_trials, e.macro_params.number_of_saves, e.macro_params.total_molecules), dtype=float)\n",
    "y_m = np.empty((e.macro_params.total_trials, e.macro_params.number_of_saves, e.macro_params.total_molecules), dtype=float)\n",
    "for run in range(e.macro_params.total_trials):\n",
    "    for t in range(e.macro_params.number_of_saves):\n",
    "        for k in range(e.macro_params.total_molecules):\n",
    "            i, j = edge_index[mol_location[run, t, k]]\n",
    "            x_m[run, t, k], y_m[run, t, k] = plot_coords(i, j)\n",
    "        x_m[run, t] += d_x\n",
    "        y_m[run, t] += d_y"
   ]
  },
  {
   "cell_type": "code",
   "execution_count": 12,
   "id": "9cf682c4-6edc-47ef-9210-4f60e067158b",
   "metadata": {},
   "outputs": [],
   "source": [
    "colormap_m = ListedColormap(['green', 'red'])\n",
    "bounds=[0,.5,1]\n",
    "norm_m = BoundaryNorm(bounds, colormap_m.N)"
   ]
  },
  {
   "cell_type": "code",
   "execution_count": 13,
   "id": "94956908-7c6b-46b0-b55e-5af79cce7e83",
   "metadata": {},
   "outputs": [],
   "source": [
    "run = 0\n",
    "\n",
    "fig = plt.figure(figsize=(121, 121), dpi=10)\n",
    "ax = fig.add_axes([0, 0, 1, 1])\n",
    "ax.set_axis_off()\n",
    "vmin = 0\n",
    "vmax = e.macro_params.cols - 1\n",
    "\n",
    "ydiff = e.macro_params.rows - e.macro_params.cols\n",
    "\n",
    "ax.set_xlim(vmin - 0.25, vmax + 0.25)\n",
    "ax.set_ylim(vmin - 0.25, vmax + ydiff + 0.25)\n",
    "ax.set_aspect('equal')\n",
    "fig.canvas.draw()\n",
    "title = ax.annotate(f\"t = {tsave[run, 0]:.1f} sec\", (0, 0), zorder=100)\n",
    "s = ((ax.get_window_extent().width  / (vmax-vmin+0.5) * 72/(2*fig.dpi)) ** 2)\n",
    "scatt_f = ax.scatter(x_f, y_f, \n",
    "                     s=s, marker='s', linewidths=0,\n",
    "                     c=mapped_deg[run, 0], cmap=colormap_f, \n",
    "                     vmin=1, \n",
    "                     vmax=mapped_deg[run, \n",
    "                                     e.macro_params.number_of_saves-1\n",
    "                                    ][mapped_deg[run, \n",
    "                                                 e.macro_params.number_of_saves-1\n",
    "                                                ] < e.macro_params.total_time\n",
    "                                     ].max())\n",
    "scatt_m = ax.scatter(x_m[run, 0], y_m[run, 0], \n",
    "                     s=s/2.5, marker='o', linewidths=0,\n",
    "                     c=mol_status[run, 0], cmap=colormap_m, norm=norm_m\n",
    "                     )\n",
    "\n",
    "def update(frame_number):\n",
    "    scatt_f.set_array(mapped_deg[run, frame_number])\n",
    "    scatt_m.set_array(mol_status[run, frame_number])\n",
    "    scatt_m.set_offsets(np.append((x_m[run, frame_number],), (y_m[run, frame_number],), axis=0).T)\n",
    "    title.set_text(f\"t = {tsave[run, frame_number]:.1f} sec\")\n",
    "    \n",
    "animation = FuncAnimation(fig, update, frames=np.arange(e.macro_params.number_of_saves), interval=200)\n",
    "\n",
    "FFwriter = FFMpegWriter(fps=10)\n",
    "animation.save(os.path.join(e.os_path, f\"combined_animation_{run:02}\" + file_code[:-4] + \".mp4\"), writer = FFwriter)\n",
    "plt.close()\n",
    "\n",
    "#HTML(animation.to_jshtml())\n",
    "#HTML(animation.to_html5_video())"
   ]
  },
  {
   "cell_type": "code",
   "execution_count": 31,
   "id": "4aa2dea9-5b05-424d-bbd7-f85199dca2fb",
   "metadata": {},
   "outputs": [
    {
     "data": {
      "image/png": "[encoded data removed]",
      "text/plain": [
       "<Figure size 1210x1210 with 1 Axes>"
      ]
     },
     "metadata": {},
     "output_type": "display_data"
    }
   ],
   "source": [
    "run = 0\n",
    "time = 99\n",
    "\n",
    "frame = int(np.argwhere(tsave[0] >= time)[0])\n",
    "\n",
    "fig = plt.figure(figsize=(12.1, 12.1), dpi=100)\n",
    "ax = fig.add_axes([0, 0, 1, 1])\n",
    "ax.set_axis_off()\n",
    "vmin = 0\n",
    "vmax = e.macro_params.cols - 1\n",
    "\n",
    "ydiff = e.macro_params.rows - e.macro_params.cols\n",
    "\n",
    "ax.set_xlim(vmin - 0.25, vmax + 0.25)\n",
    "ax.set_ylim(vmin - 0.25, vmax + ydiff + 0.25)\n",
    "ax.set_aspect('equal')\n",
    "fig.canvas.draw()\n",
    "title = ax.annotate(f\"t = {tsave[run, frame]:.1f} sec\", (0, 0), zorder=100)\n",
    "s = ((ax.get_window_extent().width  / (vmax-vmin+0.5) * 72/(2*fig.dpi)) ** 2)\n",
    "scatt_f = ax.scatter(x_f, y_f, \n",
    "                     s=s, marker='s', linewidths=0,\n",
    "                     c=mapped_deg[run, frame], cmap=colormap_f, \n",
    "                     vmin=1, \n",
    "                     vmax=mapped_deg[run, \n",
    "                                     e.macro_params.number_of_saves-1\n",
    "                                    ][mapped_deg[run, \n",
    "                                                 e.macro_params.number_of_saves-1\n",
    "                                                ] < e.macro_params.total_time\n",
    "                                     ].max())\n",
    "scatt_m = ax.scatter(x_m[run, frame], y_m[run, frame], \n",
    "                     s=s/2.5, marker='o', linewidths=0,\n",
    "                     c=mol_status[run, frame], cmap=colormap_m, norm=norm_m\n",
    "                     )\n",
    "\n",
    "scatt_h = ax.scatter(plot_coords(edge_index[143][0], edge_index[143][1])[0], plot_coords(edge_index[143][0], edge_index[143][1])[1], marker='x', c='xkcd:purple')\n",
    "\n",
    "#fig.legend([Patch(color=colormap_m(b)) for b in [0.2, 0.8]], [\"Unbound tPA\", \"Bound tPA\"])\n",
    "        \n",
    "fig.show()"
   ]
  },
  {
   "cell_type": "code",
   "execution_count": 15,
   "id": "8076773c-8b43-4ad8-81eb-ff174a0f0eba",
   "metadata": {},
   "outputs": [
    {
     "data": {
      "text/plain": [
       "array([(3, 8), (3, 11), (6, 19), (3, 23), (4, 3), (3, 7), (4, 3), (7, 4),\n",
       "       (4, 17), (3, 17), (3, 13), (3, 14), (6, 1), (1, 7), (3, 22),\n",
       "       (3, 13), (3, 5), (3, 21), (3, 16), (3, 14), (5, 19), (3, 8),\n",
       "       (3, 24), (3, 7), (3, 1), (4, 21), (4, 12), (6, 23), (4, 7),\n",
       "       (4, 14), (3, 8), (3, 28), (3, 17), (3, 20), (4, 8), (3, 7), (5, 8),\n",
       "       (3, 28), (3, 12), (4, 24), (3, 4), (3, 16), (3, 25), (3, 23),\n",
       "       (3, 0), (3, 11), (4, 27), (3, 21), (4, 1), (6, 13)], dtype=object)"
      ]
     },
     "execution_count": 15,
     "metadata": {},
     "output_type": "execute_result"
    }
   ],
   "source": [
    "edge_index[mol_location[0,4]]"
   ]
  },
  {
   "cell_type": "code",
   "execution_count": null,
   "id": "99d87779-e8ae-410a-babb-cde8e16be4fe",
   "metadata": {},
   "outputs": [],
   "source": []
  }
 ],
 "metadata": {
  "kernelspec": {
   "display_name": "Python 3 (ipykernel)",
   "language": "python",
   "name": "python3"
  },
  "language_info": {
   "codemirror_mode": {
    "name": "ipython",
    "version": 3
   },
   "file_extension": ".py",
   "mimetype": "text/x-python",
   "name": "python",
   "nbconvert_exporter": "python",
   "pygments_lexer": "ipython3",
   "version": "3.10.8"
  }
 },
 "nbformat": 4,
 "nbformat_minor": 5
}
