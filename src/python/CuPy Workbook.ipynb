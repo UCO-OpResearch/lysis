{
 "cells": [
  {
   "cell_type": "code",
   "execution_count": 5,
   "id": "4bd9e091-d5a9-47b1-934c-e2270bc23b2c",
   "metadata": {},
   "outputs": [],
   "source": [
    "import lysis\n",
    "import numpy as np\n",
    "import cupy as cp\n",
    "from cupyx.profiler import benchmark"
   ]
  },
  {
   "cell_type": "code",
   "execution_count": 2,
   "id": "e35b7d88-b2e2-49dd-bf1b-70759e52cbd0",
   "metadata": {},
   "outputs": [],
   "source": [
    "e = lysis.util.Experiment(r'..\\..\\data', experiment_code='2022-12-27-1100')"
   ]
  },
  {
   "cell_type": "code",
   "execution_count": 3,
   "id": "eb67eb96-cd52-46f5-a554-5d1c1b4c79d9",
   "metadata": {},
   "outputs": [],
   "source": [
    "p = {'total_time': 1}\n",
    "e.initialize_macro_param(p)\n",
    "macro = lysis.CudaMacroscaleRun(e)"
   ]
  },
  {
   "cell_type": "code",
   "execution_count": 11,
   "id": "00197782-efed-4e64-8140-b11ea4b176d1",
   "metadata": {
    "collapsed": true,
    "jupyter": {
     "outputs_hidden": true
    },
    "tags": []
   },
   "outputs": [
    {
     "name": "stderr",
     "output_type": "stream",
     "text": [
      "100%|█████████████████████████████████████████████████████████████████████████████| 2920/2920 [00:26<00:00, 111.60it/s]\n"
     ]
    },
    {
     "name": "stdout",
     "output_type": "stream",
     "text": [
      "Total binds: 8,420\n",
      "Timesteps with changes to degrade time: 484\n",
      "Total moves: 22,681,917\n",
      "Total macro unbinds: 0\n",
      "Total micro unbinds: 110\n"
     ]
    },
    {
     "name": "stderr",
     "output_type": "stream",
     "text": [
      "100%|█████████████████████████████████████████████████████████████████████████████| 2920/2920 [00:24<00:00, 118.57it/s]\n"
     ]
    },
    {
     "name": "stdout",
     "output_type": "stream",
     "text": [
      "Total binds: 15,470\n",
      "Timesteps with changes to degrade time: 844\n",
      "Total moves: 40,541,178\n",
      "Total macro unbinds: 0\n",
      "Total micro unbinds: 234\n"
     ]
    },
    {
     "name": "stderr",
     "output_type": "stream",
     "text": [
      "100%|█████████████████████████████████████████████████████████████████████████████| 2920/2920 [00:22<00:00, 129.50it/s]\n"
     ]
    },
    {
     "name": "stdout",
     "output_type": "stream",
     "text": [
      "Total binds: 19,719\n",
      "Timesteps with changes to degrade time: 971\n",
      "Total moves: 55,540,772\n",
      "Total macro unbinds: 0\n",
      "Total micro unbinds: 308\n"
     ]
    },
    {
     "name": "stderr",
     "output_type": "stream",
     "text": [
      "100%|█████████████████████████████████████████████████████████████████████████████| 2920/2920 [00:21<00:00, 133.19it/s]\n"
     ]
    },
    {
     "name": "stdout",
     "output_type": "stream",
     "text": [
      "Total binds: 23,103\n",
      "Timesteps with changes to degrade time: 1,057\n",
      "Total moves: 68,375,804\n",
      "Total macro unbinds: 0\n",
      "Total micro unbinds: 364\n"
     ]
    },
    {
     "name": "stderr",
     "output_type": "stream",
     "text": [
      "100%|█████████████████████████████████████████████████████████████████████████████| 2920/2920 [00:20<00:00, 140.86it/s]\n"
     ]
    },
    {
     "name": "stdout",
     "output_type": "stream",
     "text": [
      "Total binds: 26,118\n",
      "Timesteps with changes to degrade time: 1,114\n",
      "Total moves: 79,369,641\n",
      "Total macro unbinds: 0\n",
      "Total micro unbinds: 401\n"
     ]
    },
    {
     "name": "stderr",
     "output_type": "stream",
     "text": [
      "100%|█████████████████████████████████████████████████████████████████████████████| 2920/2920 [00:20<00:00, 142.89it/s]\n"
     ]
    },
    {
     "name": "stdout",
     "output_type": "stream",
     "text": [
      "Total binds: 28,630\n",
      "Timesteps with changes to degrade time: 1,164\n",
      "Total moves: 88,786,242\n",
      "Total macro unbinds: 0\n",
      "Total micro unbinds: 444\n"
     ]
    },
    {
     "name": "stderr",
     "output_type": "stream",
     "text": [
      "100%|█████████████████████████████████████████████████████████████████████████████| 2920/2920 [00:20<00:00, 142.92it/s]\n"
     ]
    },
    {
     "name": "stdout",
     "output_type": "stream",
     "text": [
      "Total binds: 30,727\n",
      "Timesteps with changes to degrade time: 1,207\n",
      "Total moves: 96,885,654\n",
      "Total macro unbinds: 0\n",
      "Total micro unbinds: 481\n"
     ]
    },
    {
     "name": "stderr",
     "output_type": "stream",
     "text": [
      "100%|█████████████████████████████████████████████████████████████████████████████| 2920/2920 [00:20<00:00, 144.97it/s]\n"
     ]
    },
    {
     "name": "stdout",
     "output_type": "stream",
     "text": [
      "Total binds: 32,615\n",
      "Timesteps with changes to degrade time: 1,235\n",
      "Total moves: 103,852,054\n",
      "Total macro unbinds: 0\n",
      "Total micro unbinds: 512\n"
     ]
    },
    {
     "name": "stderr",
     "output_type": "stream",
     "text": [
      "100%|█████████████████████████████████████████████████████████████████████████████| 2920/2920 [00:19<00:00, 150.39it/s]\n"
     ]
    },
    {
     "name": "stdout",
     "output_type": "stream",
     "text": [
      "Total binds: 34,190\n",
      "Timesteps with changes to degrade time: 1,252\n",
      "Total moves: 109,818,742\n",
      "Total macro unbinds: 0\n",
      "Total micro unbinds: 537\n"
     ]
    },
    {
     "name": "stderr",
     "output_type": "stream",
     "text": [
      " 46%|███████████████████████████████████▋                                         | 1354/2920 [00:09<00:10, 149.88it/s]\n"
     ]
    },
    {
     "ename": "KeyboardInterrupt",
     "evalue": "",
     "output_type": "error",
     "traceback": [
      "\u001b[1;31m---------------------------------------------------------------------------\u001b[0m",
      "\u001b[1;31mKeyboardInterrupt\u001b[0m                         Traceback (most recent call last)",
      "Cell \u001b[1;32mIn[11], line 1\u001b[0m\n\u001b[1;32m----> 1\u001b[0m \u001b[43mbenchmark\u001b[49m\u001b[43m(\u001b[49m\u001b[43mlysis\u001b[49m\u001b[38;5;241;43m.\u001b[39;49m\u001b[43mCudaMacroscaleRun\u001b[49m\u001b[43m(\u001b[49m\u001b[43me\u001b[49m\u001b[43m)\u001b[49m\u001b[38;5;241;43m.\u001b[39;49m\u001b[43mrun\u001b[49m\u001b[43m,\u001b[49m\u001b[43m \u001b[49m\u001b[43mn_repeat\u001b[49m\u001b[38;5;241;43m=\u001b[39;49m\u001b[38;5;241;43m10\u001b[39;49m\u001b[43m,\u001b[49m\u001b[43m \u001b[49m\u001b[43mn_warmup\u001b[49m\u001b[38;5;241;43m=\u001b[39;49m\u001b[38;5;241;43m2\u001b[39;49m\u001b[43m)\u001b[49m\n",
      "File \u001b[1;32m~\\miniconda3\\envs\\lysis\\Lib\\site-packages\\cupyx\\profiler\\_time.py:143\u001b[0m, in \u001b[0;36mbenchmark\u001b[1;34m(func, args, kwargs, n_repeat, name, n_warmup, max_duration, devices)\u001b[0m\n\u001b[0;32m    140\u001b[0m \u001b[38;5;28;01mif\u001b[39;00m \u001b[38;5;129;01mnot\u001b[39;00m \u001b[38;5;28misinstance\u001b[39m(devices, \u001b[38;5;28mtuple\u001b[39m):\n\u001b[0;32m    141\u001b[0m     \u001b[38;5;28;01mraise\u001b[39;00m \u001b[38;5;167;01mValueError\u001b[39;00m(\u001b[38;5;124m'\u001b[39m\u001b[38;5;124m`devices` should be of tuple type\u001b[39m\u001b[38;5;124m'\u001b[39m)\n\u001b[1;32m--> 143\u001b[0m \u001b[38;5;28;01mreturn\u001b[39;00m \u001b[43m_repeat\u001b[49m\u001b[43m(\u001b[49m\n\u001b[0;32m    144\u001b[0m \u001b[43m    \u001b[49m\u001b[43mfunc\u001b[49m\u001b[43m,\u001b[49m\u001b[43m \u001b[49m\u001b[43margs\u001b[49m\u001b[43m,\u001b[49m\u001b[43m \u001b[49m\u001b[43mkwargs\u001b[49m\u001b[43m,\u001b[49m\u001b[43m \u001b[49m\u001b[43mn_repeat\u001b[49m\u001b[43m,\u001b[49m\u001b[43m \u001b[49m\u001b[43mname\u001b[49m\u001b[43m,\u001b[49m\u001b[43m \u001b[49m\u001b[43mn_warmup\u001b[49m\u001b[43m,\u001b[49m\u001b[43m \u001b[49m\u001b[43mmax_duration\u001b[49m\u001b[43m,\u001b[49m\u001b[43m \u001b[49m\u001b[43mdevices\u001b[49m\u001b[43m)\u001b[49m\n",
      "File \u001b[1;32m~\\miniconda3\\envs\\lysis\\Lib\\site-packages\\cupyx\\profiler\\_time.py:191\u001b[0m, in \u001b[0;36m_repeat\u001b[1;34m(func, args, kwargs, n_repeat, name, n_warmup, max_duration, devices)\u001b[0m\n\u001b[0;32m    187\u001b[0m         runtime\u001b[38;5;241m.\u001b[39msetDevice(prev_device)\n\u001b[0;32m    189\u001b[0m t1 \u001b[38;5;241m=\u001b[39m _time\u001b[38;5;241m.\u001b[39mperf_counter()\n\u001b[1;32m--> 191\u001b[0m \u001b[43mfunc\u001b[49m\u001b[43m(\u001b[49m\u001b[38;5;241;43m*\u001b[39;49m\u001b[43margs\u001b[49m\u001b[43m,\u001b[49m\u001b[43m \u001b[49m\u001b[38;5;241;43m*\u001b[39;49m\u001b[38;5;241;43m*\u001b[39;49m\u001b[43mkwargs\u001b[49m\u001b[43m)\u001b[49m\n\u001b[0;32m    193\u001b[0m t2 \u001b[38;5;241m=\u001b[39m _time\u001b[38;5;241m.\u001b[39mperf_counter()\n\u001b[0;32m    194\u001b[0m cpu_time \u001b[38;5;241m=\u001b[39m t2 \u001b[38;5;241m-\u001b[39m t1\n",
      "File \u001b[1;32mE:\\git\\UCO-OpResearch\\lysis\\src\\python\\lysis\\cp_macroscale.py:305\u001b[0m, in \u001b[0;36mCudaMacroscaleRun.run\u001b[1;34m(self)\u001b[0m\n\u001b[0;32m    302\u001b[0m should_move[conflict] \u001b[38;5;241m=\u001b[39m \u001b[38;5;241m~\u001b[39mshould_bind[conflict]\n\u001b[0;32m    304\u001b[0m \u001b[38;5;28mself\u001b[39m\u001b[38;5;241m.\u001b[39mbind(should_bind, current_time)\n\u001b[1;32m--> 305\u001b[0m \u001b[38;5;28;43mself\u001b[39;49m\u001b[38;5;241;43m.\u001b[39;49m\u001b[43mmove\u001b[49m\u001b[43m(\u001b[49m\u001b[43mshould_move\u001b[49m\u001b[43m,\u001b[49m\u001b[43m \u001b[49m\u001b[43mmove_chance\u001b[49m\u001b[43m,\u001b[49m\u001b[43m \u001b[49m\u001b[43mcurrent_time\u001b[49m\u001b[43m)\u001b[49m\n\u001b[0;32m    307\u001b[0m \u001b[38;5;28;01mif\u001b[39;00m ts \u001b[38;5;241m%\u001b[39m \u001b[38;5;241m10000\u001b[39m \u001b[38;5;241m==\u001b[39m \u001b[38;5;241m10000\u001b[39m\u001b[38;5;241m-\u001b[39m\u001b[38;5;241m1\u001b[39m:\n\u001b[0;32m    308\u001b[0m     unlysed_fibers \u001b[38;5;241m=\u001b[39m \u001b[38;5;28mint\u001b[39m(cp\u001b[38;5;241m.\u001b[39mcount_nonzero(\u001b[38;5;28mself\u001b[39m\u001b[38;5;241m.\u001b[39mfiber_status \u001b[38;5;241m>\u001b[39m current_time))\n",
      "File \u001b[1;32mE:\\git\\UCO-OpResearch\\lysis\\src\\python\\lysis\\cp_macroscale.py:191\u001b[0m, in \u001b[0;36mCudaMacroscaleRun.move\u001b[1;34m(self, m, move_chance, current_time)\u001b[0m\n\u001b[0;32m    187\u001b[0m cp\u001b[38;5;241m.\u001b[39mlogical_and(free_to_move, \u001b[38;5;28mself\u001b[39m\u001b[38;5;241m.\u001b[39mm_fiber_status \u001b[38;5;241m>\u001b[39m\u001b[38;5;241m=\u001b[39m current_time, out\u001b[38;5;241m=\u001b[39mfree_to_move)\n\u001b[0;32m    189\u001b[0m \u001b[38;5;28mself\u001b[39m\u001b[38;5;241m.\u001b[39mbinding_time[free_to_move] \u001b[38;5;241m=\u001b[39m \u001b[38;5;28mself\u001b[39m\u001b[38;5;241m.\u001b[39mfind_binding_time(current_time, \u001b[38;5;28mint\u001b[39m(cp\u001b[38;5;241m.\u001b[39mcount_nonzero(free_to_move)))\n\u001b[1;32m--> 191\u001b[0m \u001b[38;5;28;43mself\u001b[39;49m\u001b[38;5;241;43m.\u001b[39;49m\u001b[43mcheck_back_row\u001b[49m\u001b[43m(\u001b[49m\u001b[43mm\u001b[49m\u001b[43m,\u001b[49m\u001b[43m \u001b[49m\u001b[43mcurrent_time\u001b[49m\u001b[43m)\u001b[49m\n",
      "File \u001b[1;32mE:\\git\\UCO-OpResearch\\lysis\\src\\python\\lysis\\cp_macroscale.py:173\u001b[0m, in \u001b[0;36mCudaMacroscaleRun.check_back_row\u001b[1;34m(self, m, current_time)\u001b[0m\n\u001b[0;32m    171\u001b[0m reached_rear[m] \u001b[38;5;241m=\u001b[39m (\u001b[38;5;28mself\u001b[39m\u001b[38;5;241m.\u001b[39mlocation[m] \u001b[38;5;241m>\u001b[39m (\u001b[38;5;28mself\u001b[39m\u001b[38;5;241m.\u001b[39mexp\u001b[38;5;241m.\u001b[39mmacro_params\u001b[38;5;241m.\u001b[39mrows \u001b[38;5;241m-\u001b[39m \u001b[38;5;241m2\u001b[39m)\u001b[38;5;241m*\u001b[39m\u001b[38;5;28mself\u001b[39m\u001b[38;5;241m.\u001b[39mexp\u001b[38;5;241m.\u001b[39mmacro_params\u001b[38;5;241m.\u001b[39mfull_row)\n\u001b[0;32m    172\u001b[0m first_time \u001b[38;5;241m=\u001b[39m cp\u001b[38;5;241m.\u001b[39mfull(\u001b[38;5;28mself\u001b[39m\u001b[38;5;241m.\u001b[39mexp\u001b[38;5;241m.\u001b[39mmacro_params\u001b[38;5;241m.\u001b[39mtotal_molecules, \u001b[38;5;28;01mFalse\u001b[39;00m)\n\u001b[1;32m--> 173\u001b[0m \u001b[43mfirst_time\u001b[49m\u001b[43m[\u001b[49m\u001b[43mreached_rear\u001b[49m\u001b[43m]\u001b[49m \u001b[38;5;241m=\u001b[39m current_time \u001b[38;5;241m<\u001b[39m \u001b[38;5;28mself\u001b[39m\u001b[38;5;241m.\u001b[39mtime_to_reach_back_row[reached_rear]\n\u001b[0;32m    174\u001b[0m cp\u001b[38;5;241m.\u001b[39mlogical_and(reached_rear, first_time, out\u001b[38;5;241m=\u001b[39mreached_rear)\n\u001b[0;32m    175\u001b[0m \u001b[38;5;28mself\u001b[39m\u001b[38;5;241m.\u001b[39mtime_to_reach_back_row[reached_rear] \u001b[38;5;241m=\u001b[39m current_time\n",
      "File \u001b[1;32mcupy\\_core\\core.pyx:1590\u001b[0m, in \u001b[0;36mcupy._core.core._ndarray_base.__setitem__\u001b[1;34m()\u001b[0m\n",
      "File \u001b[1;32mcupy\\_core\\_routines_indexing.pyx:52\u001b[0m, in \u001b[0;36mcupy._core._routines_indexing._ndarray_setitem\u001b[1;34m()\u001b[0m\n",
      "File \u001b[1;32mcupy\\_core\\_routines_indexing.pyx:942\u001b[0m, in \u001b[0;36mcupy._core._routines_indexing._scatter_op\u001b[1;34m()\u001b[0m\n",
      "File \u001b[1;32mcupy\\_core\\_routines_indexing.pyx:904\u001b[0m, in \u001b[0;36mcupy._core._routines_indexing._scatter_op_mask_single\u001b[1;34m()\u001b[0m\n",
      "File \u001b[1;32mcupy\\_core\\_routines_indexing.pyx:722\u001b[0m, in \u001b[0;36mcupy._core._routines_indexing._prepare_mask_indexing_single\u001b[1;34m()\u001b[0m\n",
      "File \u001b[1;32mcupy\\_core\\core.pyx:1519\u001b[0m, in \u001b[0;36mcupy._core.core._ndarray_base.__getitem__\u001b[1;34m()\u001b[0m\n",
      "File \u001b[1;32mcupy\\_core\\_routines_indexing.pyx:33\u001b[0m, in \u001b[0;36mcupy._core._routines_indexing._ndarray_getitem\u001b[1;34m()\u001b[0m\n",
      "File \u001b[1;32mcupy\\_core\\_routines_indexing.pyx:276\u001b[0m, in \u001b[0;36mcupy._core._routines_indexing._prepare_slice_list\u001b[1;34m()\u001b[0m\n",
      "File \u001b[1;32m~\\miniconda3\\envs\\lysis\\Lib\\site-packages\\numpy\\core\\numeric.py:1878\u001b[0m, in \u001b[0;36misscalar\u001b[1;34m(element)\u001b[0m\n\u001b[0;32m   1874\u001b[0m \u001b[38;5;28;01mdef\u001b[39;00m \u001b[38;5;21m_frombuffer\u001b[39m(buf, dtype, shape, order):\n\u001b[0;32m   1875\u001b[0m     \u001b[38;5;28;01mreturn\u001b[39;00m frombuffer(buf, dtype\u001b[38;5;241m=\u001b[39mdtype)\u001b[38;5;241m.\u001b[39mreshape(shape, order\u001b[38;5;241m=\u001b[39morder)\n\u001b[1;32m-> 1878\u001b[0m \u001b[38;5;129m@set_module\u001b[39m(\u001b[38;5;124m'\u001b[39m\u001b[38;5;124mnumpy\u001b[39m\u001b[38;5;124m'\u001b[39m)\n\u001b[0;32m   1879\u001b[0m \u001b[38;5;28;01mdef\u001b[39;00m \u001b[38;5;21misscalar\u001b[39m(element):\n\u001b[0;32m   1880\u001b[0m     \u001b[38;5;124;03m\"\"\"\u001b[39;00m\n\u001b[0;32m   1881\u001b[0m \u001b[38;5;124;03m    Returns True if the type of `element` is a scalar type.\u001b[39;00m\n\u001b[0;32m   1882\u001b[0m \n\u001b[1;32m   (...)\u001b[0m\n\u001b[0;32m   1952\u001b[0m \n\u001b[0;32m   1953\u001b[0m \u001b[38;5;124;03m    \"\"\"\u001b[39;00m\n\u001b[0;32m   1954\u001b[0m     \u001b[38;5;28;01mreturn\u001b[39;00m (\u001b[38;5;28misinstance\u001b[39m(element, generic)\n\u001b[0;32m   1955\u001b[0m             \u001b[38;5;129;01mor\u001b[39;00m \u001b[38;5;28mtype\u001b[39m(element) \u001b[38;5;129;01min\u001b[39;00m ScalarType\n\u001b[0;32m   1956\u001b[0m             \u001b[38;5;129;01mor\u001b[39;00m \u001b[38;5;28misinstance\u001b[39m(element, numbers\u001b[38;5;241m.\u001b[39mNumber))\n",
      "\u001b[1;31mKeyboardInterrupt\u001b[0m: "
     ]
    }
   ],
   "source": [
    "benchmark(lysis.CudaMacroscaleRun(e).run, n_repeat=10, n_warmup=2)"
   ]
  },
  {
   "cell_type": "code",
   "execution_count": 8,
   "id": "58d014d9-26be-4326-a562-bb7a5f18f62b",
   "metadata": {},
   "outputs": [],
   "source": [
    "x = cp.zeros((10, 10))"
   ]
  },
  {
   "cell_type": "code",
   "execution_count": 8,
   "id": "4fd11286-f318-40ea-9ee6-9ed7712129fa",
   "metadata": {},
   "outputs": [
    {
     "data": {
      "text/plain": [
       "'cupy'"
      ]
     },
     "execution_count": 8,
     "metadata": {},
     "output_type": "execute_result"
    }
   ],
   "source": [
    "cp.get_array_module(x).__name__"
   ]
  },
  {
   "cell_type": "code",
   "execution_count": 9,
   "id": "f435740a-5329-4f7c-989e-ce09f6a1347c",
   "metadata": {},
   "outputs": [
    {
     "data": {
      "text/plain": [
       "800"
      ]
     },
     "execution_count": 9,
     "metadata": {},
     "output_type": "execute_result"
    }
   ],
   "source": [
    "x.nbytes"
   ]
  },
  {
   "cell_type": "code",
   "execution_count": 10,
   "id": "51395029-0853-4aed-94fc-ebf1f94ea207",
   "metadata": {},
   "outputs": [
    {
     "data": {
      "text/plain": [
       "dtype('float64')"
      ]
     },
     "execution_count": 10,
     "metadata": {},
     "output_type": "execute_result"
    }
   ],
   "source": [
    "x.dtype"
   ]
  },
  {
   "cell_type": "code",
   "execution_count": 12,
   "id": "09529f86-4022-4943-bd17-a7d5383edf86",
   "metadata": {},
   "outputs": [
    {
     "data": {
      "text/plain": [
       "'C:\\\\Users\\\\bradp\\\\miniconda3\\\\envs\\\\lysis\\\\Lib\\\\site-packages\\\\cupy\\\\__init__.py'"
      ]
     },
     "execution_count": 12,
     "metadata": {},
     "output_type": "execute_result"
    }
   ],
   "source": [
    "cp.__file__"
   ]
  },
  {
   "cell_type": "code",
   "execution_count": null,
   "id": "812dd78c-e9ab-466f-84cd-d9f6d23dc8c1",
   "metadata": {},
   "outputs": [],
   "source": []
  }
 ],
 "metadata": {
  "kernelspec": {
   "display_name": "Python 3 (ipykernel)",
   "language": "python",
   "name": "python3"
  },
  "language_info": {
   "codemirror_mode": {
    "name": "ipython",
    "version": 3
   },
   "file_extension": ".py",
   "mimetype": "text/x-python",
   "name": "python",
   "nbconvert_exporter": "python",
   "pygments_lexer": "ipython3",
   "version": "3.11.0"
  }
 },
 "nbformat": 4,
 "nbformat_minor": 5
}
