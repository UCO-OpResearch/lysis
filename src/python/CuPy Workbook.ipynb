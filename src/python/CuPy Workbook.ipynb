{
 "cells": [
  {
   "cell_type": "code",
   "execution_count": 1,
   "id": "4bd9e091-d5a9-47b1-934c-e2270bc23b2c",
   "metadata": {},
   "outputs": [],
   "source": [
    "import lysis\n",
    "import numpy as np\n",
    "import cupy as cp"
   ]
  },
  {
   "cell_type": "code",
   "execution_count": 2,
   "id": "e35b7d88-b2e2-49dd-bf1b-70759e52cbd0",
   "metadata": {},
   "outputs": [],
   "source": [
    "e = lysis.util.Experiment(r'..\\..\\data', experiment_code='2022-12-27-1100')"
   ]
  },
  {
   "cell_type": "code",
   "execution_count": 3,
   "id": "eb67eb96-cd52-46f5-a554-5d1c1b4c79d9",
   "metadata": {},
   "outputs": [],
   "source": [
    "p = {'total_time': 1}\n",
    "e.initialize_macro_param(p)\n",
    "macro = lysis.CudaMacroscaleRun(e)"
   ]
  },
  {
   "cell_type": "code",
   "execution_count": null,
   "id": "00197782-efed-4e64-8140-b11ea4b176d1",
   "metadata": {},
   "outputs": [
    {
     "name": "stderr",
     "output_type": "stream",
     "text": [
      " 67%|███████████████████████████████████████████████████▉                         | 1968/2920 [00:16<00:07, 132.07it/s]"
     ]
    }
   ],
   "source": [
    "macro.run()"
   ]
  },
  {
   "cell_type": "code",
   "execution_count": 5,
   "id": "58d014d9-26be-4326-a562-bb7a5f18f62b",
   "metadata": {},
   "outputs": [],
   "source": [
    "x = cp.zeros((10, 10))"
   ]
  },
  {
   "cell_type": "code",
   "execution_count": 8,
   "id": "4fd11286-f318-40ea-9ee6-9ed7712129fa",
   "metadata": {},
   "outputs": [
    {
     "data": {
      "text/plain": [
       "'cupy'"
      ]
     },
     "execution_count": 8,
     "metadata": {},
     "output_type": "execute_result"
    }
   ],
   "source": [
    "cp.get_array_module(x).__name__"
   ]
  },
  {
   "cell_type": "code",
   "execution_count": null,
   "id": "f435740a-5329-4f7c-989e-ce09f6a1347c",
   "metadata": {},
   "outputs": [],
   "source": []
  }
 ],
 "metadata": {
  "kernelspec": {
   "display_name": "Python 3 (ipykernel)",
   "language": "python",
   "name": "python3"
  },
  "language_info": {
   "codemirror_mode": {
    "name": "ipython",
    "version": 3
   },
   "file_extension": ".py",
   "mimetype": "text/x-python",
   "name": "python",
   "nbconvert_exporter": "python",
   "pygments_lexer": "ipython3",
   "version": "3.11.0"
  }
 },
 "nbformat": 4,
 "nbformat_minor": 5
}
