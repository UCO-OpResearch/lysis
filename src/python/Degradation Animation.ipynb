{
 "cells": [
  {
   "cell_type": "code",
   "execution_count": 1,
   "id": "60df6908-7d06-42d3-ae5b-2bd6921369ec",
   "metadata": {
    "tags": []
   },
   "outputs": [
    {
     "data": {
      "text/html": [
       "\n",
       "                <script type=\"application/javascript\" id=\"jupyter_black\">\n",
       "                (function() {\n",
       "                    if (window.IPython === undefined) {\n",
       "                        return\n",
       "                    }\n",
       "                    var msg = \"WARNING: it looks like you might have loaded \" +\n",
       "                        \"jupyter_black in a non-lab notebook with \" +\n",
       "                        \"`is_lab=True`. Please double check, and if \" +\n",
       "                        \"loading with `%load_ext` please review the README!\"\n",
       "                    console.log(msg)\n",
       "                    alert(msg)\n",
       "                })()\n",
       "                </script>\n",
       "                "
      ],
      "text/plain": [
       "<IPython.core.display.HTML object>"
      ]
     },
     "metadata": {},
     "output_type": "display_data"
    }
   ],
   "source": [
    "import black\n",
    "import jupyter_black\n",
    "\n",
    "jupyter_black.load(\n",
    "    lab=True,\n",
    "    line_length=110,\n",
    "    target_version=black.TargetVersion.PY310,\n",
    ")"
   ]
  },
  {
   "cell_type": "code",
   "execution_count": 2,
   "id": "b6aff4dd-5aa3-42f5-88f4-369d145d1e17",
   "metadata": {},
   "outputs": [],
   "source": [
    "import numpy as np\n",
    "import lysis\n",
    "import os\n",
    "\n",
    "import matplotlib.pyplot as plt\n",
    "import matplotlib as mpl\n",
    "from matplotlib.animation import FFMpegWriter, FuncAnimation\n",
    "from matplotlib.colors import ListedColormap\n",
    "\n",
    "from IPython.display import HTML\n",
    "\n",
    "plt.rcParams[\"animation.html\"] = \"jshtml\""
   ]
  },
  {
   "cell_type": "code",
   "execution_count": 3,
   "id": "9907a2ba-96a3-4784-87e7-0f2971a4b2c4",
   "metadata": {},
   "outputs": [],
   "source": [
    "e = lysis.util.Experiment(os.path.join(\"..\", \"..\", \"data\"), experiment_code=\"2023-01-30-2005\")\n",
    "e.read_file()\n",
    "file_code = \"_PLG2_tPA01_Kd00020036_along_Q2.dat\""
   ]
  },
  {
   "cell_type": "code",
   "execution_count": 4,
   "id": "4b61a60e-3422-40ec-90a1-8c821cd960fa",
   "metadata": {},
   "outputs": [
    {
     "name": "stdout",
     "output_type": "stream",
     "text": [
      "experiment_code : 2023-01-30-2005\n",
      "data_filenames  : unbinding_time    : tsectPA.dat\n",
      "                  lysis_time        : lysismat.dat\n",
      "                  total_lyses       : lenlysisvect.dat\n",
      "                  degradation_state : deg.dat\n",
      "micro_params    : None\n",
      "macro_params    : binding_rate       : 0.1\n",
      "                  pore_size          : 0.00010135\n",
      "                  diffusion_coeff    : 5e-07\n",
      "                  binding_sites      : 427\n",
      "                  forced_unbind      : 0.5143\n",
      "                  average_bind_time  : 277.8\n",
      "                  grid_node_distance : 1.0862\n",
      "                  cols               : 93\n",
      "                  rows               : 121\n",
      "                  full_row           : 278\n",
      "                  xz_row             : 185\n",
      "                  total_edges        : 33,545\n",
      "                  total_fibers       : 25,761\n",
      "                  empty_rows         : 28\n",
      "                  last_empty_edge    : 7,783\n",
      "                  total_molecules    : 43,074\n",
      "                  moving_probability : 0.2\n",
      "                  microscale_runs    : 50,000\n",
      "                  total_trials       : 10\n",
      "                  total_time         : 1,200\n",
      "                  time_step          : 0.0003423940833333333\n",
      "                  total_time_steps   : 3,504,733\n",
      "                  seed               : -848,304,637\n",
      "                  state              : (129281, 362436069, 123456789, -848304637)\n",
      "                  input_data         : ['unbinding_time', 'lysis_time', 'total_lyses']\n",
      "                  output_data        : ['degradation_state', 'molecule_location', 'molecule_state', 'save_time']\n",
      "                  save_interval      : 10\n",
      "                  number_of_saves    : 121\n",
      "                  macro_version      : macro_PLG2_tPA01_Kd00020036_along_Q2\n",
      "                  log_lvl            : 30\n",
      "                  duplicate_fortran  : 0\n",
      "                  processing_library : numpy\n",
      "\n"
     ]
    }
   ],
   "source": [
    "print(e)"
   ]
  },
  {
   "cell_type": "code",
   "execution_count": 5,
   "id": "08f7a84d-570c-4c7c-8373-574c3663f870",
   "metadata": {},
   "outputs": [],
   "source": [
    "deg = np.fromfile(os.path.join(e.os_path, \"deg\" + file_code))\n",
    "tsave = np.fromfile(os.path.join(e.os_path, \"tsave\" + file_code))"
   ]
  },
  {
   "cell_type": "code",
   "execution_count": 6,
   "id": "78064e7a-c637-41ce-a2a9-9b319701dc44",
   "metadata": {},
   "outputs": [],
   "source": [
    "deg = deg.reshape(e.macro_params.total_trials, e.macro_params.number_of_saves, e.macro_params.total_edges)"
   ]
  },
  {
   "cell_type": "code",
   "execution_count": 7,
   "id": "95dbe530-4596-4f03-9d91-e7d30647ccb7",
   "metadata": {},
   "outputs": [],
   "source": [
    "tsave = tsave.reshape(e.macro_params.total_trials, e.macro_params.number_of_saves)"
   ]
  },
  {
   "cell_type": "code",
   "execution_count": 8,
   "id": "f88297a7-84a1-45b1-8953-2b44ea72fcd3",
   "metadata": {},
   "outputs": [],
   "source": [
    "mapped_deg = deg\n",
    "# mapped_deg[:,:,e.macro_params.last_empty_edge+1:][deg[:,:,e.macro_params.last_empty_edge+1:] == 0] = e.macro_params.total_time * 10\n",
    "mapped_deg = -deg\n",
    "mapped_deg[deg == 0] = e.macro_params.total_time * 2\n",
    "mapped_deg[deg == -1] = 0\n",
    "# for i in range(e.macro_params.total_edges):\n",
    "#    mapped_deg[:, :, i] -= tsave"
   ]
  },
  {
   "cell_type": "code",
   "execution_count": 9,
   "id": "3ee53ac6-94cd-44b4-ae64-4bfff7b65006",
   "metadata": {},
   "outputs": [],
   "source": [
    "def plot_coords(i, j):\n",
    "    x = j\n",
    "    y = i\n",
    "    if j % 3 == 0:\n",
    "        return x / 3.0, y + 0.5\n",
    "    if j % 3 == 1:\n",
    "        return (x - 1) / 3.0, y\n",
    "    if j % 3 == 2:\n",
    "        return (x - 2) / 3.0 + 0.5, y"
   ]
  },
  {
   "cell_type": "code",
   "execution_count": 10,
   "id": "e8629111-82ac-44f0-baac-bbfbb41e5d86",
   "metadata": {},
   "outputs": [],
   "source": [
    "x = np.empty(e.macro_params.total_edges, dtype=float)\n",
    "y = np.empty(e.macro_params.total_edges, dtype=float)\n",
    "for k in range(e.macro_params.total_edges):\n",
    "    i, j = lysis.from_fortran_edge_index(k, e.macro_params.rows, e.macro_params.cols)\n",
    "    x[k], y[k] = plot_coords(i, j)"
   ]
  },
  {
   "cell_type": "code",
   "execution_count": 11,
   "id": "18d5ed05-d948-4030-8187-ba8726835942",
   "metadata": {},
   "outputs": [],
   "source": [
    "colormap = plt.cm.viridis(np.arange(plt.cm.viridis.N))\n",
    "colormap[:, 3] = 0.75\n",
    "colormap = ListedColormap(colormap)\n",
    "\n",
    "# colormap = mpl.colormaps['viridis']\n",
    "# colormap[:,0:3] *= 0.5\n",
    "colormap.set_extremes(bad=\"k\", under=\"w\", over=\"k\")"
   ]
  },
  {
   "cell_type": "code",
   "execution_count": 12,
   "id": "94956908-7c6b-46b0-b55e-5af79cce7e83",
   "metadata": {},
   "outputs": [],
   "source": [
    "run = 1\n",
    "\n",
    "plt.ioff()\n",
    "fig = plt.figure(figsize=(7, 7))\n",
    "ax = fig.add_axes([0, 0, 1, 1])  # , frameon=False)\n",
    "vmin = 0\n",
    "vmax = e.macro_params.cols - 1\n",
    "\n",
    "ydiff = e.macro_params.rows - e.macro_params.cols\n",
    "\n",
    "ax.set_xlim(vmin - 0.25, vmax + 0.25)\n",
    "ax.set_ylim(vmin - 0.25, vmax + ydiff + 0.25)\n",
    "ax.set_aspect(\"equal\")\n",
    "fig.canvas.draw()\n",
    "s = (ax.get_window_extent().width / (vmax - vmin + 0.5) * 72 / (2 * fig.dpi)) ** 2\n",
    "scatt = ax.scatter(\n",
    "    x,\n",
    "    y,\n",
    "    s=s,\n",
    "    marker=\"s\",\n",
    "    linewidths=0,\n",
    "    c=mapped_deg[run, 0],\n",
    "    cmap=colormap,\n",
    "    # vmin = 0, vmax=e.macro_params.total_time,\n",
    "    plotnonfinite=True,\n",
    "    vmin=1,\n",
    "    vmax=mapped_deg[run, e.macro_params.number_of_saves - 1][\n",
    "        mapped_deg[run, e.macro_params.number_of_saves - 1] < e.macro_params.total_time\n",
    "    ].max(),\n",
    ")\n",
    "\n",
    "\n",
    "def update(frame_number):\n",
    "    scatt.set_array(mapped_deg[run, frame_number])\n",
    "\n",
    "\n",
    "animation = FuncAnimation(fig, update, frames=np.arange(e.macro_params.number_of_saves), interval=200)\n",
    "\n",
    "FFwriter = FFMpegWriter(fps=10)\n",
    "animation.save(os.path.join(e.os_path, f\"deg_animation_{run:02}\" + file_code[:-4] + \".mp4\"), writer=FFwriter)\n",
    "plt.close()\n",
    "\n",
    "# HTML(animation.to_jshtml())\n",
    "# HTML(animation.to_html5_video())"
   ]
  },
  {
   "cell_type": "code",
   "execution_count": null,
   "id": "4aa2dea9-5b05-424d-bbd7-f85199dca2fb",
   "metadata": {},
   "outputs": [],
   "source": []
  }
 ],
 "metadata": {
  "kernelspec": {
   "display_name": "Python 3 (ipykernel)",
   "language": "python",
   "name": "python3"
  },
  "language_info": {
   "codemirror_mode": {
    "name": "ipython",
    "version": 3
   },
   "file_extension": ".py",
   "mimetype": "text/x-python",
   "name": "python",
   "nbconvert_exporter": "python",
   "pygments_lexer": "ipython3",
   "version": "3.10.8"
  }
 },
 "nbformat": 4,
 "nbformat_minor": 5
}
