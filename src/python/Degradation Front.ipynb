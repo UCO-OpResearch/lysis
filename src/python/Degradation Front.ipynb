{
 "cells": [
  {
   "cell_type": "code",
   "execution_count": 1,
   "id": "544209b7-1d8d-462d-bc75-e911bff8ddd7",
   "metadata": {
    "tags": []
   },
   "outputs": [],
   "source": [
    "import numpy as np\n",
    "import lysis\n",
    "import os\n",
    "\n",
    "import matplotlib.pyplot as plt\n",
    "import matplotlib as mpl\n",
    "from matplotlib.colors import BoundaryNorm, ListedColormap"
   ]
  },
  {
   "cell_type": "code",
   "execution_count": 2,
   "id": "3e268245-cfcd-4c35-b247-c0ad737916ba",
   "metadata": {},
   "outputs": [],
   "source": [
    "e = lysis.util.Experiment(os.path.join(\"..\", \"..\", \"data\"), experiment_code=\"2023-01-24-0100\")\n",
    "e.read_file()\n",
    "file_code = \"_PLG2_tPA01_Kd00020036_always_Q2.dat\""
   ]
  },
  {
   "cell_type": "code",
   "execution_count": 3,
   "id": "0568bef3-36b0-4a48-a51a-42b4742a8229",
   "metadata": {
    "tags": []
   },
   "outputs": [
    {
     "name": "stdout",
     "output_type": "stream",
     "text": [
      "experiment_code : 2023-01-24-0100\n",
      "data_filenames  : unbinding_time    : tsectPA.dat\n",
      "                  lysis_time        : lysismat.dat\n",
      "                  total_lyses       : lenlysisvect.dat\n",
      "                  degradation_state : deg.dat\n",
      "micro_params    : None\n",
      "macro_params    : binding_rate       : 0.1\n",
      "                  pore_size          : 0.00010135\n",
      "                  diffusion_coeff    : 5e-07\n",
      "                  binding_sites      : 427\n",
      "                  forced_unbind      : 0.5143\n",
      "                  average_bind_time  : 27.8\n",
      "                  grid_node_distance : 1.0862\n",
      "                  cols               : 93\n",
      "                  rows               : 121\n",
      "                  full_row           : 278\n",
      "                  xz_row             : 185\n",
      "                  total_edges        : 33,545\n",
      "                  total_fibers       : 25,761\n",
      "                  empty_rows         : 28\n",
      "                  last_empty_edge    : 7,783\n",
      "                  total_molecules    : 43,074\n",
      "                  moving_probability : 0.2\n",
      "                  microscale_runs    : 50,000\n",
      "                  total_trials       : 10\n",
      "                  total_time         : 900\n",
      "                  time_step          : 0.0003423940833333333\n",
      "                  total_time_steps   : 2,628,550\n",
      "                  seed               : -2,137,354,075\n",
      "                  state              : [129281, 362436069, 123456789, -2137354075]\n",
      "                  input_data         : ['unbinding_time', 'lysis_time', 'total_lyses']\n",
      "                  output_data        : ['degradation_state']\n",
      "                  save_interval      : 10\n",
      "                  number_of_saves    : 91\n",
      "                  macro_version      : Q2_['always_rebind', 'diffuse_along', 'diffuse_into', 'diffuse_into_and_along']\n",
      "                  log_lvl            : 30\n",
      "                  duplicate_fortran  : 0\n",
      "                  processing_library : numpy\n",
      "\n"
     ]
    }
   ],
   "source": [
    "print(e)"
   ]
  },
  {
   "cell_type": "code",
   "execution_count": 4,
   "id": "9140c813-13bd-4c76-a1fe-b52559c6d875",
   "metadata": {
    "tags": []
   },
   "outputs": [],
   "source": [
    "deg = np.fromfile(os.path.join(e.os_path, \"deg\" + file_code))\n",
    "tsave = np.fromfile(os.path.join(e.os_path, \"tsave\" + file_code))\n",
    "mfpt = np.fromfile(os.path.join(e.os_path, \"mfpt\" + file_code))\n",
    "deg = deg.reshape(e.macro_params.total_trials, e.macro_params.number_of_saves, e.macro_params.total_edges)\n",
    "tsave = tsave.reshape(e.macro_params.total_trials, e.macro_params.number_of_saves)"
   ]
  },
  {
   "cell_type": "code",
   "execution_count": 5,
   "id": "9227156f-abbd-4254-aeb9-566315c7b82b",
   "metadata": {
    "tags": []
   },
   "outputs": [],
   "source": [
    "mapped_deg = -deg\n",
    "mapped_deg[deg == 0] = float('inf')\n",
    "mapped_deg[deg == -1] = 0"
   ]
  },
  {
   "cell_type": "code",
   "execution_count": 6,
   "id": "14b14193-18c7-47d0-b260-2591a0148832",
   "metadata": {
    "tags": []
   },
   "outputs": [],
   "source": [
    "exposed_time = np.empty((e.macro_params.total_trials, e.macro_params.rows-1, e.macro_params.cols), \n",
    "                        dtype=np.float_)\n",
    "for run in range(e.macro_params.total_trials):\n",
    "    for j in range(e.macro_params.cols):\n",
    "        for i in range(e.macro_params.rows-1):\n",
    "            if i == 0:\n",
    "                exposed_time[run, i, j] = 0;\n",
    "            else:\n",
    "                k = lysis.to_fortran_edge_index(i, j, e.macro_params.rows, e.macro_params.cols)\n",
    "                exposed_time[run, i, j] = max(exposed_time[run, i-1, j], mapped_deg[run, e.macro_params.number_of_saves-1, k])\n",
    "#exposed_time = 10* np.ceil(exposed_time / 10)\n",
    "exposed_time = exposed_time / 60"
   ]
  },
  {
   "cell_type": "code",
   "execution_count": 7,
   "id": "9d4fd09f-8996-495a-bd64-43b4e0a68f1e",
   "metadata": {
    "tags": []
   },
   "outputs": [],
   "source": [
    "y_distance = np.arange(e.macro_params.rows-1)*e.macro_params.grid_node_distance "
   ]
  },
  {
   "cell_type": "code",
   "execution_count": 12,
   "id": "26eb8a0e-e33c-4b7e-82e9-e940525fe4ca",
   "metadata": {
    "tags": []
   },
   "outputs": [],
   "source": [
    "deg_fronts = []\n",
    "for r in range(e.macro_params.total_trials):\n",
    "    run_deg_fronts = []\n",
    "    for j in range(e.macro_params.cols):\n",
    "        col_deg_front = []\n",
    "        for i in range(1,e.macro_params.rows-1):\n",
    "            if  exposed_time[r, i-1, j] < exposed_time[r, i, j] < float('inf'):\n",
    "                col_deg_front.append([exposed_time[r, i, j], y_distance[i]])\n",
    "        run_deg_fronts.append(np.array(col_deg_front).T)\n",
    "    deg_fronts.append(run_deg_fronts)"
   ]
  },
  {
   "cell_type": "code",
   "execution_count": 15,
   "id": "f11992ad-9528-485e-9b22-8002330baa17",
   "metadata": {
    "tags": []
   },
   "outputs": [
    {
     "name": "stdout",
     "output_type": "stream",
     "text": [
      "Mean front velocity (over all simulations, over all columns): 6.237 microns/min\n",
      "Mean (over all simulations) of standard deviation (over all columns) of front velocity: 0.042 microns/min\n"
     ]
    }
   ],
   "source": [
    "run_mean_velocity = np.empty(e.macro_params.total_trials, dtype=np.float_)\n",
    "run_std_velocity = np.empty(e.macro_params.total_trials, dtype=np.float_)\n",
    "for run in range(e.macro_params.total_trials):\n",
    "    front_velocity = np.empty(e.macro_params.cols, dtype=np.float_)\n",
    "    for j in range(e.macro_params.cols):\n",
    "        b, m = np.polynomial.polynomial.polyfit(deg_fronts[run][j][0], deg_fronts[run][j][1], 1)\n",
    "        front_velocity[j] = m\n",
    "    run_mean_velocity[run] = np.mean(front_velocity)\n",
    "    run_std_velocity[run] = np.std(front_velocity)\n",
    "#print(run_mean_velocity)\n",
    "print(f\"Mean front velocity (over all simulations, over all columns): {np.mean(run_mean_velocity):.3f} microns/min\")\n",
    "print(f\"Mean (over all simulations) of standard deviation (over all columns) of front velocity: {np.mean(run_std_velocity):.3f} microns/min\")"
   ]
  },
  {
   "cell_type": "code",
   "execution_count": null,
   "id": "ea3703e3-6f38-4865-bd4a-88da3c32221c",
   "metadata": {
    "tags": []
   },
   "outputs": [],
   "source": [
    "fig = plt.figure(figsize=(7, 5))\n",
    "ax = fig.add_axes([0, 0, 1, 1])\n",
    "ax.set_xlim(0, e.macro_params.total_time / 60)\n",
    "ax.set_ylim((e.macro_params.empty_rows-1)*e.macro_params.grid_node_distance,\n",
    "           (e.macro_params.rows-1)*e.macro_params.grid_node_distance)\n",
    "for run in range(e.macro_params.total_trials):\n",
    "    for j in range(e.macro_params.cols):\n",
    "        plt.plot(deg_fronts[run][j][0], deg_fronts[run][j][1], linewidth=1)"
   ]
  },
  {
   "cell_type": "code",
   "execution_count": null,
   "id": "db1e33ef-53a2-44c5-8741-cccfeaec1ac3",
   "metadata": {
    "tags": []
   },
   "outputs": [],
   "source": [
    "degraded_percent = np.empty((e.macro_params.total_trials, e.macro_params.number_of_saves), dtype=np.float_)\n",
    "for r in range(e.macro_params.total_trials):\n",
    "    for t in range(e.macro_params.number_of_saves):\n",
    "        degraded_percent[r, t] = np.count_nonzero(mapped_deg[r, t] <= tsave[r, t]) \n",
    "degraded_percent -= e.macro_params.empty_rows*e.macro_params.full_row\n",
    "degraded_percent = degraded_percent / e.macro_params.total_fibers"
   ]
  },
  {
   "cell_type": "code",
   "execution_count": null,
   "id": "82788e00-0c3a-4796-9076-cf5b9dff7893",
   "metadata": {
    "tags": []
   },
   "outputs": [],
   "source": [
    "tolerance = 1e-3\n",
    "slope = np.empty((e.macro_params.total_trials, e.macro_params.number_of_saves), dtype=np.float_)\n",
    "for r in range(e.macro_params.total_trials):\n",
    "    slope[r, 0] = degraded_percent[r, 0]\n",
    "    for t in range(1, e.macro_params.number_of_saves):\n",
    "        slope[r, t] = degraded_percent[r, t] - degraded_percent[r, t-1]\n",
    "degradation_happening = (tolerance <= slope)\n",
    "degradation_rate = np.empty(e.macro_params.total_trials, dtype=np.float_)\n",
    "offset = np.empty(e.macro_params.total_trials, dtype=np.float_)\n",
    "for r in range(e.macro_params.total_trials):\n",
    "    b, m = np.polynomial.polynomial.polyfit(tsave[r][degradation_happening[r]]/60, \n",
    "                                            degraded_percent[r][degradation_happening[r]], \n",
    "                                            1)\n",
    "    degradation_rate[r] = m\n",
    "    offset[r] = b\n",
    "print(f\"Mean degradation rate: {np.mean(degradation_rate)*100:.3f} percent of fibers per min\")\n",
    "print(f\"Standard deviation of degradation rate: {np.std(degradation_rate)*100:.3f} percent of fibers per min\")"
   ]
  },
  {
   "cell_type": "code",
   "execution_count": null,
   "id": "5ffb7ad5-a79d-4e3e-b4d4-76b93d50abfe",
   "metadata": {
    "tags": []
   },
   "outputs": [],
   "source": [
    "fig = plt.figure(figsize=(7, 5))\n",
    "ax = fig.add_axes([0, 0, 1, 1])\n",
    "ax.set_xlim(0, e.macro_params.total_time / 60)\n",
    "ax.set_ylim(-0.1, 1.1)\n",
    "for r in range(e.macro_params.total_trials):\n",
    "    plt.plot(tsave[r]/60, degraded_percent[r])\n",
    "    plt.plot(np.arange(15)*degradation_rate[r] + offset[r], color='b', alpha=0.5, zorder=0.1)"
   ]
  },
  {
   "cell_type": "code",
   "execution_count": null,
   "id": "88f5c2c5-995d-4db3-bbdb-7190ce2eee48",
   "metadata": {},
   "outputs": [],
   "source": [
    "degradation_rate*100"
   ]
  },
  {
   "cell_type": "code",
   "execution_count": null,
   "id": "7b5e3347-0bcc-4228-ba4d-85941e37a37e",
   "metadata": {
    "tags": []
   },
   "outputs": [],
   "source": [
    "print(f\"Number of molecules that reached the back row: {np.count_nonzero(mfpt > 0):,}\")\n",
    "print(f\"Percent of molecules that reached the back row: {np.count_nonzero(mfpt > 0)/e.macro_params.total_molecules*100:.1f}%\")\n",
    "print(f\"Mean time to reach back row: {np.mean(mfpt[mfpt > 0]/60):.3f} minutes\")\n",
    "print(f\"Standard deviation of time to reach back row: {np.std(mfpt[mfpt > 0]/60):.3f} minutes\")"
   ]
  },
  {
   "cell_type": "code",
   "execution_count": null,
   "id": "17d96e85-627e-4f92-a156-366276404b4e",
   "metadata": {},
   "outputs": [],
   "source": []
  }
 ],
 "metadata": {
  "kernelspec": {
   "display_name": "Python 3 (ipykernel)",
   "language": "python",
   "name": "python3"
  },
  "language_info": {
   "codemirror_mode": {
    "name": "ipython",
    "version": 3
   },
   "file_extension": ".py",
   "mimetype": "text/x-python",
   "name": "python",
   "nbconvert_exporter": "python",
   "pygments_lexer": "ipython3",
   "version": "3.10.8"
  }
 },
 "nbformat": 4,
 "nbformat_minor": 5
}
