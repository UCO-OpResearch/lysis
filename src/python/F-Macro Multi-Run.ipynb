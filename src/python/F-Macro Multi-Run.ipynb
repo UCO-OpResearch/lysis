{
 "cells": [
  {
   "cell_type": "code",
   "execution_count": 1,
   "id": "15194d88-70da-43ec-ae61-7398cc0c17c8",
   "metadata": {
    "tags": []
   },
   "outputs": [
    {
     "data": {
      "text/html": [
       "\n",
       "                <script type=\"application/javascript\" id=\"jupyter_black\">\n",
       "                (function() {\n",
       "                    if (window.IPython === undefined) {\n",
       "                        return\n",
       "                    }\n",
       "                    var msg = \"WARNING: it looks like you might have loaded \" +\n",
       "                        \"jupyter_black in a non-lab notebook with \" +\n",
       "                        \"`is_lab=True`. Please double check, and if \" +\n",
       "                        \"loading with `%load_ext` please review the README!\"\n",
       "                    console.log(msg)\n",
       "                    alert(msg)\n",
       "                })()\n",
       "                </script>\n",
       "                "
      ],
      "text/plain": [
       "<IPython.core.display.HTML object>"
      ]
     },
     "metadata": {},
     "output_type": "display_data"
    }
   ],
   "source": [
    "import black\n",
    "import jupyter_black\n",
    "\n",
    "jupyter_black.load(\n",
    "    lab=True,\n",
    "    line_length=110,\n",
    "    target_version=black.TargetVersion.PY310,\n",
    ")"
   ]
  },
  {
   "cell_type": "code",
   "execution_count": 2,
   "id": "ff26407c-9b35-44b7-9fa7-6181d91da4fb",
   "metadata": {},
   "outputs": [],
   "source": [
    "import os\n",
    "import subprocess\n",
    "\n",
    "import GooseSLURM as gs\n",
    "import numpy as np\n",
    "\n",
    "import lysis"
   ]
  },
  {
   "cell_type": "code",
   "execution_count": 3,
   "id": "9860e975-4be3-4514-af0a-06096bb2b44b",
   "metadata": {},
   "outputs": [],
   "source": [
    "experiment_type = np.dtype(\n",
    "    [\n",
    "        (\"descriptor\", np.str_, 40),\n",
    "        (\"file_code\", np.str_, 40),\n",
    "        (\"forced_unbind\", np.float_),\n",
    "        (\"average_bind_time\", np.float_),\n",
    "    ]\n",
    ")\n",
    "code_type = np.dtype([(\"file_code\", np.str_, 40), (\"descriptor\", np.str_, 40), (\"executable\", np.str_, 40)])\n",
    "run_type = np.dtype(\n",
    "    [\n",
    "        (\"exp_code\", np.str_, 15),\n",
    "        (\"experiment\", np.str_, 40),\n",
    "        (\"code\", np.str_, 40),\n",
    "        (\"seed\", int),\n",
    "        (\"running_time\", int),\n",
    "    ]\n",
    ")"
   ]
  },
  {
   "cell_type": "code",
   "execution_count": 4,
   "id": "8acd2e5a-a400-4c6f-bd8d-20606e7a743d",
   "metadata": {},
   "outputs": [],
   "source": [
    "experiments = np.array(\n",
    "    [\n",
    "        (\"Physiological Kd\", \"\", 8.52e-2, 27.8),\n",
    "        (\"10x smaller\", \"_Kd00020036\", 0.5143, 277.8),\n",
    "        (\"10x bigger\", \"_Kd0236\", 5.4e-3, 2.78),\n",
    "    ],\n",
    "    dtype=experiment_type,\n",
    ")\n",
    "programs = np.array(\n",
    "    [\n",
    "        # (\"_along\", \"Diffuse along clot\", \"macro_Q2_diffuse_along\"),\n",
    "        # (\"_always\", \"Always bind\", \"macro_Q2_always_rebind\"),\n",
    "        (\n",
    "            \"_into_and_along\",\n",
    "            \"Diffuse into and along clot\",\n",
    "            \"macro_Q2_diffuse_into_and_along\",\n",
    "        ),\n",
    "        # (\"_into\", \"Diffuse into clot\", \"macro_Q2_diffuse_into\"),\n",
    "    ],\n",
    "    dtype=code_type,\n",
    ")\n",
    "runs = np.empty(15, dtype=run_type)"
   ]
  },
  {
   "cell_type": "code",
   "execution_count": 5,
   "id": "7fc6b68b-a8b1-4c5a-956e-3efe8234ce92",
   "metadata": {},
   "outputs": [],
   "source": [
    "in_file_code = \"_PLG2_tPA01{data_code}_Q2.dat\"\n",
    "out_file_code = \"_PLG2_tPA01{data_code}{program_code}_Q2.dat\""
   ]
  },
  {
   "cell_type": "code",
   "execution_count": 6,
   "id": "ebe8c9d5-f35e-4e19-b72e-43fea2254325",
   "metadata": {},
   "outputs": [],
   "source": [
    "runs = np.array(\n",
    "    [\n",
    "        # (\"2023-02-02-2200\", \"Physiological Kd\", \"Diffuse along clot\", 17109424, 0),\n",
    "        # (\"2023-02-02-2201\", \"Physiological Kd\", \"Always bind\", 9965734, 0),\n",
    "        (\"2023-02-02-2203\", \"Physiological Kd\", \"Diffuse into and along clot\", -2137354075, 0),\n",
    "        # (\"2023-02-02-2204\", \"Physiological Kd\", \"Diffuse into clot\", -2135977853, 0),\n",
    "        # (\"2023-02-02-2205\", \"10x smaller\", \"Diffuse along clot\", -848304637, 0),\n",
    "        # (\"2023-02-02-2206\", \"10x smaller\", \"Always bind\", 1299539472, 0),\n",
    "        (\"2023-02-02-2208\", \"10x smaller\", \"Diffuse into and along clot\", -854989241, 0),\n",
    "        # (\"2023-02-02-2209\", \"10x smaller\", \"Diffuse into clot\", -850336215, 0),\n",
    "        # (\"2023-02-02-2210\", \"10x bigger\", \"Diffuse along clot\", -1216563743, 0),\n",
    "        # (\"2023-02-02-2211\", \"10x bigger\", \"Always bind\", 669985532, 0),\n",
    "        (\"2023-02-02-2213\", \"10x bigger\", \"Diffuse into and along clot - FIXED\", -1212172957, 0),\n",
    "        # (\"2023-02-02-2214\", \"10x bigger\", \"Diffuse into clot\", -1213352577, 0),\n",
    "    ],\n",
    "    dtype=run_type,\n",
    ")"
   ]
  },
  {
   "cell_type": "code",
   "execution_count": 7,
   "id": "e5667d27-3084-4c94-a36b-67f243daaa0e",
   "metadata": {},
   "outputs": [
    {
     "name": "stdout",
     "output_type": "stream",
     "text": [
      "CompletedProcess(args=['cp', 'src/fortran/macro_Q2_always_rebind.f90', '/home/bpaynter/git/UCO-OpResearch/lysis/data/2023-02-02-2201'], returncode=0, stdout=b'', stderr=b'')\n",
      "CompletedProcess(args=['cp', 'src/fortran/macro_Q2_always_rebind.f90', '/home/bpaynter/git/UCO-OpResearch/lysis/data/2023-02-02-2206'], returncode=0, stdout=b'', stderr=b'')\n",
      "CompletedProcess(args=['cp', 'src/fortran/macro_Q2_always_rebind.f90', '/home/bpaynter/git/UCO-OpResearch/lysis/data/2023-02-02-2211'], returncode=0, stdout=b'', stderr=b'')\n"
     ]
    }
   ],
   "source": [
    "for run in runs:\n",
    "    prog = programs[programs[\"descriptor\"] == run[\"code\"]]\n",
    "    exper = experiments[experiments[\"descriptor\"] == run[\"experiment\"]]\n",
    "    e = lysis.util.Experiment(\n",
    "        os.path.join(\"/\", \"home\", \"bpaynter\", \"git\", \"UCO-OpResearch\", \"lysis\", \"data\"),\n",
    "        experiment_code=run[\"exp_code\"],\n",
    "    )\n",
    "    p = {\n",
    "        \"forced_unbind\": float(exper[\"forced_unbind\"]),\n",
    "        \"average_bind_time\": float(exper[\"average_bind_time\"]),\n",
    "        \"seed\": int(run[\"seed\"]),\n",
    "        \"total_time\": int(run[\"running_time\"]),\n",
    "        \"macro_version\": \"macro\"\n",
    "        + out_file_code[:-4].format(data_code=exper[\"file_code\"][0], program_code=prog[\"file_code\"][0]),\n",
    "    }\n",
    "    e.initialize_macro_param(p)\n",
    "    e.to_file()\n",
    "\n",
    "    with open(os.path.join(e.os_path, \"README.md\"), \"w\") as file:\n",
    "        file.write(\n",
    "            f\"\"\" ## {e.experiment_code}\n",
    "Rerun of into and along \"restricted move\" experiments after \n",
    "    -  'restricted move' bug correction\n",
    "    -  'passerby molecule' bug correction\n",
    "    -  addition of extra output data\n",
    "    -  changing the termination criteria from 'fixed time' to 'all fibers degraded' AND '95% of molecules have passed through'\n",
    "    -  changing macro-unbind wait time to remaining leaving time.\n",
    "    \n",
    "The results here should be comparable to those in experiment 2023-02-02-22{e.experiment_code[-2:]}\n",
    "\n",
    "This set of data is from the \"{run['experiment']}\" set.\n",
    "\"\"\"\n",
    "        )\n",
    "\n",
    "    result = subprocess.run(\n",
    "        [\"cp\", os.path.join(\"src\", \"fortran\", prog[\"executable\"][0] + \".f90\"), e.os_path],\n",
    "        cwd=os.path.join(\"/\", \"home\", \"bpaynter\", \"git\", \"UCO-OpResearch\", \"lysis\"),\n",
    "        capture_output=True,\n",
    "    )\n",
    "    print(result)"
   ]
  },
  {
   "cell_type": "code",
   "execution_count": 8,
   "id": "90162ce4-4da6-41c7-9165-d5f302a84771",
   "metadata": {},
   "outputs": [
    {
     "name": "stdout",
     "output_type": "stream",
     "text": [
      "CompletedProcess(args=['sbatch', '/home/bpaynter/git/UCO-OpResearch/lysis/data/2023-02-02-2201/job.slurm'], returncode=0, stdout=b'Submitted batch job 2215087\\n', stderr=b'')\n",
      "CompletedProcess(args=['sbatch', '/home/bpaynter/git/UCO-OpResearch/lysis/data/2023-02-02-2206/job.slurm'], returncode=0, stdout=b'Submitted batch job 2215088\\n', stderr=b'')\n",
      "CompletedProcess(args=['sbatch', '/home/bpaynter/git/UCO-OpResearch/lysis/data/2023-02-02-2211/job.slurm'], returncode=0, stdout=b'Submitted batch job 2215089\\n', stderr=b'')\n"
     ]
    }
   ],
   "source": [
    "for run in runs:\n",
    "    prog = programs[programs[\"descriptor\"] == run[\"code\"]]\n",
    "    exper = experiments[experiments[\"descriptor\"] == run[\"experiment\"]]\n",
    "    e = lysis.util.Experiment(\n",
    "        os.path.join(\"/\", \"home\", \"bpaynter\", \"git\", \"UCO-OpResearch\", \"lysis\", \"data\"),\n",
    "        experiment_code=run[\"exp_code\"],\n",
    "    )\n",
    "    e.read_file()\n",
    "    f = lysis.util.FortranMacro(\n",
    "        exp=e,\n",
    "        executable=os.path.join(\n",
    "            \"/\", \"home\", \"bpaynter\", \"git\", \"UCO-OpResearch\", \"lysis\", \"bin\", prog[\"executable\"][0]\n",
    "        ),\n",
    "        in_file_code=in_file_code.format(data_code=exper[\"file_code\"][0]),\n",
    "        out_file_code=out_file_code.format(\n",
    "            data_code=exper[\"file_code\"][0], program_code=prog[\"file_code\"][0]\n",
    "        ),\n",
    "    )\n",
    "    comm = f.exec_command()\n",
    "    comm += [\n",
    "        \">\",\n",
    "        os.path.join(\n",
    "            e.os_path,\n",
    "            \"macro\"\n",
    "            + out_file_code[:-4].format(data_code=exper[\"file_code\"][0], program_code=prog[\"file_code\"][0])\n",
    "            + \".txt\",\n",
    "        ),\n",
    "    ]\n",
    "    comm = \" \".join(comm)\n",
    "    # job-options\n",
    "    sbatch = {\n",
    "        \"job-name\": \"lysis-\" + e.experiment_code,\n",
    "        \"out\": os.path.join(e.os_path, \"job.slurm-%j.out\"),\n",
    "        \"nodes\": 1,\n",
    "        \"mem\": 3096,\n",
    "        \"ntasks\": 1,\n",
    "        \"cpus-per-task\": 1,\n",
    "        \"partition\": \"long\",\n",
    "    }\n",
    "    script = [\"module purge\", \"module load oneapi/compiler\", comm]\n",
    "    with open(os.path.join(e.os_path, \"job.slurm\"), \"w\") as file:\n",
    "        file.write(gs.scripts.plain(script, **sbatch))\n",
    "    result = subprocess.run(\n",
    "        [\"sbatch\", os.path.join(e.os_path, \"job.slurm\")],\n",
    "        cwd=os.path.join(\"/\", \"home\", \"bpaynter\", \"git\", \"UCO-OpResearch\", \"lysis\"),\n",
    "        capture_output=True,\n",
    "    )\n",
    "    print(result)"
   ]
  },
  {
   "cell_type": "code",
   "execution_count": null,
   "id": "41e871aa-ebfc-48a5-9b50-4932feb9d800",
   "metadata": {},
   "outputs": [],
   "source": []
  },
  {
   "cell_type": "code",
   "execution_count": null,
   "id": "2f651eee-5b0e-4cbb-a195-6a7de873a427",
   "metadata": {},
   "outputs": [],
   "source": []
  }
 ],
 "metadata": {
  "kernelspec": {
   "display_name": "Python 3 (ipykernel)",
   "language": "python",
   "name": "python3"
  },
  "language_info": {
   "codemirror_mode": {
    "name": "ipython",
    "version": 3
   },
   "file_extension": ".py",
   "mimetype": "text/x-python",
   "name": "python",
   "nbconvert_exporter": "python",
   "pygments_lexer": "ipython3",
   "version": "3.10.8"
  }
 },
 "nbformat": 4,
 "nbformat_minor": 5
}
