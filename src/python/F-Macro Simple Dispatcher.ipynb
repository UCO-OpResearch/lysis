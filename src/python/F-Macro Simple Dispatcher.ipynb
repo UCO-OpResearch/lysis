{
 "cells": [
  {
   "cell_type": "code",
   "execution_count": 1,
   "id": "15194d88-70da-43ec-ae61-7398cc0c17c8",
   "metadata": {
    "tags": []
   },
   "outputs": [
    {
     "data": {
      "text/html": [
       "\n",
       "                <script type=\"application/javascript\" id=\"jupyter_black\">\n",
       "                (function() {\n",
       "                    if (window.IPython === undefined) {\n",
       "                        return\n",
       "                    }\n",
       "                    var msg = \"WARNING: it looks like you might have loaded \" +\n",
       "                        \"jupyter_black in a non-lab notebook with \" +\n",
       "                        \"`is_lab=True`. Please double check, and if \" +\n",
       "                        \"loading with `%load_ext` please review the README!\"\n",
       "                    console.log(msg)\n",
       "                    alert(msg)\n",
       "                })()\n",
       "                </script>\n",
       "                "
      ],
      "text/plain": [
       "<IPython.core.display.HTML object>"
      ]
     },
     "metadata": {},
     "output_type": "display_data"
    }
   ],
   "source": [
    "import black\n",
    "import jupyter_black\n",
    "\n",
    "jupyter_black.load(\n",
    "    lab=True,\n",
    "    line_length=110,\n",
    "    target_version=black.TargetVersion.PY310,\n",
    ")"
   ]
  },
  {
   "cell_type": "code",
   "execution_count": 2,
   "id": "ff26407c-9b35-44b7-9fa7-6181d91da4fb",
   "metadata": {},
   "outputs": [],
   "source": [
    "import os\n",
    "import subprocess\n",
    "\n",
    "import GooseSLURM as gs\n",
    "import numpy as np\n",
    "\n",
    "import lysis"
   ]
  },
  {
   "cell_type": "code",
   "execution_count": 3,
   "id": "7fc6b68b-a8b1-4c5a-956e-3efe8234ce92",
   "metadata": {},
   "outputs": [],
   "source": [
    "executable = \"macro-normal\"\n",
    "exp_code = \"2023-01-31-1200\"\n",
    "in_file_code = \".dat\"\n",
    "out_file_code = \".f-normal.dat\""
   ]
  },
  {
   "cell_type": "code",
   "execution_count": 4,
   "id": "e8b2bcac-d059-4c88-81f3-629f6bc7ec5d",
   "metadata": {},
   "outputs": [],
   "source": [
    "e = lysis.util.Experiment(\n",
    "    os.path.join(\"/\", \"home\", \"bpaynter\", \"git\", \"UCO-OpResearch\", \"lysis\", \"data\"),\n",
    "    experiment_code=exp_code,\n",
    ")\n",
    "e.read_file()"
   ]
  },
  {
   "cell_type": "code",
   "execution_count": 5,
   "id": "e5667d27-3084-4c94-a36b-67f243daaa0e",
   "metadata": {},
   "outputs": [],
   "source": [
    "f = lysis.util.FortranMacro(\n",
    "    exp=e,\n",
    "    executable=os.path.join(\"/\", \"home\", \"bpaynter\", \"git\", \"UCO-OpResearch\", \"lysis\", \"bin\", executable),\n",
    "    in_file_code=in_file_code,\n",
    "    out_file_code=out_file_code,\n",
    ")\n",
    "comm = f.exec_command()"
   ]
  },
  {
   "cell_type": "code",
   "execution_count": 6,
   "id": "3c14f547-9ce5-4c7a-8957-2db5bbb4c860",
   "metadata": {},
   "outputs": [
    {
     "name": "stdout",
     "output_type": "stream",
     "text": [
      "CompletedProcess(args=['/home/bpaynter/git/UCO-OpResearch/lysis/bin/macro-normal', '--expCode', '2023-01-31-1200', '--inFileCode', '.dat', '--outFileCode', '.f-normal.dat', '--N', '10', '--F', '13', '--Ffree', '4', '--M', '50', '--tf', '0', '--seed', '758492894'], returncode=0)\n"
     ]
    }
   ],
   "source": [
    "with open(os.path.join(e.os_path, \"macro\" + out_file_code[:-4] + \".txt\"), \"w\") as file:\n",
    "    result = subprocess.run(\n",
    "        comm,\n",
    "        cwd=os.path.join(\"/\", \"home\", \"bpaynter\", \"git\", \"UCO-OpResearch\", \"lysis\"),\n",
    "        stdout=file,\n",
    "    )\n",
    "    print(result)"
   ]
  },
  {
   "cell_type": "code",
   "execution_count": null,
   "id": "a84ba6ff-9bad-4581-bc31-6cc697f1b040",
   "metadata": {},
   "outputs": [],
   "source": []
  },
  {
   "cell_type": "code",
   "execution_count": null,
   "id": "41e871aa-ebfc-48a5-9b50-4932feb9d800",
   "metadata": {},
   "outputs": [],
   "source": []
  },
  {
   "cell_type": "code",
   "execution_count": null,
   "id": "2f651eee-5b0e-4cbb-a195-6a7de873a427",
   "metadata": {},
   "outputs": [],
   "source": []
  }
 ],
 "metadata": {
  "kernelspec": {
   "display_name": "Python 3 (ipykernel)",
   "language": "python",
   "name": "python3"
  },
  "language_info": {
   "codemirror_mode": {
    "name": "ipython",
    "version": 3
   },
   "file_extension": ".py",
   "mimetype": "text/x-python",
   "name": "python",
   "nbconvert_exporter": "python",
   "pygments_lexer": "ipython3",
   "version": "3.10.8"
  }
 },
 "nbformat": 4,
 "nbformat_minor": 5
}
