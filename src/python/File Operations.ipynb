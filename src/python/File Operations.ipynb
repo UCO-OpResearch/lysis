{
 "cells": [
  {
   "cell_type": "code",
   "execution_count": null,
   "id": "56f1bf06-bd13-40ee-8f4d-09147c7bf908",
   "metadata": {},
   "outputs": [],
   "source": [
    "import lysis\n",
    "import numpy as np"
   ]
  },
  {
   "cell_type": "code",
   "execution_count": null,
   "id": "8eea4931-5a0f-478a-bc74-2684838628d1",
   "metadata": {},
   "outputs": [],
   "source": [
    "e = lysis.util.Experiment(r'..\\..\\data', experiment_code='2022-12-27-1100')"
   ]
  },
  {
   "cell_type": "code",
   "execution_count": null,
   "id": "00b685ac-9c80-4823-abdb-50d55c239214",
   "metadata": {},
   "outputs": [],
   "source": [
    "# e.initialize_macro_param()\n",
    "e.read_file()"
   ]
  },
  {
   "cell_type": "code",
   "execution_count": null,
   "id": "c8dc0cee-c3d2-42b5-af8e-af69a06ab463",
   "metadata": {},
   "outputs": [],
   "source": [
    "e.to_file()"
   ]
  },
  {
   "cell_type": "code",
   "execution_count": null,
   "id": "1ee567be-e1bb-48cf-88c7-0376dce9cde3",
   "metadata": {},
   "outputs": [],
   "source": [
    "MacroParameters.print"
   ]
  },
  {
   "cell_type": "code",
   "execution_count": null,
   "id": "1eb896f2-094f-4b9b-a2c8-a2fa5d6591bf",
   "metadata": {
    "tags": []
   },
   "outputs": [],
   "source": [
    "print(e)"
   ]
  },
  {
   "cell_type": "code",
   "execution_count": null,
   "id": "d30f20b6-7b42-4d00-93fc-855b79608e15",
   "metadata": {},
   "outputs": [],
   "source": [
    "e.read_macro_input_data()"
   ]
  },
  {
   "cell_type": "code",
   "execution_count": null,
   "id": "ae8942eb-3522-46e3-985d-8ef4cb3e81c8",
   "metadata": {},
   "outputs": [],
   "source": [
    "e.data.lysis_time"
   ]
  },
  {
   "cell_type": "code",
   "execution_count": null,
   "id": "09b60b87-93e2-4b46-9790-feb87fad0191",
   "metadata": {},
   "outputs": [],
   "source": [
    "e.data.unbinding_time"
   ]
  },
  {
   "cell_type": "code",
   "execution_count": null,
   "id": "24689943-019f-4f5d-a7c4-5d2ff93ecd91",
   "metadata": {},
   "outputs": [],
   "source": [
    "e.data.new('test', 'test.dat')"
   ]
  },
  {
   "cell_type": "code",
   "execution_count": null,
   "id": "862454e9-a6ca-4f8c-a564-bc100ba998be",
   "metadata": {},
   "outputs": [],
   "source": [
    "e.data.overwrite('test', np.ones((12, 21)))"
   ]
  },
  {
   "cell_type": "code",
   "execution_count": null,
   "id": "6d85377f-a1af-4c69-a0c5-32421f5b9eb6",
   "metadata": {},
   "outputs": [],
   "source": [
    "e.data.test.shape"
   ]
  },
  {
   "cell_type": "code",
   "execution_count": null,
   "id": "e6185303-dfe4-4e1a-9b9e-484bad83f2a6",
   "metadata": {},
   "outputs": [],
   "source": [
    "e.data.append('test', np.zeros((2, 21)), 0)"
   ]
  },
  {
   "cell_type": "code",
   "execution_count": null,
   "id": "7ee0b0a1-1169-4e9c-8d5e-9f5c747dbde9",
   "metadata": {},
   "outputs": [],
   "source": [
    "e.data.save_to_disk('test')"
   ]
  },
  {
   "cell_type": "code",
   "execution_count": null,
   "id": "81f89ed9-7986-425a-b467-6686c86d4be1",
   "metadata": {},
   "outputs": [],
   "source": [
    "e.data.delete('test')"
   ]
  },
  {
   "cell_type": "code",
   "execution_count": null,
   "id": "2be5401b-fcee-4bbd-9a2f-95f6f42ba847",
   "metadata": {},
   "outputs": [],
   "source": [
    "e.data.test"
   ]
  },
  {
   "cell_type": "code",
   "execution_count": null,
   "id": "b7a3838a-865e-407e-9151-0e2af0574c78",
   "metadata": {},
   "outputs": [],
   "source": []
  }
 ],
 "metadata": {
  "kernelspec": {
   "display_name": "Python 3 (ipykernel)",
   "language": "python",
   "name": "python3"
  },
  "language_info": {
   "codemirror_mode": {
    "name": "ipython",
    "version": 3
   },
   "file_extension": ".py",
   "mimetype": "text/x-python",
   "name": "python",
   "nbconvert_exporter": "python",
   "pygments_lexer": "ipython3",
   "version": "3.11.0"
  }
 },
 "nbformat": 4,
 "nbformat_minor": 5
}
