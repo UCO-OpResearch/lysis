{
 "cells": [
  {
   "cell_type": "code",
   "execution_count": 1,
   "id": "56f1bf06-bd13-40ee-8f4d-09147c7bf908",
   "metadata": {},
   "outputs": [],
   "source": [
    "import lysis"
   ]
  },
  {
   "cell_type": "code",
   "execution_count": 2,
   "id": "8eea4931-5a0f-478a-bc74-2684838628d1",
   "metadata": {},
   "outputs": [],
   "source": [
    "e = lysis.util.Experiment(r'../../data', experiment_code='2022-12-27-1100')"
   ]
  },
  {
   "cell_type": "code",
   "execution_count": 9,
   "id": "00b685ac-9c80-4823-abdb-50d55c239214",
   "metadata": {},
   "outputs": [],
   "source": [
    "e.initialize_macro_param()\n",
    "# e.read_file()"
   ]
  },
  {
   "cell_type": "code",
   "execution_count": 11,
   "id": "c8dc0cee-c3d2-42b5-af8e-af69a06ab463",
   "metadata": {},
   "outputs": [],
   "source": [
    "e.to_file()"
   ]
  },
  {
   "cell_type": "code",
   "execution_count": 10,
   "id": "1eb896f2-094f-4b9b-a2c8-a2fa5d6591bf",
   "metadata": {
    "tags": []
   },
   "outputs": [
    {
     "name": "stdout",
     "output_type": "stream",
     "text": [
      "experiment_code : 2022-12-27-1100\n",
      "micro_params    : None\n",
      "macro_params    : binding_rate       : 0.1\n",
      "                  pore_size          : 0.00010135\n",
      "                  diffusion_coeff    : 5e-07\n",
      "                  binding_sites      : 427.0\n",
      "                  forced_unbind      : 0.0852\n",
      "                  average_bind_time  : 27.8\n",
      "                  grid_node_distance : 1.0862\n",
      "                  rows               : 93\n",
      "                  cols               : 121\n",
      "                  full_row           : 362\n",
      "                  xz_row             : 241\n",
      "                  total_edges        : 33545\n",
      "                  first_fiber_row    : 28\n",
      "                  last_ghost_edge    : 10135\n",
      "                  total_molecules    : 43074\n",
      "                  moving_probability : 0.2\n",
      "                  total_trials       : 10\n",
      "                  total_time         : 600\n",
      "                  time_step          : 0.0003423940833333333\n",
      "                  total_time_steps   : 1752366.729467921\n",
      "                  seed               : -2137354075\n",
      "                  state              : (129281, 362436069, 123456789, -2137354075)\n",
      "                  data_files         : unbinding_time : tsectPA.dat\n",
      "                                       lysis_time     : lysismat.dat\n",
      "                                       total_lyses    : lenlysisvect.dat\n",
      "                  macro_version      : diffuse_into_and_along\n",
      "                  log_lvl            : 30\n",
      "                  duplicate_fortran  : True\n",
      "\n"
     ]
    }
   ],
   "source": [
    "print(e)"
   ]
  },
  {
   "cell_type": "code",
   "execution_count": 6,
   "id": "d30f20b6-7b42-4d00-93fc-855b79608e15",
   "metadata": {},
   "outputs": [],
   "source": [
    "e.read_macro_input_data()"
   ]
  },
  {
   "cell_type": "code",
   "execution_count": 7,
   "id": "ae8942eb-3522-46e3-985d-8ef4cb3e81c8",
   "metadata": {},
   "outputs": [
    {
     "data": {
      "text/plain": [
       "(100, 109)"
      ]
     },
     "execution_count": 7,
     "metadata": {},
     "output_type": "execute_result"
    }
   ],
   "source": [
    "e.data.lysis_time.shape"
   ]
  },
  {
   "cell_type": "code",
   "execution_count": 8,
   "id": "09b60b87-93e2-4b46-9790-feb87fad0191",
   "metadata": {},
   "outputs": [
    {
     "data": {
      "text/plain": [
       "array([  0.        ,   0.29506572,   0.57237004,   0.88223814,\n",
       "         1.17340006,   1.46599673,   1.75341142,   2.01955621,\n",
       "         2.33368147,   2.6382772 ,   2.93905652,   3.24035928,\n",
       "         3.54929825,   3.86236265,   4.19878894,   4.53336468,\n",
       "         4.85379003,   5.1825327 ,   5.50016101,   5.84541686,\n",
       "         6.20231422,   6.5521651 ,   6.88336991,   7.21358591,\n",
       "         7.58457297,   7.91912835,   8.31018417,   8.67624729,\n",
       "         9.03613326,   9.41473879,   9.76449299,  10.13700333,\n",
       "        10.51225627,  10.91041063,  11.30525118,  11.68735245,\n",
       "        12.10503524,  12.53559422,  13.00486331,  13.43395271,\n",
       "        13.88130291,  14.35756371,  14.82886422,  15.30568719,\n",
       "        15.77082976,  16.26991572,  16.73194359,  17.20869006,\n",
       "        17.70931391,  18.18281749,  18.71374066,  19.26998702,\n",
       "        19.80614074,  20.36644753,  20.92204732,  21.5123866 ,\n",
       "        22.10374211,  22.63101585,  23.2220935 ,  23.81276434,\n",
       "        24.43463178,  25.09653225,  25.75990295,  26.44935524,\n",
       "        27.10637668,  27.81546227,  28.57760504,  29.40739172,\n",
       "        30.19851728,  30.9938009 ,  31.85706574,  32.75578958,\n",
       "        33.59767474,  34.50848267,  35.35892611,  36.40058986,\n",
       "        37.36911462,  38.37190109,  39.47768789,  40.62501175,\n",
       "        41.83310615,  43.13495501,  44.4836478 ,  45.94758452,\n",
       "        47.46485056,  49.29329064,  51.14505118,  53.04936633,\n",
       "        55.14949342,  57.29922651,  59.62315585,  62.24317682,\n",
       "        65.311043  ,  68.53722492,  72.47275948,  77.00589295,\n",
       "        82.9454644 ,  90.03816984, 100.83429577, 117.76494839,\n",
       "       274.80107323])"
      ]
     },
     "execution_count": 8,
     "metadata": {},
     "output_type": "execute_result"
    }
   ],
   "source": [
    "e.data.unbinding_time"
   ]
  },
  {
   "cell_type": "code",
   "execution_count": null,
   "id": "24689943-019f-4f5d-a7c4-5d2ff93ecd91",
   "metadata": {},
   "outputs": [],
   "source": [
    "unbinding_time = np.loadtxt(os.path.join(e.os_path, e.macro_params['data_files']['unbinding_time']))\n",
    "unbinding_time"
   ]
  },
  {
   "cell_type": "code",
   "execution_count": null,
   "id": "f47702e9-ad03-4cc8-9c7d-6b4406a3c77c",
   "metadata": {},
   "outputs": [],
   "source": [
    "total_lyses = np.loadtxt(os.path.join(e.os_path, e.macro_params['data_files']['total_lyses']), dtype=int, converters=float)\n",
    "total_lyses.max()"
   ]
  },
  {
   "cell_type": "code",
   "execution_count": null,
   "id": "c572fdd7-ac7f-4c39-ba40-e40738423304",
   "metadata": {},
   "outputs": [],
   "source": [
    "lysis_time = np.loadtxt(os.path.join(e.os_path, e.macro_params['data_files']['lysis_time'])).T\n",
    "lysis_time.shape"
   ]
  },
  {
   "cell_type": "code",
   "execution_count": null,
   "id": "2468c686-7727-4252-929d-818ca650bfc5",
   "metadata": {},
   "outputs": [],
   "source": [
    "lysis_time.size"
   ]
  },
  {
   "cell_type": "code",
   "execution_count": null,
   "id": "81a9860f-e6a5-4b36-a63b-56ec180b9e89",
   "metadata": {},
   "outputs": [],
   "source": [
    "lysis_time_trunc = np.delete(lysis_time, np.s_[total_lyses.max():], 1)\n",
    "lysis_time_trunc.shape"
   ]
  },
  {
   "cell_type": "code",
   "execution_count": null,
   "id": "bef7b605-7aa4-465f-943b-6a744278f2d5",
   "metadata": {
    "collapsed": true,
    "jupyter": {
     "outputs_hidden": true
    },
    "tags": []
   },
   "outputs": [],
   "source": [
    "for i in range(len(e.data.lysis_time)):\n",
    "    print(e.data.lysis_time[i][e.data.total_lyses[i]-2], e.data.lysis_time[i][e.data.total_lyses[i]-1])"
   ]
  },
  {
   "cell_type": "code",
   "execution_count": null,
   "id": "00ac5cf3-21d3-469e-a4cc-77ed7ad86946",
   "metadata": {},
   "outputs": [],
   "source": [
    "for k, v in e.data.items():\n",
    "    print(k, v.shape)"
   ]
  },
  {
   "cell_type": "code",
   "execution_count": null,
   "id": "14246a5b-a1a9-4050-89c1-d2e3c5a637a4",
   "metadata": {},
   "outputs": [],
   "source": [
    "print(util.MacroParameters.print_default_values())"
   ]
  },
  {
   "cell_type": "code",
   "execution_count": null,
   "id": "60ca6f45-210c-4bcb-b46f-fd4af072b8e7",
   "metadata": {},
   "outputs": [],
   "source": [
    "a = (1, 2, 3, 4)"
   ]
  },
  {
   "cell_type": "code",
   "execution_count": null,
   "id": "cc296ebc-135e-4ef2-8cfe-3c381377f2d4",
   "metadata": {},
   "outputs": [],
   "source": [
    "b = a[:2] + (9,)\n",
    "b"
   ]
  },
  {
   "cell_type": "code",
   "execution_count": null,
   "id": "1d786805-af9e-4b02-856a-efc8059cc9a6",
   "metadata": {},
   "outputs": [],
   "source": [
    "c = [5, 6, 7, 8]\n",
    "a = tuple(i for i in c)\n",
    "a"
   ]
  },
  {
   "cell_type": "code",
   "execution_count": null,
   "id": "9ba9e7c6-b213-42bd-9375-a32f91b05153",
   "metadata": {},
   "outputs": [],
   "source": [
    "import sys\n",
    "sys.int_info"
   ]
  },
  {
   "cell_type": "code",
   "execution_count": null,
   "id": "56ace4a1-4d47-4e06-b72a-17fa60af44cb",
   "metadata": {},
   "outputs": [],
   "source": [
    "sys.maxsize"
   ]
  },
  {
   "cell_type": "code",
   "execution_count": 6,
   "id": "2d3575c7-5c45-4de1-840c-7028611a8f3c",
   "metadata": {},
   "outputs": [
    {
     "name": "stdout",
     "output_type": "stream",
     "text": [
      "(arg1, arg2)\n"
     ]
    },
    {
     "data": {
      "text/plain": [
       "mappingproxy({'a': <Parameter \"a\">,\n",
       "              'b': <Parameter \"b\">,\n",
       "              'c': <Parameter \"c=4\">,\n",
       "              'arglist': <Parameter \"*arglist\">,\n",
       "              'keywords': <Parameter \"**keywords\">})"
      ]
     },
     "execution_count": 6,
     "metadata": {},
     "output_type": "execute_result"
    }
   ],
   "source": [
    "import inspect\n",
    "def aMethod(arg1, arg2): pass\n",
    "print(inspect.signature(aMethod))\n",
    "def foo(a,b,c=4, *arglist, **keywords): pass\n",
    "a = inspect.signature(foo)\n",
    "a.parameters"
   ]
  },
  {
   "cell_type": "code",
   "execution_count": 9,
   "id": "d37cd63a-0e11-47d9-aa2c-42dd69794a6d",
   "metadata": {},
   "outputs": [
    {
     "data": {
      "text/plain": [
       "odict_keys(['binding_rate', 'pore_size', 'diffusion_coeff', 'binding_sites', 'forced_unbind', 'average_bind_time', 'grid_node_distance', 'rows', 'cols', 'first_fiber_row', 'total_molecules', 'moving_probability', 'total_trials', 'total_time', 'seed', 'state', 'data_files', 'macro_version', 'log_lvl', 'duplicate_fortran'])"
      ]
     },
     "execution_count": 9,
     "metadata": {},
     "output_type": "execute_result"
    }
   ],
   "source": [
    "inspect.signature(lysis.util.MacroParameters).parameters.keys()"
   ]
  },
  {
   "cell_type": "code",
   "execution_count": 10,
   "id": "757d2042-e687-422c-aa32-8408d626cdfa",
   "metadata": {},
   "outputs": [
    {
     "data": {
      "text/plain": [
       "True"
      ]
     },
     "execution_count": 10,
     "metadata": {},
     "output_type": "execute_result"
    }
   ],
   "source": [
    "'binding_rate' in inspect.signature(lysis.util.MacroParameters).parameters"
   ]
  },
  {
   "cell_type": "code",
   "execution_count": null,
   "id": "aee77d9f-101d-4305-bb96-118491bb376f",
   "metadata": {},
   "outputs": [],
   "source": []
  }
 ],
 "metadata": {
  "kernelspec": {
   "display_name": "Python 3 (ipykernel)",
   "language": "python",
   "name": "python3"
  },
  "language_info": {
   "codemirror_mode": {
    "name": "ipython",
    "version": 3
   },
   "file_extension": ".py",
   "mimetype": "text/x-python",
   "name": "python",
   "nbconvert_exporter": "python",
   "pygments_lexer": "ipython3",
   "version": "3.11.0"
  }
 },
 "nbformat": 4,
 "nbformat_minor": 5
}
