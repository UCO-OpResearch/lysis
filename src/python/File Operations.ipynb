{
 "cells": [
  {
   "cell_type": "code",
   "execution_count": 11,
   "id": "56f1bf06-bd13-40ee-8f4d-09147c7bf908",
   "metadata": {},
   "outputs": [],
   "source": [
    "import lysis\n",
    "from tqdm import tqdm"
   ]
  },
  {
   "cell_type": "code",
   "execution_count": 2,
   "id": "8eea4931-5a0f-478a-bc74-2684838628d1",
   "metadata": {},
   "outputs": [],
   "source": [
    "e = lysis.util.Experiment(r'..\\..\\data', experiment_code='2022-12-27-1100')"
   ]
  },
  {
   "cell_type": "code",
   "execution_count": 3,
   "id": "00b685ac-9c80-4823-abdb-50d55c239214",
   "metadata": {},
   "outputs": [],
   "source": [
    "e.initialize_macro_param()\n",
    "# e.read_file()"
   ]
  },
  {
   "cell_type": "code",
   "execution_count": 5,
   "id": "c8dc0cee-c3d2-42b5-af8e-af69a06ab463",
   "metadata": {},
   "outputs": [],
   "source": [
    "e.to_file()"
   ]
  },
  {
   "cell_type": "code",
   "execution_count": null,
   "id": "1ee567be-e1bb-48cf-88c7-0376dce9cde3",
   "metadata": {},
   "outputs": [],
   "source": [
    "MacroParameters.print"
   ]
  },
  {
   "cell_type": "code",
   "execution_count": 4,
   "id": "1eb896f2-094f-4b9b-a2c8-a2fa5d6591bf",
   "metadata": {
    "tags": []
   },
   "outputs": [
    {
     "name": "stdout",
     "output_type": "stream",
     "text": [
      "experiment_code : 2022-12-27-1100\n",
      "data_filenames  : unbinding_time : tsectPA.dat\n",
      "                  lysis_time     : lysismat.dat\n",
      "                  total_lyses    : lenlysisvect.dat\n",
      "micro_params    : None\n",
      "macro_params    : binding_rate       : 0.1\n",
      "                  pore_size          : 0.00010135\n",
      "                  diffusion_coeff    : 5e-07\n",
      "                  binding_sites      : 427.0\n",
      "                  forced_unbind      : 0.0852\n",
      "                  average_bind_time  : 27.8\n",
      "                  grid_node_distance : 1.0862\n",
      "                  rows               : 93\n",
      "                  cols               : 121\n",
      "                  full_row           : 362\n",
      "                  xz_row             : 241\n",
      "                  total_edges        : 33,545\n",
      "                  total_fibers       : 23,409\n",
      "                  empty_rows         : 28\n",
      "                  last_empty_edge    : 10,135\n",
      "                  total_molecules    : 43,074\n",
      "                  moving_probability : 0.2\n",
      "                  microscale_runs    : 50,000\n",
      "                  total_trials       : 10\n",
      "                  total_time         : 600\n",
      "                  time_step          : 0.0003423940833333333\n",
      "                  total_time_steps   : 1,752,366\n",
      "                  seed               : -2,137,354,075\n",
      "                  state              : (129281, 362436069, 123456789, -2137354075)\n",
      "                  data_required      : ['unbinding_time', 'lysis_time', 'total_lyses']\n",
      "                  macro_version      : diffuse_into_and_along\n",
      "                  log_lvl            : 30\n",
      "                  duplicate_fortran  : 1\n",
      "\n"
     ]
    }
   ],
   "source": [
    "print(e)"
   ]
  },
  {
   "cell_type": "code",
   "execution_count": null,
   "id": "d30f20b6-7b42-4d00-93fc-855b79608e15",
   "metadata": {},
   "outputs": [],
   "source": [
    "e.read_macro_input_data()"
   ]
  },
  {
   "cell_type": "code",
   "execution_count": null,
   "id": "ae8942eb-3522-46e3-985d-8ef4cb3e81c8",
   "metadata": {},
   "outputs": [],
   "source": [
    "e.data.lysis_time"
   ]
  },
  {
   "cell_type": "code",
   "execution_count": null,
   "id": "09b60b87-93e2-4b46-9790-feb87fad0191",
   "metadata": {},
   "outputs": [],
   "source": [
    "e.data.unbinding_time"
   ]
  },
  {
   "cell_type": "code",
   "execution_count": null,
   "id": "24689943-019f-4f5d-a7c4-5d2ff93ecd91",
   "metadata": {},
   "outputs": [],
   "source": [
    "e.data.new('test', 'test.dat')"
   ]
  },
  {
   "cell_type": "code",
   "execution_count": null,
   "id": "862454e9-a6ca-4f8c-a564-bc100ba998be",
   "metadata": {},
   "outputs": [],
   "source": [
    "e.data.overwrite('test', np.ones((12, 21)))"
   ]
  },
  {
   "cell_type": "code",
   "execution_count": null,
   "id": "6d85377f-a1af-4c69-a0c5-32421f5b9eb6",
   "metadata": {},
   "outputs": [],
   "source": [
    "e.data.test.shape"
   ]
  },
  {
   "cell_type": "code",
   "execution_count": null,
   "id": "e6185303-dfe4-4e1a-9b9e-484bad83f2a6",
   "metadata": {},
   "outputs": [],
   "source": [
    "e.data.append('test', np.zeros((2, 21)), 0)"
   ]
  },
  {
   "cell_type": "code",
   "execution_count": null,
   "id": "7ee0b0a1-1169-4e9c-8d5e-9f5c747dbde9",
   "metadata": {},
   "outputs": [],
   "source": [
    "e.data.save_to_disk('test')"
   ]
  },
  {
   "cell_type": "code",
   "execution_count": null,
   "id": "81f89ed9-7986-425a-b467-6686c86d4be1",
   "metadata": {},
   "outputs": [],
   "source": [
    "e.data.delete('test')"
   ]
  },
  {
   "cell_type": "code",
   "execution_count": null,
   "id": "2be5401b-fcee-4bbd-9a2f-95f6f42ba847",
   "metadata": {},
   "outputs": [],
   "source": [
    "e.data.test"
   ]
  },
  {
   "cell_type": "code",
   "execution_count": 2,
   "id": "b7a3838a-865e-407e-9151-0e2af0574c78",
   "metadata": {},
   "outputs": [
    {
     "ename": "OSError",
     "evalue": "[WinError 193] %1 is not a valid Win32 application",
     "output_type": "error",
     "traceback": [
      "\u001b[1;31m---------------------------------------------------------------------------\u001b[0m",
      "\u001b[1;31mOSError\u001b[0m                                   Traceback (most recent call last)",
      "Cell \u001b[1;32mIn[2], line 1\u001b[0m\n\u001b[1;32m----> 1\u001b[0m rng \u001b[38;5;241m=\u001b[39m \u001b[43mlysis\u001b[49m\u001b[38;5;241;43m.\u001b[39;49m\u001b[43mutil\u001b[49m\u001b[38;5;241;43m.\u001b[39;49m\u001b[43mKissRandomGenerator\u001b[49m\u001b[43m(\u001b[49m\u001b[43m)\u001b[49m\n",
      "File \u001b[1;32mE:\\git\\UCO-OpResearch\\lysis\\src\\python\\lysis\\util\\kiss.py:54\u001b[0m, in \u001b[0;36mKissRandomGenerator.__init__\u001b[1;34m(self, seed)\u001b[0m\n\u001b[0;32m     51\u001b[0m kiss_file \u001b[38;5;241m=\u001b[39m \u001b[38;5;124m'\u001b[39m\u001b[38;5;124mkiss.so\u001b[39m\u001b[38;5;124m'\u001b[39m\n\u001b[0;32m     53\u001b[0m \u001b[38;5;66;03m# Import the C library\u001b[39;00m\n\u001b[1;32m---> 54\u001b[0m my_kiss \u001b[38;5;241m=\u001b[39m \u001b[43mctypes\u001b[49m\u001b[38;5;241;43m.\u001b[39;49m\u001b[43mCDLL\u001b[49m\u001b[43m(\u001b[49m\u001b[43mos\u001b[49m\u001b[38;5;241;43m.\u001b[39;49m\u001b[43mpath\u001b[49m\u001b[38;5;241;43m.\u001b[39;49m\u001b[43mjoin\u001b[49m\u001b[43m(\u001b[49m\u001b[43mlib_path\u001b[49m\u001b[43m,\u001b[49m\u001b[43m \u001b[49m\u001b[43mkiss_file\u001b[49m\u001b[43m)\u001b[49m\u001b[43m)\u001b[49m\n\u001b[0;32m     56\u001b[0m \u001b[38;5;66;03m# Defile the datatype for the RNG state\u001b[39;00m\n\u001b[0;32m     57\u001b[0m \u001b[38;5;28mself\u001b[39m\u001b[38;5;241m.\u001b[39mstate_type \u001b[38;5;241m=\u001b[39m ctypes\u001b[38;5;241m.\u001b[39mc_uint \u001b[38;5;241m*\u001b[39m \u001b[38;5;241m4\u001b[39m\n",
      "File \u001b[1;32m~\\miniconda3\\envs\\lysis\\Lib\\ctypes\\__init__.py:376\u001b[0m, in \u001b[0;36mCDLL.__init__\u001b[1;34m(self, name, mode, handle, use_errno, use_last_error, winmode)\u001b[0m\n\u001b[0;32m    373\u001b[0m \u001b[38;5;28mself\u001b[39m\u001b[38;5;241m.\u001b[39m_FuncPtr \u001b[38;5;241m=\u001b[39m _FuncPtr\n\u001b[0;32m    375\u001b[0m \u001b[38;5;28;01mif\u001b[39;00m handle \u001b[38;5;129;01mis\u001b[39;00m \u001b[38;5;28;01mNone\u001b[39;00m:\n\u001b[1;32m--> 376\u001b[0m     \u001b[38;5;28mself\u001b[39m\u001b[38;5;241m.\u001b[39m_handle \u001b[38;5;241m=\u001b[39m \u001b[43m_dlopen\u001b[49m\u001b[43m(\u001b[49m\u001b[38;5;28;43mself\u001b[39;49m\u001b[38;5;241;43m.\u001b[39;49m\u001b[43m_name\u001b[49m\u001b[43m,\u001b[49m\u001b[43m \u001b[49m\u001b[43mmode\u001b[49m\u001b[43m)\u001b[49m\n\u001b[0;32m    377\u001b[0m \u001b[38;5;28;01melse\u001b[39;00m:\n\u001b[0;32m    378\u001b[0m     \u001b[38;5;28mself\u001b[39m\u001b[38;5;241m.\u001b[39m_handle \u001b[38;5;241m=\u001b[39m handle\n",
      "\u001b[1;31mOSError\u001b[0m: [WinError 193] %1 is not a valid Win32 application"
     ]
    }
   ],
   "source": [
    "rng = lysis.util.KissRandomGenerator()"
   ]
  },
  {
   "cell_type": "code",
   "execution_count": 6,
   "id": "742428fb-cca5-48e2-ae9e-746f86ff09a1",
   "metadata": {},
   "outputs": [
    {
     "name": "stdout",
     "output_type": "stream",
     "text": [
      "1,311,267,214\n"
     ]
    }
   ],
   "source": [
    "print(f\"{9901201806 % 2**32:,}\")"
   ]
  },
  {
   "cell_type": "code",
   "execution_count": 14,
   "id": "b133ef71-91e0-4526-8248-d88c7218892a",
   "metadata": {},
   "outputs": [
    {
     "name": "stderr",
     "output_type": "stream",
     "text": [
      "100%|███████████████████████████████████████████████████████████████████| 9901201/9901201 [00:03<00:00, 3033010.72it/s]\n"
     ]
    },
    {
     "data": {
      "text/plain": [
       "1311266410"
      ]
     },
     "execution_count": 14,
     "metadata": {},
     "output_type": "execute_result"
    }
   ],
   "source": [
    "k = 0\n",
    "for i in tqdm(range(int(9901201806/1000))):\n",
    "    k += 1000\n",
    "    if k > 2147483647:\n",
    "        k -= 2147483647+2147483648\n",
    "k"
   ]
  },
  {
   "cell_type": "code",
   "execution_count": 7,
   "id": "0151981f-e8fb-4f16-a62e-31cf9f686a36",
   "metadata": {},
   "outputs": [
    {
     "data": {
      "text/plain": [
       "2"
      ]
     },
     "execution_count": 7,
     "metadata": {},
     "output_type": "execute_result"
    }
   ],
   "source": [
    "2**32 - 2*2147483647"
   ]
  },
  {
   "cell_type": "code",
   "execution_count": null,
   "id": "aa0593a7-e6c3-43f3-876d-61f28874dbb6",
   "metadata": {},
   "outputs": [],
   "source": []
  }
 ],
 "metadata": {
  "kernelspec": {
   "display_name": "Python 3 (ipykernel)",
   "language": "python",
   "name": "python3"
  },
  "language_info": {
   "codemirror_mode": {
    "name": "ipython",
    "version": 3
   },
   "file_extension": ".py",
   "mimetype": "text/x-python",
   "name": "python",
   "nbconvert_exporter": "python",
   "pygments_lexer": "ipython3",
   "version": "3.11.0"
  }
 },
 "nbformat": 4,
 "nbformat_minor": 5
}
