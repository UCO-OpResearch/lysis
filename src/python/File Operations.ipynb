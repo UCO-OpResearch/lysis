{
 "cells": [
  {
   "cell_type": "code",
   "execution_count": 1,
   "id": "56f1bf06-bd13-40ee-8f4d-09147c7bf908",
   "metadata": {},
   "outputs": [],
   "source": [
    "import os\n",
    "import lysis\n",
    "from tqdm import tqdm"
   ]
  },
  {
   "cell_type": "code",
   "execution_count": 2,
   "id": "8eea4931-5a0f-478a-bc74-2684838628d1",
   "metadata": {},
   "outputs": [],
   "source": [
    "e = lysis.util.Experiment(os.path.join(\"..\", \"..\", \"data\"), experiment_code='2023-01-31-1303')"
   ]
  },
  {
   "cell_type": "code",
   "execution_count": 3,
   "id": "17a8b467-dbca-443d-9089-0b357bfd7cd2",
   "metadata": {},
   "outputs": [],
   "source": [
    "p = {\n",
    "    #\"cols\": 10,\n",
    "    #\"rows\": 13,\n",
    "    #\"empty_rows\": 3,\n",
    "    \"total_time\": 5*60,\n",
    "    \"macro_version\": r\"py_macro\",\n",
    "    \"seed\": 758492894,\n",
    "    \"total_trials\": 1,\n",
    "    #\"total_molecules\": 50,\n",
    "    #\"duplicate_fortran\": True,\n",
    "    \"save_interval\": 10,\n",
    "    #\"forced_unbind\": 8.52e-2,\n",
    "    #\"average_bind_time\": 27.8,\n",
    "    #\"macro_version\": r\"['brad_scratch.f90', 'rng-array.f90']\"\n",
    "}"
   ]
  },
  {
   "cell_type": "code",
   "execution_count": 4,
   "id": "00b685ac-9c80-4823-abdb-50d55c239214",
   "metadata": {},
   "outputs": [],
   "source": [
    "e.initialize_macro_param(p)\n",
    "#e.read_file()"
   ]
  },
  {
   "cell_type": "code",
   "execution_count": 5,
   "id": "c8dc0cee-c3d2-42b5-af8e-af69a06ab463",
   "metadata": {},
   "outputs": [],
   "source": [
    "e.to_file()"
   ]
  },
  {
   "cell_type": "code",
   "execution_count": 6,
   "id": "1eb896f2-094f-4b9b-a2c8-a2fa5d6591bf",
   "metadata": {
    "tags": []
   },
   "outputs": [
    {
     "name": "stdout",
     "output_type": "stream",
     "text": [
      "experiment_code : 2023-01-31-1303\n",
      "data_filenames  : unbinding_time    : tsectPA.dat\n",
      "                  lysis_time        : lysismat.dat\n",
      "                  total_lyses       : lenlysisvect.dat\n",
      "                  degradation_state : deg.p.npy\n",
      "                  molecule_location : m_loc.p.npy\n",
      "                  molecule_state    : m_bound.p.npy\n",
      "                  save_time         : tsave.p.npy\n",
      "micro_params    : None\n",
      "macro_params    : binding_rate       : 0.1\n",
      "                  pore_size          : 0.00010135\n",
      "                  diffusion_coeff    : 5e-07\n",
      "                  binding_sites      : 427\n",
      "                  forced_unbind      : 0.0852\n",
      "                  average_bind_time  : 27.8\n",
      "                  grid_node_distance : 1.0862\n",
      "                  cols               : 93\n",
      "                  rows               : 121\n",
      "                  full_row           : 278\n",
      "                  xz_row             : 185\n",
      "                  total_edges        : 33,545\n",
      "                  total_fibers       : 25,761\n",
      "                  empty_rows         : 28\n",
      "                  last_empty_edge    : 7,783\n",
      "                  total_molecules    : 43,074\n",
      "                  moving_probability : 0.2\n",
      "                  microscale_runs    : 50,000\n",
      "                  total_trials       : 1\n",
      "                  total_time         : 300\n",
      "                  time_step          : 0.0003423940833333333\n",
      "                  total_time_steps   : 876,183\n",
      "                  seed               : 758,492,894\n",
      "                  state              : (129281, 362436069, 123456789, 758492894)\n",
      "                  input_data         : ['unbinding_time', 'lysis_time', 'total_lyses']\n",
      "                  output_data        : ['degradation_state', 'molecule_location', 'molecule_state', 'save_time']\n",
      "                  save_interval      : 10\n",
      "                  number_of_saves    : 31\n",
      "                  macro_version      : py_macro\n",
      "                  log_lvl            : 30\n",
      "                  duplicate_fortran  : 0\n",
      "                  processing_library : numpy\n",
      "\n"
     ]
    }
   ],
   "source": [
    "print(e)"
   ]
  },
  {
   "cell_type": "code",
   "execution_count": 11,
   "id": "d30f20b6-7b42-4d00-93fc-855b79608e15",
   "metadata": {},
   "outputs": [
    {
     "data": {
      "text/plain": [
       "(129281, 362436069, 123456789, -2137354075)"
      ]
     },
     "execution_count": 11,
     "metadata": {},
     "output_type": "execute_result"
    }
   ],
   "source": [
    "tuple(e.macro_params.state)"
   ]
  },
  {
   "cell_type": "code",
   "execution_count": null,
   "id": "ae8942eb-3522-46e3-985d-8ef4cb3e81c8",
   "metadata": {},
   "outputs": [],
   "source": [
    "e.data.lysis_time"
   ]
  },
  {
   "cell_type": "code",
   "execution_count": null,
   "id": "09b60b87-93e2-4b46-9790-feb87fad0191",
   "metadata": {},
   "outputs": [],
   "source": [
    "e.data.unbinding_time"
   ]
  },
  {
   "cell_type": "code",
   "execution_count": null,
   "id": "24689943-019f-4f5d-a7c4-5d2ff93ecd91",
   "metadata": {},
   "outputs": [],
   "source": [
    "e.data.new('test', 'test.dat')"
   ]
  },
  {
   "cell_type": "code",
   "execution_count": null,
   "id": "862454e9-a6ca-4f8c-a564-bc100ba998be",
   "metadata": {},
   "outputs": [],
   "source": [
    "e.data.overwrite('test', np.ones((12, 21)))"
   ]
  },
  {
   "cell_type": "code",
   "execution_count": null,
   "id": "6d85377f-a1af-4c69-a0c5-32421f5b9eb6",
   "metadata": {},
   "outputs": [],
   "source": [
    "e.data.test.shape"
   ]
  },
  {
   "cell_type": "code",
   "execution_count": null,
   "id": "e6185303-dfe4-4e1a-9b9e-484bad83f2a6",
   "metadata": {},
   "outputs": [],
   "source": [
    "e.data.append('test', np.zeros((2, 21)), 0)"
   ]
  },
  {
   "cell_type": "code",
   "execution_count": null,
   "id": "7ee0b0a1-1169-4e9c-8d5e-9f5c747dbde9",
   "metadata": {},
   "outputs": [],
   "source": [
    "e.data.save_to_disk('test')"
   ]
  },
  {
   "cell_type": "code",
   "execution_count": null,
   "id": "81f89ed9-7986-425a-b467-6686c86d4be1",
   "metadata": {},
   "outputs": [],
   "source": [
    "e.data.delete('test')"
   ]
  },
  {
   "cell_type": "code",
   "execution_count": null,
   "id": "2be5401b-fcee-4bbd-9a2f-95f6f42ba847",
   "metadata": {},
   "outputs": [],
   "source": [
    "e.data.test"
   ]
  },
  {
   "cell_type": "code",
   "execution_count": 2,
   "id": "b7a3838a-865e-407e-9151-0e2af0574c78",
   "metadata": {},
   "outputs": [
    {
     "ename": "OSError",
     "evalue": "[WinError 193] %1 is not a valid Win32 application",
     "output_type": "error",
     "traceback": [
      "\u001B[1;31m---------------------------------------------------------------------------\u001B[0m",
      "\u001B[1;31mOSError\u001B[0m                                   Traceback (most recent call last)",
      "Cell \u001B[1;32mIn[2], line 1\u001B[0m\n\u001B[1;32m----> 1\u001B[0m rng \u001B[38;5;241m=\u001B[39m \u001B[43mlysis\u001B[49m\u001B[38;5;241;43m.\u001B[39;49m\u001B[43mutil\u001B[49m\u001B[38;5;241;43m.\u001B[39;49m\u001B[43mKissRandomGenerator\u001B[49m\u001B[43m(\u001B[49m\u001B[43m)\u001B[49m\n",
      "File \u001B[1;32mE:\\git\\UCO-OpResearch\\lysis\\src\\python\\lysis\\util\\kiss.py:54\u001B[0m, in \u001B[0;36mKissRandomGenerator.__init__\u001B[1;34m(self, seed)\u001B[0m\n\u001B[0;32m     51\u001B[0m kiss_file \u001B[38;5;241m=\u001B[39m \u001B[38;5;124m'\u001B[39m\u001B[38;5;124mkiss.so\u001B[39m\u001B[38;5;124m'\u001B[39m\n\u001B[0;32m     53\u001B[0m \u001B[38;5;66;03m# Import the C library\u001B[39;00m\n\u001B[1;32m---> 54\u001B[0m my_kiss \u001B[38;5;241m=\u001B[39m \u001B[43mctypes\u001B[49m\u001B[38;5;241;43m.\u001B[39;49m\u001B[43mCDLL\u001B[49m\u001B[43m(\u001B[49m\u001B[43mos\u001B[49m\u001B[38;5;241;43m.\u001B[39;49m\u001B[43mpath\u001B[49m\u001B[38;5;241;43m.\u001B[39;49m\u001B[43mjoin\u001B[49m\u001B[43m(\u001B[49m\u001B[43mlib_path\u001B[49m\u001B[43m,\u001B[49m\u001B[43m \u001B[49m\u001B[43mkiss_file\u001B[49m\u001B[43m)\u001B[49m\u001B[43m)\u001B[49m\n\u001B[0;32m     56\u001B[0m \u001B[38;5;66;03m# Defile the datatype for the RNG state\u001B[39;00m\n\u001B[0;32m     57\u001B[0m \u001B[38;5;28mself\u001B[39m\u001B[38;5;241m.\u001B[39mstate_type \u001B[38;5;241m=\u001B[39m ctypes\u001B[38;5;241m.\u001B[39mc_uint \u001B[38;5;241m*\u001B[39m \u001B[38;5;241m4\u001B[39m\n",
      "File \u001B[1;32m~\\miniconda3\\envs\\lysis\\Lib\\ctypes\\__init__.py:376\u001B[0m, in \u001B[0;36mCDLL.__init__\u001B[1;34m(self, name, mode, handle, use_errno, use_last_error, winmode)\u001B[0m\n\u001B[0;32m    373\u001B[0m \u001B[38;5;28mself\u001B[39m\u001B[38;5;241m.\u001B[39m_FuncPtr \u001B[38;5;241m=\u001B[39m _FuncPtr\n\u001B[0;32m    375\u001B[0m \u001B[38;5;28;01mif\u001B[39;00m handle \u001B[38;5;129;01mis\u001B[39;00m \u001B[38;5;28;01mNone\u001B[39;00m:\n\u001B[1;32m--> 376\u001B[0m     \u001B[38;5;28mself\u001B[39m\u001B[38;5;241m.\u001B[39m_handle \u001B[38;5;241m=\u001B[39m \u001B[43m_dlopen\u001B[49m\u001B[43m(\u001B[49m\u001B[38;5;28;43mself\u001B[39;49m\u001B[38;5;241;43m.\u001B[39;49m\u001B[43m_name\u001B[49m\u001B[43m,\u001B[49m\u001B[43m \u001B[49m\u001B[43mmode\u001B[49m\u001B[43m)\u001B[49m\n\u001B[0;32m    377\u001B[0m \u001B[38;5;28;01melse\u001B[39;00m:\n\u001B[0;32m    378\u001B[0m     \u001B[38;5;28mself\u001B[39m\u001B[38;5;241m.\u001B[39m_handle \u001B[38;5;241m=\u001B[39m handle\n",
      "\u001B[1;31mOSError\u001B[0m: [WinError 193] %1 is not a valid Win32 application"
     ]
    }
   ],
   "source": [
    "rng = lysis.util.KissRandomGenerator()"
   ]
  },
  {
   "cell_type": "code",
   "execution_count": 6,
   "id": "742428fb-cca5-48e2-ae9e-746f86ff09a1",
   "metadata": {},
   "outputs": [
    {
     "name": "stdout",
     "output_type": "stream",
     "text": [
      "1,311,267,214\n"
     ]
    }
   ],
   "source": [
    "print(f\"{9901201806 % 2**32:,}\")"
   ]
  },
  {
   "cell_type": "code",
   "execution_count": 14,
   "id": "b133ef71-91e0-4526-8248-d88c7218892a",
   "metadata": {},
   "outputs": [
    {
     "name": "stderr",
     "output_type": "stream",
     "text": [
      "100%|███████████████████████████████████████████████████████████████████| 9901201/9901201 [00:03<00:00, 3033010.72it/s]\n"
     ]
    },
    {
     "data": {
      "text/plain": [
       "1311266410"
      ]
     },
     "execution_count": 14,
     "metadata": {},
     "output_type": "execute_result"
    }
   ],
   "source": [
    "k = 0\n",
    "for i in tqdm(range(int(9901201806/1000))):\n",
    "    k += 1000\n",
    "    if k > 2147483647:\n",
    "        k -= 2147483647+2147483648\n",
    "k"
   ]
  },
  {
   "cell_type": "code",
   "execution_count": 7,
   "id": "0151981f-e8fb-4f16-a62e-31cf9f686a36",
   "metadata": {},
   "outputs": [
    {
     "data": {
      "text/plain": [
       "2"
      ]
     },
     "execution_count": 7,
     "metadata": {},
     "output_type": "execute_result"
    }
   ],
   "source": [
    "2**32 - 2*2147483647"
   ]
  },
  {
   "cell_type": "code",
   "execution_count": 1,
   "id": "aa0593a7-e6c3-43f3-876d-61f28874dbb6",
   "metadata": {},
   "outputs": [],
   "source": [
    "a = \"\"\"this is\n",
    "a test\"\"\""
   ]
  },
  {
   "cell_type": "code",
   "execution_count": 2,
   "id": "b4d4499b-30db-42d5-9ee2-5576aa119191",
   "metadata": {},
   "outputs": [
    {
     "name": "stdout",
     "output_type": "stream",
     "text": [
      "this is\n",
      "a test\n"
     ]
    }
   ],
   "source": [
    "print(a)"
   ]
  },
  {
   "cell_type": "code",
   "execution_count": 1,
   "id": "e2363d83-dea5-41a7-8b56-2dcfa6022330",
   "metadata": {},
   "outputs": [],
   "source": [
    "import os\n",
    "\n",
    "import numpy as np\n",
    "\n",
    "import lysis"
   ]
  },
  {
   "cell_type": "code",
   "execution_count": 16,
   "id": "ce4dfde5-d016-4708-8d43-91c46f53dd05",
   "metadata": {},
   "outputs": [],
   "source": [
    "file = lysis.util.DataFile()\n",
    "file.path = os.path.join(\"..\", \"..\", \"data\", \"test\")\n",
    "file.filename = \"deg.f-array.dat\"\n",
    "file.data_type = lysis.util.DataType.FORTRAN"
   ]
  },
  {
   "cell_type": "code",
   "execution_count": 17,
   "id": "4f9ded0a-6fd9-417f-9752-44aee2c600f3",
   "metadata": {},
   "outputs": [],
   "source": [
    "file.load()"
   ]
  },
  {
   "cell_type": "code",
   "execution_count": 23,
   "id": "76213603-58be-4981-bb99-5afce659446e",
   "metadata": {},
   "outputs": [
    {
     "data": {
      "text/plain": [
       "(4058945,)"
      ]
     },
     "execution_count": 23,
     "metadata": {},
     "output_type": "execute_result"
    }
   ],
   "source": [
    "file.contents.shape"
   ]
  },
  {
   "cell_type": "code",
   "execution_count": 20,
   "id": "ff19f283-fd0e-4b5f-bdba-f7c3f6b74462",
   "metadata": {},
   "outputs": [],
   "source": [
    "new_file = file.to_type(lysis.util.DataType.NUMPY)"
   ]
  },
  {
   "cell_type": "code",
   "execution_count": 21,
   "id": "b3e62555-287a-48f9-8052-75744092acd5",
   "metadata": {},
   "outputs": [
    {
     "data": {
      "text/plain": [
       "array([  -1.        ,   -1.        ,   -1.        , ..., -438.25860597,\n",
       "       -852.89270497, -660.05704203])"
      ]
     },
     "execution_count": 21,
     "metadata": {},
     "output_type": "execute_result"
    }
   ],
   "source": [
    "new_file.contents"
   ]
  },
  {
   "cell_type": "code",
   "execution_count": 22,
   "id": "cd964d7c-d24f-41b0-873f-eba5324346d2",
   "metadata": {},
   "outputs": [],
   "source": [
    "new_file.save()"
   ]
  },
  {
   "cell_type": "code",
   "execution_count": null,
   "id": "84394832-72e0-49a2-af09-2e9ab1c24c09",
   "metadata": {},
   "outputs": [],
   "source": []
  }
 ],
 "metadata": {
  "kernelspec": {
   "display_name": "Python 3 (ipykernel)",
   "language": "python",
   "name": "python3"
  },
  "language_info": {
   "codemirror_mode": {
    "name": "ipython",
    "version": 3
   },
   "file_extension": ".py",
   "mimetype": "text/x-python",
   "name": "python",
   "nbconvert_exporter": "python",
   "pygments_lexer": "ipython3",
   "version": "3.11.0"
  }
 },
 "nbformat": 4,
 "nbformat_minor": 5
}
