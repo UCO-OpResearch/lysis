{
 "cells": [
  {
   "cell_type": "code",
   "execution_count": 1,
   "id": "56f1bf06-bd13-40ee-8f4d-09147c7bf908",
   "metadata": {},
   "outputs": [],
   "source": [
    "import lysis.util"
   ]
  },
  {
   "cell_type": "code",
   "execution_count": 2,
   "id": "8eea4931-5a0f-478a-bc74-2684838628d1",
   "metadata": {},
   "outputs": [],
   "source": [
    "e = lysis.util.Experiment(r'../../data', experiment_code='2022-12-27-1100')"
   ]
  },
  {
   "cell_type": "code",
   "execution_count": 3,
   "id": "00b685ac-9c80-4823-abdb-50d55c239214",
   "metadata": {},
   "outputs": [],
   "source": [
    "# e.initialize_macro_param()\n",
    "e.read_file()"
   ]
  },
  {
   "cell_type": "code",
   "execution_count": 5,
   "id": "c8dc0cee-c3d2-42b5-af8e-af69a06ab463",
   "metadata": {},
   "outputs": [],
   "source": [
    "e.to_file()"
   ]
  },
  {
   "cell_type": "code",
   "execution_count": 4,
   "id": "1eb896f2-094f-4b9b-a2c8-a2fa5d6591bf",
   "metadata": {
    "tags": []
   },
   "outputs": [
    {
     "name": "stdout",
     "output_type": "stream",
     "text": [
      "experiment_code : 2022-12-27-1100\n",
      "micro_params    : None\n",
      "macro_params    : macro_version      : diffuse_into_and_along\n",
      "                  binding_rate       : 0.01\n",
      "                  pore_size          : 0.00010135\n",
      "                  diffusion_coeff    : 5e-07\n",
      "                  binding_sites      : 427.0\n",
      "                  grid_node_distance : 1.0862\n",
      "                  rows               : 93\n",
      "                  cols               : 121\n",
      "                  first_fiber_row    : 28\n",
      "                  total_molecules    : 43074\n",
      "                  moving_probability : 0.2\n",
      "                  total_trials       : 10\n",
      "                  total_time         : 600\n",
      "                  seed               : -2137354075\n",
      "                  state              : (129281, 362436069, 123456789, -2137354075)\n",
      "                  data_files         : unbinding_time : tsectPA.dat\n",
      "                                       lysis_time     : lysismat.dat\n",
      "                                       total_lyses    : lenlysisvect.dat\n",
      "                  full_row           : 362\n",
      "                  xz_row             : 241\n",
      "                  total_edges        : 33545\n",
      "                  last_ghost_edge    : 10135\n",
      "                  time_step          : 0.0003423940833333333\n",
      "                  total_time_steps   : 1752366.729467921\n",
      "\n"
     ]
    }
   ],
   "source": [
    "print(e)"
   ]
  },
  {
   "cell_type": "code",
   "execution_count": 4,
   "id": "d30f20b6-7b42-4d00-93fc-855b79608e15",
   "metadata": {},
   "outputs": [],
   "source": [
    "e.read_macro_input_data()"
   ]
  },
  {
   "cell_type": "code",
   "execution_count": 5,
   "id": "ae8942eb-3522-46e3-985d-8ef4cb3e81c8",
   "metadata": {},
   "outputs": [
    {
     "data": {
      "text/plain": [
       "(100, 109)"
      ]
     },
     "execution_count": 5,
     "metadata": {},
     "output_type": "execute_result"
    }
   ],
   "source": [
    "e.data.lysis_time.shape"
   ]
  },
  {
   "cell_type": "code",
   "execution_count": 6,
   "id": "09b60b87-93e2-4b46-9790-feb87fad0191",
   "metadata": {},
   "outputs": [
    {
     "data": {
      "text/plain": [
       "array([  0.        ,   0.29506572,   0.57237004,   0.88223814,\n",
       "         1.17340006,   1.46599673,   1.75341142,   2.01955621,\n",
       "         2.33368147,   2.6382772 ,   2.93905652,   3.24035928,\n",
       "         3.54929825,   3.86236265,   4.19878894,   4.53336468,\n",
       "         4.85379003,   5.1825327 ,   5.50016101,   5.84541686,\n",
       "         6.20231422,   6.5521651 ,   6.88336991,   7.21358591,\n",
       "         7.58457297,   7.91912835,   8.31018417,   8.67624729,\n",
       "         9.03613326,   9.41473879,   9.76449299,  10.13700333,\n",
       "        10.51225627,  10.91041063,  11.30525118,  11.68735245,\n",
       "        12.10503524,  12.53559422,  13.00486331,  13.43395271,\n",
       "        13.88130291,  14.35756371,  14.82886422,  15.30568719,\n",
       "        15.77082976,  16.26991572,  16.73194359,  17.20869006,\n",
       "        17.70931391,  18.18281749,  18.71374066,  19.26998702,\n",
       "        19.80614074,  20.36644753,  20.92204732,  21.5123866 ,\n",
       "        22.10374211,  22.63101585,  23.2220935 ,  23.81276434,\n",
       "        24.43463178,  25.09653225,  25.75990295,  26.44935524,\n",
       "        27.10637668,  27.81546227,  28.57760504,  29.40739172,\n",
       "        30.19851728,  30.9938009 ,  31.85706574,  32.75578958,\n",
       "        33.59767474,  34.50848267,  35.35892611,  36.40058986,\n",
       "        37.36911462,  38.37190109,  39.47768789,  40.62501175,\n",
       "        41.83310615,  43.13495501,  44.4836478 ,  45.94758452,\n",
       "        47.46485056,  49.29329064,  51.14505118,  53.04936633,\n",
       "        55.14949342,  57.29922651,  59.62315585,  62.24317682,\n",
       "        65.311043  ,  68.53722492,  72.47275948,  77.00589295,\n",
       "        82.9454644 ,  90.03816984, 100.83429577, 117.76494839,\n",
       "       274.80107323])"
      ]
     },
     "execution_count": 6,
     "metadata": {},
     "output_type": "execute_result"
    }
   ],
   "source": [
    "e.data.unbinding_time"
   ]
  },
  {
   "cell_type": "code",
   "execution_count": 7,
   "id": "24689943-019f-4f5d-a7c4-5d2ff93ecd91",
   "metadata": {},
   "outputs": [
    {
     "ename": "NameError",
     "evalue": "name 'np' is not defined",
     "output_type": "error",
     "traceback": [
      "\u001b[0;31m---------------------------------------------------------------------------\u001b[0m",
      "\u001b[0;31mNameError\u001b[0m                                 Traceback (most recent call last)",
      "Cell \u001b[0;32mIn[7], line 1\u001b[0m\n\u001b[0;32m----> 1\u001b[0m unbinding_time \u001b[38;5;241m=\u001b[39m \u001b[43mnp\u001b[49m\u001b[38;5;241m.\u001b[39mloadtxt(os\u001b[38;5;241m.\u001b[39mpath\u001b[38;5;241m.\u001b[39mjoin(e\u001b[38;5;241m.\u001b[39mos_path, e\u001b[38;5;241m.\u001b[39mmacro_params[\u001b[38;5;124m'\u001b[39m\u001b[38;5;124mdata_files\u001b[39m\u001b[38;5;124m'\u001b[39m][\u001b[38;5;124m'\u001b[39m\u001b[38;5;124munbinding_time\u001b[39m\u001b[38;5;124m'\u001b[39m]))\n\u001b[1;32m      2\u001b[0m unbinding_time\n",
      "\u001b[0;31mNameError\u001b[0m: name 'np' is not defined"
     ]
    }
   ],
   "source": [
    "unbinding_time = np.loadtxt(os.path.join(e.os_path, e.macro_params['data_files']['unbinding_time']))\n",
    "unbinding_time"
   ]
  },
  {
   "cell_type": "code",
   "execution_count": 14,
   "id": "f47702e9-ad03-4cc8-9c7d-6b4406a3c77c",
   "metadata": {},
   "outputs": [
    {
     "data": {
      "text/plain": [
       "109"
      ]
     },
     "execution_count": 14,
     "metadata": {},
     "output_type": "execute_result"
    }
   ],
   "source": [
    "total_lyses = np.loadtxt(os.path.join(e.os_path, e.macro_params['data_files']['total_lyses']), dtype=int, converters=float)\n",
    "total_lyses.max()"
   ]
  },
  {
   "cell_type": "code",
   "execution_count": 13,
   "id": "c572fdd7-ac7f-4c39-ba40-e40738423304",
   "metadata": {},
   "outputs": [
    {
     "data": {
      "text/plain": [
       "(100, 500)"
      ]
     },
     "execution_count": 13,
     "metadata": {},
     "output_type": "execute_result"
    }
   ],
   "source": [
    "lysis_time = np.loadtxt(os.path.join(e.os_path, e.macro_params['data_files']['lysis_time'])).T\n",
    "lysis_time.shape"
   ]
  },
  {
   "cell_type": "code",
   "execution_count": null,
   "id": "2468c686-7727-4252-929d-818ca650bfc5",
   "metadata": {},
   "outputs": [],
   "source": [
    "lysis_time.size"
   ]
  },
  {
   "cell_type": "code",
   "execution_count": 19,
   "id": "81a9860f-e6a5-4b36-a63b-56ec180b9e89",
   "metadata": {},
   "outputs": [
    {
     "data": {
      "text/plain": [
       "(100, 109)"
      ]
     },
     "execution_count": 19,
     "metadata": {},
     "output_type": "execute_result"
    }
   ],
   "source": [
    "lysis_time_trunc = np.delete(lysis_time, np.s_[total_lyses.max():], 1)\n",
    "lysis_time_trunc.shape"
   ]
  },
  {
   "cell_type": "code",
   "execution_count": 8,
   "id": "bef7b605-7aa4-465f-943b-6a744278f2d5",
   "metadata": {
    "collapsed": true,
    "jupyter": {
     "outputs_hidden": true
    },
    "tags": []
   },
   "outputs": [
    {
     "name": "stdout",
     "output_type": "stream",
     "text": [
      "40.3208044521588 6000.0\n",
      "45.58192861625967 6000.0\n",
      "45.38261700758599 6000.0\n",
      "45.323407826283194 6000.0\n",
      "50.50546200447198 6000.0\n",
      "49.680723074011574 6000.0\n",
      "53.58972635243255 6000.0\n",
      "44.43625529055138 6000.0\n",
      "63.217046942276966 6000.0\n",
      "47.98384860742002 6000.0\n",
      "51.85294505860209 6000.0\n",
      "46.180021273032125 6000.0\n",
      "52.637110662494194 6000.0\n",
      "60.7315089096459 6000.0\n",
      "54.89226320401511 6000.0\n",
      "50.26698668439972 6000.0\n",
      "49.9134067006458 6000.0\n",
      "43.95658438125549 6000.0\n",
      "53.481757407881574 6000.0\n",
      "49.5244925185692 6000.0\n",
      "55.009317007423 6000.0\n",
      "47.91233482632399 6000.0\n",
      "49.983072831948505 6000.0\n",
      "49.42847132577116 6000.0\n",
      "48.545458166270656 6000.0\n",
      "48.139156847548186 6000.0\n",
      "47.58275266275586 6000.0\n",
      "66.64812614711732 6000.0\n",
      "49.81177282559373 6000.0\n",
      "57.22078080119845 6000.0\n",
      "67.64299996138203 6000.0\n",
      "50.888873879936305 6000.0\n",
      "50.94584625626706 6000.0\n",
      "57.01470572000896 6000.0\n",
      "57.20830370757242 6000.0\n",
      "64.36031741342325 6000.0\n",
      "58.18631197423465 6000.0\n",
      "51.64929701569219 6000.0\n",
      "53.58680724559237 6000.0\n",
      "51.85149530983029 6000.0\n",
      "65.84506105636754 6000.0\n",
      "58.91490103142218 6000.0\n",
      "61.46301923315992 6000.0\n",
      "56.37763762350988 6000.0\n",
      "65.71801679112373 6000.0\n",
      "63.09821374355602 6000.0\n",
      "65.75014625839074 6000.0\n",
      "59.56535528841695 6000.0\n",
      "59.20015624249482 6000.0\n",
      "63.64438827870871 6000.0\n",
      "65.96692471818001 6000.0\n",
      "64.50760900547138 6000.0\n",
      "71.67108692931093 6000.0\n",
      "64.7466023463111 6000.0\n",
      "68.36493758948602 6000.0\n",
      "64.1216764975244 6000.0\n",
      "67.94696003994859 6000.0\n",
      "73.2377894679267 6000.0\n",
      "68.00178695916091 6000.0\n",
      "67.42765571387179 6000.0\n",
      "68.56320836451337 6000.0\n",
      "67.5524799807384 6000.0\n",
      "75.872356664589 6000.0\n",
      "72.28482717871867 6000.0\n",
      "70.61981855382349 6000.0\n",
      "72.3868025595093 6000.0\n",
      "75.23505100080256 6000.0\n",
      "65.17220307706246 6000.0\n",
      "71.20955151315682 6000.0\n",
      "90.71281178552383 6000.0\n",
      "71.94926415734822 6000.0\n",
      "74.19971613034869 6000.0\n",
      "77.74632601447195 6000.0\n",
      "71.66250328764373 6000.0\n",
      "89.73605470560167 6000.0\n",
      "75.61068794049808 6000.0\n",
      "74.78259522807191 6000.0\n",
      "77.73232797823171 6000.0\n",
      "84.64340872338178 6000.0\n",
      "83.71816249677914 6000.0\n",
      "85.01440515129778 6000.0\n",
      "87.39127272931907 6000.0\n",
      "86.69724944864639 6000.0\n",
      "104.66212055023801 6000.0\n",
      "88.51469546059323 6000.0\n",
      "94.29098681753855 6000.0\n",
      "89.88267439366433 6000.0\n",
      "93.29811052482194 6000.0\n",
      "99.63159848065702 6000.0\n",
      "102.03704325309975 6000.0\n",
      "116.82098457442038 6000.0\n",
      "111.13991544198687 6000.0\n",
      "105.62077046643039 6000.0\n",
      "114.42632465501201 6000.0\n",
      "113.79027254384071 6000.0\n",
      "120.55266884847883 6000.0\n",
      "133.5281446542827 6000.0\n",
      "136.7855255168678 6000.0\n",
      "153.42153047866321 6000.0\n",
      "265.8451026759214 6000.0\n"
     ]
    }
   ],
   "source": [
    "for i in range(len(e.data.lysis_time)):\n",
    "    print(e.data.lysis_time[i][e.data.total_lyses[i]-2], e.data.lysis_time[i][e.data.total_lyses[i]-1])"
   ]
  },
  {
   "cell_type": "code",
   "execution_count": 9,
   "id": "00ac5cf3-21d3-469e-a4cc-77ed7ad86946",
   "metadata": {},
   "outputs": [
    {
     "name": "stdout",
     "output_type": "stream",
     "text": [
      "unbinding_time (101,)\n",
      "lysis_time (100, 109)\n",
      "total_lyses (100,)\n"
     ]
    }
   ],
   "source": [
    "for k, v in e.data.items():\n",
    "    print(k, v.shape)"
   ]
  },
  {
   "cell_type": "code",
   "execution_count": 3,
   "id": "14246a5b-a1a9-4050-89c1-d2e3c5a637a4",
   "metadata": {},
   "outputs": [
    {
     "name": "stdout",
     "output_type": "stream",
     "text": [
      "macro_version          : diffuse_into_and_along\n",
      "binding_rate           : 0.01\n",
      "pore_size              : 0.00010135\n",
      "diffusion_coeff        : 5e-07\n",
      "binding_sites          : 427.0\n",
      "grid_symmetry_distance : 1.0862\n",
      "rows                   : 93\n",
      "cols                   : 121\n",
      "first_fiber_row        : 28\n",
      "total_molecules        : 43074\n",
      "moving_probability     : 0.2\n",
      "total_trials           : 10\n",
      "total_time             : 600\n",
      "seed                   : -2137354075\n",
      "state                  : [129281, 362436069, 123456789, -2137354075]\n",
      "data_files             : unbinding_time : tsectPA.dat\n",
      "                         lysis_time     : lysismat.dat\n",
      "                         total_lyses    : lenlysisvect.dat\n",
      "full_row               : 278\n",
      "xz_row                 : 185\n",
      "total_fibers           : 33545\n",
      "last_ghost_fiber       : 10135\n",
      "time_step              : 0.0003423940833333333\n",
      "total_time_steps       : 1752366.729467921\n",
      "\n"
     ]
    }
   ],
   "source": [
    "print(util.MacroParameters.print_default_values())"
   ]
  },
  {
   "cell_type": "code",
   "execution_count": 6,
   "id": "60ca6f45-210c-4bcb-b46f-fd4af072b8e7",
   "metadata": {},
   "outputs": [],
   "source": [
    "a = (1, 2, 3, 4)"
   ]
  },
  {
   "cell_type": "code",
   "execution_count": 17,
   "id": "cc296ebc-135e-4ef2-8cfe-3c381377f2d4",
   "metadata": {},
   "outputs": [
    {
     "data": {
      "text/plain": [
       "(1, 2, 9)"
      ]
     },
     "execution_count": 17,
     "metadata": {},
     "output_type": "execute_result"
    }
   ],
   "source": [
    "b = a[:2] + (9,)\n",
    "b"
   ]
  },
  {
   "cell_type": "code",
   "execution_count": 12,
   "id": "1d786805-af9e-4b02-856a-efc8059cc9a6",
   "metadata": {},
   "outputs": [
    {
     "data": {
      "text/plain": [
       "(5, 6, 7, 8)"
      ]
     },
     "execution_count": 12,
     "metadata": {},
     "output_type": "execute_result"
    }
   ],
   "source": [
    "c = [5, 6, 7, 8]\n",
    "a = tuple(i for i in c)\n",
    "a"
   ]
  },
  {
   "cell_type": "code",
   "execution_count": 15,
   "id": "9ba9e7c6-b213-42bd-9375-a32f91b05153",
   "metadata": {},
   "outputs": [
    {
     "data": {
      "text/plain": [
       "sys.int_info(bits_per_digit=30, sizeof_digit=4, default_max_str_digits=4300, str_digits_check_threshold=640)"
      ]
     },
     "execution_count": 15,
     "metadata": {},
     "output_type": "execute_result"
    }
   ],
   "source": [
    "import sys\n",
    "sys.int_info"
   ]
  },
  {
   "cell_type": "code",
   "execution_count": 16,
   "id": "56ace4a1-4d47-4e06-b72a-17fa60af44cb",
   "metadata": {},
   "outputs": [
    {
     "data": {
      "text/plain": [
       "9223372036854775807"
      ]
     },
     "execution_count": 16,
     "metadata": {},
     "output_type": "execute_result"
    }
   ],
   "source": [
    "sys.maxsize"
   ]
  },
  {
   "cell_type": "code",
   "execution_count": null,
   "id": "2d3575c7-5c45-4de1-840c-7028611a8f3c",
   "metadata": {},
   "outputs": [],
   "source": []
  }
 ],
 "metadata": {
  "kernelspec": {
   "display_name": "Python 3 (ipykernel)",
   "language": "python",
   "name": "python3"
  },
  "language_info": {
   "codemirror_mode": {
    "name": "ipython",
    "version": 3
   },
   "file_extension": ".py",
   "mimetype": "text/x-python",
   "name": "python",
   "nbconvert_exporter": "python",
   "pygments_lexer": "ipython3",
   "version": "3.11.0"
  }
 },
 "nbformat": 4,
 "nbformat_minor": 5
}
