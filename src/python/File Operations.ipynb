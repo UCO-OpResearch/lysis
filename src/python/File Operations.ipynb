{
 "cells": [
  {
   "cell_type": "code",
   "execution_count": 1,
   "id": "56f1bf06-bd13-40ee-8f4d-09147c7bf908",
   "metadata": {},
   "outputs": [],
   "source": [
    "import util"
   ]
  },
  {
   "cell_type": "code",
   "execution_count": 2,
   "id": "8eea4931-5a0f-478a-bc74-2684838628d1",
   "metadata": {},
   "outputs": [],
   "source": [
    "e = util.Experiment('../../data')\n",
    "e.initialize_macro_param(\"Diffuse into and along\")"
   ]
  },
  {
   "cell_type": "code",
   "execution_count": 3,
   "id": "1eb896f2-094f-4b9b-a2c8-a2fa5d6591bf",
   "metadata": {},
   "outputs": [
    {
     "name": "stdout",
     "output_type": "stream",
     "text": [
      "experiment_code : 2022_12_26_1226\n",
      "micro_params    : None\n",
      "macro_params    : macro_version           : Diffuse into and along\n",
      "                  rows                    : 93\n",
      "                  cols                    : 121\n",
      "                  first_fiber_row         : 28\n",
      "                  moving_probability      : 0.2\n",
      "                  pore_size               : 0.00010135\n",
      "                  diffusion_coeff         : 5e-07\n",
      "                  total_time              : 600\n",
      "                  full_row                : 278\n",
      "                  xz_row                  : 185\n",
      "                  total_fibers            : 33545\n",
      "                  last_ghost_fiber        : 10135\n",
      "                  time_step               : 0.0003423940833333333\n",
      "                  total_time_steps        : 1752366.729467921\n",
      "                  binding_rate            : 0.01\n",
      "                  binding_sites           : 427.0\n",
      "                  grid_symmetry_distance  : 1.0862\n",
      "                  total_molecules         : 43074\n",
      "                  total_trials            : 10\n",
      "                  seed                    : -2137354075\n",
      "                  state                   : [129281, 362436069, 123456789, -2137354075]\n",
      "                  unbinding_time_filename : tsectPA\n",
      "                  lysis_time_filename     : lysismat\n",
      "                  total_lyses_filename    : lenlysisvect\n",
      "                  lysis_blocks            : 100\n",
      "                  unbinds_per_block       : 500\n",
      "                  max_lyses_per_block     : 283\n",
      "\n"
     ]
    }
   ],
   "source": [
    "print(e)"
   ]
  },
  {
   "cell_type": "code",
   "execution_count": null,
   "id": "c8dc0cee-c3d2-42b5-af8e-af69a06ab463",
   "metadata": {},
   "outputs": [],
   "source": []
  }
 ],
 "metadata": {
  "kernelspec": {
   "display_name": "Python 3 (ipykernel)",
   "language": "python",
   "name": "python3"
  },
  "language_info": {
   "codemirror_mode": {
    "name": "ipython",
    "version": 3
   },
   "file_extension": ".py",
   "mimetype": "text/x-python",
   "name": "python",
   "nbconvert_exporter": "python",
   "pygments_lexer": "ipython3",
   "version": "3.10.8"
  }
 },
 "nbformat": 4,
 "nbformat_minor": 5
}
