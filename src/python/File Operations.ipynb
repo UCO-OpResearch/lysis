{
 "cells": [
  {
   "cell_type": "code",
   "execution_count": 1,
   "id": "a6993da4-a375-42b1-b224-7ac7dfb1963b",
   "metadata": {},
   "outputs": [
    {
     "data": {
      "text/html": [
       "\n",
       "                <script type=\"application/javascript\" id=\"jupyter_black\">\n",
       "                (function() {\n",
       "                    if (window.IPython === undefined) {\n",
       "                        return\n",
       "                    }\n",
       "                    var msg = \"WARNING: it looks like you might have loaded \" +\n",
       "                        \"jupyter_black in a non-lab notebook with \" +\n",
       "                        \"`is_lab=True`. Please double check, and if \" +\n",
       "                        \"loading with `%load_ext` please review the README!\"\n",
       "                    console.log(msg)\n",
       "                    alert(msg)\n",
       "                })()\n",
       "                </script>\n",
       "                "
      ],
      "text/plain": [
       "<IPython.core.display.HTML object>"
      ]
     },
     "metadata": {},
     "output_type": "display_data"
    }
   ],
   "source": [
    "import black\n",
    "import jupyter_black\n",
    "\n",
    "jupyter_black.load(\n",
    "    lab=True,\n",
    "    line_length=110,\n",
    "    target_version=black.TargetVersion.PY310,\n",
    ")"
   ]
  },
  {
   "cell_type": "code",
   "execution_count": 2,
   "id": "56f1bf06-bd13-40ee-8f4d-09147c7bf908",
   "metadata": {},
   "outputs": [],
   "source": [
    "import os\n",
    "import lysis\n",
    "from tqdm import tqdm"
   ]
  },
  {
   "cell_type": "code",
   "execution_count": 3,
   "id": "8eea4931-5a0f-478a-bc74-2684838628d1",
   "metadata": {},
   "outputs": [],
   "source": [
    "e = lysis.util.Experiment(os.path.join(\"..\", \"..\", \"data\"), experiment_code=\"2023-01-31-1303\")"
   ]
  },
  {
   "cell_type": "code",
   "execution_count": null,
   "id": "17a8b467-dbca-443d-9089-0b357bfd7cd2",
   "metadata": {},
   "outputs": [],
   "source": [
    "p = {\n",
    "    #\"cols\": 10,\n",
    "    #\"rows\": 13,\n",
    "    #\"empty_rows\": 3,\n",
    "    \"total_time\": 5*60,\n",
    "    \"macro_version\": r\"py_macro\",\n",
    "    \"seed\": 758492894,\n",
    "    \"total_trials\": 1,\n",
    "    #\"total_molecules\": 50,\n",
    "    #\"duplicate_fortran\": True,\n",
    "    \"save_interval\": 10,\n",
    "    #\"forced_unbind\": 8.52e-2,\n",
    "    #\"average_bind_time\": 27.8,\n",
    "    #\"macro_version\": r\"['brad_scratch.f90', 'rng-array.f90']\"\n",
    "}"
   ]
  },
  {
   "cell_type": "code",
   "execution_count": 4,
   "id": "00b685ac-9c80-4823-abdb-50d55c239214",
   "metadata": {},
   "outputs": [],
   "source": [
    "# e.initialize_macro_param(p)\n",
    "e.read_file()"
   ]
  },
  {
   "cell_type": "code",
   "execution_count": null,
   "id": "c8dc0cee-c3d2-42b5-af8e-af69a06ab463",
   "metadata": {},
   "outputs": [],
   "source": [
    "e.to_file()"
   ]
  },
  {
   "cell_type": "code",
   "execution_count": 5,
   "id": "1eb896f2-094f-4b9b-a2c8-a2fa5d6591bf",
   "metadata": {
    "tags": []
   },
   "outputs": [
    {
     "name": "stdout",
     "output_type": "stream",
     "text": [
      "experiment_code : 2023-01-31-1303\n",
      "data_filenames  : unbinding_time    : tsectPA.dat\n",
      "                  lysis_time        : lysismat.dat\n",
      "                  total_lyses       : lenlysisvect.dat\n",
      "                  degradation_state : deg.p.npy\n",
      "                  molecule_location : m_loc.p.npy\n",
      "                  molecule_state    : m_bound.p.npy\n",
      "                  save_time         : tsave.p.npy\n",
      "micro_params    : None\n",
      "macro_params    : binding_rate       : 0.1\n",
      "                  pore_size          : 0.00010135\n",
      "                  diffusion_coeff    : 5e-07\n",
      "                  binding_sites      : 427\n",
      "                  forced_unbind      : 0.0852\n",
      "                  average_bind_time  : 27.8\n",
      "                  grid_node_distance : 1.0862\n",
      "                  cols               : 93\n",
      "                  rows               : 121\n",
      "                  fiber_rows         : 93\n",
      "                  empty_rows         : 28\n",
      "                  last_empty_edge    : 7,783\n",
      "                  full_row           : 278\n",
      "                  xz_row             : 185\n",
      "                  total_edges        : 33,545\n",
      "                  total_fibers       : 25,761\n",
      "                  total_molecules    : 43,074\n",
      "                  moving_probability : 0.2\n",
      "                  microscale_runs    : 50,000\n",
      "                  total_trials       : 1\n",
      "                  total_time         : 300\n",
      "                  time_step          : 0.0003423940833333333\n",
      "                  total_time_steps   : 876,183\n",
      "                  seed               : 758,492,894\n",
      "                  state              : (129281, 362436069, 123456789, 758492894)\n",
      "                  input_data         : ['unbinding_time', 'lysis_time', 'total_lyses']\n",
      "                  output_data        : ['degradation_state', 'molecule_location', 'molecule_state', 'save_time']\n",
      "                  save_interval      : 10\n",
      "                  number_of_saves    : 31\n",
      "                  macro_version      : py_macro\n",
      "                  log_lvl            : 30\n",
      "                  duplicate_fortran  : 0\n",
      "                  processing_library : numpy\n",
      "\n"
     ]
    }
   ],
   "source": [
    "print(e)"
   ]
  },
  {
   "cell_type": "code",
   "execution_count": null,
   "id": "d30f20b6-7b42-4d00-93fc-855b79608e15",
   "metadata": {},
   "outputs": [],
   "source": [
    "tuple(e.macro_params.state)"
   ]
  },
  {
   "cell_type": "code",
   "execution_count": null,
   "id": "ae8942eb-3522-46e3-985d-8ef4cb3e81c8",
   "metadata": {},
   "outputs": [],
   "source": [
    "e.data.lysis_time"
   ]
  },
  {
   "cell_type": "code",
   "execution_count": null,
   "id": "09b60b87-93e2-4b46-9790-feb87fad0191",
   "metadata": {},
   "outputs": [],
   "source": [
    "e.data.unbinding_time"
   ]
  },
  {
   "cell_type": "code",
   "execution_count": null,
   "id": "24689943-019f-4f5d-a7c4-5d2ff93ecd91",
   "metadata": {},
   "outputs": [],
   "source": [
    "e.data.new('test', 'test.dat')"
   ]
  },
  {
   "cell_type": "code",
   "execution_count": null,
   "id": "862454e9-a6ca-4f8c-a564-bc100ba998be",
   "metadata": {},
   "outputs": [],
   "source": [
    "e.data.overwrite('test', np.ones((12, 21)))"
   ]
  },
  {
   "cell_type": "code",
   "execution_count": null,
   "id": "6d85377f-a1af-4c69-a0c5-32421f5b9eb6",
   "metadata": {},
   "outputs": [],
   "source": [
    "e.data.test.shape"
   ]
  },
  {
   "cell_type": "code",
   "execution_count": null,
   "id": "e6185303-dfe4-4e1a-9b9e-484bad83f2a6",
   "metadata": {},
   "outputs": [],
   "source": [
    "e.data.append('test', np.zeros((2, 21)), 0)"
   ]
  },
  {
   "cell_type": "code",
   "execution_count": null,
   "id": "7ee0b0a1-1169-4e9c-8d5e-9f5c747dbde9",
   "metadata": {},
   "outputs": [],
   "source": [
    "e.data.save_to_disk('test')"
   ]
  },
  {
   "cell_type": "code",
   "execution_count": null,
   "id": "81f89ed9-7986-425a-b467-6686c86d4be1",
   "metadata": {},
   "outputs": [],
   "source": [
    "e.data.delete('test')"
   ]
  },
  {
   "cell_type": "code",
   "execution_count": null,
   "id": "2be5401b-fcee-4bbd-9a2f-95f6f42ba847",
   "metadata": {},
   "outputs": [],
   "source": [
    "e.data.test"
   ]
  },
  {
   "cell_type": "code",
   "execution_count": null,
   "id": "b7a3838a-865e-407e-9151-0e2af0574c78",
   "metadata": {},
   "outputs": [],
   "source": [
    "rng = lysis.util.KissRandomGenerator()"
   ]
  },
  {
   "cell_type": "code",
   "execution_count": null,
   "id": "742428fb-cca5-48e2-ae9e-746f86ff09a1",
   "metadata": {},
   "outputs": [],
   "source": [
    "print(f\"{9901201806 % 2**32:,}\")"
   ]
  },
  {
   "cell_type": "code",
   "execution_count": null,
   "id": "b133ef71-91e0-4526-8248-d88c7218892a",
   "metadata": {},
   "outputs": [],
   "source": [
    "k = 0\n",
    "for i in tqdm(range(int(9901201806/1000))):\n",
    "    k += 1000\n",
    "    if k > 2147483647:\n",
    "        k -= 2147483647+2147483648\n",
    "k"
   ]
  },
  {
   "cell_type": "code",
   "execution_count": null,
   "id": "0151981f-e8fb-4f16-a62e-31cf9f686a36",
   "metadata": {},
   "outputs": [],
   "source": [
    "2**32 - 2*2147483647"
   ]
  },
  {
   "cell_type": "code",
   "execution_count": null,
   "id": "aa0593a7-e6c3-43f3-876d-61f28874dbb6",
   "metadata": {},
   "outputs": [],
   "source": [
    "a = \"\"\"this is\n",
    "a test\"\"\""
   ]
  },
  {
   "cell_type": "code",
   "execution_count": null,
   "id": "b4d4499b-30db-42d5-9ee2-5576aa119191",
   "metadata": {},
   "outputs": [],
   "source": [
    "print(a)"
   ]
  },
  {
   "cell_type": "code",
   "execution_count": null,
   "id": "2433b3aa-713e-4b8c-b307-9ed4a04e1a3d",
   "metadata": {},
   "outputs": [],
   "source": [
    "import numpy as np"
   ]
  },
  {
   "cell_type": "code",
   "execution_count": null,
   "id": "f0aa1abf-322c-4311-aca3-03a262f51374",
   "metadata": {},
   "outputs": [],
   "source": [
    "# Physiological Kd - External\n",
    "experiment_codes = [\"2023-04-13-1903\", \"2023-04-13-2003\", \"2023-04-13-2103\"]\n",
    "file_codes = [\n",
    "    \"_PLG2_tPA01_into_and_along_Q2.dat\",\n",
    "    \"_PLG2_tPA01_into_and_along__external.dat\",\n",
    "    \"_PLG2_tPA01_into_and_along__external.dat\",\n",
    "]"
   ]
  },
  {
   "cell_type": "code",
   "execution_count": null,
   "id": "a0ff9701-39bb-433b-a5e0-9a61e3c34553",
   "metadata": {},
   "outputs": [],
   "source": [
    "# 10x smaller - External\n",
    "experiment_codes = [\"2023-04-13-1908\", \"2023-04-13-2008\", \"2023-04-13-2108\"]\n",
    "file_codes = [\n",
    "    \"_PLG2_tPA01_Kd00020036_into_and_along_Q2.dat\",\n",
    "    \"_PLG2_tPA01_Kd00020036_into_and_along__external.dat\",\n",
    "    \"_PLG2_tPA01_Kd00020036_into_and_along__external.dat\",\n",
    "]"
   ]
  },
  {
   "cell_type": "code",
   "execution_count": null,
   "id": "3d5f406c-8294-4875-a147-93c006aa9ded",
   "metadata": {},
   "outputs": [],
   "source": [
    "# 10x bigger - External\n",
    "experiment_codes = [\"2023-04-13-1913\", \"2023-04-13-2013\", \"2023-04-13-2113\"]\n",
    "file_codes = [\n",
    "    \"_PLG2_tPA01_Kd0236_into_and_along_Q2.dat\",\n",
    "    \"_PLG2_tPA01_Kd0236_into_and_along__external.dat\",\n",
    "    \"_PLG2_tPA01_Kd0236_into_and_along__external.dat\",\n",
    "]"
   ]
  },
  {
   "cell_type": "code",
   "execution_count": null,
   "id": "5bbe6006-dc4f-4a99-b381-de0c8a829e90",
   "metadata": {},
   "outputs": [],
   "source": [
    "# Physiological Kd - Internal\n",
    "experiment_codes = [\"2023-04-13-2002\", \"2023-04-13-2102\"]\n",
    "file_codes = [\n",
    "    \"_PLG2_tPA01_into_and_along__internal.dat\",\n",
    "    \"_PLG2_tPA01_into_and_along__internal.dat\",\n",
    "]"
   ]
  },
  {
   "cell_type": "code",
   "execution_count": null,
   "id": "0947fc00-1f42-4f4b-bbe7-2f3e9ef36ca6",
   "metadata": {},
   "outputs": [],
   "source": [
    "# 10x smaller - Internal\n",
    "experiment_codes = [\"2023-04-13-2007\", \"2023-04-13-2107\"]\n",
    "file_codes = [\n",
    "    \"_PLG2_tPA01_Kd00020036_into_and_along__internal.dat\",\n",
    "    \"_PLG2_tPA01_Kd00020036_into_and_along__internal.dat\",\n",
    "]"
   ]
  },
  {
   "cell_type": "code",
   "execution_count": null,
   "id": "20d4b299-ea90-4bf2-8895-7b2a7fd40577",
   "metadata": {},
   "outputs": [],
   "source": [
    "# 10x bigger - Internal\n",
    "experiment_codes = [\"2023-04-13-2012\", \"2023-04-13-2112\"]\n",
    "file_codes = [\n",
    "    \"_PLG2_tPA01_Kd0236_into_and_along__internal.dat\",\n",
    "    \"_PLG2_tPA01_Kd0236_into_and_along__internal.dat\",\n",
    "]"
   ]
  },
  {
   "cell_type": "code",
   "execution_count": null,
   "id": "e2363d83-dea5-41a7-8b56-2dcfa6022330",
   "metadata": {},
   "outputs": [],
   "source": [
    "exps = [\n",
    "    lysis.util.Experiment(os.path.join(\"..\", \"..\", \"data\"), experiment_code=exp_code)\n",
    "    for exp_code in experiment_codes\n",
    "]\n",
    "for e in exps:\n",
    "    e.read_file()"
   ]
  },
  {
   "cell_type": "code",
   "execution_count": null,
   "id": "facffd13-13e1-4472-8773-ce122440895b",
   "metadata": {},
   "outputs": [],
   "source": [
    "n_save = {}\n",
    "raw_deg = {}\n",
    "raw_tsave = {}\n",
    "raw_mol_location = {}\n",
    "raw_mol_status = {}\n",
    "raw_mol_status = {}\n",
    "raw_mfpt = {}"
   ]
  },
  {
   "cell_type": "code",
   "execution_count": null,
   "id": "bbfcfdc6-ea88-4d35-8e8c-ac25d1545728",
   "metadata": {},
   "outputs": [],
   "source": [
    "for i, e in enumerate(exps):\n",
    "    n_save[i] = np.fromfile(os.path.join(e.os_path, \"Nsave\" + file_codes[i]), dtype=np.int32)\n",
    "    raw_deg[i] = np.fromfile(os.path.join(e.os_path, \"deg\" + file_codes[i]))\n",
    "    raw_tsave[i] = np.fromfile(os.path.join(e.os_path, \"tsave\" + file_codes[i]))\n",
    "    raw_mol_location[i] = np.fromfile(os.path.join(e.os_path, \"m_loc\" + file_codes[i]), dtype=np.int32)\n",
    "    raw_mol_status[i] = np.fromfile(os.path.join(e.os_path, \"m_bound\" + file_codes[i]), dtype=np.int32)\n",
    "    raw_mol_status[i] = raw_mol_status[i].astype(np.bool_)\n",
    "    raw_mfpt[i] = np.fromfile(os.path.join(e.os_path, \"mfpt\" + file_codes[i]))"
   ]
  },
  {
   "cell_type": "code",
   "execution_count": null,
   "id": "c3174dfb-95d3-43f9-8030-8ce30be0b9f5",
   "metadata": {},
   "outputs": [],
   "source": [
    "i = 0\n",
    "j = 2\n",
    "print(np.count_nonzero(n_save[i] != n_save[j]))\n",
    "print(np.count_nonzero(raw_deg[i] != raw_deg[j]))\n",
    "print(np.count_nonzero(raw_tsave[i] != raw_tsave[j]))\n",
    "print(np.count_nonzero(raw_mol_location[i] != raw_mol_location[j]))\n",
    "print(np.count_nonzero(raw_mol_status[i] != raw_mol_status[j]))\n",
    "print(np.count_nonzero(raw_mfpt[i] != raw_mfpt[j]))"
   ]
  },
  {
   "cell_type": "code",
   "execution_count": null,
   "id": "88f273f1-1ea4-4a64-9277-945078712143",
   "metadata": {},
   "outputs": [],
   "source": []
  }
 ],
 "metadata": {
  "kernelspec": {
   "display_name": "Python 3 (ipykernel)",
   "language": "python",
   "name": "python3"
  },
  "language_info": {
   "codemirror_mode": {
    "name": "ipython",
    "version": 3
   },
   "file_extension": ".py",
   "mimetype": "text/x-python",
   "name": "python",
   "nbconvert_exporter": "python",
   "pygments_lexer": "ipython3",
   "version": "3.10.8"
  }
 },
 "nbformat": 4,
 "nbformat_minor": 5
}
