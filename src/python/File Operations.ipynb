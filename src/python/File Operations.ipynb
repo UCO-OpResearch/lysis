{
 "cells": [
  {
   "cell_type": "code",
   "execution_count": null,
   "id": "56f1bf06-bd13-40ee-8f4d-09147c7bf908",
   "metadata": {},
   "outputs": [],
   "source": [
    "import lysis"
   ]
  },
  {
   "cell_type": "code",
   "execution_count": null,
   "id": "8eea4931-5a0f-478a-bc74-2684838628d1",
   "metadata": {},
   "outputs": [],
   "source": [
    "e = lysis.util.Experiment(r'../../data', experiment_code='2022-12-27-1100')"
   ]
  },
  {
   "cell_type": "code",
   "execution_count": null,
   "id": "00b685ac-9c80-4823-abdb-50d55c239214",
   "metadata": {},
   "outputs": [],
   "source": [
    "e.initialize_macro_param()\n",
    "# e.read_file()"
   ]
  },
  {
   "cell_type": "code",
   "execution_count": null,
   "id": "c8dc0cee-c3d2-42b5-af8e-af69a06ab463",
   "metadata": {},
   "outputs": [],
   "source": [
    "e.to_file()"
   ]
  },
  {
   "cell_type": "code",
   "execution_count": null,
   "id": "1eb896f2-094f-4b9b-a2c8-a2fa5d6591bf",
   "metadata": {
    "tags": []
   },
   "outputs": [],
   "source": [
    "print(e)"
   ]
  },
  {
   "cell_type": "code",
   "execution_count": null,
   "id": "d30f20b6-7b42-4d00-93fc-855b79608e15",
   "metadata": {},
   "outputs": [],
   "source": [
    "e.read_macro_input_data()"
   ]
  },
  {
   "cell_type": "code",
   "execution_count": null,
   "id": "ae8942eb-3522-46e3-985d-8ef4cb3e81c8",
   "metadata": {},
   "outputs": [],
   "source": [
    "e.data.lysis_time.shape"
   ]
  },
  {
   "cell_type": "code",
   "execution_count": null,
   "id": "09b60b87-93e2-4b46-9790-feb87fad0191",
   "metadata": {},
   "outputs": [],
   "source": [
    "e.data.unbinding_time"
   ]
  },
  {
   "cell_type": "code",
   "execution_count": null,
   "id": "24689943-019f-4f5d-a7c4-5d2ff93ecd91",
   "metadata": {},
   "outputs": [],
   "source": [
    "unbinding_time = np.loadtxt(os.path.join(e.os_path, e.macro_params['data_files']['unbinding_time']))\n",
    "unbinding_time"
   ]
  },
  {
   "cell_type": "code",
   "execution_count": null,
   "id": "f47702e9-ad03-4cc8-9c7d-6b4406a3c77c",
   "metadata": {},
   "outputs": [],
   "source": [
    "total_lyses = np.loadtxt(os.path.join(e.os_path, e.macro_params['data_files']['total_lyses']), dtype=int, converters=float)\n",
    "total_lyses.max()"
   ]
  },
  {
   "cell_type": "code",
   "execution_count": null,
   "id": "c572fdd7-ac7f-4c39-ba40-e40738423304",
   "metadata": {},
   "outputs": [],
   "source": [
    "lysis_time = np.loadtxt(os.path.join(e.os_path, e.macro_params['data_files']['lysis_time'])).T\n",
    "lysis_time.shape"
   ]
  },
  {
   "cell_type": "code",
   "execution_count": null,
   "id": "2468c686-7727-4252-929d-818ca650bfc5",
   "metadata": {},
   "outputs": [],
   "source": [
    "lysis_time.size"
   ]
  },
  {
   "cell_type": "code",
   "execution_count": null,
   "id": "81a9860f-e6a5-4b36-a63b-56ec180b9e89",
   "metadata": {},
   "outputs": [],
   "source": [
    "lysis_time_trunc = np.delete(lysis_time, np.s_[total_lyses.max():], 1)\n",
    "lysis_time_trunc.shape"
   ]
  },
  {
   "cell_type": "code",
   "execution_count": null,
   "id": "bef7b605-7aa4-465f-943b-6a744278f2d5",
   "metadata": {
    "jupyter": {
     "outputs_hidden": true
    },
    "tags": []
   },
   "outputs": [],
   "source": [
    "for i in range(len(e.data.lysis_time)):\n",
    "    print(e.data.lysis_time[i][e.data.total_lyses[i]-2], e.data.lysis_time[i][e.data.total_lyses[i]-1])"
   ]
  },
  {
   "cell_type": "code",
   "execution_count": null,
   "id": "00ac5cf3-21d3-469e-a4cc-77ed7ad86946",
   "metadata": {},
   "outputs": [],
   "source": [
    "for k, v in e.data.items():\n",
    "    print(k, v.shape)"
   ]
  },
  {
   "cell_type": "code",
   "execution_count": null,
   "id": "14246a5b-a1a9-4050-89c1-d2e3c5a637a4",
   "metadata": {},
   "outputs": [],
   "source": [
    "print(util.MacroParameters.print_default_values())"
   ]
  },
  {
   "cell_type": "code",
   "execution_count": null,
   "id": "60ca6f45-210c-4bcb-b46f-fd4af072b8e7",
   "metadata": {},
   "outputs": [],
   "source": [
    "a = (1, 2, 3, 4)"
   ]
  },
  {
   "cell_type": "code",
   "execution_count": null,
   "id": "cc296ebc-135e-4ef2-8cfe-3c381377f2d4",
   "metadata": {},
   "outputs": [],
   "source": [
    "b = a[:2] + (9,)\n",
    "b"
   ]
  },
  {
   "cell_type": "code",
   "execution_count": null,
   "id": "1d786805-af9e-4b02-856a-efc8059cc9a6",
   "metadata": {},
   "outputs": [],
   "source": [
    "c = [5, 6, 7, 8]\n",
    "a = tuple(i for i in c)\n",
    "a"
   ]
  },
  {
   "cell_type": "code",
   "execution_count": null,
   "id": "9ba9e7c6-b213-42bd-9375-a32f91b05153",
   "metadata": {},
   "outputs": [],
   "source": [
    "import sys\n",
    "sys.int_info"
   ]
  },
  {
   "cell_type": "code",
   "execution_count": null,
   "id": "56ace4a1-4d47-4e06-b72a-17fa60af44cb",
   "metadata": {},
   "outputs": [],
   "source": [
    "sys.maxsize"
   ]
  },
  {
   "cell_type": "code",
   "execution_count": null,
   "id": "2d3575c7-5c45-4de1-840c-7028611a8f3c",
   "metadata": {},
   "outputs": [],
   "source": []
  }
 ],
 "metadata": {
  "kernelspec": {
   "display_name": "Python 3 (ipykernel)",
   "language": "python",
   "name": "python3"
  },
  "language_info": {
   "codemirror_mode": {
    "name": "ipython",
    "version": 3
   },
   "file_extension": ".py",
   "mimetype": "text/x-python",
   "name": "python",
   "nbconvert_exporter": "python",
   "pygments_lexer": "ipython3",
   "version": "3.11.0"
  }
 },
 "nbformat": 4,
 "nbformat_minor": 5
}
