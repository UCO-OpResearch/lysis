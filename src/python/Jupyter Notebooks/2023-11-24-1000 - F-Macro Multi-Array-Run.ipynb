{
 "cells": [
  {
   "cell_type": "markdown",
   "id": "1ca5c835-3327-4270-99f7-f4af2e591939",
   "metadata": {},
   "source": [
    "# Runs for Revised 2023 tPA Diffusion paper"
   ]
  },
  {
   "cell_type": "code",
   "execution_count": 1,
   "id": "15194d88-70da-43ec-ae61-7398cc0c17c8",
   "metadata": {
    "tags": []
   },
   "outputs": [
    {
     "data": {
      "text/html": [
       "\n",
       "                <script type=\"application/javascript\" id=\"jupyter_black\">\n",
       "                (function() {\n",
       "                    if (window.IPython === undefined) {\n",
       "                        return\n",
       "                    }\n",
       "                    var msg = \"WARNING: it looks like you might have loaded \" +\n",
       "                        \"jupyter_black in a non-lab notebook with \" +\n",
       "                        \"`is_lab=True`. Please double check, and if \" +\n",
       "                        \"loading with `%load_ext` please review the README!\"\n",
       "                    console.log(msg)\n",
       "                    alert(msg)\n",
       "                })()\n",
       "                </script>\n",
       "                "
      ],
      "text/plain": [
       "<IPython.core.display.HTML object>"
      ]
     },
     "metadata": {},
     "output_type": "display_data"
    }
   ],
   "source": [
    "import black\n",
    "import jupyter_black\n",
    "\n",
    "jupyter_black.load(\n",
    "    lab=True,\n",
    "    line_length=110,\n",
    "    target_version=black.TargetVersion.PY310,\n",
    ")"
   ]
  },
  {
   "cell_type": "code",
   "execution_count": 2,
   "id": "ff26407c-9b35-44b7-9fa7-6181d91da4fb",
   "metadata": {},
   "outputs": [],
   "source": [
    "import os\n",
    "import subprocess\n",
    "import sys\n",
    "\n",
    "sys.path.insert(1, os.path.abspath(\"..\"))\n",
    "\n",
    "import GooseSLURM as gs\n",
    "import numpy as np\n",
    "\n",
    "import lysis"
   ]
  },
  {
   "cell_type": "code",
   "execution_count": 3,
   "id": "9860e975-4be3-4514-af0a-06096bb2b44b",
   "metadata": {},
   "outputs": [],
   "source": [
    "scenario_type = np.dtype(\n",
    "    [\n",
    "        (\"descriptor\", np.str_, 40),\n",
    "        (\"file_code\", np.str_, 40),\n",
    "        (\"forced_unbind\", np.float_),\n",
    "        (\"average_bind_time\", np.float_),\n",
    "    ]\n",
    ")\n",
    "mechanism_type = np.dtype(\n",
    "    [(\"file_code\", np.str_, 40), (\"descriptor\", np.str_, 60), (\"executable\", np.str_, 60)]\n",
    ")\n",
    "run_type = np.dtype(\n",
    "    [\n",
    "        (\"exp_code\", np.str_, 15),\n",
    "        (\"scenario\", np.str_, 40),\n",
    "        (\"mechanism\", np.str_, 60),\n",
    "        (\"seed\", int),\n",
    "        (\"running_time\", int),\n",
    "        # (\"save_interval\", int),\n",
    "    ]\n",
    ")"
   ]
  },
  {
   "cell_type": "code",
   "execution_count": 4,
   "id": "8acd2e5a-a400-4c6f-bd8d-20606e7a743d",
   "metadata": {},
   "outputs": [],
   "source": [
    "# seed sequence entropy: 207289818540485030990241523547266272636\n",
    "scenarios = np.array(\n",
    "    [\n",
    "        (\"10x smaller Kd\", \"_Kd00020036\", 0.5143, 277.8),\n",
    "        (\"Physiological Kd\", \"\", 8.52e-2, 27.8),\n",
    "        (\"10x bigger Kd\", \"_Kd0236\", 5.4e-3, 2.78),\n",
    "    ],\n",
    "    dtype=scenario_type,\n",
    ")\n",
    "mechanisms = np.array(\n",
    "    [\n",
    "        (\"_always\", \"Always bind\", \"macro_Q2_always_rebind\"),\n",
    "        (\"_along\", \"Diffuse along clot\", \"macro_Q2_diffuse_along\"),\n",
    "        (\"_into\", \"Diffuse into clot\", \"macro_Q2_diffuse_into\"),\n",
    "        # (\n",
    "        #     \"_into_and_along\",\n",
    "        #     \"Diffuse into and along clot - BUGGED\",\n",
    "        #     \"macro_Q2_diffuse_into_and_along\",\n",
    "        # ),\n",
    "        (\n",
    "            \"_into_and_along\",\n",
    "            \"Diffuse into and along clot\",\n",
    "            \"macro_diffuse_into_and_along__external\",\n",
    "        ),\n",
    "        (\n",
    "            \"_into_and_along_2xslow_micro\",\n",
    "            \"Diffuse into and along clot (2x slow micro diffusion)\",\n",
    "            \"macro_diffuse_into_and_along_slow_micro__external\",\n",
    "        ),\n",
    "        (\n",
    "            \"_into_and_along_4xslow_micro\",\n",
    "            \"Diffuse into and along clot (4x slow micro diffusion)\",\n",
    "            \"macro_diffuse_into_and_along_slow_micro__external\",\n",
    "        ),\n",
    "    ],\n",
    "    dtype=mechanism_type,\n",
    ")"
   ]
  },
  {
   "cell_type": "code",
   "execution_count": 5,
   "id": "7fc6b68b-a8b1-4c5a-956e-3efe8234ce92",
   "metadata": {},
   "outputs": [],
   "source": [
    "in_file_code = \"_PLG2_tPA01{data_code}_Q2.dat\"\n",
    "out_file_code = \"_PLG2_tPA01{data_code}{mech_code}_Q2\""
   ]
  },
  {
   "cell_type": "code",
   "execution_count": 6,
   "id": "ebe8c9d5-f35e-4e19-b72e-43fea2254325",
   "metadata": {},
   "outputs": [],
   "source": [
    "group_code = \"2023-11-24-10\"\n",
    "runs = np.array(\n",
    "    [\n",
    "        # (group_code + \"00\", \"Physiological Kd\", \"Diffuse along clot\", 1_113_225_403, 0),\n",
    "        # (group_code + \"01\", \"Physiological Kd\", \"Always bind\", 1_267_033_118, 0),\n",
    "        # (group_code + \"02\", \"Physiological Kd\", \"Diffuse into and along clot - BUGGED\", 1_026_524_869, 0),\n",
    "        # (group_code + \"03\", \"Physiological Kd\", \"Diffuse into and along clot\", 1_896_691_809, 0),\n",
    "        # (group_code + \"04\", \"Physiological Kd\", \"Diffuse into clot\", 1_476_669_157, 0),\n",
    "        # (group_code + \"05\", \"10x smaller Kd\", \"Diffuse along clot\", 2_942_876_339, 0),\n",
    "        # (group_code + \"06\", \"10x smaller Kd\", \"Always bind\", 4_072_978_078, 0),\n",
    "        # (group_code + \"07\", \"10x smaller\", \"Diffuse into and along clot - BUGGED\", 449_503_638, 0),\n",
    "        # (group_code + \"08\", \"10x smaller Kd\", \"Diffuse into and along clot\", 3_435_440_997, 0),\n",
    "        # (group_code + \"09\", \"10x smaller Kd\", \"Diffuse into clot\", 3_134_741_379, 0),\n",
    "        # (group_code + \"10\", \"10x bigger Kd\", \"Diffuse along clot\", 2_423_940_912, 0),\n",
    "        # (group_code + \"11\", \"10x bigger Kd\", \"Always bind\", 2_141_479_464, 0),\n",
    "        # (group_code + \"12\", \"10x bigger\", \"Diffuse into and along clot - BUGGED\", 4_013_091_859, 0),\n",
    "        # (group_code + \"13\", \"10x bigger Kd\", \"Diffuse into and along clot\", 2_348_914_202, 0),\n",
    "        # (group_code + \"14\", \"10x bigger Kd\", \"Diffuse into clot\", 1_381_701_601, 0),\n",
    "        # (\n",
    "        #     group_code + \"15\",\n",
    "        #     \"Physiological Kd\",\n",
    "        #     \"Diffuse into and along clot (2x slow micro diffusion)\",\n",
    "        #     589_266_531,\n",
    "        #     0,\n",
    "        # ),\n",
    "        # (\n",
    "        #     group_code + \"16\",\n",
    "        #     \"10x smaller Kd\",\n",
    "        #     \"Diffuse into and along clot (2x slow micro diffusion)\",\n",
    "        #     3_197_076_078,\n",
    "        #     0,\n",
    "        # ),\n",
    "        # (\n",
    "        #     group_code + \"17\",\n",
    "        #     \"10x bigger Kd\",\n",
    "        #     \"Diffuse into and along clot (2x slow micro diffusion)\",\n",
    "        #     1_855_435_532,\n",
    "        #     0,\n",
    "        # ),\n",
    "        (\n",
    "            group_code + \"18\",\n",
    "            \"Physiological Kd\",\n",
    "            \"Diffuse into and along clot (4x slow micro diffusion)\",\n",
    "            3_743_550_984,\n",
    "            0,\n",
    "        ),\n",
    "        (\n",
    "            group_code + \"19\",\n",
    "            \"10x smaller Kd\",\n",
    "            \"Diffuse into and along clot (4x slow micro diffusion)\",\n",
    "            4_115_416_928,\n",
    "            0,\n",
    "        ),\n",
    "        (\n",
    "            group_code + \"20\",\n",
    "            \"10x bigger Kd\",\n",
    "            \"Diffuse into and along clot (4x slow micro diffusion)\",\n",
    "            3_721_602_610,\n",
    "            0,\n",
    "        ),\n",
    "    ],\n",
    "    dtype=run_type,\n",
    ")"
   ]
  },
  {
   "cell_type": "code",
   "execution_count": 7,
   "id": "e5667d27-3084-4c94-a36b-67f243daaa0e",
   "metadata": {},
   "outputs": [
    {
     "name": "stdout",
     "output_type": "stream",
     "text": [
      "CompletedProcess(args=['cp', 'src/fortran/macro_diffuse_into_and_along_slow_micro__external.f90', '/home/bpaynter/git/UCO-OpResearch/lysis/data/2023-11-24-1018'], returncode=0, stdout=b'', stderr=b'')\n",
      "CompletedProcess(args=['cp', 'src/fortran/macro_diffuse_into_and_along_slow_micro__external.f90', '/home/bpaynter/git/UCO-OpResearch/lysis/data/2023-11-24-1019'], returncode=0, stdout=b'', stderr=b'')\n",
      "CompletedProcess(args=['cp', 'src/fortran/macro_diffuse_into_and_along_slow_micro__external.f90', '/home/bpaynter/git/UCO-OpResearch/lysis/data/2023-11-24-1020'], returncode=0, stdout=b'', stderr=b'')\n"
     ]
    }
   ],
   "source": [
    "for run in runs:\n",
    "    mech = mechanisms[mechanisms[\"descriptor\"] == run[\"mechanism\"]][0]\n",
    "    scen = scenarios[scenarios[\"descriptor\"] == run[\"scenario\"]][0]\n",
    "    e = lysis.util.Experiment(\n",
    "        os.path.join(\"/\", \"home\", \"bpaynter\", \"git\", \"UCO-OpResearch\", \"lysis\", \"data\"),\n",
    "        experiment_code=run[\"exp_code\"],\n",
    "    )\n",
    "    p = {\n",
    "        \"forced_unbind\": scen[\"forced_unbind\"],\n",
    "        \"average_bind_time\": scen[\"average_bind_time\"],\n",
    "        \"seed\": int(run[\"seed\"]),\n",
    "        \"total_time\": int(run[\"running_time\"]),\n",
    "        # \"save_interval\": int(run[\"save_interval\"]),\n",
    "        \"macro_version\": mech[\"executable\"],\n",
    "    }\n",
    "    e.initialize_macro_param(p)\n",
    "    e.to_file()\n",
    "\n",
    "    with open(os.path.join(e.os_path, \"README.md\"), \"w\") as file:\n",
    "        file.write(\n",
    "            f\"\"\" ## {e.experiment_code}\n",
    "tPA Diffusion experiments\n",
    "Array version\n",
    "\n",
    "Uses Fortran Macroscale code with\n",
    "    -  Diffuse into and along\n",
    "    -  'restricted move' bug correction\n",
    "    -  'passerby molecule' bug correction\n",
    "    -  addition of extra output data\n",
    "    -  changing the termination criteria from 'fixed time' to 'all fibers degraded' AND '95% of molecules have passed through'\n",
    "    -  **UNDONE** changing macro-unbind wait time to remaining leaving time.\n",
    "    -  eliminating unused data variables\n",
    "    -  Moved degraded fiber check into molecule loop\n",
    "    -  Removed \"degrade\" array and use \"t_degrade\" instead\n",
    "    -  Read in \"neighborc\" array generated in Python\n",
    "    -  **UNDONE** Output molecule bind/unbind times for transit time calculations\n",
    "    -  Added the ablity to slow the movement of micro-unbound tPA by a factor of {{1,2,3,...,}}\n",
    "\n",
    "This set of data is from the \"{run['scenario']}\" set.\n",
    "Should have similar results to 2023-02-02-22{e.experiment_code[-2:]}\n",
    "\"\"\"\n",
    "        )\n",
    "\n",
    "    result = subprocess.run(\n",
    "        [\"cp\", os.path.join(\"src\", \"fortran\", mech[\"executable\"] + \".f90\"), e.os_path],\n",
    "        cwd=os.path.join(\"/\", \"home\", \"bpaynter\", \"git\", \"UCO-OpResearch\", \"lysis\"),\n",
    "        capture_output=True,\n",
    "    )\n",
    "    print(result)"
   ]
  },
  {
   "cell_type": "code",
   "execution_count": 8,
   "id": "f210f49b-efb9-425a-9ec5-9f51722c3b98",
   "metadata": {},
   "outputs": [],
   "source": [
    "folder_vars = \"\"\"\n",
    "homedir=\"/home/bpaynter/git/UCO-OpResearch/lysis\"\n",
    "workdir=\"/tmp/bpaynter/${SLURM_ARRAY_JOB_ID}-${SLURM_ARRAY_TASK_ID}\"\n",
    "datadir=\"${workdir}/data/${exp_code}\"\n",
    "\"\"\"\n",
    "\n",
    "transfer_script = \"\"\"\n",
    "# 1. Transfer to node \n",
    "# ====================\n",
    "\n",
    "# create/empty the temporary directory on the compute node\n",
    "if [ ! -d \"${workdir}\" ]; then\n",
    "  mkdir -p \"${workdir}\"\n",
    "else\n",
    "  echo rm -ri \"${workdir}\"/*\n",
    "fi\n",
    "\n",
    "mkdir -p \"${datadir}\"\n",
    "\n",
    "cp ${homedir}/data/${exp_code}/*${in_code} ${datadir}/\n",
    "cp ${homedir}/data/${exp_code}/params.json ${datadir}/\n",
    "cp ${homedir}/bin/${fort_executable} ${workdir}/\n",
    "\"\"\"\n",
    "\n",
    "return_script = \"\"\"\n",
    "# 2. Function to transfer back to the head node \n",
    "# ==============================================\n",
    "\n",
    "# define clean-up function\n",
    "function clean_up {\n",
    "  sim=$(printf \"%02d\" ${SLURM_ARRAY_TASK_ID})\n",
    "  # - copy everything from the temporary directory on the compute-node\n",
    "  mkdir -p ${homedir}/data/${exp_code}/$sim\n",
    "  cp -prf \"${datadir}\"/*${out_code}* ${homedir}/data/${exp_code}/$sim/\n",
    "  cp -prf \"${datadir}\"/*.txt ${homedir}/data/${exp_code}/$sim/\n",
    "  # - erase the temporary directory from the compute-node\n",
    "  rm -rf \"${workdir}\"/*\n",
    "  rm -rf \"${workdir}\"\n",
    "  # - exit the script\n",
    "  exit\n",
    "}\n",
    "\n",
    "# call \"clean_up\" function when this script exits, it is run even if SLURM cancels the job\n",
    "trap 'clean_up' EXIT\n",
    "\"\"\"\n",
    "execute_script = \"\"\"\n",
    "# 3. Execute \n",
    "# ===========\n",
    "\n",
    "source /home/bpaynter/.bashrc\n",
    "source /home/bpaynter/lysis.sh\n",
    "cd ${homedir}/src/python\n",
    "\n",
    "python -u fortran_run.py \\\n",
    "    --in_code ${in_code} \\\n",
    "    --out_code ${out_code}.dat \\\n",
    "    -n $SLURM_ARRAY_TASK_ID \\\n",
    "    --cwd ${workdir} \\\n",
    "    ${workdir}/${fort_executable} \\\n",
    "    ${exp_code}\n",
    "    \n",
    "sleep 10\n",
    "\"\"\""
   ]
  },
  {
   "cell_type": "code",
   "execution_count": 9,
   "id": "90162ce4-4da6-41c7-9165-d5f302a84771",
   "metadata": {},
   "outputs": [
    {
     "name": "stdout",
     "output_type": "stream",
     "text": [
      "CompletedProcess(args=['sbatch', '/home/bpaynter/git/UCO-OpResearch/lysis/data/2023-11-24-1018/job.slurm'], returncode=0, stdout=b'Submitted batch job 2219716\\n', stderr=b'')\n",
      "CompletedProcess(args=['sbatch', '/home/bpaynter/git/UCO-OpResearch/lysis/data/2023-11-24-1019/job.slurm'], returncode=0, stdout=b'Submitted batch job 2219726\\n', stderr=b'')\n",
      "CompletedProcess(args=['sbatch', '/home/bpaynter/git/UCO-OpResearch/lysis/data/2023-11-24-1020/job.slurm'], returncode=0, stdout=b'Submitted batch job 2219727\\n', stderr=b'')\n"
     ]
    }
   ],
   "source": [
    "for run in runs:\n",
    "    mech = mechanisms[mechanisms[\"descriptor\"] == run[\"mechanism\"]][0]\n",
    "    scen = scenarios[scenarios[\"descriptor\"] == run[\"scenario\"]][0]\n",
    "    e = lysis.util.Experiment(\n",
    "        os.path.join(\"/\", \"home\", \"bpaynter\", \"git\", \"UCO-OpResearch\", \"lysis\", \"data\"),\n",
    "        experiment_code=run[\"exp_code\"],\n",
    "    )\n",
    "    e.read_file()\n",
    "    run_vars = f\"\"\"\n",
    "exp_code=\"{e.experiment_code}\"\n",
    "in_code=\"{in_file_code.format(data_code=scen[\"file_code\"])}\"\n",
    "out_code=\"{out_file_code.format(data_code=scen[\"file_code\"], mech_code=mech[\"file_code\"])}\"\n",
    "fort_executable=\"{mech['executable']}\"\n",
    "\"\"\"\n",
    "    # job-options\n",
    "    sbatch = {\n",
    "        \"job-name\": f\"lysis-{e.experiment_code}\",\n",
    "        \"out\": os.path.join(e.os_path, \"job.slurm-%A-%a.out\"),\n",
    "        \"array\": f\"0-{e.macro_params.total_trials-1}\",\n",
    "        \"nodes\": 1,\n",
    "        \"mem\": 3096,\n",
    "        \"ntasks\": 1,\n",
    "        \"cpus-per-task\": 1,\n",
    "        \"exclusive=user\": \"\",\n",
    "        # \"partition\": \"long\",\n",
    "    }\n",
    "    script = [run_vars, folder_vars, transfer_script, return_script, execute_script]\n",
    "    with open(os.path.join(e.os_path, \"job.slurm\"), \"w\") as file:\n",
    "        file.write(gs.scripts.plain(script, **sbatch))\n",
    "    result = subprocess.run(\n",
    "        [\"sbatch\", os.path.join(e.os_path, \"job.slurm\")],\n",
    "        cwd=os.path.join(\"/\", \"home\", \"bpaynter\", \"git\", \"UCO-OpResearch\", \"lysis\"),\n",
    "        capture_output=True,\n",
    "    )\n",
    "    print(result)"
   ]
  },
  {
   "cell_type": "code",
   "execution_count": null,
   "id": "41e871aa-ebfc-48a5-9b50-4932feb9d800",
   "metadata": {},
   "outputs": [],
   "source": []
  },
  {
   "cell_type": "code",
   "execution_count": null,
   "id": "2f651eee-5b0e-4cbb-a195-6a7de873a427",
   "metadata": {},
   "outputs": [],
   "source": [
    "run = runs[0]\n",
    "mech = mechanisms[mechanisms[\"descriptor\"] == run[\"mechanism\"]][0]\n",
    "scen = scenarios[scenarios[\"descriptor\"] == run[\"scenario\"]][0]\n",
    "scen[\"fiber_diameter\"]"
   ]
  },
  {
   "cell_type": "code",
   "execution_count": null,
   "id": "51e7434b-2091-4b39-a7f6-6eb7ea06dbfc",
   "metadata": {},
   "outputs": [],
   "source": [
    "diameter_code[scen[\"fiber_diameter\"]]"
   ]
  },
  {
   "cell_type": "code",
   "execution_count": null,
   "id": "d0f78c5e-bbeb-4131-b76f-3d4772a33856",
   "metadata": {},
   "outputs": [],
   "source": [
    "mech[\"executable\"]"
   ]
  },
  {
   "cell_type": "code",
   "execution_count": null,
   "id": "a6dae101-2ace-4fcf-89bb-7f40372af1fc",
   "metadata": {},
   "outputs": [],
   "source": [
    "int(np.int32(np.uint32(2_147_483_647 + 1)))"
   ]
  },
  {
   "cell_type": "code",
   "execution_count": null,
   "id": "db11d306-6c6c-43f3-adba-ce44d979ae70",
   "metadata": {},
   "outputs": [],
   "source": [
    "p"
   ]
  },
  {
   "cell_type": "code",
   "execution_count": null,
   "id": "2863764b-af6b-436d-8f28-f17e8feb4f87",
   "metadata": {},
   "outputs": [],
   "source": [
    "type(p['total_molecules'])"
   ]
  },
  {
   "cell_type": "code",
   "execution_count": null,
   "id": "9315f8af-d5a5-4104-a2de-e0e552851212",
   "metadata": {},
   "outputs": [],
   "source": [
    "147258**2"
   ]
  },
  {
   "cell_type": "code",
   "execution_count": null,
   "id": "5db8f208-e0f8-4f89-923d-7b636a20c6c0",
   "metadata": {},
   "outputs": [],
   "source": []
  }
 ],
 "metadata": {
  "kernelspec": {
   "display_name": "Python 3 (ipykernel)",
   "language": "python",
   "name": "python3"
  },
  "language_info": {
   "codemirror_mode": {
    "name": "ipython",
    "version": 3
   },
   "file_extension": ".py",
   "mimetype": "text/x-python",
   "name": "python",
   "nbconvert_exporter": "python",
   "pygments_lexer": "ipython3",
   "version": "3.11.4"
  }
 },
 "nbformat": 4,
 "nbformat_minor": 5
}
