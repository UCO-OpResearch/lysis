{
 "cells": [
  {
   "cell_type": "markdown",
   "id": "9738926a-20ae-4b8f-a1fc-5133e02d88fa",
   "metadata": {},
   "source": [
    "# Post-processing for Lysis Front study"
   ]
  },
  {
   "cell_type": "code",
   "execution_count": 1,
   "id": "aaeef729-149b-460e-852a-912aa457f73c",
   "metadata": {
    "tags": [],
    "ExecuteTime": {
     "end_time": "2024-02-04T16:08:05.113991400Z",
     "start_time": "2024-02-04T16:08:04.915455600Z"
    }
   },
   "outputs": [
    {
     "data": {
      "text/plain": "<IPython.core.display.HTML object>",
      "text/html": "\n                <script type=\"application/javascript\" id=\"jupyter_black\">\n                (function() {\n                    if (window.IPython === undefined) {\n                        return\n                    }\n                    var msg = \"WARNING: it looks like you might have loaded \" +\n                        \"jupyter_black in a non-lab notebook with \" +\n                        \"`is_lab=True`. Please double check, and if \" +\n                        \"loading with `%load_ext` please review the README!\"\n                    console.log(msg)\n                    alert(msg)\n                })()\n                </script>\n                "
     },
     "metadata": {},
     "output_type": "display_data"
    }
   ],
   "source": [
    "import black\n",
    "import jupyter_black\n",
    "\n",
    "jupyter_black.load(\n",
    "    lab=True,\n",
    "    line_length=110,\n",
    "    target_version=black.TargetVersion.PY310,\n",
    ")"
   ]
  },
  {
   "cell_type": "code",
   "execution_count": 2,
   "id": "a4019585-dea6-47b9-bf6e-b40c5022b51a",
   "metadata": {
    "tags": [],
    "ExecuteTime": {
     "end_time": "2024-02-04T16:08:06.486126Z",
     "start_time": "2024-02-04T16:08:05.090989900Z"
    }
   },
   "outputs": [
    {
     "name": "stderr",
     "output_type": "stream",
     "text": [
      "C:\\Users\\bradp\\AppData\\Local\\Temp\\ipykernel_22624\\541827500.py:18: DeprecationWarning: \n",
      "Pyarrow will become a required dependency of pandas in the next major release of pandas (pandas 3.0),\n",
      "(to allow more performant data types, such as the Arrow string type, and better interoperability with other libraries)\n",
      "but was not found to be installed on your system.\n",
      "If this would cause problems for you,\n",
      "please provide us feedback at https://github.com/pandas-dev/pandas/issues/54466\n",
      "        \n",
      "  import pandas as pd\n"
     ]
    }
   ],
   "source": [
    "import datetime\n",
    "import math\n",
    "import os\n",
    "import pickle\n",
    "import re\n",
    "import sys\n",
    "\n",
    "sys.path.insert(1, os.path.abspath(\"..\"))\n",
    "\n",
    "from enum import IntEnum, unique\n",
    "\n",
    "import scipy\n",
    "from tqdm.notebook import trange, tqdm\n",
    "\n",
    "import numpy as np\n",
    "import matplotlib.pyplot as plt\n",
    "import matplotlib as mpl\n",
    "import pandas as pd\n",
    "\n",
    "from matplotlib.animation import FFMpegWriter, FuncAnimation\n",
    "from matplotlib.colors import BoundaryNorm, ListedColormap\n",
    "\n",
    "import lysis\n",
    "import lysis.util\n",
    "import lysis.data_manage\n",
    "\n",
    "pd.reset_option(\"display.precision\")\n",
    "pd.set_option(\"display.float_format\", lambda x: f\"{x:,.3f}\")"
   ]
  },
  {
   "cell_type": "code",
   "execution_count": 3,
   "id": "d4ff17a8-f368-4e61-bd60-5ae24eb9ad48",
   "metadata": {
    "ExecuteTime": {
     "end_time": "2024-02-04T16:08:06.536122500Z",
     "start_time": "2024-02-04T16:08:06.511623200Z"
    }
   },
   "outputs": [],
   "source": [
    "scenario_type = np.dtype(\n",
    "    [\n",
    "        (\"descriptor\", np.str_, 40),\n",
    "        (\"total_molecules\", int),\n",
    "        (\"pore_size\", float),  # in microns. Code requires cm\n",
    "        (\"fiber_diameter\", float),  # in microns. Needs to be added to pore_size to get grid_node_distance\n",
    "        (\"binding_sites\", int),\n",
    "        (\"cols\", int),\n",
    "        (\"rows\", int),\n",
    "        (\"empty_rows\", int),\n",
    "        (\"forced_unbind\", float),\n",
    "    ]\n",
    ")\n",
    "mechanism_type = np.dtype([(\"descriptor\", np.str_, 40), (\"executable\", np.str_, 40)])\n",
    "run_type = np.dtype(\n",
    "    [\n",
    "        (\"exp_code\", np.str_, 15),\n",
    "        (\"scenario\", np.str_, 40),\n",
    "        (\"mechanism\", np.str_, 40),\n",
    "        (\"seed\", np.int64),\n",
    "        (\"running_time\", int),\n",
    "        (\"save_interval\", int),\n",
    "    ]\n",
    ")\n",
    "diameter_code = {\n",
    "    72.7: \"Q2\",\n",
    "    145.4: \"Q4\",\n",
    "}"
   ]
  },
  {
   "cell_type": "code",
   "execution_count": 4,
   "id": "648f83ed-8be8-4f90-b52b-e049269e7d2a",
   "metadata": {
    "ExecuteTime": {
     "end_time": "2024-02-04T16:08:06.581647100Z",
     "start_time": "2024-02-04T16:08:06.554137400Z"
    }
   },
   "outputs": [],
   "source": [
    "# seed sequence entropy: 334521664175407485272598290114063504226\n",
    "scenarios = np.array(\n",
    "    [\n",
    "        (\"TK-L_10000\", 10_000, 1.0135, 145.4, 213, 87, 109, 22, 0.0729129),\n",
    "        (\"TK-L_555\", 555, 1.0135, 145.4, 213, 87, 109, 22, 0.0729129),\n",
    "        (\"TN-D_5410\", 5_410, 0.5495, 72.7, 427, 161, 202, 41, 0.0852),\n",
    "        (\"TN-D_300\", 300, 0.5495, 72.7, 427, 161, 202, 41, 0.0852),\n",
    "    ],\n",
    "    dtype=scenario_type,\n",
    ")\n",
    "mechanisms = np.array(\n",
    "    [\n",
    "        (\"Into and along - External\", \"macro_diffuse_into_and_along__external\"),\n",
    "    ],\n",
    "    dtype=mechanism_type,\n",
    ")"
   ]
  },
  {
   "cell_type": "code",
   "execution_count": 5,
   "id": "de1a1855-5774-4e90-80f2-e2376b5e9a3d",
   "metadata": {
    "ExecuteTime": {
     "end_time": "2024-02-04T16:08:06.612145700Z",
     "start_time": "2024-02-04T16:08:06.568146900Z"
    }
   },
   "outputs": [],
   "source": [
    "data_root = os.path.join(\"..\", \"..\", \"..\", \"data\")\n",
    "in_file_code = \"_PLG2_tPA01_{input_code}.dat\"\n",
    "out_file_code = \"_{scenario_code}\"\n",
    "\n",
    "# slope_tolerance = 1e-3\n",
    "rng = np.random.default_rng(65463453)"
   ]
  },
  {
   "cell_type": "code",
   "execution_count": 6,
   "id": "57041d0c-adfb-46e4-b236-138895e51ec5",
   "metadata": {
    "ExecuteTime": {
     "end_time": "2024-02-04T16:08:06.645146Z",
     "start_time": "2024-02-04T16:08:06.594648Z"
    }
   },
   "outputs": [],
   "source": [
    "group_code = \"2024-01-27-10\"\n",
    "runs = np.array(\n",
    "    [\n",
    "        (group_code + \"00\", \"TK-L_10000\", \"Into and along - External\", 3_532_386_296, 0, 10),\n",
    "        (group_code + \"01\", \"TK-L_555\", \"Into and along - External\", 1_799_319_593, 0, 10),\n",
    "        (group_code + \"02\", \"TN-D_5410\", \"Into and along - External\", 3_756_429_037, 0, 10),\n",
    "        (group_code + \"03\", \"TN-D_300\", \"Into and along - External\", 4_031_685_276, 0, 10),\n",
    "    ],\n",
    "    dtype=run_type,\n",
    ")"
   ]
  },
  {
   "cell_type": "code",
   "execution_count": 7,
   "id": "d7bddc9f-2ddf-4562-9c5c-7bc031da47fc",
   "metadata": {
    "ExecuteTime": {
     "end_time": "2024-02-04T16:08:06.682164Z",
     "start_time": "2024-02-04T16:08:06.631144900Z"
    }
   },
   "outputs": [],
   "source": [
    "# Create empty DataFrame using the scenario names as rows and parameter names as columns\n",
    "index = pd.Index(runs[\"scenario\"], name=\"Scenario\")\n",
    "statistics = pd.MultiIndex.from_product(\n",
    "    [\n",
    "        [\n",
    "            \"Front Velocity (microns/min)\",\n",
    "            \"Degradation rate (%/min)\",\n",
    "            \"Lysis lag time (min)\",\n",
    "            \"Time to full clot degradation (min)\",\n",
    "            \"Percent of molecules that reached the back row\",\n",
    "            \"First passage time (min)\",\n",
    "            \"Total (Un)Binds\",\n",
    "            \"Forced Unbinds (Microscale)\",\n",
    "            \"Forced Unbinds (Macroscale)\",\n",
    "        ],\n",
    "        [\"Mean\", \"Standard Deviation\"],\n",
    "    ]\n",
    ")\n",
    "results = pd.DataFrame(index=index, columns=statistics)"
   ]
  },
  {
   "cell_type": "code",
   "execution_count": 8,
   "id": "a44a7561-ae29-4ebf-b5ee-531303221a96",
   "metadata": {
    "tags": [],
    "ExecuteTime": {
     "end_time": "2024-02-04T16:08:06.699164300Z",
     "start_time": "2024-02-04T16:08:06.666152Z"
    }
   },
   "outputs": [],
   "source": [
    "formats = {\n",
    "    \"binding_rate\": \"{:.2f}\",\n",
    "    \"pore_size\": \"{:1.5e}\",\n",
    "    \"diffusion_coeff\": \"{:1.5e}\",\n",
    "    # 'binding_sites': \"\",\n",
    "    \"forced_unbind\": \"{:.3f}\",\n",
    "    \"average_bind_time\": \"{:.2f}\",\n",
    "    \"grid_node_distance\": \"{:.3f}\",\n",
    "    # 'cols', 'rows', 'fiber_rows', 'empty_rows', 'last_empty_edge',\n",
    "    \"full_row\": \"{:,}\",\n",
    "    \"xz_row\": \"{:,}\",\n",
    "    \"total_edges\": \"{:,}\",\n",
    "    \"total_fibers\": \"{:,}\",\n",
    "    \"total_molecules\": \"{:,}\",\n",
    "    \"moving_probability\": \"{:.2f}\",\n",
    "    \"microscale_runs\": \"{:,}\",\n",
    "    # 'total_trials',\n",
    "    \"total_time\": \"{:,.0f}\",\n",
    "    \"time_step\": \"{:1.3e}\",\n",
    "    \"total_time_steps\": \"{:,}\",\n",
    "    \"seed\": \"{:,}\",\n",
    "    # 'save_interval',\n",
    "    # 'number_of_saves',\n",
    "}\n",
    "cols_to_drop = [\n",
    "    \"state\",\n",
    "    \"input_data\",\n",
    "    \"output_data\",\n",
    "    \"log_lvl\",\n",
    "    \"duplicate_fortran\",\n",
    "    \"processing_library\",\n",
    "    \"macro_version\",\n",
    "]\n",
    "# ,"
   ]
  },
  {
   "cell_type": "code",
   "execution_count": 9,
   "id": "15844fe3-09f2-4732-9c0f-65a3d16d6c29",
   "metadata": {
    "ExecuteTime": {
     "end_time": "2024-02-04T16:08:06.746162800Z",
     "start_time": "2024-02-04T16:08:06.713166800Z"
    }
   },
   "outputs": [],
   "source": [
    "index = pd.Index(runs[\"scenario\"], name=\"Scenario\")\n",
    "degrade_percent_markers = [0.05, 0.2, 0.5, 0.8, 1]\n",
    "columns = pd.MultiIndex.from_product(\n",
    "    [[f\"{int(i*100)}%\" for i in degrade_percent_markers], range(10)], names=[\"Percent Degraded\", \"Simulation\"]\n",
    ")\n",
    "degradation_time_df = pd.DataFrame(index=index, columns=columns)\n",
    "\n",
    "# The definition of the lysis front\n",
    "# The front is the first row with at least `front_def` proportion of fibers intact.\n",
    "front_def = 0.2\n",
    "\n",
    "degrade_slope_between_percent = [[0.2, 0.8], [0.2, 0.5], [0.5, 0.8]]\n",
    "# degrade_slope_between_percent = [\n",
    "#     [degrade_percent_markers.index(mark) for mark in slope] for slope in degrade_slope_between_percent\n",
    "# ]\n",
    "columns = pd.MultiIndex.from_product(\n",
    "    [[f\"{int(i[0]*100)}% to {int(i[1]*100)}%\" for i in degrade_slope_between_percent], range(10)],\n",
    "    names=[\"Degradation Interval\", \"Simulation\"],\n",
    ")\n",
    "slopes_df = pd.DataFrame(index=index, columns=columns)\n",
    "binds_df = pd.DataFrame(index=index, columns=pd.Index(range(10), name=\"Simulation\"))\n",
    "\n",
    "mol_time_statistics = [\n",
    "    \"Total Binds\",\n",
    "]\n",
    "mol_time_df = pd.DataFrame(index=index, columns=mol_time_statistics)\n",
    "\n",
    "pore_stat_df = pd.DataFrame(index=index, columns=[f\"{int(i*100)}%\" for i in degrade_percent_markers])"
   ]
  },
  {
   "cell_type": "code",
   "execution_count": 10,
   "id": "9ff5e52c-f778-4f6a-b47c-2a13e17e1bd3",
   "metadata": {
    "ExecuteTime": {
     "end_time": "2024-02-04T16:08:06.798687900Z",
     "start_time": "2024-02-04T16:08:06.759678600Z"
    }
   },
   "outputs": [],
   "source": [
    "# For a light colormap of degraded fibers\n",
    "colormap_f = plt.cm.cividis(np.arange(plt.cm.cividis.N))\n",
    "colormap_f[:, 3] = 0.3\n",
    "# For very light grey degraded fibers\n",
    "colormap_f = [\"xkcd:light grey\"]\n",
    "\n",
    "colormap_f = ListedColormap(colormap_f)\n",
    "colormap_f.set_extremes(bad=\"xkcd:blue\", under=\"white\", over=\"xkcd:blue\")\n",
    "colormap_m = ListedColormap([\"xkcd:green\", \"xkcd:cyan\"])\n",
    "bounds = [0, 0.5, 1]\n",
    "norm_m = BoundaryNorm(bounds, colormap_m.N)\n",
    "\n",
    "angle = (1 / 2 - 1 / 8) * math.pi\n",
    "radius = 0.5"
   ]
  },
  {
   "cell_type": "markdown",
   "id": "64218276-a6f0-4bff-84f8-fde0725a63e7",
   "metadata": {
    "jp-MarkdownHeadingCollapsed": true,
    "tags": []
   },
   "source": [
    "### Utility Functions"
   ]
  },
  {
   "cell_type": "markdown",
   "id": "680c3041-050b-448d-b92f-a4bc1abd16f1",
   "metadata": {
    "tags": []
   },
   "source": [
    "### Standard Parameter Functions & Plots"
   ]
  },
  {
   "cell_type": "code",
   "execution_count": 11,
   "id": "62227d29-aaa1-4b3e-ba96-ee3b1dd5c00f",
   "metadata": {
    "tags": [],
    "ExecuteTime": {
     "end_time": "2024-02-04T16:08:07.178797800Z",
     "start_time": "2024-02-04T16:08:06.790689400Z"
    }
   },
   "outputs": [],
   "source": [
    "def find_degraded_fraction(exp, deg, tsave):\n",
    "    degraded_fraction = []\n",
    "    for sim in range(exp.macro_params.total_trials):\n",
    "        run_degraded_fraction = np.empty(deg[sim].shape[0], dtype=np.float_)\n",
    "        for t in range(deg[sim].shape[0]):\n",
    "            run_degraded_fraction[t] = np.count_nonzero(deg[sim][t] <= tsave[sim][t])\n",
    "        run_degraded_fraction -= exp.macro_params.empty_rows * exp.macro_params.full_row\n",
    "        degraded_fraction.append(run_degraded_fraction / exp.macro_params.total_fibers)\n",
    "    return degraded_fraction\n",
    "\n",
    "\n",
    "def find_degradation_marker_frames(exp, degraded_fraction, degrade_percent_markers):\n",
    "    degrade_marker_frames = np.empty((len(degraded_fraction), len(degrade_percent_markers)), dtype=np.int_)\n",
    "    for sim in range(len(degraded_fraction)):\n",
    "        for marker in range(len(degrade_percent_markers)):\n",
    "            degrade_marker_frames[sim, marker] = np.argmax(\n",
    "                degraded_fraction[sim] >= degrade_percent_markers[marker]\n",
    "            )\n",
    "    return degrade_marker_frames\n",
    "\n",
    "\n",
    "# Changed back to min\n",
    "def find_degradation_marker_times(exp, degrade_marker_frames, tsave):\n",
    "    degradation_marker_times = np.empty(\n",
    "        (len(degrade_marker_frames), len(degrade_marker_frames[0])), dtype=np.float_\n",
    "    )\n",
    "    for sim in range(len(degrade_marker_frames)):\n",
    "        degradation_marker_times[sim] = tsave[sim][degrade_marker_frames[sim]]\n",
    "    return degradation_marker_times / 60\n",
    "\n",
    "\n",
    "def degradation_rates(exp, degrade_marker_frames, degraded_fraction, tsave):\n",
    "    degradation_rates = np.empty(\n",
    "        (exp.macro_params.total_trials, len(degrade_slope_between_percent)), dtype=np.float_\n",
    "    )\n",
    "    for sim in range(exp.macro_params.total_trials):\n",
    "        for slope in range(len(degrade_slope_between_percent)):\n",
    "            start_frame = degrade_marker_frames[\n",
    "                sim, degrade_percent_markers.index(degrade_slope_between_percent[slope][0])\n",
    "            ]\n",
    "            end_frame = degrade_marker_frames[\n",
    "                sim, degrade_percent_markers.index(degrade_slope_between_percent[slope][1])\n",
    "            ]\n",
    "            delta_y = degraded_fraction[sim][end_frame] - degraded_fraction[sim][start_frame]\n",
    "            delta_x = tsave[sim][end_frame] - tsave[sim][start_frame]\n",
    "            degradation_rates[sim, slope] = delta_y / delta_x * 60  # * 100\n",
    "    return degradation_rates\n",
    "\n",
    "\n",
    "def save_degrade_fraction_table(exp, file_code, degraded_fraction, tsave):\n",
    "    max_time = 0\n",
    "    max_time_idx = None\n",
    "    for i in range(len(tsave)):\n",
    "        if len(tsave[i]) > max_time:\n",
    "            max_time = len(tsave[i])\n",
    "            max_time_idx = i\n",
    "    index = pd.Index(range(10), name=\"Simulation\")\n",
    "    columns = pd.Index((tsave[max_time_idx] / 60), name=\"Simulation Time Elapsed (min)\")\n",
    "    pd.DataFrame(degraded_fraction, index=index, columns=columns).fillna(1).to_csv(\n",
    "        os.path.join(exp.os_path, \"deg_fraction_at_time_in_min\" + file_code[:-4] + \".csv\")\n",
    "    )\n",
    "\n",
    "\n",
    "# Must match units\n",
    "# Is expecting degradation rates in frac/min\n",
    "def plot_degradation_percent(exp, degraded_fraction, tsave, degrade_marker_frames, degradation_rates):\n",
    "    start_stop = [\n",
    "        [degrade_percent_markers.index(mark) for mark in slope] for slope in degrade_slope_between_percent\n",
    "    ]\n",
    "    fig = plt.figure(figsize=(7, 5))\n",
    "    ax = fig.add_axes([0, 0, 1, 1])\n",
    "    ax.set_xlim(0, (max([np.max(deg_run[-1, :]) for deg_run in deg]) // 60) + 1)\n",
    "    ax.set_ylim(-0.1, 1.1)\n",
    "    for sim in range(exp.macro_params.total_trials):\n",
    "        plt.plot(tsave[sim] / 60, degraded_fraction[sim])\n",
    "        for slope in range(len(start_stop)):\n",
    "            start_frame = degrade_marker_frames[sim, start_stop[slope][0]]\n",
    "            end_frame = degrade_marker_frames[sim, start_stop[slope][1]]\n",
    "            lin_func = (\n",
    "                lambda x: degradation_rates[sim, slope] * (x - tsave[sim][start_frame] / 60)\n",
    "                + degraded_fraction[sim][start_frame]\n",
    "            )\n",
    "            plt.plot(\n",
    "                tsave[sim][start_frame:end_frame] / 60,\n",
    "                lin_func(tsave[sim][start_frame:end_frame] / 60),\n",
    "                color=\"b\",\n",
    "                alpha=0.5,\n",
    "                zorder=0.1,\n",
    "            )\n",
    "    fig.savefig(os.path.join(exp.os_path, \"deg_rate\" + file_code[:-4] + \".png\"), bbox_inches=\"tight\")\n",
    "    plt.close()\n",
    "\n",
    "\n",
    "def calculate_time_row_exposed(exp, deg):\n",
    "    exposed_time = np.empty(\n",
    "        (exp.macro_params.total_trials, exp.macro_params.rows - 1, exp.macro_params.cols), dtype=np.float_\n",
    "    )\n",
    "    for run in range(exp.macro_params.total_trials):\n",
    "        for j in range(exp.macro_params.cols):\n",
    "            for i in range(exp.macro_params.rows - 1):\n",
    "                if i == 0:\n",
    "                    exposed_time[run, i, j] = 0\n",
    "                else:\n",
    "                    k = lysis.to_fortran_edge_index(i, j, exp.macro_params.rows, exp.macro_params.cols)\n",
    "                    exposed_time[run, i, j] = max(exposed_time[run, i - 1, j], deg[run][-1, k])\n",
    "    # exposed_time = 10* np.ceil(exposed_time / 10)\n",
    "    return exposed_time / 60\n",
    "\n",
    "\n",
    "def find_degradation_fronts(exp, exposed_time, y_distance, tsave):\n",
    "    deg_fronts = []\n",
    "    for r in range(exp.macro_params.total_trials):\n",
    "        run_deg_fronts = []\n",
    "        for j in range(exp.macro_params.cols):\n",
    "            col_deg_front = []\n",
    "            for i in range(1, exp.macro_params.rows - 1):\n",
    "                if exposed_time[r, i - 1, j] < exposed_time[r, i, j] < tsave[r][-1] + 1:\n",
    "                    col_deg_front.append([exposed_time[r, i, j], y_distance[i]])\n",
    "            run_deg_fronts.append(np.array(col_deg_front).T)\n",
    "        deg_fronts.append(run_deg_fronts)\n",
    "    return deg_fronts\n",
    "\n",
    "\n",
    "# TODO(bpaynter): Change this later to do mean and std of all columns across all runs\n",
    "def mean_front_velocity(exp, deg_fronts):\n",
    "    run_mean_velocity = np.empty(exp.macro_params.total_trials, dtype=np.float_)\n",
    "    run_std_velocity = np.empty(exp.macro_params.total_trials, dtype=np.float_)\n",
    "    for run in range(exp.macro_params.total_trials):\n",
    "        front_velocity = np.empty(exp.macro_params.cols, dtype=np.float_)\n",
    "        for j in range(exp.macro_params.cols):\n",
    "            b, m = np.polynomial.polynomial.polyfit(deg_fronts[run][j][0], deg_fronts[run][j][1], 1)\n",
    "            front_velocity[j] = m\n",
    "        run_mean_velocity[run] = np.mean(front_velocity)\n",
    "        run_std_velocity[run] = np.std(front_velocity)\n",
    "    return np.mean(run_mean_velocity), np.mean(run_std_velocity)\n",
    "\n",
    "\n",
    "def plot_front_degradation(exp, file_code, deg_fronts, deg):\n",
    "    fig = plt.figure(figsize=(7, 5))\n",
    "    ax = fig.add_axes([0, 0, 1, 1])\n",
    "    ax.set_axis_on()\n",
    "    ax.set_xlim(0, (max([np.max(deg_run[-1, :]) for deg_run in deg]) // 60) + 1)\n",
    "    ax.set_ylim(\n",
    "        (exp.macro_params.empty_rows - 1) * e.macro_params.grid_node_distance,\n",
    "        (exp.macro_params.rows - 1) * exp.macro_params.grid_node_distance,\n",
    "    )\n",
    "    for run in range(exp.macro_params.total_trials):\n",
    "        for j in range(exp.macro_params.cols):\n",
    "            plt.plot(deg_fronts[run][j][0], deg_fronts[run][j][1], linewidth=1)\n",
    "    fig.savefig(os.path.join(exp.os_path, \"deg_fronts\" + file_code[:-4] + \".png\"), bbox_inches=\"tight\")\n",
    "    plt.close()\n",
    "\n",
    "\n",
    "def mean_degradation_rate(exp, degraded_fraction, tsave):\n",
    "    degradation_rate = np.empty(exp.macro_params.total_trials, dtype=np.float_)\n",
    "    offset = np.empty(exp.macro_params.total_trials, dtype=np.float_)\n",
    "    deg_start_time = np.empty(exp.macro_params.total_trials, dtype=np.float_)\n",
    "    for r in range(exp.macro_params.total_trials):\n",
    "        slope = np.empty(degraded_fraction[r].shape[0], dtype=np.float_)\n",
    "        slope[0] = degraded_fraction[r][0]\n",
    "        for t in range(1, degraded_fraction[r].shape[0]):\n",
    "            slope[t] = degraded_fraction[r][t] - degraded_fraction[r][t - 1]\n",
    "        degradation_happening = slope > slope.max() / 2\n",
    "        s = np.argmax(degradation_happening)\n",
    "        b, m = np.polynomial.polynomial.polyfit(\n",
    "            tsave[r][degradation_happening] / 60, degraded_fraction[r][degradation_happening], 1\n",
    "        )\n",
    "        degradation_rate[r] = m\n",
    "        offset[r] = b\n",
    "        deg_start_time[r] = tsave[r][s] / 60\n",
    "    return degradation_rate, offset, deg_start_time\n",
    "\n",
    "\n",
    "def find_row_deg_fraction(exp, deg, tsave):\n",
    "    row_deg = []\n",
    "    for s in range(exp.macro_params.total_trials):\n",
    "        row_deg.append(\n",
    "            np.count_nonzero(\n",
    "                (deg[s] > tsave[s].reshape(tsave[s].size, 1))[\n",
    "                    :, exp.macro_params.empty_rows * exp.macro_params.full_row : -exp.macro_params.xz_row\n",
    "                ].reshape((deg[s].shape[0], exp.macro_params.fiber_rows - 1, exp.macro_params.full_row)),\n",
    "                axis=2,\n",
    "            )\n",
    "            / exp.macro_params.full_row\n",
    "        )\n",
    "    return row_deg\n",
    "\n",
    "\n",
    "def find_front(exp, row_deg):\n",
    "    return [np.argmax(sim_row_deg >= front_def, axis=1) for sim_row_deg in row_deg]\n",
    "\n",
    "\n",
    "def get_unbind_amounts(exp, file_code, mech):\n",
    "    macro_unbind_pattern = re.compile(r\"countmacrounbd=\\s*(\\d+)\")\n",
    "    micro_unbind_pattern = re.compile(r\"countmicrounbd=\\s*(\\d+)\")\n",
    "    log_text = \"\"\n",
    "    for sim in range(e.macro_params.total_trials):\n",
    "        log_file_name = os.path.join(e.os_path, f\"{sim:02}\", f\"macro{file_code[:-4]}_{sim:02}.txt\")\n",
    "        with open(log_file_name, \"r\") as file:\n",
    "            log_text += file.read()\n",
    "    macro_unbinds = re.findall(macro_unbind_pattern, log_text)\n",
    "    micro_unbinds = re.findall(micro_unbind_pattern, log_text)\n",
    "    return np.array(macro_unbinds, dtype=int), np.array(micro_unbinds, dtype=int)\n",
    "\n",
    "\n",
    "def get_processing_time(exp, file_code, mech):\n",
    "    processing_time_pattern = re.compile(r\"Processing time:\\s*(\\d+.\\d+)\\s*sec\")\n",
    "    log_text = \"\"\n",
    "    for sim in range(e.macro_params.total_trials):\n",
    "        log_file_name = os.path.join(e.os_path, f\"{sim:02}\", f\"macro{file_code[:-4]}_{sim:02}.txt\")\n",
    "        with open(log_file_name, \"r\") as file:\n",
    "            log_text += file.read()\n",
    "    processing_time = re.findall(processing_time_pattern, log_text)\n",
    "    return np.array(processing_time, dtype=float)\n",
    "\n",
    "\n",
    "def get_total_binds(exp, file_code, mech):\n",
    "    total_binds_pattern = re.compile(r\"Total Binds:\\s*(\\d+.\\d+)\\s*\")\n",
    "    log_text = \"\"\n",
    "    for sim in range(e.macro_params.total_trials):\n",
    "        log_file_name = os.path.join(e.os_path, f\"{sim:02}\", f\"macro{file_code[:-4]}_{sim:02}.txt\")\n",
    "        with open(log_file_name, \"r\") as file:\n",
    "            log_text += file.read()\n",
    "    total_binds = re.findall(total_binds_pattern, log_text)\n",
    "    return np.array(total_binds, dtype=int)"
   ]
  },
  {
   "cell_type": "markdown",
   "id": "f309e07c-dd12-46e6-a1dc-60c192137e51",
   "metadata": {
    "jp-MarkdownHeadingCollapsed": true,
    "tags": []
   },
   "source": [
    "### Grid Plot Functions"
   ]
  },
  {
   "cell_type": "code",
   "execution_count": 12,
   "id": "284331d5-1b0c-4788-8a8d-59002c8b9354",
   "metadata": {
    "tags": [],
    "ExecuteTime": {
     "end_time": "2024-02-04T16:08:07.738923600Z",
     "start_time": "2024-02-04T16:08:07.179297900Z"
    }
   },
   "outputs": [],
   "source": [
    "def plot_coords(i, j):\n",
    "    x = j\n",
    "    y = -i\n",
    "    if j % 3 == 0:\n",
    "        return x / 3.0, y - 0.5\n",
    "    if j % 3 == 1:\n",
    "        return (x - 1) / 3.0, y\n",
    "    if j % 3 == 2:\n",
    "        return (x - 2) / 3.0 + 0.5, y\n",
    "\n",
    "\n",
    "def get_edge_index(exp):\n",
    "    edge_index = np.empty(exp.macro_params.total_edges, dtype=tuple)\n",
    "    for k in range(exp.macro_params.total_edges):\n",
    "        edge_index[k] = lysis.from_fortran_edge_index(k, exp.macro_params.rows, exp.macro_params.cols)\n",
    "    return edge_index\n",
    "\n",
    "\n",
    "def get_rev_edge_index(exp):\n",
    "    rev_edge_index = np.full((exp.macro_params.rows, exp.macro_params.full_row), -1, dtype=int)\n",
    "    for k in range(exp.macro_params.total_edges):\n",
    "        rev_edge_index[lysis.from_fortran_edge_index(k, exp.macro_params.rows, exp.macro_params.cols)] = k\n",
    "    return rev_edge_index\n",
    "\n",
    "\n",
    "def animation_data(exp, edge_index, mol_location):\n",
    "    x_f = np.empty(exp.macro_params.total_edges, dtype=float)\n",
    "    y_f = np.empty(exp.macro_params.total_edges, dtype=float)\n",
    "    for k in range(exp.macro_params.total_edges):\n",
    "        i, j = edge_index[k]\n",
    "        x_f[k], y_f[k] = plot_coords(i, j)\n",
    "    d_x = (rng.random(size=exp.macro_params.total_molecules) - 0.5) / 2.5\n",
    "    d_y = (rng.random(size=exp.macro_params.total_molecules) - 0.5) / 2.5\n",
    "    x_m = []\n",
    "    y_m = []\n",
    "    for r in range(exp.macro_params.total_trials):\n",
    "        x = np.empty((n_save[r], exp.macro_params.total_molecules), dtype=np.float_)\n",
    "        y = np.empty((n_save[r], exp.macro_params.total_molecules), dtype=np.float_)\n",
    "        for t in range(n_save[r]):\n",
    "            for k in range(exp.macro_params.total_molecules):\n",
    "                i, j = edge_index[mol_location[r][t, k]]\n",
    "                x[t, k], y[t, k] = plot_coords(i, j)\n",
    "            x[t] += d_x\n",
    "            y[t] += d_y\n",
    "        x_m.append(x)\n",
    "        y_m.append(y)\n",
    "    return x_f, y_f, x_m, y_m\n",
    "\n",
    "\n",
    "def create_animation(exp, file_code, edge_index, deg, mol_status, tsave, x_f, y_f, x_m, y_m, fronts=None):\n",
    "    for sim in range(1):\n",
    "        fig = plt.figure(figsize=(exp.macro_params.cols / 10, exp.macro_params.rows / 10), dpi=100)\n",
    "        ax = fig.add_axes([0, 0, 1, 1])\n",
    "        ax.set_axis_off()\n",
    "        vmin = 0\n",
    "        vmax = exp.macro_params.cols - 1\n",
    "\n",
    "        ydiff = exp.macro_params.rows - exp.macro_params.cols\n",
    "\n",
    "        ax.set_xlim(vmin - 0.25, vmax + 0.25)\n",
    "        ax.set_ylim(-vmax - ydiff - 0.25, -vmin + 0.25)\n",
    "        ax.set_aspect(\"equal\")\n",
    "        fig.canvas.draw()\n",
    "        title = ax.annotate(\n",
    "            f\"Time elapsed: {str(datetime.timedelta(seconds=tsave[sim][0])).split('.')[0]}\",\n",
    "            (0, 0),\n",
    "            zorder=100,\n",
    "            va=\"top\",\n",
    "        )\n",
    "        s = (ax.get_window_extent().width / (vmax - vmin + 0.5) * 72 / (2 * fig.dpi)) ** 2\n",
    "        scatt_f = ax.scatter(\n",
    "            x_f,\n",
    "            y_f,\n",
    "            s=s,\n",
    "            marker=\"s\",\n",
    "            linewidths=0,\n",
    "            c=deg[sim][0],\n",
    "            cmap=colormap_f,\n",
    "            vmin=exp.macro_params.time_step,\n",
    "            vmax=exp.macro_params.time_step,\n",
    "        )\n",
    "        scatt_m = ax.scatter(\n",
    "            x_m[sim][0],\n",
    "            y_m[sim][0],\n",
    "            s=s / 2.5,\n",
    "            marker=\"o\",\n",
    "            linewidths=0,\n",
    "            c=mol_status[sim][0],\n",
    "            cmap=colormap_m,\n",
    "            norm=norm_m,\n",
    "        )\n",
    "        if not fronts is None:\n",
    "            front_line = ax.axhline(\n",
    "                y=y_f[(exp.macro_params.empty_rows + fronts[sim][0]) * exp.macro_params.full_row],\n",
    "                color=\"xkcd:hot pink\",\n",
    "            )\n",
    "\n",
    "        def update(frame_number):\n",
    "            scatt_f.set_array(deg[sim][frame_number])\n",
    "            if tsave[sim][frame_number] == 0:\n",
    "                scatt_f.set_clim(vmin=exp.macro_params.time_step, vmax=exp.macro_params.time_step)\n",
    "            else:\n",
    "                scatt_f.set_clim(vmin=exp.macro_params.time_step, vmax=tsave[sim][frame_number])\n",
    "            scatt_m.set_array(mol_status[sim][frame_number])\n",
    "            scatt_m.set_offsets(np.append((x_m[sim][frame_number],), (y_m[sim][frame_number],), axis=0).T)\n",
    "            if not fronts is None:\n",
    "                y = y_f[(exp.macro_params.empty_rows + fronts[sim][frame_number]) * exp.macro_params.full_row]\n",
    "                front_line.set_ydata([y, y])\n",
    "            title.set_text(\n",
    "                f\"Time elapsed: {str(datetime.timedelta(seconds=tsave[sim][frame_number])).split('.')[0]}\"\n",
    "            )\n",
    "\n",
    "        animation = FuncAnimation(fig, update, frames=np.arange(n_save[sim]), interval=200)\n",
    "\n",
    "        FFwriter = FFMpegWriter(fps=10)\n",
    "        animation.save(\n",
    "            os.path.join(e.os_path, f\"{sim:02}\", f\"combined_animation_{sim:02}\" + file_code[:-4] + \".mp4\"),\n",
    "            writer=FFwriter,\n",
    "        )\n",
    "        plt.close()\n",
    "\n",
    "\n",
    "def create_animation_stills(\n",
    "    exp,\n",
    "    file_code,\n",
    "    degrade_marker_frames,\n",
    "    edge_index,\n",
    "    deg,\n",
    "    mol_status,\n",
    "    tsave,\n",
    "    x_f,\n",
    "    y_f,\n",
    "    x_m,\n",
    "    y_m,\n",
    "    fronts=None,\n",
    "):\n",
    "    for sim in range(1):\n",
    "        for i, frame in enumerate(degrade_marker_frames[sim]):\n",
    "            fig = plt.figure(figsize=(exp.macro_params.cols / 10, exp.macro_params.rows / 10), dpi=100)\n",
    "            ax = fig.add_axes([0, 0, 1, 1])\n",
    "            ax.set_axis_off()\n",
    "            vmin = 0\n",
    "            vmax = exp.macro_params.cols - 1\n",
    "\n",
    "            ydiff = exp.macro_params.rows - exp.macro_params.cols\n",
    "\n",
    "            ax.set_xlim(vmin - 0.25, vmax + 0.25)\n",
    "            ax.set_ylim(-vmax - ydiff - 0.25, -vmin + 0.25)\n",
    "            ax.set_aspect(\"equal\")\n",
    "            fig.canvas.draw()\n",
    "            title = ax.annotate(\n",
    "                f\"Simulation time elapsed: {str(datetime.timedelta(seconds=tsave[sim][frame])).split('.')[0]}\",\n",
    "                (0, 0),\n",
    "                zorder=100,\n",
    "                va=\"top\",\n",
    "            )\n",
    "            s = (ax.get_window_extent().width / (vmax - vmin + 0.5) * 72 / (2 * fig.dpi)) ** 2\n",
    "            scatt_f = ax.scatter(\n",
    "                x_f,\n",
    "                y_f,\n",
    "                s=s,\n",
    "                marker=\"s\",\n",
    "                linewidths=0,\n",
    "                c=deg[sim][frame],\n",
    "                cmap=colormap_f,\n",
    "                vmin=exp.macro_params.time_step,\n",
    "                vmax=tsave[sim][frame],\n",
    "            )\n",
    "            scatt_m = ax.scatter(\n",
    "                x_m[sim][frame],\n",
    "                y_m[sim][frame],\n",
    "                s=s / 2.5,\n",
    "                marker=\"o\",\n",
    "                linewidths=0,\n",
    "                c=mol_status[sim][frame],\n",
    "                cmap=colormap_m,\n",
    "                norm=norm_m,\n",
    "            )\n",
    "            if not fronts is None:\n",
    "                front_line = ax.axhline(\n",
    "                    y=y_f[(exp.macro_params.empty_rows + fronts[sim][frame]) * exp.macro_params.full_row],\n",
    "                    color=\"xkcd:hot pink\",\n",
    "                )\n",
    "\n",
    "            fig.savefig(\n",
    "                os.path.join(\n",
    "                    e.os_path,\n",
    "                    f\"{sim:02}\",\n",
    "                    f\"experiment_state_plot_r{sim:02}_{degrade_percent_markers[i]:.2f}\"\n",
    "                    + file_code[:-4]\n",
    "                    + \".png\",\n",
    "                ),\n",
    "                bbox_inches=\"tight\",\n",
    "            )\n",
    "            plt.close()\n",
    "\n",
    "\n",
    "def fiber_end_coords(i, j):\n",
    "    x1 = j // 3\n",
    "    y1 = i\n",
    "    if j % 3 == 0:\n",
    "        x2 = x1\n",
    "        y2 = y1 + 1\n",
    "    elif j % 3 == 1:\n",
    "        x2 = x1 + radius * math.cos(angle)\n",
    "        y2 = y1 - radius * math.sin(angle)\n",
    "        x1 = x1 - radius * math.cos(angle)\n",
    "        y1 = y1 + radius * math.sin(angle)\n",
    "    elif j % 3 == 2:\n",
    "        x2 = x1 + 1\n",
    "        y2 = y1\n",
    "    return x1, y1, x2, y2\n",
    "\n",
    "\n",
    "def grid_data(exp, edge_index):\n",
    "    x1_f = np.empty(exp.macro_params.total_edges, dtype=float)\n",
    "    y1_f = np.empty(exp.macro_params.total_edges, dtype=float)\n",
    "    x2_f = np.empty(exp.macro_params.total_edges, dtype=float)\n",
    "    y2_f = np.empty(exp.macro_params.total_edges, dtype=float)\n",
    "    for k in range(exp.macro_params.total_edges):\n",
    "        i, j = edge_index[k]\n",
    "        x1_f[k], y1_f[k], x2_f[k], y2_f[k] = fiber_end_coords(i, j)\n",
    "    return x1_f, y1_f, x2_f, y2_f\n",
    "\n",
    "\n",
    "def create_fiber_grid_plot(\n",
    "    exp, file_code, edge_index, degrade_marker_frames, deg, tsave, x1_f, y1_f, x2_f, y2_f, fronts=None,\n",
    "):\n",
    "    image_scale = (\n",
    "        exp.macro_params.grid_node_distance\n",
    "        / 72\n",
    "        / (exp.macro_params.grid_node_distance - 10_000 * exp.macro_params.pore_size)\n",
    "    )\n",
    "    for sim in range(1):\n",
    "        for idx, frame in enumerate(degrade_marker_frames[sim]):\n",
    "            fig = plt.figure(\n",
    "                figsize=(exp.macro_params.cols * image_scale, exp.macro_params.rows * image_scale), dpi=72\n",
    "            )\n",
    "            ax = fig.add_axes([0, 0, 1, 1])\n",
    "            ax.set_axis_off()\n",
    "            vmin = 0\n",
    "            vmax = e.macro_params.cols - 1\n",
    "\n",
    "            ydiff = e.macro_params.rows - e.macro_params.cols\n",
    "\n",
    "            ax.set_xlim(vmin - 0.25, vmax + 0.25)\n",
    "            ax.set_ylim(-vmax - ydiff - 0.25, -vmin + 0.25)\n",
    "            ax.set_aspect(\"equal\")\n",
    "            fig.canvas.draw()\n",
    "\n",
    "            # grid_width = 1000 * e.macro_params.grid_node_distance * (e.macro_params.cols - 1)  # in nanometers\n",
    "            # figure_width = fig.get_figwidth() * fig.dpi  # in points (should be pixels too)\n",
    "            # point_length = grid_width / figure_width  # in nanometers per point\n",
    "\n",
    "            # fiber_thickness = (\n",
    "            #     1000 * (e.macro_params.grid_node_distance - 10_000 * e.macro_params.pore_size) / point_length\n",
    "            # )\n",
    "\n",
    "            for k in range(e.macro_params.total_edges):\n",
    "                i, j = edge_index[k]\n",
    "                if j % 3 != 1:\n",
    "                    if deg[sim][frame][k] > tsave[sim][frame]:\n",
    "                        plt.plot(\n",
    "                            [x1_f[k], x2_f[k]],\n",
    "                            [-y1_f[k], -y2_f[k]],\n",
    "                            color=\"black\",\n",
    "                            marker=None,\n",
    "                            linewidth=1,\n",
    "                        )\n",
    "            if not fronts is None:\n",
    "                front_line = ax.axhline(\n",
    "                    y=-y1_f[(exp.macro_params.empty_rows + fronts[sim][frame]) * exp.macro_params.full_row],\n",
    "                    color=\"xkcd:hot pink\",\n",
    "                )\n",
    "            fig.savefig(\n",
    "                os.path.join(\n",
    "                    e.os_path,\n",
    "                    f\"{sim:02}\",\n",
    "                    f\"fiber_grid_plot{file_code[:-4]}_r{sim:02}_{degrade_percent_markers[idx]:.2f}.png\",\n",
    "                ),\n",
    "                bbox_inches=\"tight\",\n",
    "            )\n",
    "            plt.close()"
   ]
  },
  {
   "cell_type": "markdown",
   "id": "4c36e966-b606-4d08-8194-9ef45c658232",
   "metadata": {
    "jp-MarkdownHeadingCollapsed": true,
    "tags": []
   },
   "source": [
    "### Binding/Moving Analysis Functions"
   ]
  },
  {
   "cell_type": "code",
   "execution_count": 13,
   "id": "805759a4-f1f4-4180-aee6-8dbe1ddba679",
   "metadata": {
    "ExecuteTime": {
     "end_time": "2024-02-04T16:08:07.908968300Z",
     "start_time": "2024-02-04T16:08:07.766931900Z"
    }
   },
   "outputs": [],
   "source": [
    "def check_row_interval(row, start, end):\n",
    "    if not np.isnan(row[5]):\n",
    "        time = row[5]\n",
    "    elif not np.isnan(row[7]):\n",
    "        time = row[7]\n",
    "    elif np.isnan(row[-1]):\n",
    "        return False\n",
    "    else:\n",
    "        time = row[-1]\n",
    "    if time / 60 < start[int(row[0])]:\n",
    "        return False\n",
    "    if time / 60 > end[int(row[0])]:\n",
    "        return False\n",
    "    return True\n",
    "\n",
    "\n",
    "# Returns [\n",
    "#     Simulation Number,\n",
    "#     Molecule Index,\n",
    "#     Bind Location,\n",
    "#     Bind Time,\n",
    "#     Bind Duration,\n",
    "# ]\n",
    "def calculate_dwell_time(event):\n",
    "    if not np.isnan(event[5]):\n",
    "        leave_time = event[5]\n",
    "    elif not np.isnan(event[7]):\n",
    "        leave_time = event[7]\n",
    "    else:\n",
    "        leave_time = event[-1]\n",
    "    return event[0], event[1], event[2], event[3], leave_time - event[3]\n",
    "\n",
    "\n",
    "# Returns [\n",
    "#     Simulation Number,\n",
    "#     Molecule Index,\n",
    "#     Move Start Time,\n",
    "#     Move Duration,\n",
    "# ]\n",
    "def calculate_transit_time(event):\n",
    "    if not np.all(event[:2] == event[10:12]):\n",
    "        return np.nan, np.nan, np.nan, np.nan\n",
    "    if not np.isnan(event[5]):\n",
    "        leave_time = event[5]\n",
    "    elif not np.isnan(event[7]):\n",
    "        leave_time = event[7]\n",
    "    else:\n",
    "        leave_time = event[9]\n",
    "    return event[0], event[1], leave_time, event[13] - leave_time\n",
    "\n",
    "\n",
    "# Returns [\n",
    "#     Simulation Number,\n",
    "#     Molecule Index,\n",
    "#     Move Start Time,\n",
    "#     Move Duration,\n",
    "# ]\n",
    "def calculate_kinetic_time(event):\n",
    "    if not np.all(event[:2] == event[10:12]):\n",
    "        return np.nan, np.nan, np.nan, np.nan\n",
    "    if not np.isnan(event[5]) or not np.isnan(event[7]):\n",
    "        return np.nan, np.nan, np.nan, np.nan\n",
    "    return event[0], event[1], event[9], event[13] - event[9]\n",
    "\n",
    "\n",
    "# Returns [\n",
    "#     Simulation Number,\n",
    "#     Molecule Index,\n",
    "#     Move Start Time,\n",
    "#     Move Duration,\n",
    "# ]\n",
    "def calculate_free_time(event):\n",
    "    if not np.all(event[:2] == event[10:12]):\n",
    "        return np.nan, np.nan, np.nan, np.nan\n",
    "    return event[0], event[1], event[9], event[13] - event[9]\n",
    "\n",
    "\n",
    "# Returns [\n",
    "#     Simulation Number,\n",
    "#     Molecule Index,\n",
    "#     Move Start Time,\n",
    "#     Move Duration,\n",
    "# ]\n",
    "def calculate_macro_time(event):\n",
    "    if np.isnan(event[5]):\n",
    "        return np.nan, np.nan, np.nan, np.nan\n",
    "    return event[0], event[1], event[5], event[9] - event[5]\n",
    "\n",
    "\n",
    "# Returns [\n",
    "#     Simulation Number,\n",
    "#     Molecule Index,\n",
    "#     Move Start Time,\n",
    "#     Move Duration,\n",
    "# ]\n",
    "def calculate_micro_time(event):\n",
    "    if np.isnan(event[7]):\n",
    "        return np.nan, np.nan, np.nan, np.nan\n",
    "    return event[0], event[1], event[7], event[9] - event[7]\n",
    "\n",
    "\n",
    "# Returns [\n",
    "#     Simulation Number,\n",
    "#     Molecule Index,\n",
    "#     Move Start Time,\n",
    "#     Move Distance,\n",
    "# ]\n",
    "def calculate_move(exp, event, start_loc, end_loc):\n",
    "    if not np.all(event[:2] == event[10:12]):\n",
    "        return np.nan, np.nan, np.nan, np.nan\n",
    "    # The leave_time is always when the movement starts, even if still bound to an FDP\n",
    "    if not np.isnan(event[5]):\n",
    "        leave_time = event[5]\n",
    "    elif not np.isnan(event[7]):\n",
    "        leave_time = event[7]\n",
    "    else:\n",
    "        leave_time = event[9]\n",
    "    start_loc = lysis.from_fortran_edge_index(start_loc, exp.macro_params.rows, exp.macro_params.cols)\n",
    "    end_loc = lysis.from_fortran_edge_index(end_loc, exp.macro_params.rows, exp.macro_params.cols)\n",
    "    return (\n",
    "        event[0],\n",
    "        event[1],\n",
    "        leave_time,\n",
    "        lysis.util.EdgeGrid.get_distance(exp, start_loc, end_loc),\n",
    "    )\n",
    "\n",
    "\n",
    "# This measures the total movement of all molecules between binding events\n",
    "def all_movement(event, exp):\n",
    "    return calculate_move(exp, event, event[2], event[12])\n",
    "\n",
    "\n",
    "# This measures the movement of molecules that kinetically unbind from an intact fiber.\n",
    "def kinetic_movement(event, exp):\n",
    "    if np.isnan(event[4]) and np.isnan(event[6]):\n",
    "        return calculate_move(exp, event, event[8], event[12])\n",
    "    else:\n",
    "        return calculate_move(exp, event, event[8], event[8])\n",
    "\n",
    "\n",
    "# This measures the movement of molecules while micro-unbound.\n",
    "# That is, movement while bound to a small FDP which can diffuse anywhere\n",
    "def micro_movement(event, exp):\n",
    "    if np.isfinite(event[6]):\n",
    "        return calculate_move(exp, event, event[6], event[8])\n",
    "    else:\n",
    "        return calculate_move(exp, event, event[8], event[8])\n",
    "\n",
    "\n",
    "# This measures the movement of molecules while macro-unbound.\n",
    "# That is, movement while bound to a large FDP which cannot diffuse through intact fibers\n",
    "def macro_movement(event, exp):\n",
    "    if np.isfinite(event[4]):\n",
    "        return calculate_move(exp, event, event[4], event[8])\n",
    "    else:\n",
    "        return calculate_move(exp, event, event[8], event[8])\n",
    "\n",
    "\n",
    "# This measures all molecules' movement after they completely unbind,\n",
    "# either from an intact fiber, or from an FDP\n",
    "def free_movement(event, exp):\n",
    "    return calculate_move(exp, event, event[8], event[12])"
   ]
  },
  {
   "cell_type": "code",
   "execution_count": 14,
   "id": "429d2afe-5b68-4267-90ae-be17c6f1ad5e",
   "metadata": {
    "tags": [],
    "ExecuteTime": {
     "end_time": "2024-02-04T16:08:08.078547100Z",
     "start_time": "2024-02-04T16:08:07.921965400Z"
    }
   },
   "outputs": [],
   "source": [
    "def read_mol_bind_events(exp, file_code):\n",
    "    mol_bind_events = []\n",
    "    for sim in range(e.macro_params.total_trials):\n",
    "        filename = os.path.join(e.os_path, f\"{sim:02}\", f\"m_bind_events{file_code[:-4]}_s{sim:02}.pkl\")\n",
    "        if os.path.isfile(filename):\n",
    "            with open(filename, \"rb\") as handle:\n",
    "                mol_bind_events.append(pickle.load(handle))\n",
    "        else:\n",
    "            raw_mol_bind_events = np.loadtxt(\n",
    "                os.path.join(e.os_path, f\"{sim:02}\", f\"m_bind_t{file_code[:-4]}_{sim:02}{file_code[-4:]}\"),\n",
    "                delimiter=\",\",\n",
    "            )\n",
    "            # Re-index locations to zero-based\n",
    "            raw_mol_bind_events[:, -1] -= 1\n",
    "            ## mol_bind_events Format = [\n",
    "            ##     Simulation Number,\n",
    "            ##     Molecule Index,\n",
    "            ##     Bind Location,\n",
    "            ##     Bind Time,\n",
    "            ##     Macro-Unbind Start Location (= NaN if no Macro-Unbind occurs),\n",
    "            ##     Macro-Unbind Start Time (= NaN if no Macro-Unbind occurs),\n",
    "            ##     Micro-Unbind Start Location (= NaN if no Micro-Unbind occurs),\n",
    "            ##     Micro-Unbind Start Time (= NaN if no Micro-Unbind occurs),\n",
    "            ##     Kinetic Unbind Location,\n",
    "            ##     Kinetic Unbind Time,\n",
    "            ## ]\n",
    "\n",
    "            sim_mol_bind_events = np.full(\n",
    "                (np.count_nonzero(raw_mol_bind_events[:, 2] == 1), 10), np.nan, dtype=float\n",
    "            )\n",
    "            row = -1\n",
    "            for i in np.lexsort(raw_mol_bind_events[:, [0, 1]].T):\n",
    "                event = raw_mol_bind_events[i]\n",
    "                match event[2]:\n",
    "                    case 1:\n",
    "                        # We are binding, so set the simulation number and molecule number at the start of the row\n",
    "                        row += 1\n",
    "                        sim_mol_bind_events[row, :2] = [sim, event[1]]\n",
    "                        sim_mol_bind_events[row, 2:4] = event[[3, 0]]\n",
    "                    case 2:\n",
    "                        # We are beginning a Macro-Unbinding\n",
    "                        sim_mol_bind_events[row, 4:6] = event[[3, 0]]\n",
    "                    case 3:\n",
    "                        # We are beginning a Micro-Unbinding\n",
    "                        sim_mol_bind_events[row, 6:8] = event[[3, 0]]\n",
    "                    case 0:\n",
    "                        # We are unbinding kineticly (whether from a undegraded fiber, or a FDP)\n",
    "                        sim_mol_bind_events[row, 8:] = event[[3, 0]]\n",
    "            mol_bind_events.append(sim_mol_bind_events)\n",
    "            with open(filename, \"wb\") as handle:\n",
    "                pickle.dump(sim_mol_bind_events, handle, protocol=pickle.HIGHEST_PROTOCOL)\n",
    "    return np.concatenate(mol_bind_events)\n",
    "\n",
    "\n",
    "# Return an array with a row for each move in mol_bind_events, containing (\n",
    "#     Simulation Number,\n",
    "#     Molecule Index,\n",
    "#     Move Start Location,\n",
    "#     Move End Location,\n",
    "#     Move Distance,\n",
    "# )\n",
    "def get_move_distances(exp, mol_bind_events, file_code, move_function=all_movement):\n",
    "    filename = os.path.join(e.os_path, f\"m_move_distances_{move_function.__name__}{file_code[:-4]}.pkl\")\n",
    "    if os.path.isfile(filename):\n",
    "        with open(filename, \"rb\") as handle:\n",
    "            return pickle.load(handle)\n",
    "    else:\n",
    "        windows = np.lib.stride_tricks.sliding_window_view(\n",
    "            mol_bind_events, (2, mol_bind_events.shape[1])\n",
    "        ).reshape(mol_bind_events.shape[0] - 1, mol_bind_events.shape[1] * 2)\n",
    "        moves = np.apply_along_axis(move_function, 1, windows, exp=exp)\n",
    "        moves = moves[np.isfinite(moves[:, -1])]\n",
    "        with open(filename, \"wb\") as handle:\n",
    "            pickle.dump(moves, handle, protocol=pickle.HIGHEST_PROTOCOL)\n",
    "        return moves\n",
    "\n",
    "\n",
    "def get_mol_events_in_interval(mol_bind_events, start, end):\n",
    "    return mol_bind_events[np.apply_along_axis(check_row_interval, 1, mol_bind_events, start, end)]\n",
    "\n",
    "\n",
    "def get_dwell_transit_times(mol_bind_events):\n",
    "    data = [\"Dwell\", \"Transit\", \"Free Transit\", \"Macro Unbound\", \"Micro Unbound\", \"Kinetic Unbound\"]\n",
    "    times = {}\n",
    "    windows = np.lib.stride_tricks.sliding_window_view(\n",
    "        mol_bind_events, (2, mol_bind_events.shape[1])\n",
    "    ).reshape(mol_bind_events.shape[0] - 1, mol_bind_events.shape[1] * 2)\n",
    "    times[\"Dwell\"] = np.apply_along_axis(calculate_dwell_time, 1, mol_bind_events)\n",
    "    times[\"Transit\"] = np.apply_along_axis(calculate_transit_time, 1, windows)\n",
    "    times[\"Free Transit\"] = np.apply_along_axis(calculate_free_time, 1, windows)\n",
    "    times[\"Macro Unbound\"] = np.apply_along_axis(calculate_macro_time, 1, mol_bind_events)\n",
    "    times[\"Micro Unbound\"] = np.apply_along_axis(calculate_micro_time, 1, mol_bind_events)\n",
    "    times[\"Kinetic Unbound\"] = np.apply_along_axis(calculate_kinetic_time, 1, windows)\n",
    "    for key in times.keys():\n",
    "        times[key] = times[key][np.isfinite(times[key][:, -1])]\n",
    "    return times\n",
    "\n",
    "\n",
    "#### BROKEN BY NEW mol_bind_event FORMAT\n",
    "def save_dwell_transit_times(exp, file_code, mol_bind_events=None):\n",
    "    if mol_bind_events is None:\n",
    "        mol_bind_events = read_mol_bind_events(exp, file_code)\n",
    "    data = [\"Dwell\", \"Transit\", \"Free Transit\", \"Macro Unbound\", \"Micro Unbound\", \"Kinetic Unbound\"]\n",
    "    names = {\n",
    "        \"Dwell\": \"dwell_times\",\n",
    "        \"Transit\": \"transit_times\",\n",
    "        \"Free Transit\": \"free_transit_times\",\n",
    "        \"Macro Unbound\": \"macro_unbound_times\",\n",
    "        \"Micro Unbound\": \"micro_unbound_times\",\n",
    "        \"Kinetic Unbound\": \"kinetic_transit_times\",\n",
    "    }\n",
    "    for sim in range(exp.macro_params.total_trials):\n",
    "        sim_times = find_sim_dwell_transit_times(e, mol_bind_events[sim], data)\n",
    "        for key in data:\n",
    "            columns = pd.Index(\n",
    "                [\"Simulation Time at Interval End (sec)\", \"Interval Length (sec)\", \"Molecule Index\"]\n",
    "            )\n",
    "            df = pd.DataFrame(sim_times[key], columns=columns)\n",
    "            df.iloc[:, [2, 0, 1]].to_csv(\n",
    "                os.path.join(\n",
    "                    exp.os_path,\n",
    "                    f\"{sim:02}\",\n",
    "                    f\"m_{names[key]}{file_code[:-4]}_s{sim:02}.csv\",\n",
    "                ),\n",
    "                index=False,\n",
    "            )"
   ]
  },
  {
   "cell_type": "markdown",
   "id": "4f4baef4-6cae-4b14-b101-dfb92690900f",
   "metadata": {
    "jp-MarkdownHeadingCollapsed": true,
    "tags": []
   },
   "source": [
    "## Pore Calculation Functions"
   ]
  },
  {
   "cell_type": "code",
   "execution_count": 15,
   "id": "c1b3c961-6a24-4839-a51c-84ab5c46bf11",
   "metadata": {
    "tags": [],
    "ExecuteTime": {
     "end_time": "2024-02-04T16:08:08.309705200Z",
     "start_time": "2024-02-04T16:08:08.108046100Z"
    }
   },
   "outputs": [],
   "source": [
    "###########################################################################\n",
    "## Maybe try diagonal lines, since that is how the tPA move in the model ##\n",
    "###########################################################################\n",
    "def get_pore_stats(exp, deg, tsave, file_code, num_v_lines=10, num_h_lines=10):\n",
    "    rev_edge_index = get_rev_edge_index(e)\n",
    "    v_step = math.floor((exp.macro_params.cols - 1) / (num_v_lines + 0.1))\n",
    "    v_lines = range(v_step // 2, exp.macro_params.cols - 1, v_step)\n",
    "    h_step = math.floor((exp.macro_params.rows - 1) / (num_h_lines + 0.1))\n",
    "    h_lines = range(h_step // 2, exp.macro_params.rows - 1, h_step)\n",
    "    min_time = np.min(n_save)\n",
    "    pores = []\n",
    "    for sim in range(e.macro_params.total_trials):\n",
    "        filename = os.path.join(\n",
    "            e.os_path,\n",
    "            f\"{sim:02}\",\n",
    "            f\"pore_sizes_v{num_v_lines:02}_h{num_h_lines:02}{file_code[:-4]}_s{sim:02}.pkl\",\n",
    "        )\n",
    "        if os.path.isfile(filename):\n",
    "            with open(filename, \"rb\") as handle:\n",
    "                pores.append(pickle.load(handle))\n",
    "        else:\n",
    "            pores.append([])\n",
    "            for frame in range(len(tsave[sim])):\n",
    "                lines = []\n",
    "                degraded = deg[sim][frame] < tsave[sim][frame]\n",
    "                # Vertical Lines\n",
    "                for j in v_lines:\n",
    "                    pores_in_line = []\n",
    "                    current_pore = (\n",
    "                        exp.macro_params.pore_size * 10_000\n",
    "                    )  # exp.macro_params.grid_node_distance  #\n",
    "                    if degraded[rev_edge_index[0, j * 3 + 2]]:\n",
    "                        current_pore += (\n",
    "                            exp.macro_params.grid_node_distance - exp.macro_params.pore_size * 10_000\n",
    "                        )\n",
    "                    for i in range(1, exp.macro_params.rows - 1):\n",
    "                        if degraded[rev_edge_index[i, j * 3 + 2]]:\n",
    "                            current_pore += exp.macro_params.grid_node_distance\n",
    "                        else:\n",
    "                            pores_in_line.append(current_pore)\n",
    "                            current_pore = (\n",
    "                                exp.macro_params.pore_size\n",
    "                                * 10_000\n",
    "                                # exp.macro_params.grid_node_distance\n",
    "                            )\n",
    "                    if degraded[rev_edge_index[-1, j * 3 + 2]]:\n",
    "                        current_pore += (\n",
    "                            exp.macro_params.grid_node_distance - exp.macro_params.pore_size * 10_000\n",
    "                        )\n",
    "                    pores_in_line.append(current_pore)\n",
    "                    lines.append(np.array(pores_in_line))\n",
    "                # Horizontal Lines\n",
    "                for i in h_lines:\n",
    "                    pores_in_line = []\n",
    "                    current_pore = (\n",
    "                        exp.macro_params.pore_size * 10_000\n",
    "                    )  # exp.macro_params.grid_node_distance #\n",
    "                    if degraded[rev_edge_index[i, 0]]:\n",
    "                        current_pore += (\n",
    "                            exp.macro_params.grid_node_distance - exp.macro_params.pore_size * 10_000\n",
    "                        )\n",
    "                    for j in range(1, exp.macro_params.cols - 1):\n",
    "                        if degraded[rev_edge_index[i, j * 3]]:\n",
    "                            current_pore += exp.macro_params.grid_node_distance\n",
    "                        else:\n",
    "                            pores_in_line.append(current_pore)\n",
    "                            current_pore = (\n",
    "                                exp.macro_params.pore_size\n",
    "                                * 10_000\n",
    "                                # exp.macro_params.grid_node_distance\n",
    "                            )\n",
    "                    if degraded[rev_edge_index[i, -1]]:\n",
    "                        current_pore += (\n",
    "                            exp.macro_params.grid_node_distance - exp.macro_params.pore_size * 10_000\n",
    "                        )\n",
    "                    pores_in_line.append(current_pore)\n",
    "                    lines.append(np.array(pores_in_line))\n",
    "                pores_at_frame = np.empty(0, dtype=float)\n",
    "                for line in lines:\n",
    "                    pores_at_frame = np.append(pores_at_frame, line)\n",
    "                pores[sim].append(\n",
    "                    pores_at_frame\n",
    "                    # / (exp.macro_params.pore_size * 10_000)\n",
    "                    # / exp.macro_params.grid_node_distance\n",
    "                )\n",
    "            with open(filename, \"wb\") as handle:\n",
    "                pickle.dump(pores[sim], handle, protocol=pickle.HIGHEST_PROTOCOL)\n",
    "    return pores\n",
    "\n",
    "\n",
    "def save_pore_stats(exp, file_code, tsave, pores, deg_fraction):\n",
    "    for sim in range(exp.macro_params.total_trials):\n",
    "        index = pd.Index(tsave[sim] / 60, name=\"Time Elapsed (min)\")\n",
    "        df = pd.DataFrame(pores[sim], index=index)\n",
    "        df.insert(0, \"Fraction Degraded\", deg_fraction[sim])\n",
    "        df.to_csv(\n",
    "            os.path.join(\n",
    "                exp.os_path,\n",
    "                f\"{sim:02}\",\n",
    "                f\"pore_sizes{file_code[:-4]}_s{sim:02}.csv\",\n",
    "            )\n",
    "        )\n",
    "\n",
    "\n",
    "def plot_pore_size(exp, tsave, pores_by_frame):\n",
    "    fig = plt.figure(figsize=(7, 5))\n",
    "    ax = fig.add_axes([0, 0, 1, 1])\n",
    "    ax.set_xlim(0, (max([np.max(deg_run[-1, :]) for deg_run in deg]) // 60) + 1)\n",
    "    # ax.set_ylim(-0.1, 1.1)\n",
    "    for sim in range(exp.macro_params.total_trials):\n",
    "        plt.plot(tsave[sim] / 60, degraded_fraction[sim])\n",
    "        for slope in range(len(degrade_slope_between_percent)):\n",
    "            start_frame = degrade_marker_frames[sim, degrade_slope_between_percent[slope][0]]\n",
    "            end_frame = degrade_marker_frames[sim, degrade_slope_between_percent[slope][1]]\n",
    "            lin_func = (\n",
    "                lambda x: degradation_rates[sim, slope] * (x - tsave[sim][start_frame] / 60)\n",
    "                + degraded_fraction[sim][start_frame]\n",
    "            )\n",
    "            plt.plot(\n",
    "                tsave[sim][start_frame:end_frame] / 60,\n",
    "                lin_func(tsave[sim][start_frame:end_frame] / 60),\n",
    "                color=\"b\",\n",
    "                alpha=0.5,\n",
    "                zorder=0.1,\n",
    "            )\n",
    "    fig.savefig(os.path.join(exp.os_path, \"deg_rate\" + file_code[:-4] + \".png\"), bbox_inches=\"tight\")\n",
    "    plt.close()"
   ]
  },
  {
   "cell_type": "markdown",
   "id": "2716a803-ae67-40db-8c9f-a1865aa6a68d",
   "metadata": {
    "tags": []
   },
   "source": [
    "## MASTER LOOP"
   ]
  },
  {
   "cell_type": "code",
   "execution_count": 16,
   "id": "24547450-aec3-4762-8e9a-8a3d9bbc24ea",
   "metadata": {
    "tags": [],
    "ExecuteTime": {
     "end_time": "2024-02-04T16:08:41.481957900Z",
     "start_time": "2024-02-04T16:08:08.325201700Z"
    }
   },
   "outputs": [
    {
     "data": {
      "text/plain": "  0%|          | 0/4 [00:00<?, ?it/s]",
      "application/vnd.jupyter.widget-view+json": {
       "version_major": 2,
       "version_minor": 0,
       "model_id": "8b93a0ff304242fda97005e2d14a5a27"
      }
     },
     "metadata": {},
     "output_type": "display_data"
    },
    {
     "name": "stdout",
     "output_type": "stream",
     "text": [
      "2024-01-27-1000 TK-L_10000  - Mean Simulation Processing Time: 0:21:09\n",
      "2024-01-27-1001 TK-L_555  - Mean Simulation Processing Time: 0:03:41\n",
      "2024-01-27-1002 TN-D_5410  - Mean Simulation Processing Time: 1:09:19\n",
      "2024-01-27-1003 TN-D_300  - Mean Simulation Processing Time: 0:31:47\n"
     ]
    }
   ],
   "source": [
    "pore_plot_data = {}\n",
    "transit_time_data = {}\n",
    "for run in tqdm(runs):\n",
    "    # Select and load scenario\n",
    "    mech = mechanisms[mechanisms[\"descriptor\"] == run[\"mechanism\"]][0]\n",
    "    scen = scenarios[scenarios[\"descriptor\"] == run[\"scenario\"]][0]\n",
    "    e = lysis.util.Experiment(data_root, experiment_code=run[\"exp_code\"])\n",
    "    # e = lysis.util.Experiment(\n",
    "    #     os.path.join(\"/\", \"home\", \"bpaynter\", \"Archive\", \"lysis_data\"), experiment_code=run[\"exp_code\"]\n",
    "    # )\n",
    "    e.read_file()\n",
    "    y_distance = np.arange(e.macro_params.rows - 1) * e.macro_params.grid_node_distance\n",
    "    file_code = out_file_code.format(scenario_code=run[\"scenario\"]) + \".dat\"\n",
    "\n",
    "    # Get processing time and print\n",
    "    time = get_processing_time(e, file_code, mech).mean()\n",
    "    time = str(datetime.timedelta(seconds=time)).split(\".\")[0]\n",
    "    print(run[\"exp_code\"], file_code[1:-4], f\" - Mean Simulation Processing Time: {time}\")\n",
    "\n",
    "    ## Read data from log files\n",
    "    # total_binds = get_total_binds(e, file_code, mech)\n",
    "    # macro_unbinds, micro_unbinds = get_unbind_amounts(e, file_code, mech)\n",
    "    # normal_unbinds = total_binds - (macro_unbinds + micro_unbinds)\n",
    "    # mol_time_df.loc[\n",
    "    #     scen[\"descriptor\"], \"Total Binds\"\n",
    "    # ] = f\"{total_binds.mean():,.0f} \\u00B1 {total_binds.std():,.0f}\"\n",
    "    # mol_time_df.loc[scen[\"descriptor\"], \"Macro Unbinds %\"] = f\"{(macro_unbinds / total_binds).mean():.3%}\"\n",
    "    # mol_time_df.loc[scen[\"descriptor\"], \"Micro Unbinds %\"] = f\"{(micro_unbinds / total_binds).mean():.3%}\"\n",
    "    # \n",
    "    # results.loc[run[\"scenario\"], \"Total (Un)Binds\"] = [np.mean(total_binds), np.std(total_binds)]\n",
    "    # if macro_unbinds.size > 0:\n",
    "    #     results.loc[run[\"scenario\"], \"Forced Unbinds (Macroscale)\"] = [np.mean(macro_unbinds), np.std(macro_unbinds)]\n",
    "    # if micro_unbinds.size > 0:\n",
    "    #     results.loc[run[\"scenario\"], \"Forced Unbinds (Microscale)\"] = [np.mean(micro_unbinds), np.std(micro_unbinds)]\n",
    "\n",
    "    # Read data from data files\n",
    "    data = lysis.data_manage.read_data(e, file_code)\n",
    "\n",
    "    # row_deg = find_row_deg_fraction(e, data.f_deg_t, data.save_t)\n",
    "    # fronts = find_front(e, row_deg)\n",
    "\n",
    "    # Check that data matches earlier experiment group\n",
    "    # old_code = \"2023-06-09-10\"\n",
    "    # if not compare_data(e_new: Experiment, e_old: Experiment, file_code: str):\n",
    "    #     print(\"ERROR\")\n",
    "\n",
    "    # Read parameters into a dataframe\n",
    "    # params = e.macro_params\n",
    "    # df = pd.DataFrame([params])\n",
    "    # parameters_df.loc[scen[\"descriptor\"]] = df.loc[0]\n",
    "    # if e.macro_params.total_time == 0:\n",
    "    #     parameters_df.loc[scen[\"descriptor\"], \"total_time\"] = max([i[-1] for i in tsave])\n",
    "    #     parameters_df.loc[scen[\"descriptor\"], \"total_time_steps\"] = max(\n",
    "    #         [int(i[-1] // e.macro_params.time_step) for i in tsave]\n",
    "    #     )\n",
    "    #     parameters_df.loc[scen[\"descriptor\"], \"number_of_saves\"] = max(n_save)\n",
    "\n",
    "    # binds_df.loc[scen[\"descriptor\"]] = get_total_binds(e, file_code, mech)\n",
    "\n",
    "    # # Process results\n",
    "    # exposed_time = calculate_time_row_exposed(e, deg)\n",
    "    # deg_fronts = find_degradation_fronts(e, exposed_time, y_distance, tsave)\n",
    "    # plot_front_degradation(e, file_code, deg_fronts, deg)\n",
    "    # m, sd = mean_front_velocity(e, deg_fronts)\n",
    "    # results.loc[run[\"scenario\"], \"Front Velocity (microns/min)\"] = [m, sd]\n",
    "    # #\n",
    "    deg_fraction = find_degraded_fraction(e, data.f_deg_t, data.save_t)\n",
    "    marker_frames = find_degradation_marker_frames(e, deg_fraction, degrade_percent_markers)\n",
    "    marker_times = find_degradation_marker_times(e, marker_frames, data.save_t)\n",
    "    # degradation_time_df.loc[run[\"scenario\"]] = marker_times.T.flatten()\n",
    "    # slopes = degradation_rates(e, marker_frames, deg_fraction, tsave)\n",
    "    # slopes_df.loc[run[\"scenario\"]] = slopes.T.flatten()\n",
    "    # plot_degradation_percent(e, deg_fraction, tsave, marker_frames, slopes)\n",
    "    #\n",
    "    # # results.loc[run[\"scenario\"], \"Mean degradation percent\"] = (\n",
    "    # #     np.mean([sim_deg_fraction[-1] for sim_deg_fraction in deg_fraction]) * 100\n",
    "    # # )\n",
    "    # deg_rate, offset, deg_start = mean_degradation_rate(e, deg_fraction, tsave)\n",
    "    # results.loc[run[\"scenario\"], \"Degradation rate (%/min)\"] = [np.mean(deg_rate) * 100, np.std(deg_rate) * 100]\n",
    "    # results.loc[run[\"scenario\"], \"Lysis lag time (min)\"] = [np.mean(deg_start), np.std(deg_start)]\n",
    "    # results.loc[run[\"scenario\"], \"Time to full clot degradation (min)\"] = [np.mean(marker_times[:,-1]), np.std(marker_times[:,-1])]\n",
    "    # #\n",
    "    # results.loc[run[\"scenario\"], \"Percent of molecules that reached the back row\"] = [np.mean(\n",
    "    #     np.count_nonzero(mfpt > 0, axis=1)/ e.macro_params.total_molecules * 100\n",
    "    # ), np.std(\n",
    "    #     np.count_nonzero(mfpt > 0, axis=1)/ e.macro_params.total_molecules * 100\n",
    "    # )]\n",
    "    # results.loc[run[\"scenario\"], \"First passage time (min)\"] = [np.mean(mfpt[mfpt > 0] / 60), np.std(mfpt[mfpt > 0] / 60)]\n",
    "\n",
    "    #     save_degrade_fraction_table(e, file_code, deg_fraction, tsave)\n",
    "\n",
    "    # Molecule binding and diffusion\n",
    "    #     mol_bind_events = read_mol_bind_events(e, file_code)\n",
    "    #     mol_bind_events = get_mol_events_in_interval(mol_bind_events, marker_times[:, 1], marker_times[:, 3])\n",
    "    #     move_distances = get_move_distances(e, mol_bind_events, file_code, move_function=all_movement)\n",
    "    #     times = get_dwell_transit_times(mol_bind_events)\n",
    "\n",
    "    #     for key, value in times.items():\n",
    "    #         mol_time_df.loc[\n",
    "    #             scen[\"descriptor\"], key + \" Time (min)\"\n",
    "    #         ] = f\"{value[:, -1].mean() / 60:.4f} \\u00B1 {value[:, -1].std() / 60:.4f}\"\n",
    "    #     mol_time_df.loc[\n",
    "    #         scen[\"descriptor\"], \"Total Binds\"\n",
    "    #     ] = f\"{times['Dwell'].shape[0]/e.macro_params.total_trials:,.0f}\"\n",
    "\n",
    "    #     mol_time_df.loc[\n",
    "    #         scen[\"descriptor\"], \"Macro Unbinds %\"\n",
    "    #     ] = f\"{times['Macro Unbound'].shape[0] / times['Dwell'].shape[0]:.3%}\"\n",
    "    #     mol_time_df.loc[\n",
    "    #         scen[\"descriptor\"], \"Micro Unbinds %\"\n",
    "    #     ] = f\"{times['Micro Unbound'].shape[0] / times['Dwell'].shape[0]:.3%}\"\n",
    "\n",
    "    # pore_data = get_pore_stats(e, deg, tsave)\n",
    "\n",
    "    # save_pore_stats(e, file_code, tsave, pore_data, deg_fraction)\n",
    "    # marker_pores = {}\n",
    "    # pore_plot_data[scen[\"descriptor\"]] = {}\n",
    "    # for idx, percent in enumerate(degrade_percent_markers):\n",
    "    #     marker_pores[percent] = np.concatenate(\n",
    "    #         [pore_data[sim][marker_frames[sim][idx]] for sim in range(e.macro_params.total_trials)]\n",
    "    #     )\n",
    "    # pore_plot_data[scen[\"descriptor\"]][percent] = [\n",
    "    #     pore_data[sim][marker_frames[sim][idx]] for sim in range(e.macro_params.total_trials)\n",
    "    # ]\n",
    "    # pore_stat_df.loc[\n",
    "    #     scen[\"descriptor\"], f\"{int(percent*100)}%\"\n",
    "    # ] = f\"{marker_pores[percent].mean():.3f} \\u00B1 {marker_pores[percent].std():.3f}\"\n",
    "    #     plot_means = np.array(\n",
    "    #         [np.mean(row) for row in pore_data[0][marker_frames[0][1] : marker_frames[0][3] + 1]], dtype=float\n",
    "    #     )\n",
    "    #     plot_stds = np.array(\n",
    "    #         [np.std(row) for row in pore_data[0][marker_frames[0][1] : marker_frames[0][3] + 1]], dtype=float\n",
    "    #     )\n",
    "    #     pore_plot_data[scen[\"descriptor\"]] = (\n",
    "    #         deg_fraction[0][marker_frames[0][1] : marker_frames[0][3] + 1],\n",
    "    #         plot_means,\n",
    "    #         plot_stds,\n",
    "    #     )\n",
    "\n",
    "    #\n",
    "    # edge_index = get_edge_index(e)\n",
    "    # x_f, y_f, x_m, y_m = animation_data(e, edge_index, data.m_location)\n",
    "    # create_animation(e, file_code, edge_index, data, x_f, y_f, x_m, y_m, fronts=fronts)\n",
    "    # create_animation_stills(\n",
    "    #     e, file_code, marker_frames, edge_index, data, x_f, y_f, x_m, y_m, fronts=fronts,\n",
    "    # )\n",
    "    #\n",
    "    # x1_f, y1_f, x2_f, y2_f = grid_data(e, edge_index)\n",
    "    # create_fiber_grid_plot(e, file_code, edge_index, marker_frames, data, x1_f, y1_f, x2_f, y2_f, fronts=fronts)"
   ]
  },
  {
   "cell_type": "code",
   "outputs": [
    {
     "data": {
      "text/plain": "[array([0.23485477, 0.26058091, 0.31182573, 0.33091286, 0.37717842,\n        0.41161826, 0.44004149, 0.47655602, 0.50248963, 0.5346473 ,\n        0.58153527, 0.59688797, 0.62759336, 0.64979253, 0.67697095,\n        0.68755187, 0.71410788, 0.73174274, 0.74149378, 0.74170124,\n        0.75477178, 0.77261411, 0.77074689, 0.78713693, 0.80020747,\n        0.80020747, 0.82116183, 0.8120332 , 0.81514523, 0.82738589,\n        0.82697095, 0.82551867, 0.81763485, 0.81991701, 0.83879668,\n        0.83630705, 0.83838174, 0.82697095, 0.84751037, 0.84626556,\n        0.84107884, 0.84751037, 0.84439834, 0.84439834, 0.84854772,\n        0.84107884, 0.84688797, 0.83983402, 0.84460581, 0.84751037,\n        0.85062241, 0.8439834 , 0.83983402, 0.84460581, 0.8379668 ,\n        0.84356846, 0.84128631, 0.84107884, 0.84315353, 0.83568465,\n        0.84294606, 0.83983402, 0.8406639 , 0.83651452, 0.83879668,\n        0.84605809, 0.84253112, 0.84460581, 0.84087137, 0.83589212,\n        0.8466805 , 0.8473029 , 0.83672199, 0.84771784, 0.84087137,\n        0.85726141, 0.83921162, 0.84149378, 0.84709544, 0.84460581,\n        0.85103734, 0.84149378, 0.84356846, 0.84896266, 0.84502075,\n        0.83941909, 0.84751037, 0.85082988, 0.85311203, 0.83547718,\n        0.83506224, 0.83589212, 0.83692946, 0.83443983, 0.84128631,\n        0.83941909, 0.84460581, 0.84190871, 0.84937759, 0.83962656,\n        0.84605809, 0.83589212, 0.84502075, 0.84004149, 0.84481328,\n        0.84107884, 0.84087137, 0.83215768, 0.83423237, 0.83070539,\n        0.84771784, 0.83755187, 0.84813278, 0.83091286, 0.84688797,\n        0.85      , 0.84543568, 0.84522822, 0.85062241, 0.83692946,\n        0.8439834 , 0.85207469, 0.84522822, 0.8406639 , 0.83215768,\n        0.84232365, 0.84294606, 0.84149378, 0.8473029 , 0.84004149,\n        0.83692946, 0.83921162, 0.83506224, 0.84522822, 0.8379668 ,\n        0.8439834 , 0.83298755, 0.83879668, 0.84792531, 0.84170124,\n        0.84605809, 0.84937759, 0.84419087, 0.84522822, 0.84232365,\n        0.84315353, 0.83983402, 0.8373444 , 0.84522822, 0.83817427,\n        0.84356846, 0.84253112, 0.84522822, 0.83609959, 0.83983402,\n        0.8379668 , 0.84751037, 0.84315353, 0.83817427]),\n array([0.21742739, 0.22925311, 0.25456432, 0.26887967, 0.29564315,\n        0.32510373, 0.34979253, 0.37925311, 0.38775934, 0.4246888 ,\n        0.42904564, 0.43962656, 0.45892116, 0.46556017, 0.47987552,\n        0.5033195 , 0.50912863, 0.51950207, 0.53091286, 0.55186722,\n        0.54937759, 0.54585062, 0.56327801, 0.57655602, 0.56286307,\n        0.57385892, 0.56576763, 0.5813278 , 0.57780083, 0.57966805,\n        0.57385892, 0.58941909, 0.59087137, 0.58568465, 0.58962656,\n        0.58962656, 0.58900415, 0.5906639 , 0.59211618, 0.59004149,\n        0.58921162, 0.5973029 , 0.58838174, 0.60020747, 0.60518672,\n        0.5939834 , 0.59813278, 0.59647303, 0.5846473 , 0.60643154,\n        0.60622407, 0.59377593, 0.59045643, 0.6033195 , 0.58713693,\n        0.60228216, 0.57842324, 0.58755187, 0.59917012, 0.59688797,\n        0.59854772, 0.60892116, 0.59522822, 0.59709544, 0.59294606,\n        0.58692946, 0.59543568, 0.60684647, 0.6033195 , 0.58879668,\n        0.59419087, 0.58962656, 0.57904564, 0.58568465, 0.59024896,\n        0.5906639 , 0.60373444, 0.59253112, 0.59771784, 0.60041494,\n        0.58589212, 0.58091286, 0.58589212, 0.6       , 0.58195021,\n        0.59626556, 0.59585062, 0.58838174, 0.57697095, 0.58858921,\n        0.58236515, 0.60912863, 0.58153527, 0.593361  , 0.58858921,\n        0.58713693, 0.60414938, 0.59460581, 0.59834025, 0.59439834,\n        0.59045643, 0.59522822, 0.59917012, 0.59647303, 0.59377593,\n        0.60103734, 0.60892116, 0.59834025, 0.59004149, 0.61120332,\n        0.58651452, 0.58983402, 0.58070539, 0.58340249, 0.58692946,\n        0.58651452, 0.57178423, 0.5906639 , 0.59875519, 0.58692946,\n        0.59107884, 0.58091286, 0.59854772, 0.59356846, 0.60124481,\n        0.57759336, 0.58153527, 0.58672199, 0.58609959, 0.59211618,\n        0.59024896, 0.59460581, 0.58547718, 0.59170124, 0.5846473 ,\n        0.5973029 , 0.59149378, 0.59688797]),\n array([0.21721992, 0.20995851, 0.21327801, 0.22842324, 0.23319502,\n        0.24522822, 0.25      , 0.25518672, 0.25124481, 0.27385892,\n        0.26078838, 0.28257261, 0.27282158, 0.27883817, 0.29294606,\n        0.28174274, 0.29564315, 0.30062241, 0.29439834, 0.30518672,\n        0.31618257, 0.30352697, 0.32738589, 0.31991701, 0.32676349,\n        0.32074689, 0.31141079, 0.32780083, 0.32053942, 0.3159751 ,\n        0.33153527, 0.31618257, 0.3280083 , 0.31846473, 0.32614108,\n        0.32427386, 0.31493776, 0.31887967, 0.30954357, 0.32219917,\n        0.32219917, 0.31224066, 0.32240664, 0.31161826, 0.32717842,\n        0.31887967, 0.32012448, 0.31431535, 0.32614108, 0.32116183,\n        0.32219917, 0.31493776, 0.32261411, 0.31846473, 0.32136929,\n        0.31929461, 0.32178423, 0.32385892, 0.32655602, 0.33360996,\n        0.32282158, 0.32489627, 0.32157676, 0.32116183, 0.32676349,\n        0.31721992, 0.32074689, 0.32655602, 0.3159751 , 0.32344398,\n        0.31846473, 0.31473029, 0.29377593, 0.30829876, 0.3153527 ,\n        0.3120332 , 0.3246888 , 0.31390041, 0.32157676, 0.32033195,\n        0.31473029, 0.29958506, 0.31390041, 0.32053942, 0.31659751,\n        0.32738589, 0.31369295, 0.30518672, 0.31307054, 0.30892116,\n        0.31991701, 0.32282158, 0.30622407, 0.31099585])]"
     },
     "execution_count": 118,
     "metadata": {},
     "output_type": "execute_result"
    }
   ],
   "source": [
    "lengths=np.max(np.stack([fronts[i][marker_frames[i][1:4]] for i in range(e.macro_params.total_trials)]), axis=0)\n",
    "means = [np.mean(np.stack([row_deg[i][marker_frames[i][frac],fronts[i][marker_frames[i][frac]]:fronts[i][marker_frames[i][frac]]+e.macro_params.fiber_rows-1-lengths[frac-1]] for i in range(e.macro_params.total_trials)]), axis=0) for frac in [1,2,3]]"
   ],
   "metadata": {
    "collapsed": false
   },
   "id": "f7d8f02746df4e10",
   "execution_count": 118
  },
  {
   "cell_type": "code",
   "outputs": [
    {
     "data": {
      "text/plain": "<Figure size 640x480 with 1 Axes>",
      "image/png": "[encoded data removed]"
     },
     "metadata": {},
     "output_type": "display_data"
    }
   ],
   "source": [
    "lengths=np.max(np.stack([fronts[i][marker_frames[i][1:4]] for i in range(e.macro_params.total_trials)]), axis=0)\n",
    "means = [np.mean(np.stack([row_deg[i][marker_frames[i][frac],fronts[i][marker_frames[i][frac]]:fronts[i][marker_frames[i][frac]]+e.macro_params.fiber_rows-1-lengths[frac-1]] for i in range(e.macro_params.total_trials)]), axis=0) for frac in [1,2,3]]\n",
    "for i in [0,1,2]:\n",
    "    y = means[i]\n",
    "    x = [i*e.macro_params.grid_node_distance for i in range(y.size)]\n",
    "    plt.plot(x, y)"
   ],
   "metadata": {
    "collapsed": false,
    "ExecuteTime": {
     "end_time": "2024-01-26T22:57:04.511307500Z",
     "start_time": "2024-01-26T22:57:04.370274900Z"
    }
   },
   "id": "d916c9fedd293df4",
   "execution_count": 119
  },
  {
   "cell_type": "code",
   "execution_count": 19,
   "id": "a55af52c-b336-4f49-9606-ab9b797b26cf",
   "metadata": {
    "tags": [],
    "ExecuteTime": {
     "end_time": "2024-01-26T21:12:30.985731400Z",
     "start_time": "2024-01-26T21:12:30.930211700Z"
    }
   },
   "outputs": [
    {
     "data": {
      "text/plain": "Degradation Interval 20% to 80%                                            \\\nSimulation                    0     1     2     3     4     5     6     7   \nScenario                                                                    \nTK-L_10000                0.050 0.048 0.049 0.049 0.049 0.049 0.049 0.049   \nTK-L_555                  0.006 0.006 0.006 0.006 0.006 0.006 0.006 0.006   \nTN-D_5410                 0.016 0.016 0.016 0.016 0.016 0.016 0.016 0.016   \nTN-D_300                  0.001 0.001 0.001 0.001 0.001 0.001 0.001 0.001   \n\nDegradation Interval              ... 50% to 80%                          \\\nSimulation               8     9  ...          0     1     2     3     4   \nScenario                          ...                                      \nTK-L_10000           0.049 0.049  ...      0.049 0.046 0.047 0.047 0.046   \nTK-L_555             0.006 0.006  ...      0.006 0.006 0.006 0.006 0.006   \nTN-D_5410            0.016 0.016  ...      0.015 0.016 0.015 0.015 0.015   \nTN-D_300             0.001 0.001  ...      0.001 0.001 0.001 0.001 0.001   \n\nDegradation Interval                                \nSimulation               5     6     7     8     9  \nScenario                                            \nTK-L_10000           0.048 0.047 0.047 0.048 0.047  \nTK-L_555             0.006 0.006 0.006 0.006 0.006  \nTN-D_5410            0.015 0.015 0.015 0.015 0.015  \nTN-D_300             0.001 0.001 0.001 0.001 0.001  \n\n[4 rows x 30 columns]",
      "text/html": "<div>\n<style scoped>\n    .dataframe tbody tr th:only-of-type {\n        vertical-align: middle;\n    }\n\n    .dataframe tbody tr th {\n        vertical-align: top;\n    }\n\n    .dataframe thead tr th {\n        text-align: left;\n    }\n\n    .dataframe thead tr:last-of-type th {\n        text-align: right;\n    }\n</style>\n<table border=\"1\" class=\"dataframe\">\n  <thead>\n    <tr>\n      <th>Degradation Interval</th>\n      <th colspan=\"10\" halign=\"left\">20% to 80%</th>\n      <th>...</th>\n      <th colspan=\"10\" halign=\"left\">50% to 80%</th>\n    </tr>\n    <tr>\n      <th>Simulation</th>\n      <th>0</th>\n      <th>1</th>\n      <th>2</th>\n      <th>3</th>\n      <th>4</th>\n      <th>5</th>\n      <th>6</th>\n      <th>7</th>\n      <th>8</th>\n      <th>9</th>\n      <th>...</th>\n      <th>0</th>\n      <th>1</th>\n      <th>2</th>\n      <th>3</th>\n      <th>4</th>\n      <th>5</th>\n      <th>6</th>\n      <th>7</th>\n      <th>8</th>\n      <th>9</th>\n    </tr>\n    <tr>\n      <th>Scenario</th>\n      <th></th>\n      <th></th>\n      <th></th>\n      <th></th>\n      <th></th>\n      <th></th>\n      <th></th>\n      <th></th>\n      <th></th>\n      <th></th>\n      <th></th>\n      <th></th>\n      <th></th>\n      <th></th>\n      <th></th>\n      <th></th>\n      <th></th>\n      <th></th>\n      <th></th>\n      <th></th>\n      <th></th>\n    </tr>\n  </thead>\n  <tbody>\n    <tr>\n      <th>TK-L_10000</th>\n      <td>0.050</td>\n      <td>0.048</td>\n      <td>0.049</td>\n      <td>0.049</td>\n      <td>0.049</td>\n      <td>0.049</td>\n      <td>0.049</td>\n      <td>0.049</td>\n      <td>0.049</td>\n      <td>0.049</td>\n      <td>...</td>\n      <td>0.049</td>\n      <td>0.046</td>\n      <td>0.047</td>\n      <td>0.047</td>\n      <td>0.046</td>\n      <td>0.048</td>\n      <td>0.047</td>\n      <td>0.047</td>\n      <td>0.048</td>\n      <td>0.047</td>\n    </tr>\n    <tr>\n      <th>TK-L_555</th>\n      <td>0.006</td>\n      <td>0.006</td>\n      <td>0.006</td>\n      <td>0.006</td>\n      <td>0.006</td>\n      <td>0.006</td>\n      <td>0.006</td>\n      <td>0.006</td>\n      <td>0.006</td>\n      <td>0.006</td>\n      <td>...</td>\n      <td>0.006</td>\n      <td>0.006</td>\n      <td>0.006</td>\n      <td>0.006</td>\n      <td>0.006</td>\n      <td>0.006</td>\n      <td>0.006</td>\n      <td>0.006</td>\n      <td>0.006</td>\n      <td>0.006</td>\n    </tr>\n    <tr>\n      <th>TN-D_5410</th>\n      <td>0.016</td>\n      <td>0.016</td>\n      <td>0.016</td>\n      <td>0.016</td>\n      <td>0.016</td>\n      <td>0.016</td>\n      <td>0.016</td>\n      <td>0.016</td>\n      <td>0.016</td>\n      <td>0.016</td>\n      <td>...</td>\n      <td>0.015</td>\n      <td>0.016</td>\n      <td>0.015</td>\n      <td>0.015</td>\n      <td>0.015</td>\n      <td>0.015</td>\n      <td>0.015</td>\n      <td>0.015</td>\n      <td>0.015</td>\n      <td>0.015</td>\n    </tr>\n    <tr>\n      <th>TN-D_300</th>\n      <td>0.001</td>\n      <td>0.001</td>\n      <td>0.001</td>\n      <td>0.001</td>\n      <td>0.001</td>\n      <td>0.001</td>\n      <td>0.001</td>\n      <td>0.001</td>\n      <td>0.001</td>\n      <td>0.001</td>\n      <td>...</td>\n      <td>0.001</td>\n      <td>0.001</td>\n      <td>0.001</td>\n      <td>0.001</td>\n      <td>0.001</td>\n      <td>0.001</td>\n      <td>0.001</td>\n      <td>0.001</td>\n      <td>0.001</td>\n      <td>0.001</td>\n    </tr>\n  </tbody>\n</table>\n<p>4 rows × 30 columns</p>\n</div>"
     },
     "execution_count": 19,
     "metadata": {},
     "output_type": "execute_result"
    }
   ],
   "source": [
    "# print(mol_time_df.to_html())\n",
    "# print(\n",
    "#     mol_time_df[\n",
    "#         [\n",
    "#             \"Total Binds\",\n",
    "#             \"Macro Unbinds %\",\n",
    "#             \"Micro Unbinds %\",\n",
    "#             \"Dwell Time (min)\",\n",
    "#             \"Transit Time (min)\",\n",
    "#             \"Kinetic Unbound Time (min)\",\n",
    "#             \"Free Transit Time (min)\",\n",
    "#             \"Macro Unbound Time (min)\",\n",
    "#             \"Micro Unbound Time (min)\",\n",
    "#         ]\n",
    "#     ].to_markdown()\n",
    "# )\n",
    "# parameters_df.T\n",
    "slopes_df"
   ]
  },
  {
   "cell_type": "code",
   "execution_count": 21,
   "id": "05af6fe1",
   "metadata": {
    "collapsed": false,
    "ExecuteTime": {
     "end_time": "2024-01-26T21:13:03.620462300Z",
     "start_time": "2024-01-26T21:13:03.524448100Z"
    }
   },
   "outputs": [
    {
     "data": {
      "text/plain": "           Front Velocity (microns/min) Degradation rate (%/min)  \\\nScenario                                                           \nTK-L_10000                3.397 ± 0.244            4.747 ± 0.042   \nTK-L_555                  0.482 ± 0.102            0.583 ± 0.007   \nTN-D_5410                 1.226 ± 0.081            1.576 ± 0.006   \nTN-D_300                  0.087 ± 0.016            0.099 ± 0.000   \n\n           Lysis lag time (min) Time to full clot degradation (min)  \\\nScenario                                                              \nTK-L_10000        2.017 ± 0.090                      27.500 ± 0.269   \nTK-L_555          2.333 ± 0.129                     187.500 ± 1.751   \nTN-D_5410         0.683 ± 0.050                      69.583 ± 0.250   \nTN-D_300          1.833 ± 0.500                   1,036.167 ± 3.804   \n\n           Percent of molecules that reached the back row  \\\nScenario                                                    \nTK-L_10000                                 98.229 ± 0.147   \nTK-L_555                                  100.000 ± 0.000   \nTN-D_5410                                  99.963 ± 0.017   \nTN-D_300                                  100.000 ± 0.000   \n\n           First passage time (min)          Total (Un)Binds  \\\nScenario                                                       \nTK-L_10000           17.038 ± 7.385  481,990.200 ± 2,884.766   \nTK-L_555            27.260 ± 23.577  199,133.400 ± 1,940.707   \nTN-D_5410           23.192 ± 16.503  714,684.500 ± 1,582.624   \nTN-D_300            25.550 ± 22.351  617,318.900 ± 1,254.670   \n\n           Forced Unbinds (Microscale) Forced Unbinds (Macroscale)  \nScenario                                                            \nTK-L_10000        28,770.800 ± 175.252        87,740.500 ± 685.768  \nTK-L_555          14,178.100 ± 164.410          4,161.900 ± 77.760  \nTN-D_5410         56,072.800 ± 249.731        56,806.700 ± 707.148  \nTN-D_300          51,933.200 ± 257.093         7,476.300 ± 102.448  ",
      "text/html": "<div>\n<style scoped>\n    .dataframe tbody tr th:only-of-type {\n        vertical-align: middle;\n    }\n\n    .dataframe tbody tr th {\n        vertical-align: top;\n    }\n\n    .dataframe thead th {\n        text-align: right;\n    }\n</style>\n<table border=\"1\" class=\"dataframe\">\n  <thead>\n    <tr style=\"text-align: right;\">\n      <th></th>\n      <th>Front Velocity (microns/min)</th>\n      <th>Degradation rate (%/min)</th>\n      <th>Lysis lag time (min)</th>\n      <th>Time to full clot degradation (min)</th>\n      <th>Percent of molecules that reached the back row</th>\n      <th>First passage time (min)</th>\n      <th>Total (Un)Binds</th>\n      <th>Forced Unbinds (Microscale)</th>\n      <th>Forced Unbinds (Macroscale)</th>\n    </tr>\n    <tr>\n      <th>Scenario</th>\n      <th></th>\n      <th></th>\n      <th></th>\n      <th></th>\n      <th></th>\n      <th></th>\n      <th></th>\n      <th></th>\n      <th></th>\n    </tr>\n  </thead>\n  <tbody>\n    <tr>\n      <th>TK-L_10000</th>\n      <td>3.397 ± 0.244</td>\n      <td>4.747 ± 0.042</td>\n      <td>2.017 ± 0.090</td>\n      <td>27.500 ± 0.269</td>\n      <td>98.229 ± 0.147</td>\n      <td>17.038 ± 7.385</td>\n      <td>481,990.200 ± 2,884.766</td>\n      <td>28,770.800 ± 175.252</td>\n      <td>87,740.500 ± 685.768</td>\n    </tr>\n    <tr>\n      <th>TK-L_555</th>\n      <td>0.482 ± 0.102</td>\n      <td>0.583 ± 0.007</td>\n      <td>2.333 ± 0.129</td>\n      <td>187.500 ± 1.751</td>\n      <td>100.000 ± 0.000</td>\n      <td>27.260 ± 23.577</td>\n      <td>199,133.400 ± 1,940.707</td>\n      <td>14,178.100 ± 164.410</td>\n      <td>4,161.900 ± 77.760</td>\n    </tr>\n    <tr>\n      <th>TN-D_5410</th>\n      <td>1.226 ± 0.081</td>\n      <td>1.576 ± 0.006</td>\n      <td>0.683 ± 0.050</td>\n      <td>69.583 ± 0.250</td>\n      <td>99.963 ± 0.017</td>\n      <td>23.192 ± 16.503</td>\n      <td>714,684.500 ± 1,582.624</td>\n      <td>56,072.800 ± 249.731</td>\n      <td>56,806.700 ± 707.148</td>\n    </tr>\n    <tr>\n      <th>TN-D_300</th>\n      <td>0.087 ± 0.016</td>\n      <td>0.099 ± 0.000</td>\n      <td>1.833 ± 0.500</td>\n      <td>1,036.167 ± 3.804</td>\n      <td>100.000 ± 0.000</td>\n      <td>25.550 ± 22.351</td>\n      <td>617,318.900 ± 1,254.670</td>\n      <td>51,933.200 ± 257.093</td>\n      <td>7,476.300 ± 102.448</td>\n    </tr>\n  </tbody>\n</table>\n</div>"
     },
     "execution_count": 21,
     "metadata": {},
     "output_type": "execute_result"
    }
   ],
   "source": [
    "index = pd.Index(runs[\"scenario\"], name=\"Scenario\")\n",
    "metrics = [\n",
    "            \"Front Velocity (microns/min)\",\n",
    "            \"Degradation rate (%/min)\",\n",
    "            \"Lysis lag time (min)\",\n",
    "            \"Time to full clot degradation (min)\",\n",
    "            \"Percent of molecules that reached the back row\",\n",
    "            \"First passage time (min)\",\n",
    "            \"Total (Un)Binds\",\n",
    "            \"Forced Unbinds (Microscale)\",\n",
    "            \"Forced Unbinds (Macroscale)\",\n",
    "    ]\n",
    "columns = pd.Index(metrics, name=\"Metrics\")\n",
    "summary_df = pd.DataFrame(index=index, columns=metrics)\n",
    "for metric in metrics:\n",
    "    summary_df[metric] = results[metric].apply(lambda x: f\"{x['Mean']:,.3f} \\u00B1 {x['Standard Deviation']:,.3f}\", axis=1)\n",
    "#print(summary_df.to_markdown())\n",
    "summary_df"
   ]
  },
  {
   "cell_type": "code",
   "execution_count": 139,
   "id": "56be5e5e-f37d-42d3-bab7-67391d059c38",
   "metadata": {
    "tags": [],
    "ExecuteTime": {
     "end_time": "2024-01-26T23:53:48.270838900Z",
     "start_time": "2024-01-26T23:53:48.184828Z"
    }
   },
   "outputs": [],
   "source": [
    "scenario_grid = [\n",
    "    [\"TK-L_10000\", \"TK-L_555\"],\n",
    "    [\"TN-D_5410\", \"TN-D_300\"],\n",
    "]\n",
    "scenario_grid_T = [\n",
    "    [\"TK-L_10000\", \"TN-D_5410\"],\n",
    "    [\"TK-L_555\", \"TN-D_300\"],\n",
    "]\n",
    "groupings = [\n",
    "    \"Fixed Concentration - High\",\n",
    "    \"Fixed Ratio\",\n",
    "    \"Fixed Concentration - Low\",\n",
    "]\n",
    "colors = {\n",
    "    \"TK-L_10000\": \"xkcd:red\", \n",
    "    \"TK-L_555\": \"xkcd:orange\",\n",
    "    \"TN-D_5410\": \"xkcd:navy blue\", \n",
    "    \"TN-D_300\": \"xkcd:cyan\",\n",
    "}"
   ]
  },
  {
   "cell_type": "raw",
   "id": "6f1f2e1b-dd79-4210-b417-2e88cd791c19",
   "metadata": {
    "tags": []
   },
   "source": [
    "e = lysis.util.Experiment(os.path.join(\"..\", \"..\", \"data\"), experiment_code=runs[0][\"exp_code\"])\n",
    "e.read_file()\n",
    "\n",
    "fig, axs = plt.subplots(nrows=1, ncols=3, sharex=True, sharey=True, figsize=(12, 6), constrained_layout=True)\n",
    "fig.suptitle(\"Molecule Transit Times (Median across all molecules across 10 independent simulations)\")\n",
    "axs[0].set_ylabel(\"Median Molecule Transit time (min)\")\n",
    "# axs[0, 0].set_ylim(1, 8.5)\n",
    "# axs[1, 0].set_ylabel(\"Standard deviation of pore size\\n (as a fraction of initial pore size)\")\n",
    "# axs[1, 0].set_ylim(0.5, 8.5)\n",
    "axs[0].set_title(\"Fixed Concentration\")\n",
    "axs[1].set_title(\"Fixed Ratio (High)\")\n",
    "axs[2].set_title(\"Fixed Ratio (Low)\")\n",
    "for i, row in enumerate(scenario_grid):\n",
    "    for j, scenario in enumerate(row):\n",
    "        axs[i].plot(\n",
    "            transit_time_data[scenario],\n",
    "            # pore_plot_data[scenario][1],\n",
    "            label=scenario,\n",
    "            color=colors[scenario],\n",
    "        )\n",
    "    # axs[0, i].legend(loc=\"upper left\")\n",
    "    axs[i].legend(loc=\"upper left\")\n",
    "    axs[i].set_xticks(\n",
    "        range(transit_time_data[scenario].shape[0]),\n",
    "        labels=[f\"{k:.0%} to {k+0.05:.0%}\" for k in np.arange(0.2, 0.79, 0.05)],\n",
    "        rotation=90,\n",
    "    )\n",
    "    axs[i].set_xlabel(\"Percent of fibers degraded\")\n",
    "fig.savefig(os.path.join(e.os_path, \"Median Transit Time.png\"), bbox_inches=\"tight\")"
   ]
  },
  {
   "cell_type": "code",
   "execution_count": null,
   "id": "59a7eaf1-cfb5-4ff9-9f33-49933592aaf5",
   "metadata": {
    "tags": [],
    "ExecuteTime": {
     "start_time": "2024-01-26T21:12:32.628251400Z"
    }
   },
   "outputs": [],
   "source": [
    "# print(mol_time_df.to_html())\n",
    "# print(\n",
    "#     mol_time_df[\n",
    "#         [\n",
    "#             # \"Total Binds\",\n",
    "#             # \"Macro Unbinds %\",\n",
    "#             # \"Micro Unbinds %\",\n",
    "#             \"Dwell Time (min)\",\n",
    "#             \"Transit Time (min)\",\n",
    "#             # \"Kinetic Transit Time (min)\",\n",
    "#             # \"Free Transit Time (min)\",\n",
    "#             # \"Macro-unbound Time (min)\",\n",
    "#             # \"Micro-unbound Time (min)\",\n",
    "#         ]\n",
    "#     ].to_markdown()\n",
    "# )\n",
    "print(pore_stat_df.to_markdown())"
   ]
  },
  {
   "cell_type": "markdown",
   "id": "a37463ad-fa56-4afc-aca9-c44246df8cb2",
   "metadata": {
    "jp-MarkdownHeadingCollapsed": true,
    "tags": []
   },
   "source": [
    "## Dwell/Transit time calculations"
   ]
  },
  {
   "cell_type": "markdown",
   "id": "fe4ceb18-35c1-4de4-ad61-673ddea22ccb",
   "metadata": {},
   "source": [
    "Generate move & pore vs time plots"
   ]
  },
  {
   "cell_type": "code",
   "execution_count": null,
   "id": "005ef2eb-8911-4b33-9b25-5bc56bed3ca0",
   "metadata": {
    "tags": [],
    "ExecuteTime": {
     "start_time": "2024-01-26T21:12:32.631252700Z"
    }
   },
   "outputs": [],
   "source": [
    "free_distance_data = {}\n",
    "all_distance_data = {}\n",
    "pore_data = {}\n",
    "time_data = {}\n",
    "for run in tqdm(runs):\n",
    "    # Select and load scenario\n",
    "    mech = mechanisms[mechanisms[\"descriptor\"] == run[\"mechanism\"]][0]\n",
    "    scen = scenarios[scenarios[\"descriptor\"] == run[\"scenario\"]][0]\n",
    "    e = lysis.util.Experiment(os.path.join(\"..\", \"..\", \"..\", \"data\"), experiment_code=run[\"exp_code\"])\n",
    "    # e = lysis.util.Experiment(\n",
    "    #     os.path.join(\"/\", \"home\", \"bpaynter\", \"Archive\", \"lysis_data\"), experiment_code=run[\"exp_code\"]\n",
    "    # )\n",
    "    e.read_file()\n",
    "    y_distance = np.arange(e.macro_params.rows - 1) * e.macro_params.grid_node_distance\n",
    "    file_code = out_file_code.format(scenario_code=run[\"scenario\"]) + \".dat\"\n",
    "\n",
    "    # Read data from data files\n",
    "    n_save, deg, tsave, mfpt, mol_location, mol_status = load_fortran_files(e, file_code)\n",
    "\n",
    "    # Process results\n",
    "    deg_fraction = find_degraded_fraction(e, deg, tsave)\n",
    "    # marker_frames = find_degradation_marker_frames(e, deg_fraction, degrade_percent_markers)\n",
    "    # marker_times = find_degradation_marker_times(e, marker_frames, tsave)\n",
    "\n",
    "    tmax = max(len(tsave[sim]) for sim in range(e.macro_params.total_trials))\n",
    "    time_data[scen[\"descriptor\"]] = [\n",
    "        tsave[s] for s in range(e.macro_params.total_trials) if tmax == len(tsave[s])\n",
    "    ][0]\n",
    "    lysis_data = np.array(\n",
    "        [\n",
    "            np.mean([deg_fraction[s][t] for s in range(e.macro_params.total_trials) if t < len(tsave[s])])\n",
    "            for t in range(tmax)\n",
    "        ]\n",
    "    )\n",
    "    marker_frames = find_degradation_marker_frames(e, [lysis_data], [0.0000000001, 1]).squeeze()\n",
    "\n",
    "    # Pore size\n",
    "    pores = get_pore_stats(e, deg, tsave, file_code, num_v_lines=0)\n",
    "\n",
    "    pore_data[scen[\"descriptor\"]] = np.array(\n",
    "        [\n",
    "            np.concatenate(\n",
    "                [pores[s][t] for s in range(e.macro_params.total_trials) if t < len(tsave[s])]\n",
    "            ).mean()\n",
    "            for t in range(tmax)\n",
    "        ]\n",
    "    )\n",
    "\n",
    "    # Molecule binding and diffusion\n",
    "    mol_bind_events = read_mol_bind_events(e, file_code)\n",
    "    # mol_bind_events = get_mol_events_in_interval(mol_bind_events, marker_times[:, 1], marker_times[:, 3])\n",
    "\n",
    "    move_distances = get_move_distances(e, mol_bind_events, file_code, move_function=all_movement)\n",
    "    bins = np.empty(move_distances.shape[0])\n",
    "    for sim in range(e.macro_params.total_trials):\n",
    "        bins[move_distances[:, 0] == sim] = np.digitize(\n",
    "            move_distances[move_distances[:, 0] == sim, 2], tsave[sim] + e.macro_params.save_interval / 2\n",
    "        )\n",
    "    all_distance_data[scen[\"descriptor\"]] = np.array(\n",
    "        [\n",
    "            move_distances[bins == t, -1].mean() if np.count_nonzero(bins == t) > 0 else np.nan\n",
    "            for t in range(tmax)\n",
    "        ]\n",
    "    )\n",
    "\n",
    "    move_distances = get_move_distances(e, mol_bind_events, file_code, move_function=free_movement)\n",
    "    bins = np.empty(move_distances.shape[0])\n",
    "    for sim in range(e.macro_params.total_trials):\n",
    "        bins[move_distances[:, 0] == sim] = np.digitize(\n",
    "            move_distances[move_distances[:, 0] == sim, 2], tsave[sim] + e.macro_params.save_interval / 2\n",
    "        )\n",
    "    free_distance_data[scen[\"descriptor\"]] = np.array(\n",
    "        [\n",
    "            move_distances[bins == t, -1].mean() if np.count_nonzero(bins == t) > 0 else np.nan\n",
    "            for t in range(tmax)\n",
    "        ]\n",
    "    )\n",
    "\n",
    "    all_distance_data[scen[\"descriptor\"]] = all_distance_data[scen[\"descriptor\"]][\n",
    "        marker_frames[0] : marker_frames[1]\n",
    "    ]\n",
    "    free_distance_data[scen[\"descriptor\"]] = free_distance_data[scen[\"descriptor\"]][\n",
    "        marker_frames[0] : marker_frames[1]\n",
    "    ]\n",
    "    pore_data[scen[\"descriptor\"]] = pore_data[scen[\"descriptor\"]][marker_frames[0] : marker_frames[1]]\n",
    "    time_data[scen[\"descriptor\"]] = time_data[scen[\"descriptor\"]][marker_frames[0] : marker_frames[1]]"
   ]
  },
  {
   "cell_type": "code",
   "execution_count": null,
   "id": "070a7e5e-7f92-4229-943e-451c68d7298e",
   "metadata": {
    "ExecuteTime": {
     "start_time": "2024-01-26T21:12:32.633254100Z"
    }
   },
   "outputs": [],
   "source": [
    "for run in runs:\n",
    "    # Select and load scenario\n",
    "    mech = mechanisms[mechanisms[\"descriptor\"] == run[\"mechanism\"]][0]\n",
    "    scen = scenarios[scenarios[\"descriptor\"] == run[\"scenario\"]][0]\n",
    "    e = lysis.util.Experiment(os.path.join(\"..\", \"..\", \"..\", \"data\"), experiment_code=run[\"exp_code\"])\n",
    "    e.read_file()\n",
    "    print(\n",
    "        f'{scen[\"descriptor\"]}: {free_distance_data[scen[\"descriptor\"]][0]:.2f} microns / {e.macro_params.pore_size:.3f} microns = {free_distance_data[scen[\"descriptor\"]][0]/e.macro_params.grid_node_distance:.3f}'\n",
    "    )"
   ]
  },
  {
   "cell_type": "code",
   "execution_count": null,
   "id": "8141a014-dc7e-47ba-80a7-1bffb7c39ce4",
   "metadata": {
    "tags": [],
    "ExecuteTime": {
     "start_time": "2024-01-26T21:12:32.635251Z"
    }
   },
   "outputs": [],
   "source": [
    "fig, axs = plt.subplots(\n",
    "    nrows=4,\n",
    "    ncols=5,\n",
    "    # sharex=True,\n",
    "    sharey=True,\n",
    "    figsize=(14, 7),\n",
    "    constrained_layout=True,\n",
    "    # width_ratios=[2, 1, 1, 1, 1],\n",
    ")\n",
    "for i, row in enumerate(scenario_grid):\n",
    "    for j, scenario in enumerate(row):\n",
    "        for r, c in [(i, j), (i, -1), (-1, j), (-1, -1)]:\n",
    "            axs[r, c].plot(\n",
    "                # time_data[scenario] / 60,\n",
    "                np.arange(0, 0.99999, 1 / (all_distance_data[scenario].shape[0])),\n",
    "                all_distance_data[scenario],\n",
    "                ls=\"--\",\n",
    "                color=colors[scenario],\n",
    "                label=scenario,\n",
    "            )\n",
    "            axs[r, c].plot(\n",
    "                # time_data[scenario] / 60,\n",
    "                np.arange(0, 0.99999, 1 / (free_distance_data[scenario].shape[0])),\n",
    "                free_distance_data[scenario],\n",
    "                ls=\"-.\",\n",
    "                color=colors[scenario],\n",
    "                label=scenario,\n",
    "            )\n",
    "            axs[r, c].plot(\n",
    "                # time_data[scenario] / 60,\n",
    "                np.arange(0, 0.99999, 1 / (pore_data[scenario].shape[0])),\n",
    "                pore_data[scenario],\n",
    "                ls=\":\",\n",
    "                color=colors[scenario],\n",
    "                label=scenario,\n",
    "            )\n",
    "        axs[i, j].set_title(scenario)\n",
    "        axs[i, j].set_xticks(\n",
    "            [0, 0.5, 1],\n",
    "            labels=[\n",
    "                f\"{time_data[scenario][k] / 60:.0f}\"\n",
    "                for k in [0, (time_data[scenario].shape[0] - 1) // 2, time_data[scenario].shape[0] - 1]\n",
    "            ],\n",
    "        )\n",
    "\n",
    "for i, title in enumerate(\n",
    "    [\"Fixed Concentration - High\", \"Fixed Ratio\", \"Fixed Concentration - Low\", \"All Scenarios\"]\n",
    "):\n",
    "    axs[i, -1].set_title(title)\n",
    "    if i % 2 == 0:\n",
    "        axs[i, 0].set_ylabel(\"Distance (microns)\")\n",
    "\n",
    "for j, title in enumerate(\n",
    "    [\n",
    "        \"Thin Fibers, Loose Mesh\",\n",
    "        \"Thick Fibers, Loose Mesh\",\n",
    "        \"Thin Fibers, Dense Mesh\",\n",
    "        \"Thick Fibers, Dense Mesh\",\n",
    "        \"All Scenarios\",\n",
    "    ]\n",
    "):\n",
    "    axs[-1, j].set_title(title)\n",
    "    axs[-1, j].set_xlabel(\"Simulation Time Elapsed (min)\")\n",
    "\n",
    "fig.suptitle(f\"Comparison of Mean tPA Diffusion Distance to Mean Pore Size.\")\n",
    "all_distance_legend = mpl.lines.Line2D(\n",
    "    [], [], color=\"black\", ls=\"--\", label=\"Mean tPA diffusion distance between bindings (microns)\"\n",
    ")\n",
    "free_distance_legend = mpl.lines.Line2D(\n",
    "    [], [], color=\"black\", ls=\"-.\", label=\"Mean tPA diffusion distance while unbound (microns)\"\n",
    ")\n",
    "pore_legend = mpl.lines.Line2D([], [], color=\"black\", ls=\":\", label=\"Mean pore size (microns)\")\n",
    "fig.legend(\n",
    "    handles=[all_distance_legend, free_distance_legend, pore_legend],\n",
    "    bbox_to_anchor=(0.5, -0.05),\n",
    "    loc=\"lower center\",\n",
    "    ncols=3,\n",
    ")\n",
    "fig.savefig(\"tPA Diffusion vs Pore Size (time).png\", bbox_inches=\"tight\")\n",
    "pass"
   ]
  },
  {
   "cell_type": "markdown",
   "id": "568d5eab-53a9-43aa-a109-65fe2e722ca2",
   "metadata": {},
   "source": [
    "Generate move & pore vs degradation plots"
   ]
  },
  {
   "cell_type": "code",
   "execution_count": null,
   "id": "308b0d9e-82b9-42fe-bbda-56c534057736",
   "metadata": {
    "tags": [],
    "ExecuteTime": {
     "start_time": "2024-01-26T21:12:32.637251700Z"
    }
   },
   "outputs": [],
   "source": [
    "all_distance_mean = {}\n",
    "free_distance_mean = {}\n",
    "pore_mean = {}\n",
    "for run in tqdm(runs):\n",
    "    # Select and load scenario\n",
    "    mech = mechanisms[mechanisms[\"descriptor\"] == run[\"mechanism\"]][0]\n",
    "    scen = scenarios[scenarios[\"descriptor\"] == run[\"scenario\"]][0]\n",
    "    e = lysis.util.Experiment(os.path.join(\"..\", \"..\", \"..\", \"data\"), experiment_code=run[\"exp_code\"])\n",
    "    # e = lysis.util.Experiment(\n",
    "    #     os.path.join(\"/\", \"home\", \"bpaynter\", \"Archive\", \"lysis_data\"), experiment_code=run[\"exp_code\"]\n",
    "    # )\n",
    "    e.read_file()\n",
    "    y_distance = np.arange(e.macro_params.rows - 1) * e.macro_params.grid_node_distance\n",
    "    file_code = out_file_code.format(scenario_code=run[\"scenario\"]) + \".dat\"\n",
    "\n",
    "    # Read data from data files\n",
    "    n_save, deg, tsave, mfpt, mol_location, mol_status = load_fortran_files(e, file_code)\n",
    "\n",
    "    # Process results\n",
    "    deg_fraction = find_degraded_fraction(e, deg, tsave)\n",
    "    marker_frames = find_degradation_marker_frames(e, deg_fraction, np.arange(0, 1.05, 0.1))\n",
    "    marker_times = find_degradation_marker_times(e, marker_frames, tsave)\n",
    "\n",
    "    pores = get_pore_stats(e, deg, tsave, file_code, num_v_lines=0)\n",
    "\n",
    "    mol_bind_events = read_mol_bind_events(e, file_code)\n",
    "    # mol_bind_events = get_mol_events_in_interval(mol_bind_events, marker_times[:, 1], marker_times[:, 3])\n",
    "\n",
    "    move_distances = get_move_distances(e, mol_bind_events, file_code, move_function=all_movement)\n",
    "    bins = np.empty(move_distances.shape[0])\n",
    "    for sim in range(e.macro_params.total_trials):\n",
    "        bins[move_distances[:, 0] == sim] = np.digitize(\n",
    "            move_distances[move_distances[:, 0] == sim, 2] / 60, marker_times[sim]\n",
    "        )\n",
    "    all_distance_mean[scen[\"descriptor\"]] = np.array(\n",
    "        [move_distances[bins == t + 1, -1].mean() for t in range(len(marker_times[0]) - 1)]\n",
    "    )\n",
    "\n",
    "    move_distances = get_move_distances(e, mol_bind_events, file_code, move_function=free_movement)\n",
    "    bins = np.empty(move_distances.shape[0])\n",
    "    for sim in range(e.macro_params.total_trials):\n",
    "        bins[move_distances[:, 0] == sim] = np.digitize(\n",
    "            move_distances[move_distances[:, 0] == sim, 2] / 60, marker_times[sim]\n",
    "        )\n",
    "    free_distance_mean[scen[\"descriptor\"]] = np.array(\n",
    "        [move_distances[bins == t + 1, -1].mean() for t in range(len(marker_times[0]) - 1)]\n",
    "    )\n",
    "\n",
    "    pore_mean[scen[\"descriptor\"]] = np.array(\n",
    "        [\n",
    "            np.concatenate(\n",
    "                [pores[sim][marker_frames[sim][t]] for sim in range(e.macro_params.total_trials)]\n",
    "            ).mean()\n",
    "            for t in range(len(marker_frames[0]))\n",
    "        ]\n",
    "    )"
   ]
  },
  {
   "cell_type": "code",
   "execution_count": null,
   "id": "0d3e18d3-ec60-4712-b53d-867f9c9ed79c",
   "metadata": {
    "ExecuteTime": {
     "start_time": "2024-01-26T21:12:32.639250700Z"
    }
   },
   "outputs": [],
   "source": [
    "fig, axs = plt.subplots(\n",
    "    nrows=4,\n",
    "    ncols=5,\n",
    "    sharex=True,\n",
    "    sharey=True,\n",
    "    figsize=(14, 7),\n",
    "    constrained_layout=True,\n",
    "    # width_ratios=[2, 1, 1, 1, 1],\n",
    ")\n",
    "for i, row in enumerate(scenario_grid):\n",
    "    for j, scenario in enumerate(row):\n",
    "        for r, c in [(i, j), (i, -1), (-1, j), (-1, -1)]:\n",
    "            axs[r, c].plot(all_distance_mean[scenario][2:9], ls=\"--\", color=colors[scenario], label=scenario)\n",
    "            axs[r, c].plot(free_distance_mean[scenario][2:9], ls=\"-.\", color=colors[scenario], label=scenario)\n",
    "            axs[r, c].plot(pore_mean[scenario][2:9], ls=\":\", color=colors[scenario], label=scenario)\n",
    "            axs[r, c].set_xticks(\n",
    "                range(0, 7, 3),\n",
    "                labels=[f\"{i:.0%}\" for i in np.arange(0.2, 0.9, 0.3)],\n",
    "            )\n",
    "        # axs[i, j].tick_params(labelrotation=90)\n",
    "        axs[i, j].set_title(scenario)\n",
    "\n",
    "for i, title in enumerate(\n",
    "    [\"Fixed Concentration - High\", \"Fixed Ratio\", \"Fixed Concentration - Low\", \"All Scenarios\"]\n",
    "):\n",
    "    axs[i, -1].set_title(title)\n",
    "    if i % 2 == 0:\n",
    "        axs[i, 0].set_ylabel(\"Distance (microns)\")\n",
    "\n",
    "for j, title in enumerate(\n",
    "    [\n",
    "        \"Thin Fibers, Loose Mesh\",\n",
    "        \"Thick Fibers, Loose Mesh\",\n",
    "        \"Thin Fibers, Dense Mesh\",\n",
    "        \"Thick Fibers, Dense Mesh\",\n",
    "        \"All Scenarios\",\n",
    "    ]\n",
    "):\n",
    "    axs[-1, j].set_title(title)\n",
    "    axs[-1, j].set_xlabel(\"Percent of fibers degraded\")\n",
    "\n",
    "fig.suptitle(f\"Comparison of Mean tPA Diffusion Distance to Mean Pore Size at x% clot lysis.\")\n",
    "all_distance_legend = mpl.lines.Line2D(\n",
    "    [], [], color=\"black\", ls=\"--\", label=\"Mean tPA diffusion distance between bindings (microns)\"\n",
    ")\n",
    "free_distance_legend = mpl.lines.Line2D(\n",
    "    [], [], color=\"black\", ls=\"-.\", label=\"Mean tPA diffusion distance while unbound (microns)\"\n",
    ")\n",
    "pore_legend = mpl.lines.Line2D([], [], color=\"black\", ls=\":\", label=\"Mean pore size (microns)\")\n",
    "fig.legend(\n",
    "    handles=[all_distance_legend, free_distance_legend, pore_legend],\n",
    "    bbox_to_anchor=(0.5, -0.05),\n",
    "    loc=\"lower center\",\n",
    "    ncols=3,\n",
    ")\n",
    "fig.savefig(\"tPA Diffusion vs Pore Size (deg).png\", bbox_inches=\"tight\")\n",
    "pass"
   ]
  },
  {
   "cell_type": "code",
   "execution_count": null,
   "id": "3066b8ba-69c2-4bc6-a077-b0cca13fba97",
   "metadata": {
    "tags": [],
    "ExecuteTime": {
     "start_time": "2024-01-26T21:12:32.641751200Z"
    }
   },
   "outputs": [],
   "source": [
    "fig, axs = plt.subplots(\n",
    "    nrows=4,\n",
    "    ncols=5,\n",
    "    sharex=True,\n",
    "    # sharey=True,\n",
    "    figsize=(14, 7),\n",
    "    constrained_layout=True,\n",
    "    # width_ratios=[2, 1, 1, 1, 1],\n",
    ")\n",
    "for i, row in enumerate(scenario_grid):\n",
    "    for j, scenario in enumerate(row):\n",
    "        for r, c in [(i, j), (i, -1), (-1, j), (-1, -1)]:\n",
    "            axs[r, c].plot(\n",
    "                all_distance_mean[scenario][2:9] / pore_mean[scenario][2:9],\n",
    "                ls=\"--\",\n",
    "                color=colors[scenario],\n",
    "                label=scenario,\n",
    "            )\n",
    "            axs[r, c].plot(\n",
    "                free_distance_mean[scenario][2:9] / pore_mean[scenario][2:9],\n",
    "                ls=\"-.\",\n",
    "                color=colors[scenario],\n",
    "                label=scenario,\n",
    "            )\n",
    "            axs[i, j].set_xticks(\n",
    "                range(0, 7, 3),\n",
    "                labels=[f\"{i:.0%}\" for i in np.arange(0.2, 0.9, 0.3)],\n",
    "            )\n",
    "        axs[i, j].set_title(scenario)\n",
    "\n",
    "for i, title in enumerate(\n",
    "    [\"Fixed Concentration - High\", \"Fixed Ratio\", \"Fixed Concentration - Low\", \"All Scenarios\"]\n",
    "):\n",
    "    axs[i, -1].set_title(title)\n",
    "    if i % 3 == 2:\n",
    "        axs[i, 0].set_ylabel(\"Distance (in multiples of mean pore size)\")\n",
    "\n",
    "for j, title in enumerate(\n",
    "    [\n",
    "        \"Thin Fibers, Loose Mesh\",\n",
    "        \"Thick Fibers, Loose Mesh\",\n",
    "        \"Thin Fibers, Dense Mesh\",\n",
    "        \"Thick Fibers, Dense Mesh\",\n",
    "        \"All Scenarios\",\n",
    "    ]\n",
    "):\n",
    "    axs[-1, j].set_title(title)\n",
    "    axs[-1, j].set_xlabel(\"Percent of fibers degraded\")\n",
    "\n",
    "\n",
    "fig.suptitle(f\"Mean tPA Diffusion Distance normalized to Mean Pore Size at x% clot lysis.\")\n",
    "all_distance_legend = mpl.lines.Line2D(\n",
    "    [], [], color=\"black\", ls=\"--\", label=\"Mean tPA diffusion distance between bindings (microns)\"\n",
    ")\n",
    "free_distance_legend = mpl.lines.Line2D(\n",
    "    [], [], color=\"black\", ls=\"-.\", label=\"Mean tPA diffusion distance while unbound (microns)\"\n",
    ")\n",
    "fig.legend(\n",
    "    handles=[all_distance_legend, free_distance_legend],\n",
    "    bbox_to_anchor=(0.5, -0.05),\n",
    "    loc=\"lower center\",\n",
    "    ncols=2,\n",
    ")\n",
    "fig.savefig(\"tPA Diffusion in Pore Lengths (deg).png\", bbox_inches=\"tight\")\n",
    "pass"
   ]
  },
  {
   "cell_type": "markdown",
   "id": "4b827e05-61b1-4b98-b52d-48e4f38e89d7",
   "metadata": {},
   "source": [
    "Generate move type breakdown vs degradation plots"
   ]
  },
  {
   "cell_type": "code",
   "execution_count": null,
   "id": "ee6e21a8-8407-4261-ad26-d45aed8bc3d0",
   "metadata": {
    "tags": [],
    "ExecuteTime": {
     "start_time": "2024-01-26T21:12:32.644251800Z"
    }
   },
   "outputs": [],
   "source": [
    "macro_distance_mean = {}\n",
    "micro_distance_mean = {}\n",
    "free_distance_mean = {}\n",
    "pore_mean = {}\n",
    "for run in tqdm(runs):\n",
    "    # Select and load scenario\n",
    "    mech = mechanisms[mechanisms[\"descriptor\"] == run[\"mechanism\"]][0]\n",
    "    scen = scenarios[scenarios[\"descriptor\"] == run[\"scenario\"]][0]\n",
    "    e = lysis.util.Experiment(os.path.join(\"..\", \"..\", \"..\", \"data\"), experiment_code=run[\"exp_code\"])\n",
    "    # e = lysis.util.Experiment(\n",
    "    #     os.path.join(\"/\", \"home\", \"bpaynter\", \"Archive\", \"lysis_data\"), experiment_code=run[\"exp_code\"]\n",
    "    # )\n",
    "    e.read_file()\n",
    "    y_distance = np.arange(e.macro_params.rows - 1) * e.macro_params.grid_node_distance\n",
    "    file_code = out_file_code.format(scenario_code=run[\"scenario\"]) + \".dat\"\n",
    "\n",
    "    # Read data from data files\n",
    "    n_save, deg, tsave, mfpt, mol_location, mol_status = load_fortran_files(e, file_code)\n",
    "\n",
    "    # Process results\n",
    "    deg_fraction = find_degraded_fraction(e, deg, tsave)\n",
    "    marker_frames = find_degradation_marker_frames(e, deg_fraction, np.arange(0, 1.05, 0.1))\n",
    "    marker_times = find_degradation_marker_times(e, marker_frames, tsave)\n",
    "\n",
    "    pores = get_pore_stats(e, deg, tsave, file_code, num_v_lines=0)\n",
    "\n",
    "    mol_bind_events = read_mol_bind_events(e, file_code)\n",
    "    # mol_bind_events = get_mol_events_in_interval(mol_bind_events, marker_times[:, 1], marker_times[:, 3])\n",
    "\n",
    "    move_distances = get_move_distances(e, mol_bind_events, file_code, move_function=macro_movement)\n",
    "    bins = np.empty(move_distances.shape[0])\n",
    "    for sim in range(e.macro_params.total_trials):\n",
    "        bins[move_distances[:, 0] == sim] = np.digitize(\n",
    "            move_distances[move_distances[:, 0] == sim, 2] / 60, marker_times[sim]\n",
    "        )\n",
    "    macro_distance_mean[scen[\"descriptor\"]] = np.array(\n",
    "        [move_distances[bins == t + 1, -1].mean() for t in range(len(marker_times[0]) - 1)]\n",
    "    )\n",
    "\n",
    "    move_distances = get_move_distances(e, mol_bind_events, file_code, move_function=micro_movement)\n",
    "    bins = np.empty(move_distances.shape[0])\n",
    "    for sim in range(e.macro_params.total_trials):\n",
    "        bins[move_distances[:, 0] == sim] = np.digitize(\n",
    "            move_distances[move_distances[:, 0] == sim, 2] / 60, marker_times[sim]\n",
    "        )\n",
    "    micro_distance_mean[scen[\"descriptor\"]] = np.array(\n",
    "        [move_distances[bins == t + 1, -1].mean() for t in range(len(marker_times[0]) - 1)]\n",
    "    )\n",
    "\n",
    "    move_distances = get_move_distances(e, mol_bind_events, file_code, move_function=free_movement)\n",
    "    bins = np.empty(move_distances.shape[0])\n",
    "    for sim in range(e.macro_params.total_trials):\n",
    "        bins[move_distances[:, 0] == sim] = np.digitize(\n",
    "            move_distances[move_distances[:, 0] == sim, 2] / 60, marker_times[sim]\n",
    "        )\n",
    "    free_distance_mean[scen[\"descriptor\"]] = np.array(\n",
    "        [move_distances[bins == t + 1, -1].mean() for t in range(len(marker_times[0]) - 1)]\n",
    "    )\n",
    "\n",
    "    pore_mean[scen[\"descriptor\"]] = np.array(\n",
    "        [\n",
    "            np.concatenate(\n",
    "                [pores[sim][marker_frames[sim][t]] for sim in range(e.macro_params.total_trials)]\n",
    "            ).mean()\n",
    "            for t in range(len(marker_frames[0]))\n",
    "        ]\n",
    "    )"
   ]
  },
  {
   "cell_type": "code",
   "execution_count": null,
   "id": "760c3e61-8dea-429c-a589-4e17ef44e2a3",
   "metadata": {
    "ExecuteTime": {
     "start_time": "2024-01-26T21:12:32.646751400Z"
    }
   },
   "outputs": [],
   "source": [
    "fig, axs = plt.subplots(\n",
    "    nrows=3,\n",
    "    ncols=4,\n",
    "    sharex=True,\n",
    "    sharey=True,\n",
    "    figsize=(14, 7),\n",
    "    constrained_layout=True,\n",
    "    # width_ratios=[2, 1, 1, 1, 1],\n",
    ")\n",
    "for i, row in enumerate(scenario_grid):\n",
    "    for j, scenario in enumerate(row):\n",
    "        axs[i, j].stackplot(\n",
    "            np.arange(7),\n",
    "            free_distance_mean[scenario][2:9],\n",
    "            micro_distance_mean[scenario][2:9],\n",
    "            macro_distance_mean[scenario][2:9],\n",
    "            labels=[\n",
    "                \"Distance diffused while unbound (microns)\",\n",
    "                \"Distance diffused while bound to small FDP (microns)\",\n",
    "                \"Distance diffused while bound to large FDP (microns)\",\n",
    "            ],\n",
    "        )\n",
    "        axs[i, j].plot(pore_mean[scenario][2:9], ls=\":\", color=\"black\", label=\"Mean pore size (microns)\")\n",
    "        axs[i, j].set_xticks(\n",
    "            range(0, 7, 3),\n",
    "            labels=[f\"{i:.0%}\" for i in np.arange(0.2, 0.9, 0.3)],\n",
    "        )\n",
    "        # axs[i, j].tick_params(labelrotation=90)\n",
    "        axs[i, j].set_title(scenario)\n",
    "\n",
    "\n",
    "# axs[i, 0].set_ylabel(\"Distance (microns)\")\n",
    "# axs[-1, j].set_xlabel(\"Percent of fibers degraded\")\n",
    "\n",
    "fig.suptitle(f\"Comparison of Mean tPA Diffusion Distance to Mean Pore Size at x% clot lysis.\")\n",
    "pore_legend = mpl.lines.Line2D([], [], color=\"black\", ls=\":\", label=\"Mean pore size (microns)\")\n",
    "fig.legend(\n",
    "    *axs[0, 0].get_legend_handles_labels(),\n",
    "    # handles=[all_distance_legend, free_distance_legend, pore_legend],\n",
    "    bbox_to_anchor=(0.5, -0.05),\n",
    "    loc=\"lower center\",\n",
    "    ncols=4,\n",
    ")\n",
    "fig.savefig(\"tPA Diffusion by type vs Pore Size (deg).png\", bbox_inches=\"tight\")\n",
    "pass"
   ]
  },
  {
   "cell_type": "markdown",
   "id": "85b58a54-354b-42b0-9ca5-1878e0985cd6",
   "metadata": {},
   "source": [
    "### Scatterplots of individual molecules"
   ]
  },
  {
   "cell_type": "code",
   "execution_count": null,
   "id": "cf7d4317-9800-49c2-9785-75dc6c76088f",
   "metadata": {
    "tags": [],
    "ExecuteTime": {
     "start_time": "2024-01-26T21:12:32.648251700Z"
    }
   },
   "outputs": [],
   "source": [
    "fig, axs = plt.subplots(\n",
    "    nrows=4, ncols=1, sharex=False, sharey=False, figsize=(12, 12), constrained_layout=True\n",
    ")\n",
    "# ax.scatter(transit_times[0], transit_times[1], marker=\"o\", s=(72.0 / fig.dpi) ** 2, c=\"xkcd:red\")\n",
    "axs[0].scatter(\n",
    "    macro_unbound_times[0], macro_unbound_times[1], marker=\"o\", s=(72.0 / fig.dpi) ** 2, c=\"xkcd:green\"\n",
    ")\n",
    "axs[0].set_title(\"Macro-Unbinding\")\n",
    "axs[1].scatter(\n",
    "    micro_unbound_times[0], micro_unbound_times[1], marker=\"o\", s=(72.0 / fig.dpi) ** 2, c=\"xkcd:blue\"\n",
    ")\n",
    "axs[1].set_title(\"Micro-Unbinding\")\n",
    "axs[2].scatter(\n",
    "    kinetic_unbound_times[0], kinetic_unbound_times[1], marker=\"o\", s=(72.0 / fig.dpi) ** 2, c=\"xkcd:red\"\n",
    ")\n",
    "axs[2].set_title(\"Kinetic-Unbinding\")\n",
    "axs[3].scatter(\n",
    "    macro_unbound_times[0], macro_unbound_times[1], marker=\"o\", s=(72.0 / fig.dpi) ** 2, c=\"xkcd:green\"\n",
    ")\n",
    "axs[3].set_title(\"All Molecules\")\n",
    "axs[3].scatter(\n",
    "    micro_unbound_times[0], micro_unbound_times[1], marker=\"o\", s=(72.0 / fig.dpi) ** 2, c=\"xkcd:blue\"\n",
    ")\n",
    "axs[3].scatter(\n",
    "    kinetic_unbound_times[0], kinetic_unbound_times[1], marker=\"o\", s=(72.0 / fig.dpi) ** 2, c=\"xkcd:red\"\n",
    ")\n",
    "\n",
    "\n",
    "for i in range(4):\n",
    "    axs[i].set_ylabel(\"Molecule Transit Time (min)\")\n",
    "    axs[i].set_xticks(marker_times[0][1:], [\"20%\", \"50%\", \"80%\"])\n",
    "    axs[i].set_xlabel(\"Fraction of Fibers Degraded\")\n",
    "axs[0].axhline(1, color=(0, 0, 0))\n",
    "axs[1].set_ylim(-0.1, 1)\n",
    "# fig.suptitle(\"Time from unbinding to rebinding\")"
   ]
  },
  {
   "cell_type": "markdown",
   "source": [
    "## Plot degradation behind front"
   ],
   "metadata": {
    "collapsed": false
   },
   "id": "910235f0f0a07de1"
  },
  {
   "cell_type": "code",
   "outputs": [
    {
     "name": "stdout",
     "output_type": "stream",
     "text": [
      "2024-01-26-1000 TK-L_10000\n",
      "2024-01-26-1001 TK-L_555\n",
      "2024-01-26-1002 TN-D_5410\n",
      "2024-01-26-1003 TN-D_300\n"
     ]
    }
   ],
   "source": [
    "degradation_amount = {}\n",
    "degradation_distance = {}\n",
    "for i, run in enumerate(runs):\n",
    "    # Select and load scenario\n",
    "    mech = mechanisms[mechanisms[\"descriptor\"] == run[\"mechanism\"]][0]\n",
    "    scen = scenarios[scenarios[\"descriptor\"] == run[\"scenario\"]][0]\n",
    "    e = lysis.util.Experiment(os.path.join(\"..\", \"..\", \"..\", \"data\"), experiment_code=run[\"exp_code\"])\n",
    "    e.read_file()\n",
    "    y_distance = np.arange(e.macro_params.rows - 1) * e.macro_params.grid_node_distance\n",
    "    file_code = out_file_code.format(scenario_code=run[\"scenario\"]) + \".dat\"\n",
    "\n",
    "    print(run[\"exp_code\"], file_code[1:-4])\n",
    "\n",
    "    # Read data from data files\n",
    "    n_save, deg, tsave, mfpt, mol_location, mol_status = load_fortran_files(e, file_code)\n",
    "\n",
    "    # Process results\n",
    "    deg_fraction = find_degraded_fraction(e, deg, tsave)\n",
    "    marker_frames = find_degradation_marker_frames(e, deg_fraction, degrade_percent_markers)\n",
    "\n",
    "    row_deg = find_row_deg_fraction(e, deg, tsave)\n",
    "    fronts = find_front(e, row_deg)\n",
    "    \n",
    "    lengths=np.max(np.stack([fronts[i][marker_frames[i][1:4]] for i in range(e.macro_params.total_trials)]), axis=0)\n",
    "    degradation_amount[run[\"scenario\"]] = [np.mean(np.stack([row_deg[i][marker_frames[i][frac],fronts[i][marker_frames[i][frac]]:fronts[i][marker_frames[i][frac]]+e.macro_params.fiber_rows-1-lengths[frac-1]] for i in range(e.macro_params.total_trials)]), axis=0) for frac in [1,2,3]]\n",
    "    degradation_distance[run[\"scenario\"]] = [[i*e.macro_params.grid_node_distance for i in range(y.size)] for y in degradation_amount[run[\"scenario\"]]]"
   ],
   "metadata": {
    "collapsed": false,
    "ExecuteTime": {
     "end_time": "2024-01-26T23:12:36.153277700Z",
     "start_time": "2024-01-26T23:11:54.297968800Z"
    }
   },
   "id": "9857ba153361eb9c",
   "execution_count": 123
  },
  {
   "cell_type": "code",
   "outputs": [
    {
     "data": {
      "text/plain": "<Figure size 800x800 with 4 Axes>",
      "image/png": "[encoded data removed]"
     },
     "metadata": {},
     "output_type": "display_data"
    }
   ],
   "source": [
    "fig, axs = plt.subplots(\n",
    "    nrows=2, ncols=2, sharex=True, sharey=True, figsize=(8, 8), dpi=100, constrained_layout=True\n",
    ")\n",
    "labels = [\"20%\", \"50%\", \"80%\"]\n",
    "for i, row in enumerate(scenario_grid_T):\n",
    "    axs[1, i].set_xlabel(\"Distance from lysis front (microns)\")\n",
    "    axs[i, 0].set_ylabel(\"Fraction of fibers remaining\")\n",
    "    for j, scenario in enumerate(row):\n",
    "        axs[i, j].set_title(scenario)\n",
    "        for k in range(3):\n",
    "            axs[i, j].plot(degradation_distance[scenario][k], degradation_amount[scenario][k], label=labels[k]+\" total clot degraded\")\n",
    " \n",
    "fig.suptitle(f\"Remaining fibrin behind the lysis front.\")\n",
    "axs[0,0].legend(\n",
    "    bbox_to_anchor=(1, 0),\n",
    "    loc=\"lower right\",\n",
    "    ncols=1,\n",
    ")           \n",
    "fig.savefig(f\"degradation behind front.png\", bbox_inches=\"tight\")"
   ],
   "metadata": {
    "collapsed": false,
    "ExecuteTime": {
     "end_time": "2024-01-26T23:54:06.788238200Z",
     "start_time": "2024-01-26T23:54:03.020546300Z"
    }
   },
   "id": "5d4e606cb84e8237",
   "execution_count": 140
  },
  {
   "cell_type": "markdown",
   "id": "9330b53a",
   "metadata": {},
   "source": [
    "### Print state plots with front"
   ]
  },
  {
   "cell_type": "code",
   "execution_count": null,
   "id": "dc33b2a2",
   "metadata": {
    "collapsed": false,
    "ExecuteTime": {
     "start_time": "2024-01-26T21:12:32.650751400Z"
    }
   },
   "outputs": [],
   "source": [
    "fig, axs = plt.subplots(\n",
    "    nrows=3, ncols=4, sharex=False, sharey=False, figsize=(20, 20), dpi=100, constrained_layout=True\n",
    ")\n",
    "sim = 0\n",
    "frac = 0.50\n",
    "for i, run in enumerate(runs):\n",
    "    # Select and load scenario\n",
    "    mech = mechanisms[mechanisms[\"descriptor\"] == run[\"mechanism\"]][0]\n",
    "    scen = scenarios[scenarios[\"descriptor\"] == run[\"scenario\"]][0]\n",
    "    e = lysis.util.Experiment(os.path.join(\"..\", \"..\", \"..\", \"data\"), experiment_code=run[\"exp_code\"])\n",
    "    # e = lysis.util.Experiment(\n",
    "    #     os.path.join(\"/\", \"home\", \"bpaynter\", \"Archive\", \"lysis_data\"), experiment_code=run[\"exp_code\"]\n",
    "    # )\n",
    "    e.read_file()\n",
    "    y_distance = np.arange(e.macro_params.rows - 1) * e.macro_params.grid_node_distance\n",
    "    file_code = out_file_code.format(scenario_code=run[\"scenario\"]) + \".dat\"\n",
    "\n",
    "    print(run[\"exp_code\"], file_code[1:-4])\n",
    "\n",
    "    # Read data from data files\n",
    "    n_save, deg, tsave, mfpt, mol_location, mol_status = load_fortran_files(e, file_code)\n",
    "\n",
    "    # Process results\n",
    "    deg_fraction = find_degraded_fraction(e, deg, tsave)\n",
    "    marker_frames = find_degradation_marker_frames(e, deg_fraction, degrade_percent_markers)\n",
    "\n",
    "    row_deg = find_row_deg_fraction(e, deg, tsave)\n",
    "    fronts = [np.argmax(sim_row_deg >= frac, axis=1) for sim_row_deg in row_deg]\n",
    "    edge_index = get_edge_index(e)\n",
    "    x_f, y_f, x_m, y_m = animation_data(e, edge_index, mol_location)\n",
    "    #np.delete(marker_frames, -1, axis=-1)\n",
    "    for j, frame in enumerate(marker_frames[sim, :4]):\n",
    "        #axs[i, j] = fig.add_axes([0, 0, 1, 1])\n",
    "        axs[i, j].set_axis_off()\n",
    "        vmin = 0\n",
    "        vmax = e.macro_params.cols - 1\n",
    "\n",
    "        ydiff = e.macro_params.rows - e.macro_params.cols\n",
    "\n",
    "        axs[i, j].set_xlim(vmin - 0.25, vmax + 0.25)\n",
    "        axs[i, j].set_ylim(-vmax - ydiff - 0.25, -vmin + 0.25)\n",
    "        axs[i, j].set_aspect(\"equal\")\n",
    "        #fig.canvas.draw()\n",
    "        title = axs[i, j].annotate(\n",
    "            f\"Simulation time elapsed: {str(datetime.timedelta(seconds=tsave[sim][frame])).split('.')[0]}\",\n",
    "            (0, 0),\n",
    "            zorder=100,\n",
    "            va=\"top\",\n",
    "        )\n",
    "        s = (axs[i, j].get_window_extent().width / (vmax - vmin + 0.5) * 72 / (2 * fig.dpi)) ** 2\n",
    "        scatt_f = axs[i, j].scatter(\n",
    "            x_f,\n",
    "            y_f,\n",
    "            s=s,\n",
    "            marker=\"s\",\n",
    "            linewidths=0,\n",
    "            c=deg[sim][frame],\n",
    "            cmap=colormap_f,\n",
    "            vmin=e.macro_params.time_step,\n",
    "            vmax=tsave[sim][frame],\n",
    "        )\n",
    "        # scatt_m = axs[i, j].scatter(\n",
    "        #     x_m[sim][frame],\n",
    "        #     y_m[sim][frame],\n",
    "        #     s=s / 2.5,\n",
    "        #     marker=\"o\",\n",
    "        #     linewidths=0,\n",
    "        #     c=mol_status[sim][frame],\n",
    "        #     cmap=colormap_m,\n",
    "        #     norm=norm_m,\n",
    "        # )\n",
    "        front_line = axs[i, j].axhline(y=y_f[(e.macro_params.empty_rows+fronts[sim][frame])*e.macro_params.full_row], color=\"xkcd:hot pink\")\n",
    "\n",
    "fig.savefig(f\"degradation front {frac:.0%}.png\", bbox_inches=\"tight\")\n",
    "pass"
   ]
  },
  {
   "cell_type": "markdown",
   "id": "b0bef447-5cad-4e8e-b14c-67323ac215db",
   "metadata": {},
   "source": [
    "## Print tables of data"
   ]
  },
  {
   "cell_type": "code",
   "execution_count": 16,
   "id": "7ff7f58e-e76f-430f-be09-33cdabcfb703",
   "metadata": {
    "ExecuteTime": {
     "start_time": "2024-01-26T21:12:32.652752900Z"
    }
   },
   "outputs": [
    {
     "data": {
      "text/plain": "  0%|          | 0/4 [00:00<?, ?it/s]",
      "application/vnd.jupyter.widget-view+json": {
       "version_major": 2,
       "version_minor": 0,
       "model_id": "d710cf5018fe4bcda3e635df1fde5b19"
      }
     },
     "metadata": {},
     "output_type": "display_data"
    },
    {
     "name": "stdout",
     "output_type": "stream",
     "text": [
      "2024-01-27-1000 TK-L_10000  - Mean Simulation Processing Time: 0:21:09\n",
      "True\n",
      "2024-01-27-1001 TK-L_555  - Mean Simulation Processing Time: 0:03:41\n",
      "True\n",
      "2024-01-27-1002 TN-D_5410  - Mean Simulation Processing Time: 1:09:19\n"
     ]
    },
    {
     "ename": "KeyboardInterrupt",
     "evalue": "",
     "output_type": "error",
     "traceback": [
      "\u001B[1;31m---------------------------------------------------------------------------\u001B[0m",
      "\u001B[1;31mKeyboardInterrupt\u001B[0m                         Traceback (most recent call last)",
      "Cell \u001B[1;32mIn[16], line 40\u001B[0m\n\u001B[0;32m     38\u001B[0m e_old\u001B[38;5;241m.\u001B[39mread_file()\n\u001B[0;32m     39\u001B[0m old_data\u001B[38;5;241m=\u001B[39mlysis\u001B[38;5;241m.\u001B[39mdata_manage\u001B[38;5;241m.\u001B[39mread_data(e_old, file_code)\n\u001B[1;32m---> 40\u001B[0m \u001B[38;5;28mprint\u001B[39m(\u001B[43mdata\u001B[49m\u001B[43m \u001B[49m\u001B[38;5;241;43m==\u001B[39;49m\u001B[43m \u001B[49m\u001B[43mold_data\u001B[49m)\n\u001B[0;32m     42\u001B[0m \u001B[38;5;28;01mif\u001B[39;00m e\u001B[38;5;241m.\u001B[39mmacro_params\u001B[38;5;241m.\u001B[39mtotal_time \u001B[38;5;241m==\u001B[39m \u001B[38;5;241m0\u001B[39m:\n\u001B[0;32m     43\u001B[0m     parameters_df\u001B[38;5;241m.\u001B[39mloc[scen[\u001B[38;5;124m\"\u001B[39m\u001B[38;5;124mdescriptor\u001B[39m\u001B[38;5;124m\"\u001B[39m], \u001B[38;5;124m\"\u001B[39m\u001B[38;5;124mtotal_time\u001B[39m\u001B[38;5;124m\"\u001B[39m] \u001B[38;5;241m=\u001B[39m \u001B[38;5;28mmax\u001B[39m([i[\u001B[38;5;241m-\u001B[39m\u001B[38;5;241m1\u001B[39m] \u001B[38;5;28;01mfor\u001B[39;00m i \u001B[38;5;129;01min\u001B[39;00m data\u001B[38;5;241m.\u001B[39msave_t])\n",
      "File \u001B[1;32mC:\\Git\\UCO-OpResearch\\lysis\\src\\python\\lysis\\data_manage\\datapackage_fortran.py:49\u001B[0m, in \u001B[0;36mFortranData.__eq__\u001B[1;34m(self, other)\u001B[0m\n\u001B[0;32m     48\u001B[0m \u001B[38;5;28;01mdef\u001B[39;00m \u001B[38;5;21m__eq__\u001B[39m(\u001B[38;5;28mself\u001B[39m, other):\n\u001B[1;32m---> 49\u001B[0m     a \u001B[38;5;241m=\u001B[39m \u001B[43masdict\u001B[49m\u001B[43m(\u001B[49m\u001B[38;5;28;43mself\u001B[39;49m\u001B[43m)\u001B[49m\n\u001B[0;32m     50\u001B[0m     b \u001B[38;5;241m=\u001B[39m asdict(other)\n\u001B[0;32m     51\u001B[0m     \u001B[38;5;28;01mif\u001B[39;00m \u001B[38;5;28mlen\u001B[39m(a) \u001B[38;5;241m!=\u001B[39m \u001B[38;5;28mlen\u001B[39m(b):\n",
      "File \u001B[1;32m~\\AppData\\Local\\miniconda3\\envs\\lysis\\Lib\\dataclasses.py:1275\u001B[0m, in \u001B[0;36masdict\u001B[1;34m(obj, dict_factory)\u001B[0m\n\u001B[0;32m   1273\u001B[0m \u001B[38;5;28;01mif\u001B[39;00m \u001B[38;5;129;01mnot\u001B[39;00m _is_dataclass_instance(obj):\n\u001B[0;32m   1274\u001B[0m     \u001B[38;5;28;01mraise\u001B[39;00m \u001B[38;5;167;01mTypeError\u001B[39;00m(\u001B[38;5;124m\"\u001B[39m\u001B[38;5;124masdict() should be called on dataclass instances\u001B[39m\u001B[38;5;124m\"\u001B[39m)\n\u001B[1;32m-> 1275\u001B[0m \u001B[38;5;28;01mreturn\u001B[39;00m \u001B[43m_asdict_inner\u001B[49m\u001B[43m(\u001B[49m\u001B[43mobj\u001B[49m\u001B[43m,\u001B[49m\u001B[43m \u001B[49m\u001B[43mdict_factory\u001B[49m\u001B[43m)\u001B[49m\n",
      "File \u001B[1;32m~\\AppData\\Local\\miniconda3\\envs\\lysis\\Lib\\dataclasses.py:1282\u001B[0m, in \u001B[0;36m_asdict_inner\u001B[1;34m(obj, dict_factory)\u001B[0m\n\u001B[0;32m   1280\u001B[0m result \u001B[38;5;241m=\u001B[39m []\n\u001B[0;32m   1281\u001B[0m \u001B[38;5;28;01mfor\u001B[39;00m f \u001B[38;5;129;01min\u001B[39;00m fields(obj):\n\u001B[1;32m-> 1282\u001B[0m     value \u001B[38;5;241m=\u001B[39m \u001B[43m_asdict_inner\u001B[49m\u001B[43m(\u001B[49m\u001B[38;5;28;43mgetattr\u001B[39;49m\u001B[43m(\u001B[49m\u001B[43mobj\u001B[49m\u001B[43m,\u001B[49m\u001B[43m \u001B[49m\u001B[43mf\u001B[49m\u001B[38;5;241;43m.\u001B[39;49m\u001B[43mname\u001B[49m\u001B[43m)\u001B[49m\u001B[43m,\u001B[49m\u001B[43m \u001B[49m\u001B[43mdict_factory\u001B[49m\u001B[43m)\u001B[49m\n\u001B[0;32m   1283\u001B[0m     result\u001B[38;5;241m.\u001B[39mappend((f\u001B[38;5;241m.\u001B[39mname, value))\n\u001B[0;32m   1284\u001B[0m \u001B[38;5;28;01mreturn\u001B[39;00m dict_factory(result)\n",
      "File \u001B[1;32m~\\AppData\\Local\\miniconda3\\envs\\lysis\\Lib\\dataclasses.py:1310\u001B[0m, in \u001B[0;36m_asdict_inner\u001B[1;34m(obj, dict_factory)\u001B[0m\n\u001B[0;32m   1305\u001B[0m     \u001B[38;5;28;01mreturn\u001B[39;00m \u001B[38;5;28mtype\u001B[39m(obj)(\u001B[38;5;241m*\u001B[39m[_asdict_inner(v, dict_factory) \u001B[38;5;28;01mfor\u001B[39;00m v \u001B[38;5;129;01min\u001B[39;00m obj])\n\u001B[0;32m   1306\u001B[0m \u001B[38;5;28;01melif\u001B[39;00m \u001B[38;5;28misinstance\u001B[39m(obj, (\u001B[38;5;28mlist\u001B[39m, \u001B[38;5;28mtuple\u001B[39m)):\n\u001B[0;32m   1307\u001B[0m     \u001B[38;5;66;03m# Assume we can create an object of this type by passing in a\u001B[39;00m\n\u001B[0;32m   1308\u001B[0m     \u001B[38;5;66;03m# generator (which is not true for namedtuples, handled\u001B[39;00m\n\u001B[0;32m   1309\u001B[0m     \u001B[38;5;66;03m# above).\u001B[39;00m\n\u001B[1;32m-> 1310\u001B[0m     \u001B[38;5;28;01mreturn\u001B[39;00m \u001B[38;5;28;43mtype\u001B[39;49m\u001B[43m(\u001B[49m\u001B[43mobj\u001B[49m\u001B[43m)\u001B[49m\u001B[43m(\u001B[49m\u001B[43m_asdict_inner\u001B[49m\u001B[43m(\u001B[49m\u001B[43mv\u001B[49m\u001B[43m,\u001B[49m\u001B[43m \u001B[49m\u001B[43mdict_factory\u001B[49m\u001B[43m)\u001B[49m\u001B[43m \u001B[49m\u001B[38;5;28;43;01mfor\u001B[39;49;00m\u001B[43m \u001B[49m\u001B[43mv\u001B[49m\u001B[43m \u001B[49m\u001B[38;5;129;43;01min\u001B[39;49;00m\u001B[43m \u001B[49m\u001B[43mobj\u001B[49m\u001B[43m)\u001B[49m\n\u001B[0;32m   1311\u001B[0m \u001B[38;5;28;01melif\u001B[39;00m \u001B[38;5;28misinstance\u001B[39m(obj, \u001B[38;5;28mdict\u001B[39m):\n\u001B[0;32m   1312\u001B[0m     \u001B[38;5;28;01mreturn\u001B[39;00m \u001B[38;5;28mtype\u001B[39m(obj)((_asdict_inner(k, dict_factory),\n\u001B[0;32m   1313\u001B[0m                       _asdict_inner(v, dict_factory))\n\u001B[0;32m   1314\u001B[0m                      \u001B[38;5;28;01mfor\u001B[39;00m k, v \u001B[38;5;129;01min\u001B[39;00m obj\u001B[38;5;241m.\u001B[39mitems())\n",
      "File \u001B[1;32m~\\AppData\\Local\\miniconda3\\envs\\lysis\\Lib\\dataclasses.py:1310\u001B[0m, in \u001B[0;36m<genexpr>\u001B[1;34m(.0)\u001B[0m\n\u001B[0;32m   1305\u001B[0m     \u001B[38;5;28;01mreturn\u001B[39;00m \u001B[38;5;28mtype\u001B[39m(obj)(\u001B[38;5;241m*\u001B[39m[_asdict_inner(v, dict_factory) \u001B[38;5;28;01mfor\u001B[39;00m v \u001B[38;5;129;01min\u001B[39;00m obj])\n\u001B[0;32m   1306\u001B[0m \u001B[38;5;28;01melif\u001B[39;00m \u001B[38;5;28misinstance\u001B[39m(obj, (\u001B[38;5;28mlist\u001B[39m, \u001B[38;5;28mtuple\u001B[39m)):\n\u001B[0;32m   1307\u001B[0m     \u001B[38;5;66;03m# Assume we can create an object of this type by passing in a\u001B[39;00m\n\u001B[0;32m   1308\u001B[0m     \u001B[38;5;66;03m# generator (which is not true for namedtuples, handled\u001B[39;00m\n\u001B[0;32m   1309\u001B[0m     \u001B[38;5;66;03m# above).\u001B[39;00m\n\u001B[1;32m-> 1310\u001B[0m     \u001B[38;5;28;01mreturn\u001B[39;00m \u001B[38;5;28mtype\u001B[39m(obj)(\u001B[43m_asdict_inner\u001B[49m\u001B[43m(\u001B[49m\u001B[43mv\u001B[49m\u001B[43m,\u001B[49m\u001B[43m \u001B[49m\u001B[43mdict_factory\u001B[49m\u001B[43m)\u001B[49m \u001B[38;5;28;01mfor\u001B[39;00m v \u001B[38;5;129;01min\u001B[39;00m obj)\n\u001B[0;32m   1311\u001B[0m \u001B[38;5;28;01melif\u001B[39;00m \u001B[38;5;28misinstance\u001B[39m(obj, \u001B[38;5;28mdict\u001B[39m):\n\u001B[0;32m   1312\u001B[0m     \u001B[38;5;28;01mreturn\u001B[39;00m \u001B[38;5;28mtype\u001B[39m(obj)((_asdict_inner(k, dict_factory),\n\u001B[0;32m   1313\u001B[0m                       _asdict_inner(v, dict_factory))\n\u001B[0;32m   1314\u001B[0m                      \u001B[38;5;28;01mfor\u001B[39;00m k, v \u001B[38;5;129;01min\u001B[39;00m obj\u001B[38;5;241m.\u001B[39mitems())\n",
      "File \u001B[1;32m~\\AppData\\Local\\miniconda3\\envs\\lysis\\Lib\\dataclasses.py:1316\u001B[0m, in \u001B[0;36m_asdict_inner\u001B[1;34m(obj, dict_factory)\u001B[0m\n\u001B[0;32m   1312\u001B[0m     \u001B[38;5;28;01mreturn\u001B[39;00m \u001B[38;5;28mtype\u001B[39m(obj)((_asdict_inner(k, dict_factory),\n\u001B[0;32m   1313\u001B[0m                       _asdict_inner(v, dict_factory))\n\u001B[0;32m   1314\u001B[0m                      \u001B[38;5;28;01mfor\u001B[39;00m k, v \u001B[38;5;129;01min\u001B[39;00m obj\u001B[38;5;241m.\u001B[39mitems())\n\u001B[0;32m   1315\u001B[0m \u001B[38;5;28;01melse\u001B[39;00m:\n\u001B[1;32m-> 1316\u001B[0m     \u001B[38;5;28;01mreturn\u001B[39;00m \u001B[43mcopy\u001B[49m\u001B[38;5;241;43m.\u001B[39;49m\u001B[43mdeepcopy\u001B[49m\u001B[43m(\u001B[49m\u001B[43mobj\u001B[49m\u001B[43m)\u001B[49m\n",
      "File \u001B[1;32m~\\AppData\\Local\\miniconda3\\envs\\lysis\\Lib\\copy.py:153\u001B[0m, in \u001B[0;36mdeepcopy\u001B[1;34m(x, memo, _nil)\u001B[0m\n\u001B[0;32m    151\u001B[0m copier \u001B[38;5;241m=\u001B[39m \u001B[38;5;28mgetattr\u001B[39m(x, \u001B[38;5;124m\"\u001B[39m\u001B[38;5;124m__deepcopy__\u001B[39m\u001B[38;5;124m\"\u001B[39m, \u001B[38;5;28;01mNone\u001B[39;00m)\n\u001B[0;32m    152\u001B[0m \u001B[38;5;28;01mif\u001B[39;00m copier \u001B[38;5;129;01mis\u001B[39;00m \u001B[38;5;129;01mnot\u001B[39;00m \u001B[38;5;28;01mNone\u001B[39;00m:\n\u001B[1;32m--> 153\u001B[0m     y \u001B[38;5;241m=\u001B[39m \u001B[43mcopier\u001B[49m\u001B[43m(\u001B[49m\u001B[43mmemo\u001B[49m\u001B[43m)\u001B[49m\n\u001B[0;32m    154\u001B[0m \u001B[38;5;28;01melse\u001B[39;00m:\n\u001B[0;32m    155\u001B[0m     reductor \u001B[38;5;241m=\u001B[39m dispatch_table\u001B[38;5;241m.\u001B[39mget(\u001B[38;5;28mcls\u001B[39m)\n",
      "\u001B[1;31mKeyboardInterrupt\u001B[0m: "
     ]
    }
   ],
   "source": [
    "experiments = {}\n",
    "for run in runs:\n",
    "    e = lysis.util.Experiment(data_root, experiment_code=run[\"exp_code\"])\n",
    "    e.read_file()\n",
    "    experiments[run[\"scenario\"]] = e\n",
    "\n",
    "parameters_df = lysis.data_manage.get_parameters(experiments)\n",
    "\n",
    "for run in tqdm(runs):\n",
    "    # Select and load scenario\n",
    "    mech = mechanisms[mechanisms[\"descriptor\"] == run[\"mechanism\"]][0]\n",
    "    scen = scenarios[scenarios[\"descriptor\"] == run[\"scenario\"]][0]\n",
    "    e = experiments[scen[\"descriptor\"]]\n",
    "    y_distance = np.arange(e.macro_params.rows - 1) * e.macro_params.grid_node_distance\n",
    "    file_code = out_file_code.format(scenario_code=run[\"scenario\"]) + \".dat\"\n",
    "\n",
    "    # Get processing time and print\n",
    "    time = get_processing_time(e, file_code, mech).mean()\n",
    "    time = str(datetime.timedelta(seconds=time)).split(\".\")[0]\n",
    "    print(run[\"exp_code\"], file_code[1:-4], f\" - Mean Simulation Processing Time: {time}\")\n",
    "\n",
    "    # Read data from log files\n",
    "    total_binds = get_total_binds(e, file_code, mech)\n",
    "    macro_unbinds, micro_unbinds = get_unbind_amounts(e, file_code, mech)\n",
    "    normal_unbinds = total_binds - (macro_unbinds + micro_unbinds)\n",
    "    mol_time_df.loc[\n",
    "        scen[\"descriptor\"], \"Total Binds\"\n",
    "    ] = f\"{total_binds.mean():,.0f} \\u00B1 {total_binds.std():,.0f}\"\n",
    "    mol_time_df.loc[scen[\"descriptor\"], \"Macro Unbinds %\"] = f\"{(macro_unbinds / total_binds).mean():.3%}\"\n",
    "    mol_time_df.loc[scen[\"descriptor\"], \"Micro Unbinds %\"] = f\"{(micro_unbinds / total_binds).mean():.3%}\"\n",
    "\n",
    "    # Read data from data files\n",
    "    data = lysis.data_manage.read_data(e, file_code)\n",
    "\n",
    "    # Compare\n",
    "    old_code = \"2024-01-26-10\"\n",
    "    e_old = lysis.util.Experiment(data_root, experiment_code=old_code+run[\"exp_code\"][-2:])\n",
    "    e_old.read_file()\n",
    "    old_data=lysis.data_manage.read_data(e_old, file_code)\n",
    "    print(data == old_data)\n",
    "\n",
    "    if e.macro_params.total_time == 0:\n",
    "        parameters_df.loc[scen[\"descriptor\"], \"total_time\"] = max([i[-1] for i in data.save_t])\n",
    "        parameters_df.loc[scen[\"descriptor\"], \"total_time_steps\"] = max(\n",
    "            [int(i[-1] // e.macro_params.time_step) for i in data.save_t]\n",
    "        )\n",
    "        parameters_df.loc[scen[\"descriptor\"], \"number_of_saves\"] = max(data.n_saves)\n",
    "\n",
    "    binds_df.loc[scen[\"descriptor\"]] = get_total_binds(e, file_code, mech)\n",
    "\n",
    "    # Process results\n",
    "    deg_fraction = find_degraded_fraction(e, data.f_deg_t, data.save_t)\n",
    "    marker_frames = find_degradation_marker_frames(e, deg_fraction, degrade_percent_markers)\n",
    "    marker_times = find_degradation_marker_times(e, marker_frames, data.save_t)\n",
    "    degradation_time_df.loc[run[\"scenario\"]] = marker_times.T.flatten()\n",
    "    slopes = degradation_rates(e, marker_frames, deg_fraction, data.save_t)\n",
    "    slopes_df.loc[run[\"scenario\"]] = slopes.T.flatten()"
   ]
  },
  {
   "cell_type": "code",
   "execution_count": 24,
   "id": "a41ba413-fcdc-41e0-939f-945b7620518b",
   "metadata": {
    "ExecuteTime": {
     "start_time": "2024-01-26T21:12:32.655758Z"
    }
   },
   "outputs": [
    {
     "name": "stdout",
     "output_type": "stream",
     "text": [
      "|                                    | TK-L_10000    | TK-L_555      | TN-D_5410     | TN-D_300      |\n",
      "|:-----------------------------------|:--------------|:--------------|:--------------|:--------------|\n",
      "| binding_rate ((micromolar*sec)^-1) | 0.10          | 0.10          | 0.10          | 0.10          |\n",
      "| pore_size (centimeters)            | 1.01350e-04   | 1.01350e-04   | 5.49500e-05   | 5.49500e-05   |\n",
      "| diffusion_coeff (cm^2/s)           | 5.00000e-07   | 5.00000e-07   | 5.00000e-07   | 5.00000e-07   |\n",
      "| binding_sites (micromolar)         | 213           | 213           | 427           | 427           |\n",
      "| forced_unbind                      | 0.073         | 0.073         | 0.085         | 0.085         |\n",
      "| average_bind_time (seconds)        | 27.80         | 27.80         | 27.80         | 27.80         |\n",
      "| grid_node_distance (microns)       | 1.159         | 1.159         | 0.622         | 0.622         |\n",
      "| cols (nodes)                       | 87            | 87            | 161           | 161           |\n",
      "| rows (nodes)                       | 109           | 109           | 202           | 202           |\n",
      "| fiber_rows (nodes)                 | 87            | 87            | 161           | 161           |\n",
      "| empty_rows (nodes)                 | 22            | 22            | 41            | 41            |\n",
      "| last_empty_edge (edges)            | 5719          | 5719          | 19761         | 19761         |\n",
      "| full_row (edges)                   | 260           | 260           | 482           | 482           |\n",
      "| xz_row (edges)                     | 173           | 173           | 321           | 321           |\n",
      "| total_edges (edges)                | 28,253        | 28,253        | 97,203        | 97,203        |\n",
      "| total_fibers (fibers)              | 22,533        | 22,533        | 77,441        | 77,441        |\n",
      "| total_molecules (molecules)        | 10,000        | 555           | 5,410         | 300           |\n",
      "| moving_probability                 | 0.20          | 0.20          | 0.20          | 0.20          |\n",
      "| microscale_runs (trials)           | 50,000        | 50,000        | 50,000        | 50,000        |\n",
      "| total_trials (trials)              | 10            | 10            | 10            | 10            |\n",
      "| total_time (seconds)               | 1,670         | 11,450        | 4,200         | 62,700        |\n",
      "| time_step (seconds)                | 3.424e-04     | 3.424e-04     | 1.007e-04     | 1.007e-04     |\n",
      "| total_time_steps (timesteps)       | 4,877,421     | 33,440,998    | 41,728,728    | 622,950,304   |\n",
      "| seed                               | 3,532,386,296 | 1,799,319,593 | 3,756,429,037 | 4,031,685,276 |\n",
      "| save_interval (sec)                | 10            | 10            | 10            | 100           |\n",
      "| number_of_saves                    | 168           | 1146          | 421           | 628           |\n"
     ]
    }
   ],
   "source": [
    "## Parameters table\n",
    "units = lysis.util.MacroParameters.units()\n",
    "rename = {}\n",
    "for k, v in units.items():\n",
    "    rename[k] = f\"{k} ({v})\"\n",
    "printable_parameters_df = pd.DataFrame(index=parameters_df.index)\n",
    "for col in parameters_df.columns:\n",
    "    if not col in cols_to_drop:\n",
    "        if col in formats:\n",
    "            printable_parameters_df[col] = parameters_df[col].apply(lambda x: formats[col].format(x))\n",
    "        else:\n",
    "            printable_parameters_df[col] = parameters_df[col]\n",
    "printable_parameters_df = printable_parameters_df.rename(columns=rename)\n",
    "print(printable_parameters_df.T.to_markdown())"
   ]
  },
  {
   "cell_type": "code",
   "execution_count": 25,
   "id": "fc101d23-29e0-4f7c-a8a9-09f383d315f3",
   "metadata": {
    "tags": [],
    "ExecuteTime": {
     "start_time": "2024-01-26T21:12:32.659759800Z"
    }
   },
   "outputs": [
    {
     "name": "stdout",
     "output_type": "stream",
     "text": [
      "| Scenario   | 20% to 80%          | 20% to 50%          | 50% to 80%          |\n",
      "|:-----------|:--------------------|:--------------------|:--------------------|\n",
      "| TK-L_10000 | 0.048962 ± 0.000522 | 0.050786 ± 0.000563 | 0.047241 ± 0.000689 |\n",
      "| TK-L_555   | 0.005843 ± 0.000085 | 0.005989 ± 0.000089 | 0.005705 ± 0.000105 |\n",
      "| TN-D_5410  | 0.016026 ± 0.000051 | 0.016659 ± 0.000094 | 0.015441 ± 0.000048 |\n",
      "| TN-D_300   | 0.000992 ± 0.000003 | 0.000998 ± 0.000005 | 0.000986 ± 0.000006 |\n"
     ]
    },
    {
     "name": "stderr",
     "output_type": "stream",
     "text": [
      "C:\\Users\\bpaynter\\AppData\\Local\\Temp\\ipykernel_13660\\648531457.py:3: FutureWarning: The default value of numeric_only in DataFrameGroupBy.std is deprecated. In a future version, numeric_only will default to False. Either specify numeric_only or select only columns which should be valid for the function.\n",
      "  s = slopes_df.groupby(axis=1, level=0).std()\n"
     ]
    }
   ],
   "source": [
    "## Degradation Rate Table\n",
    "m = slopes_df.groupby(axis=1, level=0).mean()\n",
    "s = slopes_df.groupby(axis=1, level=0).std()\n",
    "slopes_summary = pd.DataFrame(index=slopes_df.index, columns=slopes_df.columns.get_level_values(0).unique())\n",
    "for i in slopes_summary.index:\n",
    "    for j in slopes_summary.columns:\n",
    "        slopes_summary.loc[i, j] = f\"{m.loc[i, j]:.6f} \\u00B1 {s.loc[i, j]:.6f}\"\n",
    "# print(slopes_summary.to_html())\n",
    "print(slopes_summary.to_markdown())\n",
    "# slopes_summary"
   ]
  },
  {
   "cell_type": "code",
   "execution_count": 26,
   "id": "022c2048-8ab5-4c4d-a5bb-f350312fa291",
   "metadata": {
    "tags": [],
    "ExecuteTime": {
     "end_time": "2024-01-27T00:10:56.008272700Z",
     "start_time": "2024-01-27T00:10:55.942067200Z"
    }
   },
   "outputs": [
    {
     "name": "stdout",
     "output_type": "stream",
     "text": [
      "| Scenario   | 5%           | 20%           | 50%           | 80%           | 100%           |\n",
      "|:-----------|:-------------|:--------------|:--------------|:--------------|:---------------|\n",
      "| TK-L_10000 | 2.67 ± 0.00  | 6.28 ± 0.08   | 12.23 ± 0.12  | 18.53 ± 0.17  | 27.50 ± 0.28   |\n",
      "| TK-L_555   | 10.45 ± 0.25 | 35.22 ± 0.42  | 85.33 ± 0.93  | 137.97 ± 1.63 | 187.50 ± 1.85  |\n",
      "| TN-D_5410  | 4.00 ± 0.00  | 13.32 ± 0.05  | 31.28 ± 0.11  | 50.73 ± 0.16  | 69.58 ± 0.26   |\n",
      "| TN-D_300   | 51.33 ± 1.31 | 200.67 ± 2.11 | 501.17 ± 1.93 | 805.50 ± 2.49 | 1036.17 ± 4.01 |\n"
     ]
    },
    {
     "name": "stderr",
     "output_type": "stream",
     "text": [
      "C:\\Users\\bpaynter\\AppData\\Local\\Temp\\ipykernel_13660\\2281550920.py:3: FutureWarning: The default value of numeric_only in DataFrameGroupBy.std is deprecated. In a future version, numeric_only will default to False. Either specify numeric_only or select only columns which should be valid for the function.\n",
      "  s = degradation_time_df.groupby(axis=1, level=0).std()\n"
     ]
    }
   ],
   "source": [
    "## Degradation Time Table\n",
    "m = degradation_time_df.groupby(axis=1, level=0).mean()\n",
    "s = degradation_time_df.groupby(axis=1, level=0).std()\n",
    "degradation_time_summary = pd.DataFrame(\n",
    "    index=degradation_time_df.index, columns=degradation_time_df.columns.get_level_values(0).unique()\n",
    ")\n",
    "for i in degradation_time_summary.index:\n",
    "    for j in degradation_time_summary.columns:\n",
    "        degradation_time_summary.loc[i, j] = f\"{m.loc[i, j]:.2f} \\u00B1 {s.loc[i, j]:.2f}\"\n",
    "print(degradation_time_summary.to_markdown())\n",
    "#print(degradation_time_summary.to_html())\n",
    "#print(degradation_time_summary)"
   ]
  },
  {
   "cell_type": "raw",
   "id": "50cf68ae-8113-4800-b947-85bf4a40cf48",
   "metadata": {},
   "source": [
    "\"Front Velocity (microns/min)\",\n",
    "\"Degradation rate (%/min)\",\n",
    "\"Lysis lag time (min)\",\n",
    "\"Time to full clot degradation (min)\"\n",
    "\"Percent of molecules that reached the back row\",\n",
    "\"First passage time (min)\",\n",
    "\"Total (Un)Binds\",\n",
    "\"Forced Unbinds (Microscale)\",\n",
    "\"Forced Unbinds (Macroscale)\","
   ]
  },
  {
   "cell_type": "code",
   "execution_count": null,
   "id": "68d78389-98b0-45b4-83f7-7743cac4dcc9",
   "metadata": {
    "tags": [],
    "ExecuteTime": {
     "start_time": "2024-01-26T21:12:32.665760400Z"
    }
   },
   "outputs": [],
   "source": [
    "print(\n",
    "    results[\"Front Velocity (microns/min)\"]\n",
    "    .apply(lambda x: f\"{x[0]:,.0f} \\u00B1 {x[1]:,.0f}\", axis=1)\n",
    "    .unstack(0)\n",
    "    .loc[mechanisms[\"descriptor\"], scenarios[\"descriptor\"]]\n",
    "    #.style.to_latex()\n",
    "    # .to_html()\n",
    ")"
   ]
  },
  {
   "cell_type": "raw",
   "id": "b8bb4d1f-1f16-450a-8ab8-a741fde6cfd6",
   "metadata": {},
   "source": [
    "e = lysis.util.Experiment(os.path.join(\"..\", \"..\", \"data\"), experiment_code=runs[0][\"exp_code\"])\n",
    "e.read_file()\n",
    "degradation_time_df.to_csv(os.path.join(e.os_path, \"degradation_time_in_min.csv\"))\n",
    "slopes_df.to_csv(os.path.join(e.os_path, \"slopes_in_frac_per_min.csv\"))"
   ]
  },
  {
   "cell_type": "markdown",
   "id": "05773b60-e61d-4fe5-9222-baccb70d0220",
   "metadata": {
    "jp-MarkdownHeadingCollapsed": true,
    "tags": []
   },
   "source": [
    "## Pore size calculations\n",
    "### Comparison to random pores"
   ]
  },
  {
   "cell_type": "code",
   "execution_count": null,
   "id": "14041275-c169-4363-b302-2dbca4b709ef",
   "metadata": {
    "tags": [],
    "ExecuteTime": {
     "start_time": "2024-01-26T21:12:32.668771500Z"
    }
   },
   "outputs": [],
   "source": [
    "rng1 = np.random.default_rng()"
   ]
  },
  {
   "cell_type": "code",
   "execution_count": null,
   "id": "a4340e78-3aa8-49d0-a739-ac8f544af933",
   "metadata": {
    "tags": [],
    "ExecuteTime": {
     "start_time": "2024-01-26T21:12:32.671271700Z"
    }
   },
   "outputs": [],
   "source": [
    "##################################\n",
    "## Generate pores with random degradation\n",
    "##################################\n",
    "exp = None\n",
    "random_pore_data = {}\n",
    "trials = 10_000\n",
    "percent = 0.8\n",
    "for run in [r for r in runs if r[\"scenario\"][-3:] == \"307\"]:\n",
    "    mech = mechanisms[mechanisms[\"descriptor\"] == run[\"mechanism\"]][0]\n",
    "    scen = scenarios[scenarios[\"descriptor\"] == run[\"scenario\"]][0]\n",
    "    e = lysis.util.Experiment(os.path.join(\"..\", \"..\", \"..\", \"data\"), experiment_code=run[\"exp_code\"])\n",
    "    # e = lysis.util.Experiment(\n",
    "    #     os.path.join(\"/\", \"home\", \"bpaynter\", \"Archive\", \"lysis_data\"), experiment_code=run[\"exp_code\"]\n",
    "    # )\n",
    "    e.read_file()\n",
    "    total = e.macro_params.total_fibers\n",
    "    rev_edge_index = get_rev_edge_index(e)\n",
    "    num_of_lines = 25\n",
    "    v_step = (e.macro_params.cols - 1) // num_of_lines\n",
    "    v_lines = range(v_step // 2, e.macro_params.cols - 1, v_step)\n",
    "    h_step = (e.macro_params.rows - 1) // num_of_lines\n",
    "    h_lines = range(h_step // 2, e.macro_params.rows - 1, h_step)\n",
    "    min_time = np.min(n_save)\n",
    "    pores = []\n",
    "    for sim in trange(trials):\n",
    "        pores.append([])\n",
    "        lines = []\n",
    "        remove = rng1.choice(np.arange(total), size=math.floor(total * percent), replace=False)\n",
    "        degraded = np.full(total, False)\n",
    "        for i in remove:\n",
    "            degraded[i] = True\n",
    "        for j in v_lines:\n",
    "            pores_in_line = []\n",
    "            current_pore = e.macro_params.grid_node_distance  # e.macro_params.pore_size * 10_000\n",
    "            # if degraded[rev_edge_index[0, j * 3 + 2]]:\n",
    "            #     current_pore += exp.macro_params.grid_node_distance - exp.macro_params.pore_size * 10_000\n",
    "            for i in range(1, e.macro_params.rows - 1):\n",
    "                if degraded[rev_edge_index[i, j * 3 + 2]]:\n",
    "                    current_pore += e.macro_params.grid_node_distance\n",
    "                else:\n",
    "                    pores_in_line.append(current_pore)\n",
    "                    current_pore = e.macro_params.grid_node_distance  # e.macro_params.pore_size * 10_000\n",
    "            # if degraded[rev_edge_index[-1, j * 3 + 2]]:\n",
    "            #     current_pore += exp.macro_params.grid_node_distance - exp.macro_params.pore_size * 10_000\n",
    "            pores_in_line.append(current_pore)\n",
    "            lines.append(np.array(pores_in_line))\n",
    "        for i in h_lines:\n",
    "            pores_in_line = []\n",
    "            current_pore = e.macro_params.grid_node_distance  # e.macro_params.pore_size * 10_000\n",
    "            # if degraded[rev_edge_index[i, 0]]:\n",
    "            #     current_pore += exp.macro_params.grid_node_distance - exp.macro_params.pore_size * 10_000\n",
    "            for j in range(1, e.macro_params.cols - 1):\n",
    "                if degraded[rev_edge_index[i, j * 3]]:\n",
    "                    current_pore += e.macro_params.grid_node_distance\n",
    "                else:\n",
    "                    pores_in_line.append(current_pore)\n",
    "                    current_pore = e.macro_params.grid_node_distance  # e.macro_params.pore_size * 10_000\n",
    "            # if degraded[rev_edge_index[i, -1]]:\n",
    "            #     current_pore += exp.macro_params.grid_node_distance - exp.macro_params.pore_size * 10_000\n",
    "            pores_in_line.append(current_pore)\n",
    "            lines.append(np.array(pores_in_line))\n",
    "        pores_at_frame = np.empty(0, dtype=float)\n",
    "        for line in lines:\n",
    "            pores_at_frame = np.append(pores_at_frame, line)\n",
    "        pores[sim].append(\n",
    "            pores_at_frame / e.macro_params.grid_node_distance\n",
    "        )  # (e.macro_params.pore_size * 10_000))\n",
    "    random_pore_data[scen[\"descriptor\"]] = [pores[sim][0] for sim in range(trials)]"
   ]
  },
  {
   "cell_type": "code",
   "execution_count": null,
   "id": "498cc051-f28a-4782-aed1-993064a4b2af",
   "metadata": {
    "tags": [],
    "ExecuteTime": {
     "start_time": "2024-01-26T21:12:32.674271400Z"
    }
   },
   "outputs": [],
   "source": [
    "fig, axs = plt.subplots(\n",
    "    nrows=1,\n",
    "    ncols=4,\n",
    "    sharex=False,\n",
    "    sharey=True,\n",
    "    figsize=(12, 6),\n",
    "    constrained_layout=True,\n",
    "    # width_ratios=[2, 1, 1, 1, 1],\n",
    ")\n",
    "for i, row in enumerate(scenario_grid):\n",
    "    axs[0].set_ylabel(\"pore size\\n(as a multiple of grid node distance\")  # initial pore size)\")\n",
    "    # for j, scenario in enumerate(row):\n",
    "    #     axs[i, j + 2].boxplot(\n",
    "    #         [pore_plot_data[scenario][0.8][sim] for sim in range(10)],\n",
    "    #         # showfliers=False,\n",
    "    #         whis=[0.01, 0.99],\n",
    "    #     )\n",
    "    #     # axs[i].set_xticks(\n",
    "    #     #     range(1, len(row) + 1),\n",
    "    #     #     labels=[f\"{scenario}\" for scenario in row],\n",
    "    #     # )\n",
    "    #     axs[i, j + 2].set_title(scenario)\n",
    "    axs[i].boxplot(\n",
    "        [np.concatenate(pore_plot_data[scenario][percent]) for scenario in row],\n",
    "        showfliers=False,\n",
    "        whis=(1, 99),\n",
    "    )\n",
    "    axs[i].set_xticks(\n",
    "        range(1, len(row) + 1),\n",
    "        labels=[f\"{scenario}\" for scenario in row],\n",
    "        rotation=-45,\n",
    "    )\n",
    "    axs[i].set_title(groupings[i])\n",
    "    axs[i].grid(visible=True, which=\"major\", axis=\"y\")\n",
    "    # axs[i, 1].boxplot(\n",
    "    #     random_pore_data[f\"{row[0][:5]}307\"],\n",
    "    #     showfliers=False,\n",
    "    # )\n",
    "    # axs[i, 1].set_title(f\"{row[0][:5]}Control\")\n",
    "axs[-1].boxplot(\n",
    "    [np.concatenate(random_pore_data[f\"{scenario[:5]}307\"]) for scenario in scenario_grid[0]],\n",
    "    showfliers=False,\n",
    "    whis=(1, 99),\n",
    ")\n",
    "axs[-1].set_xticks(\n",
    "    range(1, len(row) + 1),\n",
    "    labels=[f\"{scenario[:5]}Control\" for scenario in scenario_grid[0]],\n",
    "    rotation=-45,\n",
    ")\n",
    "axs[-1].set_title(\"Random Control\")\n",
    "axs[-1].grid(visible=True, which=\"major\", axis=\"y\")\n",
    "fig.suptitle(\n",
    "    f\"Distribution of pore sizes at {percent:.0%} degradation.\\n(Boxes are Q1 to Q3; Whiskers are 1st percentile to 99th percentile)\"\n",
    ")\n",
    "pass"
   ]
  },
  {
   "cell_type": "code",
   "execution_count": null,
   "id": "396d587a-6158-40e9-a347-ed91d96b9fcf",
   "metadata": {
    "tags": [],
    "ExecuteTime": {
     "start_time": "2024-01-26T21:12:32.676773100Z"
    }
   },
   "outputs": [],
   "source": [
    "# 10_000 samples\n",
    "# 80% degraded\n",
    "for run in runs:\n",
    "    print(\n",
    "        run[\"scenario\"],\n",
    "        scipy.stats.ks_2samp(\n",
    "            np.concatenate(pore_plot_data[run[\"scenario\"]][0.8]),\n",
    "            np.concatenate(random_pore_data[f\"{run['scenario'][:5]}307\"]),\n",
    "        ),\n",
    "    )"
   ]
  },
  {
   "cell_type": "code",
   "execution_count": null,
   "id": "377830c2-7b55-4d4e-8d41-732b4d0a1545",
   "metadata": {
    "tags": [],
    "ExecuteTime": {
     "start_time": "2024-01-26T21:12:32.680271700Z"
    }
   },
   "outputs": [],
   "source": [
    "# 100 samples\n",
    "for run in runs:\n",
    "    print(\n",
    "        run[\"scenario\"],\n",
    "        scipy.stats.ks_2samp(\n",
    "            np.concatenate(pore_plot_data[run[\"scenario\"]][0.8]),\n",
    "            np.concatenate(random_pore_data[f\"{run['scenario'][:5]}307\"]),\n",
    "        ),\n",
    "    )"
   ]
  },
  {
   "cell_type": "code",
   "execution_count": null,
   "id": "d124cffd-7f93-4da5-a45b-426938b0dd8f",
   "metadata": {
    "tags": [],
    "ExecuteTime": {
     "start_time": "2024-01-26T21:12:32.682771500Z"
    }
   },
   "outputs": [],
   "source": [
    "scipy.stats.anderson(np.concatenate(random_pore_data[f\"TK-L_307\"]), dist=\"expon\")"
   ]
  },
  {
   "cell_type": "code",
   "execution_count": null,
   "id": "3aeb6950-1fb2-4097-affc-59b00ab7c644",
   "metadata": {
    "tags": [],
    "ExecuteTime": {
     "start_time": "2024-01-26T21:12:32.685771200Z"
    }
   },
   "outputs": [],
   "source": [
    "fig, axs = plt.subplots(nrows=1, ncols=4, sharex=False, sharey=True, figsize=(12, 6), constrained_layout=True)\n",
    "for i, row in enumerate(scenario_grid_T):\n",
    "    axs[i].set_yscale(\"log\")\n",
    "    for j, scenario in enumerate(row):\n",
    "        combined_sims = np.concatenate(pore_plot_data[scenario][percent])\n",
    "        hist = np.array([(i, np.count_nonzero(combined_sims == i)) for i in np.unique(combined_sims)])\n",
    "        axs[i].plot(\n",
    "            hist.T[0], hist.T[1] * 100 / combined_sims.shape[0], color=colors[scenario], label=scenario\n",
    "        )\n",
    "    combined_sims = np.concatenate(random_pore_data[f\"{row[0][:5]}307\"])\n",
    "    hist = np.array([(i, np.count_nonzero(combined_sims == i)) for i in np.unique(combined_sims)])\n",
    "    axs[i].plot(hist.T[0], (hist.T[1]) * 100 / combined_sims.shape[0], label=f\"{row[0][:5]}Control\")\n",
    "    axs[i].set_xlabel(\"Pore size (in multiples of grid distance)\")\n",
    "    axs[i].legend()\n",
    "axs[0].set_ylabel(\"Percent of pores (log scale)\")\n",
    "fig.suptitle(f\"Distribution of pore sizes at {percent:.0%} degradation.\")\n",
    "pass"
   ]
  },
  {
   "cell_type": "code",
   "execution_count": null,
   "id": "54666c17-c90c-463c-9504-79b5dd294afc",
   "metadata": {
    "ExecuteTime": {
     "start_time": "2024-01-26T21:12:32.688270300Z"
    }
   },
   "outputs": [],
   "source": [
    "run = runs[0]\n",
    "sim = 0\n",
    "scen = scenarios[scenarios[\"descriptor\"] == run[\"scenario\"]][0]\n",
    "scen"
   ]
  },
  {
   "cell_type": "code",
   "execution_count": null,
   "id": "24fa60e5-1e62-443e-bbb5-92da2841afaa",
   "metadata": {
    "tags": [],
    "ExecuteTime": {
     "start_time": "2024-01-26T21:12:32.690769900Z"
    }
   },
   "outputs": [],
   "source": [
    "mech = mechanisms[mechanisms[\"descriptor\"] == run[\"mechanism\"]][0]\n",
    "scen = scenarios[scenarios[\"descriptor\"] == run[\"scenario\"]][0]\n",
    "e = lysis.util.Experiment(os.path.join(\"..\", \"..\", \"..\", \"data\"), experiment_code=run[\"exp_code\"])\n",
    "# e = lysis.util.Experiment(\n",
    "#     os.path.join(\"/\", \"home\", \"bpaynter\", \"Archive\", \"lysis_data\"), experiment_code=run[\"exp_code\"]\n",
    "# )\n",
    "e.read_file()\n",
    "y_distance = np.arange(e.macro_params.rows - 1) * e.macro_params.grid_node_distance\n",
    "file_code = out_file_code.format(scenario_code=run[\"scenario\"]) + \".dat\"\n",
    "print(run[\"exp_code\"], file_code)\n",
    "n_save, deg, tsave, mfpt, mol_location, mol_status = load_fortran_files(e, file_code)\n",
    "\n",
    "deg_fraction = find_degraded_fraction(e, deg, tsave)\n",
    "marker_frames = find_degradation_marker_frames(e, deg_fraction)\n",
    "marker_times = find_degradation_marker_times(e, marker_frames, tsave)\n",
    "edge_index = get_edge_index(e)\n",
    "x1_f, y1_f, x2_f, y2_f = grid_data(e, edge_index)"
   ]
  },
  {
   "cell_type": "code",
   "execution_count": null,
   "id": "41baf95d-fc85-4d42-b4f0-3467c8d9d5e7",
   "metadata": {
    "ExecuteTime": {
     "start_time": "2024-01-26T21:12:32.693771300Z"
    }
   },
   "outputs": [],
   "source": [
    "mol_bind_events = []\n",
    "for sim in range(e.macro_params.total_trials):\n",
    "    raw_mol_bind_events = np.loadtxt(\n",
    "        os.path.join(e.os_path, f\"{sim:02}\", f\"m_bind_t{file_code[:-4]}_{sim:02}{file_code[-4:]}\"),\n",
    "        delimiter=\",\",\n",
    "    )\n",
    "    sim_mol_bind_events = [[] for _ in range(e.macro_params.total_molecules)]\n",
    "    for event in raw_mol_bind_events:\n",
    "        sim_mol_bind_events[event[1].astype(int) - 1].append((event[0], event[2].astype(int)))\n",
    "    mol_bind_events.append(sim_mol_bind_events)"
   ]
  },
  {
   "cell_type": "code",
   "execution_count": null,
   "id": "f2545d5e-8909-4c81-b177-14b6b08b512b",
   "metadata": {
    "ExecuteTime": {
     "start_time": "2024-01-26T21:12:32.696772300Z"
    }
   },
   "outputs": [],
   "source": [
    "for sim in range(e.macro_params.total_trials):\n",
    "    for m in range(e.macro_params.total_molecules):\n",
    "        for event in range(len(mol_bind_events[sim][m]) - 1):\n",
    "            if mol_bind_events[sim][m][event][1] == 0:\n",
    "                if mol_bind_events[sim][m][event + 1][1] != 1:\n",
    "                    print(\"ERROR: Full unbind NOT followed by bind!\")\n",
    "            if mol_bind_events[sim][m][event][1] == 1:\n",
    "                if mol_bind_events[sim][m][event + 1][1] == 1:\n",
    "                    print(\"ERROR: Two binds in a row!\")\n",
    "            if mol_bind_events[sim][m][event][1] == 2:\n",
    "                if mol_bind_events[sim][m][event + 1][1] != 0:\n",
    "                    print(\"ERROR: Macro-unbind NOT followed by full unbind!\")\n",
    "            if mol_bind_events[sim][m][event][1] == 3:\n",
    "                if mol_bind_events[sim][m][event + 1][1] != 0:\n",
    "                    print(\"ERROR: Macro-unbind NOT followed by full unbind!\")"
   ]
  },
  {
   "cell_type": "code",
   "execution_count": null,
   "id": "1b10dbe1-dbb9-4017-98f9-4b43fa9ef84f",
   "metadata": {
    "ExecuteTime": {
     "start_time": "2024-01-26T21:12:32.699272300Z"
    }
   },
   "outputs": [],
   "source": [
    "dwell_times = []\n",
    "transit_times = []\n",
    "for sim in range(e.macro_params.total_trials):\n",
    "    for m in range(e.macro_params.total_molecules):\n",
    "        current_status = MolStatus.UNBOUND\n",
    "        timer = 0.0\n",
    "        for event in mol_bind_events[sim][m]:\n",
    "            if current_status == MolStatus.UNBOUND and event[1] == MolStatus.BOUND:\n",
    "                transit_times.append(event[0] - timer)\n",
    "                timer = event[0]\n",
    "                current_status = MolStatus.BOUND\n",
    "            if current_status == MolStatus.BOUND and event[1] == MolStatus.UNBOUND:\n",
    "                dwell_times.append(event[0] - timer)\n",
    "                timer = event[0]\n",
    "                current_status = MolStatus.UNBOUND\n",
    "            # if current_status == MolStatus.BOUND and event[1] == MolStatus.MICRO_UNBOUND:\n",
    "            #     # dwell_times.append(event[0] - timer)\n",
    "            #     timer = event[0]\n",
    "            #     current_status = MolStatus.UNBOUND"
   ]
  },
  {
   "cell_type": "code",
   "execution_count": null,
   "id": "1029dd8e-57ea-43aa-a2af-7847718d4296",
   "metadata": {
    "ExecuteTime": {
     "start_time": "2024-01-26T21:12:32.701770Z"
    }
   },
   "outputs": [],
   "source": [
    "np.array(dwell_times).mean(), np.array(dwell_times).std()"
   ]
  },
  {
   "cell_type": "code",
   "execution_count": null,
   "id": "0baddbba-ff3a-4ae9-a057-d5a767f5ce92",
   "metadata": {
    "ExecuteTime": {
     "start_time": "2024-01-26T21:12:32.704272200Z"
    }
   },
   "outputs": [],
   "source": [
    "np.array(transit_times).mean(), np.array(transit_times).std()"
   ]
  },
  {
   "cell_type": "code",
   "execution_count": null,
   "id": "085edaa4-fc8b-45ac-b277-8b4124d74c13",
   "metadata": {
    "ExecuteTime": {
     "start_time": "2024-01-26T21:12:32.706272900Z"
    }
   },
   "outputs": [],
   "source": [
    "binds = 0\n",
    "macro_unbinds = 0\n",
    "micro_unbinds = 0\n",
    "for m in range(e.macro_params.total_molecules):\n",
    "    for event in mol_bind_events[0][m]:\n",
    "        if event[1] == MolStatus.BOUND:\n",
    "            binds += 1\n",
    "        if event[1] == MolStatus.MACRO_UNBOUND:\n",
    "            macro_unbinds += 1\n",
    "        if event[1] == MolStatus.MICRO_UNBOUND:\n",
    "            micro_unbinds += 1\n",
    "binds, macro_unbinds, micro_unbinds"
   ]
  },
  {
   "cell_type": "code",
   "execution_count": null,
   "id": "1cfdb361-4a7f-4847-841e-5965adead6ec",
   "metadata": {
    "ExecuteTime": {
     "start_time": "2024-01-26T21:12:32.707771600Z"
    }
   },
   "outputs": [],
   "source": [
    "len(dwell_times)"
   ]
  },
  {
   "cell_type": "code",
   "execution_count": null,
   "id": "10b8dd64-b457-4db6-ad5c-dbc82380fdca",
   "metadata": {
    "ExecuteTime": {
     "start_time": "2024-01-26T21:12:32.709270100Z"
    }
   },
   "outputs": [],
   "source": [
    "print(f\"At {percent:.0%} degradation, percent of pores at initial size.\")\n",
    "for run in runs:\n",
    "    a = (\n",
    "        np.count_nonzero(np.concatenate(pore_plot_data[run[\"scenario\"]][percent]) == 1)\n",
    "        / np.concatenate(pore_plot_data[run[\"scenario\"]][0.8]).size\n",
    "    )\n",
    "    b = (\n",
    "        np.count_nonzero(np.concatenate(random_pore_data[f\"{run['scenario'][:5]}307\"]) == 1)\n",
    "        / np.concatenate(random_pore_data[f\"{run['scenario'][:5]}307\"]).size\n",
    "    )\n",
    "    print(f\"{run['scenario']}: Expected {b:.2%}; Actual {a:.2%}\")"
   ]
  },
  {
   "cell_type": "code",
   "execution_count": null,
   "id": "7851eb60-e74f-464b-96fa-1973aef4c181",
   "metadata": {
    "ExecuteTime": {
     "start_time": "2024-01-26T21:12:32.710770600Z"
    }
   },
   "outputs": [],
   "source": []
  },
  {
   "cell_type": "code",
   "execution_count": null,
   "id": "2c2204b1-5cc1-41f1-a21a-89978496bb1c",
   "metadata": {
    "ExecuteTime": {
     "start_time": "2024-01-26T21:12:32.712769800Z"
    }
   },
   "outputs": [],
   "source": [
    "(np.arange(30) * exp.macro_params.grid_node_distance + exp.macro_params.pore_size * 10_000) / (\n",
    "    exp.macro_params.pore_size * 10_000\n",
    ")"
   ]
  },
  {
   "cell_type": "code",
   "execution_count": null,
   "id": "0b33531e-a45e-45f5-9f4c-c62656876322",
   "metadata": {
    "ExecuteTime": {
     "start_time": "2024-01-26T21:12:32.714769700Z"
    }
   },
   "outputs": [],
   "source": [
    "fig, axs = plt.subplots(nrows=1, ncols=1, sharex=False, sharey=True, figsize=(12, 6), constrained_layout=True)\n",
    "axs.boxplot([random_pore_data[scenario] for scenario in random_pore_data.keys()], showfliers=False)\n",
    "axs.set_xticks(\n",
    "    range(1, len(random_pore_data) + 1),\n",
    "    labels=[f\"{scenario}\" for scenario in random_pore_data.keys()],\n",
    ")\n",
    "pass"
   ]
  },
  {
   "cell_type": "code",
   "execution_count": null,
   "id": "0af3f82e-3e84-4210-a70a-8e79c37403a1",
   "metadata": {
    "ExecuteTime": {
     "start_time": "2024-01-26T21:12:32.716270300Z"
    }
   },
   "outputs": [],
   "source": [
    "fig, axs = plt.subplots(nrows=1, ncols=1, sharex=False, sharey=True, figsize=(12, 6), constrained_layout=True)\n",
    "axs.boxplot([pore_plot_data[scenario][0.5] for scenario in pore_plot_data.keys()], showfliers=False)\n",
    "axs.set_xticks(\n",
    "    range(1, len(pore_plot_data) + 1),\n",
    "    labels=[f\"{scenario}\" for scenario in pore_plot_data.keys()],\n",
    ")"
   ]
  },
  {
   "cell_type": "code",
   "execution_count": null,
   "id": "0b4fbbfd-d575-41e3-adf6-4e00713b0fef",
   "metadata": {
    "ExecuteTime": {
     "start_time": "2024-01-26T21:12:32.717770Z"
    }
   },
   "outputs": [],
   "source": [
    "random_pore_data[\"TN-L_307\"].mean(), random_pore_data[\"TN-L_9350\"].mean()"
   ]
  },
  {
   "cell_type": "code",
   "execution_count": null,
   "id": "ec3f8265-26f9-4a36-a92a-718f2ab02b20",
   "metadata": {
    "ExecuteTime": {
     "start_time": "2024-01-26T21:12:32.719769700Z"
    }
   },
   "outputs": [],
   "source": [
    "random_pore_data[\"TK-L_307\"]"
   ]
  },
  {
   "cell_type": "code",
   "execution_count": null,
   "id": "f23f9021-916d-4e40-ae60-b2b3c432eda6",
   "metadata": {
    "ExecuteTime": {
     "start_time": "2024-01-26T21:12:32.721270600Z"
    }
   },
   "outputs": [],
   "source": [
    "plt.boxplot([pore_data[sim][marker_frames[sim][3]] for sim in range(10)], showfliers=False)"
   ]
  },
  {
   "cell_type": "code",
   "execution_count": null,
   "id": "cf07f293-80f9-4d3e-afea-59f85bba0349",
   "metadata": {
    "ExecuteTime": {
     "start_time": "2024-01-26T21:12:32.722769800Z"
    }
   },
   "outputs": [],
   "source": [
    "plt.boxplot(\n",
    "    [random_pore_data[\"TK-D_307\"]] + pore_plot_data[\"TK-D_307\"] + pore_plot_data[\"TK-D_9350\"],\n",
    "    showfliers=False,\n",
    ")\n",
    "pass"
   ]
  },
  {
   "cell_type": "code",
   "execution_count": null,
   "id": "7ac67ad4-1c0e-40ed-a25b-7a4e9974182e",
   "metadata": {
    "ExecuteTime": {
     "start_time": "2024-01-26T21:12:32.724270100Z"
    }
   },
   "outputs": [],
   "source": [
    "type(pore_plot_data[\"TK-D_307\"])"
   ]
  },
  {
   "cell_type": "code",
   "execution_count": null,
   "id": "486b9c10-451b-410b-9fd3-ad6a3de6756c",
   "metadata": {
    "ExecuteTime": {
     "start_time": "2024-01-26T21:12:32.725771100Z"
    }
   },
   "outputs": [],
   "source": []
  },
  {
   "cell_type": "code",
   "execution_count": null,
   "id": "b4363b8e-9ac9-47fe-a368-4a2c72dac1ce",
   "metadata": {
    "ExecuteTime": {
     "start_time": "2024-01-26T21:12:32.727272100Z"
    }
   },
   "outputs": [],
   "source": [
    "16**0.5"
   ]
  },
  {
   "cell_type": "code",
   "execution_count": null,
   "id": "4b099f5a-4cfa-4b81-8588-5f91d6aacc4e",
   "metadata": {
    "ExecuteTime": {
     "start_time": "2024-01-26T21:12:32.729271500Z"
    }
   },
   "outputs": [],
   "source": [
    "lysis.util.EdgeGrid.get_spacial_coordinates(12, 16)"
   ]
  },
  {
   "cell_type": "code",
   "execution_count": null,
   "id": "3f91beb4-0946-4b7f-a166-a7cb4a1505e7",
   "metadata": {
    "ExecuteTime": {
     "start_time": "2024-01-26T21:12:32.730771700Z"
    }
   },
   "outputs": [],
   "source": [
    "run = runs[0]\n",
    "sim = 0\n",
    "mech = mechanisms[mechanisms[\"descriptor\"] == run[\"mechanism\"]][0]\n",
    "scen = scenarios[scenarios[\"descriptor\"] == run[\"scenario\"]][0]\n",
    "e = lysis.util.Experiment(os.path.join(\"..\", \"..\", \"..\", \"data\"), experiment_code=run[\"exp_code\"])\n",
    "e.read_file()"
   ]
  },
  {
   "cell_type": "code",
   "execution_count": null,
   "id": "7d554997-8682-4a85-9b35-3fcf994a2dc4",
   "metadata": {
    "ExecuteTime": {
     "start_time": "2024-01-26T21:12:32.732270900Z"
    }
   },
   "outputs": [],
   "source": [
    "lysis.util.EdgeGrid.get_distance(e, (3, 8), (5, 1))"
   ]
  },
  {
   "cell_type": "code",
   "execution_count": null,
   "id": "c4cc6477-62ee-4e86-bcc9-298301b59ae9",
   "metadata": {
    "ExecuteTime": {
     "start_time": "2024-01-26T21:12:32.734271900Z"
    }
   },
   "outputs": [],
   "source": [
    "e.macro_params.grid_node_distance"
   ]
  },
  {
   "cell_type": "code",
   "execution_count": null,
   "id": "b0fbeded-b055-4515-a252-30ebfee9d005",
   "metadata": {
    "ExecuteTime": {
     "start_time": "2024-01-26T21:12:32.735773400Z"
    }
   },
   "outputs": [],
   "source": [
    "for run in tqdm(runs):\n",
    "    # Select and load scenario\n",
    "    mech = mechanisms[mechanisms[\"descriptor\"] == run[\"mechanism\"]][0]\n",
    "    scen = scenarios[scenarios[\"descriptor\"] == run[\"scenario\"]][0]\n",
    "    e = lysis.util.Experiment(os.path.join(\"..\", \"..\", \"..\", \"data\"), experiment_code=run[\"exp_code\"])\n",
    "    # e = lysis.util.Experiment(\n",
    "    #     os.path.join(\"/\", \"home\", \"bpaynter\", \"Archive\", \"lysis_data\"), experiment_code=run[\"exp_code\"]\n",
    "    # )\n",
    "    e.read_file()\n",
    "    y_distance = np.arange(e.macro_params.rows - 1) * e.macro_params.grid_node_distance\n",
    "    file_code = out_file_code.format(scenario_code=run[\"scenario\"]) + \".dat\"\n",
    "\n",
    "    # Read data from data files\n",
    "    n_save, deg, tsave, mfpt, mol_location, mol_status = load_fortran_files(e, file_code)\n",
    "\n",
    "    # Process results\n",
    "    deg_fraction = find_degraded_fraction(e, deg, tsave)\n",
    "    marker_frames = find_degradation_marker_frames(e, deg_fraction)\n",
    "    marker_times = find_degradation_marker_times(e, marker_frames, tsave)\n",
    "\n",
    "    mol_bind_events = read_mol_bind_events(e, file_code)"
   ]
  },
  {
   "cell_type": "code",
   "execution_count": null,
   "id": "b7fe7afe-43bd-40da-b3b3-90c55bc14a4b",
   "metadata": {
    "ExecuteTime": {
     "start_time": "2024-01-26T21:12:32.737268700Z"
    }
   },
   "outputs": [],
   "source": [
    "mol_bind_events[0][0][:10]"
   ]
  },
  {
   "cell_type": "markdown",
   "id": "15c42a5f-9bf5-4fa6-b6d2-0c1a8f706308",
   "metadata": {
    "tags": []
   },
   "source": [
    "# Microscale Measures"
   ]
  },
  {
   "cell_type": "code",
   "execution_count": null,
   "id": "00c9a702-d168-408c-83d7-abfc90a31cc8",
   "metadata": {
    "tags": [],
    "ExecuteTime": {
     "start_time": "2024-01-26T21:12:32.738770100Z"
    }
   },
   "outputs": [],
   "source": [
    "tPA_leaving_times = {}\n",
    "lysis_times = {}\n",
    "tPA_forced_unbind = {}\n",
    "tPA_kinetic_unbind = {}\n",
    "for run in runs:\n",
    "    # Select and load scenario\n",
    "    mech = mechanisms[mechanisms[\"descriptor\"] == run[\"mechanism\"]][0]\n",
    "    scen = scenarios[scenarios[\"descriptor\"] == run[\"scenario\"]][0]\n",
    "    e = lysis.util.Experiment(os.path.join(\"..\", \"..\", \"..\", \"data\"), experiment_code=run[\"exp_code\"])\n",
    "    # e = lysis.util.Experiment(\n",
    "    #     os.path.join(\"/\", \"home\", \"bpaynter\", \"Archive\", \"lysis_data\"), experiment_code=run[\"exp_code\"]\n",
    "    # )\n",
    "    e.read_file()\n",
    "    y_distance = np.arange(e.macro_params.rows - 1) * e.macro_params.grid_node_distance\n",
    "    file_code = in_file_code.format(input_code=diameter_code[scen[\"fiber_diameter\"]])\n",
    "\n",
    "    print(run[\"exp_code\"], file_code)\n",
    "    tPA_leaving_times[scen[\"descriptor\"]] = (\n",
    "        np.loadtxt(\n",
    "            os.path.join(e.os_path, f\"tsectPA{file_code}\"),\n",
    "        )[1:]\n",
    "        / 60\n",
    "    )\n",
    "    lysis_times[scen[\"descriptor\"]] = (\n",
    "        np.loadtxt(\n",
    "            os.path.join(e.os_path, f\"lysismat{file_code}\"),\n",
    "            # delimiter=\"   \",\n",
    "        )\n",
    "        / 60\n",
    "    )\n",
    "    # tPA_forced_unbind[scen[\"descriptor\"]] = np.fromfile(\n",
    "    #     os.path.join(\n",
    "    #         e.os_path, f\"tPAPLiunbd{file_code}\"\n",
    "    #     ),\n",
    "    #     dtype=np.int32,\n",
    "    # )\n",
    "    # tPA_kinetic_unbind[scen[\"descriptor\"]] = np.fromfile(\n",
    "    #     os.path.join(\n",
    "    #         e.os_path, f\"tPAunbind{file_code}\"\n",
    "    #     ),\n",
    "    #     dtype=np.int32,\n",
    "    # )"
   ]
  },
  {
   "cell_type": "code",
   "execution_count": null,
   "id": "43d01d19-3fe0-4716-8fde-8c5ae2736cdb",
   "metadata": {
    "tags": [],
    "ExecuteTime": {
     "start_time": "2024-01-26T21:12:32.740271600Z"
    }
   },
   "outputs": [],
   "source": [
    "mean_std_string = \"{mean:.3f} \\u00B1 {std:.3f}\"\n",
    "microscale_df = pd.DataFrame(columns=scenarios[\"descriptor\"])\n",
    "microscale_df.loc[\"Fibers Degraded\"] = [\n",
    "    f\"{np.count_nonzero(lysis_times[scen][lysis_times[scen] < 6000]):,}\" for scen in scenarios[\"descriptor\"]\n",
    "]\n",
    "microscale_df.loc[\"Lysis Time (sec)\"] = [\n",
    "    mean_std_string.format(\n",
    "        mean=np.mean(lysis_times[scen][lysis_times[scen] < 6000]),\n",
    "        std=np.std(lysis_times[scen][lysis_times[scen] < 6000]),\n",
    "    )\n",
    "    for scen in scenarios[\"descriptor\"]\n",
    "]\n",
    "# microscale_df.loc[\"tPA Unbound\"] = [\n",
    "#     f\"{np.count_nonzero(tPA_forced_unbind[scen]) + np.count_nonzero(tPA_kinetic_unbind[scen]):,}\"\n",
    "#     for scen in scenarios[\"descriptor\"]\n",
    "# ]\n",
    "microscale_df.loc[\"tPA Leaving Time (sec)\"] = [\n",
    "    mean_std_string.format(mean=np.mean(tPA_leaving_times[scen]), std=np.std(tPA_leaving_times[scen]))\n",
    "    for scen in scenarios[\"descriptor\"]\n",
    "]\n",
    "# microscale_df.loc[\"tPA Forced to Unbind\"] = [\n",
    "#     f\"{np.count_nonzero(tPA_forced_unbind[scen]) / (np.count_nonzero(tPA_forced_unbind[scen]) + np.count_nonzero(tPA_kinetic_unbind[scen])):.2%}\"\n",
    "#     for scen in scenarios[\"descriptor\"]\n",
    "# ]\n",
    "# print(microscale_df.T.style.to_latex())\n",
    "microscale_df"
   ]
  },
  {
   "cell_type": "code",
   "execution_count": null,
   "id": "96219602-24c2-4669-a2a0-0c88f1cfc5ea",
   "metadata": {
    "ExecuteTime": {
     "start_time": "2024-01-26T21:12:32.741769Z"
    }
   },
   "outputs": [],
   "source": []
  }
 ],
 "metadata": {
  "kernelspec": {
   "display_name": "Python 3 (ipykernel)",
   "language": "python",
   "name": "python3"
  },
  "language_info": {
   "codemirror_mode": {
    "name": "ipython",
    "version": 3
   },
   "file_extension": ".py",
   "mimetype": "text/x-python",
   "name": "python",
   "nbconvert_exporter": "python",
   "pygments_lexer": "ipython3",
   "version": "3.10.8"
  }
 },
 "nbformat": 4,
 "nbformat_minor": 5
}
