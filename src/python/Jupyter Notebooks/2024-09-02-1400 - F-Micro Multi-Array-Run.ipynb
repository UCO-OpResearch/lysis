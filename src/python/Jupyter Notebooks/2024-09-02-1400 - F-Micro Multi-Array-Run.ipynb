{
 "cells": [
  {
   "cell_type": "markdown",
   "id": "1ca5c835-3327-4270-99f7-f4af2e591939",
   "metadata": {},
   "source": [
    "# Runs for Micro-wrapper development"
   ]
  },
  {
   "cell_type": "code",
   "execution_count": 1,
   "id": "15194d88-70da-43ec-ae61-7398cc0c17c8",
   "metadata": {
    "ExecuteTime": {
     "end_time": "2024-01-26T16:13:01.730311200Z",
     "start_time": "2024-01-26T16:13:01.576282500Z"
    },
    "tags": []
   },
   "outputs": [
    {
     "data": {
      "text/html": [
       "\n",
       "                <script type=\"application/javascript\" id=\"jupyter_black\">\n",
       "                (function() {\n",
       "                    if (window.IPython === undefined) {\n",
       "                        return\n",
       "                    }\n",
       "                    var msg = \"WARNING: it looks like you might have loaded \" +\n",
       "                        \"jupyter_black in a non-lab notebook with \" +\n",
       "                        \"`is_lab=True`. Please double check, and if \" +\n",
       "                        \"loading with `%load_ext` please review the README!\"\n",
       "                    console.log(msg)\n",
       "                    alert(msg)\n",
       "                })()\n",
       "                </script>\n",
       "                "
      ],
      "text/plain": [
       "<IPython.core.display.HTML object>"
      ]
     },
     "metadata": {},
     "output_type": "display_data"
    }
   ],
   "source": [
    "import black\n",
    "import jupyter_black\n",
    "\n",
    "jupyter_black.load(\n",
    "    lab=True,\n",
    "    line_length=110,\n",
    "    target_version=black.TargetVersion.PY311,\n",
    ")"
   ]
  },
  {
   "cell_type": "code",
   "execution_count": 2,
   "id": "5e6538d6-60fb-4db7-a818-7087200f24e6",
   "metadata": {
    "ExecuteTime": {
     "end_time": "2024-01-26T16:13:26.253248600Z",
     "start_time": "2024-01-26T16:13:24.618849300Z"
    }
   },
   "outputs": [],
   "source": [
    "import os\n",
    "import subprocess\n",
    "import sys\n",
    "\n",
    "sys.path.insert(1, os.path.abspath(\"..\"))\n",
    "\n",
    "import GooseSLURM as gs\n",
    "import numpy as np\n",
    "\n",
    "import lysis"
   ]
  },
  {
   "cell_type": "code",
   "execution_count": 3,
   "id": "9860e975-4be3-4514-af0a-06096bb2b44b",
   "metadata": {
    "ExecuteTime": {
     "end_time": "2024-01-26T16:13:54.380142900Z",
     "start_time": "2024-01-26T16:13:54.360642500Z"
    }
   },
   "outputs": [],
   "source": [
    "micro_scenario_type = np.dtype(\n",
    "    [\n",
    "        (\"descriptor\", np.str_, 40),\n",
    "        (\"nodes\", int),\n",
    "        (\"fiber_diameter\", float),  # in microns. Needs to be added to pore_size to get grid_node_distance\n",
    "        (\"diss_const_tPA_wPLG\", float),\n",
    "        (\"diss_const_tPA_woPLG\", float),\n",
    "    ]\n",
    ")\n",
    "macro_scenario_type = np.dtype(\n",
    "    [\n",
    "        (\"descriptor\", np.str_, 40),\n",
    "        (\"total_molecules\", int),\n",
    "        (\"pore_size\", float),  # in microns. Code requires cm\n",
    "        (\"fiber_diameter\", float),  # in microns. Needs to be added to pore_size to get grid_node_distance\n",
    "        (\"binding_sites\", int),\n",
    "        (\"cols\", int),\n",
    "        (\"rows\", int),\n",
    "        (\"empty_rows\", int),\n",
    "        (\"forced_unbind\", float),\n",
    "        (\"average_bind_time\", float),\n",
    "    ]\n",
    ")\n",
    "mechanism_type = np.dtype([(\"descriptor\", np.str_, 40), (\"executable\", np.str_, 40)])\n",
    "run_type = np.dtype(\n",
    "    [\n",
    "        (\"exp_code\", np.str_, 15),\n",
    "        (\"source_code\", np.str_, 15),\n",
    "        (\"macro_scenario\", np.str_, 40),\n",
    "        (\"micro_scenario\", np.str_, 40),\n",
    "        (\"mechanism\", np.str_, 40),\n",
    "        (\"seed\", np.int64),\n",
    "    ]\n",
    ")\n",
    "diameter_code = {\n",
    "    46: \"Q0\",\n",
    "    72.7: \"Q2\",\n",
    "    105.1: \"TF\",\n",
    "    123.0: \"TB\",\n",
    "    145.4: \"Q4\",\n",
    "}"
   ]
  },
  {
   "cell_type": "code",
   "execution_count": 4,
   "id": "8acd2e5a-a400-4c6f-bd8d-20606e7a743d",
   "metadata": {
    "ExecuteTime": {
     "end_time": "2024-01-26T16:13:56.552869700Z",
     "start_time": "2024-01-26T16:13:56.534859700Z"
    }
   },
   "outputs": [],
   "source": [
    "micro_scenarios = np.array(\n",
    "    [\n",
    "        (\"0.1-PKd\", 7,  72.7, 0.002, 0.036),\n",
    "        (\"1-PKd\",   7,  72.7, 0.02,  0.36),\n",
    "        (\"10-PKd\",  7,  72.7, 0.2,   3.6),\n",
    "        (\"TN-L\",    7,  72.7, 0.02,  0.36),\n",
    "        (\"TN-D\",    7,  72.7, 0.02,  0.36),\n",
    "        (\"TK-L\",   13, 145.4, 0.02,  0.36),\n",
    "        (\"TK-D\",   13, 145.4, 0.02,  0.36),\n",
    "        (\"TB-xi\",  11, 123,   0.02,  0.36),\n",
    "        (\"TF-x\",   10, 105.1, 0.02,  0.36),\n",
    "        (\"TF-vii\",  7, 105.1, 0.02,  0.36),\n",
    "        (\"TF-v\",    5, 105.1, 0.02,  0.36),\n",
    "    ],\n",
    "    dtype=micro_scenario_type,\n",
    ")\n",
    "macro_scenarios = np.array(\n",
    "    [\n",
    "        (\"0.1-PKd\",        43_074, 1.0135,  72.7, 427,     93, 121,  28, 0.5143,   277.8),\n",
    "        (\"1-PKd\",          43_074, 1.0135,  72.7, 427,     93, 121,  28, 8.52e-2,   27.8),\n",
    "        (\"10-PKd\",         43_074, 1.0135,  72.7, 427,     93, 121,  28, 5.4e-3,     2.78),\n",
    "        (\"TN-L__9_350\",     9_350, 1.0135,  72.7, 427,     93,  93,   0, 0.0852,    27.8),\n",
    "        (\"TN-D__9_350\",     9_350, 0.22,    72.7, 427,    342, 116,   0, 0.0852,    27.8),\n",
    "        (\"TK-L__9_350\",     9_350, 1.0135, 145.4, 213,     87,  29,   0, 0.0729129, 27.8),\n",
    "        (\"TK-D__9_350\",     9_350, 0.22,   145.4, 213,    274,  42,   0, 0.0729129, 27.8),\n",
    "        (\"TB-xi__21_105\",  21_105, 5.34,   123,   248.531, 19, 184,  83, 0.077725,  27.8),\n",
    "        (\"TF-x__9_951\",     9_951, 2.5,    105.1, 306.357, 39, 385, 326, 0.078644,  27.8),\n",
    "        (\"TF-vii__9_951\",   9_951, 2.5,    105.1, 204.238, 39, 385, 265, 0.086698,  27.8),\n",
    "        (\"TF-v__9_951\",     9_951, 2.5,    105.1, 136.159, 39, 385, 151, 0.084703,  27.8),\n",
    "    ],\n",
    "    dtype=macro_scenario_type,\n",
    ")\n",
    "mechanisms = np.array(\n",
    "    [\n",
    "        (\"Into and along - External\", \"macro_diffuse_into_and_along__external\"),\n",
    "        (\"Into and along - Internal\", \"macro_diffuse_into_and_along__internal\"),\n",
    "    ],\n",
    "    dtype=mechanism_type,\n",
    ")"
   ]
  },
  {
   "cell_type": "code",
   "execution_count": 5,
   "id": "7fc6b68b-a8b1-4c5a-956e-3efe8234ce92",
   "metadata": {
    "ExecuteTime": {
     "end_time": "2024-01-26T16:13:57.611098700Z",
     "start_time": "2024-01-26T16:13:57.585598600Z"
    }
   },
   "outputs": [],
   "source": [
    "in_file_code = \"_PLG2_tPA01_{input_code}.dat\"\n",
    "out_file_code = \"_{scenario_code}\""
   ]
  },
  {
   "cell_type": "code",
   "execution_count": 6,
   "id": "ebe8c9d5-f35e-4e19-b72e-43fea2254325",
   "metadata": {
    "ExecuteTime": {
     "end_time": "2024-01-26T16:13:58.585036800Z",
     "start_time": "2024-01-26T16:13:58.562022100Z"
    }
   },
   "outputs": [],
   "source": [
    "# seed sequence entropy: 234567848524899077628396107049383963466\n",
    "group_code = \"2024-09-02-14\"\n",
    "runs = np.array(\n",
    "    [\n",
    "        (group_code + \"00\", \"2023-02-02-2203\", \"Phys-Kd\", \"Into and along - External\", -2137354075),\n",
    "        (group_code + \"01\", \"2023-02-02-2208\", \"10x-sm-Kd\", \"Into and along - External\", -854989241),\n",
    "        (group_code + \"02\", \"2023-02-02-2213\", \"10x-bg-Kd\", \"Into and along - External\", -1212172957),\n",
    "        (group_code + \"03\", \"2023-12-10-1900\", \"TN-L_9350\", \"Into and along - Internal\", 1_034_836_197),\n",
    "        (group_code + \"04\", \"2023-12-10-1903\", \"TN-D_9350\", \"Into and along - Internal\", 129_314_213),\n",
    "        (group_code + \"05\", \"2023-12-10-1906\", \"TK-L_9350\", \"Into and along - Internal\", 2_608_028_918),\n",
    "        (group_code + \"06\", \"2023-12-10-1909\", \"TK-D_9350\", \"Into and along - Internal\", 106_672_317),\n",
    "        (group_code + \"07\", \"2024-04-16-1912\", \"TB-xi__21_105\", \"Into and along - External\", 2_061_649_767),\n",
    "        (group_code + \"08\", \"2024-04-16-1913\", \"TF-x__9_951\", \"Into and along - External\", 3_687_972_975),\n",
    "        (group_code + \"09\", \"2024-04-16-1914\", \"TF-vii__9_951\", \"Into and along - External\", 1_422_833_478),\n",
    "        (group_code + \"10\", \"2024-04-16-1915\", \"TF-v__9_951\", \"Into and along - External\", 77_748_149),\n",
    "    ],\n",
    "    dtype=run_type,\n",
    ")"
   ]
  },
  {
   "cell_type": "code",
   "execution_count": 7,
   "id": "e5667d27-3084-4c94-a36b-67f243daaa0e",
   "metadata": {
    "ExecuteTime": {
     "end_time": "2024-01-26T16:18:07.586256100Z",
     "start_time": "2024-01-26T16:18:06.873822100Z"
    }
   },
   "outputs": [
    {
     "name": "stdout",
     "output_type": "stream",
     "text": [
      "CompletedProcess(args=['cp', 'src/fortran/macro_diffuse_into_and_along__external.f90', '/home/bpaynter/git/UCO-OpResearch/lysis/data/2024-04-16-1912'], returncode=0, stdout=b'', stderr=b'')\n",
      "CompletedProcess(args=['cp', 'src/fortran/macro_diffuse_into_and_along__external.f90', '/home/bpaynter/git/UCO-OpResearch/lysis/data/2024-04-16-1913'], returncode=0, stdout=b'', stderr=b'')\n",
      "CompletedProcess(args=['cp', 'src/fortran/macro_diffuse_into_and_along__external.f90', '/home/bpaynter/git/UCO-OpResearch/lysis/data/2024-04-16-1914'], returncode=0, stdout=b'', stderr=b'')\n",
      "CompletedProcess(args=['cp', 'src/fortran/macro_diffuse_into_and_along__external.f90', '/home/bpaynter/git/UCO-OpResearch/lysis/data/2024-04-16-1915'], returncode=0, stdout=b'', stderr=b'')\n"
     ]
    }
   ],
   "source": [
    "for run in runs:\n",
    "    mech = mechanisms[mechanisms[\"descriptor\"] == run[\"mechanism\"]][0]\n",
    "    scen = scenarios[scenarios[\"descriptor\"] == run[\"scenario\"]][0]\n",
    "    e = lysis.util.Experiment(\n",
    "        os.path.join(\"/\", \"home\", \"bpaynter\", \"git\", \"UCO-OpResearch\", \"lysis\", \"data\"),\n",
    "        experiment_code=run[\"exp_code\"],\n",
    "    )\n",
    "    p = {\n",
    "        \"total_molecules\": int(scen[\"total_molecules\"]),\n",
    "        \"pore_size\": scen[\"pore_size\"] / 10_000,  # convert to cm\n",
    "        \"grid_node_distance\": scen[\"fiber_diameter\"] / 1_000 + scen[\"pore_size\"],\n",
    "        \"binding_sites\": int(scen[\"binding_sites\"]),\n",
    "        \"cols\": int(scen[\"cols\"]),\n",
    "        \"rows\": int(scen[\"rows\"]),\n",
    "        \"empty_rows\": int(scen[\"empty_rows\"]),\n",
    "        \"forced_unbind\": scen[\"forced_unbind\"],\n",
    "        \"average_bind_time\": scen[\"average_bind_time\"],\n",
    "        \"seed\": int(run[\"seed\"]),\n",
    "        \"macro_version\": mech[\"executable\"],\n",
    "    }\n",
    "    e.initialize_macro_param(p)\n",
    "    e.to_file()\n",
    "\n",
    "    with open(os.path.join(e.os_path, \"README.md\"), \"w\") as file:\n",
    "        file.write(\n",
    "            f\"\"\" ## {e.experiment_code}\n",
    "Lysis Front study\n",
    "Array version\n",
    "New scenarios from bench experiments\n",
    "\n",
    "Uses Fortran Macroscale code with\n",
    "    -  Diffuse into and along\n",
    "    -  'restricted move' bug correction\n",
    "    -  'passerby molecule' bug correction\n",
    "    -  addition of extra output data\n",
    "    -  changing the termination criteria from 'fixed time' to 'all fibers degraded'\n",
    "    -  changing macro-unbind wait time to remaining leaving time.\n",
    "    -  eliminating unused data variables\n",
    "    -  Moved degraded fiber check into molecule loop\n",
    "    -  Removed \"degrade\" array and use \"t_degrade\" instead\n",
    "    -  Read in \"neighborc\" array generated in Python\n",
    "    -  Output molecule bind/unbind times for transit time calculations\n",
    "    -  Output molecule bind/unbind locations.\n",
    "\n",
    "This set of data is from the \"{run['scenario']}\" set.\n",
    "\"\"\"\n",
    "        )\n",
    "\n",
    "    result = subprocess.run(\n",
    "        [\"cp\", os.path.join(\"src\", \"fortran\", mech[\"executable\"] + \".f90\"), e.os_path],\n",
    "        cwd=os.path.join(\"/\", \"home\", \"bpaynter\", \"git\", \"UCO-OpResearch\", \"lysis\"),\n",
    "        capture_output=True,\n",
    "    )\n",
    "    print(result)"
   ]
  },
  {
   "cell_type": "code",
   "execution_count": 8,
   "id": "f210f49b-efb9-425a-9ec5-9f51722c3b98",
   "metadata": {},
   "outputs": [],
   "source": [
    "folder_vars = \"\"\"\n",
    "homedir=\"/home/bpaynter/git/UCO-OpResearch/lysis\"\n",
    "workdir=\"/tmp/bpaynter/${SLURM_ARRAY_JOB_ID}-${SLURM_ARRAY_TASK_ID}\"\n",
    "datadir=\"${workdir}/data/${exp_code}\"\n",
    "\"\"\"\n",
    "\n",
    "transfer_script = \"\"\"\n",
    "# 1. Transfer to node \n",
    "# ====================\n",
    "echo \"Starting data transfer to node.\"\n",
    "\n",
    "# create/empty the temporary directory on the compute node\n",
    "if [ ! -d \"${workdir}\" ]; then\n",
    "  mkdir -p \"${workdir}\"\n",
    "else\n",
    "  echo rm -ri \"${workdir}\"/*\n",
    "fi\n",
    "\n",
    "mkdir -p \"${datadir}\"\n",
    "\n",
    "cp ${homedir}/data/${exp_code}/*${in_code} ${datadir}/\n",
    "cp ${homedir}/data/${exp_code}/params.json ${datadir}/\n",
    "cp ${homedir}/bin/${fort_executable} ${workdir}/\n",
    "echo \"Data transfer to node completed.\"\n",
    "\"\"\"\n",
    "\n",
    "return_script = \"\"\"\n",
    "# 2. Function to transfer back to the head node \n",
    "# ==============================================\n",
    "\n",
    "# define clean-up function\n",
    "function clean_up {\n",
    "  sim=$(printf \"%02d\" ${SLURM_ARRAY_TASK_ID})\n",
    "  # - copy everything from the temporary directory on the compute-node\n",
    "  echo \"Copying data back to home directory.\"\n",
    "  mkdir -p ${homedir}/data/${exp_code}/$sim\n",
    "  cp -prf \"${datadir}\"/*${out_code}* ${homedir}/data/${exp_code}/$sim/\n",
    "  cp -prf \"${datadir}\"/*.txt ${homedir}/data/${exp_code}/$sim/\n",
    "  # - erase the temporary directory from the compute-node\n",
    "  echo \"Erasing temporary directories.\"\n",
    "  rm -rf \"${workdir}\"/*\n",
    "  rm -rf \"${workdir}\"\n",
    "  # - exit the script\n",
    "  echo \"Job complete. Exiting.\"\n",
    "  exit\n",
    "}\n",
    "\n",
    "# call \"clean_up\" function when this script exits, it is run even if SLURM cancels the job\n",
    "trap 'clean_up' EXIT\n",
    "\"\"\"\n",
    "execute_script = \"\"\"\n",
    "# 3. Execute \n",
    "# ===========\n",
    "\n",
    "source /home/bpaynter/.bashrc\n",
    "source /home/bpaynter/lysis.sh\n",
    "cd ${homedir}/src/python\n",
    "echo \"Starting code execution.\"\n",
    "\n",
    "python -u fortran_run.py \\\n",
    "    --in_code ${in_code} \\\n",
    "    --out_code ${out_code}.dat \\\n",
    "    -n $SLURM_ARRAY_TASK_ID \\\n",
    "    --cwd ${workdir} \\\n",
    "    ${workdir}/${fort_executable} \\\n",
    "    ${exp_code}\n",
    "    \n",
    "sleep 10\n",
    "echo \"Code execution complete.\"\n",
    "\"\"\""
   ]
  },
  {
   "cell_type": "code",
   "execution_count": 9,
   "id": "90162ce4-4da6-41c7-9165-d5f302a84771",
   "metadata": {},
   "outputs": [
    {
     "name": "stdout",
     "output_type": "stream",
     "text": [
      "CompletedProcess(args=['sbatch', '/home/bpaynter/git/UCO-OpResearch/lysis/data/2024-04-16-1912/job.slurm'], returncode=0, stdout=b'Submitted batch job 2223365\\n', stderr=b'')\n",
      "CompletedProcess(args=['sbatch', '/home/bpaynter/git/UCO-OpResearch/lysis/data/2024-04-16-1913/job.slurm'], returncode=0, stdout=b'Submitted batch job 2223366\\n', stderr=b'')\n",
      "CompletedProcess(args=['sbatch', '/home/bpaynter/git/UCO-OpResearch/lysis/data/2024-04-16-1914/job.slurm'], returncode=0, stdout=b'Submitted batch job 2223367\\n', stderr=b'')\n",
      "CompletedProcess(args=['sbatch', '/home/bpaynter/git/UCO-OpResearch/lysis/data/2024-04-16-1915/job.slurm'], returncode=0, stdout=b'Submitted batch job 2223368\\n', stderr=b'')\n"
     ]
    }
   ],
   "source": [
    "for run in runs:\n",
    "    mech = mechanisms[mechanisms[\"descriptor\"] == run[\"mechanism\"]][0]\n",
    "    scen = scenarios[scenarios[\"descriptor\"] == run[\"scenario\"]][0]\n",
    "    e = lysis.util.Experiment(\n",
    "        os.path.join(\"/\", \"home\", \"bpaynter\", \"git\", \"UCO-OpResearch\", \"lysis\", \"data\"),\n",
    "        experiment_code=run[\"exp_code\"],\n",
    "    )\n",
    "    e.read_file()\n",
    "    run_vars = f\"\"\"\n",
    "exp_code=\"{e.experiment_code}\"\n",
    "in_code=\"{in_file_code.format(input_code=run[\"scenario\"].split(\"_\")[0])}\"\n",
    "out_code=\"{out_file_code.format(scenario_code=run['scenario'])}\"\n",
    "fort_executable=\"{mech['executable']}\"\n",
    "echo \"Experiment ${{exp_code}} (${{out_code}}), Simulation #${{SLURM_ARRAY_TASK_ID}}\"\n",
    "\"\"\"\n",
    "    # job-options\n",
    "    sbatch = {\n",
    "        \"job-name\": f\"lysis-{e.experiment_code}\",\n",
    "        \"out\": os.path.join(e.os_path, \"job.slurm-%A-%a.out\"),\n",
    "        \"array\": f\"0-{e.macro_params.total_trials-1}\",\n",
    "        \"nodes\": 1,\n",
    "        \"mem\": 3096,\n",
    "        \"ntasks\": 1,\n",
    "        \"cpus-per-task\": 1,\n",
    "        \"exclusive=user\": \"\",\n",
    "        # \"exclusive\": \"\",\n",
    "        \"partition\": \"long\",\n",
    "    }\n",
    "    script = [run_vars, folder_vars, transfer_script, return_script, execute_script]\n",
    "    with open(os.path.join(e.os_path, \"job.slurm\"), \"w\") as file:\n",
    "        file.write(gs.scripts.plain(script, **sbatch))\n",
    "    result = subprocess.run(\n",
    "        [\"sbatch\", os.path.join(e.os_path, \"job.slurm\")],\n",
    "        cwd=os.path.join(\"/\", \"home\", \"bpaynter\", \"git\", \"UCO-OpResearch\", \"lysis\"),\n",
    "        capture_output=True,\n",
    "    )\n",
    "    print(result)"
   ]
  },
  {
   "cell_type": "code",
   "execution_count": null,
   "id": "41e871aa-ebfc-48a5-9b50-4932feb9d800",
   "metadata": {},
   "outputs": [],
   "source": []
  },
  {
   "cell_type": "code",
   "execution_count": null,
   "id": "5db8f208-e0f8-4f89-923d-7b636a20c6c0",
   "metadata": {},
   "outputs": [],
   "source": []
  }
 ],
 "metadata": {
  "kernelspec": {
   "display_name": "Python 3 (ipykernel)",
   "language": "python",
   "name": "python3"
  },
  "language_info": {
   "codemirror_mode": {
    "name": "ipython",
    "version": 3
   },
   "file_extension": ".py",
   "mimetype": "text/x-python",
   "name": "python",
   "nbconvert_exporter": "python",
   "pygments_lexer": "ipython3",
   "version": "3.10.8"
  }
 },
 "nbformat": 4,
 "nbformat_minor": 5
}
