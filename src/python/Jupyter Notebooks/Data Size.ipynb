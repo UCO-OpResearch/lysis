{
 "cells": [
  {
   "cell_type": "code",
   "execution_count": 1,
   "id": "90781297-8b3b-4c41-93de-50e4b6791245",
   "metadata": {
    "tags": []
   },
   "outputs": [
    {
     "data": {
      "text/html": [
       "\n",
       "                <script type=\"application/javascript\" id=\"jupyter_black\">\n",
       "                (function() {\n",
       "                    if (window.IPython === undefined) {\n",
       "                        return\n",
       "                    }\n",
       "                    var msg = \"WARNING: it looks like you might have loaded \" +\n",
       "                        \"jupyter_black in a non-lab notebook with \" +\n",
       "                        \"`is_lab=True`. Please double check, and if \" +\n",
       "                        \"loading with `%load_ext` please review the README!\"\n",
       "                    console.log(msg)\n",
       "                    alert(msg)\n",
       "                })()\n",
       "                </script>\n",
       "                "
      ],
      "text/plain": [
       "<IPython.core.display.HTML object>"
      ]
     },
     "metadata": {},
     "output_type": "display_data"
    }
   ],
   "source": [
    "import black\n",
    "import jupyter_black\n",
    "\n",
    "jupyter_black.load(\n",
    "    lab=True,\n",
    "    line_length=110,\n",
    "    target_version=black.TargetVersion.PY310,\n",
    ")"
   ]
  },
  {
   "cell_type": "code",
   "execution_count": 2,
   "id": "f34e5361-45a7-4235-bc3e-dfb849f16ab1",
   "metadata": {
    "tags": []
   },
   "outputs": [],
   "source": [
    "import datetime\n",
    "import functools\n",
    "import math\n",
    "import os\n",
    "import pickle\n",
    "import re\n",
    "import sys\n",
    "\n",
    "sys.path.insert(1, os.path.abspath(\"..\"))\n",
    "\n",
    "from enum import IntEnum, unique\n",
    "\n",
    "import scipy\n",
    "\n",
    "import networkx as nx\n",
    "import numpy as np\n",
    "import matplotlib.pyplot as plt\n",
    "import matplotlib as mpl\n",
    "import pandas as pd\n",
    "\n",
    "from matplotlib.animation import FFMpegWriter, FuncAnimation\n",
    "from matplotlib.colors import BoundaryNorm, ListedColormap\n",
    "from pint import UnitRegistry\n",
    "from tqdm.notebook import trange, tqdm, tnrange\n",
    "\n",
    "import lysis\n",
    "\n",
    "pd.reset_option(\"display.precision\")\n",
    "pd.set_option(\"display.float_format\", lambda x: f\"{x:,.3f}\")"
   ]
  },
  {
   "cell_type": "code",
   "execution_count": 3,
   "id": "eb7320e2-8063-4791-ad57-6e884ebd0ffe",
   "metadata": {
    "tags": []
   },
   "outputs": [],
   "source": [
    "@unique\n",
    "class MolStatus(IntEnum):\n",
    "    UNBOUND = 0\n",
    "    BOUND = 1\n",
    "    MACRO_UNBOUND = 2\n",
    "    MICRO_UNBOUND = 3\n",
    "\n",
    "\n",
    "ureg = UnitRegistry()\n",
    "Q_ = ureg.Quantity"
   ]
  },
  {
   "cell_type": "code",
   "execution_count": 4,
   "id": "f17fa2fe-2b0f-482c-828d-f86fb21d838b",
   "metadata": {},
   "outputs": [],
   "source": [
    "scenario_type = np.dtype(\n",
    "    [\n",
    "        (\"descriptor\", np.str_, 40),\n",
    "        (\"total_molecules\", int),\n",
    "        (\"pore_size\", float),  # in microns. Code requires cm\n",
    "        (\"fiber_diameter\", float),  # in microns. Needs to be added to pore_size to get grid_node_distance\n",
    "        (\"binding_sites\", int),\n",
    "        (\"cols\", int),\n",
    "        (\"rows\", int),\n",
    "        (\"empty_rows\", int),\n",
    "        (\"forced_unbind\", float),\n",
    "    ]\n",
    ")\n",
    "mechanism_type = np.dtype([(\"descriptor\", np.str_, 40), (\"executable\", np.str_, 40)])\n",
    "run_type = np.dtype(\n",
    "    [\n",
    "        (\"exp_code\", np.str_, 15),\n",
    "        (\"scenario\", np.str_, 40),\n",
    "        (\"mechanism\", np.str_, 40),\n",
    "        (\"seed\", int),\n",
    "        (\"running_time\", int),\n",
    "        (\"save_interval\", int),\n",
    "    ]\n",
    ")\n",
    "diameter_code = {\n",
    "    72.7: \"Q2\",\n",
    "    145.4: \"Q4\",\n",
    "}"
   ]
  },
  {
   "cell_type": "code",
   "execution_count": 5,
   "id": "b2962c43-3f2e-43ba-acd3-4d5546b9c2b2",
   "metadata": {},
   "outputs": [],
   "source": [
    "# seed sequence entropy: 3881821051554698152964433817123076384\n",
    "scenarios = np.array(\n",
    "    [\n",
    "        (\"TN-L_9350\", 9_350, 1.0135, 72.7, 427, 93, 93, 0, 0.0852),\n",
    "        (\"TN-L_307\", 307, 1.0135, 72.7, 427, 93, 93, 0, 0.0852),\n",
    "        (\"TN-D_684\", 684, 0.22, 72.7, 427, 342, 116, 0, 0.0852),\n",
    "        (\"TN-D_9350\", 9_350, 0.22, 72.7, 427, 342, 116, 0, 0.0852),\n",
    "        (\"TN-D_307\", 307, 0.22, 72.7, 427, 342, 116, 0, 0.0852),\n",
    "        (\"TK-L_3042\", 3_042, 1.0135, 145.4, 213, 87, 29, 0, 0.0729129),\n",
    "        (\"TK-L_9350\", 9_350, 1.0135, 145.4, 213, 87, 29, 0, 0.0729129),\n",
    "        (\"TK-L_307\", 307, 1.0135, 145.4, 213, 87, 29, 0, 0.0729129),\n",
    "        (\"TK-D_307\", 307, 0.22, 145.4, 213, 274, 42, 0, 0.0729129),\n",
    "        (\"TK-D_9350\", 9350, 0.22, 145.4, 213, 274, 42, 0, 0.0729129),\n",
    "    ],\n",
    "    dtype=scenario_type,\n",
    ")\n",
    "mechanisms = np.array(\n",
    "    [\n",
    "        (\"Into and along - Internal\", \"macro_diffuse_into_and_along__internal\"),\n",
    "    ],\n",
    "    dtype=mechanism_type,\n",
    ")"
   ]
  },
  {
   "cell_type": "code",
   "execution_count": 6,
   "id": "eb518a85-6147-4032-9d0e-458c7ea152c2",
   "metadata": {},
   "outputs": [],
   "source": [
    "in_file_code = \"_PLG2_tPA01_{input_code}.dat\"\n",
    "out_file_code = \"_{scenario_code}\"\n",
    "\n",
    "# slope_tolerance = 1e-3\n",
    "rng = np.random.default_rng(65463453)"
   ]
  },
  {
   "cell_type": "code",
   "execution_count": 7,
   "id": "5d18fb8b-17f0-402f-b34a-d0988252b1a5",
   "metadata": {},
   "outputs": [],
   "source": [
    "group_code = \"2023-12-10-19\"\n",
    "runs = np.array(\n",
    "    [\n",
    "        (group_code + \"00\", \"TN-L_9350\", \"Into and along - Internal\", 1_034_836_197, 0, 10),\n",
    "        (group_code + \"01\", \"TN-L_307\", \"Into and along - Internal\", 2_464_079_704, 0, 100),\n",
    "        (group_code + \"02\", \"TN-D_684\", \"Into and along - Internal\", 982_919_027, 0, 100),\n",
    "        (group_code + \"03\", \"TN-D_9350\", \"Into and along - Internal\", 129_314_213, 0, 10),\n",
    "        (group_code + \"04\", \"TN-D_307\", \"Into and along - Internal\", 2_705_873_059, 0, 100),\n",
    "        (group_code + \"05\", \"TK-L_3042\", \"Into and along - Internal\", 2_104_158_012, 0, 10),\n",
    "        (group_code + \"06\", \"TK-L_9350\", \"Into and along - Internal\", 2_608_028_918, 0, 10),\n",
    "        (group_code + \"07\", \"TK-L_307\", \"Into and along - Internal\", 1_819_293_232, 0, 100),\n",
    "        (group_code + \"08\", \"TK-D_307\", \"Into and along - Internal\", 3_128_495_922, 0, 100),\n",
    "        (group_code + \"09\", \"TK-D_9350\", \"Into and along - Internal\", 106_672_317, 0, 10),\n",
    "    ],\n",
    "    dtype=run_type,\n",
    ")"
   ]
  },
  {
   "cell_type": "code",
   "execution_count": 8,
   "id": "60f064b2-0063-4bd6-870f-4c6b0ed6093b",
   "metadata": {},
   "outputs": [
    {
     "data": {
      "text/plain": [
       "['mfpt', 'f_deg_time', 'm_loc', 'Nsave', 'm_bind_t', 'tsave', 'm_bound']"
      ]
     },
     "execution_count": 8,
     "metadata": {},
     "output_type": "execute_result"
    }
   ],
   "source": [
    "e = lysis.util.Experiment(os.path.join(\"..\", \"..\", \"..\", \"data\"), experiment_code=runs[0][\"exp_code\"])\n",
    "files = [x for x in os.listdir(os.path.join(e.os_path, \"00\")) if x.endswith(\".dat\")]\n",
    "mech = mechanisms[mechanisms[\"descriptor\"] == runs[0][\"mechanism\"]][0]\n",
    "scen = scenarios[scenarios[\"descriptor\"] == runs[0][\"scenario\"]][0]\n",
    "file_code = out_file_code.format(scenario_code=runs[0][\"scenario\"])\n",
    "root_names = [name[: name.find(file_code)] for name in files]\n",
    "root_names"
   ]
  },
  {
   "cell_type": "code",
   "execution_count": 9,
   "id": "63630564-6fac-4f43-a93f-dd499564c036",
   "metadata": {},
   "outputs": [
    {
     "data": {
      "application/vnd.jupyter.widget-view+json": {
       "model_id": "0f3238de0b47411996c997e4e2cf3a6c",
       "version_major": 2,
       "version_minor": 0
      },
      "text/plain": [
       "  0%|          | 0/10 [00:00<?, ?it/s]"
      ]
     },
     "metadata": {},
     "output_type": "display_data"
    }
   ],
   "source": [
    "df = pd.DataFrame(index=scenarios[\"descriptor\"], columns=root_names)\n",
    "for run in tqdm(runs):\n",
    "    # Select and load scenario\n",
    "    mech = mechanisms[mechanisms[\"descriptor\"] == run[\"mechanism\"]][0]\n",
    "    scen = scenarios[scenarios[\"descriptor\"] == run[\"scenario\"]][0]\n",
    "    e = lysis.util.Experiment(os.path.join(\"..\", \"..\", \"..\", \"data\"), experiment_code=run[\"exp_code\"])\n",
    "    # e = lysis.util.Experiment(\n",
    "    #     os.path.join(\"/\", \"home\", \"bpaynter\", \"Archive\", \"lysis_data\"), experiment_code=run[\"exp_code\"]\n",
    "    # )\n",
    "    e.read_file()\n",
    "    file_code = out_file_code.format(scenario_code=run[\"scenario\"])\n",
    "    for file in root_names:\n",
    "        df.loc[scen[\"descriptor\"], file] = sum(\n",
    "            [\n",
    "                os.stat(os.path.join(e.os_path, f\"{sim:02d}\", f\"{file}{file_code}_{sim:02d}.dat\")).st_size\n",
    "                for sim in range(e.macro_params.total_trials)\n",
    "            ]\n",
    "        )"
   ]
  },
  {
   "cell_type": "code",
   "execution_count": 10,
   "id": "118a5063-147f-4315-9e90-d451c1d0471d",
   "metadata": {},
   "outputs": [
    {
     "data": {
      "text/html": [
       "<style type=\"text/css\">\n",
       "</style>\n",
       "<table id=\"T_e8d7c\">\n",
       "  <thead>\n",
       "    <tr>\n",
       "      <th class=\"blank level0\" >&nbsp;</th>\n",
       "      <th id=\"T_e8d7c_level0_col0\" class=\"col_heading level0 col0\" >mfpt</th>\n",
       "      <th id=\"T_e8d7c_level0_col1\" class=\"col_heading level0 col1\" >f_deg_time</th>\n",
       "      <th id=\"T_e8d7c_level0_col2\" class=\"col_heading level0 col2\" >m_loc</th>\n",
       "      <th id=\"T_e8d7c_level0_col3\" class=\"col_heading level0 col3\" >Nsave</th>\n",
       "      <th id=\"T_e8d7c_level0_col4\" class=\"col_heading level0 col4\" >m_bind_t</th>\n",
       "      <th id=\"T_e8d7c_level0_col5\" class=\"col_heading level0 col5\" >tsave</th>\n",
       "      <th id=\"T_e8d7c_level0_col6\" class=\"col_heading level0 col6\" >m_bound</th>\n",
       "    </tr>\n",
       "  </thead>\n",
       "  <tbody>\n",
       "    <tr>\n",
       "      <th id=\"T_e8d7c_level0_row0\" class=\"row_heading level0 row0\" >TN-L_9350</th>\n",
       "      <td id=\"T_e8d7c_row0_col0\" class=\"data row0 col0\" >748,000</td>\n",
       "      <td id=\"T_e8d7c_row0_col1\" class=\"data row0 col1\" >195,989,688</td>\n",
       "      <td id=\"T_e8d7c_row0_col2\" class=\"data row0 col2\" >35,567,400</td>\n",
       "      <td id=\"T_e8d7c_row0_col3\" class=\"data row0 col3\" >40</td>\n",
       "      <td id=\"T_e8d7c_row0_col4\" class=\"data row0 col4\" >182,821,196</td>\n",
       "      <td id=\"T_e8d7c_row0_col5\" class=\"data row0 col5\" >7,608</td>\n",
       "      <td id=\"T_e8d7c_row0_col6\" class=\"data row0 col6\" >35,567,400</td>\n",
       "    </tr>\n",
       "    <tr>\n",
       "      <th id=\"T_e8d7c_level0_row1\" class=\"row_heading level0 row1\" >TN-L_307</th>\n",
       "      <td id=\"T_e8d7c_row1_col0\" class=\"data row1 col0\" >24,560</td>\n",
       "      <td id=\"T_e8d7c_row1_col1\" class=\"data row1 col1\" >418,152,552</td>\n",
       "      <td id=\"T_e8d7c_row1_col2\" class=\"data row1 col2\" >2,491,612</td>\n",
       "      <td id=\"T_e8d7c_row1_col3\" class=\"data row1 col3\" >40</td>\n",
       "      <td id=\"T_e8d7c_row1_col4\" class=\"data row1 col4\" >130,529,172</td>\n",
       "      <td id=\"T_e8d7c_row1_col5\" class=\"data row1 col5\" >16,232</td>\n",
       "      <td id=\"T_e8d7c_row1_col6\" class=\"data row1 col6\" >2,491,612</td>\n",
       "    </tr>\n",
       "    <tr>\n",
       "      <th id=\"T_e8d7c_level0_row2\" class=\"row_heading level0 row2\" >TN-D_684</th>\n",
       "      <td id=\"T_e8d7c_row2_col0\" class=\"data row2 col0\" >54,720</td>\n",
       "      <td id=\"T_e8d7c_row2_col1\" class=\"data row2 col1\" >3,871,630,048</td>\n",
       "      <td id=\"T_e8d7c_row2_col2\" class=\"data row2 col2\" >11,168,352</td>\n",
       "      <td id=\"T_e8d7c_row2_col3\" class=\"data row2 col3\" >40</td>\n",
       "      <td id=\"T_e8d7c_row2_col4\" class=\"data row2 col4\" >602,885,623</td>\n",
       "      <td id=\"T_e8d7c_row2_col5\" class=\"data row2 col5\" >32,656</td>\n",
       "      <td id=\"T_e8d7c_row2_col6\" class=\"data row2 col6\" >11,168,352</td>\n",
       "    </tr>\n",
       "    <tr>\n",
       "      <th id=\"T_e8d7c_level0_row3\" class=\"row_heading level0 row3\" >TN-D_9350</th>\n",
       "      <td id=\"T_e8d7c_row3_col0\" class=\"data row3 col0\" >748,000</td>\n",
       "      <td id=\"T_e8d7c_row3_col1\" class=\"data row3 col1\" >3,107,168,064</td>\n",
       "      <td id=\"T_e8d7c_row3_col2\" class=\"data row3 col2\" >122,522,400</td>\n",
       "      <td id=\"T_e8d7c_row3_col3\" class=\"data row3 col3\" >40</td>\n",
       "      <td id=\"T_e8d7c_row3_col4\" class=\"data row3 col4\" >669,594,850</td>\n",
       "      <td id=\"T_e8d7c_row3_col5\" class=\"data row3 col5\" >26,208</td>\n",
       "      <td id=\"T_e8d7c_row3_col6\" class=\"data row3 col6\" >122,522,400</td>\n",
       "    </tr>\n",
       "    <tr>\n",
       "      <th id=\"T_e8d7c_level0_row4\" class=\"row_heading level0 row4\" >TN-D_307</th>\n",
       "      <td id=\"T_e8d7c_row4_col0\" class=\"data row4 col0\" >24,560</td>\n",
       "      <td id=\"T_e8d7c_row4_col1\" class=\"data row4 col1\" >8,582,650,736</td>\n",
       "      <td id=\"T_e8d7c_row4_col2\" class=\"data row4 col2\" >11,112,172</td>\n",
       "      <td id=\"T_e8d7c_row4_col3\" class=\"data row4 col3\" >40</td>\n",
       "      <td id=\"T_e8d7c_row4_col4\" class=\"data row4 col4\" >600,031,155</td>\n",
       "      <td id=\"T_e8d7c_row4_col5\" class=\"data row4 col5\" >72,392</td>\n",
       "      <td id=\"T_e8d7c_row4_col6\" class=\"data row4 col6\" >11,112,172</td>\n",
       "    </tr>\n",
       "    <tr>\n",
       "      <th id=\"T_e8d7c_level0_row5\" class=\"row_heading level0 row5\" >TK-L_3042</th>\n",
       "      <td id=\"T_e8d7c_row5_col0\" class=\"data row5 col0\" >243,360</td>\n",
       "      <td id=\"T_e8d7c_row5_col1\" class=\"data row5 col1\" >67,673,240</td>\n",
       "      <td id=\"T_e8d7c_row5_col2\" class=\"data row5 col2\" >13,810,680</td>\n",
       "      <td id=\"T_e8d7c_row5_col3\" class=\"data row5 col3\" >40</td>\n",
       "      <td id=\"T_e8d7c_row5_col4\" class=\"data row5 col4\" >68,027,220</td>\n",
       "      <td id=\"T_e8d7c_row5_col5\" class=\"data row5 col5\" >9,080</td>\n",
       "      <td id=\"T_e8d7c_row5_col6\" class=\"data row5 col6\" >13,810,680</td>\n",
       "    </tr>\n",
       "    <tr>\n",
       "      <th id=\"T_e8d7c_level0_row6\" class=\"row_heading level0 row6\" >TK-L_9350</th>\n",
       "      <td id=\"T_e8d7c_row6_col0\" class=\"data row6 col0\" >748,000</td>\n",
       "      <td id=\"T_e8d7c_row6_col1\" class=\"data row6 col1\" >35,595,528</td>\n",
       "      <td id=\"T_e8d7c_row6_col2\" class=\"data row6 col2\" >22,327,800</td>\n",
       "      <td id=\"T_e8d7c_row6_col3\" class=\"data row6 col3\" >40</td>\n",
       "      <td id=\"T_e8d7c_row6_col4\" class=\"data row6 col4\" >113,589,317</td>\n",
       "      <td id=\"T_e8d7c_row6_col5\" class=\"data row6 col5\" >4,776</td>\n",
       "      <td id=\"T_e8d7c_row6_col6\" class=\"data row6 col6\" >22,327,800</td>\n",
       "    </tr>\n",
       "    <tr>\n",
       "      <th id=\"T_e8d7c_level0_row7\" class=\"row_heading level0 row7\" >TK-L_307</th>\n",
       "      <td id=\"T_e8d7c_row7_col0\" class=\"data row7 col0\" >24,560</td>\n",
       "      <td id=\"T_e8d7c_row7_col1\" class=\"data row7 col1\" >40,723,192</td>\n",
       "      <td id=\"T_e8d7c_row7_col2\" class=\"data row7 col2\" >838,724</td>\n",
       "      <td id=\"T_e8d7c_row7_col3\" class=\"data row7 col3\" >40</td>\n",
       "      <td id=\"T_e8d7c_row7_col4\" class=\"data row7 col4\" >40,079,728</td>\n",
       "      <td id=\"T_e8d7c_row7_col5\" class=\"data row7 col5\" >5,464</td>\n",
       "      <td id=\"T_e8d7c_row7_col6\" class=\"data row7 col6\" >838,724</td>\n",
       "    </tr>\n",
       "    <tr>\n",
       "      <th id=\"T_e8d7c_level0_row8\" class=\"row_heading level0 row8\" >TK-D_307</th>\n",
       "      <td id=\"T_e8d7c_row8_col0\" class=\"data row8 col0\" >24,560</td>\n",
       "      <td id=\"T_e8d7c_row8_col1\" class=\"data row8 col1\" >762,154,240</td>\n",
       "      <td id=\"T_e8d7c_row8_col2\" class=\"data row8 col2\" >3,419,980</td>\n",
       "      <td id=\"T_e8d7c_row8_col3\" class=\"data row8 col3\" >40</td>\n",
       "      <td id=\"T_e8d7c_row8_col4\" class=\"data row8 col4\" >175,632,222</td>\n",
       "      <td id=\"T_e8d7c_row8_col5\" class=\"data row8 col5\" >22,280</td>\n",
       "      <td id=\"T_e8d7c_row8_col6\" class=\"data row8 col6\" >3,419,980</td>\n",
       "    </tr>\n",
       "    <tr>\n",
       "      <th id=\"T_e8d7c_level0_row9\" class=\"row_heading level0 row9\" >TK-D_9350</th>\n",
       "      <td id=\"T_e8d7c_row9_col0\" class=\"data row9 col0\" >748,000</td>\n",
       "      <td id=\"T_e8d7c_row9_col1\" class=\"data row9 col1\" >399,823,104</td>\n",
       "      <td id=\"T_e8d7c_row9_col2\" class=\"data row9 col2\" >54,641,400</td>\n",
       "      <td id=\"T_e8d7c_row9_col3\" class=\"data row9 col3\" >40</td>\n",
       "      <td id=\"T_e8d7c_row9_col4\" class=\"data row9 col4\" >280,952,931</td>\n",
       "      <td id=\"T_e8d7c_row9_col5\" class=\"data row9 col5\" >11,688</td>\n",
       "      <td id=\"T_e8d7c_row9_col6\" class=\"data row9 col6\" >54,641,400</td>\n",
       "    </tr>\n",
       "  </tbody>\n",
       "</table>\n"
      ],
      "text/plain": [
       "<pandas.io.formats.style.Styler at 0x7f4c22e07390>"
      ]
     },
     "execution_count": 10,
     "metadata": {},
     "output_type": "execute_result"
    }
   ],
   "source": [
    "df.dropna().style.format(\"{:,d}\")"
   ]
  },
  {
   "cell_type": "code",
   "execution_count": 11,
   "id": "928efad7-9d92-42ea-99a6-71f34911de26",
   "metadata": {},
   "outputs": [
    {
     "data": {
      "text/plain": [
       "<Axes: >"
      ]
     },
     "execution_count": 11,
     "metadata": {},
     "output_type": "execute_result"
    },
    {
     "data": {
      "image/png": "[encoded data removed]",
      "text/plain": [
       "<Figure size 640x480 with 1 Axes>"
      ]
     },
     "metadata": {},
     "output_type": "display_data"
    }
   ],
   "source": [
    "df.plot.bar(stacked=True)"
   ]
  },
  {
   "cell_type": "code",
   "execution_count": null,
   "id": "9f9c23c5-e3a1-4e9e-81bf-f78a9dc7b5e0",
   "metadata": {},
   "outputs": [],
   "source": []
  }
 ],
 "metadata": {
  "kernelspec": {
   "display_name": "lysis",
   "language": "python",
   "name": "lysis"
  },
  "language_info": {
   "codemirror_mode": {
    "name": "ipython",
    "version": 3
   },
   "file_extension": ".py",
   "mimetype": "text/x-python",
   "name": "python",
   "nbconvert_exporter": "python",
   "pygments_lexer": "ipython3",
   "version": "3.11.7"
  }
 },
 "nbformat": 4,
 "nbformat_minor": 5
}
