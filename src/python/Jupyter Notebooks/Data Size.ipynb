{
 "cells": [
  {
   "cell_type": "code",
   "execution_count": 1,
   "id": "90781297-8b3b-4c41-93de-50e4b6791245",
   "metadata": {
    "tags": []
   },
   "outputs": [
    {
     "data": {
      "text/html": [
       "\n",
       "                <script type=\"application/javascript\" id=\"jupyter_black\">\n",
       "                (function() {\n",
       "                    if (window.IPython === undefined) {\n",
       "                        return\n",
       "                    }\n",
       "                    var msg = \"WARNING: it looks like you might have loaded \" +\n",
       "                        \"jupyter_black in a non-lab notebook with \" +\n",
       "                        \"`is_lab=True`. Please double check, and if \" +\n",
       "                        \"loading with `%load_ext` please review the README!\"\n",
       "                    console.log(msg)\n",
       "                    alert(msg)\n",
       "                })()\n",
       "                </script>\n",
       "                "
      ],
      "text/plain": [
       "<IPython.core.display.HTML object>"
      ]
     },
     "metadata": {},
     "output_type": "display_data"
    }
   ],
   "source": [
    "import black\n",
    "import jupyter_black\n",
    "\n",
    "jupyter_black.load(\n",
    "    lab=True,\n",
    "    line_length=110,\n",
    "    target_version=black.TargetVersion.PY310,\n",
    ")"
   ]
  },
  {
   "cell_type": "code",
   "execution_count": 2,
   "id": "f34e5361-45a7-4235-bc3e-dfb849f16ab1",
   "metadata": {
    "tags": []
   },
   "outputs": [],
   "source": [
    "import datetime\n",
    "import functools\n",
    "import math\n",
    "import os\n",
    "import pickle\n",
    "import re\n",
    "import sys\n",
    "\n",
    "sys.path.insert(1, os.path.abspath(\"..\"))\n",
    "\n",
    "from enum import IntEnum, unique\n",
    "\n",
    "import scipy\n",
    "\n",
    "import networkx as nx\n",
    "import numpy as np\n",
    "import matplotlib.pyplot as plt\n",
    "import matplotlib as mpl\n",
    "import pandas as pd\n",
    "\n",
    "from matplotlib.animation import FFMpegWriter, FuncAnimation\n",
    "from matplotlib.colors import BoundaryNorm, ListedColormap\n",
    "from pint import UnitRegistry\n",
    "from tqdm.notebook import trange, tqdm, tnrange\n",
    "\n",
    "import lysis\n",
    "\n",
    "pd.reset_option(\"display.precision\")\n",
    "pd.set_option(\"display.float_format\", lambda x: f\"{x:,.3f}\")"
   ]
  },
  {
   "cell_type": "code",
   "execution_count": 3,
   "id": "eb7320e2-8063-4791-ad57-6e884ebd0ffe",
   "metadata": {},
   "outputs": [],
   "source": [
    "@unique\n",
    "class MolStatus(IntEnum):\n",
    "    UNBOUND = 0\n",
    "    BOUND = 1\n",
    "    MACRO_UNBOUND = 2\n",
    "    MICRO_UNBOUND = 3\n",
    "\n",
    "\n",
    "ureg = UnitRegistry()\n",
    "Q_ = ureg.Quantity"
   ]
  },
  {
   "cell_type": "code",
   "execution_count": 4,
   "id": "f401b32d-096f-49d9-899c-099df6389922",
   "metadata": {
    "ExecuteTime": {
     "end_time": "2024-01-28T23:29:43.221796400Z",
     "start_time": "2024-01-28T23:29:42.932241800Z"
    }
   },
   "outputs": [],
   "source": [
    "scenario_type = np.dtype(\n",
    "    [\n",
    "        (\"descriptor\", np.str_, 40),\n",
    "        (\"total_molecules\", int),\n",
    "        (\"pore_size\", float),  # in microns. Code requires cm\n",
    "        (\"fiber_diameter\", float),  # in microns. Needs to be added to pore_size to get grid_node_distance\n",
    "        (\"binding_sites\", int),\n",
    "        (\"cols\", int),\n",
    "        (\"rows\", int),\n",
    "        (\"empty_rows\", int),\n",
    "        (\"forced_unbind\", float),\n",
    "    ]\n",
    ")\n",
    "mechanism_type = np.dtype([(\"descriptor\", np.str_, 40), (\"executable\", np.str_, 40)])\n",
    "run_type = np.dtype(\n",
    "    [\n",
    "        (\"exp_code\", np.str_, 15),\n",
    "        (\"scenario\", np.str_, 40),\n",
    "        (\"mechanism\", np.str_, 40),\n",
    "        (\"seed\", np.int64),\n",
    "        (\"running_time\", int),\n",
    "        (\"save_interval\", int),\n",
    "    ]\n",
    ")\n",
    "diameter_code = {\n",
    "    72.7: \"Q2\",\n",
    "    145.4: \"Q4\",\n",
    "    46: \"Q0\",\n",
    "}"
   ]
  },
  {
   "cell_type": "code",
   "execution_count": 5,
   "id": "b9f2b818-f025-4da5-aa7f-c6e35fc176a4",
   "metadata": {
    "ExecuteTime": {
     "end_time": "2024-01-28T23:29:43.272314600Z",
     "start_time": "2024-01-28T23:29:43.005254300Z"
    }
   },
   "outputs": [],
   "source": [
    "# seed sequence entropy: 334521664175407485272598290114063504226\n",
    "scenarios = np.array(\n",
    "    [\n",
    "        (\"TK-L_180000\", 180_000, 1.0135, 145.4, 213, 87, 109, 22, 0.0729129),\n",
    "        (\"TK-L_10000\", 10_000, 1.0135, 145.4, 213, 87, 109, 22, 0.0729129),\n",
    "        (\"TK-L_555\", 555, 1.0135, 145.4, 213, 87, 109, 22, 0.0729129),\n",
    "        (\"TN-M_97380\", 97_380, 0.5495, 72.7, 427, 161, 202, 41, 0.0852),\n",
    "        (\"TN-M_5410\", 5_410, 0.5495, 72.7, 427, 161, 202, 41, 0.0852),\n",
    "        (\"TN-M_300\", 300, 0.5495, 72.7, 427, 161, 202, 41, 0.0852),\n",
    "        (\"UN-D_39078\", 39_078, 0.22, 46, 355, 376, 472, 96, 0.095372),\n",
    "        (\"UN-D_2170\", 2_170, 0.22, 46, 355, 376, 472, 96, 0.095372),\n",
    "        (\"UN-D_120\", 120, 0.22, 46, 355, 376, 472, 96, 0.095372),\n",
    "    ],\n",
    "    dtype=scenario_type,\n",
    ")\n",
    "mechanisms = np.array(\n",
    "    [\n",
    "        (\"Into and along - External\", \"macro_diffuse_into_and_along__external\"),\n",
    "    ],\n",
    "    dtype=mechanism_type,\n",
    ")"
   ]
  },
  {
   "cell_type": "code",
   "execution_count": 6,
   "id": "d3801305-22e1-495f-8273-16d60bf383ce",
   "metadata": {
    "ExecuteTime": {
     "end_time": "2024-01-28T23:29:43.309313500Z",
     "start_time": "2024-01-28T23:29:43.030763400Z"
    }
   },
   "outputs": [],
   "source": [
    "in_file_code = \"_PLG2_tPA01_{input_code}.dat\"\n",
    "out_file_code = \"_{scenario_code}\"\n",
    "\n",
    "# slope_tolerance = 1e-3\n",
    "rng = np.random.default_rng(65463453)"
   ]
  },
  {
   "cell_type": "code",
   "execution_count": 7,
   "id": "b4860190-bdac-4ad5-b7c5-24190feb816f",
   "metadata": {
    "ExecuteTime": {
     "end_time": "2024-01-28T23:29:43.347832200Z",
     "start_time": "2024-01-28T23:29:43.060775200Z"
    }
   },
   "outputs": [],
   "source": [
    "group_code = \"2024-01-26-10\"\n",
    "runs = np.array(\n",
    "    [\n",
    "        (group_code + \"00\", \"TK-L_180000\", \"Into and along - External\", 3_868_292_063, 0, 10),\n",
    "        (group_code + \"01\", \"TK-L_10000\", \"Into and along - External\", 2_216_501_827, 0, 10),\n",
    "        (group_code + \"02\", \"TK-L_555\", \"Into and along - External\", 1_956_273_174, 0, 10),\n",
    "        (group_code + \"03\", \"TN-M_97380\", \"Into and along - External\", 2_310_701_687, 0, 10),\n",
    "        (group_code + \"04\", \"TN-M_5410\", \"Into and along - External\", 471_706_403, 0, 10),\n",
    "        (group_code + \"05\", \"TN-M_300\", \"Into and along - External\", 3_548_933_926, 0, 100),\n",
    "        # (group_code + \"06\", \"UN-D_39078\", \"Into and along - External\", 568_306_243, 0, 10),\n",
    "        # (group_code + \"07\", \"UN-D_2170\", \"Into and along - External\", 1_353_755_357, 0, 10),\n",
    "        # (group_code + \"08\", \"UN-D_120\", \"Into and along - External\", 2_071_957_521, 0, 100),\n",
    "    ],\n",
    "    dtype=run_type,\n",
    ")"
   ]
  },
  {
   "cell_type": "code",
   "execution_count": 8,
   "id": "60f064b2-0063-4bd6-870f-4c6b0ed6093b",
   "metadata": {},
   "outputs": [
    {
     "data": {
      "text/plain": [
       "['f_deg_time', 'tsave', 'Nsave', 'mfpt', 'm_loc', 'm_bound', 'm_bind_t']"
      ]
     },
     "execution_count": 8,
     "metadata": {},
     "output_type": "execute_result"
    }
   ],
   "source": [
    "e = lysis.util.Experiment(os.path.join(\"..\", \"..\", \"..\", \"data\"), experiment_code=runs[0][\"exp_code\"])\n",
    "files = [x for x in os.listdir(os.path.join(e.os_path, \"00\")) if x.endswith(\".dat\")]\n",
    "mech = mechanisms[mechanisms[\"descriptor\"] == runs[0][\"mechanism\"]][0]\n",
    "scen = scenarios[scenarios[\"descriptor\"] == runs[0][\"scenario\"]][0]\n",
    "file_code = out_file_code.format(scenario_code=runs[0][\"scenario\"])\n",
    "root_names = [name[: name.find(file_code)] for name in files]\n",
    "root_names"
   ]
  },
  {
   "cell_type": "code",
   "execution_count": 11,
   "id": "63630564-6fac-4f43-a93f-dd499564c036",
   "metadata": {},
   "outputs": [
    {
     "data": {
      "application/vnd.jupyter.widget-view+json": {
       "model_id": "b1b46ea44b2f479a9e9c5aa4034feb96",
       "version_major": 2,
       "version_minor": 0
      },
      "text/plain": [
       "  0%|          | 0/6 [00:00<?, ?it/s]"
      ]
     },
     "metadata": {},
     "output_type": "display_data"
    }
   ],
   "source": [
    "df = pd.DataFrame(index=scenarios[\"descriptor\"], columns=root_names)\n",
    "for run in tqdm(runs):\n",
    "    # Select and load scenario\n",
    "    mech = mechanisms[mechanisms[\"descriptor\"] == run[\"mechanism\"]][0]\n",
    "    scen = scenarios[scenarios[\"descriptor\"] == run[\"scenario\"]][0]\n",
    "    e = lysis.util.Experiment(os.path.join(\"..\", \"..\", \"..\", \"data\"), experiment_code=run[\"exp_code\"])\n",
    "    # e = lysis.util.Experiment(\n",
    "    #     os.path.join(\"/\", \"home\", \"bpaynter\", \"Archive\", \"lysis_data\"), experiment_code=run[\"exp_code\"]\n",
    "    # )\n",
    "    e.read_file()\n",
    "    file_code = out_file_code.format(scenario_code=run[\"scenario\"])\n",
    "    for file in root_names:\n",
    "        df.loc[scen[\"descriptor\"], file] = sum(\n",
    "            [\n",
    "                os.stat(os.path.join(e.os_path, f\"{sim:02d}\", f\"{file}{file_code}_{sim:02d}.dat\")).st_size\n",
    "                for sim in range(e.macro_params.total_trials)\n",
    "            ]\n",
    "        )"
   ]
  },
  {
   "cell_type": "code",
   "execution_count": 20,
   "id": "118a5063-147f-4315-9e90-d451c1d0471d",
   "metadata": {},
   "outputs": [
    {
     "data": {
      "text/html": [
       "<style type=\"text/css\">\n",
       "</style>\n",
       "<table id=\"T_bdaf5\">\n",
       "  <thead>\n",
       "    <tr>\n",
       "      <th class=\"blank level0\" >&nbsp;</th>\n",
       "      <th id=\"T_bdaf5_level0_col0\" class=\"col_heading level0 col0\" >f_deg_time</th>\n",
       "      <th id=\"T_bdaf5_level0_col1\" class=\"col_heading level0 col1\" >tsave</th>\n",
       "      <th id=\"T_bdaf5_level0_col2\" class=\"col_heading level0 col2\" >Nsave</th>\n",
       "      <th id=\"T_bdaf5_level0_col3\" class=\"col_heading level0 col3\" >mfpt</th>\n",
       "      <th id=\"T_bdaf5_level0_col4\" class=\"col_heading level0 col4\" >m_loc</th>\n",
       "      <th id=\"T_bdaf5_level0_col5\" class=\"col_heading level0 col5\" >m_bound</th>\n",
       "      <th id=\"T_bdaf5_level0_col6\" class=\"col_heading level0 col6\" >m_bind_t</th>\n",
       "    </tr>\n",
       "  </thead>\n",
       "  <tbody>\n",
       "    <tr>\n",
       "      <th id=\"T_bdaf5_level0_row0\" class=\"row_heading level0 row0\" >TK-L_180000</th>\n",
       "      <td id=\"T_bdaf5_row0_col0\" class=\"data row0 col0\" >168,613,904</td>\n",
       "      <td id=\"T_bdaf5_row0_col1\" class=\"data row0 col1\" >5,968</td>\n",
       "      <td id=\"T_bdaf5_row0_col2\" class=\"data row0 col2\" >40</td>\n",
       "      <td id=\"T_bdaf5_row0_col3\" class=\"data row0 col3\" >14,400,000</td>\n",
       "      <td id=\"T_bdaf5_row0_col4\" class=\"data row0 col4\" >537,120,000</td>\n",
       "      <td id=\"T_bdaf5_row0_col5\" class=\"data row0 col5\" >537,120,000</td>\n",
       "      <td id=\"T_bdaf5_row0_col6\" class=\"data row0 col6\" >2,250,198,508</td>\n",
       "    </tr>\n",
       "    <tr>\n",
       "      <th id=\"T_bdaf5_level0_row1\" class=\"row_heading level0 row1\" >TK-L_10000</th>\n",
       "      <td id=\"T_bdaf5_row1_col0\" class=\"data row1 col0\" >373,391,648</td>\n",
       "      <td id=\"T_bdaf5_row1_col1\" class=\"data row1 col1\" >13,216</td>\n",
       "      <td id=\"T_bdaf5_row1_col2\" class=\"data row1 col2\" >40</td>\n",
       "      <td id=\"T_bdaf5_row1_col3\" class=\"data row1 col3\" >800,000</td>\n",
       "      <td id=\"T_bdaf5_row1_col4\" class=\"data row1 col4\" >66,080,000</td>\n",
       "      <td id=\"T_bdaf5_row1_col5\" class=\"data row1 col5\" >66,080,000</td>\n",
       "      <td id=\"T_bdaf5_row1_col6\" class=\"data row1 col6\" >322,026,546</td>\n",
       "    </tr>\n",
       "    <tr>\n",
       "      <th id=\"T_bdaf5_level0_row2\" class=\"row_heading level0 row2\" >TK-L_555</th>\n",
       "      <td id=\"T_bdaf5_row2_col0\" class=\"data row2 col0\" >2,534,859,160</td>\n",
       "      <td id=\"T_bdaf5_row2_col1\" class=\"data row2 col1\" >89,720</td>\n",
       "      <td id=\"T_bdaf5_row2_col2\" class=\"data row2 col2\" >40</td>\n",
       "      <td id=\"T_bdaf5_row2_col3\" class=\"data row2 col3\" >44,400</td>\n",
       "      <td id=\"T_bdaf5_row2_col4\" class=\"data row2 col4\" >24,897,300</td>\n",
       "      <td id=\"T_bdaf5_row2_col5\" class=\"data row2 col5\" >24,897,300</td>\n",
       "      <td id=\"T_bdaf5_row2_col6\" class=\"data row2 col6\" >123,417,625</td>\n",
       "    </tr>\n",
       "    <tr>\n",
       "      <th id=\"T_bdaf5_level0_row3\" class=\"row_heading level0 row3\" >TN-M_97380</th>\n",
       "      <td id=\"T_bdaf5_row3_col0\" class=\"data row3 col0\" >797,842,224</td>\n",
       "      <td id=\"T_bdaf5_row3_col1\" class=\"data row3 col1\" >8,208</td>\n",
       "      <td id=\"T_bdaf5_row3_col2\" class=\"data row3 col2\" >40</td>\n",
       "      <td id=\"T_bdaf5_row3_col3\" class=\"data row3 col3\" >7,790,400</td>\n",
       "      <td id=\"T_bdaf5_row3_col4\" class=\"data row3 col4\" >399,647,520</td>\n",
       "      <td id=\"T_bdaf5_row3_col5\" class=\"data row3 col5\" >399,647,520</td>\n",
       "      <td id=\"T_bdaf5_row3_col6\" class=\"data row3 col6\" >1,839,624,564</td>\n",
       "    </tr>\n",
       "    <tr>\n",
       "      <th id=\"T_bdaf5_level0_row4\" class=\"row_heading level0 row4\" >TN-M_5410</th>\n",
       "      <td id=\"T_bdaf5_row4_col0\" class=\"data row4 col0\" >3,248,135,448</td>\n",
       "      <td id=\"T_bdaf5_row4_col1\" class=\"data row4 col1\" >33,416</td>\n",
       "      <td id=\"T_bdaf5_row4_col2\" class=\"data row4 col2\" >40</td>\n",
       "      <td id=\"T_bdaf5_row4_col3\" class=\"data row4 col3\" >432,800</td>\n",
       "      <td id=\"T_bdaf5_row4_col4\" class=\"data row4 col4\" >90,390,280</td>\n",
       "      <td id=\"T_bdaf5_row4_col5\" class=\"data row4 col5\" >90,390,280</td>\n",
       "      <td id=\"T_bdaf5_row4_col6\" class=\"data row4 col6\" >469,081,283</td>\n",
       "    </tr>\n",
       "    <tr>\n",
       "      <th id=\"T_bdaf5_level0_row5\" class=\"row_heading level0 row5\" >TN-M_300</th>\n",
       "      <td id=\"T_bdaf5_row5_col0\" class=\"data row5 col0\" >4,842,264,648</td>\n",
       "      <td id=\"T_bdaf5_row5_col1\" class=\"data row5 col1\" >49,816</td>\n",
       "      <td id=\"T_bdaf5_row5_col2\" class=\"data row5 col2\" >40</td>\n",
       "      <td id=\"T_bdaf5_row5_col3\" class=\"data row5 col3\" >24,000</td>\n",
       "      <td id=\"T_bdaf5_row5_col4\" class=\"data row5 col4\" >7,472,400</td>\n",
       "      <td id=\"T_bdaf5_row5_col5\" class=\"data row5 col5\" >7,472,400</td>\n",
       "      <td id=\"T_bdaf5_row5_col6\" class=\"data row5 col6\" >393,602,337</td>\n",
       "    </tr>\n",
       "  </tbody>\n",
       "</table>\n"
      ],
      "text/plain": [
       "<pandas.io.formats.style.Styler at 0x7fd0522b4250>"
      ]
     },
     "execution_count": 20,
     "metadata": {},
     "output_type": "execute_result"
    }
   ],
   "source": [
    "df.dropna().style.format(\"{:,d}\")"
   ]
  },
  {
   "cell_type": "code",
   "execution_count": 22,
   "id": "928efad7-9d92-42ea-99a6-71f34911de26",
   "metadata": {},
   "outputs": [
    {
     "data": {
      "text/plain": [
       "<Axes: >"
      ]
     },
     "execution_count": 22,
     "metadata": {},
     "output_type": "execute_result"
    },
    {
     "data": {
      "image/png": "[encoded data removed]",
      "text/plain": [
       "<Figure size 640x480 with 1 Axes>"
      ]
     },
     "metadata": {},
     "output_type": "display_data"
    }
   ],
   "source": [
    "df.plot.bar(stacked=True)"
   ]
  },
  {
   "cell_type": "code",
   "execution_count": null,
   "id": "9f9c23c5-e3a1-4e9e-81bf-f78a9dc7b5e0",
   "metadata": {},
   "outputs": [],
   "source": []
  }
 ],
 "metadata": {
  "kernelspec": {
   "display_name": "lysis",
   "language": "python",
   "name": "lysis"
  },
  "language_info": {
   "codemirror_mode": {
    "name": "ipython",
    "version": 3
   },
   "file_extension": ".py",
   "mimetype": "text/x-python",
   "name": "python",
   "nbconvert_exporter": "python",
   "pygments_lexer": "ipython3",
   "version": "3.11.7"
  }
 },
 "nbformat": 4,
 "nbformat_minor": 5
}
