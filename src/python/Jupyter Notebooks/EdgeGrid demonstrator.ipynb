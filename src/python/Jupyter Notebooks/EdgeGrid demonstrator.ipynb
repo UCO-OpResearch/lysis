{
 "cells": [
  {
   "cell_type": "code",
   "execution_count": 1,
   "id": "4e209684-289a-4dce-b095-66e1131860e8",
   "metadata": {},
   "outputs": [],
   "source": [
    "from lysis import EdgeGrid, CONST"
   ]
  },
  {
   "cell_type": "code",
   "execution_count": 2,
   "id": "39384ed8-dc26-4d6b-9dc5-a347be1643f0",
   "metadata": {},
   "outputs": [],
   "source": [
    "eg = EdgeGrid(6, 5, 2, (CONST.BOUND_COND.CONTINUING, CONST.BOUND_COND.CONTINUING), 450.0)"
   ]
  },
  {
   "cell_type": "code",
   "execution_count": 5,
   "id": "e1fef340-1d70-4855-9ec4-5f05401d928f",
   "metadata": {},
   "outputs": [
    {
     "data": {
      "text/plain": [
       "array([[450., 450., 450., 450., 450., 450., 450., 450., 450., 450., 450.,\n",
       "        450., 450., 450.],\n",
       "       [450., 450., 450., 450., 450., 450., 450., 450., 450., 450., 450.,\n",
       "        450., 450., 450.]])"
      ]
     },
     "execution_count": 5,
     "metadata": {},
     "output_type": "execute_result"
    }
   ],
   "source": [
    "eg.fiber_status[2:4]"
   ]
  },
  {
   "cell_type": "code",
   "execution_count": 32,
   "id": "5cbf4700-1de5-407e-b28e-258657165dda",
   "metadata": {},
   "outputs": [
    {
     "data": {
      "text/plain": [
       "array([[450., 450., 450., 450., 450., 450., 450., 450., 450., 450., 450.,\n",
       "        450., 450., 450.],\n",
       "       [450., 450., 450., 450., 450., 450., 450., 450., 450., 450., 450.,\n",
       "        450., 450., 450.],\n",
       "       [450., 450., 450., 450., 450., 450., 450., 450., 450., 450., 450.,\n",
       "        450., 450., 450.],\n",
       "       [450., 450., 450., 450., 450., 450., 450., 450., 450., 450., 450.,\n",
       "        450., 450., 450.]])"
      ]
     },
     "execution_count": 13,
     "metadata": {},
     "output_type": "execute_result"
    }
   ],
   "source": [
    "eg._fiber_status[(slice(2,4), slice(1,None,3))]"
   ]
  },
  {
   "cell_type": "code",
   "execution_count": null,
   "id": "0bb7257e-f051-4fa1-b455-fd90370c7f00",
   "metadata": {},
   "outputs": [],
   "source": [
    "for k in range(8):\n",
    "    print(eg.neighbor(6, 5, k))"
   ]
  },
  {
   "cell_type": "code",
   "execution_count": 9,
   "id": "6da2886d-a7d1-4bea-a27a-1006a90d414c",
   "metadata": {},
   "outputs": [],
   "source": [
    "eg.molecules[3, 5] = [17, 4]"
   ]
  },
  {
   "cell_type": "code",
   "execution_count": 20,
   "id": "e814757d-9214-4889-a9a7-0e5c1c47bf12",
   "metadata": {},
   "outputs": [
    {
     "name": "stdout",
     "output_type": "stream",
     "text": [
      "other\n"
     ]
    }
   ],
   "source": [
    "row = eg.molecules[-1, :].copy()"
   ]
  },
  {
   "cell_type": "code",
   "execution_count": 15,
   "id": "f3090f91-176c-433e-bafe-10c8f1b1942f",
   "metadata": {},
   "outputs": [
    {
     "data": {
      "text/plain": [
       "[[0], [1], [2], [3], [4], [5], [6], [7], [8], [9], [10], [11], [12], [13]]"
      ]
     },
     "execution_count": 15,
     "metadata": {},
     "output_type": "execute_result"
    }
   ],
   "source": [
    "eg.pop_molecule_row(-1)"
   ]
  },
  {
   "cell_type": "code",
   "execution_count": 13,
   "id": "8f395871-012e-43d9-bd33-23dba72b6f6c",
   "metadata": {},
   "outputs": [],
   "source": [
    "eg.molecules[-1,:] = [[i] for i in range(14)]"
   ]
  },
  {
   "cell_type": "code",
   "execution_count": 16,
   "id": "11506d50-2140-4b65-b8a7-c695e4a49c12",
   "metadata": {},
   "outputs": [
    {
     "data": {
      "text/plain": [
       "[[[], [], [], [], [], [], [], [], [], [], [], [], [], []],\n",
       " [[], [], [], [], [], [], [], [], [], [], [], [], [], []],\n",
       " [[], [], [], [], [], [], [], [], [], [], [], [], [], []],\n",
       " [[], [], [], [], [], [], [], [], [], [], [], [], [], []],\n",
       " [[], [], [], [], [], [17, 4], [], [], [], [], [], [], [], []],\n",
       " [[], [], [], [], [], [], [], [], [], [], [], [], [], []],\n",
       " [[], [], [], [], [], [], [], [], [], [], [], [], [], []],\n",
       " [[], [], [], [], [], [], [], [], [], [], [], [], [], []]]"
      ]
     },
     "execution_count": 16,
     "metadata": {},
     "output_type": "execute_result"
    }
   ],
   "source": [
    "eg._molecules"
   ]
  },
  {
   "cell_type": "code",
   "execution_count": 24,
   "id": "44f21de9-aa0e-4fdc-9aa5-9a91cea72e79",
   "metadata": {},
   "outputs": [
    {
     "ename": "TypeError",
     "evalue": "object of type 'int' has no len()",
     "output_type": "error",
     "traceback": [
      "\u001b[1;31m---------------------------------------------------------------------------\u001b[0m",
      "\u001b[1;31mTypeError\u001b[0m                                 Traceback (most recent call last)",
      "Cell \u001b[1;32mIn[24], line 1\u001b[0m\n\u001b[1;32m----> 1\u001b[0m \u001b[38;5;28;43mlen\u001b[39;49m\u001b[43m(\u001b[49m\u001b[38;5;241;43m5\u001b[39;49m\u001b[43m)\u001b[49m\n",
      "\u001b[1;31mTypeError\u001b[0m: object of type 'int' has no len()"
     ]
    }
   ],
   "source": [
    "len(5)"
   ]
  },
  {
   "cell_type": "code",
   "execution_count": 25,
   "id": "e57cf98a-d21b-4eb0-ba87-c5d0ba9ba26f",
   "metadata": {},
   "outputs": [
    {
     "data": {
      "text/plain": [
       "2"
      ]
     },
     "execution_count": 25,
     "metadata": {},
     "output_type": "execute_result"
    }
   ],
   "source": [
    "len((3, 5))"
   ]
  },
  {
   "cell_type": "code",
   "execution_count": 38,
   "id": "4ad326dc-8de4-47a3-8106-c3cfed929bce",
   "metadata": {},
   "outputs": [],
   "source": [
    "a = (3, 5, 7)"
   ]
  },
  {
   "cell_type": "code",
   "execution_count": 39,
   "id": "7feef57c-a814-4d4c-b226-8f40355a5c97",
   "metadata": {},
   "outputs": [
    {
     "data": {
      "text/plain": [
       "(3, 5)"
      ]
     },
     "execution_count": 39,
     "metadata": {},
     "output_type": "execute_result"
    }
   ],
   "source": [
    "a[:-1]"
   ]
  },
  {
   "cell_type": "code",
   "execution_count": 40,
   "id": "5845da83-75db-4567-a7ac-6068900603cb",
   "metadata": {},
   "outputs": [
    {
     "name": "stdout",
     "output_type": "stream",
     "text": [
      "Hi\n",
      "Hi\n"
     ]
    }
   ],
   "source": [
    "for p in a[:-1]: print(\"Hi\")"
   ]
  },
  {
   "cell_type": "code",
   "execution_count": 41,
   "id": "8ef2435b-eb9c-4b7c-95ea-d632738eb565",
   "metadata": {},
   "outputs": [
    {
     "data": {
      "text/plain": [
       "7"
      ]
     },
     "execution_count": 41,
     "metadata": {},
     "output_type": "execute_result"
    }
   ],
   "source": [
    "a[-1]"
   ]
  },
  {
   "cell_type": "code",
   "execution_count": null,
   "id": "75939755-d936-41a8-bc8a-f8460f3fb5d8",
   "metadata": {},
   "outputs": [
    {
     "name": "stdout",
     "output_type": "stream",
     "text": [
      "0 3\n",
      "1 5\n",
      "2 7\n"
     ]
    }
   ],
   "source": []
  }
 ],
 "metadata": {
  "kernelspec": {
   "display_name": "Python 3 (ipykernel)",
   "language": "python",
   "name": "python3"
  },
  "language_info": {
   "codemirror_mode": {
    "name": "ipython",
    "version": 3
   },
   "file_extension": ".py",
   "mimetype": "text/x-python",
   "name": "python",
   "nbconvert_exporter": "python",
   "pygments_lexer": "ipython3",
   "version": "3.11.0"
  }
 },
 "nbformat": 4,
 "nbformat_minor": 5
}
