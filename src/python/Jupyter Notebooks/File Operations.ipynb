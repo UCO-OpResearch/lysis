{
 "cells": [
  {
   "cell_type": "code",
   "execution_count": 1,
   "id": "a6993da4-a375-42b1-b224-7ac7dfb1963b",
   "metadata": {},
   "outputs": [
    {
     "data": {
      "text/html": [
       "\n",
       "                <script type=\"application/javascript\" id=\"jupyter_black\">\n",
       "                (function() {\n",
       "                    if (window.IPython === undefined) {\n",
       "                        return\n",
       "                    }\n",
       "                    var msg = \"WARNING: it looks like you might have loaded \" +\n",
       "                        \"jupyter_black in a non-lab notebook with \" +\n",
       "                        \"`is_lab=True`. Please double check, and if \" +\n",
       "                        \"loading with `%load_ext` please review the README!\"\n",
       "                    console.log(msg)\n",
       "                    alert(msg)\n",
       "                })()\n",
       "                </script>\n",
       "                "
      ],
      "text/plain": [
       "<IPython.core.display.HTML object>"
      ]
     },
     "metadata": {},
     "output_type": "display_data"
    }
   ],
   "source": [
    "import black\n",
    "import jupyter_black\n",
    "\n",
    "jupyter_black.load(\n",
    "    lab=True,\n",
    "    line_length=110,\n",
    "    target_version=black.TargetVersion.PY310,\n",
    ")"
   ]
  },
  {
   "cell_type": "code",
   "execution_count": 2,
   "id": "56f1bf06-bd13-40ee-8f4d-09147c7bf908",
   "metadata": {},
   "outputs": [],
   "source": [
    "import os\n",
    "import sys\n",
    "\n",
    "sys.path.insert(1, os.path.abspath(\"..\"))\n",
    "\n",
    "from tqdm import tqdm\n",
    "\n",
    "import lysis"
   ]
  },
  {
   "cell_type": "code",
   "execution_count": 5,
   "id": "8eea4931-5a0f-478a-bc74-2684838628d1",
   "metadata": {},
   "outputs": [],
   "source": [
    "lysis_root = os.path.join(\"/\", \"home\", \"bpaynter\", \"git\", \"UCO-OpResearch\", \"lysis\")\n",
    "e = lysis.util.Experiment(os.path.join(lysis_root, \"data\"))"
   ]
  },
  {
   "cell_type": "code",
   "execution_count": 25,
   "id": "17a8b467-dbca-443d-9089-0b357bfd7cd2",
   "metadata": {},
   "outputs": [],
   "source": [
    "q = {\n",
    "    \"diss_const_tPA_wPLG\": \"0.01 micromolar\",\n",
    "}\n",
    "p = {\n",
    "    \"cols\": 10,\n",
    "    \"rows\": 13,\n",
    "    \"empty_rows\": 3,\n",
    "    # \"total_time\": \"5 * 60 sec\",\n",
    "    \"macro_version\": r\"py_macro\",\n",
    "    \"seed\": 758492894,\n",
    "    # \"total_trials\": 1,\n",
    "    # \"total_molecules\": 50,\n",
    "    # \"duplicate_fortran\": True,\n",
    "    # \"save_interval\": \"10 sec\",\n",
    "    # \"forced_unbind\": 8.52e-2,\n",
    "    # \"average_bind_time\": 27.8,\n",
    "    # \"macro_version\": r\"['brad_scratch.f90', 'rng-array.f90']\"\n",
    "}"
   ]
  },
  {
   "cell_type": "code",
   "execution_count": 26,
   "id": "00b685ac-9c80-4823-abdb-50d55c239214",
   "metadata": {},
   "outputs": [
    {
     "ename": "TypeError",
     "evalue": "can't multiply sequence by non-int of type 'float'",
     "output_type": "error",
     "traceback": [
      "\u001b[0;31m---------------------------------------------------------------------------\u001b[0m",
      "\u001b[0;31mTypeError\u001b[0m                                 Traceback (most recent call last)",
      "Cell \u001b[0;32mIn[26], line 1\u001b[0m\n\u001b[0;32m----> 1\u001b[0m \u001b[43me\u001b[49m\u001b[38;5;241;43m.\u001b[39;49m\u001b[43minitialize_micro_param\u001b[49m\u001b[43m(\u001b[49m\u001b[43mq\u001b[49m\u001b[43m)\u001b[49m\n\u001b[1;32m      2\u001b[0m e\u001b[38;5;241m.\u001b[39minitialize_macro_param(p)\n\u001b[1;32m      3\u001b[0m \u001b[38;5;66;03m# e.read_file()\u001b[39;00m\n",
      "File \u001b[0;32m~/git/UCO-OpResearch/lysis/src/python/lysis/util/parameters.py:139\u001b[0m, in \u001b[0;36mExperiment.initialize_micro_param\u001b[0;34m(self, params)\u001b[0m\n\u001b[1;32m    123\u001b[0m \u001b[38;5;250m\u001b[39m\u001b[38;5;124;03m\"\"\"Creates the parameters for the Microscale model.\u001b[39;00m\n\u001b[1;32m    124\u001b[0m \n\u001b[1;32m    125\u001b[0m \u001b[38;5;124;03mParameters are set to the default values unless new values are passed\u001b[39;00m\n\u001b[0;32m   (...)\u001b[0m\n\u001b[1;32m    136\u001b[0m \u001b[38;5;124;03m            >>> {'binding_rate': 10, 'pore_size': 3,}\u001b[39;00m\n\u001b[1;32m    137\u001b[0m \u001b[38;5;124;03m\"\"\"\u001b[39;00m\n\u001b[1;32m    138\u001b[0m \u001b[38;5;28;01mif\u001b[39;00m params \u001b[38;5;129;01mis\u001b[39;00m \u001b[38;5;129;01mnot\u001b[39;00m \u001b[38;5;28;01mNone\u001b[39;00m:\n\u001b[0;32m--> 139\u001b[0m     \u001b[38;5;28mself\u001b[39m\u001b[38;5;241m.\u001b[39mmicro_params \u001b[38;5;241m=\u001b[39m \u001b[43mMicroParameters\u001b[49m\u001b[43m(\u001b[49m\u001b[38;5;241;43m*\u001b[39;49m\u001b[38;5;241;43m*\u001b[39;49m\u001b[43mparams\u001b[49m\u001b[43m)\u001b[49m\n\u001b[1;32m    140\u001b[0m \u001b[38;5;28;01melse\u001b[39;00m:\n\u001b[1;32m    141\u001b[0m     \u001b[38;5;28mself\u001b[39m\u001b[38;5;241m.\u001b[39mmicro_params \u001b[38;5;241m=\u001b[39m MicroParameters()\n",
      "File \u001b[0;32m<string>:22\u001b[0m, in \u001b[0;36m__init__\u001b[0;34m(self, fibrinogen_length, fibrinogen_radius, fiber_radius, diss_const_tPA_wPLG, diss_const_tPA_woPLG, diss_const_PLG_intact, diss_const_PLG_nicked, bind_rate_tPA, bind_rate_PLG, conc_free_PLG, deg_rate_fibrin, unbind_rate_PLi, activation_rate_PLG, exposure_rate_binding_site, nodes_in_row, simulations, seed, micro_version, log_lvl)\u001b[0m\n",
      "File \u001b[0;32m~/git/UCO-OpResearch/lysis/src/python/lysis/util/parameters.py:591\u001b[0m, in \u001b[0;36mMicroParameters.__post_init__\u001b[0;34m(self)\u001b[0m\n\u001b[1;32m    581\u001b[0m \u001b[38;5;28mobject\u001b[39m\u001b[38;5;241m.\u001b[39m\u001b[38;5;21m__setattr__\u001b[39m(\n\u001b[1;32m    582\u001b[0m     \u001b[38;5;28mself\u001b[39m,\n\u001b[1;32m    583\u001b[0m     \u001b[38;5;124m\"\u001b[39m\u001b[38;5;124munbind_rate_PLG_nicked\u001b[39m\u001b[38;5;124m\"\u001b[39m,\n\u001b[1;32m    584\u001b[0m     \u001b[38;5;28mself\u001b[39m\u001b[38;5;241m.\u001b[39mbind_rate_PLG \u001b[38;5;241m*\u001b[39m \u001b[38;5;28mself\u001b[39m\u001b[38;5;241m.\u001b[39mdiss_const_PLG_nicked,\n\u001b[1;32m    585\u001b[0m )\n\u001b[1;32m    587\u001b[0m \u001b[38;5;66;03m# The dissociation constant is the unbinding rate over the binding rate\u001b[39;00m\n\u001b[1;32m    588\u001b[0m \u001b[38;5;28mobject\u001b[39m\u001b[38;5;241m.\u001b[39m\u001b[38;5;21m__setattr__\u001b[39m(\n\u001b[1;32m    589\u001b[0m     \u001b[38;5;28mself\u001b[39m,\n\u001b[1;32m    590\u001b[0m     \u001b[38;5;124m\"\u001b[39m\u001b[38;5;124munbind_rate_tPA_wPLG\u001b[39m\u001b[38;5;124m\"\u001b[39m,\n\u001b[0;32m--> 591\u001b[0m     \u001b[38;5;28;43mself\u001b[39;49m\u001b[38;5;241;43m.\u001b[39;49m\u001b[43mbind_rate_tPA\u001b[49m\u001b[43m \u001b[49m\u001b[38;5;241;43m*\u001b[39;49m\u001b[43m \u001b[49m\u001b[38;5;28;43mself\u001b[39;49m\u001b[38;5;241;43m.\u001b[39;49m\u001b[43mdiss_const_tPA_wPLG\u001b[49m,\n\u001b[1;32m    592\u001b[0m )\n\u001b[1;32m    594\u001b[0m \u001b[38;5;66;03m# The dissociation constant is the unbinding rate over the binding rate\u001b[39;00m\n\u001b[1;32m    595\u001b[0m \u001b[38;5;28mobject\u001b[39m\u001b[38;5;241m.\u001b[39m\u001b[38;5;21m__setattr__\u001b[39m(\n\u001b[1;32m    596\u001b[0m     \u001b[38;5;28mself\u001b[39m,\n\u001b[1;32m    597\u001b[0m     \u001b[38;5;124m\"\u001b[39m\u001b[38;5;124munbind_rate_tPA_woPLG\u001b[39m\u001b[38;5;124m\"\u001b[39m,\n\u001b[1;32m    598\u001b[0m     \u001b[38;5;28mself\u001b[39m\u001b[38;5;241m.\u001b[39mbind_rate_tPA \u001b[38;5;241m*\u001b[39m \u001b[38;5;28mself\u001b[39m\u001b[38;5;241m.\u001b[39mdiss_const_tPA_woPLG,\n\u001b[1;32m    599\u001b[0m )\n",
      "File \u001b[0;32m~/.conda/envs/lysis/lib/python3.10/site-packages/pint/facets/plain/quantity.py:1010\u001b[0m, in \u001b[0;36mPlainQuantity.__mul__\u001b[0;34m(self, other)\u001b[0m\n\u001b[1;32m   1009\u001b[0m \u001b[38;5;28;01mdef\u001b[39;00m \u001b[38;5;21m__mul__\u001b[39m(\u001b[38;5;28mself\u001b[39m, other):\n\u001b[0;32m-> 1010\u001b[0m     \u001b[38;5;28;01mreturn\u001b[39;00m \u001b[38;5;28;43mself\u001b[39;49m\u001b[38;5;241;43m.\u001b[39;49m\u001b[43m_mul_div\u001b[49m\u001b[43m(\u001b[49m\u001b[43mother\u001b[49m\u001b[43m,\u001b[49m\u001b[43m \u001b[49m\u001b[43moperator\u001b[49m\u001b[38;5;241;43m.\u001b[39;49m\u001b[43mmul\u001b[49m\u001b[43m)\u001b[49m\n",
      "File \u001b[0;32m~/.conda/envs/lysis/lib/python3.10/site-packages/pint/facets/plain/quantity.py:103\u001b[0m, in \u001b[0;36mcheck_implemented.<locals>.wrapped\u001b[0;34m(self, *args, **kwargs)\u001b[0m\n\u001b[1;32m    101\u001b[0m \u001b[38;5;28;01melif\u001b[39;00m \u001b[38;5;28misinstance\u001b[39m(other, \u001b[38;5;28mlist\u001b[39m) \u001b[38;5;129;01mand\u001b[39;00m other \u001b[38;5;129;01mand\u001b[39;00m \u001b[38;5;28misinstance\u001b[39m(other[\u001b[38;5;241m0\u001b[39m], \u001b[38;5;28mtype\u001b[39m(\u001b[38;5;28mself\u001b[39m)):\n\u001b[1;32m    102\u001b[0m     \u001b[38;5;28;01mreturn\u001b[39;00m \u001b[38;5;28mNotImplemented\u001b[39m\n\u001b[0;32m--> 103\u001b[0m \u001b[38;5;28;01mreturn\u001b[39;00m \u001b[43mf\u001b[49m\u001b[43m(\u001b[49m\u001b[38;5;28;43mself\u001b[39;49m\u001b[43m,\u001b[49m\u001b[43m \u001b[49m\u001b[38;5;241;43m*\u001b[39;49m\u001b[43margs\u001b[49m\u001b[43m,\u001b[49m\u001b[43m \u001b[49m\u001b[38;5;241;43m*\u001b[39;49m\u001b[38;5;241;43m*\u001b[39;49m\u001b[43mkwargs\u001b[49m\u001b[43m)\u001b[49m\n",
      "File \u001b[0;32m~/.conda/envs/lysis/lib/python3.10/site-packages/pint/facets/plain/quantity.py:77\u001b[0m, in \u001b[0;36mireduce_dimensions.<locals>.wrapped\u001b[0;34m(self, *args, **kwargs)\u001b[0m\n\u001b[1;32m     76\u001b[0m \u001b[38;5;28;01mdef\u001b[39;00m \u001b[38;5;21mwrapped\u001b[39m(\u001b[38;5;28mself\u001b[39m, \u001b[38;5;241m*\u001b[39margs, \u001b[38;5;241m*\u001b[39m\u001b[38;5;241m*\u001b[39mkwargs):\n\u001b[0;32m---> 77\u001b[0m     result \u001b[38;5;241m=\u001b[39m \u001b[43mf\u001b[49m\u001b[43m(\u001b[49m\u001b[38;5;28;43mself\u001b[39;49m\u001b[43m,\u001b[49m\u001b[43m \u001b[49m\u001b[38;5;241;43m*\u001b[39;49m\u001b[43margs\u001b[49m\u001b[43m,\u001b[49m\u001b[43m \u001b[49m\u001b[38;5;241;43m*\u001b[39;49m\u001b[38;5;241;43m*\u001b[39;49m\u001b[43mkwargs\u001b[49m\u001b[43m)\u001b[49m\n\u001b[1;32m     78\u001b[0m     \u001b[38;5;28;01mtry\u001b[39;00m:\n\u001b[1;32m     79\u001b[0m         \u001b[38;5;28;01mif\u001b[39;00m result\u001b[38;5;241m.\u001b[39m_REGISTRY\u001b[38;5;241m.\u001b[39mautoconvert_to_preferred:\n",
      "File \u001b[0;32m~/.conda/envs/lysis/lib/python3.10/site-packages/pint/facets/plain/quantity.py:976\u001b[0m, in \u001b[0;36mPlainQuantity._mul_div\u001b[0;34m(self, other, magnitude_op, units_op)\u001b[0m\n\u001b[1;32m    973\u001b[0m \u001b[38;5;28;01mexcept\u001b[39;00m \u001b[38;5;167;01mTypeError\u001b[39;00m:\n\u001b[1;32m    974\u001b[0m     \u001b[38;5;28;01mreturn\u001b[39;00m \u001b[38;5;28mNotImplemented\u001b[39m\n\u001b[0;32m--> 976\u001b[0m magnitude \u001b[38;5;241m=\u001b[39m \u001b[43mmagnitude_op\u001b[49m\u001b[43m(\u001b[49m\u001b[38;5;28;43mself\u001b[39;49m\u001b[38;5;241;43m.\u001b[39;49m\u001b[43m_magnitude\u001b[49m\u001b[43m,\u001b[49m\u001b[43m \u001b[49m\u001b[43mother_magnitude\u001b[49m\u001b[43m)\u001b[49m\n\u001b[1;32m    977\u001b[0m units \u001b[38;5;241m=\u001b[39m units_op(\u001b[38;5;28mself\u001b[39m\u001b[38;5;241m.\u001b[39m_units, \u001b[38;5;28mself\u001b[39m\u001b[38;5;241m.\u001b[39mUnitsContainer())\n\u001b[1;32m    979\u001b[0m \u001b[38;5;28;01mreturn\u001b[39;00m \u001b[38;5;28mself\u001b[39m\u001b[38;5;241m.\u001b[39m\u001b[38;5;18m__class__\u001b[39m(magnitude, units)\n",
      "\u001b[0;31mTypeError\u001b[0m: can't multiply sequence by non-int of type 'float'"
     ]
    }
   ],
   "source": [
    "e.initialize_micro_param(q)\n",
    "e.initialize_macro_param(p)\n",
    "# e.read_file()"
   ]
  },
  {
   "cell_type": "code",
   "execution_count": 24,
   "id": "c8dc0cee-c3d2-42b5-af8e-af69a06ab463",
   "metadata": {},
   "outputs": [
    {
     "ename": "DimensionalityError",
     "evalue": "Cannot convert from '1 / micromolar / second' ([length] ** 3 / [substance] / [time]) to '1 / second' (1 / [time])",
     "output_type": "error",
     "traceback": [
      "\u001b[0;31m---------------------------------------------------------------------------\u001b[0m",
      "\u001b[0;31mDimensionalityError\u001b[0m                       Traceback (most recent call last)",
      "Cell \u001b[0;32mIn[24], line 1\u001b[0m\n\u001b[0;32m----> 1\u001b[0m \u001b[43me\u001b[49m\u001b[38;5;241;43m.\u001b[39;49m\u001b[43mto_file\u001b[49m\u001b[43m(\u001b[49m\u001b[43m)\u001b[49m\n",
      "File \u001b[0;32m~/git/UCO-OpResearch/lysis/src/python/lysis/util/parameters.py:224\u001b[0m, in \u001b[0;36mExperiment.to_file\u001b[0;34m(self)\u001b[0m\n\u001b[1;32m    215\u001b[0m \u001b[38;5;250m\u001b[39m\u001b[38;5;124;03m\"\"\"Stores the experiment parameters to disk.\u001b[39;00m\n\u001b[1;32m    216\u001b[0m \n\u001b[1;32m    217\u001b[0m \u001b[38;5;124;03mCreates or overwrites the params.json file in the experiment's data\u001b[39;00m\n\u001b[1;32m    218\u001b[0m \u001b[38;5;124;03mfolder. This file will contain the current experiment parameters\u001b[39;00m\n\u001b[1;32m    219\u001b[0m \u001b[38;5;124;03m(including any micro- and macroscale parameters) in JSON format.\u001b[39;00m\n\u001b[1;32m    220\u001b[0m \u001b[38;5;124;03m\"\"\"\u001b[39;00m\n\u001b[1;32m    221\u001b[0m \u001b[38;5;28;01mwith\u001b[39;00m \u001b[38;5;28mopen\u001b[39m(\u001b[38;5;28mself\u001b[39m\u001b[38;5;241m.\u001b[39mos_param_file, \u001b[38;5;124m\"\u001b[39m\u001b[38;5;124mw\u001b[39m\u001b[38;5;124m\"\u001b[39m) \u001b[38;5;28;01mas\u001b[39;00m file:\n\u001b[1;32m    222\u001b[0m     \u001b[38;5;66;03m# Convert the internal parameters to a dictionary and then use the\u001b[39;00m\n\u001b[1;32m    223\u001b[0m     \u001b[38;5;66;03m# JSON module to save to disk.\u001b[39;00m\n\u001b[0;32m--> 224\u001b[0m     json\u001b[38;5;241m.\u001b[39mdump(\u001b[38;5;28;43mself\u001b[39;49m\u001b[38;5;241;43m.\u001b[39;49m\u001b[43mto_dict\u001b[49m\u001b[43m(\u001b[49m\u001b[43m)\u001b[49m, file)\n",
      "File \u001b[0;32m~/git/UCO-OpResearch/lysis/src/python/lysis/util/parameters.py:194\u001b[0m, in \u001b[0;36mExperiment.to_dict\u001b[0;34m(self)\u001b[0m\n\u001b[1;32m    190\u001b[0m \u001b[38;5;28;01mfor\u001b[39;00m k, v \u001b[38;5;129;01min\u001b[39;00m asdict(\u001b[38;5;28mself\u001b[39m\u001b[38;5;241m.\u001b[39mmicro_params)\u001b[38;5;241m.\u001b[39mitems():\n\u001b[1;32m    191\u001b[0m     \u001b[38;5;66;03m# If the parameter is stored as a Quantity, convert it to standard units\u001b[39;00m\n\u001b[1;32m    192\u001b[0m     \u001b[38;5;66;03m# and output as a string. Else, pass it as-is\u001b[39;00m\n\u001b[1;32m    193\u001b[0m     \u001b[38;5;28;01mif\u001b[39;00m \u001b[38;5;28misinstance\u001b[39m(v, Quantity):\n\u001b[0;32m--> 194\u001b[0m         output[\u001b[38;5;124m\"\u001b[39m\u001b[38;5;124mmicro_params\u001b[39m\u001b[38;5;124m\"\u001b[39m][k] \u001b[38;5;241m=\u001b[39m \u001b[38;5;28mstr\u001b[39m(\u001b[43mv\u001b[49m\u001b[38;5;241;43m.\u001b[39;49m\u001b[43mto\u001b[49m\u001b[43m(\u001b[49m\u001b[43munits\u001b[49m\u001b[43m[\u001b[49m\u001b[43mk\u001b[49m\u001b[43m]\u001b[49m\u001b[43m)\u001b[49m)\n\u001b[1;32m    195\u001b[0m     \u001b[38;5;28;01melse\u001b[39;00m:\n\u001b[1;32m    196\u001b[0m         output[\u001b[38;5;124m\"\u001b[39m\u001b[38;5;124mmicro_params\u001b[39m\u001b[38;5;124m\"\u001b[39m][k] \u001b[38;5;241m=\u001b[39m v\n",
      "File \u001b[0;32m~/.conda/envs/lysis/lib/python3.10/site-packages/pint/facets/plain/quantity.py:528\u001b[0m, in \u001b[0;36mPlainQuantity.to\u001b[0;34m(self, other, *contexts, **ctx_kwargs)\u001b[0m\n\u001b[1;32m    511\u001b[0m \u001b[38;5;250m\u001b[39m\u001b[38;5;124;03m\"\"\"Return PlainQuantity rescaled to different units.\u001b[39;00m\n\u001b[1;32m    512\u001b[0m \n\u001b[1;32m    513\u001b[0m \u001b[38;5;124;03mParameters\u001b[39;00m\n\u001b[0;32m   (...)\u001b[0m\n\u001b[1;32m    524\u001b[0m \u001b[38;5;124;03mpint.PlainQuantity\u001b[39;00m\n\u001b[1;32m    525\u001b[0m \u001b[38;5;124;03m\"\"\"\u001b[39;00m\n\u001b[1;32m    526\u001b[0m other \u001b[38;5;241m=\u001b[39m to_units_container(other, \u001b[38;5;28mself\u001b[39m\u001b[38;5;241m.\u001b[39m_REGISTRY)\n\u001b[0;32m--> 528\u001b[0m magnitude \u001b[38;5;241m=\u001b[39m \u001b[38;5;28;43mself\u001b[39;49m\u001b[38;5;241;43m.\u001b[39;49m\u001b[43m_convert_magnitude_not_inplace\u001b[49m\u001b[43m(\u001b[49m\u001b[43mother\u001b[49m\u001b[43m,\u001b[49m\u001b[43m \u001b[49m\u001b[38;5;241;43m*\u001b[39;49m\u001b[43mcontexts\u001b[49m\u001b[43m,\u001b[49m\u001b[43m \u001b[49m\u001b[38;5;241;43m*\u001b[39;49m\u001b[38;5;241;43m*\u001b[39;49m\u001b[43mctx_kwargs\u001b[49m\u001b[43m)\u001b[49m\n\u001b[1;32m    530\u001b[0m \u001b[38;5;28;01mreturn\u001b[39;00m \u001b[38;5;28mself\u001b[39m\u001b[38;5;241m.\u001b[39m\u001b[38;5;18m__class__\u001b[39m(magnitude, other)\n",
      "File \u001b[0;32m~/.conda/envs/lysis/lib/python3.10/site-packages/pint/facets/plain/quantity.py:472\u001b[0m, in \u001b[0;36mPlainQuantity._convert_magnitude_not_inplace\u001b[0;34m(self, other, *contexts, **ctx_kwargs)\u001b[0m\n\u001b[1;32m    469\u001b[0m     \u001b[38;5;28;01mwith\u001b[39;00m \u001b[38;5;28mself\u001b[39m\u001b[38;5;241m.\u001b[39m_REGISTRY\u001b[38;5;241m.\u001b[39mcontext(\u001b[38;5;241m*\u001b[39mcontexts, \u001b[38;5;241m*\u001b[39m\u001b[38;5;241m*\u001b[39mctx_kwargs):\n\u001b[1;32m    470\u001b[0m         \u001b[38;5;28;01mreturn\u001b[39;00m \u001b[38;5;28mself\u001b[39m\u001b[38;5;241m.\u001b[39m_REGISTRY\u001b[38;5;241m.\u001b[39mconvert(\u001b[38;5;28mself\u001b[39m\u001b[38;5;241m.\u001b[39m_magnitude, \u001b[38;5;28mself\u001b[39m\u001b[38;5;241m.\u001b[39m_units, other)\n\u001b[0;32m--> 472\u001b[0m \u001b[38;5;28;01mreturn\u001b[39;00m \u001b[38;5;28;43mself\u001b[39;49m\u001b[38;5;241;43m.\u001b[39;49m\u001b[43m_REGISTRY\u001b[49m\u001b[38;5;241;43m.\u001b[39;49m\u001b[43mconvert\u001b[49m\u001b[43m(\u001b[49m\u001b[38;5;28;43mself\u001b[39;49m\u001b[38;5;241;43m.\u001b[39;49m\u001b[43m_magnitude\u001b[49m\u001b[43m,\u001b[49m\u001b[43m \u001b[49m\u001b[38;5;28;43mself\u001b[39;49m\u001b[38;5;241;43m.\u001b[39;49m\u001b[43m_units\u001b[49m\u001b[43m,\u001b[49m\u001b[43m \u001b[49m\u001b[43mother\u001b[49m\u001b[43m)\u001b[49m\n",
      "File \u001b[0;32m~/.conda/envs/lysis/lib/python3.10/site-packages/pint/facets/plain/registry.py:1028\u001b[0m, in \u001b[0;36mGenericPlainRegistry.convert\u001b[0;34m(self, value, src, dst, inplace)\u001b[0m\n\u001b[1;32m   1025\u001b[0m \u001b[38;5;28;01mif\u001b[39;00m src \u001b[38;5;241m==\u001b[39m dst:\n\u001b[1;32m   1026\u001b[0m     \u001b[38;5;28;01mreturn\u001b[39;00m value\n\u001b[0;32m-> 1028\u001b[0m \u001b[38;5;28;01mreturn\u001b[39;00m \u001b[38;5;28;43mself\u001b[39;49m\u001b[38;5;241;43m.\u001b[39;49m\u001b[43m_convert\u001b[49m\u001b[43m(\u001b[49m\u001b[43mvalue\u001b[49m\u001b[43m,\u001b[49m\u001b[43m \u001b[49m\u001b[43msrc\u001b[49m\u001b[43m,\u001b[49m\u001b[43m \u001b[49m\u001b[43mdst\u001b[49m\u001b[43m,\u001b[49m\u001b[43m \u001b[49m\u001b[43minplace\u001b[49m\u001b[43m)\u001b[49m\n",
      "File \u001b[0;32m~/.conda/envs/lysis/lib/python3.10/site-packages/pint/facets/context/registry.py:404\u001b[0m, in \u001b[0;36mGenericContextRegistry._convert\u001b[0;34m(self, value, src, dst, inplace)\u001b[0m\n\u001b[1;32m    400\u001b[0m             src \u001b[38;5;241m=\u001b[39m \u001b[38;5;28mself\u001b[39m\u001b[38;5;241m.\u001b[39m_active_ctx\u001b[38;5;241m.\u001b[39mtransform(a, b, \u001b[38;5;28mself\u001b[39m, src)\n\u001b[1;32m    402\u001b[0m         value, src \u001b[38;5;241m=\u001b[39m src\u001b[38;5;241m.\u001b[39m_magnitude, src\u001b[38;5;241m.\u001b[39m_units\n\u001b[0;32m--> 404\u001b[0m \u001b[38;5;28;01mreturn\u001b[39;00m \u001b[38;5;28;43msuper\u001b[39;49m\u001b[43m(\u001b[49m\u001b[43m)\u001b[49m\u001b[38;5;241;43m.\u001b[39;49m\u001b[43m_convert\u001b[49m\u001b[43m(\u001b[49m\u001b[43mvalue\u001b[49m\u001b[43m,\u001b[49m\u001b[43m \u001b[49m\u001b[43msrc\u001b[49m\u001b[43m,\u001b[49m\u001b[43m \u001b[49m\u001b[43mdst\u001b[49m\u001b[43m,\u001b[49m\u001b[43m \u001b[49m\u001b[43minplace\u001b[49m\u001b[43m)\u001b[49m\n",
      "File \u001b[0;32m~/.conda/envs/lysis/lib/python3.10/site-packages/pint/facets/nonmultiplicative/registry.py:254\u001b[0m, in \u001b[0;36mGenericNonMultiplicativeRegistry._convert\u001b[0;34m(self, value, src, dst, inplace)\u001b[0m\n\u001b[1;32m    249\u001b[0m     \u001b[38;5;28;01mraise\u001b[39;00m DimensionalityError(\n\u001b[1;32m    250\u001b[0m         src, dst, extra_msg\u001b[38;5;241m=\u001b[39m\u001b[38;5;124mf\u001b[39m\u001b[38;5;124m\"\u001b[39m\u001b[38;5;124m - In destination units, \u001b[39m\u001b[38;5;132;01m{\u001b[39;00mex\u001b[38;5;132;01m}\u001b[39;00m\u001b[38;5;124m\"\u001b[39m\n\u001b[1;32m    251\u001b[0m     )\n\u001b[1;32m    253\u001b[0m \u001b[38;5;28;01mif\u001b[39;00m \u001b[38;5;129;01mnot\u001b[39;00m (src_offset_unit \u001b[38;5;129;01mor\u001b[39;00m dst_offset_unit):\n\u001b[0;32m--> 254\u001b[0m     \u001b[38;5;28;01mreturn\u001b[39;00m \u001b[38;5;28;43msuper\u001b[39;49m\u001b[43m(\u001b[49m\u001b[43m)\u001b[49m\u001b[38;5;241;43m.\u001b[39;49m\u001b[43m_convert\u001b[49m\u001b[43m(\u001b[49m\u001b[43mvalue\u001b[49m\u001b[43m,\u001b[49m\u001b[43m \u001b[49m\u001b[43msrc\u001b[49m\u001b[43m,\u001b[49m\u001b[43m \u001b[49m\u001b[43mdst\u001b[49m\u001b[43m,\u001b[49m\u001b[43m \u001b[49m\u001b[43minplace\u001b[49m\u001b[43m)\u001b[49m\n\u001b[1;32m    256\u001b[0m src_dim \u001b[38;5;241m=\u001b[39m \u001b[38;5;28mself\u001b[39m\u001b[38;5;241m.\u001b[39m_get_dimensionality(src)\n\u001b[1;32m    257\u001b[0m dst_dim \u001b[38;5;241m=\u001b[39m \u001b[38;5;28mself\u001b[39m\u001b[38;5;241m.\u001b[39m_get_dimensionality(dst)\n",
      "File \u001b[0;32m~/.conda/envs/lysis/lib/python3.10/site-packages/pint/facets/plain/registry.py:1063\u001b[0m, in \u001b[0;36mGenericPlainRegistry._convert\u001b[0;34m(self, value, src, dst, inplace, check_dimensionality)\u001b[0m\n\u001b[1;32m   1060\u001b[0m factor \u001b[38;5;241m=\u001b[39m \u001b[38;5;28mself\u001b[39m\u001b[38;5;241m.\u001b[39m_get_conversion_factor(src, dst)\n\u001b[1;32m   1062\u001b[0m \u001b[38;5;28;01mif\u001b[39;00m \u001b[38;5;28misinstance\u001b[39m(factor, DimensionalityError):\n\u001b[0;32m-> 1063\u001b[0m     \u001b[38;5;28;01mraise\u001b[39;00m factor\n\u001b[1;32m   1065\u001b[0m \u001b[38;5;66;03m# factor is type float and if our magnitude is type Decimal then\u001b[39;00m\n\u001b[1;32m   1066\u001b[0m \u001b[38;5;66;03m# must first convert to Decimal before we can '*' the values\u001b[39;00m\n\u001b[1;32m   1067\u001b[0m \u001b[38;5;28;01mif\u001b[39;00m \u001b[38;5;28misinstance\u001b[39m(value, Decimal):\n",
      "\u001b[0;31mDimensionalityError\u001b[0m: Cannot convert from '1 / micromolar / second' ([length] ** 3 / [substance] / [time]) to '1 / second' (1 / [time])"
     ]
    }
   ],
   "source": [
    "e.to_file()"
   ]
  },
  {
   "cell_type": "code",
   "execution_count": 23,
   "id": "1eb896f2-094f-4b9b-a2c8-a2fa5d6591bf",
   "metadata": {
    "tags": []
   },
   "outputs": [
    {
     "ename": "DimensionalityError",
     "evalue": "Cannot convert from '1 / micromolar / second' ([length] ** 3 / [substance] / [time]) to '1 / second' (1 / [time])",
     "output_type": "error",
     "traceback": [
      "\u001b[0;31m---------------------------------------------------------------------------\u001b[0m",
      "\u001b[0;31mDimensionalityError\u001b[0m                       Traceback (most recent call last)",
      "Cell \u001b[0;32mIn[23], line 1\u001b[0m\n\u001b[0;32m----> 1\u001b[0m \u001b[38;5;28;43mprint\u001b[39;49m\u001b[43m(\u001b[49m\u001b[43me\u001b[49m\u001b[43m)\u001b[49m\n",
      "File \u001b[0;32m~/git/UCO-OpResearch/lysis/src/python/lysis/util/parameters.py:118\u001b[0m, in \u001b[0;36mExperiment.__str__\u001b[0;34m(self)\u001b[0m\n\u001b[1;32m    115\u001b[0m \u001b[38;5;250m\u001b[39m\u001b[38;5;124;03m\"\"\"Gives a human-readable, formatted string of the current experimental\u001b[39;00m\n\u001b[1;32m    116\u001b[0m \u001b[38;5;124;03mparameters.\"\"\"\u001b[39;00m\n\u001b[1;32m    117\u001b[0m \u001b[38;5;66;03m# Convert internal storage to a dictionary\u001b[39;00m\n\u001b[0;32m--> 118\u001b[0m values \u001b[38;5;241m=\u001b[39m \u001b[38;5;28;43mself\u001b[39;49m\u001b[38;5;241;43m.\u001b[39;49m\u001b[43mto_dict\u001b[49m\u001b[43m(\u001b[49m\u001b[43m)\u001b[49m\n\u001b[1;32m    119\u001b[0m \u001b[38;5;66;03m# Call the formatter and return\u001b[39;00m\n\u001b[1;32m    120\u001b[0m \u001b[38;5;28;01mreturn\u001b[39;00m dict_to_formatted_str(values)\n",
      "File \u001b[0;32m~/git/UCO-OpResearch/lysis/src/python/lysis/util/parameters.py:194\u001b[0m, in \u001b[0;36mExperiment.to_dict\u001b[0;34m(self)\u001b[0m\n\u001b[1;32m    190\u001b[0m \u001b[38;5;28;01mfor\u001b[39;00m k, v \u001b[38;5;129;01min\u001b[39;00m asdict(\u001b[38;5;28mself\u001b[39m\u001b[38;5;241m.\u001b[39mmicro_params)\u001b[38;5;241m.\u001b[39mitems():\n\u001b[1;32m    191\u001b[0m     \u001b[38;5;66;03m# If the parameter is stored as a Quantity, convert it to standard units\u001b[39;00m\n\u001b[1;32m    192\u001b[0m     \u001b[38;5;66;03m# and output as a string. Else, pass it as-is\u001b[39;00m\n\u001b[1;32m    193\u001b[0m     \u001b[38;5;28;01mif\u001b[39;00m \u001b[38;5;28misinstance\u001b[39m(v, Quantity):\n\u001b[0;32m--> 194\u001b[0m         output[\u001b[38;5;124m\"\u001b[39m\u001b[38;5;124mmicro_params\u001b[39m\u001b[38;5;124m\"\u001b[39m][k] \u001b[38;5;241m=\u001b[39m \u001b[38;5;28mstr\u001b[39m(\u001b[43mv\u001b[49m\u001b[38;5;241;43m.\u001b[39;49m\u001b[43mto\u001b[49m\u001b[43m(\u001b[49m\u001b[43munits\u001b[49m\u001b[43m[\u001b[49m\u001b[43mk\u001b[49m\u001b[43m]\u001b[49m\u001b[43m)\u001b[49m)\n\u001b[1;32m    195\u001b[0m     \u001b[38;5;28;01melse\u001b[39;00m:\n\u001b[1;32m    196\u001b[0m         output[\u001b[38;5;124m\"\u001b[39m\u001b[38;5;124mmicro_params\u001b[39m\u001b[38;5;124m\"\u001b[39m][k] \u001b[38;5;241m=\u001b[39m v\n",
      "File \u001b[0;32m~/.conda/envs/lysis/lib/python3.10/site-packages/pint/facets/plain/quantity.py:528\u001b[0m, in \u001b[0;36mPlainQuantity.to\u001b[0;34m(self, other, *contexts, **ctx_kwargs)\u001b[0m\n\u001b[1;32m    511\u001b[0m \u001b[38;5;250m\u001b[39m\u001b[38;5;124;03m\"\"\"Return PlainQuantity rescaled to different units.\u001b[39;00m\n\u001b[1;32m    512\u001b[0m \n\u001b[1;32m    513\u001b[0m \u001b[38;5;124;03mParameters\u001b[39;00m\n\u001b[0;32m   (...)\u001b[0m\n\u001b[1;32m    524\u001b[0m \u001b[38;5;124;03mpint.PlainQuantity\u001b[39;00m\n\u001b[1;32m    525\u001b[0m \u001b[38;5;124;03m\"\"\"\u001b[39;00m\n\u001b[1;32m    526\u001b[0m other \u001b[38;5;241m=\u001b[39m to_units_container(other, \u001b[38;5;28mself\u001b[39m\u001b[38;5;241m.\u001b[39m_REGISTRY)\n\u001b[0;32m--> 528\u001b[0m magnitude \u001b[38;5;241m=\u001b[39m \u001b[38;5;28;43mself\u001b[39;49m\u001b[38;5;241;43m.\u001b[39;49m\u001b[43m_convert_magnitude_not_inplace\u001b[49m\u001b[43m(\u001b[49m\u001b[43mother\u001b[49m\u001b[43m,\u001b[49m\u001b[43m \u001b[49m\u001b[38;5;241;43m*\u001b[39;49m\u001b[43mcontexts\u001b[49m\u001b[43m,\u001b[49m\u001b[43m \u001b[49m\u001b[38;5;241;43m*\u001b[39;49m\u001b[38;5;241;43m*\u001b[39;49m\u001b[43mctx_kwargs\u001b[49m\u001b[43m)\u001b[49m\n\u001b[1;32m    530\u001b[0m \u001b[38;5;28;01mreturn\u001b[39;00m \u001b[38;5;28mself\u001b[39m\u001b[38;5;241m.\u001b[39m\u001b[38;5;18m__class__\u001b[39m(magnitude, other)\n",
      "File \u001b[0;32m~/.conda/envs/lysis/lib/python3.10/site-packages/pint/facets/plain/quantity.py:472\u001b[0m, in \u001b[0;36mPlainQuantity._convert_magnitude_not_inplace\u001b[0;34m(self, other, *contexts, **ctx_kwargs)\u001b[0m\n\u001b[1;32m    469\u001b[0m     \u001b[38;5;28;01mwith\u001b[39;00m \u001b[38;5;28mself\u001b[39m\u001b[38;5;241m.\u001b[39m_REGISTRY\u001b[38;5;241m.\u001b[39mcontext(\u001b[38;5;241m*\u001b[39mcontexts, \u001b[38;5;241m*\u001b[39m\u001b[38;5;241m*\u001b[39mctx_kwargs):\n\u001b[1;32m    470\u001b[0m         \u001b[38;5;28;01mreturn\u001b[39;00m \u001b[38;5;28mself\u001b[39m\u001b[38;5;241m.\u001b[39m_REGISTRY\u001b[38;5;241m.\u001b[39mconvert(\u001b[38;5;28mself\u001b[39m\u001b[38;5;241m.\u001b[39m_magnitude, \u001b[38;5;28mself\u001b[39m\u001b[38;5;241m.\u001b[39m_units, other)\n\u001b[0;32m--> 472\u001b[0m \u001b[38;5;28;01mreturn\u001b[39;00m \u001b[38;5;28;43mself\u001b[39;49m\u001b[38;5;241;43m.\u001b[39;49m\u001b[43m_REGISTRY\u001b[49m\u001b[38;5;241;43m.\u001b[39;49m\u001b[43mconvert\u001b[49m\u001b[43m(\u001b[49m\u001b[38;5;28;43mself\u001b[39;49m\u001b[38;5;241;43m.\u001b[39;49m\u001b[43m_magnitude\u001b[49m\u001b[43m,\u001b[49m\u001b[43m \u001b[49m\u001b[38;5;28;43mself\u001b[39;49m\u001b[38;5;241;43m.\u001b[39;49m\u001b[43m_units\u001b[49m\u001b[43m,\u001b[49m\u001b[43m \u001b[49m\u001b[43mother\u001b[49m\u001b[43m)\u001b[49m\n",
      "File \u001b[0;32m~/.conda/envs/lysis/lib/python3.10/site-packages/pint/facets/plain/registry.py:1028\u001b[0m, in \u001b[0;36mGenericPlainRegistry.convert\u001b[0;34m(self, value, src, dst, inplace)\u001b[0m\n\u001b[1;32m   1025\u001b[0m \u001b[38;5;28;01mif\u001b[39;00m src \u001b[38;5;241m==\u001b[39m dst:\n\u001b[1;32m   1026\u001b[0m     \u001b[38;5;28;01mreturn\u001b[39;00m value\n\u001b[0;32m-> 1028\u001b[0m \u001b[38;5;28;01mreturn\u001b[39;00m \u001b[38;5;28;43mself\u001b[39;49m\u001b[38;5;241;43m.\u001b[39;49m\u001b[43m_convert\u001b[49m\u001b[43m(\u001b[49m\u001b[43mvalue\u001b[49m\u001b[43m,\u001b[49m\u001b[43m \u001b[49m\u001b[43msrc\u001b[49m\u001b[43m,\u001b[49m\u001b[43m \u001b[49m\u001b[43mdst\u001b[49m\u001b[43m,\u001b[49m\u001b[43m \u001b[49m\u001b[43minplace\u001b[49m\u001b[43m)\u001b[49m\n",
      "File \u001b[0;32m~/.conda/envs/lysis/lib/python3.10/site-packages/pint/facets/context/registry.py:404\u001b[0m, in \u001b[0;36mGenericContextRegistry._convert\u001b[0;34m(self, value, src, dst, inplace)\u001b[0m\n\u001b[1;32m    400\u001b[0m             src \u001b[38;5;241m=\u001b[39m \u001b[38;5;28mself\u001b[39m\u001b[38;5;241m.\u001b[39m_active_ctx\u001b[38;5;241m.\u001b[39mtransform(a, b, \u001b[38;5;28mself\u001b[39m, src)\n\u001b[1;32m    402\u001b[0m         value, src \u001b[38;5;241m=\u001b[39m src\u001b[38;5;241m.\u001b[39m_magnitude, src\u001b[38;5;241m.\u001b[39m_units\n\u001b[0;32m--> 404\u001b[0m \u001b[38;5;28;01mreturn\u001b[39;00m \u001b[38;5;28;43msuper\u001b[39;49m\u001b[43m(\u001b[49m\u001b[43m)\u001b[49m\u001b[38;5;241;43m.\u001b[39;49m\u001b[43m_convert\u001b[49m\u001b[43m(\u001b[49m\u001b[43mvalue\u001b[49m\u001b[43m,\u001b[49m\u001b[43m \u001b[49m\u001b[43msrc\u001b[49m\u001b[43m,\u001b[49m\u001b[43m \u001b[49m\u001b[43mdst\u001b[49m\u001b[43m,\u001b[49m\u001b[43m \u001b[49m\u001b[43minplace\u001b[49m\u001b[43m)\u001b[49m\n",
      "File \u001b[0;32m~/.conda/envs/lysis/lib/python3.10/site-packages/pint/facets/nonmultiplicative/registry.py:254\u001b[0m, in \u001b[0;36mGenericNonMultiplicativeRegistry._convert\u001b[0;34m(self, value, src, dst, inplace)\u001b[0m\n\u001b[1;32m    249\u001b[0m     \u001b[38;5;28;01mraise\u001b[39;00m DimensionalityError(\n\u001b[1;32m    250\u001b[0m         src, dst, extra_msg\u001b[38;5;241m=\u001b[39m\u001b[38;5;124mf\u001b[39m\u001b[38;5;124m\"\u001b[39m\u001b[38;5;124m - In destination units, \u001b[39m\u001b[38;5;132;01m{\u001b[39;00mex\u001b[38;5;132;01m}\u001b[39;00m\u001b[38;5;124m\"\u001b[39m\n\u001b[1;32m    251\u001b[0m     )\n\u001b[1;32m    253\u001b[0m \u001b[38;5;28;01mif\u001b[39;00m \u001b[38;5;129;01mnot\u001b[39;00m (src_offset_unit \u001b[38;5;129;01mor\u001b[39;00m dst_offset_unit):\n\u001b[0;32m--> 254\u001b[0m     \u001b[38;5;28;01mreturn\u001b[39;00m \u001b[38;5;28;43msuper\u001b[39;49m\u001b[43m(\u001b[49m\u001b[43m)\u001b[49m\u001b[38;5;241;43m.\u001b[39;49m\u001b[43m_convert\u001b[49m\u001b[43m(\u001b[49m\u001b[43mvalue\u001b[49m\u001b[43m,\u001b[49m\u001b[43m \u001b[49m\u001b[43msrc\u001b[49m\u001b[43m,\u001b[49m\u001b[43m \u001b[49m\u001b[43mdst\u001b[49m\u001b[43m,\u001b[49m\u001b[43m \u001b[49m\u001b[43minplace\u001b[49m\u001b[43m)\u001b[49m\n\u001b[1;32m    256\u001b[0m src_dim \u001b[38;5;241m=\u001b[39m \u001b[38;5;28mself\u001b[39m\u001b[38;5;241m.\u001b[39m_get_dimensionality(src)\n\u001b[1;32m    257\u001b[0m dst_dim \u001b[38;5;241m=\u001b[39m \u001b[38;5;28mself\u001b[39m\u001b[38;5;241m.\u001b[39m_get_dimensionality(dst)\n",
      "File \u001b[0;32m~/.conda/envs/lysis/lib/python3.10/site-packages/pint/facets/plain/registry.py:1063\u001b[0m, in \u001b[0;36mGenericPlainRegistry._convert\u001b[0;34m(self, value, src, dst, inplace, check_dimensionality)\u001b[0m\n\u001b[1;32m   1060\u001b[0m factor \u001b[38;5;241m=\u001b[39m \u001b[38;5;28mself\u001b[39m\u001b[38;5;241m.\u001b[39m_get_conversion_factor(src, dst)\n\u001b[1;32m   1062\u001b[0m \u001b[38;5;28;01mif\u001b[39;00m \u001b[38;5;28misinstance\u001b[39m(factor, DimensionalityError):\n\u001b[0;32m-> 1063\u001b[0m     \u001b[38;5;28;01mraise\u001b[39;00m factor\n\u001b[1;32m   1065\u001b[0m \u001b[38;5;66;03m# factor is type float and if our magnitude is type Decimal then\u001b[39;00m\n\u001b[1;32m   1066\u001b[0m \u001b[38;5;66;03m# must first convert to Decimal before we can '*' the values\u001b[39;00m\n\u001b[1;32m   1067\u001b[0m \u001b[38;5;28;01mif\u001b[39;00m \u001b[38;5;28misinstance\u001b[39m(value, Decimal):\n",
      "\u001b[0;31mDimensionalityError\u001b[0m: Cannot convert from '1 / micromolar / second' ([length] ** 3 / [substance] / [time]) to '1 / second' (1 / [time])"
     ]
    }
   ],
   "source": [
    "print(e)"
   ]
  },
  {
   "cell_type": "code",
   "execution_count": 18,
   "id": "9b191093-c280-4a11-825b-b0d79984ed9d",
   "metadata": {},
   "outputs": [
    {
     "data": {
      "text/plain": [
       "True"
      ]
     },
     "execution_count": 18,
     "metadata": {},
     "output_type": "execute_result"
    }
   ],
   "source": [
    "lysis.util.ExpComponent.MACRO != lysis.util.ExpComponent.NONE"
   ]
  },
  {
   "cell_type": "code",
   "execution_count": null,
   "id": "d30f20b6-7b42-4d00-93fc-855b79608e15",
   "metadata": {},
   "outputs": [],
   "source": [
    "tuple(e.macro_params.state)"
   ]
  },
  {
   "cell_type": "code",
   "execution_count": null,
   "id": "ae8942eb-3522-46e3-985d-8ef4cb3e81c8",
   "metadata": {},
   "outputs": [],
   "source": [
    "e.data.lysis_time"
   ]
  },
  {
   "cell_type": "code",
   "execution_count": null,
   "id": "09b60b87-93e2-4b46-9790-feb87fad0191",
   "metadata": {},
   "outputs": [],
   "source": [
    "e.data.unbinding_time"
   ]
  },
  {
   "cell_type": "code",
   "execution_count": null,
   "id": "24689943-019f-4f5d-a7c4-5d2ff93ecd91",
   "metadata": {},
   "outputs": [],
   "source": [
    "e.data.new('test', 'test.dat')"
   ]
  },
  {
   "cell_type": "code",
   "execution_count": null,
   "id": "862454e9-a6ca-4f8c-a564-bc100ba998be",
   "metadata": {},
   "outputs": [],
   "source": [
    "e.data.overwrite('test', np.ones((12, 21)))"
   ]
  },
  {
   "cell_type": "code",
   "execution_count": null,
   "id": "6d85377f-a1af-4c69-a0c5-32421f5b9eb6",
   "metadata": {},
   "outputs": [],
   "source": [
    "e.data.test.shape"
   ]
  },
  {
   "cell_type": "code",
   "execution_count": null,
   "id": "e6185303-dfe4-4e1a-9b9e-484bad83f2a6",
   "metadata": {},
   "outputs": [],
   "source": [
    "e.data.append('test', np.zeros((2, 21)), 0)"
   ]
  },
  {
   "cell_type": "code",
   "execution_count": null,
   "id": "7ee0b0a1-1169-4e9c-8d5e-9f5c747dbde9",
   "metadata": {},
   "outputs": [],
   "source": [
    "e.data.save_to_disk('test')"
   ]
  },
  {
   "cell_type": "code",
   "execution_count": null,
   "id": "81f89ed9-7986-425a-b467-6686c86d4be1",
   "metadata": {},
   "outputs": [],
   "source": [
    "e.data.delete('test')"
   ]
  },
  {
   "cell_type": "code",
   "execution_count": null,
   "id": "2be5401b-fcee-4bbd-9a2f-95f6f42ba847",
   "metadata": {},
   "outputs": [],
   "source": [
    "e.data.test"
   ]
  },
  {
   "cell_type": "code",
   "execution_count": null,
   "id": "b7a3838a-865e-407e-9151-0e2af0574c78",
   "metadata": {},
   "outputs": [],
   "source": [
    "rng = lysis.util.KissRandomGenerator()"
   ]
  },
  {
   "cell_type": "code",
   "execution_count": null,
   "id": "742428fb-cca5-48e2-ae9e-746f86ff09a1",
   "metadata": {},
   "outputs": [],
   "source": [
    "print(f\"{9901201806 % 2**32:,}\")"
   ]
  },
  {
   "cell_type": "code",
   "execution_count": null,
   "id": "b133ef71-91e0-4526-8248-d88c7218892a",
   "metadata": {},
   "outputs": [],
   "source": [
    "k = 0\n",
    "for i in tqdm(range(int(9901201806/1000))):\n",
    "    k += 1000\n",
    "    if k > 2147483647:\n",
    "        k -= 2147483647+2147483648\n",
    "k"
   ]
  },
  {
   "cell_type": "code",
   "execution_count": null,
   "id": "0151981f-e8fb-4f16-a62e-31cf9f686a36",
   "metadata": {},
   "outputs": [],
   "source": [
    "2**32 - 2*2147483647"
   ]
  },
  {
   "cell_type": "code",
   "execution_count": null,
   "id": "aa0593a7-e6c3-43f3-876d-61f28874dbb6",
   "metadata": {},
   "outputs": [],
   "source": [
    "a = \"\"\"this is\n",
    "a test\"\"\""
   ]
  },
  {
   "cell_type": "code",
   "execution_count": null,
   "id": "b4d4499b-30db-42d5-9ee2-5576aa119191",
   "metadata": {},
   "outputs": [],
   "source": [
    "print(a)"
   ]
  },
  {
   "cell_type": "code",
   "execution_count": null,
   "id": "2433b3aa-713e-4b8c-b307-9ed4a04e1a3d",
   "metadata": {},
   "outputs": [],
   "source": [
    "import numpy as np"
   ]
  },
  {
   "cell_type": "code",
   "execution_count": null,
   "id": "f0aa1abf-322c-4311-aca3-03a262f51374",
   "metadata": {},
   "outputs": [],
   "source": [
    "# Physiological Kd - External\n",
    "experiment_codes = [\"2023-04-13-1903\", \"2023-04-13-2003\", \"2023-04-13-2103\"]\n",
    "file_codes = [\n",
    "    \"_PLG2_tPA01_into_and_along_Q2.dat\",\n",
    "    \"_PLG2_tPA01_into_and_along__external.dat\",\n",
    "    \"_PLG2_tPA01_into_and_along__external.dat\",\n",
    "]"
   ]
  },
  {
   "cell_type": "code",
   "execution_count": null,
   "id": "a0ff9701-39bb-433b-a5e0-9a61e3c34553",
   "metadata": {},
   "outputs": [],
   "source": [
    "# 10x smaller - External\n",
    "experiment_codes = [\"2023-04-13-1908\", \"2023-04-13-2008\", \"2023-04-13-2108\"]\n",
    "file_codes = [\n",
    "    \"_PLG2_tPA01_Kd00020036_into_and_along_Q2.dat\",\n",
    "    \"_PLG2_tPA01_Kd00020036_into_and_along__external.dat\",\n",
    "    \"_PLG2_tPA01_Kd00020036_into_and_along__external.dat\",\n",
    "]"
   ]
  },
  {
   "cell_type": "code",
   "execution_count": null,
   "id": "3d5f406c-8294-4875-a147-93c006aa9ded",
   "metadata": {},
   "outputs": [],
   "source": [
    "# 10x bigger - External\n",
    "experiment_codes = [\"2023-04-13-1913\", \"2023-04-13-2013\", \"2023-04-13-2113\"]\n",
    "file_codes = [\n",
    "    \"_PLG2_tPA01_Kd0236_into_and_along_Q2.dat\",\n",
    "    \"_PLG2_tPA01_Kd0236_into_and_along__external.dat\",\n",
    "    \"_PLG2_tPA01_Kd0236_into_and_along__external.dat\",\n",
    "]"
   ]
  },
  {
   "cell_type": "code",
   "execution_count": null,
   "id": "5bbe6006-dc4f-4a99-b381-de0c8a829e90",
   "metadata": {},
   "outputs": [],
   "source": [
    "# Physiological Kd - Internal\n",
    "experiment_codes = [\"2023-04-13-2002\", \"2023-04-13-2102\"]\n",
    "file_codes = [\n",
    "    \"_PLG2_tPA01_into_and_along__internal.dat\",\n",
    "    \"_PLG2_tPA01_into_and_along__internal.dat\",\n",
    "]"
   ]
  },
  {
   "cell_type": "code",
   "execution_count": null,
   "id": "0947fc00-1f42-4f4b-bbe7-2f3e9ef36ca6",
   "metadata": {},
   "outputs": [],
   "source": [
    "# 10x smaller - Internal\n",
    "experiment_codes = [\"2023-04-13-2007\", \"2023-04-13-2107\"]\n",
    "file_codes = [\n",
    "    \"_PLG2_tPA01_Kd00020036_into_and_along__internal.dat\",\n",
    "    \"_PLG2_tPA01_Kd00020036_into_and_along__internal.dat\",\n",
    "]"
   ]
  },
  {
   "cell_type": "code",
   "execution_count": null,
   "id": "20d4b299-ea90-4bf2-8895-7b2a7fd40577",
   "metadata": {},
   "outputs": [],
   "source": [
    "# 10x bigger - Internal\n",
    "experiment_codes = [\"2023-04-13-2012\", \"2023-04-13-2112\"]\n",
    "file_codes = [\n",
    "    \"_PLG2_tPA01_Kd0236_into_and_along__internal.dat\",\n",
    "    \"_PLG2_tPA01_Kd0236_into_and_along__internal.dat\",\n",
    "]"
   ]
  },
  {
   "cell_type": "code",
   "execution_count": null,
   "id": "e2363d83-dea5-41a7-8b56-2dcfa6022330",
   "metadata": {},
   "outputs": [],
   "source": [
    "exps = [\n",
    "    lysis.util.Experiment(os.path.join(\"..\", \"..\", \"data\"), experiment_code=exp_code)\n",
    "    for exp_code in experiment_codes\n",
    "]\n",
    "for e in exps:\n",
    "    e.read_file()"
   ]
  },
  {
   "cell_type": "code",
   "execution_count": null,
   "id": "facffd13-13e1-4472-8773-ce122440895b",
   "metadata": {},
   "outputs": [],
   "source": [
    "n_save = {}\n",
    "raw_deg = {}\n",
    "raw_tsave = {}\n",
    "raw_mol_location = {}\n",
    "raw_mol_status = {}\n",
    "raw_mol_status = {}\n",
    "raw_mfpt = {}"
   ]
  },
  {
   "cell_type": "code",
   "execution_count": null,
   "id": "bbfcfdc6-ea88-4d35-8e8c-ac25d1545728",
   "metadata": {},
   "outputs": [],
   "source": [
    "for i, e in enumerate(exps):\n",
    "    n_save[i] = np.fromfile(os.path.join(e.os_path, \"Nsave\" + file_codes[i]), dtype=np.int32)\n",
    "    raw_deg[i] = np.fromfile(os.path.join(e.os_path, \"deg\" + file_codes[i]))\n",
    "    raw_tsave[i] = np.fromfile(os.path.join(e.os_path, \"tsave\" + file_codes[i]))\n",
    "    raw_mol_location[i] = np.fromfile(os.path.join(e.os_path, \"m_loc\" + file_codes[i]), dtype=np.int32)\n",
    "    raw_mol_status[i] = np.fromfile(os.path.join(e.os_path, \"m_bound\" + file_codes[i]), dtype=np.int32)\n",
    "    raw_mol_status[i] = raw_mol_status[i].astype(np.bool_)\n",
    "    raw_mfpt[i] = np.fromfile(os.path.join(e.os_path, \"mfpt\" + file_codes[i]))"
   ]
  },
  {
   "cell_type": "code",
   "execution_count": null,
   "id": "c3174dfb-95d3-43f9-8030-8ce30be0b9f5",
   "metadata": {},
   "outputs": [],
   "source": [
    "i = 0\n",
    "j = 2\n",
    "print(np.count_nonzero(n_save[i] != n_save[j]))\n",
    "print(np.count_nonzero(raw_deg[i] != raw_deg[j]))\n",
    "print(np.count_nonzero(raw_tsave[i] != raw_tsave[j]))\n",
    "print(np.count_nonzero(raw_mol_location[i] != raw_mol_location[j]))\n",
    "print(np.count_nonzero(raw_mol_status[i] != raw_mol_status[j]))\n",
    "print(np.count_nonzero(raw_mfpt[i] != raw_mfpt[j]))"
   ]
  },
  {
   "cell_type": "code",
   "execution_count": null,
   "id": "88f273f1-1ea4-4a64-9277-945078712143",
   "metadata": {},
   "outputs": [],
   "source": []
  }
 ],
 "metadata": {
  "kernelspec": {
   "display_name": "Python 3 (ipykernel)",
   "language": "python",
   "name": "python3"
  },
  "language_info": {
   "codemirror_mode": {
    "name": "ipython",
    "version": 3
   },
   "file_extension": ".py",
   "mimetype": "text/x-python",
   "name": "python",
   "nbconvert_exporter": "python",
   "pygments_lexer": "ipython3",
   "version": "3.10.8"
  }
 },
 "nbformat": 4,
 "nbformat_minor": 5
}
