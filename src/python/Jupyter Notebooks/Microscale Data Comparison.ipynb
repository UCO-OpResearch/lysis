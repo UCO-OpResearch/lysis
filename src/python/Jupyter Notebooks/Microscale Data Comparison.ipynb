{
 "cells": [
  {
   "cell_type": "code",
   "execution_count": 2,
   "id": "b442a631-4486-4af0-9ae5-3118ecbd611e",
   "metadata": {},
   "outputs": [],
   "source": [
    "import os\n",
    "import numpy as np"
   ]
  },
  {
   "cell_type": "code",
   "execution_count": 6,
   "id": "51bb25c1-16ca-4b39-a7dd-4890e2a117bb",
   "metadata": {},
   "outputs": [],
   "source": [
    "a = np.loadtxt(os.path.join(\"..\", \"..\", \"data\", \"2023-01-18-1700\", \"lysismat.dat\"), dtype=np.float_)\n",
    "b = np.loadtxt(os.path.join(\"..\", \"..\", \"data\", \"2023-01-24-0200\", \"lysismat_PLG2_tPA01_Q2.dat\"), dtype=np.float_)"
   ]
  },
  {
   "cell_type": "code",
   "execution_count": 18,
   "id": "d91edc19-ff44-42e0-bbff-0f56660f7e8d",
   "metadata": {},
   "outputs": [],
   "source": [
    "c = np.loadtxt(os.path.join(\"..\", \"..\", \"data\", \"2023-01-24-0100\", \"lysismat_PLG2_tPA01_Kd00020036_Q2.dat\"), dtype=np.float_)"
   ]
  },
  {
   "cell_type": "code",
   "execution_count": 20,
   "id": "777d608f-d5ce-4116-9379-4730c56e8a58",
   "metadata": {},
   "outputs": [
    {
     "data": {
      "text/plain": [
       "29357"
      ]
     },
     "execution_count": 20,
     "metadata": {},
     "output_type": "execute_result"
    }
   ],
   "source": [
    "np.count_nonzero(a != c)"
   ]
  },
  {
   "cell_type": "code",
   "execution_count": 22,
   "id": "05891dfe-4a19-44a0-a5ab-c8319759da34",
   "metadata": {},
   "outputs": [
    {
     "data": {
      "text/plain": [
       "50000"
      ]
     },
     "execution_count": 22,
     "metadata": {},
     "output_type": "execute_result"
    }
   ],
   "source": [
    "a.size"
   ]
  },
  {
   "cell_type": "code",
   "execution_count": 13,
   "id": "f115eddc-8c16-4ca2-b884-7d09f1381d97",
   "metadata": {},
   "outputs": [
    {
     "data": {
      "text/plain": [
       "51.239558520501554"
      ]
     },
     "execution_count": 13,
     "metadata": {},
     "output_type": "execute_result"
    }
   ],
   "source": [
    "b[44, 62]"
   ]
  },
  {
   "cell_type": "code",
   "execution_count": 3,
   "id": "70d4b17a-9b0f-468d-9b0b-0963f3be741b",
   "metadata": {},
   "outputs": [
    {
     "name": "stdout",
     "output_type": "stream",
     "text": [
      "$(BUILD_DIR)/macro_Q2_diffuse_into_and_along: $(FORT_SRC_DIR)/macro_Q2_diffuse_into_and_along.f90 $(BUILD_DIR)/kiss.o\n",
      "\t$(FORT) $(BUILD_DIR)/kiss.o $(FORT_SRC_DIR)/macro_Q2_diffuse_into_and_along.f90 -o $(BUILD_DIR)/macro_Q2_diffuse_into_and_along\n",
      "    \n",
      "$(BUILD_DIR)/macro_Q2_diffuse_into: $(FORT_SRC_DIR)/macro_Q2_diffuse_into.f90 $(BUILD_DIR)/kiss.o\n",
      "\t$(FORT) $(BUILD_DIR)/kiss.o $(FORT_SRC_DIR)/macro_Q2_diffuse_into.f90 -o $(BUILD_DIR)/macro_Q2_diffuse_into\n",
      "    \n",
      "$(BUILD_DIR)/macro_Q2_diffuse_along: $(FORT_SRC_DIR)/macro_Q2_diffuse_along.f90 $(BUILD_DIR)/kiss.o\n",
      "\t$(FORT) $(BUILD_DIR)/kiss.o $(FORT_SRC_DIR)/macro_Q2_diffuse_along.f90 -o $(BUILD_DIR)/macro_Q2_diffuse_along\n",
      "    \n",
      "$(BUILD_DIR)/macro_Q2_always_rebind: $(FORT_SRC_DIR)/macro_Q2_always_rebind.f90 $(BUILD_DIR)/kiss.o\n",
      "\t$(FORT) $(BUILD_DIR)/kiss.o $(FORT_SRC_DIR)/macro_Q2_always_rebind.f90 -o $(BUILD_DIR)/macro_Q2_always_rebind\n",
      "    \n"
     ]
    }
   ],
   "source": [
    "files = [\"macro_Q2_diffuse_into_and_along\", \"macro_Q2_diffuse_into\", \"macro_Q2_diffuse_along\", \"macro_Q2_always_rebind\"]\n",
    "for file in files:\n",
    "    print(f\"\"\"$(BUILD_DIR)/{file}: $(FORT_SRC_DIR)/{file}.f90 $(BUILD_DIR)/kiss.o\n",
    "\t$(FORT) $(BUILD_DIR)/kiss.o $(FORT_SRC_DIR)/{file}.f90 -o $(BUILD_DIR)/{file}\n",
    "    \"\"\")"
   ]
  },
  {
   "cell_type": "code",
   "execution_count": null,
   "id": "f592feab-cb51-45ac-9c8d-c7e58816b0ef",
   "metadata": {},
   "outputs": [],
   "source": []
  }
 ],
 "metadata": {
  "kernelspec": {
   "display_name": "Python 3 (ipykernel)",
   "language": "python",
   "name": "python3"
  },
  "language_info": {
   "codemirror_mode": {
    "name": "ipython",
    "version": 3
   },
   "file_extension": ".py",
   "mimetype": "text/x-python",
   "name": "python",
   "nbconvert_exporter": "python",
   "pygments_lexer": "ipython3",
   "version": "3.10.8"
  }
 },
 "nbformat": 4,
 "nbformat_minor": 5
}
