{
 "cells": [
  {
   "cell_type": "code",
   "execution_count": 2,
   "id": "27808db2-4d76-4a9d-9e12-88b5a2d937cc",
   "metadata": {},
   "outputs": [],
   "source": [
    "from pint import UnitRegistry, Quantity"
   ]
  },
  {
   "cell_type": "code",
   "execution_count": 3,
   "id": "06b2a31a-2acd-4805-9623-4fa71221b31f",
   "metadata": {},
   "outputs": [],
   "source": [
    "ureg = UnitRegistry(auto_reduce_dimensions=True)\n",
    "Q_ = ureg.Quantity"
   ]
  },
  {
   "cell_type": "code",
   "execution_count": 45,
   "id": "5c67b6b9-a359-42ab-be8d-c8c524a73b02",
   "metadata": {},
   "outputs": [
    {
     "data": {
      "text/html": [
       "8.0 nanogram/milliliter"
      ],
      "text/latex": [
       "$8.0\\ \\frac{\\mathrm{nanogram}}{\\mathrm{milliliter}}$"
      ],
      "text/plain": [
       "8.0 <Unit('nanogram / milliliter')>"
      ]
     },
     "execution_count": 45,
     "metadata": {},
     "output_type": "execute_result"
    }
   ],
   "source": [
    "a = Q_(\"8 ng/mL\")\n",
    "a"
   ]
  },
  {
   "cell_type": "code",
   "execution_count": 46,
   "id": "43c81118-73ec-4a1b-99b9-f5005242e5d8",
   "metadata": {},
   "outputs": [
    {
     "data": {
      "text/html": [
       "70 avogadro_constant kilodalton"
      ],
      "text/latex": [
       "$70\\ \\mathrm{avogadro\\_constant} \\cdot \\mathrm{kilodalton}$"
      ],
      "text/plain": [
       "70 <Unit('avogadro_constant * kilodalton')>"
      ]
     },
     "execution_count": 46,
     "metadata": {},
     "output_type": "execute_result"
    }
   ],
   "source": [
    "b = Q_(\"70 kDa\")*ureg.avogadro_constant\n",
    "b"
   ]
  },
  {
   "cell_type": "code",
   "execution_count": 47,
   "id": "d19ccde6-8c3b-4f76-8c0f-027dd6920062",
   "metadata": {},
   "outputs": [
    {
     "data": {
      "text/html": [
       "114.285714325209 picomolar"
      ],
      "text/latex": [
       "$114.285714325209\\ \\mathrm{picomolar}$"
      ],
      "text/plain": [
       "114.285714325209 <Unit('picomolar')>"
      ]
     },
     "execution_count": 47,
     "metadata": {},
     "output_type": "execute_result"
    }
   ],
   "source": [
    "(a/b).to(\"picomolar\")"
   ]
  },
  {
   "cell_type": "code",
   "execution_count": 32,
   "id": "0d6dc20c-39eb-4f2f-a391-7b009bdba458",
   "metadata": {},
   "outputs": [
    {
     "data": {
      "text/html": [
       "3.0110703799999996 1/micrometer<sup>3</sup>"
      ],
      "text/latex": [
       "$3.0110703799999996\\ \\frac{1}{\\mathrm{micrometer}^{3}}$"
      ],
      "text/plain": [
       "3.0110703799999996 <Unit('1 / micrometer ** 3')>"
      ]
     },
     "execution_count": 32,
     "metadata": {},
     "output_type": "execute_result"
    }
   ],
   "source": [
    "(Q_(\"5 nanomolar\")*ureg.avogadro_constant).to(\"um^-3\")"
   ]
  },
  {
   "cell_type": "code",
   "execution_count": 43,
   "id": "ef3f218a-294b-4d01-98f0-3c4c953dc5a5",
   "metadata": {},
   "outputs": [
    {
     "data": {
      "text/html": [
       "0.084472049689441 dimensionless"
      ],
      "text/latex": [
       "$0.084472049689441\\ dimensionless$"
      ],
      "text/plain": [
       "0.084472049689441 <Unit('dimensionless')>"
      ]
     },
     "execution_count": 43,
     "metadata": {},
     "output_type": "execute_result"
    }
   ],
   "source": [
    "(Q_(\"4000 ng\")/Q_(\"70 kDa\"))/(Q_(\"230_000 ng\")/Q_(\"340 kDa\"))"
   ]
  },
  {
   "cell_type": "code",
   "execution_count": 44,
   "id": "cfd3ae53-94bc-4b58-b322-ecd6b22673fd",
   "metadata": {},
   "outputs": [
    {
     "data": {
      "text/html": [
       "0.009251700680272111 dimensionless"
      ],
      "text/latex": [
       "$0.009251700680272111\\ dimensionless$"
      ],
      "text/plain": [
       "0.009251700680272111 <Unit('dimensionless')>"
      ]
     },
     "execution_count": 44,
     "metadata": {},
     "output_type": "execute_result"
    }
   ],
   "source": [
    "(Q_(\"4000 ng\")/Q_(\"70 kDa\"))/(Q_(\"2_100_000 ng\")/Q_(\"340 kDa\"))"
   ]
  },
  {
   "cell_type": "code",
   "execution_count": 53,
   "id": "3a957c9b-38b0-41e8-9199-dfaa2ff5bf59",
   "metadata": {},
   "outputs": [
    {
     "data": {
      "text/html": [
       "1.0000000000000002 milliliter"
      ],
      "text/latex": [
       "$1.0000000000000002\\ \\mathrm{milliliter}$"
      ],
      "text/plain": [
       "1.0000000000000002 <Unit('milliliter')>"
      ]
     },
     "execution_count": 53,
     "metadata": {},
     "output_type": "execute_result"
    }
   ],
   "source": [
    "(Q_(\"230_000 ng\")/Q_(\"0.23 mg/mL\"))"
   ]
  },
  {
   "cell_type": "code",
   "execution_count": 56,
   "id": "f63fafbf-275f-473d-9799-b5a0efa896d3",
   "metadata": {},
   "outputs": [
    {
     "data": {
      "text/plain": "1000000000.0000004 <Unit('micrometer ** 3')>",
      "text/html": "1000000000.0000004 micrometer<sup>3</sup>",
      "text/latex": "$1000000000.0000004\\ \\mathrm{micrometer}^{3}$"
     },
     "execution_count": 56,
     "metadata": {},
     "output_type": "execute_result"
    }
   ],
   "source": [
    "s = Q_(\"1 uL\").to(\"um^3\")\n",
    "s"
   ]
  },
  {
   "cell_type": "code",
   "execution_count": 55,
   "id": "e8a51646-119b-4170-8bbc-555826bee836",
   "metadata": {},
   "outputs": [
    {
     "data": {
      "text/html": [
       "0.34412232926177844 1/micrometer<sup>3</sup>"
      ],
      "text/latex": [
       "$0.34412232926177844\\ \\frac{1}{\\mathrm{micrometer}^{3}}$"
      ],
      "text/plain": [
       "0.34412232926177844 <Unit('1 / micrometer ** 3')>"
      ]
     },
     "execution_count": 55,
     "metadata": {},
     "output_type": "execute_result"
    }
   ],
   "source": [
    "(Q_(\"40 ng/mL\")/Q_(\"70 kDa\")).to(\"um^-3\")"
   ]
  },
  {
   "cell_type": "code",
   "execution_count": 55,
   "id": "d52f72b3-c2bd-4af6-b2eb-1b34cbc6c017",
   "metadata": {},
   "outputs": [
    {
     "data": {
      "text/plain": "2125.4614454403954 <Unit('1 / micrometer ** 3')>",
      "text/html": "2125.4614454403954 1/micrometer<sup>3</sup>",
      "text/latex": "$2125.4614454403954\\ \\frac{1}{\\mathrm{micrometer}^{3}}$"
     },
     "execution_count": 55,
     "metadata": {},
     "output_type": "execute_result"
    }
   ],
   "source": [
    "s = (Q_(\"1.2 mg/mL\")/Q_(\"340 kDa\")).to(\"um^-3\")\n",
    "s"
   ]
  },
  {
   "cell_type": "code",
   "execution_count": 84,
   "id": "66241ab8-8cc4-45c0-958a-ab19f26cc087",
   "metadata": {},
   "outputs": [
    {
     "data": {
      "text/plain": [
       "(5 <Unit('nanometer')>, 136 <Unit('nanometer')>, 22.5 <Unit('nanometer')>)"
      ]
     },
     "execution_count": 84,
     "metadata": {},
     "output_type": "execute_result"
    }
   ],
   "source": [
    "r=Q_(\"5 nm\")\n",
    "R=Q_(\"136 nm\")\n",
    "l=Q_(\"22.5 nm\")\n",
    "r,R,l"
   ]
  },
  {
   "cell_type": "code",
   "execution_count": 105,
   "id": "c81d85d6-a36d-493d-a6ac-c1e0e5c31c54",
   "metadata": {},
   "outputs": [
    {
     "data": {
      "text/html": [
       "12.45500936192449 milligram/milliliter"
      ],
      "text/latex": [
       "$12.45500936192449\\ \\frac{\\mathrm{milligram}}{\\mathrm{milliliter}}$"
      ],
      "text/plain": [
       "12.45500936192449 <Unit('milligram / milliliter')>"
      ]
     },
     "execution_count": 105,
     "metadata": {},
     "output_type": "execute_result"
    }
   ],
   "source": [
    "(28*Q_(\"340 kDa\")/(ureg.pi*Q_(\"134 nm\")**2*l)).to(\"mg/mL\")"
   ]
  },
  {
   "cell_type": "code",
   "execution_count": 65,
   "id": "225b7e34-560f-474a-adfb-d46ed8099ff9",
   "metadata": {},
   "outputs": [
    {
     "data": {
      "text/html": [
       "9.592409955024353 milligram/milliliter"
      ],
      "text/latex": [
       "$9.592409955024353\\ \\frac{\\mathrm{milligram}}{\\mathrm{milliliter}}$"
      ],
      "text/plain": [
       "9.592409955024353 <Unit('milligram / milliliter')>"
      ]
     },
     "execution_count": 65,
     "metadata": {},
     "output_type": "execute_result"
    }
   ],
   "source": [
    "(171545189*Q_(\"340 kDa\")/Q_(\"10096.68544 um^3\")).to(\"mg/mL\")"
   ]
  },
  {
   "cell_type": "code",
   "execution_count": 64,
   "id": "4a602cb9-3f21-463a-bd51-9bc0224c88fb",
   "metadata": {},
   "outputs": [
    {
     "data": {
      "text/plain": "0.030222222222222223 <Unit('dalton / centimeter')>",
      "text/html": "0.030222222222222223 dalton/centimeter",
      "text/latex": "$0.030222222222222223\\ \\frac{\\mathrm{dalton}}{\\mathrm{centimeter}}$"
     },
     "execution_count": 64,
     "metadata": {},
     "output_type": "execute_result"
    }
   ],
   "source": [
    "s = (Q_(\"340 kDa\")/Q_(\"22.5 nm\")*2).to(\"Da/cm\")/10**13\n",
    "s"
   ]
  },
  {
   "cell_type": "code",
   "execution_count": 66,
   "id": "7d973ed2-2054-4199-bed2-e675fe913a15",
   "metadata": {},
   "outputs": [
    {
     "data": {
      "text/plain": "237.50881602133913 <Unit('nanometer')>",
      "text/html": "237.50881602133913 nanometer",
      "text/latex": "$237.50881602133913\\ \\mathrm{nanometer}$"
     },
     "execution_count": 66,
     "metadata": {},
     "output_type": "execute_result"
    }
   ],
   "source": [
    "s = ((Q_(\"134 nm\")**2*ureg.pi)**0.5).to(\"nm\")\n",
    "s"
   ]
  },
  {
   "cell_type": "code",
   "execution_count": 41,
   "id": "8c952016-5089-41c9-ad6d-87af24f2894e",
   "metadata": {},
   "outputs": [],
   "source": [
    "s = (Q_(\"5174.843 um^-3\")/ureg.avogadro_constant).to(\"micromolar\")"
   ]
  },
  {
   "cell_type": "code",
   "execution_count": 49,
   "id": "c84b7ef1-e4cb-4c03-8d66-102c46254d14",
   "metadata": {},
   "outputs": [],
   "source": [
    "s = (Q_(\"560 micromolar\")*ureg.avogadro_constant*Q_(\"340 kDa\")).to(\"mg/mL\")"
   ]
  },
  {
   "cell_type": "code",
   "execution_count": 67,
   "id": "a1d605ec-a445-4c83-b90e-7d6fcd0dfa5a",
   "metadata": {},
   "outputs": [
    {
     "name": "stdout",
     "output_type": "stream",
     "text": [
      "237.509 nm\n"
     ]
    }
   ],
   "source": [
    "print(f\"{s:~nP}\")"
   ]
  },
  {
   "cell_type": "code",
   "execution_count": null,
   "outputs": [],
   "source": [],
   "metadata": {
    "collapsed": false
   }
  }
 ],
 "metadata": {
  "kernelspec": {
   "display_name": "Python 3 (ipykernel)",
   "language": "python",
   "name": "python3"
  },
  "language_info": {
   "codemirror_mode": {
    "name": "ipython",
    "version": 3
   },
   "file_extension": ".py",
   "mimetype": "text/x-python",
   "name": "python",
   "nbconvert_exporter": "python",
   "pygments_lexer": "ipython3",
   "version": "3.10.8"
  }
 },
 "nbformat": 4,
 "nbformat_minor": 5
}
