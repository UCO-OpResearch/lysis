{
 "cells": [
  {
   "cell_type": "code",
   "execution_count": 1,
   "id": "27808db2-4d76-4a9d-9e12-88b5a2d937cc",
   "metadata": {},
   "outputs": [],
   "source": [
    "from pint import UnitRegistry, Quantity"
   ]
  },
  {
   "cell_type": "code",
   "execution_count": 2,
   "id": "06b2a31a-2acd-4805-9623-4fa71221b31f",
   "metadata": {},
   "outputs": [],
   "source": [
    "ureg = UnitRegistry(auto_reduce_dimensions=True)\n",
    "Q_ = ureg.Quantity"
   ]
  },
  {
   "cell_type": "markdown",
   "id": "dfc8ea1c-4241-447e-94e3-1735db42b749",
   "metadata": {},
   "source": [
    " - tPA = 70 kDa\n",
    " - fibrin = 340 kDa"
   ]
  },
  {
   "cell_type": "code",
   "execution_count": 3,
   "id": "5c67b6b9-a359-42ab-be8d-c8c524a73b02",
   "metadata": {},
   "outputs": [
    {
     "data": {
      "text/plain": [
       "8.000000000000001e-06"
      ]
     },
     "execution_count": 3,
     "metadata": {},
     "output_type": "execute_result"
    }
   ],
   "source": [
    "a = Q_(\"8 ng/mL\")\n",
    "a.m_as(\"g/L\")"
   ]
  },
  {
   "cell_type": "code",
   "execution_count": 6,
   "id": "43c81118-73ec-4a1b-99b9-f5005242e5d8",
   "metadata": {},
   "outputs": [
    {
     "data": {
      "text/html": [
       "70 avogadro_constant kilodalton"
      ],
      "text/latex": [
       "$70\\ \\mathrm{avogadro\\_constant} \\cdot \\mathrm{kilodalton}$"
      ],
      "text/plain": [
       "70 <Unit('avogadro_constant * kilodalton')>"
      ]
     },
     "execution_count": 6,
     "metadata": {},
     "output_type": "execute_result"
    }
   ],
   "source": [
    "b = Q_(\"70 kDa\")*ureg.avogadro_constant\n",
    "Q_(str(b))"
   ]
  },
  {
   "cell_type": "code",
   "execution_count": 47,
   "id": "d19ccde6-8c3b-4f76-8c0f-027dd6920062",
   "metadata": {},
   "outputs": [
    {
     "data": {
      "text/html": [
       "114.285714325209 picomolar"
      ],
      "text/latex": [
       "$114.285714325209\\ \\mathrm{picomolar}$"
      ],
      "text/plain": [
       "114.285714325209 <Unit('picomolar')>"
      ]
     },
     "execution_count": 47,
     "metadata": {},
     "output_type": "execute_result"
    }
   ],
   "source": [
    "(a/b).to(\"picomolar\")"
   ]
  },
  {
   "cell_type": "code",
   "execution_count": 32,
   "id": "0d6dc20c-39eb-4f2f-a391-7b009bdba458",
   "metadata": {},
   "outputs": [
    {
     "data": {
      "text/html": [
       "3.0110703799999996 1/micrometer<sup>3</sup>"
      ],
      "text/latex": [
       "$3.0110703799999996\\ \\frac{1}{\\mathrm{micrometer}^{3}}$"
      ],
      "text/plain": [
       "3.0110703799999996 <Unit('1 / micrometer ** 3')>"
      ]
     },
     "execution_count": 32,
     "metadata": {},
     "output_type": "execute_result"
    }
   ],
   "source": [
    "(Q_(\"5 nanomolar\")*ureg.avogadro_constant).to(\"um^-3\")"
   ]
  },
  {
   "cell_type": "code",
   "execution_count": 4,
   "id": "ef3f218a-294b-4d01-98f0-3c4c953dc5a5",
   "metadata": {},
   "outputs": [
    {
     "ename": "UndefinedUnitError",
     "evalue": "'hello' is not defined in the unit registry",
     "output_type": "error",
     "traceback": [
      "\u001b[0;31m---------------------------------------------------------------------------\u001b[0m",
      "\u001b[0;31mUndefinedUnitError\u001b[0m                        Traceback (most recent call last)",
      "Cell \u001b[0;32mIn[4], line 1\u001b[0m\n\u001b[0;32m----> 1\u001b[0m \u001b[43mQ_\u001b[49m\u001b[43m(\u001b[49m\u001b[38;5;124;43m\"\u001b[39;49m\u001b[38;5;124;43mhello\u001b[39;49m\u001b[38;5;124;43m\"\u001b[39;49m\u001b[43m)\u001b[49m\n",
      "File \u001b[0;32m~/.conda/envs/lysis/lib/python3.10/site-packages/pint/facets/plain/quantity.py:205\u001b[0m, in \u001b[0;36mPlainQuantity.__new__\u001b[0;34m(cls, value, units)\u001b[0m\n\u001b[1;32m    203\u001b[0m \u001b[38;5;28;01mif\u001b[39;00m units \u001b[38;5;129;01mis\u001b[39;00m \u001b[38;5;28;01mNone\u001b[39;00m \u001b[38;5;129;01mand\u001b[39;00m \u001b[38;5;28misinstance\u001b[39m(value, \u001b[38;5;28mstr\u001b[39m):\n\u001b[1;32m    204\u001b[0m     ureg \u001b[38;5;241m=\u001b[39m SharedRegistryObject\u001b[38;5;241m.\u001b[39m\u001b[38;5;21m__new__\u001b[39m(\u001b[38;5;28mcls\u001b[39m)\u001b[38;5;241m.\u001b[39m_REGISTRY\n\u001b[0;32m--> 205\u001b[0m     inst \u001b[38;5;241m=\u001b[39m \u001b[43mureg\u001b[49m\u001b[38;5;241;43m.\u001b[39;49m\u001b[43mparse_expression\u001b[49m\u001b[43m(\u001b[49m\u001b[43mvalue\u001b[49m\u001b[43m)\u001b[49m\n\u001b[1;32m    206\u001b[0m     \u001b[38;5;28;01mreturn\u001b[39;00m \u001b[38;5;28mcls\u001b[39m\u001b[38;5;241m.\u001b[39m\u001b[38;5;21m__new__\u001b[39m(\u001b[38;5;28mcls\u001b[39m, inst)\n\u001b[1;32m    208\u001b[0m \u001b[38;5;28;01mif\u001b[39;00m units \u001b[38;5;129;01mis\u001b[39;00m \u001b[38;5;28;01mNone\u001b[39;00m \u001b[38;5;129;01mand\u001b[39;00m \u001b[38;5;28misinstance\u001b[39m(value, \u001b[38;5;28mcls\u001b[39m):\n",
      "File \u001b[0;32m~/.conda/envs/lysis/lib/python3.10/site-packages/pint/facets/plain/registry.py:1388\u001b[0m, in \u001b[0;36mGenericPlainRegistry.parse_expression\u001b[0;34m(self, input_string, case_sensitive, **values)\u001b[0m\n\u001b[1;32m   1385\u001b[0m \u001b[38;5;28;01mdef\u001b[39;00m \u001b[38;5;21m_define_op\u001b[39m(s: \u001b[38;5;28mstr\u001b[39m):\n\u001b[1;32m   1386\u001b[0m     \u001b[38;5;28;01mreturn\u001b[39;00m \u001b[38;5;28mself\u001b[39m\u001b[38;5;241m.\u001b[39m_eval_token(s, case_sensitive\u001b[38;5;241m=\u001b[39mcase_sensitive, \u001b[38;5;241m*\u001b[39m\u001b[38;5;241m*\u001b[39mvalues)\n\u001b[0;32m-> 1388\u001b[0m \u001b[38;5;28;01mreturn\u001b[39;00m \u001b[43mbuild_eval_tree\u001b[49m\u001b[43m(\u001b[49m\u001b[43mgen\u001b[49m\u001b[43m)\u001b[49m\u001b[38;5;241;43m.\u001b[39;49m\u001b[43mevaluate\u001b[49m\u001b[43m(\u001b[49m\u001b[43m_define_op\u001b[49m\u001b[43m)\u001b[49m\n",
      "File \u001b[0;32m~/.conda/envs/lysis/lib/python3.10/site-packages/pint/pint_eval.py:396\u001b[0m, in \u001b[0;36mEvalTreeNode.evaluate\u001b[0;34m(self, define_op, bin_op, un_op)\u001b[0m\n\u001b[1;32m    393\u001b[0m     \u001b[38;5;28;01mreturn\u001b[39;00m un_op[op_text](\u001b[38;5;28mself\u001b[39m\u001b[38;5;241m.\u001b[39mleft\u001b[38;5;241m.\u001b[39mevaluate(define_op, bin_op, un_op))\n\u001b[1;32m    395\u001b[0m \u001b[38;5;66;03m# single value\u001b[39;00m\n\u001b[0;32m--> 396\u001b[0m \u001b[38;5;28;01mreturn\u001b[39;00m \u001b[43mdefine_op\u001b[49m\u001b[43m(\u001b[49m\u001b[38;5;28;43mself\u001b[39;49m\u001b[38;5;241;43m.\u001b[39;49m\u001b[43mleft\u001b[49m\u001b[43m)\u001b[49m\n",
      "File \u001b[0;32m~/.conda/envs/lysis/lib/python3.10/site-packages/pint/facets/plain/registry.py:1386\u001b[0m, in \u001b[0;36mGenericPlainRegistry.parse_expression.<locals>._define_op\u001b[0;34m(s)\u001b[0m\n\u001b[1;32m   1385\u001b[0m \u001b[38;5;28;01mdef\u001b[39;00m \u001b[38;5;21m_define_op\u001b[39m(s: \u001b[38;5;28mstr\u001b[39m):\n\u001b[0;32m-> 1386\u001b[0m     \u001b[38;5;28;01mreturn\u001b[39;00m \u001b[38;5;28;43mself\u001b[39;49m\u001b[38;5;241;43m.\u001b[39;49m\u001b[43m_eval_token\u001b[49m\u001b[43m(\u001b[49m\u001b[43ms\u001b[49m\u001b[43m,\u001b[49m\u001b[43m \u001b[49m\u001b[43mcase_sensitive\u001b[49m\u001b[38;5;241;43m=\u001b[39;49m\u001b[43mcase_sensitive\u001b[49m\u001b[43m,\u001b[49m\u001b[43m \u001b[49m\u001b[38;5;241;43m*\u001b[39;49m\u001b[38;5;241;43m*\u001b[39;49m\u001b[43mvalues\u001b[49m\u001b[43m)\u001b[49m\n",
      "File \u001b[0;32m~/.conda/envs/lysis/lib/python3.10/site-packages/pint/facets/plain/registry.py:1295\u001b[0m, in \u001b[0;36mGenericPlainRegistry._eval_token\u001b[0;34m(self, token, case_sensitive, **values)\u001b[0m\n\u001b[1;32m   1290\u001b[0m         \u001b[38;5;28;01mreturn\u001b[39;00m \u001b[38;5;28mself\u001b[39m\u001b[38;5;241m.\u001b[39mQuantity(values[token_text])\n\u001b[1;32m   1291\u001b[0m     \u001b[38;5;28;01melse\u001b[39;00m:\n\u001b[1;32m   1292\u001b[0m         \u001b[38;5;28;01mreturn\u001b[39;00m \u001b[38;5;28mself\u001b[39m\u001b[38;5;241m.\u001b[39mQuantity(\n\u001b[1;32m   1293\u001b[0m             \u001b[38;5;241m1\u001b[39m,\n\u001b[1;32m   1294\u001b[0m             \u001b[38;5;28mself\u001b[39m\u001b[38;5;241m.\u001b[39mUnitsContainer(\n\u001b[0;32m-> 1295\u001b[0m                 {\u001b[38;5;28;43mself\u001b[39;49m\u001b[38;5;241;43m.\u001b[39;49m\u001b[43mget_name\u001b[49m\u001b[43m(\u001b[49m\u001b[43mtoken_text\u001b[49m\u001b[43m,\u001b[49m\u001b[43m \u001b[49m\u001b[43mcase_sensitive\u001b[49m\u001b[38;5;241;43m=\u001b[39;49m\u001b[43mcase_sensitive\u001b[49m\u001b[43m)\u001b[49m: \u001b[38;5;241m1\u001b[39m}\n\u001b[1;32m   1296\u001b[0m             ),\n\u001b[1;32m   1297\u001b[0m         )\n\u001b[1;32m   1298\u001b[0m \u001b[38;5;28;01melif\u001b[39;00m token_type \u001b[38;5;241m==\u001b[39m NUMBER:\n\u001b[1;32m   1299\u001b[0m     \u001b[38;5;28;01mreturn\u001b[39;00m ParserHelper\u001b[38;5;241m.\u001b[39meval_token(token, non_int_type\u001b[38;5;241m=\u001b[39m\u001b[38;5;28mself\u001b[39m\u001b[38;5;241m.\u001b[39mnon_int_type)\n",
      "File \u001b[0;32m~/.conda/envs/lysis/lib/python3.10/site-packages/pint/facets/plain/registry.py:647\u001b[0m, in \u001b[0;36mGenericPlainRegistry.get_name\u001b[0;34m(self, name_or_alias, case_sensitive)\u001b[0m\n\u001b[1;32m    645\u001b[0m candidates \u001b[38;5;241m=\u001b[39m \u001b[38;5;28mself\u001b[39m\u001b[38;5;241m.\u001b[39mparse_unit_name(name_or_alias, case_sensitive)\n\u001b[1;32m    646\u001b[0m \u001b[38;5;28;01mif\u001b[39;00m \u001b[38;5;129;01mnot\u001b[39;00m candidates:\n\u001b[0;32m--> 647\u001b[0m     \u001b[38;5;28;01mraise\u001b[39;00m UndefinedUnitError(name_or_alias)\n\u001b[1;32m    649\u001b[0m prefix, unit_name, _ \u001b[38;5;241m=\u001b[39m candidates[\u001b[38;5;241m0\u001b[39m]\n\u001b[1;32m    650\u001b[0m \u001b[38;5;28;01mif\u001b[39;00m \u001b[38;5;28mlen\u001b[39m(candidates) \u001b[38;5;241m>\u001b[39m \u001b[38;5;241m1\u001b[39m:\n",
      "\u001b[0;31mUndefinedUnitError\u001b[0m: 'hello' is not defined in the unit registry"
     ]
    }
   ],
   "source": [
    "Q_(\"hello\")"
   ]
  },
  {
   "cell_type": "code",
   "execution_count": 44,
   "id": "cfd3ae53-94bc-4b58-b322-ecd6b22673fd",
   "metadata": {},
   "outputs": [
    {
     "data": {
      "text/html": [
       "0.009251700680272111 dimensionless"
      ],
      "text/latex": [
       "$0.009251700680272111\\ dimensionless$"
      ],
      "text/plain": [
       "0.009251700680272111 <Unit('dimensionless')>"
      ]
     },
     "execution_count": 44,
     "metadata": {},
     "output_type": "execute_result"
    }
   ],
   "source": [
    "(Q_(\"4000 ng\")/Q_(\"70 kDa\"))/(Q_(\"2_100_000 ng\")/Q_(\"340 kDa\"))"
   ]
  },
  {
   "cell_type": "code",
   "execution_count": 53,
   "id": "3a957c9b-38b0-41e8-9199-dfaa2ff5bf59",
   "metadata": {},
   "outputs": [
    {
     "data": {
      "text/html": [
       "1.0000000000000002 milliliter"
      ],
      "text/latex": [
       "$1.0000000000000002\\ \\mathrm{milliliter}$"
      ],
      "text/plain": [
       "1.0000000000000002 <Unit('milliliter')>"
      ]
     },
     "execution_count": 53,
     "metadata": {},
     "output_type": "execute_result"
    }
   ],
   "source": [
    "(Q_(\"230_000 ng\")/Q_(\"0.23 mg/mL\"))"
   ]
  },
  {
   "cell_type": "code",
   "execution_count": 51,
   "id": "f63fafbf-275f-473d-9799-b5a0efa896d3",
   "metadata": {},
   "outputs": [
    {
     "data": {
      "text/html": [
       "1000000000.0000004 micrometer<sup>3</sup>"
      ],
      "text/latex": [
       "$1000000000.0000004\\ \\mathrm{micrometer}^{3}$"
      ],
      "text/plain": [
       "1000000000.0000004 <Unit('micrometer ** 3')>"
      ]
     },
     "execution_count": 51,
     "metadata": {},
     "output_type": "execute_result"
    }
   ],
   "source": [
    "Q_(\"1 uL\").to(\"um^3\")"
   ]
  },
  {
   "cell_type": "code",
   "execution_count": 7,
   "id": "e8a51646-119b-4170-8bbc-555826bee836",
   "metadata": {},
   "outputs": [
    {
     "data": {
      "text/html": [
       "21.428571435976686 nanomolar"
      ],
      "text/latex": [
       "$21.428571435976686\\ \\mathrm{nanomolar}$"
      ],
      "text/plain": [
       "21.428571435976686 <Unit('nanomolar')>"
      ]
     },
     "execution_count": 7,
     "metadata": {},
     "output_type": "execute_result"
    }
   ],
   "source": [
    "(Q_(\"1500 ng/mL\")/ureg.avogadro_constant/Q_(\"70 kDa\")).to(\"nM\")"
   ]
  },
  {
   "cell_type": "code",
   "execution_count": null,
   "id": "d52f72b3-c2bd-4af6-b2eb-1b34cbc6c017",
   "metadata": {},
   "outputs": [],
   "source": [
    "(Q_(\"1.2 mg/mL\")/Q_(\"340 kDa\")).to(\"nM\")"
   ]
  },
  {
   "cell_type": "code",
   "execution_count": 84,
   "id": "66241ab8-8cc4-45c0-958a-ab19f26cc087",
   "metadata": {},
   "outputs": [
    {
     "data": {
      "text/plain": [
       "(5 <Unit('nanometer')>, 136 <Unit('nanometer')>, 22.5 <Unit('nanometer')>)"
      ]
     },
     "execution_count": 84,
     "metadata": {},
     "output_type": "execute_result"
    }
   ],
   "source": [
    "r=Q_(\"5 nm\")\n",
    "R=Q_(\"136 nm\")\n",
    "l=Q_(\"22.5 nm\")\n",
    "r,R,l"
   ]
  },
  {
   "cell_type": "code",
   "execution_count": 105,
   "id": "c81d85d6-a36d-493d-a6ac-c1e0e5c31c54",
   "metadata": {},
   "outputs": [
    {
     "data": {
      "text/html": [
       "12.45500936192449 milligram/milliliter"
      ],
      "text/latex": [
       "$12.45500936192449\\ \\frac{\\mathrm{milligram}}{\\mathrm{milliliter}}$"
      ],
      "text/plain": [
       "12.45500936192449 <Unit('milligram / milliliter')>"
      ]
     },
     "execution_count": 105,
     "metadata": {},
     "output_type": "execute_result"
    }
   ],
   "source": [
    "(28*Q_(\"340 kDa\")/(ureg.pi*Q_(\"134 nm\")**2*l)).to(\"mg/mL\")"
   ]
  },
  {
   "cell_type": "code",
   "execution_count": 65,
   "id": "225b7e34-560f-474a-adfb-d46ed8099ff9",
   "metadata": {},
   "outputs": [
    {
     "data": {
      "text/html": [
       "9.592409955024353 milligram/milliliter"
      ],
      "text/latex": [
       "$9.592409955024353\\ \\frac{\\mathrm{milligram}}{\\mathrm{milliliter}}$"
      ],
      "text/plain": [
       "9.592409955024353 <Unit('milligram / milliliter')>"
      ]
     },
     "execution_count": 65,
     "metadata": {},
     "output_type": "execute_result"
    }
   ],
   "source": [
    "(171545189*Q_(\"340 kDa\")/Q_(\"10096.68544 um^3\")).to(\"mg/mL\")"
   ]
  },
  {
   "cell_type": "code",
   "execution_count": 107,
   "id": "4a602cb9-3f21-463a-bd51-9bc0224c88fb",
   "metadata": {},
   "outputs": [
    {
     "data": {
      "text/html": [
       "0.030222222222222223 dalton/centimeter"
      ],
      "text/latex": [
       "$0.030222222222222223\\ \\frac{\\mathrm{dalton}}{\\mathrm{centimeter}}$"
      ],
      "text/plain": [
       "0.030222222222222223 <Unit('dalton / centimeter')>"
      ]
     },
     "execution_count": 107,
     "metadata": {},
     "output_type": "execute_result"
    }
   ],
   "source": [
    "(Q_(\"340 kDa\")/Q_(\"22.5 nm\")*2).to(\"Da/cm\")/10**13"
   ]
  },
  {
   "cell_type": "code",
   "execution_count": 71,
   "id": "7d973ed2-2054-4199-bed2-e675fe913a15",
   "metadata": {},
   "outputs": [
    {
     "data": {
      "text/html": [
       "237.50881602133913 nanometer"
      ],
      "text/latex": [
       "$237.50881602133913\\ \\mathrm{nanometer}$"
      ],
      "text/plain": [
       "237.50881602133913 <Unit('nanometer')>"
      ]
     },
     "execution_count": 71,
     "metadata": {},
     "output_type": "execute_result"
    }
   ],
   "source": [
    "((Q_(\"134 nm\")**2*ureg.pi)**0.5).to(\"nm\")"
   ]
  },
  {
   "cell_type": "code",
   "execution_count": 3,
   "id": "8c952016-5089-41c9-ad6d-87af24f2894e",
   "metadata": {},
   "outputs": [
    {
     "data": {
      "text/html": [
       "28.21297048194537 micromolar"
      ],
      "text/latex": [
       "$28.21297048194537\\ \\mathrm{micromolar}$"
      ],
      "text/plain": [
       "28.21297048194537 <Unit('micromolar')>"
      ]
     },
     "execution_count": 3,
     "metadata": {},
     "output_type": "execute_result"
    }
   ],
   "source": [
    "(Q_(\"16990.24795 um^-3\")/ureg.avogadro_constant).to(\"micromolar\")"
   ]
  },
  {
   "cell_type": "code",
   "execution_count": 115,
   "id": "c84b7ef1-e4cb-4c03-8d66-102c46254d14",
   "metadata": {},
   "outputs": [
    {
     "data": {
      "text/html": [
       "190.39999993420184 milligram/milliliter"
      ],
      "text/latex": [
       "$190.39999993420184\\ \\frac{\\mathrm{milligram}}{\\mathrm{milliliter}}$"
      ],
      "text/plain": [
       "190.39999993420184 <Unit('milligram / milliliter')>"
      ]
     },
     "execution_count": 115,
     "metadata": {},
     "output_type": "execute_result"
    }
   ],
   "source": [
    "(Q_(\"560 micromolar\")*ureg.avogadro_constant*Q_(\"340 kDa\")).to(\"mg/mL\")"
   ]
  },
  {
   "cell_type": "code",
   "execution_count": 3,
   "id": "a1d605ec-a445-4c83-b90e-7d6fcd0dfa5a",
   "metadata": {},
   "outputs": [
    {
     "data": {
      "text/html": [
       "115.89152280709575 nanomolar"
      ],
      "text/latex": [
       "$115.89152280709575\\ \\mathrm{nanomolar}$"
      ],
      "text/plain": [
       "115.89152280709575 <Unit('nanomolar')>"
      ]
     },
     "execution_count": 3,
     "metadata": {},
     "output_type": "execute_result"
    }
   ],
   "source": [
    "(Q_(\"180000/2579.110403 um^-3\")/ureg.avogadro_constant).to(\"nanomolar\")"
   ]
  },
  {
   "cell_type": "code",
   "execution_count": 5,
   "id": "3a8649e3-55d5-4826-9046-1af8fd06ee2d",
   "metadata": {},
   "outputs": [
    {
     "data": {
      "text/html": [
       "6.438417933727542 nanomolar"
      ],
      "text/latex": [
       "$6.438417933727542\\ \\mathrm{nanomolar}$"
      ],
      "text/plain": [
       "6.438417933727542 <Unit('nanomolar')>"
      ]
     },
     "execution_count": 5,
     "metadata": {},
     "output_type": "execute_result"
    }
   ],
   "source": [
    "(Q_(\"10000/2579.110403 um^-3\")/ureg.avogadro_constant).to(\"nanomolar\")"
   ]
  },
  {
   "cell_type": "code",
   "execution_count": 6,
   "id": "fb107d66-5a2a-405d-be8b-5f693399974f",
   "metadata": {},
   "outputs": [
    {
     "data": {
      "text/html": [
       "0.3573321953218786 nanomolar"
      ],
      "text/latex": [
       "$0.3573321953218786\\ \\mathrm{nanomolar}$"
      ],
      "text/plain": [
       "0.3573321953218786 <Unit('nanomolar')>"
      ]
     },
     "execution_count": 6,
     "metadata": {},
     "output_type": "execute_result"
    }
   ],
   "source": [
    "(Q_(\"555/2579.110403 um^-3\")/ureg.avogadro_constant).to(\"nanomolar\")"
   ]
  },
  {
   "cell_type": "code",
   "execution_count": 3,
   "id": "37db1a5a-904f-4391-a18e-db7e337fc6f5",
   "metadata": {},
   "outputs": [
    {
     "data": {
      "text/html": [
       "6.4327663287642345 nanomolar"
      ],
      "text/latex": [
       "$6.4327663287642345\\ \\mathrm{nanomolar}$"
      ],
      "text/plain": [
       "<Quantity(6.43276633, 'nanomolar')>"
      ]
     },
     "execution_count": 3,
     "metadata": {},
     "output_type": "execute_result"
    }
   ],
   "source": [
    "(Q_(\"5410/1396.524589 um^-3\")/ureg.avogadro_constant).to(\"nanomolar\")"
   ]
  },
  {
   "cell_type": "code",
   "execution_count": 9,
   "id": "7bc1575c",
   "metadata": {},
   "outputs": [
    {
     "data": {
      "text/html": [
       "6.4327663287642345 nanomolar"
      ],
      "text/latex": [
       "$6.4327663287642345\\ \\mathrm{nanomolar}$"
      ],
      "text/plain": [
       "<Quantity(6.43276633, 'nanomolar')>"
      ]
     },
     "execution_count": 9,
     "metadata": {},
     "output_type": "execute_result"
    }
   ],
   "source": [
    "(5410/Q_(\"1396.524589 um^3\")/ureg.avogadro_constant).to(\"nanomolar\")"
   ]
  },
  {
   "cell_type": "code",
   "execution_count": 8,
   "id": "43c063a4-bb41-49f5-a8a3-8da3d5d4e762",
   "metadata": {},
   "outputs": [
    {
     "data": {
      "text/html": [
       "0.3567153232216766 nanomolar"
      ],
      "text/latex": [
       "$0.3567153232216766\\ \\mathrm{nanomolar}$"
      ],
      "text/plain": [
       "0.3567153232216766 <Unit('nanomolar')>"
      ]
     },
     "execution_count": 8,
     "metadata": {},
     "output_type": "execute_result"
    }
   ],
   "source": [
    "(Q_(\"300/1396.524589 um^-3\")/ureg.avogadro_constant).to(\"nanomolar\")"
   ]
  },
  {
   "cell_type": "code",
   "execution_count": 6,
   "id": "2a20a779-98f5-476f-9538-d57e09de4277",
   "metadata": {},
   "outputs": [
    {
     "data": {
      "text/html": [
       "399.67183476434417 micromolar"
      ],
      "text/latex": [
       "$399.67183476434417\\ \\mathrm{micromolar}$"
      ],
      "text/plain": [
       "399.67183476434417 <Unit('micromolar')>"
      ]
     },
     "execution_count": 6,
     "metadata": {},
     "output_type": "execute_result"
    }
   ],
   "source": [
    "nodes_in_row = 3\n",
    "fibrin_conc_per_fiber = (\n",
    "    nodes_in_row**2\n",
    "    / (Q_(\"45 nanometers\") / 2 * ureg.pi * Q_(\"23nm\")**2)\n",
    "    / ureg.avogadro_constant\n",
    ").to(\"micromolar\")\n",
    "fibrin_conc_per_fiber"
   ]
  },
  {
   "cell_type": "code",
   "execution_count": 7,
   "id": "1db4c985-8d2b-4a91-a3fa-7bdf40c7b802",
   "metadata": {},
   "outputs": [
    {
     "data": {
      "text/html": [
       "355.26385312386145 micromolar"
      ],
      "text/latex": [
       "$355.26385312386145\\ \\mathrm{micromolar}$"
      ],
      "text/plain": [
       "355.26385312386145 <Unit('micromolar')>"
      ]
     },
     "execution_count": 7,
     "metadata": {},
     "output_type": "execute_result"
    }
   ],
   "source": [
    "4 * (nodes_in_row - 1) / nodes_in_row**2 * fibrin_conc_per_fiber"
   ]
  },
  {
   "cell_type": "code",
   "execution_count": 6,
   "id": "2a875f6b-e3b3-44a9-810c-99ed924fb9b2",
   "metadata": {},
   "outputs": [
    {
     "data": {
      "text/html": [
       "0.6022140759999998 1/micrometer<sup>3</sup>"
      ],
      "text/latex": [
       "$0.6022140759999998\\ \\frac{1}{\\mathrm{micrometer}^{3}}$"
      ],
      "text/plain": [
       "0.6022140759999998 <Unit('1 / micrometer ** 3')>"
      ]
     },
     "execution_count": 6,
     "metadata": {},
     "output_type": "execute_result"
    }
   ],
   "source": [
    "(Q_(\"1 nmol/L\")*ureg.avogadro_constant).to(\"um^-3\")"
   ]
  },
  {
   "cell_type": "code",
   "execution_count": 3,
   "id": "0f197228-54c8-406f-9e98-4fc8b7b66424",
   "metadata": {},
   "outputs": [
    {
     "data": {
      "text/html": [
       "3.0110703799999996 1/micrometer<sup>3</sup>"
      ],
      "text/latex": [
       "$3.0110703799999996\\ \\frac{1}{\\mathrm{micrometer}^{3}}$"
      ],
      "text/plain": [
       "3.0110703799999996 <Unit('1 / micrometer ** 3')>"
      ]
     },
     "execution_count": 3,
     "metadata": {},
     "output_type": "execute_result"
    }
   ],
   "source": [
    "(Q_(\"5nM\")*ureg.avogadro_constant).to(\"um^-3\")"
   ]
  },
  {
   "cell_type": "code",
   "execution_count": 4,
   "id": "91ca681e-9397-4d39-bcd6-1dc4890b7db3",
   "metadata": {},
   "outputs": [
    {
     "data": {
      "text/html": [
       "2.4088563039999995 1/micrometer<sup>3</sup>"
      ],
      "text/latex": [
       "$2.4088563039999995\\ \\frac{1}{\\mathrm{micrometer}^{3}}$"
      ],
      "text/plain": [
       "2.4088563039999995 <Unit('1 / micrometer ** 3')>"
      ]
     },
     "execution_count": 4,
     "metadata": {},
     "output_type": "execute_result"
    }
   ],
   "source": [
    "(Q_(\"4nM\")*ureg.avogadro_constant).to(\"um^-3\")"
   ]
  },
  {
   "cell_type": "code",
   "execution_count": 5,
   "id": "4fc31bd4-460d-42d0-a15a-895493771bf7",
   "metadata": {},
   "outputs": [
    {
     "data": {
      "text/html": [
       "1.8066422279999996 1/micrometer<sup>3</sup>"
      ],
      "text/latex": [
       "$1.8066422279999996\\ \\frac{1}{\\mathrm{micrometer}^{3}}$"
      ],
      "text/plain": [
       "1.8066422279999996 <Unit('1 / micrometer ** 3')>"
      ]
     },
     "execution_count": 5,
     "metadata": {},
     "output_type": "execute_result"
    }
   ],
   "source": [
    "(Q_(\"3nM\")*ureg.avogadro_constant).to(\"um^-3\")"
   ]
  },
  {
   "cell_type": "code",
   "execution_count": 6,
   "id": "9adf4fa2-f4bc-4f28-8312-addadc8be4de",
   "metadata": {},
   "outputs": [
    {
     "data": {
      "text/html": [
       "1.2044281519999998 1/micrometer<sup>3</sup>"
      ],
      "text/latex": [
       "$1.2044281519999998\\ \\frac{1}{\\mathrm{micrometer}^{3}}$"
      ],
      "text/plain": [
       "1.2044281519999998 <Unit('1 / micrometer ** 3')>"
      ]
     },
     "execution_count": 6,
     "metadata": {},
     "output_type": "execute_result"
    }
   ],
   "source": [
    "(Q_(\"2nM\")*ureg.avogadro_constant).to(\"um^-3\")"
   ]
  },
  {
   "cell_type": "code",
   "execution_count": 7,
   "id": "668097c1-1988-44cb-8c04-5c50bdf4efba",
   "metadata": {},
   "outputs": [
    {
     "data": {
      "text/html": [
       "0.6022140759999999 1/micrometer<sup>3</sup>"
      ],
      "text/latex": [
       "$0.6022140759999999\\ \\frac{1}{\\mathrm{micrometer}^{3}}$"
      ],
      "text/plain": [
       "0.6022140759999999 <Unit('1 / micrometer ** 3')>"
      ]
     },
     "execution_count": 7,
     "metadata": {},
     "output_type": "execute_result"
    }
   ],
   "source": [
    "(Q_(\"1nM\")*ureg.avogadro_constant).to(\"um^-3\")"
   ]
  },
  {
   "cell_type": "code",
   "execution_count": 11,
   "id": "52e7e951-7c6b-4204-8137-03137f7ff39c",
   "metadata": {},
   "outputs": [
    {
     "data": {
      "text/html": [
       "3.7362129011411556 nanomolar"
      ],
      "text/latex": [
       "$3.7362129011411556\\ \\mathrm{nanomolar}$"
      ],
      "text/plain": [
       "3.7362129011411556 <Unit('nanomolar')>"
      ]
     },
     "execution_count": 11,
     "metadata": {},
     "output_type": "execute_result"
    }
   ],
   "source": [
    "(Q_(\"2.25um^-3\")/ureg.avogadro_constant).to(\"nM\")"
   ]
  },
  {
   "cell_type": "code",
   "execution_count": 12,
   "id": "90def993-dfb7-4ead-b1a8-8035200f90d2",
   "metadata": {},
   "outputs": [
    {
     "data": {
      "text/html": [
       "0.12287989097086467 nanomolar"
      ],
      "text/latex": [
       "$0.12287989097086467\\ \\mathrm{nanomolar}$"
      ],
      "text/plain": [
       "0.12287989097086467 <Unit('nanomolar')>"
      ]
     },
     "execution_count": 12,
     "metadata": {},
     "output_type": "execute_result"
    }
   ],
   "source": [
    "(Q_(\"0.074um^-3\")/ureg.avogadro_constant).to(\"nM\")"
   ]
  },
  {
   "cell_type": "code",
   "execution_count": 13,
   "id": "2919a7ff-34df-4fbd-a7db-7b2f5fdfc798",
   "metadata": {},
   "outputs": [
    {
     "data": {
      "text/html": [
       "0.0039852937612172325 nanomolar"
      ],
      "text/latex": [
       "$0.0039852937612172325\\ \\mathrm{nanomolar}$"
      ],
      "text/plain": [
       "0.0039852937612172325 <Unit('nanomolar')>"
      ]
     },
     "execution_count": 13,
     "metadata": {},
     "output_type": "execute_result"
    }
   ],
   "source": [
    "(Q_(\"0.0024um^-3\")/ureg.avogadro_constant).to(\"nM\")"
   ]
  },
  {
   "cell_type": "code",
   "execution_count": null,
   "id": "844c4675-13e7-4ce1-a520-99cb23aa590f",
   "metadata": {},
   "outputs": [],
   "source": [
    "(Q_(\"0.0024um^-3\")/ureg.avogadro_constant).to(\"nM\")"
   ]
  },
  {
   "cell_type": "code",
   "execution_count": 17,
   "id": "1ece9f36-3fe7-434a-9d51-8a0db7f85a79",
   "metadata": {},
   "outputs": [
    {
     "data": {
      "text/html": [
       "3542.43574240066 1/micrometer<sup>3</sup>"
      ],
      "text/latex": [
       "$3542.43574240066\\ \\frac{1}{\\mathrm{micrometer}^{3}}$"
      ],
      "text/plain": [
       "3542.43574240066 <Unit('1 / micrometer ** 3')>"
      ]
     },
     "execution_count": 17,
     "metadata": {},
     "output_type": "execute_result"
    }
   ],
   "source": [
    "(Q_(\"2mg/mL\")/Q_(\"340 kDa\")).to(\"um^-3\")"
   ]
  },
  {
   "cell_type": "code",
   "execution_count": 8,
   "id": "565291db-71cd-4efc-90ba-9240c6e224b3",
   "metadata": {},
   "outputs": [
    {
     "data": {
      "text/html": [
       "332.10781343476935 nanomolar"
      ],
      "text/latex": [
       "$332.10781343476935\\ \\mathrm{nanomolar}$"
      ],
      "text/plain": [
       "332.10781343476935 <Unit('nanomolar')>"
      ]
     },
     "execution_count": 8,
     "metadata": {},
     "output_type": "execute_result"
    }
   ],
   "source": [
    "(Q_(\"200um^-3\")/ureg.avogadro_constant).to(\"nM\")"
   ]
  },
  {
   "cell_type": "code",
   "execution_count": 10,
   "id": "18c751f8-06a3-4bc1-9734-6335a2c15d79",
   "metadata": {},
   "outputs": [
    {
     "data": {
      "text/html": [
       "301.10703799999993 1/micrometer<sup>3</sup>"
      ],
      "text/latex": [
       "$301.10703799999993\\ \\frac{1}{\\mathrm{micrometer}^{3}}$"
      ],
      "text/plain": [
       "301.10703799999993 <Unit('1 / micrometer ** 3')>"
      ]
     },
     "execution_count": 10,
     "metadata": {},
     "output_type": "execute_result"
    }
   ],
   "source": [
    "(Q_(\"500nM\")*ureg.avogadro_constant).to(\"um^-3\")"
   ]
  },
  {
   "cell_type": "code",
   "execution_count": 13,
   "id": "74a83a72-7367-4a5c-a170-7af9ddef0034",
   "metadata": {},
   "outputs": [
    {
     "data": {
      "text/html": [
       "1.660539067173847 nanomolar"
      ],
      "text/latex": [
       "$1.660539067173847\\ \\mathrm{nanomolar}$"
      ],
      "text/plain": [
       "1.660539067173847 <Unit('nanomolar')>"
      ]
     },
     "execution_count": 13,
     "metadata": {},
     "output_type": "execute_result"
    }
   ],
   "source": [
    "(Q_(\"1um^-3\")/ureg.avogadro_constant).to(\"nM\")"
   ]
  },
  {
   "cell_type": "code",
   "execution_count": 3,
   "id": "5594f405-e990-4735-a3a7-ac9f3402ea1f",
   "metadata": {},
   "outputs": [
    {
     "data": {
      "text/html": [
       "13393.6 inch/second"
      ],
      "text/latex": [
       "$13393.6\\ \\frac{\\mathrm{inch}}{\\mathrm{second}}$"
      ],
      "text/plain": [
       "13393.6 <Unit('inch / second')>"
      ]
     },
     "execution_count": 3,
     "metadata": {},
     "output_type": "execute_result"
    }
   ],
   "source": [
    "Q_(\"761mph\").to(\"in/sec\")"
   ]
  },
  {
   "cell_type": "code",
   "execution_count": null,
   "id": "bf8ee3f3-b017-4c88-88fd-766faa06d507",
   "metadata": {},
   "outputs": [],
   "source": []
  }
 ],
 "metadata": {
  "kernelspec": {
   "display_name": "Python 3 (ipykernel)",
   "language": "python",
   "name": "python3"
  },
  "language_info": {
   "codemirror_mode": {
    "name": "ipython",
    "version": 3
   },
   "file_extension": ".py",
   "mimetype": "text/x-python",
   "name": "python",
   "nbconvert_exporter": "python",
   "pygments_lexer": "ipython3",
   "version": "3.10.8"
  }
 },
 "nbformat": 4,
 "nbformat_minor": 5
}
