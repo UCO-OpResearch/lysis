{
 "cells": [
  {
   "cell_type": "code",
   "execution_count": 2,
   "id": "be2f92ab-25a4-4022-a546-5e52a43715f1",
   "metadata": {},
   "outputs": [],
   "source": [
    "import numpy as np\n",
    "import util\n",
    "import ctypes"
   ]
  },
  {
   "cell_type": "code",
   "execution_count": 3,
   "id": "b81bee68-3215-4ca4-a2d1-935c0d236019",
   "metadata": {},
   "outputs": [],
   "source": [
    "experiment_code = '2022-12-20-1600'\n",
    "data_in_code = 'PLG2_tPA01_Q2.dat'\n",
    "data_out_code = 'tPA425_PLG2_tPA01_into_and_along_Q2.dat';"
   ]
  },
  {
   "cell_type": "code",
   "execution_count": 4,
   "id": "b87716fd-6589-4a5e-b792-f63ac194e713",
   "metadata": {},
   "outputs": [],
   "source": [
    "kiss_file = '../../lib/kiss.so'\n",
    "kiss = ctypes.CDLL(kiss_file)"
   ]
  },
  {
   "cell_type": "code",
   "execution_count": 10,
   "id": "ef112821-df0a-4ad6-ab56-e005ab03925d",
   "metadata": {},
   "outputs": [],
   "source": [
    "urcw1 = kiss.urcw1_\n",
    "urcw1.restype = ctypes.c_double"
   ]
  },
  {
   "cell_type": "code",
   "execution_count": 20,
   "id": "5a5a56e5-f1ba-42eb-be96-9ed1ba5b6269",
   "metadata": {},
   "outputs": [],
   "source": [
    "state = [129281, 362436069, 123456789, -2137354075]"
   ]
  },
  {
   "cell_type": "code",
   "execution_count": 21,
   "id": "26c5aefb-d899-4565-bb23-409cd5430230",
   "metadata": {},
   "outputs": [
    {
     "data": {
      "text/plain": [
       "0.8032140067016628"
      ]
     },
     "execution_count": 21,
     "metadata": {},
     "output_type": "execute_result"
    }
   ],
   "source": [
    "State_type = ctypes.c_uint * 4\n",
    "c_state = State_type(state[0], state[1], state[2], state[3])\n",
    "kiss.set_kiss32_(c_state)\n",
    "kiss.urcw1_()"
   ]
  },
  {
   "cell_type": "code",
   "execution_count": 13,
   "id": "f1eabfa6-4048-4420-ae62-068ffd01e34b",
   "metadata": {},
   "outputs": [
    {
     "data": {
      "text/plain": [
       "0.803214006701663"
      ]
     },
     "execution_count": 13,
     "metadata": {},
     "output_type": "execute_result"
    }
   ],
   "source": [
    "0.803214006701663"
   ]
  },
  {
   "cell_type": "code",
   "execution_count": null,
   "id": "5df8f12c-5b02-4cd6-a3e7-5539317d7f04",
   "metadata": {},
   "outputs": [],
   "source": []
  }
 ],
 "metadata": {
  "kernelspec": {
   "display_name": "Python 3 (ipykernel)",
   "language": "python",
   "name": "python3"
  },
  "language_info": {
   "codemirror_mode": {
    "name": "ipython",
    "version": 3
   },
   "file_extension": ".py",
   "mimetype": "text/x-python",
   "name": "python",
   "nbconvert_exporter": "python",
   "pygments_lexer": "ipython3",
   "version": "3.10.8"
  }
 },
 "nbformat": 4,
 "nbformat_minor": 5
}
