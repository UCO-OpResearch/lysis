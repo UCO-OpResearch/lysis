{
 "cells": [
  {
   "cell_type": "code",
   "execution_count": null,
   "id": "be2f92ab-25a4-4022-a546-5e52a43715f1",
   "metadata": {},
   "outputs": [],
   "source": [
    "import numpy as np\n",
    "import util\n",
    "import ctypes"
   ]
  },
  {
   "cell_type": "code",
   "execution_count": null,
   "id": "b81bee68-3215-4ca4-a2d1-935c0d236019",
   "metadata": {},
   "outputs": [],
   "source": [
    "experiment_code = '2022-12-20-1600'\n",
    "data_in_code = 'PLG2_tPA01_Q2.dat'\n",
    "data_out_code = 'tPA425_PLG2_tPA01_into_and_along_Q2.dat';"
   ]
  },
  {
   "cell_type": "code",
   "execution_count": null,
   "id": "b87716fd-6589-4a5e-b792-f63ac194e713",
   "metadata": {},
   "outputs": [],
   "source": [
    "kiss_file = '../../lib/kiss.so'\n",
    "kiss = ctypes.CDLL(kiss_file)"
   ]
  },
  {
   "cell_type": "code",
   "execution_count": null,
   "id": "ef112821-df0a-4ad6-ab56-e005ab03925d",
   "metadata": {},
   "outputs": [],
   "source": [
    "urcw1 = kiss.urcw1_\n",
    "urcw1.restype = ctypes.c_double"
   ]
  },
  {
   "cell_type": "code",
   "execution_count": null,
   "id": "5a5a56e5-f1ba-42eb-be96-9ed1ba5b6269",
   "metadata": {},
   "outputs": [],
   "source": [
    "state = [129281, 362436069, 123456789, -2137354075]"
   ]
  },
  {
   "cell_type": "code",
   "execution_count": null,
   "id": "26c5aefb-d899-4565-bb23-409cd5430230",
   "metadata": {},
   "outputs": [],
   "source": [
    "state_type = ctypes.c_uint * 4\n",
    "c_state = state_type(state[0], state[1], state[2], state[3])\n",
    "kiss.set_kiss32_(c_state)\n",
    "kiss.urcw1_()"
   ]
  },
  {
   "cell_type": "code",
   "execution_count": null,
   "id": "f1eabfa6-4048-4420-ae62-068ffd01e34b",
   "metadata": {},
   "outputs": [],
   "source": [
    "0.803214006701663"
   ]
  },
  {
   "cell_type": "code",
   "execution_count": null,
   "id": "63ed5cd8-646f-4c9e-bd6e-9fe51d62a849",
   "metadata": {},
   "outputs": [],
   "source": [
    "state_type = ctypes.c_uint * 4"
   ]
  },
  {
   "cell_type": "code",
   "execution_count": null,
   "id": "84354229-1d7c-4330-991d-78289bfb7a1f",
   "metadata": {},
   "outputs": [],
   "source": [
    "get_kiss32 = kiss.get_kiss32_\n",
    "#get_kiss32.restype = state_type"
   ]
  },
  {
   "cell_type": "code",
   "execution_count": null,
   "id": "ceff4f3e-acb8-4608-99b7-d3b768b78188",
   "metadata": {},
   "outputs": [],
   "source": [
    "c_state = state_type(0, 0, 0, 0)\n",
    "for i in c_state:\n",
    "    print(i)"
   ]
  },
  {
   "cell_type": "code",
   "execution_count": null,
   "id": "94bb8288-ae13-4dfc-a7c0-45c95350362f",
   "metadata": {},
   "outputs": [],
   "source": [
    "kiss.get_kiss32_(c_state)\n",
    "for i in c_state:\n",
    "    print(i)"
   ]
  },
  {
   "cell_type": "code",
   "execution_count": null,
   "id": "8f505527-1a75-45a1-92d8-87d43107a3f8",
   "metadata": {},
   "outputs": [],
   "source": [
    "for i in c_state:\n",
    "    print(i)"
   ]
  },
  {
   "cell_type": "code",
   "execution_count": 1,
   "id": "f7c7a3e4-dde4-4fda-83e4-52fc88dc3837",
   "metadata": {},
   "outputs": [],
   "source": [
    "import lysis.util"
   ]
  },
  {
   "cell_type": "code",
   "execution_count": 2,
   "id": "715ef51a-dbb9-4120-a0d2-95de56544715",
   "metadata": {},
   "outputs": [
    {
     "data": {
      "text/plain": [
       "(129281, 362436069, 123456789, 2740552755)"
      ]
     },
     "execution_count": 2,
     "metadata": {},
     "output_type": "execute_result"
    }
   ],
   "source": [
    "kiss = lysis.util.KissRandomGenerator()\n",
    "kiss.getstate()"
   ]
  },
  {
   "cell_type": "code",
   "execution_count": 3,
   "id": "de773f20-aaf8-4890-b444-85ed136f480a",
   "metadata": {},
   "outputs": [
    {
     "data": {
      "text/plain": [
       "0.27521786659661873"
      ]
     },
     "execution_count": 3,
     "metadata": {},
     "output_type": "execute_result"
    }
   ],
   "source": [
    "kiss.urcw1()"
   ]
  },
  {
   "cell_type": "code",
   "execution_count": 4,
   "id": "ea131da8-2d97-4c05-8ac6-15a7d8758011",
   "metadata": {},
   "outputs": [
    {
     "data": {
      "text/plain": [
       "array([0.23341968, 0.59532045, 0.33051278, 0.53315702, 0.62713795,\n",
       "       0.10086984, 0.70343299, 0.93950692, 0.94428388, 0.21012321])"
      ]
     },
     "execution_count": 4,
     "metadata": {},
     "output_type": "execute_result"
    }
   ],
   "source": [
    "kiss.random(10)"
   ]
  },
  {
   "cell_type": "code",
   "execution_count": 8,
   "id": "5f759165-884f-4476-8505-ec6c489edea2",
   "metadata": {},
   "outputs": [
    {
     "data": {
      "text/plain": [
       "array([0.34303259, 0.1090554 , 0.12355472, 0.34237657, 0.20872865,\n",
       "       0.6944301 , 0.12358705, 0.39776014, 0.59589059, 0.09809339])"
      ]
     },
     "execution_count": 8,
     "metadata": {},
     "output_type": "execute_result"
    }
   ],
   "source": [
    "a"
   ]
  },
  {
   "cell_type": "code",
   "execution_count": null,
   "id": "d339a8e7-42f4-4648-a009-999fff467c51",
   "metadata": {},
   "outputs": [],
   "source": [
    "kiss.urcw1()"
   ]
  },
  {
   "cell_type": "code",
   "execution_count": null,
   "id": "45951ad8-8d51-4d32-9878-42dfdbd912f0",
   "metadata": {},
   "outputs": [],
   "source": [
    "kiss.kiss32()"
   ]
  },
  {
   "cell_type": "code",
   "execution_count": 5,
   "id": "4dc25e6f-4e33-4e0d-adf5-279a64846385",
   "metadata": {},
   "outputs": [
    {
     "data": {
      "text/plain": [
       "(326169629, 2165843554, 4232839553, 547714037)"
      ]
     },
     "execution_count": 5,
     "metadata": {},
     "output_type": "execute_result"
    }
   ],
   "source": [
    "state = kiss.getstate()\n",
    "state"
   ]
  },
  {
   "cell_type": "code",
   "execution_count": 6,
   "id": "244d6184-de08-4e4a-8a7f-685f93e97ce3",
   "metadata": {},
   "outputs": [
    {
     "name": "stdout",
     "output_type": "stream",
     "text": [
      "1187407685\n",
      "[0.68997542 0.40356682 0.77709113 0.8906236  0.52793443 0.61384521\n",
      " 0.96461173 0.33523116 0.93725732 0.72401253]\n",
      "452156582\n",
      "[0.37011635 0.89190365 0.17900755 0.693691   0.62244893 0.32968103\n",
      " 0.36977796 0.58899287 0.59853117 0.93144062]\n",
      "2030912030\n",
      "[0.66209783 0.1241452  0.29096173 0.06206618 0.81343398 0.70306094\n",
      " 0.05151173 0.66953155 0.7236076  0.33672281]\n",
      "2070212055\n",
      "[0.28907965 0.23897837 0.24302226 0.29763629 0.88322848 0.09981336\n",
      " 0.42352317 0.3041101  0.96393297 0.32396426]\n"
     ]
    }
   ],
   "source": [
    "for i in range(4):\n",
    "    print(kiss.kiss32())\n",
    "    print(kiss.random(10))"
   ]
  },
  {
   "cell_type": "code",
   "execution_count": 7,
   "id": "85e43f5e-f74d-4547-9f99-eea14b21daef",
   "metadata": {},
   "outputs": [
    {
     "name": "stdout",
     "output_type": "stream",
     "text": [
      "940552693\n",
      "[0.8449937  0.50748539 0.29253247 0.96264399 0.9545566  0.3355127\n",
      " 0.12707355 0.0480969  0.07818414 0.79974858]\n",
      "2499226248\n",
      "[0.01706247 0.64814462 0.17375444 0.64636391 0.3110065  0.69669605\n",
      " 0.77682109 0.91401871 0.19079897 0.88025231]\n",
      "1629471770\n",
      "[0.24673167 0.34584072 0.00568217 0.43773395 0.09485262 0.28042533\n",
      " 0.41089058 0.91464021 0.48141194 0.06513387]\n",
      "616447383\n",
      "[0.85073138 0.81567081 0.75687785 0.24325729 0.35509168 0.64204381\n",
      " 0.18580485 0.9035831  0.94345685 0.78801176]\n"
     ]
    }
   ],
   "source": [
    "for i in range(4):\n",
    "    print(kiss.kiss32())\n",
    "    print(kiss.random(10))"
   ]
  },
  {
   "cell_type": "code",
   "execution_count": 8,
   "id": "e5903f63-3910-4c9d-8e2b-52d8d182eafa",
   "metadata": {},
   "outputs": [],
   "source": [
    "kiss.setstate(state)"
   ]
  },
  {
   "cell_type": "code",
   "execution_count": 9,
   "id": "590285f4-b3d9-4d29-945a-3cd46e3c285a",
   "metadata": {},
   "outputs": [
    {
     "name": "stdout",
     "output_type": "stream",
     "text": [
      "1187407685\n",
      "[0.68997542 0.40356682 0.77709113 0.8906236  0.52793443 0.61384521\n",
      " 0.96461173 0.33523116 0.93725732 0.72401253]\n",
      "452156582\n",
      "[0.37011635 0.89190365 0.17900755 0.693691   0.62244893 0.32968103\n",
      " 0.36977796 0.58899287 0.59853117 0.93144062]\n",
      "2030912030\n",
      "[0.66209783 0.1241452  0.29096173 0.06206618 0.81343398 0.70306094\n",
      " 0.05151173 0.66953155 0.7236076  0.33672281]\n",
      "2070212055\n",
      "[0.28907965 0.23897837 0.24302226 0.29763629 0.88322848 0.09981336\n",
      " 0.42352317 0.3041101  0.96393297 0.32396426]\n"
     ]
    }
   ],
   "source": [
    "for i in range(4):\n",
    "    print(kiss.kiss32())\n",
    "    print(kiss.random(10))"
   ]
  },
  {
   "cell_type": "code",
   "execution_count": null,
   "id": "aa7beeb9-c446-46cb-a320-5557dfd954f1",
   "metadata": {},
   "outputs": [],
   "source": [
    "kiss.set_state([129281, 362436069, 123456789, -2137354075])\n",
    "kiss.urcw1()"
   ]
  },
  {
   "cell_type": "code",
   "execution_count": null,
   "id": "ac8d8faa-b70d-40b7-8e1c-27e91a0ad1a6",
   "metadata": {},
   "outputs": [],
   "source": [
    "0.803214006701663"
   ]
  },
  {
   "cell_type": "code",
   "execution_count": 1,
   "id": "ec1b4229-7a51-4c61-9a14-816e040a9237",
   "metadata": {},
   "outputs": [],
   "source": [
    "import lysis\n",
    "import numpy as np"
   ]
  },
  {
   "cell_type": "code",
   "execution_count": 2,
   "id": "c178a4bf-1102-41ae-b657-89e9723fd19a",
   "metadata": {},
   "outputs": [],
   "source": [
    "kiss = lysis.util.KissRandomGenerator()"
   ]
  },
  {
   "cell_type": "code",
   "execution_count": 3,
   "id": "889b5d91-2cf1-4818-ad91-dc95dc5bdcfd",
   "metadata": {},
   "outputs": [
    {
     "data": {
      "text/plain": [
       "0.7132576634823578"
      ]
     },
     "execution_count": 3,
     "metadata": {},
     "output_type": "execute_result"
    }
   ],
   "source": [
    "kiss.random()"
   ]
  },
  {
   "cell_type": "code",
   "execution_count": 5,
   "id": "6e3da473-a356-47d6-a0b3-7f2c683b3ad4",
   "metadata": {},
   "outputs": [
    {
     "data": {
      "text/plain": [
       "array([3, 2, 1, 2, 0, 3, 3, 1, 3, 0, 1, 1, 2, 0, 2, 3, 1, 0, 0, 1, 1, 3,\n",
       "       1, 1, 2, 2, 3, 0, 0, 0, 3, 2, 0, 0, 1, 1, 1, 3, 1, 0, 2, 0, 3, 3,\n",
       "       3, 1, 1, 2, 1, 3])"
      ]
     },
     "execution_count": 5,
     "metadata": {},
     "output_type": "execute_result"
    }
   ],
   "source": [
    "a = kiss.integers(4, size=50)\n",
    "a"
   ]
  },
  {
   "cell_type": "code",
   "execution_count": null,
   "id": "9945c71b-57fd-47f7-b4d3-68e9a0b28af7",
   "metadata": {},
   "outputs": [],
   "source": []
  }
 ],
 "metadata": {
  "kernelspec": {
   "display_name": "Python 3 (ipykernel)",
   "language": "python",
   "name": "python3"
  },
  "language_info": {
   "codemirror_mode": {
    "name": "ipython",
    "version": 3
   },
   "file_extension": ".py",
   "mimetype": "text/x-python",
   "name": "python",
   "nbconvert_exporter": "python",
   "pygments_lexer": "ipython3",
   "version": "3.11.0"
  }
 },
 "nbformat": 4,
 "nbformat_minor": 5
}
