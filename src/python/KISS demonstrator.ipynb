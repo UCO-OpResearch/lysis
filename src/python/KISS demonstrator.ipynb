{
 "cells": [
  {
   "cell_type": "code",
   "execution_count": 1,
   "id": "be2f92ab-25a4-4022-a546-5e52a43715f1",
   "metadata": {},
   "outputs": [],
   "source": [
    "import numpy as np\n",
    "import util\n",
    "import ctypes"
   ]
  },
  {
   "cell_type": "code",
   "execution_count": 3,
   "id": "b81bee68-3215-4ca4-a2d1-935c0d236019",
   "metadata": {},
   "outputs": [],
   "source": [
    "experiment_code = '2022-12-20-1600'\n",
    "data_in_code = 'PLG2_tPA01_Q2.dat'\n",
    "data_out_code = 'tPA425_PLG2_tPA01_into_and_along_Q2.dat';"
   ]
  },
  {
   "cell_type": "code",
   "execution_count": 2,
   "id": "b87716fd-6589-4a5e-b792-f63ac194e713",
   "metadata": {},
   "outputs": [],
   "source": [
    "kiss_file = '../../lib/kiss.so'\n",
    "kiss = ctypes.CDLL(kiss_file)"
   ]
  },
  {
   "cell_type": "code",
   "execution_count": 10,
   "id": "ef112821-df0a-4ad6-ab56-e005ab03925d",
   "metadata": {},
   "outputs": [],
   "source": [
    "urcw1 = kiss.urcw1_\n",
    "urcw1.restype = ctypes.c_double"
   ]
  },
  {
   "cell_type": "code",
   "execution_count": 5,
   "id": "5a5a56e5-f1ba-42eb-be96-9ed1ba5b6269",
   "metadata": {},
   "outputs": [],
   "source": [
    "state = [129281, 362436069, 123456789, -2137354075]"
   ]
  },
  {
   "cell_type": "code",
   "execution_count": 11,
   "id": "26c5aefb-d899-4565-bb23-409cd5430230",
   "metadata": {},
   "outputs": [
    {
     "data": {
      "text/plain": [
       "-598794009"
      ]
     },
     "execution_count": 11,
     "metadata": {},
     "output_type": "execute_result"
    }
   ],
   "source": [
    "state_type = ctypes.c_uint * 4\n",
    "c_state = state_type(state[0], state[1], state[2], state[3])\n",
    "kiss.set_kiss32_(c_state)\n",
    "kiss.urcw1_()"
   ]
  },
  {
   "cell_type": "code",
   "execution_count": 13,
   "id": "f1eabfa6-4048-4420-ae62-068ffd01e34b",
   "metadata": {},
   "outputs": [
    {
     "data": {
      "text/plain": [
       "0.803214006701663"
      ]
     },
     "execution_count": 13,
     "metadata": {},
     "output_type": "execute_result"
    }
   ],
   "source": [
    "0.803214006701663"
   ]
  },
  {
   "cell_type": "code",
   "execution_count": 3,
   "id": "63ed5cd8-646f-4c9e-bd6e-9fe51d62a849",
   "metadata": {},
   "outputs": [],
   "source": [
    "state_type = ctypes.c_uint * 4"
   ]
  },
  {
   "cell_type": "code",
   "execution_count": 6,
   "id": "84354229-1d7c-4330-991d-78289bfb7a1f",
   "metadata": {},
   "outputs": [],
   "source": [
    "get_kiss32 = kiss.get_kiss32_\n",
    "#get_kiss32.restype = state_type"
   ]
  },
  {
   "cell_type": "code",
   "execution_count": 14,
   "id": "ceff4f3e-acb8-4608-99b7-d3b768b78188",
   "metadata": {},
   "outputs": [
    {
     "name": "stdout",
     "output_type": "stream",
     "text": [
      "0\n",
      "0\n",
      "0\n",
      "0\n"
     ]
    }
   ],
   "source": [
    "c_state = state_type(0, 0, 0, 0)\n",
    "for i in c_state:\n",
    "    print(i)"
   ]
  },
  {
   "cell_type": "code",
   "execution_count": 15,
   "id": "94bb8288-ae13-4dfc-a7c0-45c95350362f",
   "metadata": {},
   "outputs": [
    {
     "name": "stdout",
     "output_type": "stream",
     "text": [
      "223787708\n",
      "604065891\n",
      "2249063773\n",
      "3472354123\n"
     ]
    }
   ],
   "source": [
    "kiss.get_kiss32_(c_state)\n",
    "for i in c_state:\n",
    "    print(i)"
   ]
  },
  {
   "cell_type": "code",
   "execution_count": 13,
   "id": "8f505527-1a75-45a1-92d8-87d43107a3f8",
   "metadata": {},
   "outputs": [
    {
     "name": "stdout",
     "output_type": "stream",
     "text": [
      "223787708\n",
      "604065891\n",
      "2249063773\n",
      "3472354123\n"
     ]
    }
   ],
   "source": [
    "for i in c_state:\n",
    "    print(i)"
   ]
  },
  {
   "cell_type": "code",
   "execution_count": 2,
   "id": "f7c7a3e4-dde4-4fda-83e4-52fc88dc3837",
   "metadata": {},
   "outputs": [],
   "source": [
    "import util"
   ]
  },
  {
   "cell_type": "code",
   "execution_count": 3,
   "id": "715ef51a-dbb9-4120-a0d2-95de56544715",
   "metadata": {},
   "outputs": [
    {
     "data": {
      "text/plain": [
       "[223787708, 604065891, 2249063773, 393191799]"
      ]
     },
     "execution_count": 3,
     "metadata": {},
     "output_type": "execute_result"
    }
   ],
   "source": [
    "kiss = util.KissGenerator()\n",
    "kiss.get_state()"
   ]
  },
  {
   "cell_type": "code",
   "execution_count": 7,
   "id": "de773f20-aaf8-4890-b444-85ed136f480a",
   "metadata": {},
   "outputs": [
    {
     "data": {
      "text/plain": [
       "('/home/bpaynter/git/UCO-OpResearch/lysis/src', 'python')"
      ]
     },
     "execution_count": 7,
     "metadata": {},
     "output_type": "execute_result"
    }
   ],
   "source": [
    "import os\n",
    "path = os.getcwd()\n",
    "os.path.split(path)"
   ]
  },
  {
   "cell_type": "code",
   "execution_count": 3,
   "id": "ea131da8-2d97-4c05-8ac6-15a7d8758011",
   "metadata": {},
   "outputs": [
    {
     "data": {
      "text/plain": [
       "[223787708, 604065891, 2249063773, 123]"
      ]
     },
     "execution_count": 3,
     "metadata": {},
     "output_type": "execute_result"
    }
   ],
   "source": [
    "kiss.set_seed(123)\n",
    "kiss.get_state()"
   ]
  },
  {
   "cell_type": "code",
   "execution_count": 5,
   "id": "5f759165-884f-4476-8505-ec6c489edea2",
   "metadata": {},
   "outputs": [
    {
     "data": {
      "text/plain": [
       "[123, 456, 789, 111]"
      ]
     },
     "execution_count": 5,
     "metadata": {},
     "output_type": "execute_result"
    }
   ],
   "source": [
    "kiss.set_state([123, 456, 789, 111])\n",
    "kiss.get_state()"
   ]
  },
  {
   "cell_type": "code",
   "execution_count": 6,
   "id": "d339a8e7-42f4-4648-a009-999fff467c51",
   "metadata": {},
   "outputs": [
    {
     "data": {
      "text/plain": [
       "0.7950608912265203"
      ]
     },
     "execution_count": 6,
     "metadata": {},
     "output_type": "execute_result"
    }
   ],
   "source": [
    "kiss.urcw1()"
   ]
  },
  {
   "cell_type": "code",
   "execution_count": 8,
   "id": "45951ad8-8d51-4d32-9878-42dfdbd912f0",
   "metadata": {},
   "outputs": [
    {
     "data": {
      "text/plain": [
       "65281139"
      ]
     },
     "execution_count": 8,
     "metadata": {},
     "output_type": "execute_result"
    }
   ],
   "source": [
    "kiss.kiss32()"
   ]
  },
  {
   "cell_type": "code",
   "execution_count": 12,
   "id": "4dc25e6f-4e33-4e0d-adf5-279a64846385",
   "metadata": {},
   "outputs": [],
   "source": [
    "state = kiss.get_state()"
   ]
  },
  {
   "cell_type": "code",
   "execution_count": 13,
   "id": "244d6184-de08-4e4a-8a7f-685f93e97ce3",
   "metadata": {},
   "outputs": [
    {
     "name": "stdout",
     "output_type": "stream",
     "text": [
      "3600701874\n",
      "0.03814728890786407\n",
      "2826484517\n",
      "0.2666036926923365\n",
      "600262466\n",
      "0.1413410364882575\n",
      "344215005\n",
      "0.2312278619634349\n"
     ]
    }
   ],
   "source": [
    "for i in range(4):\n",
    "    print(kiss.kiss32())\n",
    "    print(kiss.urcw1())"
   ]
  },
  {
   "cell_type": "code",
   "execution_count": 14,
   "id": "85e43f5e-f74d-4547-9f99-eea14b21daef",
   "metadata": {},
   "outputs": [
    {
     "name": "stdout",
     "output_type": "stream",
     "text": [
      "4003902070\n",
      "0.5602478535349102\n",
      "398086098\n",
      "0.1766649125193055\n",
      "2979070700\n",
      "0.9640620049713642\n",
      "1352808002\n",
      "0.022834888616068173\n"
     ]
    }
   ],
   "source": [
    "for i in range(4):\n",
    "    print(kiss.kiss32())\n",
    "    print(kiss.urcw1())"
   ]
  },
  {
   "cell_type": "code",
   "execution_count": 15,
   "id": "e5903f63-3910-4c9d-8e2b-52d8d182eafa",
   "metadata": {},
   "outputs": [],
   "source": [
    "kiss.set_state(state)"
   ]
  },
  {
   "cell_type": "code",
   "execution_count": 16,
   "id": "590285f4-b3d9-4d29-945a-3cd46e3c285a",
   "metadata": {},
   "outputs": [
    {
     "name": "stdout",
     "output_type": "stream",
     "text": [
      "3600701874\n",
      "0.03814728890786407\n",
      "2826484517\n",
      "0.2666036926923365\n",
      "600262466\n",
      "0.1413410364882575\n",
      "344215005\n",
      "0.2312278619634349\n"
     ]
    }
   ],
   "source": [
    "for i in range(4):\n",
    "    print(kiss.kiss32())\n",
    "    print(kiss.urcw1())"
   ]
  },
  {
   "cell_type": "code",
   "execution_count": 17,
   "id": "aa7beeb9-c446-46cb-a320-5557dfd954f1",
   "metadata": {},
   "outputs": [
    {
     "data": {
      "text/plain": [
       "0.8032140067016628"
      ]
     },
     "execution_count": 17,
     "metadata": {},
     "output_type": "execute_result"
    }
   ],
   "source": [
    "kiss.set_state([129281, 362436069, 123456789, -2137354075])\n",
    "kiss.urcw1()"
   ]
  },
  {
   "cell_type": "code",
   "execution_count": 18,
   "id": "ac8d8faa-b70d-40b7-8e1c-27e91a0ad1a6",
   "metadata": {},
   "outputs": [
    {
     "data": {
      "text/plain": [
       "0.803214006701663"
      ]
     },
     "execution_count": 18,
     "metadata": {},
     "output_type": "execute_result"
    }
   ],
   "source": [
    "0.803214006701663"
   ]
  },
  {
   "cell_type": "code",
   "execution_count": null,
   "id": "ec1b4229-7a51-4c61-9a14-816e040a9237",
   "metadata": {},
   "outputs": [],
   "source": []
  }
 ],
 "metadata": {
  "kernelspec": {
   "display_name": "Python 3 (ipykernel)",
   "language": "python",
   "name": "python3"
  },
  "language_info": {
   "codemirror_mode": {
    "name": "ipython",
    "version": 3
   },
   "file_extension": ".py",
   "mimetype": "text/x-python",
   "name": "python",
   "nbconvert_exporter": "python",
   "pygments_lexer": "ipython3",
   "version": "3.10.8"
  }
 },
 "nbformat": 4,
 "nbformat_minor": 5
}
