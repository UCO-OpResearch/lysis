{
 "cells": [
  {
   "cell_type": "code",
   "execution_count": 1,
   "id": "be2f92ab-25a4-4022-a546-5e52a43715f1",
   "metadata": {},
   "outputs": [],
   "source": [
    "import numpy as np"
   ]
  },
  {
   "cell_type": "code",
   "execution_count": 2,
   "id": "b81bee68-3215-4ca4-a2d1-935c0d236019",
   "metadata": {},
   "outputs": [],
   "source": [
    "experiment_code = '2022-12-20-1600'\n",
    "data_in_code = 'PLG2_tPA01_Q2.dat'\n",
    "data_out_code = 'tPA425_PLG2_tPA01_into_and_along_Q2.dat';"
   ]
  },
  {
   "cell_type": "code",
   "execution_count": 4,
   "id": "b87716fd-6589-4a5e-b792-f63ac194e713",
   "metadata": {},
   "outputs": [
    {
     "ename": "NameError",
     "evalue": "name 'num_rows' is not defined",
     "output_type": "error",
     "traceback": [
      "\u001b[1;31m---------------------------------------------------------------------------\u001b[0m",
      "\u001b[1;31mNameError\u001b[0m                                 Traceback (most recent call last)",
      "Cell \u001b[1;32mIn[4], line 13\u001b[0m\n\u001b[0;32m      1\u001b[0m param \u001b[38;5;241m=\u001b[39m {\n\u001b[0;32m      2\u001b[0m     \u001b[38;5;66;03m# (N) Number of lattice nodes in one row in the horizontal direction\u001b[39;00m\n\u001b[0;32m      3\u001b[0m     \u001b[38;5;124m'\u001b[39m\u001b[38;5;124mnum_rows\u001b[39m\u001b[38;5;124m'\u001b[39m : \u001b[38;5;241m93\u001b[39m,\n\u001b[0;32m      4\u001b[0m     \u001b[38;5;66;03m# (F) Number of lattice nodes in one column in the vertical direction\u001b[39;00m\n\u001b[0;32m      5\u001b[0m     \u001b[38;5;124m'\u001b[39m\u001b[38;5;124mnum_cols\u001b[39m\u001b[38;5;124m'\u001b[39m : \u001b[38;5;241m121\u001b[39m,\n\u001b[0;32m      6\u001b[0m     \u001b[38;5;66;03m# (Ffree) 1st node in vertical direction containing fibers. so if Ffree=10, then rows 1-9\u001b[39;00m\n\u001b[0;32m      7\u001b[0m     \u001b[38;5;66;03m# have no fibers, there's one more row of fiber-free planar veritcal edges, and then\u001b[39;00m\n\u001b[0;32m      8\u001b[0m     \u001b[38;5;66;03m# the row starting with the Ffree-th (e.g. 10th) vertical node is a full row of fibers\u001b[39;00m\n\u001b[0;32m      9\u001b[0m     \u001b[38;5;124m'\u001b[39m\u001b[38;5;124mfibrin-free_rows\u001b[39m\u001b[38;5;124m'\u001b[39m : \u001b[38;5;241m29\u001b[39m,\n\u001b[0;32m     10\u001b[0m     \u001b[38;5;66;03m# (stats) The total number of runs to be completed\u001b[39;00m\n\u001b[0;32m     11\u001b[0m     \u001b[38;5;124m'\u001b[39m\u001b[38;5;124mruns\u001b[39m\u001b[38;5;124m'\u001b[39m : \u001b[38;5;241m10\u001b[39m,\n\u001b[0;32m     12\u001b[0m     \u001b[38;5;66;03m# (num) The total number of fiber spaces in the experiment\u001b[39;00m\n\u001b[1;32m---> 13\u001b[0m     \u001b[38;5;124m'\u001b[39m\u001b[38;5;124mnum_fiber_spaces\u001b[39m\u001b[38;5;124m'\u001b[39m : (\u001b[38;5;241m2\u001b[39m\u001b[38;5;241m*\u001b[39m\u001b[43mnum_rows\u001b[49m\u001b[38;5;241m-\u001b[39m\u001b[38;5;241m1\u001b[39m)\u001b[38;5;241m*\u001b[39mnum_cols \u001b[38;5;241m+\u001b[39m num_rows\u001b[38;5;241m*\u001b[39m(num_cols\u001b[38;5;241m-\u001b[39m\u001b[38;5;241m1\u001b[39m),\n\u001b[0;32m     14\u001b[0m     \u001b[38;5;66;03m# (M) total number of tPA molecules: \u001b[39;00m\n\u001b[0;32m     15\u001b[0m     \u001b[38;5;66;03m# 21588 is Colin's [tPA]=0.3 nM; \u001b[39;00m\n\u001b[0;32m     16\u001b[0m     \u001b[38;5;66;03m# 43074 is Colin's [tPA]=0.6 nM; \u001b[39;00m\n\u001b[0;32m     17\u001b[0m     \u001b[38;5;66;03m# 86148 is Colin's [tPA]=1.2 nM;\u001b[39;00m\n\u001b[0;32m     18\u001b[0m     \u001b[38;5;124m'\u001b[39m\u001b[38;5;124mnum_tPA\u001b[39m\u001b[38;5;124m'\u001b[39m : \u001b[38;5;241m43074\u001b[39m,\n\u001b[0;32m     19\u001b[0m     \u001b[38;5;66;03m# (tf) Final time in sec\u001b[39;00m\n\u001b[0;32m     20\u001b[0m     \u001b[38;5;124m'\u001b[39m\u001b[38;5;124mtime_final\u001b[39m\u001b[38;5;124m'\u001b[39m : \u001b[38;5;241m20\u001b[39m\u001b[38;5;241m*\u001b[39m\u001b[38;5;241m60\u001b[39m,\n\u001b[0;32m     21\u001b[0m     \u001b[38;5;66;03m# (enoFB) The last edge number without fibrin\u001b[39;00m\n\u001b[0;32m     22\u001b[0m     \u001b[38;5;124m'\u001b[39m\u001b[38;5;124mlast_fibrin-free_edge\u001b[39m\u001b[38;5;124m'\u001b[39m : (\u001b[38;5;241m3\u001b[39m\u001b[38;5;241m*\u001b[39mnum_rows\u001b[38;5;241m-\u001b[39m\u001b[38;5;241m1\u001b[39m)\u001b[38;5;241m*\u001b[39m(fibrin\u001b[38;5;241m-\u001b[39mfree_rows\u001b[38;5;241m-\u001b[39m\u001b[38;5;241m1\u001b[39m),\n\u001b[0;32m     23\u001b[0m     \u001b[38;5;66;03m# (nummicro) The number of microscale runs / 100\u001b[39;00m\n\u001b[0;32m     24\u001b[0m     \u001b[38;5;124m'\u001b[39m\u001b[38;5;124mmicroscale_runs\u001b[39m\u001b[38;5;124m'\u001b[39m : \u001b[38;5;241m500\u001b[39m,\n\u001b[0;32m     25\u001b[0m }\n",
      "\u001b[1;31mNameError\u001b[0m: name 'num_rows' is not defined"
     ]
    }
   ],
   "source": [
    "param = {\n",
    "    # (N) Number of lattice nodes in one row in the horizontal direction\n",
    "    'num_rows' : 93,\n",
    "    # (F) Number of lattice nodes in one column in the vertical direction\n",
    "    'num_cols' : 121,\n",
    "    # (Ffree) 1st node in vertical direction containing fibers. so if Ffree=10, then rows 1-9\n",
    "    # have no fibers, there's one more row of fiber-free planar veritcal edges, and then\n",
    "    # the row starting with the Ffree-th (e.g. 10th) vertical node is a full row of fibers\n",
    "    'fibrin-free_rows' : 29,\n",
    "    # (stats) The total number of runs to be completed\n",
    "    'runs' : 10,\n",
    "    # (num) The total number of fiber spaces in the experiment\n",
    "    'num_fiber_spaces' : (2*num_rows-1)*num_cols + num_rows*(num_cols-1),\n",
    "    # (M) total number of tPA molecules: \n",
    "    # 21588 is Colin's [tPA]=0.3 nM; \n",
    "    # 43074 is Colin's [tPA]=0.6 nM; \n",
    "    # 86148 is Colin's [tPA]=1.2 nM;\n",
    "    'num_tPA' : 43074,\n",
    "    # (tf) Final time in sec\n",
    "    'time_final' : 20*60,\n",
    "    # (enoFB) The last edge number without fibrin\n",
    "    'last_fibrin-free_edge' : (3*num_rows-1)*(fibrin-free_rows-1),\n",
    "    # (nummicro) The number of microscale runs / 100\n",
    "    'microscale_runs' : 500,\n",
    "}"
   ]
  },
  {
   "cell_type": "code",
   "execution_count": null,
   "id": "ef112821-df0a-4ad6-ab56-e005ab03925d",
   "metadata": {},
   "outputs": [],
   "source": []
  }
 ],
 "metadata": {
  "kernelspec": {
   "display_name": "Python 3 (ipykernel)",
   "language": "python",
   "name": "python3"
  },
  "language_info": {
   "codemirror_mode": {
    "name": "ipython",
    "version": 3
   },
   "file_extension": ".py",
   "mimetype": "text/x-python",
   "name": "python",
   "nbconvert_exporter": "python",
   "pygments_lexer": "ipython3",
   "version": "3.10.8"
  }
 },
 "nbformat": 4,
 "nbformat_minor": 5
}
