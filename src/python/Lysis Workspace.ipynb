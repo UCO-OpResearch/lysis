{
 "cells": [
  {
   "cell_type": "code",
   "execution_count": 1,
   "id": "619f6483-d1b3-4801-ba47-1bc013684de3",
   "metadata": {},
   "outputs": [],
   "source": [
    "import util.parameters\n",
    "from datetime import datetime\n",
    "import json"
   ]
  },
  {
   "cell_type": "code",
   "execution_count": 2,
   "id": "ed5980ec-9c56-434c-9c43-d4ab2c57d69b",
   "metadata": {},
   "outputs": [],
   "source": [
    "e = util.parameters.Experiment()\n",
    "e.initialize_macro_param(\"Diffuse into and along\")\n",
    "#now = datetime.now()\n",
    "#str(now.year) + '_'"
   ]
  },
  {
   "cell_type": "code",
   "execution_count": 3,
   "id": "4201e541-6a7f-4953-beb9-dfe734955a3c",
   "metadata": {},
   "outputs": [
    {
     "data": {
      "text/plain": [
       "{'experiment_code': '2022_12_24_1624',\n",
       " 'macro_params': {'macro_version': 'Diffuse into and along',\n",
       "  'rows': 93,\n",
       "  'cols': 121,\n",
       "  'first_fiber_row': 28,\n",
       "  'moving_probability': 0.2,\n",
       "  'pore_size': 0.00010135,\n",
       "  'diffusion_coeff': 5e-07,\n",
       "  'total_time': 600,\n",
       "  'full_row': 278,\n",
       "  'xz_row': 185,\n",
       "  'total_fibers': 33545,\n",
       "  'last_ghost_fiber': 10135,\n",
       "  'time_step': 0.0003423940833333333,\n",
       "  'total_time_steps': 1752366.729467921,\n",
       "  'binding_rate': 0.01,\n",
       "  'binding_sites': 427.0,\n",
       "  'grid_symmetry_distance': 1.0862,\n",
       "  'total_molecules': 43074,\n",
       "  'total_trials': 10,\n",
       "  'seed': 912309035,\n",
       "  'state': [129281, 362436069, 123456789, 912309035],\n",
       "  'unbinding_time_filename': 'tsectPA',\n",
       "  'lysis_time_filename': 'lysismat',\n",
       "  'total_lyses_filename': 'lenlysisvect',\n",
       "  'lysis_blocks': 100,\n",
       "  'unbinds_per_block': 500,\n",
       "  'max_lyses_per_block': 283}}"
      ]
     },
     "execution_count": 3,
     "metadata": {},
     "output_type": "execute_result"
    }
   ],
   "source": [
    "e.to_dict()"
   ]
  },
  {
   "cell_type": "code",
   "execution_count": 4,
   "id": "f39cd935-4d49-4b0e-b8c7-c958e3000b2b",
   "metadata": {},
   "outputs": [],
   "source": [
    "with open('params.json', 'w') as file:\n",
    "    json.dump(e.to_dict(), file)"
   ]
  },
  {
   "cell_type": "code",
   "execution_count": 10,
   "id": "d0d7c146-ed88-41c3-8a1a-b634a6554500",
   "metadata": {},
   "outputs": [],
   "source": [
    "with open('params.json', 'r') as file:\n",
    "    a = json.load(file)"
   ]
  },
  {
   "cell_type": "code",
   "execution_count": 5,
   "id": "93da9946-ef0d-43a3-96fc-b646aa5f378b",
   "metadata": {},
   "outputs": [
    {
     "data": {
      "text/plain": [
       "util.parameters.MacroParameters"
      ]
     },
     "execution_count": 5,
     "metadata": {},
     "output_type": "execute_result"
    }
   ],
   "source": [
    "type(e.macro_params)"
   ]
  },
  {
   "cell_type": "code",
   "execution_count": 2,
   "id": "d539a542-babf-4c18-8dfa-db4f63caacc2",
   "metadata": {},
   "outputs": [],
   "source": [
    "p=util.parameters.Parameters()"
   ]
  },
  {
   "cell_type": "code",
   "execution_count": 3,
   "id": "1f01d92a-404a-4340-98c4-ec507909d3a6",
   "metadata": {},
   "outputs": [
    {
     "data": {
      "text/plain": [
       "0"
      ]
     },
     "execution_count": 3,
     "metadata": {},
     "output_type": "execute_result"
    }
   ],
   "source": [
    "p.rows"
   ]
  },
  {
   "cell_type": "code",
   "execution_count": 4,
   "id": "977d22be-6dda-4b00-b76a-458a5010c948",
   "metadata": {},
   "outputs": [],
   "source": [
    "p.rows = 15"
   ]
  },
  {
   "cell_type": "code",
   "execution_count": 5,
   "id": "2caf493e-518a-4fd9-b51f-981d00aac067",
   "metadata": {},
   "outputs": [
    {
     "data": {
      "text/plain": [
       "15"
      ]
     },
     "execution_count": 5,
     "metadata": {},
     "output_type": "execute_result"
    }
   ],
   "source": [
    "p.rows"
   ]
  },
  {
   "cell_type": "code",
   "execution_count": null,
   "id": "72a72015-e126-4228-88e0-b01c44f481e3",
   "metadata": {},
   "outputs": [],
   "source": []
  }
 ],
 "metadata": {
  "kernelspec": {
   "display_name": "Python 3 (ipykernel)",
   "language": "python",
   "name": "python3"
  },
  "language_info": {
   "codemirror_mode": {
    "name": "ipython",
    "version": 3
   },
   "file_extension": ".py",
   "mimetype": "text/x-python",
   "name": "python",
   "nbconvert_exporter": "python",
   "pygments_lexer": "ipython3",
   "version": "3.10.8"
  }
 },
 "nbformat": 4,
 "nbformat_minor": 5
}
