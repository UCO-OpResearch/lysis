{
 "cells": [
  {
   "cell_type": "code",
   "execution_count": 1,
   "id": "619f6483-d1b3-4801-ba47-1bc013684de3",
   "metadata": {},
   "outputs": [],
   "source": [
    "import cProfile\n",
    "import lysis\n",
    "import math\n",
    "import numpy as np"
   ]
  },
  {
   "cell_type": "code",
   "execution_count": 2,
   "id": "9b3ca7db-c69f-4eba-a80b-19147c9e8082",
   "metadata": {},
   "outputs": [],
   "source": [
    "e = lysis.util.Experiment(r'../../data', experiment_code='2022-12-27-1100')"
   ]
  },
  {
   "cell_type": "code",
   "execution_count": 3,
   "id": "f79804a5-d6a4-4cd5-82a0-ba1e94f5ff65",
   "metadata": {},
   "outputs": [],
   "source": [
    "p = {'total_time': 1}\n",
    "e.initialize_macro_param(p)\n",
    "# e.read_file()"
   ]
  },
  {
   "cell_type": "code",
   "execution_count": 4,
   "id": "4b2c9791-a340-4ea1-9841-f15dddeb3553",
   "metadata": {},
   "outputs": [],
   "source": [
    "macro = lysis.MacroscaleRun(e)"
   ]
  },
  {
   "cell_type": "code",
   "execution_count": 5,
   "id": "41df1e6c-d83a-4989-830f-b6a6079feed8",
   "metadata": {},
   "outputs": [
    {
     "name": "stderr",
     "output_type": "stream",
     "text": [
      "100%|█████████████████████████████████████████████████████████████████████████████| 2920/2920 [00:05<00:00, 523.12it/s]"
     ]
    },
    {
     "name": "stdout",
     "output_type": "stream",
     "text": [
      "Total binds: 11,029\n",
      "Timesteps with changes to degrade time: 723\n",
      "Total moves: 21,196,167\n",
      "Total macro unbinds: 0\n",
      "Total micro unbinds: 19\n"
     ]
    },
    {
     "name": "stderr",
     "output_type": "stream",
     "text": [
      "\n"
     ]
    }
   ],
   "source": [
    "macro.run()"
   ]
  },
  {
   "cell_type": "code",
   "execution_count": 7,
   "id": "49b24a43-6fb0-4659-b1db-8ae53c9c3b57",
   "metadata": {},
   "outputs": [
    {
     "data": {
      "text/plain": [
       "0.9997907233333332"
      ]
     },
     "execution_count": 7,
     "metadata": {},
     "output_type": "execute_result"
    }
   ],
   "source": [
    "current_time = 2920 * macro.exp.macro_params.time_step\n",
    "current_time"
   ]
  },
  {
   "cell_type": "code",
   "execution_count": 9,
   "id": "4201e541-6a7f-4953-beb9-dfe734955a3c",
   "metadata": {
    "tags": []
   },
   "outputs": [],
   "source": [
    "macro.m_fiber_status = macro.fiber_status[macro.location]\n",
    "macro.unbind_by_degradation(macro.bound & (macro.m_fiber_status < current_time), current_time)\n",
    "macro.unbind_by_time(macro.bound & (macro.binding_time < current_time), current_time)\n",
    "\n",
    "should_bind = (~macro.bound\n",
    "               & (macro.binding_time < current_time)\n",
    "               & (macro.m_fiber_status > current_time)\n",
    "               & (macro.waiting_time < current_time))\n",
    "\n",
    "move_chance = np.ones(macro.exp.macro_params.total_molecules, dtype=np.double)\n",
    "move_chance[~macro.bound] = macro.rng.random(np.count_nonzero(~macro.bound), dtype=np.double)\n",
    "should_move = move_chance < macro.exp.macro_params.moving_probability\n",
    "conflict = should_bind & should_move\n",
    "threshold = np.full(macro.exp.macro_params.total_molecules, -1, dtype=np.double)\n",
    "threshold[conflict] = ((current_time - macro.binding_time[conflict])\n",
    "                       / macro.exp.macro_params.time_step)\n",
    "should_bind[conflict] = macro.rng.random(np.count_nonzero(conflict)) > threshold[conflict]\n",
    "should_move[conflict] = ~should_bind[conflict]\n",
    "\n",
    "macro.bind(should_bind, current_time)"
   ]
  },
  {
   "cell_type": "code",
   "execution_count": 10,
   "id": "2fad0643-a66f-431e-ab72-cf8f530b22f7",
   "metadata": {},
   "outputs": [
    {
     "data": {
      "text/plain": [
       "0"
      ]
     },
     "execution_count": 10,
     "metadata": {},
     "output_type": "execute_result"
    }
   ],
   "source": [
    "still_stuck_to_fiber = np.full(macro.exp.macro_params.total_molecules, False, dtype=np.bool_)\n",
    "still_stuck_to_fiber[should_bind] = macro.waiting_time[should_bind] > current_time\n",
    "np.logical_and(still_stuck_to_fiber[should_bind], macro.unbound_by_degradation[should_bind], out=still_stuck_to_fiber[should_bind])\n",
    "np.count_nonzero(still_stuck_to_fiber)"
   ]
  },
  {
   "cell_type": "code",
   "execution_count": 11,
   "id": "899d802e-90ea-4d24-9ba8-704fd68d853b",
   "metadata": {},
   "outputs": [],
   "source": [
    "for n in np.arange(macro.exp.macro_params.total_molecules)[still_stuck_to_fiber]:\n",
    "    print(n)"
   ]
  },
  {
   "cell_type": "code",
   "execution_count": 15,
   "id": "72a72015-e126-4228-88e0-b01c44f481e3",
   "metadata": {},
   "outputs": [],
   "source": [
    "a = 499\n",
    "b = 500\n",
    "c = a*e.macro_params.time_step\n",
    "d = b*e.macro_params.time_step"
   ]
  },
  {
   "cell_type": "code",
   "execution_count": 16,
   "id": "1337b169-fa73-4d47-9f6e-be0dd0076092",
   "metadata": {},
   "outputs": [
    {
     "name": "stdout",
     "output_type": "stream",
     "text": [
      "36.1 ns ± 0.269 ns per loop (mean ± std. dev. of 7 runs, 10,000,000 loops each)\n"
     ]
    }
   ],
   "source": [
    "%timeit a < b"
   ]
  },
  {
   "cell_type": "code",
   "execution_count": 17,
   "id": "cfef6cfe-2c08-4d3e-a351-5080da2f1ed9",
   "metadata": {},
   "outputs": [
    {
     "name": "stdout",
     "output_type": "stream",
     "text": [
      "33.1 ns ± 0.401 ns per loop (mean ± std. dev. of 7 runs, 10,000,000 loops each)\n"
     ]
    }
   ],
   "source": [
    "%timeit c < d"
   ]
  },
  {
   "cell_type": "code",
   "execution_count": null,
   "id": "04216017-527f-499c-a60b-dc9c8355d190",
   "metadata": {},
   "outputs": [],
   "source": [
    "lysis.from_fortran_edge_index(51, 4, 5)"
   ]
  },
  {
   "cell_type": "code",
   "execution_count": 15,
   "id": "5f99ef4d-3544-4960-ac8d-b2bf3a1ca498",
   "metadata": {},
   "outputs": [],
   "source": [
    "rng = np.random.default_rng(seed=489489496)"
   ]
  },
  {
   "cell_type": "code",
   "execution_count": 57,
   "id": "f8675161-3dee-4a0f-a960-8de7e02a47ec",
   "metadata": {},
   "outputs": [],
   "source": [
    "a = np.arange(60).reshape(20,3)"
   ]
  },
  {
   "cell_type": "code",
   "execution_count": 70,
   "id": "0bbfe787-3feb-452e-b3b3-3fe834448cca",
   "metadata": {},
   "outputs": [
    {
     "data": {
      "text/plain": [
       "array([ 3,  7, 19, 22, 26, 29, 30, 38, 46, 56, 57])"
      ]
     },
     "execution_count": 70,
     "metadata": {},
     "output_type": "execute_result"
    }
   ],
   "source": [
    "b = rng.random(20) > 0.5\n",
    "c = rng.integers(3, size=(np.count_nonzero(b),))\n",
    "a[b, c]"
   ]
  },
  {
   "cell_type": "code",
   "execution_count": 71,
   "id": "0993a8c6-fc29-4795-8336-e3e12836a4e8",
   "metadata": {},
   "outputs": [
    {
     "data": {
      "text/plain": [
       "(array([[ 0,  1,  2],\n",
       "        [ 3,  4,  5],\n",
       "        [ 6,  7,  8],\n",
       "        [ 9, 10, 11],\n",
       "        [12, 13, 14],\n",
       "        [15, 16, 17],\n",
       "        [18, 19, 20],\n",
       "        [21, 22, 23],\n",
       "        [24, 25, 26],\n",
       "        [27, 28, 29],\n",
       "        [30, 31, 32],\n",
       "        [33, 34, 35],\n",
       "        [36, 37, 38],\n",
       "        [39, 40, 41],\n",
       "        [42, 43, 44],\n",
       "        [45, 46, 47],\n",
       "        [48, 49, 50],\n",
       "        [51, 52, 53],\n",
       "        [54, 55, 56],\n",
       "        [57, 58, 59]]),\n",
       " array([False,  True,  True, False, False, False,  True,  True,  True,\n",
       "         True,  True, False,  True, False, False,  True, False, False,\n",
       "         True,  True]),\n",
       " array([0, 1, 1, 1, 2, 2, 0, 2, 1, 2, 0], dtype=int64))"
      ]
     },
     "execution_count": 71,
     "metadata": {},
     "output_type": "execute_result"
    }
   ],
   "source": [
    "a, b, c"
   ]
  },
  {
   "cell_type": "code",
   "execution_count": 72,
   "id": "9f7df822-1a79-4059-b2e9-77d25e89f075",
   "metadata": {},
   "outputs": [
    {
     "data": {
      "text/plain": [
       "array([[ 3,  4,  5],\n",
       "       [ 6,  7,  8],\n",
       "       [18, 19, 20],\n",
       "       [21, 22, 23],\n",
       "       [24, 25, 26],\n",
       "       [27, 28, 29],\n",
       "       [30, 31, 32],\n",
       "       [36, 37, 38],\n",
       "       [45, 46, 47],\n",
       "       [54, 55, 56],\n",
       "       [57, 58, 59]])"
      ]
     },
     "execution_count": 72,
     "metadata": {},
     "output_type": "execute_result"
    }
   ],
   "source": [
    "a[b]"
   ]
  },
  {
   "cell_type": "code",
   "execution_count": 76,
   "id": "cd644ce7-d34f-4419-89de-f08cc79d8ac8",
   "metadata": {},
   "outputs": [],
   "source": [
    "a = rng.random(20000)"
   ]
  },
  {
   "cell_type": "code",
   "execution_count": 80,
   "id": "c6abddbc-eecf-444d-a32d-f2495c0e29cc",
   "metadata": {},
   "outputs": [
    {
     "name": "stdout",
     "output_type": "stream",
     "text": [
      "4.84 µs ± 64.4 ns per loop (mean ± std. dev. of 7 runs, 100,000 loops each)\n"
     ]
    }
   ],
   "source": [
    "%timeit np.count_nonzero(a < 0.1)"
   ]
  },
  {
   "cell_type": "code",
   "execution_count": 81,
   "id": "f8f86365-63db-4017-bdfe-39cfc029b284",
   "metadata": {},
   "outputs": [
    {
     "name": "stdout",
     "output_type": "stream",
     "text": [
      "8.26 µs ± 108 ns per loop (mean ± std. dev. of 7 runs, 100,000 loops each)\n"
     ]
    }
   ],
   "source": [
    "%timeit np.any(a < 0.1)"
   ]
  },
  {
   "cell_type": "code",
   "execution_count": 83,
   "id": "98072858-527f-4b65-8550-3e4a86098259",
   "metadata": {},
   "outputs": [],
   "source": [
    "a = np.empty((20, 9), dtype=int)"
   ]
  },
  {
   "cell_type": "code",
   "execution_count": 84,
   "id": "8f2520a9-3982-455d-9e89-7a3bc678eda5",
   "metadata": {},
   "outputs": [],
   "source": [
    "a[:] = np.arange(9)"
   ]
  },
  {
   "cell_type": "code",
   "execution_count": 85,
   "id": "ea5d7a89-dd46-4f15-9a0b-2b400b1b836b",
   "metadata": {},
   "outputs": [
    {
     "data": {
      "text/plain": [
       "array([[0, 1, 2, 3, 4, 5, 6, 7, 8],\n",
       "       [0, 1, 2, 3, 4, 5, 6, 7, 8],\n",
       "       [0, 1, 2, 3, 4, 5, 6, 7, 8],\n",
       "       [0, 1, 2, 3, 4, 5, 6, 7, 8],\n",
       "       [0, 1, 2, 3, 4, 5, 6, 7, 8],\n",
       "       [0, 1, 2, 3, 4, 5, 6, 7, 8],\n",
       "       [0, 1, 2, 3, 4, 5, 6, 7, 8],\n",
       "       [0, 1, 2, 3, 4, 5, 6, 7, 8],\n",
       "       [0, 1, 2, 3, 4, 5, 6, 7, 8],\n",
       "       [0, 1, 2, 3, 4, 5, 6, 7, 8],\n",
       "       [0, 1, 2, 3, 4, 5, 6, 7, 8],\n",
       "       [0, 1, 2, 3, 4, 5, 6, 7, 8],\n",
       "       [0, 1, 2, 3, 4, 5, 6, 7, 8],\n",
       "       [0, 1, 2, 3, 4, 5, 6, 7, 8],\n",
       "       [0, 1, 2, 3, 4, 5, 6, 7, 8],\n",
       "       [0, 1, 2, 3, 4, 5, 6, 7, 8],\n",
       "       [0, 1, 2, 3, 4, 5, 6, 7, 8],\n",
       "       [0, 1, 2, 3, 4, 5, 6, 7, 8],\n",
       "       [0, 1, 2, 3, 4, 5, 6, 7, 8],\n",
       "       [0, 1, 2, 3, 4, 5, 6, 7, 8]])"
      ]
     },
     "execution_count": 85,
     "metadata": {},
     "output_type": "execute_result"
    }
   ],
   "source": [
    "a"
   ]
  },
  {
   "cell_type": "code",
   "execution_count": 86,
   "id": "1d653b65-77cf-43c2-90e7-b8c98293d590",
   "metadata": {},
   "outputs": [
    {
     "data": {
      "text/plain": [
       "array([[  0,   1,   2,   3,   4,   5,   6,   7,   8],\n",
       "       [  0,   1,   2,   3,   4,   5,   6,   7,   8],\n",
       "       [  0,   1,   2,   3,   4,   5,   6,   7,   8],\n",
       "       [  0,   1,   2,   3,   4,   5,   6,   7,   8],\n",
       "       [  0,   1,   2,   3,   4,   5, 100,   7,   8],\n",
       "       [  0,   1,   2,   3,   4,   5,   6,   7,   8],\n",
       "       [  0,   1,   2,   3,   4,   5,   6,   7,   8],\n",
       "       [  0,   1,   2,   3,   4,   5,   6,   7,   8],\n",
       "       [  0,   1,   2,   3,   4,   5,   6,   7,   8],\n",
       "       [  0,   1,   2,   3,   4,   5,   6,   7,   8],\n",
       "       [  0,   1,   2,   3,   4,   5,   6,   7,   8],\n",
       "       [  0,   1,   2,   3,   4,   5,   6,   7,   8],\n",
       "       [  0,   1,   2,   3,   4,   5,   6,   7,   8],\n",
       "       [  0,   1,   2,   3,   4,   5,   6,   7,   8],\n",
       "       [  0,   1,   2,   3,   4,   5,   6,   7,   8],\n",
       "       [  0,   1,   2,   3,   4,   5,   6,   7,   8],\n",
       "       [  0,   1,   2,   3,   4,   5,   6,   7,   8],\n",
       "       [  0,   1,   2,   3,   4,   5,   6,   7,   8],\n",
       "       [  0,   1,   2,   3,   4,   5,   6,   7,   8],\n",
       "       [  0,   1,   2,   3,   4,   5,   6,   7,   8]])"
      ]
     },
     "execution_count": 86,
     "metadata": {},
     "output_type": "execute_result"
    }
   ],
   "source": [
    "a[4,6]=100\n",
    "a"
   ]
  },
  {
   "cell_type": "code",
   "execution_count": null,
   "id": "54db85ec-75ff-4794-be9e-950f34916af2",
   "metadata": {},
   "outputs": [],
   "source": []
  }
 ],
 "metadata": {
  "kernelspec": {
   "display_name": "Python 3 (ipykernel)",
   "language": "python",
   "name": "python3"
  },
  "language_info": {
   "codemirror_mode": {
    "name": "ipython",
    "version": 3
   },
   "file_extension": ".py",
   "mimetype": "text/x-python",
   "name": "python",
   "nbconvert_exporter": "python",
   "pygments_lexer": "ipython3",
   "version": "3.11.0"
  }
 },
 "nbformat": 4,
 "nbformat_minor": 5
}
