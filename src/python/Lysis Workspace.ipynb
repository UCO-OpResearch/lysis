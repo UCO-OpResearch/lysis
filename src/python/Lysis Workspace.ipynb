{
 "cells": [
  {
   "cell_type": "code",
   "execution_count": null,
   "id": "619f6483-d1b3-4801-ba47-1bc013684de3",
   "metadata": {},
   "outputs": [],
   "source": [
    "import lysis"
   ]
  },
  {
   "cell_type": "code",
   "execution_count": null,
   "id": "ed5980ec-9c56-434c-9c43-d4ab2c57d69b",
   "metadata": {},
   "outputs": [],
   "source": [
    "e = lysis.util.Experiment(r'../../data', experiment_code='2022-12-27-1100')\n",
    "e.read_file()"
   ]
  },
  {
   "cell_type": "code",
   "execution_count": null,
   "id": "4201e541-6a7f-4953-beb9-dfe734955a3c",
   "metadata": {
    "jupyter": {
     "outputs_hidden": true
    },
    "tags": []
   },
   "outputs": [],
   "source": [
    "print(e)"
   ]
  },
  {
   "cell_type": "code",
   "execution_count": null,
   "id": "72a72015-e126-4228-88e0-b01c44f481e3",
   "metadata": {},
   "outputs": [],
   "source": [
    "fg = lysis.EdgeGrid(4, 5, 0, (lysis.util.BoundaryCondition.CONTINUING, lysis.util.BoundaryCondition.REFLECTING))"
   ]
  },
  {
   "cell_type": "code",
   "execution_count": null,
   "id": "1337b169-fa73-4d47-9f6e-be0dd0076092",
   "metadata": {},
   "outputs": [],
   "source": [
    "[fg.neighbor(1, 6, k) for k in range(8)]"
   ]
  },
  {
   "cell_type": "code",
   "execution_count": null,
   "id": "cfef6cfe-2c08-4d3e-a351-5080da2f1ed9",
   "metadata": {},
   "outputs": [],
   "source": [
    "lysis.to_fortran_edge_index(0, 3, 4, 5)"
   ]
  },
  {
   "cell_type": "code",
   "execution_count": null,
   "id": "04216017-527f-499c-a60b-dc9c8355d190",
   "metadata": {},
   "outputs": [],
   "source": [
    "lysis.from_fortran_edge_index(51, 4, 5)"
   ]
  },
  {
   "cell_type": "code",
   "execution_count": null,
   "id": "5f99ef4d-3544-4960-ac8d-b2bf3a1ca498",
   "metadata": {},
   "outputs": [],
   "source": [
    "import numpy as np"
   ]
  },
  {
   "cell_type": "code",
   "execution_count": null,
   "id": "2c72ffd5-efd6-40d6-b88a-014af03d248a",
   "metadata": {},
   "outputs": [],
   "source": [
    "a = 3.5*np.ones((3, 4), dtype=np.double)\n",
    "a[1][2]"
   ]
  },
  {
   "cell_type": "code",
   "execution_count": null,
   "id": "62cd8abf-6266-4b70-ab72-29cb51354d17",
   "metadata": {},
   "outputs": [],
   "source": [
    "b = a[:2,:2]\n",
    "b"
   ]
  },
  {
   "cell_type": "code",
   "execution_count": null,
   "id": "311db5b7-e716-4526-8fc5-0a74554163eb",
   "metadata": {},
   "outputs": [],
   "source": [
    "b[0,0] = 0\n",
    "b"
   ]
  },
  {
   "cell_type": "code",
   "execution_count": null,
   "id": "ddac0742-430d-4cc7-a02a-05d407614b9c",
   "metadata": {},
   "outputs": [],
   "source": [
    "a"
   ]
  },
  {
   "cell_type": "code",
   "execution_count": null,
   "id": "d710cd6d-24b4-437e-bb80-b54706e1dfb9",
   "metadata": {},
   "outputs": [],
   "source": [
    "from enum import Enum, IntEnum, unique"
   ]
  },
  {
   "cell_type": "code",
   "execution_count": null,
   "id": "f8fa9c24-9955-4671-a57c-c2ef091afc9d",
   "metadata": {},
   "outputs": [],
   "source": [
    "@unique\n",
    "class Color(IntEnum):\n",
    "    BLUE = 0\n",
    "    RED = 1\n",
    "    GREEN = 2\n",
    "    \n",
    "@unique\n",
    "class Direction(Enum):\n",
    "    UP = 1\n",
    "    DOWN = -1"
   ]
  },
  {
   "cell_type": "code",
   "execution_count": null,
   "id": "1165051f-01cb-4c56-b25f-8d30089759ff",
   "metadata": {},
   "outputs": [],
   "source": [
    "Color.RED == Color.GREEN"
   ]
  },
  {
   "cell_type": "code",
   "execution_count": null,
   "id": "15edf66a-ed1e-4579-90c8-4f0090b7a46a",
   "metadata": {},
   "outputs": [],
   "source": [
    "Color.RED == Direction.UP"
   ]
  },
  {
   "cell_type": "code",
   "execution_count": null,
   "id": "fe46cb5b-1b36-47d9-8b3e-f795bc308393",
   "metadata": {},
   "outputs": [],
   "source": [
    "c = Color"
   ]
  },
  {
   "cell_type": "code",
   "execution_count": null,
   "id": "1fffe734-3ae9-4fa7-9ea9-0978f03a752c",
   "metadata": {},
   "outputs": [],
   "source": [
    "c.RED"
   ]
  },
  {
   "cell_type": "code",
   "execution_count": null,
   "id": "f4e2dc6e-4a97-4c49-9ee4-c60a3fd313ce",
   "metadata": {},
   "outputs": [],
   "source": [
    "t = (Direction.UP, Direction.UP, Direction.DOWN)"
   ]
  },
  {
   "cell_type": "code",
   "execution_count": null,
   "id": "91169cfa-e5c2-45a0-979b-9effd7be9f8a",
   "metadata": {},
   "outputs": [],
   "source": [
    "t[Color.BLUE]"
   ]
  },
  {
   "cell_type": "code",
   "execution_count": null,
   "id": "92ab398f-ccbb-420e-98f7-f289ea6454db",
   "metadata": {},
   "outputs": [],
   "source": [
    "type(Direction.UP)"
   ]
  },
  {
   "cell_type": "code",
   "execution_count": null,
   "id": "ad0e872a-701b-45dc-9f04-866723d791c9",
   "metadata": {},
   "outputs": [],
   "source": [
    "isinstance(Direction.UP, Direction)"
   ]
  },
  {
   "cell_type": "code",
   "execution_count": null,
   "id": "97d41f2c-8624-44da-9ee4-889e60a11b50",
   "metadata": {},
   "outputs": [],
   "source": [
    "import sys"
   ]
  },
  {
   "cell_type": "code",
   "execution_count": null,
   "id": "66afac29-1ffc-422a-8c16-6859bb0cc51a",
   "metadata": {},
   "outputs": [],
   "source": [
    "import lysis"
   ]
  },
  {
   "cell_type": "code",
   "execution_count": null,
   "id": "6c0b5e89-2ef5-4a3e-a711-41e4540a2c1d",
   "metadata": {},
   "outputs": [],
   "source": []
  },
  {
   "cell_type": "code",
   "execution_count": null,
   "id": "9a55ef2f-6ca0-4666-96df-b51d5530d3d4",
   "metadata": {},
   "outputs": [],
   "source": [
    "import lysis.util"
   ]
  },
  {
   "cell_type": "code",
   "execution_count": null,
   "id": "3d058778-99e5-4b18-ab6d-f2897e62f166",
   "metadata": {},
   "outputs": [],
   "source": [
    "lysis.util."
   ]
  }
 ],
 "metadata": {
  "kernelspec": {
   "display_name": "Python 3 (ipykernel)",
   "language": "python",
   "name": "python3"
  },
  "language_info": {
   "codemirror_mode": {
    "name": "ipython",
    "version": 3
   },
   "file_extension": ".py",
   "mimetype": "text/x-python",
   "name": "python",
   "nbconvert_exporter": "python",
   "pygments_lexer": "ipython3",
   "version": "3.11.0"
  }
 },
 "nbformat": 4,
 "nbformat_minor": 5
}
