{
 "cells": [
  {
   "cell_type": "code",
   "execution_count": 1,
   "id": "619f6483-d1b3-4801-ba47-1bc013684de3",
   "metadata": {},
   "outputs": [],
   "source": [
    "import lysis"
   ]
  },
  {
   "cell_type": "code",
   "execution_count": 2,
   "id": "ed5980ec-9c56-434c-9c43-d4ab2c57d69b",
   "metadata": {},
   "outputs": [],
   "source": [
    "e = lysis.util.Experiment(r'../../data', experiment_code='2022-12-27-1100')\n",
    "e.read_file()"
   ]
  },
  {
   "cell_type": "code",
   "execution_count": 3,
   "id": "4201e541-6a7f-4953-beb9-dfe734955a3c",
   "metadata": {
    "collapsed": true,
    "jupyter": {
     "outputs_hidden": true
    },
    "tags": []
   },
   "outputs": [
    {
     "name": "stdout",
     "output_type": "stream",
     "text": [
      "experiment_code : 2022-12-27-1100\n",
      "micro_params    : None\n",
      "macro_params    : macro_version      : diffuse_into_and_along\n",
      "                  binding_rate       : 0.01\n",
      "                  pore_size          : 0.00010135\n",
      "                  diffusion_coeff    : 5e-07\n",
      "                  binding_sites      : 427.0\n",
      "                  grid_node_distance : 1.0862\n",
      "                  rows               : 93\n",
      "                  cols               : 121\n",
      "                  first_fiber_row    : 28\n",
      "                  total_molecules    : 43074\n",
      "                  moving_probability : 0.2\n",
      "                  total_trials       : 10\n",
      "                  total_time         : 600\n",
      "                  seed               : -2137354075\n",
      "                  state              : [129281, 362436069, 123456789, -2137354075]\n",
      "                  data_files         : unbinding_time : tsectPA.dat\n",
      "                                       lysis_time     : lysismat.dat\n",
      "                                       total_lyses    : lenlysisvect.dat\n",
      "                  full_row           : 362\n",
      "                  xz_row             : 241\n",
      "                  total_edges        : 33545\n",
      "                  last_ghost_edge    : 10135\n",
      "                  time_step          : 0.0003423940833333333\n",
      "                  total_time_steps   : 1752366.729467921\n",
      "\n"
     ]
    }
   ],
   "source": [
    "print(e)"
   ]
  },
  {
   "cell_type": "code",
   "execution_count": 2,
   "id": "72a72015-e126-4228-88e0-b01c44f481e3",
   "metadata": {},
   "outputs": [],
   "source": [
    "fg = lysis.EdgeGrid(4, 5, 0, (lysis.util.BoundaryCondition.CONTINUING, lysis.util.BoundaryCondition.REFLECTING))"
   ]
  },
  {
   "cell_type": "code",
   "execution_count": 3,
   "id": "1337b169-fa73-4d47-9f6e-be0dd0076092",
   "metadata": {},
   "outputs": [
    {
     "data": {
      "text/plain": [
       "[(1, 7), (1, 7), (2, 7), (2, 7), (1, 5), (2, 5), (1, 8), (2, 8)]"
      ]
     },
     "execution_count": 3,
     "metadata": {},
     "output_type": "execute_result"
    }
   ],
   "source": [
    "[fg.neighbor(1, 6, k) for k in range(8)]"
   ]
  },
  {
   "cell_type": "code",
   "execution_count": 2,
   "id": "cfef6cfe-2c08-4d3e-a351-5080da2f1ed9",
   "metadata": {},
   "outputs": [
    {
     "data": {
      "text/plain": [
       "10"
      ]
     },
     "execution_count": 2,
     "metadata": {},
     "output_type": "execute_result"
    }
   ],
   "source": [
    "lysis.to_fortran_edge_index(0, 3, 4, 5)"
   ]
  },
  {
   "cell_type": "code",
   "execution_count": 26,
   "id": "04216017-527f-499c-a60b-dc9c8355d190",
   "metadata": {},
   "outputs": [
    {
     "ename": "IndexError",
     "evalue": "Index (51) out of bounds. Edge indices are in the range [0..50].",
     "output_type": "error",
     "traceback": [
      "\u001b[1;31m---------------------------------------------------------------------------\u001b[0m",
      "\u001b[1;31mIndexError\u001b[0m                                Traceback (most recent call last)",
      "Cell \u001b[1;32mIn[26], line 1\u001b[0m\n\u001b[1;32m----> 1\u001b[0m \u001b[43mlysis\u001b[49m\u001b[38;5;241;43m.\u001b[39;49m\u001b[43mfrom_fortran_edge_index\u001b[49m\u001b[43m(\u001b[49m\u001b[38;5;241;43m51\u001b[39;49m\u001b[43m,\u001b[49m\u001b[43m \u001b[49m\u001b[38;5;241;43m4\u001b[39;49m\u001b[43m,\u001b[49m\u001b[43m \u001b[49m\u001b[38;5;241;43m5\u001b[39;49m\u001b[43m)\u001b[49m\n",
      "File \u001b[1;32mE:\\git\\UCO-OpResearch\\lysis\\src\\python\\lysis\\macroscale.py:333\u001b[0m, in \u001b[0;36mfrom_fortran_edge_index\u001b[1;34m(index, rows, nodes_in_row)\u001b[0m\n\u001b[0;32m    331\u001b[0m \u001b[38;5;66;03m# Check if the index given is in-bounds.\u001b[39;00m\n\u001b[0;32m    332\u001b[0m \u001b[38;5;28;01mif\u001b[39;00m index \u001b[38;5;241m<\u001b[39m \u001b[38;5;241m0\u001b[39m \u001b[38;5;129;01mor\u001b[39;00m index \u001b[38;5;241m>\u001b[39m total_edges\u001b[38;5;241m-\u001b[39m\u001b[38;5;241m1\u001b[39m:\n\u001b[1;32m--> 333\u001b[0m     \u001b[38;5;28;01mraise\u001b[39;00m \u001b[38;5;167;01mIndexError\u001b[39;00m(\u001b[38;5;124mf\u001b[39m\u001b[38;5;124m'\u001b[39m\u001b[38;5;124mIndex (\u001b[39m\u001b[38;5;132;01m{\u001b[39;00mindex\u001b[38;5;132;01m}\u001b[39;00m\u001b[38;5;124m) out of bounds. Edge indices are in the range [0..\u001b[39m\u001b[38;5;132;01m{\u001b[39;00mtotal_edges\u001b[38;5;241m-\u001b[39m\u001b[38;5;241m1\u001b[39m\u001b[38;5;132;01m}\u001b[39;00m\u001b[38;5;124m].\u001b[39m\u001b[38;5;124m'\u001b[39m)\n\u001b[0;32m    335\u001b[0m i \u001b[38;5;241m=\u001b[39m index \u001b[38;5;241m/\u001b[39m\u001b[38;5;241m/\u001b[39m full_row\n\u001b[0;32m    336\u001b[0m index_in_row \u001b[38;5;241m=\u001b[39m index \u001b[38;5;241m%\u001b[39m full_row\n",
      "\u001b[1;31mIndexError\u001b[0m: Index (51) out of bounds. Edge indices are in the range [0..50]."
     ]
    }
   ],
   "source": [
    "lysis.from_fortran_edge_index(51, 4, 5)"
   ]
  },
  {
   "cell_type": "code",
   "execution_count": 1,
   "id": "5f99ef4d-3544-4960-ac8d-b2bf3a1ca498",
   "metadata": {},
   "outputs": [],
   "source": [
    "import numpy as np"
   ]
  },
  {
   "cell_type": "code",
   "execution_count": 4,
   "id": "2c72ffd5-efd6-40d6-b88a-014af03d248a",
   "metadata": {},
   "outputs": [
    {
     "data": {
      "text/plain": [
       "array([[1, 2, 3],\n",
       "       [4, 5, 6],\n",
       "       [7, 8, 9]])"
      ]
     },
     "execution_count": 4,
     "metadata": {},
     "output_type": "execute_result"
    }
   ],
   "source": [
    "a = np.array([(1,2,3),(4,5,6),(7,8,9)])\n",
    "a"
   ]
  },
  {
   "cell_type": "code",
   "execution_count": 5,
   "id": "62cd8abf-6266-4b70-ab72-29cb51354d17",
   "metadata": {},
   "outputs": [
    {
     "data": {
      "text/plain": [
       "array([[1, 2],\n",
       "       [4, 5]])"
      ]
     },
     "execution_count": 5,
     "metadata": {},
     "output_type": "execute_result"
    }
   ],
   "source": [
    "b = a[:2,:2]\n",
    "b"
   ]
  },
  {
   "cell_type": "code",
   "execution_count": 7,
   "id": "311db5b7-e716-4526-8fc5-0a74554163eb",
   "metadata": {},
   "outputs": [
    {
     "data": {
      "text/plain": [
       "array([[0, 2],\n",
       "       [4, 5]])"
      ]
     },
     "execution_count": 7,
     "metadata": {},
     "output_type": "execute_result"
    }
   ],
   "source": [
    "b[0,0] = 0\n",
    "b"
   ]
  },
  {
   "cell_type": "code",
   "execution_count": 8,
   "id": "ddac0742-430d-4cc7-a02a-05d407614b9c",
   "metadata": {},
   "outputs": [
    {
     "data": {
      "text/plain": [
       "array([[0, 2, 3],\n",
       "       [4, 5, 6],\n",
       "       [7, 8, 9]])"
      ]
     },
     "execution_count": 8,
     "metadata": {},
     "output_type": "execute_result"
    }
   ],
   "source": [
    "a"
   ]
  },
  {
   "cell_type": "code",
   "execution_count": 4,
   "id": "d710cd6d-24b4-437e-bb80-b54706e1dfb9",
   "metadata": {},
   "outputs": [],
   "source": [
    "from enum import Enum, IntEnum, unique"
   ]
  },
  {
   "cell_type": "code",
   "execution_count": 5,
   "id": "f8fa9c24-9955-4671-a57c-c2ef091afc9d",
   "metadata": {},
   "outputs": [],
   "source": [
    "@unique\n",
    "class Color(IntEnum):\n",
    "    BLUE = 0\n",
    "    RED = 1\n",
    "    GREEN = 2\n",
    "    \n",
    "@unique\n",
    "class Direction(Enum):\n",
    "    UP = 1\n",
    "    DOWN = -1"
   ]
  },
  {
   "cell_type": "code",
   "execution_count": 13,
   "id": "1165051f-01cb-4c56-b25f-8d30089759ff",
   "metadata": {},
   "outputs": [
    {
     "data": {
      "text/plain": [
       "False"
      ]
     },
     "execution_count": 13,
     "metadata": {},
     "output_type": "execute_result"
    }
   ],
   "source": [
    "Color.RED == Color.GREEN"
   ]
  },
  {
   "cell_type": "code",
   "execution_count": 14,
   "id": "15edf66a-ed1e-4579-90c8-4f0090b7a46a",
   "metadata": {},
   "outputs": [
    {
     "data": {
      "text/plain": [
       "False"
      ]
     },
     "execution_count": 14,
     "metadata": {},
     "output_type": "execute_result"
    }
   ],
   "source": [
    "Color.RED == Direction.UP"
   ]
  },
  {
   "cell_type": "code",
   "execution_count": 16,
   "id": "fe46cb5b-1b36-47d9-8b3e-f795bc308393",
   "metadata": {},
   "outputs": [],
   "source": [
    "c = Color"
   ]
  },
  {
   "cell_type": "code",
   "execution_count": 17,
   "id": "1fffe734-3ae9-4fa7-9ea9-0978f03a752c",
   "metadata": {},
   "outputs": [
    {
     "data": {
      "text/plain": [
       "<Color.RED: 1>"
      ]
     },
     "execution_count": 17,
     "metadata": {},
     "output_type": "execute_result"
    }
   ],
   "source": [
    "c.RED"
   ]
  },
  {
   "cell_type": "code",
   "execution_count": 6,
   "id": "f4e2dc6e-4a97-4c49-9ee4-c60a3fd313ce",
   "metadata": {},
   "outputs": [],
   "source": [
    "t = (Direction.UP, Direction.UP, Direction.DOWN)"
   ]
  },
  {
   "cell_type": "code",
   "execution_count": 7,
   "id": "91169cfa-e5c2-45a0-979b-9effd7be9f8a",
   "metadata": {},
   "outputs": [
    {
     "data": {
      "text/plain": [
       "<Direction.UP: 1>"
      ]
     },
     "execution_count": 7,
     "metadata": {},
     "output_type": "execute_result"
    }
   ],
   "source": [
    "t[Color.BLUE]"
   ]
  },
  {
   "cell_type": "code",
   "execution_count": 9,
   "id": "92ab398f-ccbb-420e-98f7-f289ea6454db",
   "metadata": {},
   "outputs": [
    {
     "data": {
      "text/plain": [
       "<enum 'Direction'>"
      ]
     },
     "execution_count": 9,
     "metadata": {},
     "output_type": "execute_result"
    }
   ],
   "source": [
    "type(Direction.UP)"
   ]
  },
  {
   "cell_type": "code",
   "execution_count": 12,
   "id": "ad0e872a-701b-45dc-9f04-866723d791c9",
   "metadata": {},
   "outputs": [
    {
     "data": {
      "text/plain": [
       "True"
      ]
     },
     "execution_count": 12,
     "metadata": {},
     "output_type": "execute_result"
    }
   ],
   "source": [
    "isinstance(Direction.UP, Direction)"
   ]
  },
  {
   "cell_type": "code",
   "execution_count": 3,
   "id": "97d41f2c-8624-44da-9ee4-889e60a11b50",
   "metadata": {},
   "outputs": [],
   "source": [
    "import sys"
   ]
  },
  {
   "cell_type": "code",
   "execution_count": 1,
   "id": "66afac29-1ffc-422a-8c16-6859bb0cc51a",
   "metadata": {},
   "outputs": [],
   "source": [
    "import lysis"
   ]
  },
  {
   "cell_type": "code",
   "execution_count": 6,
   "id": "6c0b5e89-2ef5-4a3e-a711-41e4540a2c1d",
   "metadata": {},
   "outputs": [
    {
     "ename": "KeyError",
     "evalue": "'util'",
     "output_type": "error",
     "traceback": [
      "\u001b[1;31m---------------------------------------------------------------------------\u001b[0m",
      "\u001b[1;31mKeyError\u001b[0m                                  Traceback (most recent call last)",
      "Cell \u001b[1;32mIn[6], line 1\u001b[0m\n\u001b[1;32m----> 1\u001b[0m \u001b[43msys\u001b[49m\u001b[38;5;241;43m.\u001b[39;49m\u001b[43mmodules\u001b[49m\u001b[43m[\u001b[49m\u001b[38;5;124;43m'\u001b[39;49m\u001b[38;5;124;43mutil\u001b[39;49m\u001b[38;5;124;43m'\u001b[39;49m\u001b[43m]\u001b[49m\n",
      "\u001b[1;31mKeyError\u001b[0m: 'util'"
     ]
    }
   ],
   "source": []
  },
  {
   "cell_type": "code",
   "execution_count": 2,
   "id": "9a55ef2f-6ca0-4666-96df-b51d5530d3d4",
   "metadata": {},
   "outputs": [],
   "source": [
    "import lysis.util"
   ]
  },
  {
   "cell_type": "code",
   "execution_count": null,
   "id": "3d058778-99e5-4b18-ab6d-f2897e62f166",
   "metadata": {},
   "outputs": [],
   "source": [
    "lysis.util."
   ]
  }
 ],
 "metadata": {
  "kernelspec": {
   "display_name": "Python 3 (ipykernel)",
   "language": "python",
   "name": "python3"
  },
  "language_info": {
   "codemirror_mode": {
    "name": "ipython",
    "version": 3
   },
   "file_extension": ".py",
   "mimetype": "text/x-python",
   "name": "python",
   "nbconvert_exporter": "python",
   "pygments_lexer": "ipython3",
   "version": "3.11.0"
  }
 },
 "nbformat": 4,
 "nbformat_minor": 5
}
