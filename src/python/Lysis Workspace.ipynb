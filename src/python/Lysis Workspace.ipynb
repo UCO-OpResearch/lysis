{
 "cells": [
  {
   "cell_type": "code",
   "execution_count": 1,
   "id": "619f6483-d1b3-4801-ba47-1bc013684de3",
   "metadata": {},
   "outputs": [],
   "source": [
    "import cProfile\n",
    "import lysis\n",
    "import math\n",
    "import os\n",
    "import numpy as np\n",
    "from collections import Counter"
   ]
  },
  {
   "cell_type": "code",
   "execution_count": 2,
   "id": "9b3ca7db-c69f-4eba-a80b-19147c9e8082",
   "metadata": {},
   "outputs": [],
   "source": [
    "e = lysis.util.Experiment(os.path.join(\"..\", \"..\", \"data\"), experiment_code='2023-01-31-1301')"
   ]
  },
  {
   "cell_type": "code",
   "execution_count": 3,
   "id": "f79804a5-d6a4-4cd5-82a0-ba1e94f5ff65",
   "metadata": {},
   "outputs": [],
   "source": [
    "# p = {\"rows\": 12,\n",
    "#          \"cols\": 9,\n",
    "#          \"empty_rows\": 3,\n",
    "#          \"total_molecules\": 430,\n",
    "#          \"total_time\": 10*60,\n",
    "#          \"duplicate_fortran\": True\n",
    "#          }\n",
    "# e.initialize_macro_param(p)\n",
    "# e.read_file()"
   ]
  },
  {
   "cell_type": "code",
   "execution_count": 3,
   "id": "a4629256-0d6b-4cd2-92fe-9bf5169dd48e",
   "metadata": {},
   "outputs": [],
   "source": [
    "e.read_file()"
   ]
  },
  {
   "cell_type": "code",
   "execution_count": 14,
   "id": "4717bf66-ccc4-4828-8eda-0429a596a774",
   "metadata": {},
   "outputs": [],
   "source": [
    "e.to_file()"
   ]
  },
  {
   "cell_type": "code",
   "execution_count": 4,
   "id": "4b2c9791-a340-4ea1-9841-f15dddeb3553",
   "metadata": {},
   "outputs": [],
   "source": [
    "macro = lysis.MacroscaleRun(e)"
   ]
  },
  {
   "cell_type": "code",
   "execution_count": 6,
   "id": "9bdcdf75-1abb-4f95-9c72-d9d8229ced8c",
   "metadata": {},
   "outputs": [
    {
     "data": {
      "text/plain": [
       "array([0.37808582])"
      ]
     },
     "execution_count": 6,
     "metadata": {},
     "output_type": "execute_result"
    }
   ],
   "source": [
    "r3 = np.array([0.013*100])\n",
    "macro.find_unbinding_time(r3, 0.0)"
   ]
  },
  {
   "cell_type": "code",
   "execution_count": 22,
   "id": "f047c84e-9825-457d-9956-e56c25dead8b",
   "metadata": {},
   "outputs": [
    {
     "data": {
      "text/plain": [
       "array([44.98754296])"
      ]
     },
     "execution_count": 22,
     "metadata": {},
     "output_type": "execute_result"
    }
   ],
   "source": [
    "unbinding_time_bin = r3\n",
    "count = len(r3)\n",
    "current_time = 0.0\n",
    "lysis_time_bin = np.array([0.0377])\n",
    "\n",
    "lysis_time_bin = lysis_time_bin * (macro.exp.macro_params.microscale_runs / 100)\n",
    "interp = np.full(count, float(\"inf\"), dtype=np.double)\n",
    "unbinding_time_bin = unbinding_time_bin.astype(int)\n",
    "total_lyses = macro.exp.data.total_lyses[unbinding_time_bin] - 1\n",
    "lysis_happens = lysis_time_bin < total_lyses\n",
    "interp[~lysis_happens] = float(\"inf\")\n",
    "\n",
    "# TODO(bpaynter): Should be able to improve this with a 2D\n",
    "#                 interpolation or a custom numpy kernel\n",
    "for i in np.arange(count)[lysis_happens]:\n",
    "    interp[i] = np.interp(\n",
    "        lysis_time_bin[i],\n",
    "        np.arange(total_lyses[i]),\n",
    "        macro.exp.data.lysis_time[unbinding_time_bin[i], : total_lyses[i]],\n",
    "    )\n",
    "interp # + (current_time - macro.exp.macro_params.time_step / 2)"
   ]
  },
  {
   "cell_type": "code",
   "execution_count": 18,
   "id": "d449bee0-cbb1-4bae-a20d-2684f1d8ff02",
   "metadata": {},
   "outputs": [
    {
     "data": {
      "text/plain": [
       "0.0003423940833333333"
      ]
     },
     "execution_count": 18,
     "metadata": {},
     "output_type": "execute_result"
    }
   ],
   "source": [
    "macro.exp.macro_params.time_step"
   ]
  },
  {
   "cell_type": "code",
   "execution_count": 11,
   "id": "68e08ef7-420e-4e5c-852d-cc9b16977725",
   "metadata": {},
   "outputs": [
    {
     "data": {
      "text/plain": [
       "array([26.00913947, 26.77610749, 28.00890967, 30.68915295, 30.76509679,\n",
       "       30.86917166, 30.96479071, 32.08974628, 32.1114515 , 32.50776026,\n",
       "       32.60855094, 32.81468819, 33.08845622, 35.00468359, 35.81625917,\n",
       "       36.40427586, 36.75465857, 38.80920826, 41.61935759, 45.58192862])"
      ]
     },
     "execution_count": 11,
     "metadata": {},
     "output_type": "execute_result"
    }
   ],
   "source": [
    "macro.exp.data.lysis_time[unbinding_time_bin[i], : total_lyses[i]]"
   ]
  },
  {
   "cell_type": "code",
   "execution_count": 12,
   "id": "2d225b12-b2af-47a4-ba65-f47a16ec5b27",
   "metadata": {},
   "outputs": [
    {
     "data": {
      "text/plain": [
       "array([ 0,  1,  2,  3,  4,  5,  6,  7,  8,  9, 10, 11, 12, 13, 14, 15, 16,\n",
       "       17, 18, 19])"
      ]
     },
     "execution_count": 12,
     "metadata": {},
     "output_type": "execute_result"
    }
   ],
   "source": [
    "np.arange(total_lyses[0])"
   ]
  },
  {
   "cell_type": "code",
   "execution_count": 13,
   "id": "0e77fe0d-23f6-4067-a6a3-562e9659fab8",
   "metadata": {},
   "outputs": [
    {
     "data": {
      "text/plain": [
       "array([19.35])"
      ]
     },
     "execution_count": 13,
     "metadata": {},
     "output_type": "execute_result"
    }
   ],
   "source": [
    "lysis_time_bin"
   ]
  },
  {
   "cell_type": "code",
   "execution_count": 14,
   "id": "af6774a6-9160-4337-b349-98d575ec06b4",
   "metadata": {},
   "outputs": [
    {
     "data": {
      "text/plain": [
       "array([20])"
      ]
     },
     "execution_count": 14,
     "metadata": {},
     "output_type": "execute_result"
    }
   ],
   "source": [
    "total_lyses"
   ]
  },
  {
   "cell_type": "code",
   "execution_count": 15,
   "id": "f90eb9d6-4861-483a-b463-2faffd6b30c7",
   "metadata": {},
   "outputs": [
    {
     "data": {
      "text/plain": [
       "array([1])"
      ]
     },
     "execution_count": 15,
     "metadata": {},
     "output_type": "execute_result"
    }
   ],
   "source": [
    "unbinding_time_bin"
   ]
  },
  {
   "cell_type": "code",
   "execution_count": 5,
   "id": "41df1e6c-d83a-4989-830f-b6a6079feed8",
   "metadata": {},
   "outputs": [
    {
     "data": {
      "application/vnd.jupyter.widget-view+json": {
       "model_id": "de35c0e5c0d84fad91a6504204d5b809",
       "version_major": 2,
       "version_minor": 0
      },
      "text/plain": [
       "  0%|          | 0/1752366 [00:00<?, ?it/s]"
      ]
     },
     "metadata": {},
     "output_type": "display_data"
    }
   ],
   "source": [
    "macro.run()"
   ]
  },
  {
   "cell_type": "code",
   "execution_count": 6,
   "id": "61cfa6fc-53a4-493e-b1c0-5f121b638a6c",
   "metadata": {},
   "outputs": [],
   "source": [
    "macro.bind_info_file.close()"
   ]
  },
  {
   "cell_type": "code",
   "execution_count": 10,
   "id": "e4d28ccf-4969-4403-963c-34523bb3629b",
   "metadata": {},
   "outputs": [
    {
     "data": {
      "text/plain": [
       "array([], dtype=[('r1', '<f8'), ('t', '<f8'), ('bind', '<f8')])"
      ]
     },
     "execution_count": 10,
     "metadata": {},
     "output_type": "execute_result"
    }
   ],
   "source": [
    "#n = np.empty((0,), dtype=np.float_)\n",
    "with open(os.path.join(macro.exp.os_path, \"m_bind_t.p-array.dat\"), 'r') as file:\n",
    "    n = np.fromregex(file, r'(\\-?\\d\\.\\d*e?\\-?\\+?\\d*)\\w*(\\-?\\d\\.\\d*e?\\-?\\+?\\d*)\\w*(\\-?\\d\\.\\d*e?\\-?\\+?\\d*)', dtype=[('r1', np.float_), ('t', np.float_), ('bind', np.float_)])\n",
    "n"
   ]
  },
  {
   "cell_type": "code",
   "execution_count": 19,
   "id": "db2df174-1613-496d-9b5f-a0cce0bdd31e",
   "metadata": {},
   "outputs": [
    {
     "data": {
      "text/plain": [
       "'9.50116062e-43 9.15604175e-72 1.39804328e-76 ... 5.06869768e-86\\n 5.64341326e-62 5.39365393e-62'"
      ]
     },
     "execution_count": 19,
     "metadata": {},
     "output_type": "execute_result"
    }
   ],
   "source": [
    "np.array2string(n)[1:-1]"
   ]
  },
  {
   "cell_type": "code",
   "execution_count": 7,
   "id": "49b24a43-6fb0-4659-b1db-8ae53c9c3b57",
   "metadata": {},
   "outputs": [
    {
     "data": {
      "text/plain": [
       "0.9997907233333332"
      ]
     },
     "execution_count": 7,
     "metadata": {},
     "output_type": "execute_result"
    }
   ],
   "source": [
    "current_time = 2920 * macro.exp.macro_params.time_step\n",
    "current_time"
   ]
  },
  {
   "cell_type": "code",
   "execution_count": 9,
   "id": "4201e541-6a7f-4953-beb9-dfe734955a3c",
   "metadata": {
    "tags": []
   },
   "outputs": [],
   "source": [
    "macro.m_fiber_status = macro.fiber_status[macro.location]\n",
    "macro.unbind_by_degradation(macro.bound & (macro.m_fiber_status < current_time), current_time)\n",
    "macro.unbind_by_time(macro.bound & (macro.binding_time < current_time), current_time)\n",
    "\n",
    "should_bind = (~macro.bound\n",
    "               & (macro.binding_time < current_time)\n",
    "               & (macro.m_fiber_status > current_time)\n",
    "               & (macro.waiting_time < current_time))\n",
    "\n",
    "move_chance = np.ones(macro.exp.macro_params.total_molecules, dtype=np.double)\n",
    "move_chance[~macro.bound] = macro.rng.random(np.count_nonzero(~macro.bound), dtype=np.double)\n",
    "should_move = move_chance < macro.exp.macro_params.moving_probability\n",
    "conflict = should_bind & should_move\n",
    "threshold = np.full(macro.exp.macro_params.total_molecules, -1, dtype=np.double)\n",
    "threshold[conflict] = ((current_time - macro.binding_time[conflict])\n",
    "                       / macro.exp.macro_params.time_step)\n",
    "should_bind[conflict] = macro.rng.random(np.count_nonzero(conflict)) > threshold[conflict]\n",
    "should_move[conflict] = ~should_bind[conflict]\n",
    "\n",
    "macro.bind(should_bind, current_time)"
   ]
  },
  {
   "cell_type": "code",
   "execution_count": 10,
   "id": "2fad0643-a66f-431e-ab72-cf8f530b22f7",
   "metadata": {},
   "outputs": [
    {
     "data": {
      "text/plain": [
       "0"
      ]
     },
     "execution_count": 10,
     "metadata": {},
     "output_type": "execute_result"
    }
   ],
   "source": [
    "still_stuck_to_fiber = np.full(macro.exp.macro_params.total_molecules, False, dtype=np.bool_)\n",
    "still_stuck_to_fiber[should_bind] = macro.waiting_time[should_bind] > current_time\n",
    "np.logical_and(still_stuck_to_fiber[should_bind], macro.unbound_by_degradation[should_bind], out=still_stuck_to_fiber[should_bind])\n",
    "np.count_nonzero(still_stuck_to_fiber)"
   ]
  },
  {
   "cell_type": "code",
   "execution_count": 11,
   "id": "899d802e-90ea-4d24-9ba8-704fd68d853b",
   "metadata": {},
   "outputs": [],
   "source": [
    "for n in np.arange(macro.exp.macro_params.total_molecules)[still_stuck_to_fiber]:\n",
    "    print(n)"
   ]
  },
  {
   "cell_type": "code",
   "execution_count": 15,
   "id": "72a72015-e126-4228-88e0-b01c44f481e3",
   "metadata": {},
   "outputs": [],
   "source": [
    "a = 499\n",
    "b = 500\n",
    "c = a*e.macro_params.time_step\n",
    "d = b*e.macro_params.time_step"
   ]
  },
  {
   "cell_type": "code",
   "execution_count": 16,
   "id": "1337b169-fa73-4d47-9f6e-be0dd0076092",
   "metadata": {},
   "outputs": [
    {
     "name": "stdout",
     "output_type": "stream",
     "text": [
      "36.1 ns ± 0.269 ns per loop (mean ± std. dev. of 7 runs, 10,000,000 loops each)\n"
     ]
    }
   ],
   "source": [
    "%timeit a < b"
   ]
  },
  {
   "cell_type": "code",
   "execution_count": 17,
   "id": "cfef6cfe-2c08-4d3e-a351-5080da2f1ed9",
   "metadata": {},
   "outputs": [
    {
     "name": "stdout",
     "output_type": "stream",
     "text": [
      "33.1 ns ± 0.401 ns per loop (mean ± std. dev. of 7 runs, 10,000,000 loops each)\n"
     ]
    }
   ],
   "source": [
    "%timeit c < d"
   ]
  },
  {
   "cell_type": "code",
   "execution_count": null,
   "id": "04216017-527f-499c-a60b-dc9c8355d190",
   "metadata": {},
   "outputs": [],
   "source": [
    "lysis.from_fortran_edge_index(51, 4, 5)"
   ]
  },
  {
   "cell_type": "code",
   "execution_count": 3,
   "id": "5f99ef4d-3544-4960-ac8d-b2bf3a1ca498",
   "metadata": {},
   "outputs": [],
   "source": [
    "rng = np.random.default_rng(seed=489489496)"
   ]
  },
  {
   "cell_type": "code",
   "execution_count": 5,
   "id": "f8675161-3dee-4a0f-a960-8de7e02a47ec",
   "metadata": {},
   "outputs": [],
   "source": [
    "a = rng.random(60).reshape(6, 10)"
   ]
  },
  {
   "cell_type": "code",
   "execution_count": 7,
   "id": "0bbfe787-3feb-452e-b3b3-3fe834448cca",
   "metadata": {},
   "outputs": [],
   "source": [
    "b = rng.random(10)\n",
    "c = b < 0.5"
   ]
  },
  {
   "cell_type": "code",
   "execution_count": 8,
   "id": "da22d401-68fb-42f6-bb4b-3a6be5d59cb3",
   "metadata": {},
   "outputs": [
    {
     "data": {
      "text/plain": [
       "array([ True, False, False,  True, False,  True, False,  True,  True,\n",
       "        True])"
      ]
     },
     "execution_count": 8,
     "metadata": {},
     "output_type": "execute_result"
    }
   ],
   "source": [
    "c"
   ]
  },
  {
   "cell_type": "code",
   "execution_count": 10,
   "id": "38836a7e-78e2-4d15-b5fd-af112f6f3f98",
   "metadata": {},
   "outputs": [
    {
     "data": {
      "text/plain": [
       "array([0.46961349, 0.51494345, 0.93896747, 0.49600301, 0.5810864 ,\n",
       "       0.22792777])"
      ]
     },
     "execution_count": 10,
     "metadata": {},
     "output_type": "execute_result"
    }
   ],
   "source": [
    "a[5][c]"
   ]
  },
  {
   "cell_type": "code",
   "execution_count": 11,
   "id": "0993a8c6-fc29-4795-8336-e3e12836a4e8",
   "metadata": {},
   "outputs": [
    {
     "data": {
      "text/plain": [
       "array([0.46961349, 0.92091926, 0.20134264, 0.51494345, 0.99789049,\n",
       "       0.93896747, 0.76984013, 0.49600301, 0.5810864 , 0.22792777])"
      ]
     },
     "execution_count": 11,
     "metadata": {},
     "output_type": "execute_result"
    }
   ],
   "source": [
    "a[5]"
   ]
  },
  {
   "cell_type": "code",
   "execution_count": 50,
   "id": "618e19fc-9618-4719-9879-8566bee0b972",
   "metadata": {},
   "outputs": [
    {
     "data": {
      "text/plain": [
       "array([[False, False,  True,  True],\n",
       "       [False, False,  True,  True],\n",
       "       [False,  True,  True,  True]])"
      ]
     },
     "execution_count": 50,
     "metadata": {},
     "output_type": "execute_result"
    }
   ],
   "source": [
    "c"
   ]
  },
  {
   "cell_type": "code",
   "execution_count": 48,
   "id": "9f7df822-1a79-4059-b2e9-77d25e89f075",
   "metadata": {},
   "outputs": [
    {
     "data": {
      "text/plain": [
       "array([[0.28751422, 0.17398308, 0.55931457, 0.53022389],\n",
       "       [0.34155978, 0.28751422, 0.51085294, 0.95012645],\n",
       "       [0.24432482, 0.24990649, 0.08039694, 0.63829939]])"
      ]
     },
     "execution_count": 48,
     "metadata": {},
     "output_type": "execute_result"
    }
   ],
   "source": [
    "np.take_along_axis(a[b], c[:,::-1], axis=1)"
   ]
  },
  {
   "cell_type": "code",
   "execution_count": 73,
   "id": "cd644ce7-d34f-4419-89de-f08cc79d8ac8",
   "metadata": {},
   "outputs": [
    {
     "data": {
      "text/plain": [
       "array([2, 2, 3], dtype=int64)"
      ]
     },
     "execution_count": 73,
     "metadata": {},
     "output_type": "execute_result"
    }
   ],
   "source": [
    "d = np.count_nonzero(c, axis=1)\n",
    "d"
   ]
  },
  {
   "cell_type": "code",
   "execution_count": 71,
   "id": "0783b206-5e8e-4b87-8b86-2e2f8681bb37",
   "metadata": {},
   "outputs": [
    {
     "data": {
      "text/plain": [
       "(array([[0]], dtype=int64), array([[2, 2, 3]], dtype=int64))"
      ]
     },
     "execution_count": 71,
     "metadata": {},
     "output_type": "execute_result"
    }
   ],
   "source": [
    "e = d[np.newaxis, :]\n",
    "np.ix_(,d)"
   ]
  },
  {
   "cell_type": "code",
   "execution_count": 74,
   "id": "c6abddbc-eecf-444d-a32d-f2495c0e29cc",
   "metadata": {},
   "outputs": [
    {
     "data": {
      "text/plain": [
       "array([0.28751422, 0.51085294, 0.63829939])"
      ]
     },
     "execution_count": 74,
     "metadata": {},
     "output_type": "execute_result"
    }
   ],
   "source": [
    "a[b][np.full(3, True), d]"
   ]
  },
  {
   "cell_type": "code",
   "execution_count": 81,
   "id": "f8f86365-63db-4017-bdfe-39cfc029b284",
   "metadata": {},
   "outputs": [
    {
     "name": "stdout",
     "output_type": "stream",
     "text": [
      "8.26 µs ± 108 ns per loop (mean ± std. dev. of 7 runs, 100,000 loops each)\n"
     ]
    }
   ],
   "source": [
    "%timeit np.any(a < 0.1)"
   ]
  },
  {
   "cell_type": "code",
   "execution_count": 83,
   "id": "98072858-527f-4b65-8550-3e4a86098259",
   "metadata": {},
   "outputs": [],
   "source": [
    "a = np.empty((20, 9), dtype=int)"
   ]
  },
  {
   "cell_type": "code",
   "execution_count": 84,
   "id": "8f2520a9-3982-455d-9e89-7a3bc678eda5",
   "metadata": {},
   "outputs": [],
   "source": [
    "a[:] = np.arange(9)"
   ]
  },
  {
   "cell_type": "code",
   "execution_count": 85,
   "id": "ea5d7a89-dd46-4f15-9a0b-2b400b1b836b",
   "metadata": {},
   "outputs": [
    {
     "data": {
      "text/plain": [
       "array([[0, 1, 2, 3, 4, 5, 6, 7, 8],\n",
       "       [0, 1, 2, 3, 4, 5, 6, 7, 8],\n",
       "       [0, 1, 2, 3, 4, 5, 6, 7, 8],\n",
       "       [0, 1, 2, 3, 4, 5, 6, 7, 8],\n",
       "       [0, 1, 2, 3, 4, 5, 6, 7, 8],\n",
       "       [0, 1, 2, 3, 4, 5, 6, 7, 8],\n",
       "       [0, 1, 2, 3, 4, 5, 6, 7, 8],\n",
       "       [0, 1, 2, 3, 4, 5, 6, 7, 8],\n",
       "       [0, 1, 2, 3, 4, 5, 6, 7, 8],\n",
       "       [0, 1, 2, 3, 4, 5, 6, 7, 8],\n",
       "       [0, 1, 2, 3, 4, 5, 6, 7, 8],\n",
       "       [0, 1, 2, 3, 4, 5, 6, 7, 8],\n",
       "       [0, 1, 2, 3, 4, 5, 6, 7, 8],\n",
       "       [0, 1, 2, 3, 4, 5, 6, 7, 8],\n",
       "       [0, 1, 2, 3, 4, 5, 6, 7, 8],\n",
       "       [0, 1, 2, 3, 4, 5, 6, 7, 8],\n",
       "       [0, 1, 2, 3, 4, 5, 6, 7, 8],\n",
       "       [0, 1, 2, 3, 4, 5, 6, 7, 8],\n",
       "       [0, 1, 2, 3, 4, 5, 6, 7, 8],\n",
       "       [0, 1, 2, 3, 4, 5, 6, 7, 8]])"
      ]
     },
     "execution_count": 85,
     "metadata": {},
     "output_type": "execute_result"
    }
   ],
   "source": [
    "a"
   ]
  },
  {
   "cell_type": "code",
   "execution_count": 86,
   "id": "1d653b65-77cf-43c2-90e7-b8c98293d590",
   "metadata": {},
   "outputs": [
    {
     "data": {
      "text/plain": [
       "array([[  0,   1,   2,   3,   4,   5,   6,   7,   8],\n",
       "       [  0,   1,   2,   3,   4,   5,   6,   7,   8],\n",
       "       [  0,   1,   2,   3,   4,   5,   6,   7,   8],\n",
       "       [  0,   1,   2,   3,   4,   5,   6,   7,   8],\n",
       "       [  0,   1,   2,   3,   4,   5, 100,   7,   8],\n",
       "       [  0,   1,   2,   3,   4,   5,   6,   7,   8],\n",
       "       [  0,   1,   2,   3,   4,   5,   6,   7,   8],\n",
       "       [  0,   1,   2,   3,   4,   5,   6,   7,   8],\n",
       "       [  0,   1,   2,   3,   4,   5,   6,   7,   8],\n",
       "       [  0,   1,   2,   3,   4,   5,   6,   7,   8],\n",
       "       [  0,   1,   2,   3,   4,   5,   6,   7,   8],\n",
       "       [  0,   1,   2,   3,   4,   5,   6,   7,   8],\n",
       "       [  0,   1,   2,   3,   4,   5,   6,   7,   8],\n",
       "       [  0,   1,   2,   3,   4,   5,   6,   7,   8],\n",
       "       [  0,   1,   2,   3,   4,   5,   6,   7,   8],\n",
       "       [  0,   1,   2,   3,   4,   5,   6,   7,   8],\n",
       "       [  0,   1,   2,   3,   4,   5,   6,   7,   8],\n",
       "       [  0,   1,   2,   3,   4,   5,   6,   7,   8],\n",
       "       [  0,   1,   2,   3,   4,   5,   6,   7,   8],\n",
       "       [  0,   1,   2,   3,   4,   5,   6,   7,   8]])"
      ]
     },
     "execution_count": 86,
     "metadata": {},
     "output_type": "execute_result"
    }
   ],
   "source": [
    "a[4,6]=100\n",
    "a"
   ]
  },
  {
   "cell_type": "code",
   "execution_count": 3,
   "id": "54db85ec-75ff-4794-be9e-950f34916af2",
   "metadata": {},
   "outputs": [
    {
     "data": {
      "text/plain": [
       "(16, 58, 20)"
      ]
     },
     "execution_count": 3,
     "metadata": {},
     "output_type": "execute_result"
    }
   ],
   "source": [
    "tot_sec = 6110*10\n",
    "tot_sec // (60*60), (tot_sec // 60) % 60, tot_sec % 60"
   ]
  },
  {
   "cell_type": "code",
   "execution_count": 10,
   "id": "644b5794-77d9-48f9-b1c3-73380e8cfbfd",
   "metadata": {},
   "outputs": [],
   "source": [
    "import dataclasses\n",
    "import inspect\n",
    "\n",
    "import numpy as np\n",
    "\n",
    "import lysis"
   ]
  },
  {
   "cell_type": "code",
   "execution_count": 9,
   "id": "bf190389-17f8-4792-b758-9d163f5fd43f",
   "metadata": {},
   "outputs": [],
   "source": [
    "sig = inspect.signature(lysis.util.MacroParameters)"
   ]
  },
  {
   "cell_type": "code",
   "execution_count": 10,
   "id": "4067823a-a667-4bc1-aae6-e7d88764e1ae",
   "metadata": {},
   "outputs": [
    {
     "name": "stdout",
     "output_type": "stream",
     "text": [
      "binding_rate 0.1\n",
      "pore_size 0.00010135\n",
      "diffusion_coeff 5e-07\n",
      "binding_sites 427\n",
      "forced_unbind 0.0852\n",
      "average_bind_time 27.8\n",
      "grid_node_distance 1.0862\n",
      "cols 93\n",
      "rows 121\n",
      "empty_rows 28\n",
      "total_molecules 43074\n",
      "moving_probability 0.2\n",
      "microscale_runs 50000\n",
      "total_trials 10\n",
      "total_time 1200\n",
      "seed -2137354075\n",
      "state (129281, 362436069, 123456789, None)\n",
      "save_interval 10\n",
      "macro_version diffuse_into_and_along\n",
      "log_lvl 30\n",
      "duplicate_fortran False\n",
      "processing_library numpy\n"
     ]
    }
   ],
   "source": [
    "for key in sig.parameters:\n",
    "    print(key, sig.parameters[key].default)"
   ]
  },
  {
   "cell_type": "code",
   "execution_count": 18,
   "id": "08111b69-9e5a-4826-bfda-afb7c5fd38fb",
   "metadata": {},
   "outputs": [
    {
     "data": {
      "text/plain": [
       "'Convert a string or number to a floating point number, if possible.'"
      ]
     },
     "execution_count": 18,
     "metadata": {},
     "output_type": "execute_result"
    }
   ],
   "source": [
    "inspect.getdoc(e.macro_params.binding_rate)"
   ]
  },
  {
   "cell_type": "code",
   "execution_count": 20,
   "id": "a4cfd352-78a7-4827-a7e6-41d4e0b5b000",
   "metadata": {},
   "outputs": [
    {
     "data": {
      "text/plain": [
       "'Convert a string or number to a floating point number, if possible.'"
      ]
     },
     "execution_count": 20,
     "metadata": {},
     "output_type": "execute_result"
    }
   ],
   "source": [
    "lysis.util.MacroParameters.binding_rate.__doc__"
   ]
  },
  {
   "cell_type": "code",
   "execution_count": 6,
   "id": "0eb3f2f7-8d72-4513-bbc7-fb800f2885cf",
   "metadata": {},
   "outputs": [],
   "source": [
    "a = e.macro_params.fortran_names()"
   ]
  },
  {
   "cell_type": "code",
   "execution_count": 4,
   "id": "544041b9-99ba-4232-af3c-aa369e46aaac",
   "metadata": {},
   "outputs": [],
   "source": [
    "a = lysis.util.FortranMacro(e, \"../..\", \"bin/macro-normal\", \".dat\", \".f-normal.dat\")"
   ]
  },
  {
   "cell_type": "code",
   "execution_count": 6,
   "id": "1d98df1f-82f0-4968-8226-3e6c81b4f44e",
   "metadata": {},
   "outputs": [
    {
     "name": "stdout",
     "output_type": "stream",
     "text": [
      "['bin/macro-normal', '--expCode', '2023-01-30-1700', '--inFileCode', '.dat', '--outFileCode', '.f-normal.dat', '--N', '9', '--F', '12', '--Ffree', '2', '--M', '430', '--tf', '600']\n",
      "None\n"
     ]
    }
   ],
   "source": [
    "a.run()"
   ]
  },
  {
   "cell_type": "code",
   "execution_count": 9,
   "id": "39e8b3d3-27bf-4342-8553-739fc4e372db",
   "metadata": {},
   "outputs": [
    {
     "data": {
      "text/plain": [
       "True"
      ]
     },
     "execution_count": 9,
     "metadata": {},
     "output_type": "execute_result"
    }
   ],
   "source": [
    "\"binding_rate\" in a"
   ]
  },
  {
   "cell_type": "code",
   "execution_count": 8,
   "id": "e8d57413-ba80-4d4c-914b-3ad757704e3f",
   "metadata": {},
   "outputs": [
    {
     "data": {
      "text/plain": [
       "{'binding_rate': 'kon',\n",
       " 'pore_size': 'delx',\n",
       " 'diffusion_coeff': 'Diff',\n",
       " 'binding_sites': 'bs',\n",
       " 'forced_unbind': 'frac_forced',\n",
       " 'average_bind_time': 'avgwait',\n",
       " 'grid_node_distance': 'dist',\n",
       " 'cols': 'N',\n",
       " 'rows': 'F',\n",
       " 'total_edges': 'num',\n",
       " 'empty_rows': 'Ffree-1',\n",
       " 'last_empty_edge': 'enoFB-1',\n",
       " 'total_molecules': 'M',\n",
       " 'moving_probability': 'q',\n",
       " 'microscale_runs': 'nummicro',\n",
       " 'total_trials': 'stats',\n",
       " 'total_time': 'tf',\n",
       " 'time_step': 'tstep',\n",
       " 'total_time_steps': 'num_t',\n",
       " 'seed': 'seed',\n",
       " 'state': 'state',\n",
       " 'number_of_saves': 'nplt'}"
      ]
     },
     "execution_count": 8,
     "metadata": {},
     "output_type": "execute_result"
    }
   ],
   "source": [
    "a"
   ]
  },
  {
   "cell_type": "code",
   "execution_count": 7,
   "id": "5f000b6a-299a-4646-bd2a-6287f3ae02f3",
   "metadata": {},
   "outputs": [
    {
     "data": {
      "text/plain": [
       "'Ffree'"
      ]
     },
     "execution_count": 7,
     "metadata": {},
     "output_type": "execute_result"
    }
   ],
   "source": [
    "s = \"Ffree-1\"\n",
    "s[:-2]"
   ]
  },
  {
   "cell_type": "code",
   "execution_count": 6,
   "id": "2e342b71-6dae-4a98-8d21-1d5505ae45ab",
   "metadata": {
    "jupyter": {
     "source_hidden": true
    },
    "tags": []
   },
   "outputs": [],
   "source": [
    "f_n = np.array([[  1,  1,  1,  1, 19, 19, 19, 19],\n",
    "    [  0,  0,  2,  2, 19, 19, 20, 20],\n",
    "    [  1,  1,  3,  3, 20, 20, 20, 20],\n",
    "    [  2,  2,  4,  4, 20, 20, 21, 21],\n",
    "    [  3,  3,  5,  5, 21, 21, 21, 21],\n",
    "    [  4,  4,  6,  6, 21, 21, 22, 22],\n",
    "    [  5,  5,  7,  7, 22, 22, 22, 22],\n",
    "    [  6,  6,  8,  8, 22, 22, 23, 23],\n",
    "    [  7,  7,  9,  9, 23, 23, 23, 23],\n",
    "    [  8,  8, 10, 10, 23, 23, 24, 24],\n",
    "    [  9,  9, 11, 11, 24, 24, 24, 24],\n",
    "    [ 10, 10, 12, 12, 24, 24, 25, 25],\n",
    "    [ 11, 11, 13, 13, 25, 25, 25, 25],\n",
    "    [ 12, 12, 14, 14, 25, 25, 26, 26],\n",
    "    [ 13, 13, 15, 15, 26, 26, 26, 26],\n",
    "    [ 14, 14, 16, 16, 26, 26, 27, 27],\n",
    "    [ 15, 15, 17, 17, 27, 27, 27, 27],\n",
    "    [ 16, 16, 18, 18, 27, 27, 28, 28],\n",
    "    [ 17, 17, 17, 17, 28, 28, 28, 28],\n",
    "    [  0,  0,  1,  1, 29, 29, 30, 30],\n",
    "    [  1,  2,  2,  3, 30, 31, 31, 32],\n",
    "    [  3,  4,  4,  5, 32, 33, 33, 34],\n",
    "    [  5,  6,  6,  7, 34, 35, 35, 36],\n",
    "    [  7,  8,  8,  9, 36, 37, 37, 38],\n",
    "    [  9, 10, 10, 11, 38, 39, 39, 40],\n",
    "    [ 11, 12, 12, 13, 40, 41, 41, 42],\n",
    "    [ 13, 14, 14, 15, 42, 43, 43, 44],\n",
    "    [ 15, 16, 16, 17, 44, 45, 45, 46],\n",
    "    [ 17, 17, 18, 18, 46, 46, 47, 47],\n",
    "    [ 19, 19, 30, 30, 30, 30, 48, 48],\n",
    "    [ 19, 20, 29, 29, 31, 31, 48, 49],\n",
    "    [ 20, 20, 30, 30, 32, 32, 49, 49],\n",
    "    [ 20, 21, 31, 31, 33, 33, 49, 50],\n",
    "    [ 21, 21, 32, 32, 34, 34, 50, 50],\n",
    "    [ 21, 22, 33, 33, 35, 35, 50, 51],\n",
    "    [ 22, 22, 34, 34, 36, 36, 51, 51],\n",
    "    [ 22, 23, 35, 35, 37, 37, 51, 52],\n",
    "    [ 23, 23, 36, 36, 38, 38, 52, 52],\n",
    "    [ 23, 24, 37, 37, 39, 39, 52, 53],\n",
    "    [ 24, 24, 38, 38, 40, 40, 53, 53],\n",
    "    [ 24, 25, 39, 39, 41, 41, 53, 54],\n",
    "    [ 25, 25, 40, 40, 42, 42, 54, 54],\n",
    "    [ 25, 26, 41, 41, 43, 43, 54, 55],\n",
    "    [ 26, 26, 42, 42, 44, 44, 55, 55],\n",
    "    [ 26, 27, 43, 43, 45, 45, 55, 56],\n",
    "    [ 27, 27, 44, 44, 46, 46, 56, 56],\n",
    "    [ 27, 28, 45, 45, 47, 47, 56, 57],\n",
    "    [ 28, 28, 46, 46, 46, 46, 57, 57],\n",
    "    [ 29, 29, 30, 30, 58, 58, 59, 59],\n",
    "    [ 30, 31, 31, 32, 59, 60, 60, 61],\n",
    "    [ 32, 33, 33, 34, 61, 62, 62, 63],\n",
    "    [ 34, 35, 35, 36, 63, 64, 64, 65],\n",
    "    [ 36, 37, 37, 38, 65, 66, 66, 67],\n",
    "    [ 38, 39, 39, 40, 67, 68, 68, 69],\n",
    "    [ 40, 41, 41, 42, 69, 70, 70, 71],\n",
    "    [ 42, 43, 43, 44, 71, 72, 72, 73],\n",
    "    [ 44, 45, 45, 46, 73, 74, 74, 75],\n",
    "    [ 46, 46, 47, 47, 75, 75, 76, 76],\n",
    "    [ 48, 48, 59, 59, 59, 59, 77, 77],\n",
    "    [ 48, 49, 58, 58, 60, 60, 77, 78],\n",
    "    [ 49, 49, 59, 59, 61, 61, 78, 78],\n",
    "    [ 49, 50, 60, 60, 62, 62, 78, 79],\n",
    "    [ 50, 50, 61, 61, 63, 63, 79, 79],\n",
    "    [ 50, 51, 62, 62, 64, 64, 79, 80],\n",
    "    [ 51, 51, 63, 63, 65, 65, 80, 80],\n",
    "    [ 51, 52, 64, 64, 66, 66, 80, 81],\n",
    "    [ 52, 52, 65, 65, 67, 67, 81, 81],\n",
    "    [ 52, 53, 66, 66, 68, 68, 81, 82],\n",
    "    [ 53, 53, 67, 67, 69, 69, 82, 82],\n",
    "    [ 53, 54, 68, 68, 70, 70, 82, 83],\n",
    "    [ 54, 54, 69, 69, 71, 71, 83, 83],\n",
    "    [ 54, 55, 70, 70, 72, 72, 83, 84],\n",
    "    [ 55, 55, 71, 71, 73, 73, 84, 84],\n",
    "    [ 55, 56, 72, 72, 74, 74, 84, 85],\n",
    "    [ 56, 56, 73, 73, 75, 75, 85, 85],\n",
    "    [ 56, 57, 74, 74, 76, 76, 85, 86],\n",
    "    [ 57, 57, 75, 75, 75, 75, 86, 86],\n",
    "    [ 58, 58, 59, 59, 87, 87, 88, 88],\n",
    "    [ 59, 60, 60, 61, 88, 89, 89, 90],\n",
    "    [ 61, 62, 62, 63, 90, 91, 91, 92],\n",
    "    [ 63, 64, 64, 65, 92, 93, 93, 94],\n",
    "    [ 65, 66, 66, 67, 94, 95, 95, 96],\n",
    "    [ 67, 68, 68, 69, 96, 97, 97, 98],\n",
    "    [ 69, 70, 70, 71, 98, 99, 99,100],\n",
    "    [ 71, 72, 72, 73,100,101,101,102],\n",
    "    [ 73, 74, 74, 75,102,103,103,104],\n",
    "    [ 75, 75, 76, 76,104,104,105,105],\n",
    "    [ 77, 77, 88, 88, 88, 88,106,106],\n",
    "    [ 77, 78, 87, 87, 89, 89,106,107],\n",
    "    [ 78, 78, 88, 88, 90, 90,107,107],\n",
    "    [ 78, 79, 89, 89, 91, 91,107,108],\n",
    "    [ 79, 79, 90, 90, 92, 92,108,108],\n",
    "    [ 79, 80, 91, 91, 93, 93,108,109],\n",
    "    [ 80, 80, 92, 92, 94, 94,109,109],\n",
    "    [ 80, 81, 93, 93, 95, 95,109,110],\n",
    "    [ 81, 81, 94, 94, 96, 96,110,110],\n",
    "    [ 81, 82, 95, 95, 97, 97,110,111],\n",
    "    [ 82, 82, 96, 96, 98, 98,111,111],\n",
    "    [ 82, 83, 97, 97, 99, 99,111,112],\n",
    "    [ 83, 83, 98, 98,100,100,112,112],\n",
    "    [ 83, 84, 99, 99,101,101,112,113],\n",
    "    [ 84, 84,100,100,102,102,113,113],\n",
    "    [ 84, 85,101,101,103,103,113,114],\n",
    "    [ 85, 85,102,102,104,104,114,114],\n",
    "    [ 85, 86,103,103,105,105,114,115],\n",
    "    [ 86, 86,104,104,104,104,115,115],\n",
    "    [ 87, 87, 88, 88,116,116,117,117],\n",
    "    [ 88, 89, 89, 90,117,118,118,119],\n",
    "    [ 90, 91, 91, 92,119,120,120,121],\n",
    "    [ 92, 93, 93, 94,121,122,122,123],\n",
    "    [ 94, 95, 95, 96,123,124,124,125],\n",
    "    [ 96, 97, 97, 98,125,126,126,127],\n",
    "    [ 98, 99, 99,100,127,128,128,129],\n",
    "    [100,101,101,102,129,130,130,131],\n",
    "    [102,103,103,104,131,132,132,133],\n",
    "    [104,104,105,105,133,133,134,134],\n",
    "    [106,106,117,117,117,117,135,135],\n",
    "    [106,107,116,116,118,118,135,136],\n",
    "    [107,107,117,117,119,119,136,136],\n",
    "    [107,108,118,118,120,120,136,137],\n",
    "    [108,108,119,119,121,121,137,137],\n",
    "    [108,109,120,120,122,122,137,138],\n",
    "    [109,109,121,121,123,123,138,138],\n",
    "    [109,110,122,122,124,124,138,139],\n",
    "    [110,110,123,123,125,125,139,139],\n",
    "    [110,111,124,124,126,126,139,140],\n",
    "    [111,111,125,125,127,127,140,140],\n",
    "    [111,112,126,126,128,128,140,141],\n",
    "    [112,112,127,127,129,129,141,141],\n",
    "    [112,113,128,128,130,130,141,142],\n",
    "    [113,113,129,129,131,131,142,142],\n",
    "    [113,114,130,130,132,132,142,143],\n",
    "    [114,114,131,131,133,133,143,143],\n",
    "    [114,115,132,132,134,134,143,144],\n",
    "    [115,115,133,133,133,133,144,144],\n",
    "    [116,116,117,117,145,145,146,146],\n",
    "    [117,118,118,119,146,147,147,148],\n",
    "    [119,120,120,121,148,149,149,150],\n",
    "    [121,122,122,123,150,151,151,152],\n",
    "    [123,124,124,125,152,153,153,154],\n",
    "    [125,126,126,127,154,155,155,156],\n",
    "    [127,128,128,129,156,157,157,158],\n",
    "    [129,130,130,131,158,159,159,160],\n",
    "    [131,132,132,133,160,161,161,162],\n",
    "    [133,133,134,134,162,162,163,163],\n",
    "    [135,135,146,146,146,146,164,164],\n",
    "    [135,136,145,145,147,147,164,165],\n",
    "    [136,136,146,146,148,148,165,165],\n",
    "    [136,137,147,147,149,149,165,166],\n",
    "    [137,137,148,148,150,150,166,166],\n",
    "    [137,138,149,149,151,151,166,167],\n",
    "    [138,138,150,150,152,152,167,167],\n",
    "    [138,139,151,151,153,153,167,168],\n",
    "    [139,139,152,152,154,154,168,168],\n",
    "    [139,140,153,153,155,155,168,169],\n",
    "    [140,140,154,154,156,156,169,169],\n",
    "    [140,141,155,155,157,157,169,170],\n",
    "    [141,141,156,156,158,158,170,170],\n",
    "    [141,142,157,157,159,159,170,171],\n",
    "    [142,142,158,158,160,160,171,171],\n",
    "    [142,143,159,159,161,161,171,172],\n",
    "    [143,143,160,160,162,162,172,172],\n",
    "    [143,144,161,161,163,163,172,173],\n",
    "    [144,144,162,162,162,162,173,173],\n",
    "    [145,145,146,146,174,174,175,175],\n",
    "    [146,147,147,148,175,176,176,177],\n",
    "    [148,149,149,150,177,178,178,179],\n",
    "    [150,151,151,152,179,180,180,181],\n",
    "    [152,153,153,154,181,182,182,183],\n",
    "    [154,155,155,156,183,184,184,185],\n",
    "    [156,157,157,158,185,186,186,187],\n",
    "    [158,159,159,160,187,188,188,189],\n",
    "    [160,161,161,162,189,190,190,191],\n",
    "    [162,162,163,163,191,191,192,192],\n",
    "    [164,164,175,175,175,175,193,193],\n",
    "    [164,165,174,174,176,176,193,194],\n",
    "    [165,165,175,175,177,177,194,194],\n",
    "    [165,166,176,176,178,178,194,195],\n",
    "    [166,166,177,177,179,179,195,195],\n",
    "    [166,167,178,178,180,180,195,196],\n",
    "    [167,167,179,179,181,181,196,196],\n",
    "    [167,168,180,180,182,182,196,197],\n",
    "    [168,168,181,181,183,183,197,197],\n",
    "    [168,169,182,182,184,184,197,198],\n",
    "    [169,169,183,183,185,185,198,198],\n",
    "    [169,170,184,184,186,186,198,199],\n",
    "    [170,170,185,185,187,187,199,199],\n",
    "    [170,171,186,186,188,188,199,200],\n",
    "    [171,171,187,187,189,189,200,200],\n",
    "    [171,172,188,188,190,190,200,201],\n",
    "    [172,172,189,189,191,191,201,201],\n",
    "    [172,173,190,190,192,192,201,202],\n",
    "    [173,173,191,191,191,191,202,202],\n",
    "    [174,174,175,175,203,203,204,204],\n",
    "    [175,176,176,177,204,205,205,206],\n",
    "    [177,178,178,179,206,207,207,208],\n",
    "    [179,180,180,181,208,209,209,210],\n",
    "    [181,182,182,183,210,211,211,212],\n",
    "    [183,184,184,185,212,213,213,214],\n",
    "    [185,186,186,187,214,215,215,216],\n",
    "    [187,188,188,189,216,217,217,218],\n",
    "    [189,190,190,191,218,219,219,220],\n",
    "    [191,191,192,192,220,220,221,221],\n",
    "    [193,193,204,204,204,204,222,222],\n",
    "    [193,194,203,203,205,205,222,223],\n",
    "    [194,194,204,204,206,206,223,223],\n",
    "    [194,195,205,205,207,207,223,224],\n",
    "    [195,195,206,206,208,208,224,224],\n",
    "    [195,196,207,207,209,209,224,225],\n",
    "    [196,196,208,208,210,210,225,225],\n",
    "    [196,197,209,209,211,211,225,226],\n",
    "    [197,197,210,210,212,212,226,226],\n",
    "    [197,198,211,211,213,213,226,227],\n",
    "    [198,198,212,212,214,214,227,227],\n",
    "    [198,199,213,213,215,215,227,228],\n",
    "    [199,199,214,214,216,216,228,228],\n",
    "    [199,200,215,215,217,217,228,229],\n",
    "    [200,200,216,216,218,218,229,229],\n",
    "    [200,201,217,217,219,219,229,230],\n",
    "    [201,201,218,218,220,220,230,230],\n",
    "    [201,202,219,219,221,221,230,231],\n",
    "    [202,202,220,220,220,220,231,231],\n",
    "    [203,203,204,204,232,232,233,233],\n",
    "    [204,205,205,206,233,234,234,235],\n",
    "    [206,207,207,208,235,236,236,237],\n",
    "    [208,209,209,210,237,238,238,239],\n",
    "    [210,211,211,212,239,240,240,241],\n",
    "    [212,213,213,214,241,242,242,243],\n",
    "    [214,215,215,216,243,244,244,245],\n",
    "    [216,217,217,218,245,246,246,247],\n",
    "    [218,219,219,220,247,248,248,249],\n",
    "    [220,220,221,221,249,249,250,250],\n",
    "    [222,222,233,233,233,233,251,251],\n",
    "    [222,223,232,232,234,234,251,252],\n",
    "    [223,223,233,233,235,235,252,252],\n",
    "    [223,224,234,234,236,236,252,253],\n",
    "    [224,224,235,235,237,237,253,253],\n",
    "    [224,225,236,236,238,238,253,254],\n",
    "    [225,225,237,237,239,239,254,254],\n",
    "    [225,226,238,238,240,240,254,255],\n",
    "    [226,226,239,239,241,241,255,255],\n",
    "    [226,227,240,240,242,242,255,256],\n",
    "    [227,227,241,241,243,243,256,256],\n",
    "    [227,228,242,242,244,244,256,257],\n",
    "    [228,228,243,243,245,245,257,257],\n",
    "    [228,229,244,244,246,246,257,258],\n",
    "    [229,229,245,245,247,247,258,258],\n",
    "    [229,230,246,246,248,248,258,259],\n",
    "    [230,230,247,247,249,249,259,259],\n",
    "    [230,231,248,248,250,250,259,260],\n",
    "    [231,231,249,249,249,249,260,260],\n",
    "    [232,232,233,233,261,261,262,262],\n",
    "    [233,234,234,235,262,263,263,264],\n",
    "    [235,236,236,237,264,265,265,266],\n",
    "    [237,238,238,239,266,267,267,268],\n",
    "    [239,240,240,241,268,269,269,270],\n",
    "    [241,242,242,243,270,271,271,272],\n",
    "    [243,244,244,245,272,273,273,274],\n",
    "    [245,246,246,247,274,275,275,276],\n",
    "    [247,248,248,249,276,277,277,278],\n",
    "    [249,249,250,250,278,278,279,279],\n",
    "    [251,251,262,262,262,262,280,280],\n",
    "    [251,252,261,261,263,263,280,281],\n",
    "    [252,252,262,262,264,264,281,281],\n",
    "    [252,253,263,263,265,265,281,282],\n",
    "    [253,253,264,264,266,266,282,282],\n",
    "    [253,254,265,265,267,267,282,283],\n",
    "    [254,254,266,266,268,268,283,283],\n",
    "    [254,255,267,267,269,269,283,284],\n",
    "    [255,255,268,268,270,270,284,284],\n",
    "    [255,256,269,269,271,271,284,285],\n",
    "    [256,256,270,270,272,272,285,285],\n",
    "    [256,257,271,271,273,273,285,286],\n",
    "    [257,257,272,272,274,274,286,286],\n",
    "    [257,258,273,273,275,275,286,287],\n",
    "    [258,258,274,274,276,276,287,287],\n",
    "    [258,259,275,275,277,277,287,288],\n",
    "    [259,259,276,276,278,278,288,288],\n",
    "    [259,260,277,277,279,279,288,289],\n",
    "    [260,260,278,278,278,278,289,289],\n",
    "    [261,261,262,262,290,290,291,291],\n",
    "    [262,263,263,264,291,292,292,293],\n",
    "    [264,265,265,266,293,294,294,295],\n",
    "    [266,267,267,268,295,296,296,297],\n",
    "    [268,269,269,270,297,298,298,299],\n",
    "    [270,271,271,272,299,300,300,301],\n",
    "    [272,273,273,274,301,302,302,303],\n",
    "    [274,275,275,276,303,304,304,305],\n",
    "    [276,277,277,278,305,306,306,307],\n",
    "    [278,278,279,279,307,307,308,308],\n",
    "    [280,280,291,291,291,291,309,309],\n",
    "    [280,281,290,290,292,292,309,310],\n",
    "    [281,281,291,291,293,293,310,310],\n",
    "    [281,282,292,292,294,294,310,311],\n",
    "    [282,282,293,293,295,295,311,311],\n",
    "    [282,283,294,294,296,296,311,312],\n",
    "    [283,283,295,295,297,297,312,312],\n",
    "    [283,284,296,296,298,298,312,313],\n",
    "    [284,284,297,297,299,299,313,313],\n",
    "    [284,285,298,298,300,300,313,314],\n",
    "    [285,285,299,299,301,301,314,314],\n",
    "    [285,286,300,300,302,302,314,315],\n",
    "    [286,286,301,301,303,303,315,315],\n",
    "    [286,287,302,302,304,304,315,316],\n",
    "    [287,287,303,303,305,305,316,316],\n",
    "    [287,288,304,304,306,306,316,317],\n",
    "    [288,288,305,305,307,307,317,317],\n",
    "    [288,289,306,306,308,308,317,318],\n",
    "    [289,289,307,307,307,307,318,318],\n",
    "    [290,290,291,291,319,319,320,320],\n",
    "    [291,292,292,293,320,321,321,322],\n",
    "    [293,294,294,295,322,323,323,324],\n",
    "    [295,296,296,297,324,325,325,326],\n",
    "    [297,298,298,299,326,327,327,328],\n",
    "    [299,300,300,301,328,329,329,330],\n",
    "    [301,302,302,303,330,331,331,332],\n",
    "    [303,304,304,305,332,333,333,334],\n",
    "    [305,306,306,307,334,335,335,336],\n",
    "    [307,307,308,308,336,336,337,337],\n",
    "    [309,309,320,320,320,320,338,338],\n",
    "    [309,310,319,319,321,321,338,339],\n",
    "    [310,310,320,320,322,322,339,339],\n",
    "    [310,311,321,321,323,323,339,340],\n",
    "    [311,311,322,322,324,324,340,340],\n",
    "    [311,312,323,323,325,325,340,341],\n",
    "    [312,312,324,324,326,326,341,341],\n",
    "    [312,313,325,325,327,327,341,342],\n",
    "    [313,313,326,326,328,328,342,342],\n",
    "    [313,314,327,327,329,329,342,343],\n",
    "    [314,314,328,328,330,330,343,343],\n",
    "    [314,315,329,329,331,331,343,344],\n",
    "    [315,315,330,330,332,332,344,344],\n",
    "    [315,316,331,331,333,333,344,345],\n",
    "    [316,316,332,332,334,334,345,345],\n",
    "    [316,317,333,333,335,335,345,346],\n",
    "    [317,317,334,334,336,336,346,346],\n",
    "    [317,318,335,335,337,337,346,347],\n",
    "    [318,318,336,336,336,336,347,347],\n",
    "    [319,319,320,320,348,348,349,349],\n",
    "    [320,321,321,322,349,350,350,351],\n",
    "    [322,323,323,324,351,352,352,353],\n",
    "    [324,325,325,326,353,354,354,355],\n",
    "    [326,327,327,328,355,356,356,357],\n",
    "    [328,329,329,330,357,358,358,359],\n",
    "    [330,331,331,332,359,360,360,361],\n",
    "    [332,333,333,334,361,362,362,363],\n",
    "    [334,335,335,336,363,364,364,365],\n",
    "    [336,336,337,337,365,365,366,366],\n",
    "    [338,338,338,338,349,349,349,349],\n",
    "    [338,338,339,339,348,348,350,350],\n",
    "    [339,339,339,339,349,349,351,351],\n",
    "    [339,339,340,340,350,350,352,352],\n",
    "    [340,340,340,340,351,351,353,353],\n",
    "    [340,340,341,341,352,352,354,354],\n",
    "    [341,341,341,341,353,353,355,355],\n",
    "    [341,341,342,342,354,354,356,356],\n",
    "    [342,342,342,342,355,355,357,357],\n",
    "    [342,342,343,343,356,356,358,358],\n",
    "    [343,343,343,343,357,357,359,359],\n",
    "    [343,343,344,344,358,358,360,360],\n",
    "    [344,344,344,344,359,359,361,361],\n",
    "    [344,344,345,345,360,360,362,362],\n",
    "    [345,345,345,345,361,361,363,363],\n",
    "    [345,345,346,346,362,362,364,364],\n",
    "    [346,346,346,346,363,363,365,365],\n",
    "    [346,346,347,347,364,364,366,366],\n",
    "    [347,347,347,347,365,365,365,365]])"
   ]
  },
  {
   "cell_type": "code",
   "execution_count": 82,
   "id": "6f3a7321-2e6c-4057-b070-4844d5038000",
   "metadata": {},
   "outputs": [
    {
     "data": {
      "text/plain": [
       "array([194, 194, 204, 204, 206, 206, 223, 223])"
      ]
     },
     "execution_count": 82,
     "metadata": {},
     "output_type": "execute_result"
    }
   ],
   "source": [
    "f_n[205]"
   ]
  },
  {
   "cell_type": "code",
   "execution_count": 66,
   "id": "0e2a6511-15dd-46de-94e8-b1e55872ce99",
   "metadata": {},
   "outputs": [
    {
     "data": {
      "text/plain": [
       "array([ 1,  1, 30, 30,  2, 31,  2, 31], dtype=uint16)"
      ]
     },
     "execution_count": 66,
     "metadata": {},
     "output_type": "execute_result"
    }
   ],
   "source": [
    "p_n = lysis.EdgeGrid.generate_neighborhood_structure(e)\n",
    "p_n[0]"
   ]
  },
  {
   "cell_type": "code",
   "execution_count": 10,
   "id": "79eaf32d-3028-443a-ad8c-213f2b934db4",
   "metadata": {},
   "outputs": [
    {
     "data": {
      "text/plain": [
       "array([0, 0, 0, 0, 2, 2, 2, 2], dtype=uint16)"
      ]
     },
     "execution_count": 10,
     "metadata": {},
     "output_type": "execute_result"
    }
   ],
   "source": [
    "p_n[1]"
   ]
  },
  {
   "cell_type": "code",
   "execution_count": 14,
   "id": "225823d6-91c6-4db9-ae9c-bde6a22264a6",
   "metadata": {},
   "outputs": [],
   "source": [
    "perm = np.array([lysis.from_fortran_edge_index(k, e.macro_params.rows, e.macro_params.cols) for k in range(e.macro_params.total_edges)])\n",
    "perm = np.ravel_multi_index((perm[:, 0], perm[:, 1]), dims=(e.macro_params.rows, e.macro_params.full_row))"
   ]
  },
  {
   "cell_type": "code",
   "execution_count": 50,
   "id": "5198fc57-2d21-4678-9665-4782712aac23",
   "metadata": {},
   "outputs": [
    {
     "data": {
      "text/plain": [
       "array([ 19,   0,   1,  20,   2,   3,  21,   4,   5,  22,   6,   7,  23,\n",
       "         8,   9,  24,  10,  11,  25,  12,  13,  26,  14,  15,  27,  16,\n",
       "        17,  28,  18,  48,  29,  30,  49,  31,  32,  50,  33,  34,  51,\n",
       "        35,  36,  52,  37,  38,  53,  39,  40,  54,  41,  42,  55,  43,\n",
       "        44,  56,  45,  46,  57,  47,  77,  58,  59,  78,  60,  61,  79,\n",
       "        62,  63,  80,  64,  65,  81,  66,  67,  82,  68,  69,  83,  70,\n",
       "        71,  84,  72,  73,  85,  74,  75,  86,  76, 106,  87,  88, 107,\n",
       "        89,  90, 108,  91,  92, 109,  93,  94, 110,  95,  96, 111,  97,\n",
       "        98, 112,  99, 100, 113, 101, 102, 114, 103, 104, 115, 105, 135,\n",
       "       116, 117, 136, 118, 119, 137, 120, 121, 138, 122, 123, 139, 124,\n",
       "       125, 140, 126, 127, 141, 128, 129, 142, 130, 131, 143, 132, 133,\n",
       "       144, 134, 164, 145, 146, 165, 147, 148, 166, 149, 150, 167, 151,\n",
       "       152, 168, 153, 154, 169, 155, 156, 170, 157, 158, 171, 159, 160,\n",
       "       172, 161, 162, 173, 163, 193, 174, 175, 194, 176, 177, 195, 178,\n",
       "       179, 196, 180, 181, 197, 182, 183, 198, 184, 185, 199, 186, 187,\n",
       "       200, 188, 189, 201, 190, 191, 202, 192, 222, 203, 204, 223, 205,\n",
       "       206, 224, 207, 208, 225, 209, 210, 226, 211, 212, 227, 213, 214,\n",
       "       228, 215, 216, 229, 217, 218, 230, 219, 220, 231, 221, 251, 232,\n",
       "       233, 252, 234, 235, 253, 236, 237, 254, 238, 239, 255, 240, 241,\n",
       "       256, 242, 243, 257, 244, 245, 258, 246, 247, 259, 248, 249, 260,\n",
       "       250, 280, 261, 262, 281, 263, 264, 282, 265, 266, 283, 267, 268,\n",
       "       284, 269, 270, 285, 271, 272, 286, 273, 274, 287, 275, 276, 288,\n",
       "       277, 278, 289, 279, 309, 290, 291, 310, 292, 293, 311, 294, 295,\n",
       "       312, 296, 297, 313, 298, 299, 314, 300, 301, 315, 302, 303, 316,\n",
       "       304, 305, 317, 306, 307, 318, 308, 338, 319, 320, 339, 321, 322,\n",
       "       340, 323, 324, 341, 325, 326, 342, 327, 328, 343, 329, 330, 344,\n",
       "       331, 332, 345, 333, 334, 346, 335, 336, 347, 337,  -1, 348, 349,\n",
       "        -1, 350, 351,  -1, 352, 353,  -1, 354, 355,  -1, 356, 357,  -1,\n",
       "       358, 359,  -1, 360, 361,  -1, 362, 363,  -1, 364, 365,  -1, 366])"
      ]
     },
     "execution_count": 50,
     "metadata": {},
     "output_type": "execute_result"
    }
   ],
   "source": [
    "inv_perm = []\n",
    "for k in range(e.macro_params.rows*e.macro_params.full_row):\n",
    "    p = np.argwhere(perm == k)\n",
    "    if p.size > 0:\n",
    "        inv_perm.append(p[0,0])\n",
    "    else:\n",
    "        inv_perm.append(-1)\n",
    "inv_perm = np.array(inv_perm)\n",
    "inv_perm"
   ]
  },
  {
   "cell_type": "code",
   "execution_count": 69,
   "id": "24a84dbc-8cae-4e12-ab77-01b4ac16945c",
   "metadata": {},
   "outputs": [],
   "source": [
    "sort = np.argsort(inv_perm[p_n[perm]], axis=1)"
   ]
  },
  {
   "cell_type": "code",
   "execution_count": 54,
   "id": "4a70a8e7-3812-4e52-ab21-14a08e71690c",
   "metadata": {},
   "outputs": [],
   "source": [
    "for i in range(e.macro_params.total_edges):\n",
    "    if Counter(f_n[i]) != Counter(inv_perm[p_n[perm]][i]):\n",
    "        print(f_n[i], inv_perm[p_n[perm]][i])"
   ]
  },
  {
   "cell_type": "code",
   "execution_count": 77,
   "id": "c22a0dbc-2755-4bee-8d8f-a849f406acca",
   "metadata": {},
   "outputs": [],
   "source": [
    "new = p_n.copy()\n",
    "new[perm] = np.take_along_axis(p_n[perm], sort, axis=1)"
   ]
  },
  {
   "cell_type": "code",
   "execution_count": 64,
   "id": "4384aff3-06aa-47c2-a4db-84d07fee10fa",
   "metadata": {},
   "outputs": [
    {
     "data": {
      "text/plain": [
       "(377, 8)"
      ]
     },
     "execution_count": 64,
     "metadata": {},
     "output_type": "execute_result"
    }
   ],
   "source": [
    "p_n.shape"
   ]
  },
  {
   "cell_type": "code",
   "execution_count": 70,
   "id": "52302dec-9567-4c28-987c-08fbdc37d9ae",
   "metadata": {},
   "outputs": [
    {
     "data": {
      "text/plain": [
       "array([[4, 5, 6, ..., 1, 2, 3],\n",
       "       [4, 5, 6, ..., 2, 1, 3],\n",
       "       [4, 5, 6, ..., 1, 2, 3],\n",
       "       ...,\n",
       "       [0, 1, 2, ..., 5, 6, 7],\n",
       "       [0, 2, 1, ..., 5, 6, 7],\n",
       "       [0, 1, 2, ..., 5, 6, 7]])"
      ]
     },
     "execution_count": 70,
     "metadata": {},
     "output_type": "execute_result"
    }
   ],
   "source": [
    "sort"
   ]
  },
  {
   "cell_type": "code",
   "execution_count": 74,
   "id": "03bf2f5e-efec-4ec1-bf13-b3a6cce5d488",
   "metadata": {},
   "outputs": [
    {
     "data": {
      "text/plain": [
       "array([[ 19,  19,  19, ...,   1,   1,   1],\n",
       "       [ 19,  20,  19, ...,   0,   2,   2],\n",
       "       [ 20,  20,  20, ...,   1,   3,   3],\n",
       "       ...,\n",
       "       [346, 346, 346, ..., 363, 365, 365],\n",
       "       [346, 347, 346, ..., 364, 366, 366],\n",
       "       [347, 347, 347, ..., 365, 365, 365]])"
      ]
     },
     "execution_count": 74,
     "metadata": {},
     "output_type": "execute_result"
    }
   ],
   "source": [
    "inv_perm[p_n[perm]]"
   ]
  },
  {
   "cell_type": "code",
   "execution_count": 81,
   "id": "31e94aa0-0c49-4466-ae2f-2cac27e1916d",
   "metadata": {},
   "outputs": [
    {
     "data": {
      "text/plain": [
       "(array([2, 2, 2, 2, 0, 0, 0, 0], dtype=uint16),\n",
       " array([ 1,  1,  1,  1, 19, 19, 19, 19]))"
      ]
     },
     "execution_count": 81,
     "metadata": {},
     "output_type": "execute_result"
    }
   ],
   "source": [
    "new[1], f_n[0]"
   ]
  },
  {
   "cell_type": "code",
   "execution_count": 1,
   "id": "0448f60e-1dbf-4117-a23f-009b576e6d7e",
   "metadata": {},
   "outputs": [],
   "source": [
    "import lysis\n",
    "import uuid"
   ]
  },
  {
   "cell_type": "code",
   "execution_count": 3,
   "id": "6a3ebbf0-d59b-4375-abec-0a74e6199479",
   "metadata": {},
   "outputs": [
    {
     "data": {
      "text/plain": [
       "'0HUF-xNss-rLWM-yxFR-SrfFRn'"
      ]
     },
     "execution_count": 3,
     "metadata": {},
     "output_type": "execute_result"
    }
   ],
   "source": [
    "lysis.util.uuid8code()"
   ]
  },
  {
   "cell_type": "code",
   "execution_count": 17,
   "id": "ebb90c18-878f-467e-8940-c65143bb842e",
   "metadata": {},
   "outputs": [
    {
     "data": {
      "text/plain": [
       "UUID('018643c0-a2e7-01c4-26f7-7a04d6ca89fb')"
      ]
     },
     "execution_count": 17,
     "metadata": {},
     "output_type": "execute_result"
    }
   ],
   "source": [
    "uuid.UUID(int=lysis.util.uuid8())"
   ]
  },
  {
   "cell_type": "code",
   "execution_count": null,
   "id": "9c430eb9-2ebd-4db0-86a3-e9ac3e11c950",
   "metadata": {},
   "outputs": [],
   "source": [
    "0HUF-woKh-yvRu-Sa33-83X2Zo"
   ]
  },
  {
   "cell_type": "code",
   "execution_count": 4,
   "id": "49663046-d7fd-4c17-9815-85baf366066e",
   "metadata": {},
   "outputs": [],
   "source": [
    "p = [{'A': [10, 20, 30], 'B': [5, 15], 'C': [100, 200]}, {'A': 50, 'B': [25, 35], 'C': 300}]"
   ]
  },
  {
   "cell_type": "code",
   "execution_count": 5,
   "id": "1b8c1130-ab31-4100-ba56-56221fde08f0",
   "metadata": {},
   "outputs": [
    {
     "data": {
      "text/plain": [
       "[{'A': 10, 'B': 5, 'C': 100},\n",
       " {'A': 10, 'B': 5, 'C': 200},\n",
       " {'A': 10, 'B': 15, 'C': 100},\n",
       " {'A': 10, 'B': 15, 'C': 200},\n",
       " {'A': 20, 'B': 5, 'C': 100},\n",
       " {'A': 20, 'B': 5, 'C': 200},\n",
       " {'A': 20, 'B': 15, 'C': 100},\n",
       " {'A': 20, 'B': 15, 'C': 200},\n",
       " {'A': 30, 'B': 5, 'C': 100},\n",
       " {'A': 30, 'B': 5, 'C': 200},\n",
       " {'A': 30, 'B': 15, 'C': 100},\n",
       " {'A': 30, 'B': 15, 'C': 200},\n",
       " {'A': 50, 'B': 25, 'C': 300},\n",
       " {'A': 50, 'B': 35, 'C': 300}]"
      ]
     },
     "execution_count": 5,
     "metadata": {},
     "output_type": "execute_result"
    }
   ],
   "source": [
    "lysis.util.Experiment.split_variations(p)"
   ]
  },
  {
   "cell_type": "code",
   "execution_count": null,
   "id": "9b8156a7-3f30-45ed-a395-fec7d4f9fc41",
   "metadata": {},
   "outputs": [],
   "source": []
  }
 ],
 "metadata": {
  "kernelspec": {
   "display_name": "Python 3 (ipykernel)",
   "language": "python",
   "name": "python3"
  },
  "language_info": {
   "codemirror_mode": {
    "name": "ipython",
    "version": 3
   },
   "file_extension": ".py",
   "mimetype": "text/x-python",
   "name": "python",
   "nbconvert_exporter": "python",
   "pygments_lexer": "ipython3",
   "version": "3.11.0"
  }
 },
 "nbformat": 4,
 "nbformat_minor": 5
}
