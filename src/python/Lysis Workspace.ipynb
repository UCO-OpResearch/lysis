{
 "cells": [
  {
   "cell_type": "code",
   "execution_count": 1,
   "id": "619f6483-d1b3-4801-ba47-1bc013684de3",
   "metadata": {},
   "outputs": [],
   "source": [
    "import cProfile\n",
    "import lysis\n",
    "import math\n",
    "import numpy as np"
   ]
  },
  {
   "cell_type": "code",
   "execution_count": 3,
   "id": "9b3ca7db-c69f-4eba-a80b-19147c9e8082",
   "metadata": {},
   "outputs": [],
   "source": [
    "e = lysis.util.Experiment(r'../../data', experiment_code='2022-12-27-1100')"
   ]
  },
  {
   "cell_type": "code",
   "execution_count": 4,
   "id": "f79804a5-d6a4-4cd5-82a0-ba1e94f5ff65",
   "metadata": {},
   "outputs": [],
   "source": [
    "p = {'total_time': 1}\n",
    "e.initialize_macro_param(p)\n",
    "# e.read_file()"
   ]
  },
  {
   "cell_type": "code",
   "execution_count": 5,
   "id": "4b2c9791-a340-4ea1-9841-f15dddeb3553",
   "metadata": {},
   "outputs": [],
   "source": [
    "macro = lysis.MacroscaleRun(e)"
   ]
  },
  {
   "cell_type": "code",
   "execution_count": 6,
   "id": "41df1e6c-d83a-4989-830f-b6a6079feed8",
   "metadata": {},
   "outputs": [
    {
     "name": "stderr",
     "output_type": "stream",
     "text": [
      "100%|██████████| 2920/2920 [00:06<00:00, 473.87it/s]"
     ]
    },
    {
     "name": "stdout",
     "output_type": "stream",
     "text": [
      "Total binds: 10,992\n",
      "Timesteps with changes to degrade time: 701\n",
      "Total moves: 21,213,015\n",
      "Total macro unbinds: 0\n",
      "Total micro unbinds: 12\n"
     ]
    },
    {
     "name": "stderr",
     "output_type": "stream",
     "text": [
      "\n"
     ]
    }
   ],
   "source": [
    "macro.run()"
   ]
  },
  {
   "cell_type": "code",
   "execution_count": 18,
   "id": "49b24a43-6fb0-4659-b1db-8ae53c9c3b57",
   "metadata": {},
   "outputs": [
    {
     "name": "stderr",
     "output_type": "stream",
     "text": [
      "100%|█████████████████████████████████████████████████████████████████████████████| 2920/2920 [00:03<00:00, 809.72it/s]"
     ]
    },
    {
     "name": "stdout",
     "output_type": "stream",
     "text": [
      "Total binds: 11,054\n",
      "Timesteps with changes to degrade time: 719\n",
      "Total moves: 21,209,660\n",
      "Total macro unbinds: 0\n",
      "Total micro unbinds: 222\n"
     ]
    },
    {
     "name": "stderr",
     "output_type": "stream",
     "text": [
      "\n"
     ]
    }
   ],
   "source": [
    "lysis.MacroscaleRun(e).run()"
   ]
  },
  {
   "cell_type": "code",
   "execution_count": 3,
   "id": "4201e541-6a7f-4953-beb9-dfe734955a3c",
   "metadata": {
    "collapsed": true,
    "jupyter": {
     "outputs_hidden": true
    },
    "tags": []
   },
   "outputs": [
    {
     "name": "stdout",
     "output_type": "stream",
     "text": [
      "experiment_code : 2022-12-27-1100\n",
      "data_filenames  : unbinding_time : tsectPA.dat\n",
      "                  lysis_time     : lysismat.dat\n",
      "                  total_lyses    : lenlysisvect.dat\n",
      "micro_params    : None\n",
      "macro_params    : binding_rate       : 0.1\n",
      "                  pore_size          : 0.00010135\n",
      "                  diffusion_coeff    : 5e-07\n",
      "                  binding_sites      : 427.0\n",
      "                  forced_unbind      : 0.0852\n",
      "                  average_bind_time  : 27.8\n",
      "                  grid_node_distance : 1.0862\n",
      "                  rows               : 93\n",
      "                  cols               : 121\n",
      "                  full_row           : 362\n",
      "                  xz_row             : 241\n",
      "                  total_edges        : 33545\n",
      "                  total_fibers       : 23409\n",
      "                  empty_rows         : 28\n",
      "                  last_empty_edge    : 10135\n",
      "                  total_molecules    : 43074\n",
      "                  moving_probability : 0.2\n",
      "                  microscale_runs    : 50000\n",
      "                  total_trials       : 10\n",
      "                  total_time         : 600\n",
      "                  time_step          : 0.0003423940833333333\n",
      "                  total_time_steps   : 1752366\n",
      "                  seed               : -2137354075\n",
      "                  state              : [129281, 362436069, 123456789, -2137354075]\n",
      "                  data_required      : ['unbinding_time', 'lysis_time', 'total_lyses']\n",
      "                  macro_version      : diffuse_into_and_along\n",
      "                  log_lvl            : 30\n",
      "                  duplicate_fortran  : True\n",
      "\n"
     ]
    }
   ],
   "source": [
    "print(e)"
   ]
  },
  {
   "cell_type": "code",
   "execution_count": 8,
   "id": "2fad0643-a66f-431e-ab72-cf8f530b22f7",
   "metadata": {},
   "outputs": [
    {
     "data": {
      "text/plain": [
       "344592"
      ]
     },
     "execution_count": 8,
     "metadata": {},
     "output_type": "execute_result"
    }
   ],
   "source": [
    "macro.location.nbytes"
   ]
  },
  {
   "cell_type": "code",
   "execution_count": 9,
   "id": "899d802e-90ea-4d24-9ba8-704fd68d853b",
   "metadata": {},
   "outputs": [
    {
     "data": {
      "text/plain": [
       "dtype('int64')"
      ]
     },
     "execution_count": 9,
     "metadata": {},
     "output_type": "execute_result"
    }
   ],
   "source": [
    "macro.location.dtype"
   ]
  },
  {
   "cell_type": "code",
   "execution_count": 15,
   "id": "72a72015-e126-4228-88e0-b01c44f481e3",
   "metadata": {},
   "outputs": [],
   "source": [
    "a = 499\n",
    "b = 500\n",
    "c = a*e.macro_params.time_step\n",
    "d = b*e.macro_params.time_step"
   ]
  },
  {
   "cell_type": "code",
   "execution_count": 16,
   "id": "1337b169-fa73-4d47-9f6e-be0dd0076092",
   "metadata": {},
   "outputs": [
    {
     "name": "stdout",
     "output_type": "stream",
     "text": [
      "36.1 ns ± 0.269 ns per loop (mean ± std. dev. of 7 runs, 10,000,000 loops each)\n"
     ]
    }
   ],
   "source": [
    "%timeit a < b"
   ]
  },
  {
   "cell_type": "code",
   "execution_count": 17,
   "id": "cfef6cfe-2c08-4d3e-a351-5080da2f1ed9",
   "metadata": {},
   "outputs": [
    {
     "name": "stdout",
     "output_type": "stream",
     "text": [
      "33.1 ns ± 0.401 ns per loop (mean ± std. dev. of 7 runs, 10,000,000 loops each)\n"
     ]
    }
   ],
   "source": [
    "%timeit c < d"
   ]
  },
  {
   "cell_type": "code",
   "execution_count": null,
   "id": "04216017-527f-499c-a60b-dc9c8355d190",
   "metadata": {},
   "outputs": [],
   "source": [
    "lysis.from_fortran_edge_index(51, 4, 5)"
   ]
  },
  {
   "cell_type": "code",
   "execution_count": null,
   "id": "5f99ef4d-3544-4960-ac8d-b2bf3a1ca498",
   "metadata": {},
   "outputs": [],
   "source": [
    "import numpy as np"
   ]
  },
  {
   "cell_type": "code",
   "execution_count": null,
   "id": "2c72ffd5-efd6-40d6-b88a-014af03d248a",
   "metadata": {},
   "outputs": [],
   "source": [
    "a = 3.5*np.ones((3, 4), dtype=np.double)\n",
    "a[1][2]"
   ]
  },
  {
   "cell_type": "code",
   "execution_count": null,
   "id": "62cd8abf-6266-4b70-ab72-29cb51354d17",
   "metadata": {},
   "outputs": [],
   "source": [
    "b = a[:2,:2]\n",
    "b"
   ]
  },
  {
   "cell_type": "code",
   "execution_count": null,
   "id": "311db5b7-e716-4526-8fc5-0a74554163eb",
   "metadata": {},
   "outputs": [],
   "source": [
    "b[0,0] = 0\n",
    "b"
   ]
  },
  {
   "cell_type": "code",
   "execution_count": null,
   "id": "ddac0742-430d-4cc7-a02a-05d407614b9c",
   "metadata": {},
   "outputs": [],
   "source": [
    "a"
   ]
  },
  {
   "cell_type": "code",
   "execution_count": null,
   "id": "d710cd6d-24b4-437e-bb80-b54706e1dfb9",
   "metadata": {},
   "outputs": [],
   "source": [
    "from enum import Enum, IntEnum, unique"
   ]
  },
  {
   "cell_type": "code",
   "execution_count": null,
   "id": "f8fa9c24-9955-4671-a57c-c2ef091afc9d",
   "metadata": {},
   "outputs": [],
   "source": [
    "@unique\n",
    "class Color(IntEnum):\n",
    "    BLUE = 0\n",
    "    RED = 1\n",
    "    GREEN = 2\n",
    "    \n",
    "@unique\n",
    "class Direction(Enum):\n",
    "    UP = 1\n",
    "    DOWN = -1"
   ]
  },
  {
   "cell_type": "code",
   "execution_count": null,
   "id": "1165051f-01cb-4c56-b25f-8d30089759ff",
   "metadata": {},
   "outputs": [],
   "source": [
    "Color.RED == Color.GREEN"
   ]
  },
  {
   "cell_type": "code",
   "execution_count": null,
   "id": "15edf66a-ed1e-4579-90c8-4f0090b7a46a",
   "metadata": {},
   "outputs": [],
   "source": [
    "Color.RED == Direction.UP"
   ]
  },
  {
   "cell_type": "code",
   "execution_count": null,
   "id": "fe46cb5b-1b36-47d9-8b3e-f795bc308393",
   "metadata": {},
   "outputs": [],
   "source": [
    "c = Color"
   ]
  },
  {
   "cell_type": "code",
   "execution_count": null,
   "id": "1fffe734-3ae9-4fa7-9ea9-0978f03a752c",
   "metadata": {},
   "outputs": [],
   "source": [
    "c.RED"
   ]
  },
  {
   "cell_type": "code",
   "execution_count": null,
   "id": "f4e2dc6e-4a97-4c49-9ee4-c60a3fd313ce",
   "metadata": {},
   "outputs": [],
   "source": [
    "t = (Direction.UP, Direction.UP, Direction.DOWN)"
   ]
  },
  {
   "cell_type": "code",
   "execution_count": null,
   "id": "91169cfa-e5c2-45a0-979b-9effd7be9f8a",
   "metadata": {},
   "outputs": [],
   "source": [
    "t[Color.BLUE]"
   ]
  },
  {
   "cell_type": "code",
   "execution_count": null,
   "id": "92ab398f-ccbb-420e-98f7-f289ea6454db",
   "metadata": {},
   "outputs": [],
   "source": [
    "type(Direction.UP)"
   ]
  },
  {
   "cell_type": "code",
   "execution_count": null,
   "id": "ad0e872a-701b-45dc-9f04-866723d791c9",
   "metadata": {},
   "outputs": [],
   "source": [
    "isinstance(Direction.UP, Direction)"
   ]
  },
  {
   "cell_type": "code",
   "execution_count": null,
   "id": "97d41f2c-8624-44da-9ee4-889e60a11b50",
   "metadata": {},
   "outputs": [],
   "source": [
    "import sys"
   ]
  },
  {
   "cell_type": "code",
   "execution_count": null,
   "id": "66afac29-1ffc-422a-8c16-6859bb0cc51a",
   "metadata": {},
   "outputs": [],
   "source": [
    "import lysis"
   ]
  },
  {
   "cell_type": "code",
   "execution_count": 10,
   "id": "6c0b5e89-2ef5-4a3e-a711-41e4540a2c1d",
   "metadata": {},
   "outputs": [
    {
     "data": {
      "text/plain": [
       "array([[1., 1., 1., 1., 1., 1., 1., 1., 1., 1.],\n",
       "       [1., 1., 1., 1., 1., 1., 1., 1., 1., 1.],\n",
       "       [1., 1., 1., 1., 1., 1., 1., 1., 1., 1.],\n",
       "       [1., 1., 1., 1., 1., 1., 1., 1., 1., 1.],\n",
       "       [1., 1., 1., 1., 1., 1., 1., 1., 1., 1.]])"
      ]
     },
     "execution_count": 10,
     "metadata": {},
     "output_type": "execute_result"
    }
   ],
   "source": [
    "a = np.ones((5, 10))\n",
    "a"
   ]
  },
  {
   "cell_type": "code",
   "execution_count": 11,
   "id": "9a55ef2f-6ca0-4666-96df-b51d5530d3d4",
   "metadata": {},
   "outputs": [],
   "source": [
    "a[:3] = 3"
   ]
  },
  {
   "cell_type": "code",
   "execution_count": 12,
   "id": "3d058778-99e5-4b18-ab6d-f2897e62f166",
   "metadata": {},
   "outputs": [
    {
     "data": {
      "text/plain": [
       "array([[3., 3., 3., 3., 3., 3., 3., 3., 3., 3.],\n",
       "       [3., 3., 3., 3., 3., 3., 3., 3., 3., 3.],\n",
       "       [3., 3., 3., 3., 3., 3., 3., 3., 3., 3.],\n",
       "       [1., 1., 1., 1., 1., 1., 1., 1., 1., 1.],\n",
       "       [1., 1., 1., 1., 1., 1., 1., 1., 1., 1.]])"
      ]
     },
     "execution_count": 12,
     "metadata": {},
     "output_type": "execute_result"
    }
   ],
   "source": [
    "a"
   ]
  },
  {
   "cell_type": "code",
   "execution_count": 15,
   "id": "53936333-a384-46a9-ab2e-015705c434f8",
   "metadata": {},
   "outputs": [],
   "source": [
    "A = np.empty((5, 10), dtype=object)\n",
    "for i, j in np.ndindex(5, 10):\n",
    "    A[i, j] = []"
   ]
  },
  {
   "cell_type": "code",
   "execution_count": 16,
   "id": "1803dab2-6b28-4690-9228-ece17e22bbf3",
   "metadata": {},
   "outputs": [],
   "source": [
    "A[4, 3].append(4)"
   ]
  },
  {
   "cell_type": "code",
   "execution_count": 17,
   "id": "9080e618-96dc-4e7b-b1f1-3f5aecda07a3",
   "metadata": {},
   "outputs": [
    {
     "data": {
      "text/plain": [
       "array([[list([]), list([]), list([]), list([]), list([]), list([]),\n",
       "        list([]), list([]), list([]), list([])],\n",
       "       [list([]), list([]), list([]), list([]), list([]), list([]),\n",
       "        list([]), list([]), list([]), list([])],\n",
       "       [list([]), list([]), list([]), list([]), list([]), list([]),\n",
       "        list([]), list([]), list([]), list([])],\n",
       "       [list([]), list([]), list([]), list([]), list([]), list([]),\n",
       "        list([]), list([]), list([]), list([])],\n",
       "       [list([]), list([]), list([]), list([4]), list([]), list([]),\n",
       "        list([]), list([]), list([]), list([])]], dtype=object)"
      ]
     },
     "execution_count": 17,
     "metadata": {},
     "output_type": "execute_result"
    }
   ],
   "source": [
    "A"
   ]
  },
  {
   "cell_type": "code",
   "execution_count": 5,
   "id": "fdb17a26-734c-493a-bb21-6d1663f7ea37",
   "metadata": {},
   "outputs": [],
   "source": [
    "import numpy as \n",
    "rng = np.random.default_rng(seed=5748394)"
   ]
  },
  {
   "cell_type": "code",
   "execution_count": 4,
   "id": "c1cc2db0-3786-41a6-9b4a-ac3d70ab4faa",
   "metadata": {},
   "outputs": [
    {
     "name": "stdout",
     "output_type": "stream",
     "text": [
      "55.2 µs ± 23.2 µs per loop (mean ± std. dev. of 7 runs, 1 loop each)\n"
     ]
    }
   ],
   "source": [
    "a = cp.empty(10000)\n",
    "%timeit rng.random(out=a)"
   ]
  },
  {
   "cell_type": "code",
   "execution_count": 5,
   "id": "044858a4-b10e-4ddf-bd8c-c573a8c64f18",
   "metadata": {},
   "outputs": [
    {
     "name": "stdout",
     "output_type": "stream",
     "text": [
      "656 ms ± 42.4 ms per loop (mean ± std. dev. of 7 runs, 1 loop each)\n"
     ]
    }
   ],
   "source": [
    "a = cp.empty(10000)\n",
    "%timeit for i in cp.arange(a.size): a[i] = rng.random()"
   ]
  },
  {
   "cell_type": "code",
   "execution_count": 9,
   "id": "42d2493a-cdb8-4ed4-8539-70690766d492",
   "metadata": {},
   "outputs": [
    {
     "data": {
      "text/plain": [
       "0.8534137010574341"
      ]
     },
     "execution_count": 9,
     "metadata": {},
     "output_type": "execute_result"
    }
   ],
   "source": [
    "float(rng.random())"
   ]
  },
  {
   "cell_type": "code",
   "execution_count": 17,
   "id": "4c278faf-1edf-4a83-8791-5aeeaa289a6a",
   "metadata": {},
   "outputs": [],
   "source": [
    "import lysis\n",
    "import math\n",
    "import numpy as np\n",
    "import cupy as cp\n",
    "\n",
    "from timeit import timeit"
   ]
  },
  {
   "cell_type": "code",
   "execution_count": 2,
   "id": "460a8853-5bd8-4662-a85b-3dd6f52e7cfa",
   "metadata": {},
   "outputs": [],
   "source": [
    "e = lysis.util.Experiment(r'../../data', experiment_code='2022-12-27-1100')\n",
    "p = {'total_time': 1}\n",
    "e.initialize_macro_param(p)\n",
    "macro = lysis.MacroscaleRun(e)"
   ]
  },
  {
   "cell_type": "code",
   "execution_count": 3,
   "id": "7b17e321-6bf8-4e04-a25e-5b836a1cddc6",
   "metadata": {},
   "outputs": [
    {
     "name": "stderr",
     "output_type": "stream",
     "text": [
      "100%|█████████████████████████████████████████████████████████████████████████████| 2920/2920 [00:08<00:00, 356.52it/s]"
     ]
    },
    {
     "name": "stdout",
     "output_type": "stream",
     "text": [
      "Total binds: 10445\n",
      "Total moves: 21506701\n"
     ]
    },
    {
     "name": "stderr",
     "output_type": "stream",
     "text": [
      "\n"
     ]
    }
   ],
   "source": [
    "macro.run()"
   ]
  },
  {
   "cell_type": "code",
   "execution_count": 4,
   "id": "fcd48f1c-1b0b-4ccc-b93e-01519aee759d",
   "metadata": {},
   "outputs": [],
   "source": [
    "m_fiber_status = macro.fiber_status[macro.location_i, macro.location_j]"
   ]
  },
  {
   "cell_type": "code",
   "execution_count": 15,
   "id": "a3cb5f40-5964-45ed-bc27-411f845fc17c",
   "metadata": {},
   "outputs": [
    {
     "data": {
      "text/plain": [
       "array([], dtype=float64)"
      ]
     },
     "execution_count": 15,
     "metadata": {},
     "output_type": "execute_result"
    }
   ],
   "source": [
    "macro.unbound_by_degradation[macro.bound & (m_fiber_status < 0.1)]"
   ]
  },
  {
   "cell_type": "code",
   "execution_count": 14,
   "id": "56f2c496-43ed-4961-8615-97fe92918b9c",
   "metadata": {},
   "outputs": [
    {
     "name": "stdout",
     "output_type": "stream",
     "text": [
      "23,409\n"
     ]
    }
   ],
   "source": [
    "print(f\"{np.count_nonzero(macro.fiber_status > 2920*macro.exp.macro_params.time_step):,}\")"
   ]
  },
  {
   "cell_type": "code",
   "execution_count": 13,
   "id": "3fa4cc9c-f23d-48be-9df1-3022a80b1039",
   "metadata": {},
   "outputs": [
    {
     "name": "stdout",
     "output_type": "stream",
     "text": [
      "77.90%\n"
     ]
    }
   ],
   "source": [
    "print(f\"{rng.random()*100:.2f}%\")"
   ]
  },
  {
   "cell_type": "code",
   "execution_count": 38,
   "id": "d02a4758-0ef7-4e95-aa34-fdf250a07cc7",
   "metadata": {},
   "outputs": [],
   "source": [
    "neighbors_i = np.empty(macro.neighbors_i.shape, dtype=np.short)\n",
    "neighbors_i[:] = macro.neighbors_i\n",
    "neighbors_j = np.empty(macro.neighbors_j.shape, dtype=np.short)\n",
    "neighbors_j[:] = macro.neighbors_j"
   ]
  },
  {
   "cell_type": "code",
   "execution_count": 39,
   "id": "b0a8311d-3250-4025-bac2-8297dbd5e9fb",
   "metadata": {},
   "outputs": [
    {
     "data": {
      "text/plain": [
       "(93, 362, 8, 2)"
      ]
     },
     "execution_count": 39,
     "metadata": {},
     "output_type": "execute_result"
    }
   ],
   "source": [
    "neighbors = np.empty(macro.neighbors_i.shape + (2,), dtype=np.short)\n",
    "neighbors.shape"
   ]
  },
  {
   "cell_type": "code",
   "execution_count": 40,
   "id": "e3b4534f-f5fe-476f-b86e-0b5885968a8b",
   "metadata": {},
   "outputs": [],
   "source": [
    "for i, j, k in np.ndindex(macro.neighbors_i.shape):\n",
    "    neighbors[i, j, k] = [macro.neighbors_i[i, j, k], macro.neighbors_j[i, j, k]]"
   ]
  },
  {
   "cell_type": "code",
   "execution_count": 31,
   "id": "daa0a86b-b527-4070-885d-dae361570edd",
   "metadata": {},
   "outputs": [],
   "source": [
    "temp = np.empty((30, 2), dtype=int)\n",
    "tempx = np.empty(30, dtype=int)\n",
    "tempy = np.empty(30, dtype=int)"
   ]
  },
  {
   "cell_type": "code",
   "execution_count": 32,
   "id": "e4fd992d-7fad-4371-819a-dbba4b14154f",
   "metadata": {},
   "outputs": [
    {
     "name": "stdout",
     "output_type": "stream",
     "text": [
      "3.41 µs ± 51.4 ns per loop (mean ± std. dev. of 7 runs, 100,000 loops each)\n"
     ]
    }
   ],
   "source": [
    "%timeit temp = neighbors[aT[0], aT[1], 4]"
   ]
  },
  {
   "cell_type": "code",
   "execution_count": 33,
   "id": "29dccd71-e7b4-4e9c-8c77-ecc9cc901bef",
   "metadata": {},
   "outputs": [
    {
     "name": "stdout",
     "output_type": "stream",
     "text": [
      "6.02 µs ± 60.8 ns per loop (mean ± std. dev. of 7 runs, 100,000 loops each)\n"
     ]
    }
   ],
   "source": [
    "%timeit tempx = neighbors[aT[0], aT[1], 4, 0]; tempy = neighbors[aT[0], aT[1], 4, 1]"
   ]
  },
  {
   "cell_type": "code",
   "execution_count": 34,
   "id": "5a5bece2-4d11-402b-ab06-083f5c2d6e2b",
   "metadata": {},
   "outputs": [
    {
     "name": "stdout",
     "output_type": "stream",
     "text": [
      "6 µs ± 50.7 ns per loop (mean ± std. dev. of 7 runs, 100,000 loops each)\n"
     ]
    }
   ],
   "source": [
    "%timeit temp = [macro.neighbors_i[aT[0], aT[1], 4], macro.neighbors_i[aT[0], aT[1], 4]]"
   ]
  },
  {
   "cell_type": "code",
   "execution_count": 35,
   "id": "93809c18-3266-4873-b040-fa4eac511e6a",
   "metadata": {},
   "outputs": [
    {
     "name": "stdout",
     "output_type": "stream",
     "text": [
      "6.01 µs ± 102 ns per loop (mean ± std. dev. of 7 runs, 100,000 loops each)\n"
     ]
    }
   ],
   "source": [
    "%timeit tempx = macro.neighbors_i[aT[0], aT[1], 4]; tempy = macro.neighbors_j[aT[0], aT[1], 4]"
   ]
  },
  {
   "cell_type": "code",
   "execution_count": 41,
   "id": "cbd5d881-ffc4-4963-8da9-a9a539ff7d85",
   "metadata": {},
   "outputs": [],
   "source": [
    "temp = np.empty((30, 2), dtype=np.short)\n",
    "tempx = np.empty(30, dtype=np.short)\n",
    "tempy = np.empty(30, dtype=np.short)"
   ]
  },
  {
   "cell_type": "code",
   "execution_count": 42,
   "id": "88377a78-0614-4c92-aec0-3550d097a794",
   "metadata": {},
   "outputs": [
    {
     "name": "stdout",
     "output_type": "stream",
     "text": [
      "3.43 µs ± 37.5 ns per loop (mean ± std. dev. of 7 runs, 100,000 loops each)\n"
     ]
    }
   ],
   "source": [
    "%timeit temp = neighbors[aT[0], aT[1], 4]"
   ]
  },
  {
   "cell_type": "code",
   "execution_count": 43,
   "id": "d83e7ff6-fc44-42c8-99da-9b29c7d26061",
   "metadata": {},
   "outputs": [
    {
     "name": "stdout",
     "output_type": "stream",
     "text": [
      "5.99 µs ± 83.3 ns per loop (mean ± std. dev. of 7 runs, 100,000 loops each)\n"
     ]
    }
   ],
   "source": [
    "%timeit tempx = neighbors[aT[0], aT[1], 4, 0]; tempy = neighbors[aT[0], aT[1], 4, 1]"
   ]
  },
  {
   "cell_type": "code",
   "execution_count": 44,
   "id": "0dab6ab8-40c5-420f-9a8f-6217a30f9e28",
   "metadata": {},
   "outputs": [
    {
     "name": "stdout",
     "output_type": "stream",
     "text": [
      "6.04 µs ± 84.2 ns per loop (mean ± std. dev. of 7 runs, 100,000 loops each)\n"
     ]
    }
   ],
   "source": [
    "%timeit temp = [macro.neighbors_i[aT[0], aT[1], 4], macro.neighbors_i[aT[0], aT[1], 4]]"
   ]
  },
  {
   "cell_type": "code",
   "execution_count": 45,
   "id": "6c0ec515-ba66-4ebf-b019-2d2dc36a4c5c",
   "metadata": {},
   "outputs": [
    {
     "name": "stdout",
     "output_type": "stream",
     "text": [
      "5.96 µs ± 111 ns per loop (mean ± std. dev. of 7 runs, 100,000 loops each)\n"
     ]
    }
   ],
   "source": [
    "%timeit tempx = macro.neighbors_i[aT[0], aT[1], 4]; tempy = macro.neighbors_j[aT[0], aT[1], 4]"
   ]
  },
  {
   "cell_type": "code",
   "execution_count": 2,
   "id": "5cfdf710-1135-4a26-a2d3-2ac077bddb83",
   "metadata": {},
   "outputs": [],
   "source": [
    "rng = np.random.default_rng(seed=489489496)\n",
    "crng = cp.random.default_rng(seed=489489496)"
   ]
  },
  {
   "cell_type": "code",
   "execution_count": 50,
   "id": "fb1ef5dc-ad85-45df-aa27-cb8afd725986",
   "metadata": {},
   "outputs": [],
   "source": [
    "data = rng.random((30, 50))"
   ]
  },
  {
   "cell_type": "code",
   "execution_count": 131,
   "id": "a86f8b70-c8aa-4853-bb8c-5608ade431fc",
   "metadata": {},
   "outputs": [],
   "source": [
    "location = np.append(rng.integers(10, size=(30, 1)), rng.integers(50, size=(30, 1)), axis=1)"
   ]
  },
  {
   "cell_type": "code",
   "execution_count": 49,
   "id": "555dc1bb-05b4-4932-afca-9249bf600545",
   "metadata": {},
   "outputs": [],
   "source": [
    "locationx = rng.integers(10, size=30)\n",
    "locationy = rng.integers(50, size=30)"
   ]
  },
  {
   "cell_type": "code",
   "execution_count": 52,
   "id": "2b81124a-28b6-4c7d-9f92-5dac7a9ad56f",
   "metadata": {},
   "outputs": [],
   "source": [
    "location = np.concatenate((locationx, locationy)).reshape((2, -1))\n",
    "locationT = location.T"
   ]
  },
  {
   "cell_type": "code",
   "execution_count": 47,
   "id": "f0e3dc55-10d3-4ad2-854c-af621d8e0034",
   "metadata": {},
   "outputs": [
    {
     "name": "stdout",
     "output_type": "stream",
     "text": [
      "9.13 µs ± 190 ns per loop (mean ± std. dev. of 7 runs, 100,000 loops each)\n"
     ]
    }
   ],
   "source": [
    "%timeit locationx = rng.integers(10, size=30)"
   ]
  },
  {
   "cell_type": "code",
   "execution_count": 48,
   "id": "99b318df-fb10-4274-83e7-ee6769c3595d",
   "metadata": {},
   "outputs": [
    {
     "name": "stdout",
     "output_type": "stream",
     "text": [
      "9.2 µs ± 98.2 ns per loop (mean ± std. dev. of 7 runs, 100,000 loops each)\n"
     ]
    }
   ],
   "source": [
    "%timeit locationx = rng.integers(10, size=30, dtype=np.short)"
   ]
  },
  {
   "cell_type": "code",
   "execution_count": 24,
   "id": "92b2f0c4-c40b-4175-af70-5c8975f120aa",
   "metadata": {},
   "outputs": [],
   "source": [
    "a = np.empty((30, 2), dtype=int)\n",
    "a[:] = [[locationx[i], locationy[i]] for i in range(len(locationy))]\n",
    "aT= a.T"
   ]
  },
  {
   "cell_type": "code",
   "execution_count": null,
   "id": "e7af1178-2316-4422-b64b-732d6026062a",
   "metadata": {},
   "outputs": [],
   "source": [
    "b = np.empty((30, 2), dtype=int)\n",
    "b[:] = [[locationx[i], locationy[i]] for i in range(len(locationy))]\n",
    "b"
   ]
  },
  {
   "cell_type": "code",
   "execution_count": null,
   "id": "ebe70214-81bf-4b67-9d95-bff41597639e",
   "metadata": {},
   "outputs": [],
   "source": [
    "c = np.empty((30, 2), dtype=int)\n",
    "c"
   ]
  },
  {
   "cell_type": "code",
   "execution_count": 14,
   "id": "bd8c9fb9-6ec6-4170-8eb9-4cb2e911b137",
   "metadata": {},
   "outputs": [
    {
     "name": "stdout",
     "output_type": "stream",
     "text": [
      "20.2 µs ± 687 ns per loop (mean ± std. dev. of 7 runs, 10,000 loops each)\n"
     ]
    }
   ],
   "source": [
    "%timeit c[:] = [(a[i][0] + b[i][0], a[i][1] + b[i][1]) for i in np.arange(len(a))]"
   ]
  },
  {
   "cell_type": "code",
   "execution_count": 22,
   "id": "1a5f8cd6-6651-4e8e-8220-9166ee21b3dd",
   "metadata": {},
   "outputs": [
    {
     "name": "stdout",
     "output_type": "stream",
     "text": [
      "20.1 µs ± 756 ns per loop (mean ± std. dev. of 7 runs, 10,000 loops each)\n"
     ]
    }
   ],
   "source": [
    "%timeit for i in np.arange(len(a)): c[i] = (a[i][0] + b[i][0], a[i][1] + b[i][1])"
   ]
  },
  {
   "cell_type": "code",
   "execution_count": 31,
   "id": "b93a20b2-2528-43cb-8c40-2172588e13bd",
   "metadata": {},
   "outputs": [
    {
     "name": "stdout",
     "output_type": "stream",
     "text": [
      "20.4 µs ± 409 ns per loop (mean ± std. dev. of 7 runs, 10,000 loops each)\n"
     ]
    }
   ],
   "source": [
    "%timeit c[:] = [[a[i][0] + b[i][0], a[i][1] + b[i][1]] for i in np.arange(len(a))]"
   ]
  },
  {
   "cell_type": "code",
   "execution_count": 35,
   "id": "24ce2fcf-087e-4199-9db7-17ca68e5f1c2",
   "metadata": {},
   "outputs": [
    {
     "name": "stdout",
     "output_type": "stream",
     "text": [
      "20.3 µs ± 404 ns per loop (mean ± std. dev. of 7 runs, 10,000 loops each)\n"
     ]
    }
   ],
   "source": [
    "%timeit for i in np.arange(len(a)): c[i] = [a[i][0] + b[i][0], a[i][1] + b[i][1]]"
   ]
  },
  {
   "cell_type": "code",
   "execution_count": 45,
   "id": "d5da28f2-da19-45be-9c10-c27c47d4adc3",
   "metadata": {},
   "outputs": [
    {
     "name": "stdout",
     "output_type": "stream",
     "text": [
      "45.1 µs ± 872 ns per loop (mean ± std. dev. of 7 runs, 10,000 loops each)\n"
     ]
    }
   ],
   "source": [
    "%timeit c[:] = [[a[i][0] + b[i][0], a[i][1] + b[i][1]] for i in np.arange(len(a))]"
   ]
  },
  {
   "cell_type": "code",
   "execution_count": 48,
   "id": "f4c9a199-880a-43a6-b532-559671ace7f4",
   "metadata": {},
   "outputs": [
    {
     "name": "stdout",
     "output_type": "stream",
     "text": [
      "47.8 µs ± 712 ns per loop (mean ± std. dev. of 7 runs, 10,000 loops each)\n"
     ]
    }
   ],
   "source": [
    "%timeit for i in np.arange(len(a)): c[i] = [a[i][0] + b[i][0], a[i][1] + b[i][1]]"
   ]
  },
  {
   "cell_type": "code",
   "execution_count": 29,
   "id": "1d50bcc6-0604-49b3-99c4-9c3fa100276e",
   "metadata": {},
   "outputs": [
    {
     "name": "stdout",
     "output_type": "stream",
     "text": [
      "530 ns ± 9.37 ns per loop (mean ± std. dev. of 7 runs, 1,000,000 loops each)\n"
     ]
    }
   ],
   "source": [
    "%timeit c = a + b"
   ]
  },
  {
   "cell_type": "code",
   "execution_count": 30,
   "id": "f7e03f65-6861-4c31-9bfe-784a459bd683",
   "metadata": {},
   "outputs": [
    {
     "name": "stdout",
     "output_type": "stream",
     "text": [
      "16.4 ns ± 0.21 ns per loop (mean ± std. dev. of 7 runs, 100,000,000 loops each)\n"
     ]
    }
   ],
   "source": [
    "%timeit c = a"
   ]
  },
  {
   "cell_type": "code",
   "execution_count": 61,
   "id": "d6c4b218-67ea-420e-8505-f4b276bb424b",
   "metadata": {},
   "outputs": [
    {
     "data": {
      "text/plain": [
       "0.005930632152207066"
      ]
     },
     "execution_count": 61,
     "metadata": {},
     "output_type": "execute_result"
    }
   ],
   "source": [
    "a = rng.random()/rng.integers(100)\n",
    "a"
   ]
  },
  {
   "cell_type": "code",
   "execution_count": 63,
   "id": "8df2bc10-a460-4b40-a282-441905270eda",
   "metadata": {},
   "outputs": [
    {
     "data": {
      "text/plain": [
       "9.306321522070661"
      ]
     },
     "execution_count": 63,
     "metadata": {},
     "output_type": "execute_result"
    }
   ],
   "source": [
    "a*10000 % 10"
   ]
  },
  {
   "cell_type": "code",
   "execution_count": 73,
   "id": "3034773e-9fa2-429e-9846-069688f31078",
   "metadata": {},
   "outputs": [
    {
     "name": "stdout",
     "output_type": "stream",
     "text": [
      "165 µs ± 776 ns per loop (mean ± std. dev. of 7 runs, 10,000 loops each)\n"
     ]
    }
   ],
   "source": [
    "%timeit new_d = rng.random(data.shape, dtype=float)"
   ]
  },
  {
   "cell_type": "code",
   "execution_count": 110,
   "id": "c8c00ac2-4735-47b5-af1d-4a13cab15ac3",
   "metadata": {},
   "outputs": [
    {
     "name": "stdout",
     "output_type": "stream",
     "text": [
      "37 µs ± 1.06 µs per loop (mean ± std. dev. of 7 runs, 10,000 loops each)\n"
     ]
    }
   ],
   "source": [
    "%timeit new_d = np.full(data.shape, False); new_d[data < 0.01] = rng.random(np.count_nonzero(data < 0.01)) > 0.75"
   ]
  },
  {
   "cell_type": "code",
   "execution_count": null,
   "id": "a1e10633-06a6-49ff-9728-f1450b062340",
   "metadata": {},
   "outputs": [],
   "source": [
    "data[(data < 0.01)]"
   ]
  },
  {
   "cell_type": "code",
   "execution_count": 115,
   "id": "1c694468-807c-4ae1-b833-4ae58d3ccd6c",
   "metadata": {},
   "outputs": [
    {
     "data": {
      "text/plain": [
       "110"
      ]
     },
     "execution_count": 115,
     "metadata": {},
     "output_type": "execute_result"
    }
   ],
   "source": [
    "np.count_nonzero(data < 0.01)"
   ]
  },
  {
   "cell_type": "code",
   "execution_count": 64,
   "id": "a01f9572-7c29-419c-b74d-2bf05cc6013d",
   "metadata": {},
   "outputs": [
    {
     "name": "stdout",
     "output_type": "stream",
     "text": [
      "2.2 µs ± 9.33 ns per loop (mean ± std. dev. of 7 runs, 100,000 loops each)\n"
     ]
    }
   ],
   "source": [
    "%timeit data[tuple(location.T)]"
   ]
  },
  {
   "cell_type": "code",
   "execution_count": 128,
   "id": "37f87876-c01a-4381-8683-584772db06de",
   "metadata": {},
   "outputs": [
    {
     "ename": "NameError",
     "evalue": "name 'locationT' is not defined",
     "output_type": "error",
     "traceback": [
      "\u001b[1;31m---------------------------------------------------------------------------\u001b[0m",
      "\u001b[1;31mNameError\u001b[0m                                 Traceback (most recent call last)",
      "Cell \u001b[1;32mIn[128], line 1\u001b[0m\n\u001b[1;32m----> 1\u001b[0m \u001b[43mlocationT\u001b[49m\n",
      "\u001b[1;31mNameError\u001b[0m: name 'locationT' is not defined"
     ]
    }
   ],
   "source": [
    "locationT"
   ]
  },
  {
   "cell_type": "code",
   "execution_count": 78,
   "id": "1e306b67-12ba-4794-b3eb-17e26065c737",
   "metadata": {},
   "outputs": [
    {
     "data": {
      "text/plain": [
       "array([0.73752823, 0.57452464, 0.6823716 , 0.57814854, 0.42116801,\n",
       "       0.35067002, 0.31266756, 0.51783093, 0.20255732, 0.56533216,\n",
       "       0.57485138, 0.91181032, 0.73931556, 0.94478289, 0.42156745,\n",
       "       0.4494924 , 0.42644033, 0.10955549, 0.94970583, 0.79183916,\n",
       "       0.5095001 , 0.3913175 , 0.29846125, 0.41366644, 0.42644033,\n",
       "       0.8902221 , 0.49076551, 0.21668166, 0.57452464, 0.94462407])"
      ]
     },
     "execution_count": 78,
     "metadata": {},
     "output_type": "execute_result"
    }
   ],
   "source": [
    "data[locationx, locationy]"
   ]
  },
  {
   "cell_type": "code",
   "execution_count": 65,
   "id": "3b38f682-9d97-44ea-96c5-cf297a026d71",
   "metadata": {},
   "outputs": [
    {
     "name": "stdout",
     "output_type": "stream",
     "text": [
      "2.06 µs ± 25.1 ns per loop (mean ± std. dev. of 7 runs, 100,000 loops each)\n"
     ]
    }
   ],
   "source": [
    "%timeit data[tuple(locationT)]"
   ]
  },
  {
   "cell_type": "code",
   "execution_count": 80,
   "id": "f61f3f9a-4c4b-410a-a6dd-16de2c48d89b",
   "metadata": {},
   "outputs": [
    {
     "name": "stdout",
     "output_type": "stream",
     "text": [
      "1.46 µs ± 11.1 ns per loop (mean ± std. dev. of 7 runs, 1,000,000 loops each)\n"
     ]
    }
   ],
   "source": [
    "%timeit data[locationT[0], locationT[1]]"
   ]
  },
  {
   "cell_type": "code",
   "execution_count": 79,
   "id": "ff30af26-9a66-4d16-ad97-bf27b240c113",
   "metadata": {},
   "outputs": [
    {
     "name": "stdout",
     "output_type": "stream",
     "text": [
      "1.17 µs ± 7.79 ns per loop (mean ± std. dev. of 7 runs, 1,000,000 loops each)\n"
     ]
    }
   ],
   "source": [
    "%timeit data[locationx, locationy]"
   ]
  },
  {
   "cell_type": "code",
   "execution_count": 82,
   "id": "162b2540-db57-42b2-8dcb-619a4a39fc24",
   "metadata": {},
   "outputs": [
    {
     "name": "stdout",
     "output_type": "stream",
     "text": [
      "1.18 µs ± 14.6 ns per loop (mean ± std. dev. of 7 runs, 1,000,000 loops each)\n"
     ]
    }
   ],
   "source": [
    "%timeit data[locationx, locationy]"
   ]
  },
  {
   "cell_type": "code",
   "execution_count": 41,
   "id": "9cbd37c3-b2bd-4604-9687-2414cc8d52cf",
   "metadata": {},
   "outputs": [],
   "source": [
    "period = 10\n",
    "my_list = np.arange(period)\n",
    "pointer = 8\n",
    "count = 6\n",
    "out = np.empty(count)"
   ]
  },
  {
   "cell_type": "code",
   "execution_count": 45,
   "id": "c21695db-375e-4caa-aee2-89050e449fdb",
   "metadata": {},
   "outputs": [
    {
     "data": {
      "text/plain": [
       "(array([8., 9., 0., 1., 2., 3.]), 3)"
      ]
     },
     "execution_count": 45,
     "metadata": {},
     "output_type": "execute_result"
    }
   ],
   "source": [
    "my_list[pointer:pointer+count]\n",
    "out[:period-pointer] = my_list[pointer:]\n",
    "out[period-pointer:] = my_list[:pointer+count-period]\n",
    "pointer = pointer + count - period - 1\n",
    "out, pointer"
   ]
  },
  {
   "cell_type": "markdown",
   "id": "065ef2f7-d625-4337-b919-64f17bfbcf2c",
   "metadata": {},
   "source": [
    "I want\n",
    "\n",
    "out = [8, 9, 0, 1, 2, 3]\n",
    "pointer = 3"
   ]
  },
  {
   "cell_type": "code",
   "execution_count": 157,
   "id": "f5c6045f-1059-4364-b364-4105932800ae",
   "metadata": {},
   "outputs": [],
   "source": [
    "a = np.array([(1,2),(1,3),(2,3),(1,2)]).T"
   ]
  },
  {
   "cell_type": "code",
   "execution_count": 163,
   "id": "a50f9fe0-6171-4707-83c3-9a507d51d2b2",
   "metadata": {},
   "outputs": [
    {
     "data": {
      "text/plain": [
       "(2, 3)"
      ]
     },
     "execution_count": 163,
     "metadata": {},
     "output_type": "execute_result"
    }
   ],
   "source": [
    "np.unique(a, axis=1).shape"
   ]
  },
  {
   "cell_type": "code",
   "execution_count": 154,
   "id": "8ceb5837-c038-46c4-90e9-781ecc125852",
   "metadata": {},
   "outputs": [],
   "source": [
    "a = np.array([locationx, locationy])"
   ]
  },
  {
   "cell_type": "code",
   "execution_count": 173,
   "id": "d4ec4736-9b22-4d3b-8c07-3629bfe2b71f",
   "metadata": {},
   "outputs": [
    {
     "data": {
      "text/plain": [
       "array([[1, 1, 2, 1],\n",
       "       [2, 3, 3, 2]])"
      ]
     },
     "execution_count": 173,
     "metadata": {},
     "output_type": "execute_result"
    }
   ],
   "source": [
    "a"
   ]
  },
  {
   "cell_type": "code",
   "execution_count": 164,
   "id": "1405e6b5-80ac-4539-a34b-6205211ca15e",
   "metadata": {},
   "outputs": [
    {
     "name": "stdout",
     "output_type": "stream",
     "text": [
      "16.8 µs ± 44.2 ns per loop (mean ± std. dev. of 7 runs, 100,000 loops each)\n"
     ]
    }
   ],
   "source": [
    "%timeit np.c_[locationx, locationy]"
   ]
  },
  {
   "cell_type": "code",
   "execution_count": 165,
   "id": "45a3a51d-89ea-43d9-b6e9-48ff8cdc3902",
   "metadata": {},
   "outputs": [
    {
     "name": "stdout",
     "output_type": "stream",
     "text": [
      "4.45 µs ± 56.8 ns per loop (mean ± std. dev. of 7 runs, 100,000 loops each)\n"
     ]
    }
   ],
   "source": [
    "%timeit np.dstack((locationx, locationy)).squeeze()"
   ]
  },
  {
   "cell_type": "code",
   "execution_count": 166,
   "id": "038c77d9-46ec-4ae2-9585-daed83ed2959",
   "metadata": {},
   "outputs": [
    {
     "name": "stdout",
     "output_type": "stream",
     "text": [
      "4.83 µs ± 29.2 ns per loop (mean ± std. dev. of 7 runs, 100,000 loops each)\n"
     ]
    }
   ],
   "source": [
    "%timeit np.vstack((locationx, locationy)).T"
   ]
  },
  {
   "cell_type": "code",
   "execution_count": 167,
   "id": "c0aa0d7e-2132-450d-b3a1-8ebce72e7a11",
   "metadata": {},
   "outputs": [
    {
     "name": "stdout",
     "output_type": "stream",
     "text": [
      "2.27 µs ± 11.5 ns per loop (mean ± std. dev. of 7 runs, 100,000 loops each)\n"
     ]
    }
   ],
   "source": [
    "%timeit np.concatenate((locationx, locationy)).reshape((-1, 2), order='F')"
   ]
  },
  {
   "cell_type": "code",
   "execution_count": 38,
   "id": "d7cb45b2-6626-42fb-9aa1-34e28c47fe7d",
   "metadata": {},
   "outputs": [
    {
     "data": {
      "text/plain": [
       "array([[ 1,  9,  7,  5,  1,  9,  9,  7,  1,  2,  2,  8,  5,  7,  1,  7,\n",
       "         7,  2,  6,  4,  5,  2,  0,  3,  7,  9,  3,  4,  4,  1],\n",
       "       [ 9, 35,  4, 41,  3, 14, 43, 31,  3, 47, 18,  3, 15, 44, 22,  5,\n",
       "        31, 47, 32,  0,  0,  3, 23, 45, 48, 46, 35, 24, 17, 19]],\n",
       "      dtype=int64)"
      ]
     },
     "execution_count": 38,
     "metadata": {},
     "output_type": "execute_result"
    }
   ],
   "source": [
    "np.concatenate((locationx, locationy)).reshape((2, -1))"
   ]
  },
  {
   "cell_type": "code",
   "execution_count": 178,
   "id": "04784f8e-8c32-4d8f-91ae-1451892fdaf6",
   "metadata": {},
   "outputs": [
    {
     "name": "stdout",
     "output_type": "stream",
     "text": [
      "54.2 µs ± 759 ns per loop (mean ± std. dev. of 7 runs, 10,000 loops each)\n"
     ]
    }
   ],
   "source": [
    "%timeit np.unique(np.concatenate((locationx, locationy)).reshape((-1, 2)), axis=0).shape[0]"
   ]
  },
  {
   "cell_type": "code",
   "execution_count": 170,
   "id": "feba8888-b1ff-4a94-a1b6-a49ab9a13a34",
   "metadata": {},
   "outputs": [
    {
     "data": {
      "text/plain": [
       "array([[ 0,  8,  8,  6,  4,  2,  7,  7,  3,  3,  3,  3,  1,  2,  3,  9,\n",
       "         8,  1,  4,  4,  7,  2,  3,  0,  8,  6,  0,  7,  9,  8],\n",
       "       [48, 37, 27, 17, 24, 47, 14, 40, 46,  6, 29, 15, 11, 33, 20, 36,\n",
       "         2, 40,  2, 11, 10, 25, 43, 13, 35, 12, 26, 14, 13, 25]],\n",
       "      dtype=int64)"
      ]
     },
     "execution_count": 170,
     "metadata": {},
     "output_type": "execute_result"
    }
   ],
   "source": [
    "np.concatenate((locationx, locationy)).reshape((2, -1), order='C')"
   ]
  },
  {
   "cell_type": "code",
   "execution_count": 182,
   "id": "de1d9b11-a461-48c8-8845-36e9f57b7b1e",
   "metadata": {},
   "outputs": [
    {
     "data": {
      "text/plain": [
       "(array([8, 8, 2, 1, 8]),\n",
       " array([8.45630955, 8.6679034 , 2.2179064 , 1.40474837, 8.05285945]))"
      ]
     },
     "execution_count": 182,
     "metadata": {},
     "output_type": "execute_result"
    }
   ],
   "source": [
    "a = np.empty(5, dtype=int)\n",
    "b = rng.random(5)*10\n",
    "a[:] = b\n",
    "a, b"
   ]
  },
  {
   "cell_type": "code",
   "execution_count": 2,
   "id": "680c7447-7e72-448a-9fe3-8854b6ce8006",
   "metadata": {},
   "outputs": [],
   "source": [
    "import cupy as cp"
   ]
  },
  {
   "cell_type": "code",
   "execution_count": 5,
   "id": "d6cabe34-c039-4e67-ab97-7b33f8c0c78f",
   "metadata": {},
   "outputs": [
    {
     "data": {
      "text/plain": [
       "array([[0.99837226, 0.23504539, 0.5805279 , ..., 0.04231225, 0.86683309,\n",
       "        0.76809978],\n",
       "       [0.15520181, 0.40666112, 0.65112925, ..., 0.78392226, 0.07917176,\n",
       "        0.83056718],\n",
       "       [0.92990172, 0.13181619, 0.63987201, ..., 0.78127569, 0.04968871,\n",
       "        0.25467855],\n",
       "       ...,\n",
       "       [0.82053894, 0.72198588, 0.21543927, ..., 0.48202854, 0.2880998 ,\n",
       "        0.68291485],\n",
       "       [0.44019663, 0.80035603, 0.99645919, ..., 0.11915003, 0.26551479,\n",
       "        0.57375377],\n",
       "       [0.90528816, 0.2954731 , 0.77608824, ..., 0.87461948, 0.11690058,\n",
       "        0.35273913]])"
      ]
     },
     "execution_count": 5,
     "metadata": {},
     "output_type": "execute_result"
    }
   ],
   "source": [
    "data"
   ]
  },
  {
   "cell_type": "code",
   "execution_count": 8,
   "id": "cc6708d7-d428-4253-b8d3-0449e4111778",
   "metadata": {},
   "outputs": [
    {
     "data": {
      "text/plain": [
       "459"
      ]
     },
     "execution_count": 8,
     "metadata": {},
     "output_type": "execute_result"
    }
   ],
   "source": [
    "int(cp.count_nonzero(data > 0.7))"
   ]
  },
  {
   "cell_type": "code",
   "execution_count": 3,
   "id": "7ceb493e-4add-4783-8cdf-6de218ac59df",
   "metadata": {},
   "outputs": [],
   "source": [
    "import lysis"
   ]
  },
  {
   "cell_type": "code",
   "execution_count": 5,
   "id": "b09818bf-55b0-4217-9c70-41274241f725",
   "metadata": {},
   "outputs": [],
   "source": [
    "neighbors = lysis.EdgeGrid.generate_neighborhood_structure(e)"
   ]
  },
  {
   "cell_type": "code",
   "execution_count": 6,
   "id": "7e84db38-29ba-4867-aa33-1058f4510144",
   "metadata": {},
   "outputs": [
    {
     "data": {
      "text/plain": [
       "array([[    1,     1,   363, ...,   364,     2,   364],\n",
       "       [    0,     0,     0, ...,     2,     2,     2],\n",
       "       [    0,     3,     0, ...,     1,     4,     4],\n",
       "       ...,\n",
       "       [33299, 33302, 33299, ..., 33662, 33665, 33665],\n",
       "       [65535, 65535, 65535, ..., 65535, 65535, 65535],\n",
       "       [33302, 33302, 33302, ..., 33663, 33663, 33663]], dtype=uint16)"
      ]
     },
     "execution_count": 6,
     "metadata": {},
     "output_type": "execute_result"
    }
   ],
   "source": [
    "neighbors"
   ]
  },
  {
   "cell_type": "code",
   "execution_count": 3,
   "id": "e34a9b56-a6f5-49ec-b4dc-268363f56bae",
   "metadata": {},
   "outputs": [
    {
     "name": "stdout",
     "output_type": "stream",
     "text": [
      "333 µs ± 3.07 µs per loop (mean ± std. dev. of 7 runs, 1,000 loops each)\n"
     ]
    }
   ],
   "source": [
    "%timeit rand = rng.random(100000)"
   ]
  },
  {
   "cell_type": "code",
   "execution_count": 11,
   "id": "72bcc4d2-90a9-46f3-9293-eec9bb514c99",
   "metadata": {},
   "outputs": [
    {
     "name": "stdout",
     "output_type": "stream",
     "text": [
      "15.5 µs ± 1.01 µs per loop (mean ± std. dev. of 7 runs, 10,000 loops each)\n"
     ]
    }
   ],
   "source": [
    "%timeit rand = crng.random(1281*10)"
   ]
  },
  {
   "cell_type": "code",
   "execution_count": 29,
   "id": "ae6fe913-9b81-4ecb-901b-8766fc9fce69",
   "metadata": {},
   "outputs": [
    {
     "name": "stdout",
     "output_type": "stream",
     "text": [
      "83x120000: 9.39\n",
      "82x121000: 9.11\n",
      "81x122000: 9.07\n",
      "81x123000: 9.14\n",
      "80x124000: 9.11\n",
      "80x125000: 9.16\n",
      "79x126000: 9.12\n",
      "78x127000: 9.08\n",
      "78x128000: 9.15\n",
      "77x129000: 9.09\n",
      "76x130000: 9.05\n",
      "76x131000: 9.11\n",
      "75x132000: 9.27\n",
      "75x133000: 9.34\n",
      "74x134000: 9.28\n",
      "74x135000: 9.33\n",
      "73x136000: 9.26\n",
      "72x137000: 9.22\n",
      "72x138000: 9.26\n",
      "71x139000: 9.21\n",
      "71x140000: 9.25\n",
      "70x141000: 9.2\n",
      "70x142000: 9.24\n",
      "69x143000: 9.18\n",
      "69x144000: 9.23\n",
      "68x145000: 9.16\n",
      "68x146000: 9.21\n",
      "68x147000: 9.27\n",
      "67x148000: 9.19\n",
      "67x149000: 9.26\n",
      "66x150000: 9.19\n",
      "66x151000: 9.25\n",
      "65x152000: 9.18\n",
      "65x153000: 9.21\n",
      "64x154000: 9.12\n",
      "64x155000: 9.16\n",
      "64x156000: 9.21\n",
      "63x157000: 9.14\n",
      "63x158000: 9.2\n",
      "62x159000: 9.08\n",
      "62x160000: 9.15\n",
      "62x161000: 9.22\n",
      "61x162000: 9.1\n",
      "61x163000: 9.15\n",
      "60x164000: 9.07\n",
      "60x165000: 9.13\n",
      "60x166000: 9.15\n",
      "59x167000: 9.08\n",
      "59x168000: 9.11\n",
      "59x169000: 9.18\n",
      "58x170000: 9.07\n",
      "58x171000: 9.13\n",
      "58x172000: 9.27\n",
      "57x173000: 9.02\n",
      "57x174000: 9.11\n",
      "57x175000: 9.16\n",
      "56x176000: 9.06\n",
      "56x177000: 9.11\n",
      "56x178000: 9.12\n",
      "55x179000: 8.98\n",
      "55x180000: 9.21\n",
      "55x181000: 9.12\n",
      "54x182000: 9.0\n",
      "54x183000: 9.2\n",
      "54x184000: 9.09\n",
      "54x185000: 9.26\n",
      "53x186000: 9.0\n",
      "53x187000: 9.05\n",
      "53x188000: 9.16\n",
      "52x189000: 9.13\n"
     ]
    }
   ],
   "source": [
    "for i in np.arange(120, 190):\n",
    "    t = timeit(stmt=\"for j in np.arange(10000000//(i * 1000)): \" +\n",
    "               \"temp[1000*i*j:(1000*i)*(j+1)] = crng.random(1000*i)\",\n",
    "               setup=\"temp = cp.full(10000000, 0.0, dtype=float)\",\n",
    "               number=1000, globals=globals())\n",
    "    print(f\"{10000000//(i * 1000)}x{1000*i}: {t:.3}\")"
   ]
  },
  {
   "cell_type": "code",
   "execution_count": null,
   "id": "f1f5ed5a-39bf-4058-9b83-a9e6d1637471",
   "metadata": {},
   "outputs": [],
   "source": []
  }
 ],
 "metadata": {
  "kernelspec": {
   "display_name": "Python 3 (ipykernel)",
   "language": "python",
   "name": "python3"
  },
  "language_info": {
   "codemirror_mode": {
    "name": "ipython",
    "version": 3
   },
   "file_extension": ".py",
   "mimetype": "text/x-python",
   "name": "python",
   "nbconvert_exporter": "python",
   "pygments_lexer": "ipython3",
   "version": "3.10.8"
  }
 },
 "nbformat": 4,
 "nbformat_minor": 5
}
