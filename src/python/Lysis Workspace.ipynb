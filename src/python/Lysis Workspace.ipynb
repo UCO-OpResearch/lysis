{
 "cells": [
  {
   "cell_type": "code",
   "execution_count": 1,
   "id": "619f6483-d1b3-4801-ba47-1bc013684de3",
   "metadata": {},
   "outputs": [],
   "source": [
    "import cProfile\n",
    "import lysis\n",
    "import math\n",
    "import numpy as np"
   ]
  },
  {
   "cell_type": "code",
   "execution_count": 2,
   "id": "ed5980ec-9c56-434c-9c43-d4ab2c57d69b",
   "metadata": {},
   "outputs": [],
   "source": [
    "e = lysis.util.Experiment(r'..\\..\\data', experiment_code='2022-12-27-1100')\n",
    "e.read_file()"
   ]
  },
  {
   "cell_type": "code",
   "execution_count": 3,
   "id": "4b2c9791-a340-4ea1-9841-f15dddeb3553",
   "metadata": {},
   "outputs": [],
   "source": [
    "macro = lysis.MacroscaleRun(e)"
   ]
  },
  {
   "cell_type": "code",
   "execution_count": null,
   "id": "41df1e6c-d83a-4989-830f-b6a6079feed8",
   "metadata": {},
   "outputs": [],
   "source": [
    "cProfile.run(macro.run())"
   ]
  },
  {
   "cell_type": "code",
   "execution_count": null,
   "id": "4201e541-6a7f-4953-beb9-dfe734955a3c",
   "metadata": {
    "collapsed": true,
    "jupyter": {
     "outputs_hidden": true
    },
    "tags": []
   },
   "outputs": [],
   "source": [
    "print(e)"
   ]
  },
  {
   "cell_type": "code",
   "execution_count": 4,
   "id": "2fad0643-a66f-431e-ab72-cf8f530b22f7",
   "metadata": {},
   "outputs": [],
   "source": [
    "rng = np.random.default_rng(seed=24375893)"
   ]
  },
  {
   "cell_type": "code",
   "execution_count": 7,
   "id": "899d802e-90ea-4d24-9ba8-704fd68d853b",
   "metadata": {},
   "outputs": [
    {
     "data": {
      "text/plain": [
       "-0.42198885699956534"
      ]
     },
     "execution_count": 7,
     "metadata": {},
     "output_type": "execute_result"
    }
   ],
   "source": [
    "math.log(rng.random())"
   ]
  },
  {
   "cell_type": "code",
   "execution_count": null,
   "id": "72a72015-e126-4228-88e0-b01c44f481e3",
   "metadata": {},
   "outputs": [],
   "source": [
    "fg = lysis.EdgeGrid(4, 5, 0, (lysis.util.BoundaryCondition.CONTINUING, lysis.util.BoundaryCondition.REFLECTING))"
   ]
  },
  {
   "cell_type": "code",
   "execution_count": null,
   "id": "1337b169-fa73-4d47-9f6e-be0dd0076092",
   "metadata": {},
   "outputs": [],
   "source": [
    "[fg.neighbor(1, 6, k) for k in range(8)]"
   ]
  },
  {
   "cell_type": "code",
   "execution_count": null,
   "id": "cfef6cfe-2c08-4d3e-a351-5080da2f1ed9",
   "metadata": {},
   "outputs": [],
   "source": [
    "lysis.to_fortran_edge_index(0, 3, 4, 5)"
   ]
  },
  {
   "cell_type": "code",
   "execution_count": null,
   "id": "04216017-527f-499c-a60b-dc9c8355d190",
   "metadata": {},
   "outputs": [],
   "source": [
    "lysis.from_fortran_edge_index(51, 4, 5)"
   ]
  },
  {
   "cell_type": "code",
   "execution_count": null,
   "id": "5f99ef4d-3544-4960-ac8d-b2bf3a1ca498",
   "metadata": {},
   "outputs": [],
   "source": [
    "import numpy as np"
   ]
  },
  {
   "cell_type": "code",
   "execution_count": null,
   "id": "2c72ffd5-efd6-40d6-b88a-014af03d248a",
   "metadata": {},
   "outputs": [],
   "source": [
    "a = 3.5*np.ones((3, 4), dtype=np.double)\n",
    "a[1][2]"
   ]
  },
  {
   "cell_type": "code",
   "execution_count": null,
   "id": "62cd8abf-6266-4b70-ab72-29cb51354d17",
   "metadata": {},
   "outputs": [],
   "source": [
    "b = a[:2,:2]\n",
    "b"
   ]
  },
  {
   "cell_type": "code",
   "execution_count": null,
   "id": "311db5b7-e716-4526-8fc5-0a74554163eb",
   "metadata": {},
   "outputs": [],
   "source": [
    "b[0,0] = 0\n",
    "b"
   ]
  },
  {
   "cell_type": "code",
   "execution_count": null,
   "id": "ddac0742-430d-4cc7-a02a-05d407614b9c",
   "metadata": {},
   "outputs": [],
   "source": [
    "a"
   ]
  },
  {
   "cell_type": "code",
   "execution_count": null,
   "id": "d710cd6d-24b4-437e-bb80-b54706e1dfb9",
   "metadata": {},
   "outputs": [],
   "source": [
    "from enum import Enum, IntEnum, unique"
   ]
  },
  {
   "cell_type": "code",
   "execution_count": null,
   "id": "f8fa9c24-9955-4671-a57c-c2ef091afc9d",
   "metadata": {},
   "outputs": [],
   "source": [
    "@unique\n",
    "class Color(IntEnum):\n",
    "    BLUE = 0\n",
    "    RED = 1\n",
    "    GREEN = 2\n",
    "    \n",
    "@unique\n",
    "class Direction(Enum):\n",
    "    UP = 1\n",
    "    DOWN = -1"
   ]
  },
  {
   "cell_type": "code",
   "execution_count": null,
   "id": "1165051f-01cb-4c56-b25f-8d30089759ff",
   "metadata": {},
   "outputs": [],
   "source": [
    "Color.RED == Color.GREEN"
   ]
  },
  {
   "cell_type": "code",
   "execution_count": null,
   "id": "15edf66a-ed1e-4579-90c8-4f0090b7a46a",
   "metadata": {},
   "outputs": [],
   "source": [
    "Color.RED == Direction.UP"
   ]
  },
  {
   "cell_type": "code",
   "execution_count": null,
   "id": "fe46cb5b-1b36-47d9-8b3e-f795bc308393",
   "metadata": {},
   "outputs": [],
   "source": [
    "c = Color"
   ]
  },
  {
   "cell_type": "code",
   "execution_count": null,
   "id": "1fffe734-3ae9-4fa7-9ea9-0978f03a752c",
   "metadata": {},
   "outputs": [],
   "source": [
    "c.RED"
   ]
  },
  {
   "cell_type": "code",
   "execution_count": null,
   "id": "f4e2dc6e-4a97-4c49-9ee4-c60a3fd313ce",
   "metadata": {},
   "outputs": [],
   "source": [
    "t = (Direction.UP, Direction.UP, Direction.DOWN)"
   ]
  },
  {
   "cell_type": "code",
   "execution_count": null,
   "id": "91169cfa-e5c2-45a0-979b-9effd7be9f8a",
   "metadata": {},
   "outputs": [],
   "source": [
    "t[Color.BLUE]"
   ]
  },
  {
   "cell_type": "code",
   "execution_count": null,
   "id": "92ab398f-ccbb-420e-98f7-f289ea6454db",
   "metadata": {},
   "outputs": [],
   "source": [
    "type(Direction.UP)"
   ]
  },
  {
   "cell_type": "code",
   "execution_count": null,
   "id": "ad0e872a-701b-45dc-9f04-866723d791c9",
   "metadata": {},
   "outputs": [],
   "source": [
    "isinstance(Direction.UP, Direction)"
   ]
  },
  {
   "cell_type": "code",
   "execution_count": null,
   "id": "97d41f2c-8624-44da-9ee4-889e60a11b50",
   "metadata": {},
   "outputs": [],
   "source": [
    "import sys"
   ]
  },
  {
   "cell_type": "code",
   "execution_count": null,
   "id": "66afac29-1ffc-422a-8c16-6859bb0cc51a",
   "metadata": {},
   "outputs": [],
   "source": [
    "import lysis"
   ]
  },
  {
   "cell_type": "code",
   "execution_count": 10,
   "id": "6c0b5e89-2ef5-4a3e-a711-41e4540a2c1d",
   "metadata": {},
   "outputs": [
    {
     "data": {
      "text/plain": [
       "array([[1., 1., 1., 1., 1., 1., 1., 1., 1., 1.],\n",
       "       [1., 1., 1., 1., 1., 1., 1., 1., 1., 1.],\n",
       "       [1., 1., 1., 1., 1., 1., 1., 1., 1., 1.],\n",
       "       [1., 1., 1., 1., 1., 1., 1., 1., 1., 1.],\n",
       "       [1., 1., 1., 1., 1., 1., 1., 1., 1., 1.]])"
      ]
     },
     "execution_count": 10,
     "metadata": {},
     "output_type": "execute_result"
    }
   ],
   "source": [
    "a = np.ones((5, 10))\n",
    "a"
   ]
  },
  {
   "cell_type": "code",
   "execution_count": 11,
   "id": "9a55ef2f-6ca0-4666-96df-b51d5530d3d4",
   "metadata": {},
   "outputs": [],
   "source": [
    "a[:3] = 3"
   ]
  },
  {
   "cell_type": "code",
   "execution_count": 12,
   "id": "3d058778-99e5-4b18-ab6d-f2897e62f166",
   "metadata": {},
   "outputs": [
    {
     "data": {
      "text/plain": [
       "array([[3., 3., 3., 3., 3., 3., 3., 3., 3., 3.],\n",
       "       [3., 3., 3., 3., 3., 3., 3., 3., 3., 3.],\n",
       "       [3., 3., 3., 3., 3., 3., 3., 3., 3., 3.],\n",
       "       [1., 1., 1., 1., 1., 1., 1., 1., 1., 1.],\n",
       "       [1., 1., 1., 1., 1., 1., 1., 1., 1., 1.]])"
      ]
     },
     "execution_count": 12,
     "metadata": {},
     "output_type": "execute_result"
    }
   ],
   "source": [
    "a"
   ]
  },
  {
   "cell_type": "code",
   "execution_count": 15,
   "id": "53936333-a384-46a9-ab2e-015705c434f8",
   "metadata": {},
   "outputs": [],
   "source": [
    "A = np.empty((5, 10), dtype=object)\n",
    "for i, j in np.ndindex(5, 10):\n",
    "    A[i, j] = []"
   ]
  },
  {
   "cell_type": "code",
   "execution_count": 16,
   "id": "1803dab2-6b28-4690-9228-ece17e22bbf3",
   "metadata": {},
   "outputs": [],
   "source": [
    "A[4, 3].append(4)"
   ]
  },
  {
   "cell_type": "code",
   "execution_count": 17,
   "id": "9080e618-96dc-4e7b-b1f1-3f5aecda07a3",
   "metadata": {},
   "outputs": [
    {
     "data": {
      "text/plain": [
       "array([[list([]), list([]), list([]), list([]), list([]), list([]),\n",
       "        list([]), list([]), list([]), list([])],\n",
       "       [list([]), list([]), list([]), list([]), list([]), list([]),\n",
       "        list([]), list([]), list([]), list([])],\n",
       "       [list([]), list([]), list([]), list([]), list([]), list([]),\n",
       "        list([]), list([]), list([]), list([])],\n",
       "       [list([]), list([]), list([]), list([]), list([]), list([]),\n",
       "        list([]), list([]), list([]), list([])],\n",
       "       [list([]), list([]), list([]), list([4]), list([]), list([]),\n",
       "        list([]), list([]), list([]), list([])]], dtype=object)"
      ]
     },
     "execution_count": 17,
     "metadata": {},
     "output_type": "execute_result"
    }
   ],
   "source": [
    "A"
   ]
  },
  {
   "cell_type": "code",
   "execution_count": 5,
   "id": "fdb17a26-734c-493a-bb21-6d1663f7ea37",
   "metadata": {},
   "outputs": [],
   "source": [
    "import numpy as \n",
    "rng = np.random.default_rng(seed=5748394)"
   ]
  },
  {
   "cell_type": "code",
   "execution_count": 4,
   "id": "c1cc2db0-3786-41a6-9b4a-ac3d70ab4faa",
   "metadata": {},
   "outputs": [
    {
     "name": "stdout",
     "output_type": "stream",
     "text": [
      "55.2 µs ± 23.2 µs per loop (mean ± std. dev. of 7 runs, 1 loop each)\n"
     ]
    }
   ],
   "source": [
    "a = cp.empty(10000)\n",
    "%timeit rng.random(out=a)"
   ]
  },
  {
   "cell_type": "code",
   "execution_count": 5,
   "id": "044858a4-b10e-4ddf-bd8c-c573a8c64f18",
   "metadata": {},
   "outputs": [
    {
     "name": "stdout",
     "output_type": "stream",
     "text": [
      "656 ms ± 42.4 ms per loop (mean ± std. dev. of 7 runs, 1 loop each)\n"
     ]
    }
   ],
   "source": [
    "a = cp.empty(10000)\n",
    "%timeit for i in cp.arange(a.size): a[i] = rng.random()"
   ]
  },
  {
   "cell_type": "code",
   "execution_count": 9,
   "id": "42d2493a-cdb8-4ed4-8539-70690766d492",
   "metadata": {},
   "outputs": [
    {
     "data": {
      "text/plain": [
       "0.8534137010574341"
      ]
     },
     "execution_count": 9,
     "metadata": {},
     "output_type": "execute_result"
    }
   ],
   "source": [
    "float(rng.random())"
   ]
  },
  {
   "cell_type": "code",
   "execution_count": 2,
   "id": "4c278faf-1edf-4a83-8791-5aeeaa289a6a",
   "metadata": {},
   "outputs": [],
   "source": [
    "import lysis\n",
    "import math\n",
    "import numpy as np\n",
    "import cupy as cp"
   ]
  },
  {
   "cell_type": "code",
   "execution_count": 2,
   "id": "460a8853-5bd8-4662-a85b-3dd6f52e7cfa",
   "metadata": {},
   "outputs": [],
   "source": [
    "e = lysis.util.Experiment(r'../../data', experiment_code='2022-12-27-1100')\n",
    "e.initialize_macro_param()\n",
    "macro = lysis.MacroscaleRun(e)"
   ]
  },
  {
   "cell_type": "code",
   "execution_count": 3,
   "id": "7b17e321-6bf8-4e04-a25e-5b836a1cddc6",
   "metadata": {},
   "outputs": [],
   "source": [
    "def find_binding_time(macro, current_time: float) -> float:\n",
    "    binding_time_interval = -math.log(macro.rng.random()) / (macro.exp.macro_params.binding_rate\n",
    "                                                            * macro.exp.macro_params.binding_sites)\n",
    "    return current_time + binding_time_interval - macro.exp.macro_params.time_step / 2"
   ]
  },
  {
   "cell_type": "code",
   "execution_count": 6,
   "id": "fcd48f1c-1b0b-4ccc-b93e-01519aee759d",
   "metadata": {},
   "outputs": [
    {
     "name": "stdout",
     "output_type": "stream",
     "text": [
      "3.19 s ± 17 ms per loop (mean ± std. dev. of 7 runs, 1 loop each)\n"
     ]
    }
   ],
   "source": [
    "%%timeit\n",
    "for i in np.arange(1000000):\n",
    "    find_binding_time(macro, 10.0*i)"
   ]
  },
  {
   "cell_type": "code",
   "execution_count": 4,
   "id": "a3cb5f40-5964-45ed-bc27-411f845fc17c",
   "metadata": {},
   "outputs": [
    {
     "name": "stdout",
     "output_type": "stream",
     "text": [
      "2.16 s ± 14 ms per loop (mean ± std. dev. of 7 runs, 1 loop each)\n"
     ]
    }
   ],
   "source": [
    "%%timeit\n",
    "for i in np.arange(1000000):\n",
    "    macro.find_binding_time(10.0*i)"
   ]
  },
  {
   "cell_type": "code",
   "execution_count": 3,
   "id": "56f2c496-43ed-4961-8615-97fe92918b9c",
   "metadata": {},
   "outputs": [],
   "source": [
    "rng = cp.random.default_rng(seed=54534534)"
   ]
  },
  {
   "cell_type": "code",
   "execution_count": null,
   "id": "3fa4cc9c-f23d-48be-9df1-3022a80b1039",
   "metadata": {},
   "outputs": [],
   "source": []
  }
 ],
 "metadata": {
  "kernelspec": {
   "display_name": "Python 3 (ipykernel)",
   "language": "python",
   "name": "python3"
  },
  "language_info": {
   "codemirror_mode": {
    "name": "ipython",
    "version": 3
   },
   "file_extension": ".py",
   "mimetype": "text/x-python",
   "name": "python",
   "nbconvert_exporter": "python",
   "pygments_lexer": "ipython3",
   "version": "3.11.0"
  }
 },
 "nbformat": 4,
 "nbformat_minor": 5
}
