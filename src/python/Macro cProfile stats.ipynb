{
 "cells": [
  {
   "cell_type": "code",
   "execution_count": 1,
   "id": "d08a4b7f-1a78-4d35-9bde-829212a01ea5",
   "metadata": {},
   "outputs": [],
   "source": [
    "import glob\n",
    "import io\n",
    "import os\n",
    "import pstats\n",
    "\n",
    "from pstats import SortKey\n",
    "from datetime import datetime\n",
    "\n",
    "import lysis"
   ]
  },
  {
   "cell_type": "code",
   "execution_count": 2,
   "id": "de23677a-e2f2-426f-820d-d552e14a0611",
   "metadata": {},
   "outputs": [
    {
     "ename": "RuntimeError",
     "evalue": "degradation_state already exists (as deg.dat). This module should NOT be used for modifying existing data on disk.",
     "output_type": "error",
     "traceback": [
      "\u001b[1;31m---------------------------------------------------------------------------\u001b[0m",
      "\u001b[1;31mRuntimeError\u001b[0m                              Traceback (most recent call last)",
      "Cell \u001b[1;32mIn[2], line 4\u001b[0m\n\u001b[0;32m      2\u001b[0m p \u001b[38;5;241m=\u001b[39m {\u001b[38;5;124m'\u001b[39m\u001b[38;5;124mtotal_time\u001b[39m\u001b[38;5;124m'\u001b[39m: \u001b[38;5;241m1\u001b[39m}\n\u001b[0;32m      3\u001b[0m e\u001b[38;5;241m.\u001b[39minitialize_macro_param(p)\n\u001b[1;32m----> 4\u001b[0m macro \u001b[38;5;241m=\u001b[39m \u001b[43mlysis\u001b[49m\u001b[38;5;241;43m.\u001b[39;49m\u001b[43mMacroscaleRun\u001b[49m\u001b[43m(\u001b[49m\u001b[43me\u001b[49m\u001b[43m)\u001b[49m\n",
      "File \u001b[1;32mE:\\git\\UCO-OpResearch\\lysis\\src\\python\\lysis\\np_macroscale.py:127\u001b[0m, in \u001b[0;36mMacroscaleRun.__init__\u001b[1;34m(self, exp, instance, seed)\u001b[0m\n\u001b[0;32m    123\u001b[0m \u001b[38;5;28mself\u001b[39m\u001b[38;5;241m.\u001b[39mnumber_reached_back_row \u001b[38;5;241m=\u001b[39m \u001b[38;5;241m0\u001b[39m\n\u001b[0;32m    125\u001b[0m \u001b[38;5;28mself\u001b[39m\u001b[38;5;241m.\u001b[39mcurrent_save_interval \u001b[38;5;241m=\u001b[39m \u001b[38;5;241m0\u001b[39m\n\u001b[1;32m--> 127\u001b[0m \u001b[38;5;28;43mself\u001b[39;49m\u001b[38;5;241;43m.\u001b[39;49m\u001b[43mexp\u001b[49m\u001b[38;5;241;43m.\u001b[39;49m\u001b[43mdata\u001b[49m\u001b[38;5;241;43m.\u001b[39;49m\u001b[43mdegradation_state\u001b[49m \u001b[38;5;241m=\u001b[39m np\u001b[38;5;241m.\u001b[39mempty(\n\u001b[0;32m    128\u001b[0m     (\u001b[38;5;28mself\u001b[39m\u001b[38;5;241m.\u001b[39mexp\u001b[38;5;241m.\u001b[39mmacro_params\u001b[38;5;241m.\u001b[39mnumber_of_saves, \u001b[38;5;28mself\u001b[39m\u001b[38;5;241m.\u001b[39mexp\u001b[38;5;241m.\u001b[39mmacro_params\u001b[38;5;241m.\u001b[39mtotal_fibers),\n\u001b[0;32m    129\u001b[0m     dtype\u001b[38;5;241m=\u001b[39mnp\u001b[38;5;241m.\u001b[39mfloat_,\n\u001b[0;32m    130\u001b[0m )\n\u001b[0;32m    132\u001b[0m \u001b[38;5;28mself\u001b[39m\u001b[38;5;241m.\u001b[39mlogger\u001b[38;5;241m.\u001b[39mdebug(\u001b[38;5;124mf\u001b[39m\u001b[38;5;124m\"\u001b[39m\u001b[38;5;124mInitialization complete.\u001b[39m\u001b[38;5;124m\"\u001b[39m)\n",
      "File \u001b[1;32mE:\\git\\UCO-OpResearch\\lysis\\src\\python\\lysis\\util\\datastore.py:97\u001b[0m, in \u001b[0;36mDataStore.__setattr__\u001b[1;34m(self, key, value)\u001b[0m\n\u001b[0;32m     95\u001b[0m     \u001b[38;5;28;01mraise\u001b[39;00m \u001b[38;5;167;01mRuntimeError\u001b[39;00m(\u001b[38;5;124mf\u001b[39m\u001b[38;5;124m\"\u001b[39m\u001b[38;5;132;01m{\u001b[39;00mkey\u001b[38;5;132;01m}\u001b[39;00m\u001b[38;5;124m not initialized. Use .new() first\u001b[39m\u001b[38;5;124m\"\u001b[39m)\n\u001b[0;32m     96\u001b[0m \u001b[38;5;28;01melif\u001b[39;00m DataStatus\u001b[38;5;241m.\u001b[39mSAVED \u001b[38;5;129;01min\u001b[39;00m \u001b[38;5;28mself\u001b[39m\u001b[38;5;241m.\u001b[39mstatus(key):\n\u001b[1;32m---> 97\u001b[0m     \u001b[38;5;28;01mraise\u001b[39;00m \u001b[38;5;167;01mRuntimeError\u001b[39;00m(\n\u001b[0;32m     98\u001b[0m         \u001b[38;5;124mf\u001b[39m\u001b[38;5;124m\"\u001b[39m\u001b[38;5;132;01m{\u001b[39;00mkey\u001b[38;5;132;01m}\u001b[39;00m\u001b[38;5;124m already exists (as \u001b[39m\u001b[38;5;132;01m{\u001b[39;00m\u001b[38;5;28mself\u001b[39m\u001b[38;5;241m.\u001b[39m_filenames[key]\u001b[38;5;132;01m}\u001b[39;00m\u001b[38;5;124m). \u001b[39m\u001b[38;5;124m\"\u001b[39m\n\u001b[0;32m     99\u001b[0m         \u001b[38;5;124mf\u001b[39m\u001b[38;5;124m\"\u001b[39m\u001b[38;5;124mThis module should NOT be used for modifying existing data on disk.\u001b[39m\u001b[38;5;124m\"\u001b[39m\n\u001b[0;32m    100\u001b[0m     )\n\u001b[0;32m    101\u001b[0m \u001b[38;5;28;01melif\u001b[39;00m DataStatus\u001b[38;5;241m.\u001b[39mLOADED \u001b[38;5;129;01min\u001b[39;00m \u001b[38;5;28mself\u001b[39m\u001b[38;5;241m.\u001b[39mstatus(key):\n\u001b[0;32m    102\u001b[0m     \u001b[38;5;28;01mraise\u001b[39;00m \u001b[38;5;167;01mRuntimeError\u001b[39;00m(\n\u001b[0;32m    103\u001b[0m         \u001b[38;5;124mf\u001b[39m\u001b[38;5;124m\"\u001b[39m\u001b[38;5;132;01m{\u001b[39;00mkey\u001b[38;5;132;01m}\u001b[39;00m\u001b[38;5;124m already has data in memory. Use .delete(), .overwrite(), \u001b[39m\u001b[38;5;124m\"\u001b[39m\n\u001b[0;32m    104\u001b[0m         \u001b[38;5;124mf\u001b[39m\u001b[38;5;124m\"\u001b[39m\u001b[38;5;124mor .append() instead.\u001b[39m\u001b[38;5;124m\"\u001b[39m\n\u001b[0;32m    105\u001b[0m     )\n",
      "\u001b[1;31mRuntimeError\u001b[0m: degradation_state already exists (as deg.dat). This module should NOT be used for modifying existing data on disk."
     ]
    }
   ],
   "source": [
    "e = lysis.util.Experiment(r'../../data', experiment_code='2022-12-27-1100')\n",
    "p = {'total_time': 1}\n",
    "e.initialize_macro_param(p)\n",
    "macro = lysis.MacroscaleRun(e)"
   ]
  },
  {
   "cell_type": "code",
   "execution_count": 3,
   "id": "b2e9140b-7cdd-47da-b0d1-51d29cf17c9b",
   "metadata": {},
   "outputs": [
    {
     "name": "stdout",
     "output_type": "stream",
     "text": [
      "Mon Jan 16 21:07:42 2023    ../../data\\2022-12-27-1100\\macro_pstats\\macro_pstats_2023-01-16-205548.sts\n",
      "\n",
      "         76734260 function calls (75937665 primitive calls) in 712.120 seconds\n",
      "\n",
      "   Ordered by: internal time\n",
      "   List reduced from 497 to 14 due to restriction <'macroscale'>\n",
      "\n",
      "   ncalls  tottime  percall  cumtime  percall filename:lineno(function)\n",
      "   584122  185.054    0.000  401.926    0.001 np_macroscale.py:201(move_to_empty_edge)\n",
      "        1   79.928   79.928  712.120  712.120 np_macroscale.py:264(run)\n",
      "   584122   58.966    0.000   82.729    0.000 np_macroscale.py:228(unrestricted_move)\n",
      "   584122   16.572    0.000  510.703    0.001 np_macroscale.py:240(move)\n",
      "   584122    7.729    0.000   19.961    0.000 np_macroscale.py:183(bind)\n",
      "   584122    7.239    0.000    7.239    0.000 np_macroscale.py:223(find_still_stuck)\n",
      "   584122    4.512    0.000    7.956    0.000 np_macroscale.py:129(unbind_by_time)\n",
      "   215512    4.326    0.000    6.626    0.000 np_macroscale.py:168(find_lysis_time)\n",
      "   688555    1.648    0.000    3.032    0.000 np_macroscale.py:97(next)\n",
      "   215512    1.262    0.000    3.336    0.000 np_macroscale.py:146(find_unbinding_time)\n",
      "   584122    0.594    0.000    2.771    0.000 np_macroscale.py:117(unbind_by_degradation)\n",
      "       98    0.577    0.006    0.902    0.009 np_macroscale.py:90(fill_list)\n",
      "       21    0.002    0.000    0.006    0.000 np_macroscale.py:255(save_data)\n",
      "        1    0.000    0.000    0.140    0.140 np_macroscale.py:260(record_data_to_disk)\n",
      "\n",
      "\n"
     ]
    },
    {
     "data": {
      "text/plain": [
       "<pstats.Stats at 0x2bbe93c6f50>"
      ]
     },
     "execution_count": 3,
     "metadata": {},
     "output_type": "execute_result"
    }
   ],
   "source": [
    "p = pstats.Stats(os.path.join(e.os_path, \"macro_pstats\", \"macro_pstats_2023-01-16-205548.sts\"))\n",
    "p.strip_dirs().sort_stats(SortKey.TIME).print_stats(\"macroscale\")"
   ]
  },
  {
   "cell_type": "code",
   "execution_count": 4,
   "id": "b1256941-dae2-433b-830b-6cf239274077",
   "metadata": {},
   "outputs": [
    {
     "name": "stdout",
     "output_type": "stream",
     "text": [
      "Wed Jan 18 19:48:55 2023    ../../data\\2022-12-27-1100\\macro_pstats\\macro_pstats_2023-01-18-191850.sts\n",
      "\n",
      "         87874207 function calls (87079396 primitive calls) in 1802.672 seconds\n",
      "\n",
      "   Ordered by: internal time\n",
      "   List reduced from 497 to 14 due to restriction <'macroscale'>\n",
      "\n",
      "   ncalls  tottime  percall  cumtime  percall filename:lineno(function)\n",
      "   584122  186.914    0.000  437.408    0.001 np_macroscale.py:291(move_to_empty_edge)\n",
      "        1   81.822   81.822 1802.672 1802.672 np_macroscale.py:362(run)\n",
      "   584122   61.027    0.000  686.345    0.001 np_macroscale.py:318(unrestricted_move)\n",
      "   584122   16.827    0.000 1150.250    0.002 np_macroscale.py:334(move)\n",
      "   584122    8.129    0.000   24.874    0.000 np_macroscale.py:272(bind)\n",
      "   584122    7.406    0.000    7.406    0.000 np_macroscale.py:315(find_still_stuck)\n",
      "   584122    4.669    0.000    9.519    0.000 np_macroscale.py:204(unbind_by_time)\n",
      "   215310    4.640    0.000    8.933    0.000 np_macroscale.py:250(find_lysis_time)\n",
      "   689584    1.727    0.000    4.743    0.000 np_macroscale.py:169(next)\n",
      "   215310    1.403    0.000    3.502    0.000 np_macroscale.py:225(find_unbinding_time)\n",
      "   584122    0.600    0.000    2.803    0.000 np_macroscale.py:190(unbind_by_degradation)\n",
      "       95    0.583    0.006    2.576    0.027 np_macroscale.py:142(fill_list)\n",
      "       21    0.002    0.000    0.006    0.000 np_macroscale.py:351(save_data)\n",
      "        1    0.000    0.000    0.138    0.138 np_macroscale.py:358(record_data_to_disk)\n",
      "\n",
      "\n"
     ]
    },
    {
     "data": {
      "text/plain": [
       "<pstats.Stats at 0x2bbed276c90>"
      ]
     },
     "execution_count": 4,
     "metadata": {},
     "output_type": "execute_result"
    }
   ],
   "source": [
    "p = pstats.Stats(os.path.join(e.os_path, \"macro_pstats\", \"macro_pstats_2023-01-18-191850.sts\"))\n",
    "p.strip_dirs().sort_stats(SortKey.TIME).print_stats(\"macroscale\")"
   ]
  },
  {
   "cell_type": "code",
   "execution_count": 5,
   "id": "01679bb5-2889-464e-bb7e-70d067d69605",
   "metadata": {},
   "outputs": [
    {
     "name": "stdout",
     "output_type": "stream",
     "text": [
      "Wed Jan 18 20:49:50 2023    ../../data\\2022-12-27-1100\\macro_pstats\\macro_pstats_2023-01-18-203745.sts\n",
      "\n",
      "         76735356 function calls (75938761 primitive calls) in 723.676 seconds\n",
      "\n",
      "   Ordered by: internal time\n",
      "   List reduced from 497 to 14 due to restriction <'macroscale'>\n",
      "\n",
      "   ncalls  tottime  percall  cumtime  percall filename:lineno(function)\n",
      "   584122  191.701    0.000  403.049    0.001 np_macroscale.py:306(move_to_empty_edge)\n",
      "        1   83.126   83.126  723.676  723.676 np_macroscale.py:385(run)\n",
      "   584122   60.778    0.000   85.697    0.000 np_macroscale.py:336(unrestricted_move)\n",
      "   584122   17.595    0.000  516.564    0.001 np_macroscale.py:357(move)\n",
      "   584122    7.933    0.000    7.933    0.000 np_macroscale.py:333(find_still_stuck)\n",
      "   584122    7.929    0.000   20.465    0.000 np_macroscale.py:284(bind)\n",
      "   584122    4.650    0.000    8.170    0.000 np_macroscale.py:205(unbind_by_time)\n",
      "   215512    4.453    0.000    6.810    0.000 np_macroscale.py:259(find_lysis_time)\n",
      "   688555    1.775    0.000    3.256    0.000 np_macroscale.py:170(next)\n",
      "   215512    1.327    0.000    3.395    0.000 np_macroscale.py:234(find_unbinding_time)\n",
      "       98    0.633    0.006    1.060    0.011 np_macroscale.py:143(fill_list)\n",
      "   584122    0.603    0.000    2.863    0.000 np_macroscale.py:191(unbind_by_degradation)\n",
      "       21    0.002    0.000    0.007    0.000 np_macroscale.py:374(save_data)\n",
      "        1    0.000    0.000    0.138    0.138 np_macroscale.py:381(record_data_to_disk)\n",
      "\n",
      "\n"
     ]
    },
    {
     "data": {
      "text/plain": [
       "<pstats.Stats at 0x2bbed2219d0>"
      ]
     },
     "execution_count": 5,
     "metadata": {},
     "output_type": "execute_result"
    }
   ],
   "source": [
    "p = pstats.Stats(os.path.join(e.os_path, \"macro_pstats\", \"macro_pstats_2023-01-18-203745.sts\"))\n",
    "p.strip_dirs().sort_stats(SortKey.TIME).print_stats(\"macroscale\")"
   ]
  },
  {
   "cell_type": "code",
   "execution_count": null,
   "id": "b59d2f48-5e99-4429-ac9f-d0fa747f29f6",
   "metadata": {},
   "outputs": [],
   "source": []
  }
 ],
 "metadata": {
  "kernelspec": {
   "display_name": "Python 3 (ipykernel)",
   "language": "python",
   "name": "python3"
  },
  "language_info": {
   "codemirror_mode": {
    "name": "ipython",
    "version": 3
   },
   "file_extension": ".py",
   "mimetype": "text/x-python",
   "name": "python",
   "nbconvert_exporter": "python",
   "pygments_lexer": "ipython3",
   "version": "3.11.0"
  }
 },
 "nbformat": 4,
 "nbformat_minor": 5
}
