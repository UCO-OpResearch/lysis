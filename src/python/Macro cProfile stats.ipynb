{
 "cells": [
  {
   "cell_type": "code",
   "execution_count": 2,
   "id": "d08a4b7f-1a78-4d35-9bde-829212a01ea5",
   "metadata": {},
   "outputs": [],
   "source": [
    "import os\n",
    "import pstats\n",
    "\n",
    "from pstats import SortKey\n",
    "\n",
    "import lysis"
   ]
  },
  {
   "cell_type": "code",
   "execution_count": 3,
   "id": "de23677a-e2f2-426f-820d-d552e14a0611",
   "metadata": {},
   "outputs": [],
   "source": [
    "e = lysis.util.Experiment(r'../../data', experiment_code='2022-12-27-1100')\n",
    "p = {'total_time': 1}\n",
    "e.initialize_macro_param(p)\n",
    "macro = lysis.MacroscaleRun(e)"
   ]
  },
  {
   "cell_type": "code",
   "execution_count": 5,
   "id": "7a2a7eae-88d8-4c31-955f-a35bed5376dd",
   "metadata": {},
   "outputs": [
    {
     "name": "stdout",
     "output_type": "stream",
     "text": [
      "Sun Jan  8 09:53:16 2023    ../../data\\2022-12-27-1100\\macro_pstats.sts\n",
      "\n",
      "         655557 function calls (646722 primitive calls) in 7.989 seconds\n",
      "\n",
      "   Ordered by: internal time\n",
      "   List reduced from 502 to 16 due to restriction <'macroscale'>\n",
      "\n",
      "   ncalls  tottime  percall  cumtime  percall filename:lineno(function)\n",
      "     2920    2.364    0.001    2.379    0.001 macroscale.py:142(actual_move)\n",
      "     2920    1.072    0.000    1.165    0.000 macroscale.py:123(find_still_stuck)\n",
      "        1    1.069    1.069    7.989    7.989 macroscale.py:260(run)\n",
      "     2920    1.065    0.000    1.065    0.000 macroscale.py:153(check_back_row)\n",
      "     2920    0.369    0.000    5.609    0.002 macroscale.py:159(move)\n",
      "     2920    0.357    0.000    0.375    0.000 macroscale.py:136(find_which_neighbor)\n",
      "     2920    0.234    0.000    0.765    0.000 macroscale.py:85(bind)\n",
      "       22    0.124    0.006    0.198    0.009 macroscale.py:180(fill_list)\n",
      "     2920    0.072    0.000    0.097    0.000 macroscale.py:214(find_unbinding_time)\n",
      "     2920    0.050    0.000    0.103    0.000 macroscale.py:243(find_lysis_time)\n",
      "     3137    0.021    0.000    0.230    0.000 macroscale.py:208(find_binding_time)\n",
      "     2920    0.019    0.000    0.034    0.000 macroscale.py:71(unbind_by_time)\n",
      "     2920    0.016    0.000    0.016    0.000 macroscale.py:130(find_free_to_move)\n",
      "     2920    0.014    0.000    0.075    0.000 macroscale.py:109(move_to_empty_edge)\n",
      "     3137    0.009    0.000    0.210    0.000 macroscale.py:188(next)\n",
      "     2920    0.003    0.000    0.016    0.000 macroscale.py:59(unbind_by_degradation)\n",
      "\n",
      "\n"
     ]
    },
    {
     "data": {
      "text/plain": [
       "<pstats.Stats at 0x1f7db16b890>"
      ]
     },
     "execution_count": 5,
     "metadata": {},
     "output_type": "execute_result"
    }
   ],
   "source": [
    "p = pstats.Stats(os.path.join(e.os_path, \"macro_pstats.sts\"))\n",
    "p.strip_dirs().sort_stats(SortKey.TIME).print_stats(\"macroscale\")"
   ]
  },
  {
   "cell_type": "code",
   "execution_count": 9,
   "id": "e8733924-9271-4fcb-9334-439376c3d8ff",
   "metadata": {},
   "outputs": [
    {
     "name": "stdout",
     "output_type": "stream",
     "text": [
      "Sun Jan  8 11:18:38 2023    ../../data\\2022-12-27-1100\\macro_pstats.sts\n",
      "\n",
      "         339334116 function calls (334076943 primitive calls) in 4004.232 seconds\n",
      "\n",
      "   Ordered by: internal time\n",
      "   List reduced from 503 to 17 due to restriction <'macroscale'>\n",
      "\n",
      "   ncalls  tottime  percall  cumtime  percall filename:lineno(function)\n",
      "  1752366 1186.844    0.001 1195.736    0.001 macroscale.py:142(actual_move)\n",
      "        1  679.715  679.715 4004.232 4004.232 macroscale.py:260(run)\n",
      "  1752366  502.118    0.000  558.419    0.000 macroscale.py:123(find_still_stuck)\n",
      "  1752366  498.641    0.000  498.641    0.000 macroscale.py:153(check_back_row)\n",
      "  1752366  173.440    0.000 2726.077    0.002 macroscale.py:159(move)\n",
      "  1752366  166.954    0.000  175.904    0.000 macroscale.py:136(find_which_neighbor)\n",
      "  1752366   88.703    0.000  315.674    0.000 macroscale.py:85(bind)\n",
      "     9902   57.255    0.006   90.468    0.009 macroscale.py:180(fill_list)\n",
      "  1752366   23.673    0.000   35.261    0.000 macroscale.py:71(unbind_by_time)\n",
      "  2035845   11.361    0.000  109.065    0.000 macroscale.py:208(find_binding_time)\n",
      "  1752366    9.691    0.000    9.691    0.000 macroscale.py:130(find_free_to_move)\n",
      "  1752366    9.382    0.000   13.479    0.000 macroscale.py:214(find_unbinding_time)\n",
      "  1752366    8.960    0.000   45.746    0.000 macroscale.py:109(move_to_empty_edge)\n",
      "  1752366    7.585    0.000   19.134    0.000 macroscale.py:243(find_lysis_time)\n",
      "  2035845    5.712    0.000   97.704    0.000 macroscale.py:188(next)\n",
      "  1752366    2.340    0.000   10.223    0.000 macroscale.py:59(unbind_by_degradation)\n",
      "    38429    0.387    0.000    0.387    0.000 macroscale.py:111(<listcomp>)\n",
      "\n",
      "\n"
     ]
    },
    {
     "data": {
      "text/plain": [
       "<pstats.Stats at 0x1f7da76a550>"
      ]
     },
     "execution_count": 9,
     "metadata": {},
     "output_type": "execute_result"
    }
   ],
   "source": [
    "p = pstats.Stats(os.path.join(e.os_path, \"macro_pstats.sts\"))\n",
    "p.strip_dirs().sort_stats(SortKey.TIME).print_stats(\"macroscale\")"
   ]
  },
  {
   "cell_type": "code",
   "execution_count": 10,
   "id": "dff10a28-650d-44ac-aca7-80680e87cb8f",
   "metadata": {},
   "outputs": [
    {
     "name": "stdout",
     "output_type": "stream",
     "text": [
      "Sun Jan  8 12:39:35 2023    ../../data\\2022-12-27-1100\\macro_pstats.sts\n",
      "\n",
      "         642512 function calls (633677 primitive calls) in 8.381 seconds\n",
      "\n",
      "   Ordered by: internal time\n",
      "   List reduced from 502 to 16 due to restriction <'macroscale'>\n",
      "\n",
      "   ncalls  tottime  percall  cumtime  percall filename:lineno(function)\n",
      "     2920    2.480    0.001    2.494    0.001 macroscale.py:147(actual_move)\n",
      "        1    1.367    1.367    8.381    8.381 macroscale.py:265(run)\n",
      "     2920    1.068    0.000    1.068    0.000 macroscale.py:158(check_back_row)\n",
      "     2920    1.062    0.000    1.154    0.000 macroscale.py:128(find_still_stuck)\n",
      "     2920    0.364    0.000    5.709    0.002 macroscale.py:164(move)\n",
      "     2920    0.355    0.000    0.373    0.000 macroscale.py:141(find_which_neighbor)\n",
      "     2920    0.240    0.000    0.754    0.000 macroscale.py:90(bind)\n",
      "       22    0.125    0.006    0.199    0.009 macroscale.py:185(fill_list)\n",
      "     2920    0.074    0.000    0.095    0.000 macroscale.py:219(find_unbinding_time)\n",
      "     2920    0.052    0.000    0.094    0.000 macroscale.py:248(find_lysis_time)\n",
      "     3136    0.021    0.000    0.231    0.000 macroscale.py:213(find_binding_time)\n",
      "     2920    0.019    0.000    0.034    0.000 macroscale.py:76(unbind_by_time)\n",
      "     2920    0.016    0.000    0.016    0.000 macroscale.py:135(find_free_to_move)\n",
      "     2920    0.014    0.000    0.075    0.000 macroscale.py:114(move_to_empty_edge)\n",
      "     3136    0.009    0.000    0.210    0.000 macroscale.py:193(next)\n",
      "     2920    0.003    0.000    0.016    0.000 macroscale.py:64(unbind_by_degradation)\n",
      "\n",
      "\n"
     ]
    },
    {
     "data": {
      "text/plain": [
       "<pstats.Stats at 0x1f7dbf78e10>"
      ]
     },
     "execution_count": 10,
     "metadata": {},
     "output_type": "execute_result"
    }
   ],
   "source": [
    "p = pstats.Stats(os.path.join(e.os_path, \"macro_pstats.sts\"))\n",
    "p.strip_dirs().sort_stats(SortKey.TIME).print_stats(\"macroscale\")"
   ]
  },
  {
   "cell_type": "code",
   "execution_count": 29,
   "id": "f5cea378-bbb8-4f56-8926-21c7a5576f0a",
   "metadata": {},
   "outputs": [
    {
     "name": "stdout",
     "output_type": "stream",
     "text": [
      "Fri Jan  6 19:41:59 2023    ../../data\\2022-12-27-1100\\macro_pstats\\macro_pstats_037.sts\n",
      "\n",
      "         640767 function calls (631932 primitive calls) in 7.916 seconds\n",
      "\n",
      "   Ordered by: internal time\n",
      "   List reduced from 497 to 11 due to restriction <'macroscale'>\n",
      "\n",
      "   ncalls  tottime  percall  cumtime  percall filename:lineno(function)\n",
      "     2920    5.215    0.002    5.578    0.002 macroscale.py:123(move)\n",
      "        1    1.065    1.065    7.915    7.915 macroscale.py:239(run)\n",
      "     2920    0.232    0.000    0.735    0.000 macroscale.py:85(bind)\n",
      "       22    0.125    0.006    0.198    0.009 macroscale.py:159(fill_list)\n",
      "     2920    0.069    0.000    0.090    0.000 macroscale.py:193(find_unbinding_time)\n",
      "     2920    0.049    0.000    0.092    0.000 macroscale.py:222(find_lysis_time)\n",
      "     3137    0.020    0.000    0.230    0.000 macroscale.py:187(find_binding_time)\n",
      "     2920    0.019    0.000    0.034    0.000 macroscale.py:71(unbind_by_time)\n",
      "     2920    0.014    0.000    0.075    0.000 macroscale.py:109(move_to_empty_edge)\n",
      "     3137    0.009    0.000    0.210    0.000 macroscale.py:167(next)\n",
      "     2920    0.003    0.000    0.016    0.000 macroscale.py:59(unbind_by_degradation)\n",
      "\n",
      "\n"
     ]
    },
    {
     "data": {
      "text/plain": [
       "<pstats.Stats at 0x1f7dc974d90>"
      ]
     },
     "execution_count": 29,
     "metadata": {},
     "output_type": "execute_result"
    }
   ],
   "source": [
    "p = pstats.Stats(os.path.join(e.os_path, \"macro_pstats\", \"macro_pstats_037.sts\"))\n",
    "p.strip_dirs().sort_stats(SortKey.TIME).print_stats(\"macroscale\")"
   ]
  },
  {
   "cell_type": "code",
   "execution_count": 17,
   "id": "45f8c403-8eaf-4439-9afa-bf272cc5a7b7",
   "metadata": {},
   "outputs": [
    {
     "name": "stdout",
     "output_type": "stream",
     "text": [
      "Sun Jan  8 13:12:59 2023    ../../data\\2022-12-27-1100\\macro_pstats\\macro_pstats.sts\n",
      "\n",
      "         646774 function calls (637939 primitive calls) in 9.214 seconds\n",
      "\n",
      "   Ordered by: internal time\n",
      "   List reduced from 503 to 17 due to restriction <'macroscale'>\n",
      "\n",
      "   ncalls  tottime  percall  cumtime  percall filename:lineno(function)\n",
      "     2920    2.756    0.001    2.773    0.001 macroscale.py:147(actual_move)\n",
      "     2920    1.107    0.000    1.107    0.000 macroscale.py:158(check_back_row)\n",
      "     2920    1.107    0.000    1.208    0.000 macroscale.py:128(find_still_stuck)\n",
      "     2920    0.849    0.000    0.849    0.000 macroscale.py:265(find_molecule_fiber_status)\n",
      "        1    0.769    0.769    9.214    9.214 macroscale.py:268(run)\n",
      "     2920    0.377    0.000    6.141    0.002 macroscale.py:164(move)\n",
      "     2920    0.372    0.000    0.393    0.000 macroscale.py:141(find_which_neighbor)\n",
      "     2920    0.258    0.000    0.830    0.000 macroscale.py:90(bind)\n",
      "       22    0.138    0.006    0.212    0.010 macroscale.py:185(fill_list)\n",
      "     2920    0.080    0.000    0.102    0.000 macroscale.py:219(find_unbinding_time)\n",
      "     2920    0.054    0.000    0.098    0.000 macroscale.py:248(find_lysis_time)\n",
      "     3136    0.027    0.000    0.252    0.000 macroscale.py:213(find_binding_time)\n",
      "     2920    0.022    0.000    0.038    0.000 macroscale.py:76(unbind_by_time)\n",
      "     2920    0.021    0.000    0.021    0.000 macroscale.py:135(find_free_to_move)\n",
      "     2920    0.016    0.000    0.084    0.000 macroscale.py:114(move_to_empty_edge)\n",
      "     3136    0.010    0.000    0.225    0.000 macroscale.py:193(next)\n",
      "     2920    0.004    0.000    0.018    0.000 macroscale.py:64(unbind_by_degradation)\n",
      "\n",
      "\n"
     ]
    },
    {
     "data": {
      "text/plain": [
       "<pstats.Stats at 0x1f7dc24acd0>"
      ]
     },
     "execution_count": 17,
     "metadata": {},
     "output_type": "execute_result"
    }
   ],
   "source": [
    "p = pstats.Stats(os.path.join(e.os_path, \"macro_pstats\", \"macro_pstats.sts\"))\n",
    "p.strip_dirs().sort_stats(SortKey.TIME).print_stats(\"macroscale\")"
   ]
  },
  {
   "cell_type": "code",
   "execution_count": 30,
   "id": "3f49a77a-7ee4-4581-be8f-c2e4f7f449da",
   "metadata": {},
   "outputs": [
    {
     "name": "stdout",
     "output_type": "stream",
     "text": [
      "Sun Jan  8 15:09:25 2023    ../../data\\2022-12-27-1100\\macro_pstats\\macro_pstats.sts\n",
      "\n",
      "         645829 function calls (636994 primitive calls) in 8.726 seconds\n",
      "\n",
      "   Ordered by: internal time\n",
      "   List reduced from 503 to 17 due to restriction <'macroscale'>\n",
      "\n",
      "   ncalls  tottime  percall  cumtime  percall filename:lineno(function)\n",
      "     2920    2.580    0.001    2.597    0.001 macroscale.py:147(actual_move)\n",
      "     2920    1.088    0.000    1.088    0.000 macroscale.py:158(check_back_row)\n",
      "     2920    1.083    0.000    1.181    0.000 macroscale.py:128(find_still_stuck)\n",
      "     2920    0.777    0.000    0.777    0.000 macroscale.py:265(find_molecule_fiber_status)\n",
      "        1    0.650    0.650    8.726    8.726 macroscale.py:268(run)\n",
      "     2920    0.372    0.000    5.895    0.002 macroscale.py:164(move)\n",
      "     2920    0.364    0.000    0.383    0.000 macroscale.py:141(find_which_neighbor)\n",
      "     2920    0.250    0.000    0.814    0.000 macroscale.py:90(bind)\n",
      "       22    0.134    0.006    0.209    0.010 macroscale.py:185(fill_list)\n",
      "     2920    0.079    0.000    0.102    0.000 macroscale.py:219(find_unbinding_time)\n",
      "     2920    0.054    0.000    0.098    0.000 macroscale.py:248(find_lysis_time)\n",
      "     3136    0.024    0.000    0.247    0.000 macroscale.py:213(find_binding_time)\n",
      "     2920    0.020    0.000    0.035    0.000 macroscale.py:76(unbind_by_time)\n",
      "     2920    0.017    0.000    0.017    0.000 macroscale.py:135(find_free_to_move)\n",
      "     2920    0.015    0.000    0.081    0.000 macroscale.py:114(move_to_empty_edge)\n",
      "     3136    0.010    0.000    0.223    0.000 macroscale.py:193(next)\n",
      "     2920    0.004    0.000    0.018    0.000 macroscale.py:64(unbind_by_degradation)\n",
      "\n",
      "\n"
     ]
    },
    {
     "data": {
      "text/plain": [
       "<pstats.Stats at 0x1f7dc873c10>"
      ]
     },
     "execution_count": 30,
     "metadata": {},
     "output_type": "execute_result"
    }
   ],
   "source": [
    "p = pstats.Stats(os.path.join(e.os_path, \"macro_pstats\", \"macro_pstats.sts\"))\n",
    "p.strip_dirs().sort_stats(SortKey.TIME).print_stats(\"macroscale\")"
   ]
  },
  {
   "cell_type": "code",
   "execution_count": 31,
   "id": "c47e91ed-1391-4286-9484-3a7609a409a8",
   "metadata": {},
   "outputs": [
    {
     "name": "stdout",
     "output_type": "stream",
     "text": [
      "Sun Jan  8 17:37:15 2023    ../../data\\2022-12-27-1100\\macro_pstats\\macro_pstats.sts\n",
      "\n",
      "         416305 function calls (416230 primitive calls) in 5.749 seconds\n",
      "\n",
      "   Ordered by: internal time\n",
      "   List reduced from 479 to 17 due to restriction <'macroscale'>\n",
      "\n",
      "   ncalls  tottime  percall  cumtime  percall filename:lineno(function)\n",
      "     2920    1.063    0.000    1.149    0.000 macroscale.py:135(find_still_stuck)\n",
      "     2920    1.060    0.000    1.060    0.000 macroscale.py:159(check_back_row)\n",
      "     2920    0.808    0.000    0.821    0.000 macroscale.py:154(actual_move)\n",
      "        1    0.611    0.611    5.749    5.749 macroscale.py:269(run)\n",
      "     2920    0.364    0.000    4.020    0.001 macroscale.py:165(move)\n",
      "     2920    0.353    0.000    0.371    0.000 macroscale.py:148(find_which_neighbor)\n",
      "     2920    0.185    0.000    0.450    0.000 macroscale.py:98(bind)\n",
      "     2920    0.130    0.000    0.130    0.000 macroscale.py:266(find_molecule_fiber_status)\n",
      "       22    0.124    0.006    0.200    0.009 macroscale.py:186(fill_list)\n",
      "     2770    0.071    0.000    0.091    0.000 macroscale.py:220(find_unbinding_time)\n",
      "     2770    0.050    0.000    0.091    0.000 macroscale.py:249(find_lysis_time)\n",
      "     3136    0.019    0.000    0.230    0.000 macroscale.py:214(find_binding_time)\n",
      "     2920    0.019    0.000    0.033    0.000 macroscale.py:84(unbind_by_time)\n",
      "     2920    0.016    0.000    0.016    0.000 macroscale.py:142(find_free_to_move)\n",
      "     2920    0.013    0.000    0.073    0.000 macroscale.py:122(move_to_empty_edge)\n",
      "     3136    0.009    0.000    0.211    0.000 macroscale.py:194(next)\n",
      "     2920    0.003    0.000    0.015    0.000 macroscale.py:72(unbind_by_degradation)\n",
      "\n",
      "\n"
     ]
    },
    {
     "data": {
      "text/plain": [
       "<pstats.Stats at 0x1f7dcea0250>"
      ]
     },
     "execution_count": 31,
     "metadata": {},
     "output_type": "execute_result"
    }
   ],
   "source": [
    "p = pstats.Stats(os.path.join(e.os_path, \"macro_pstats\", \"macro_pstats.sts\"))\n",
    "p.strip_dirs().sort_stats(SortKey.TIME).print_stats(\"macroscale\")"
   ]
  },
  {
   "cell_type": "code",
   "execution_count": 38,
   "id": "d45e94bd-0d13-4b33-97c2-e99e4af06d9b",
   "metadata": {},
   "outputs": [
    {
     "name": "stdout",
     "output_type": "stream",
     "text": [
      "Sun Jan  8 17:21:27 2023    ../../data\\2022-12-27-1100\\macro_pstats\\macro_pstats_063.sts\n",
      "\n",
      "         202995011 function calls (201762599 primitive calls) in 4054.180 seconds\n",
      "\n",
      "   Ordered by: internal time\n",
      "   List reduced from 600 to 18 due to restriction <'macroscale'>\n",
      "\n",
      "   ncalls  tottime  percall  cumtime  percall filename:lineno(function)\n",
      "  1752366 1231.743    0.001 1240.501    0.001 macroscale.py:151(actual_move)\n",
      "  1752366  507.073    0.000  507.073    0.000 macroscale.py:162(check_back_row)\n",
      "  1752366  503.819    0.000  560.579    0.000 macroscale.py:132(find_still_stuck)\n",
      "  1752366  476.224    0.000  476.224    0.000 macroscale.py:269(find_molecule_fiber_status)\n",
      "        1  390.604  390.604 4054.180 4054.180 macroscale.py:272(run)\n",
      "  1752366  174.255    0.000 2784.695    0.002 macroscale.py:168(move)\n",
      "  1752366  167.885    0.000  177.005    0.000 macroscale.py:145(find_which_neighbor)\n",
      "     9839   57.578    0.006   90.891    0.009 macroscale.py:189(fill_list)\n",
      "  1752366   34.704    0.000  103.537    0.000 macroscale.py:91(bind)\n",
      "  1752366   23.978    0.000   35.644    0.000 macroscale.py:77(unbind_by_time)\n",
      "  2039458   11.691    0.000  109.957    0.000 macroscale.py:217(find_binding_time)\n",
      "  1752366   10.130    0.000   10.130    0.000 macroscale.py:139(find_free_to_move)\n",
      "  1752366    9.767    0.000   47.394    0.000 macroscale.py:118(move_to_empty_edge)\n",
      "   410744    5.796    0.000    7.681    0.000 macroscale.py:223(find_unbinding_time)\n",
      "  2039458    5.758    0.000   98.266    0.000 macroscale.py:197(next)\n",
      "   410744    3.941    0.000    7.263    0.000 macroscale.py:252(find_lysis_time)\n",
      "  1752366    2.385    0.000   10.406    0.000 macroscale.py:65(unbind_by_degradation)\n",
      "    39054    0.398    0.000    0.398    0.000 macroscale.py:120(<listcomp>)\n",
      "\n",
      "\n"
     ]
    },
    {
     "data": {
      "text/plain": [
       "<pstats.Stats at 0x1f7dc975850>"
      ]
     },
     "execution_count": 38,
     "metadata": {},
     "output_type": "execute_result"
    }
   ],
   "source": [
    "p = pstats.Stats(os.path.join(e.os_path, \"macro_pstats\", \"macro_pstats_063.sts\"))\n",
    "p.strip_dirs().sort_stats(SortKey.TIME).print_stats(\"macroscale\")"
   ]
  },
  {
   "cell_type": "code",
   "execution_count": 40,
   "id": "03479f6f-3284-4014-ab73-312116eb8350",
   "metadata": {},
   "outputs": [
    {
     "name": "stdout",
     "output_type": "stream",
     "text": [
      "Sun Jan  8 17:43:59 2023    ../../data\\2022-12-27-1100\\macro_pstats\\macro_pstats.sts\n",
      "\n",
      "         416295 function calls (416220 primitive calls) in 5.719 seconds\n",
      "\n",
      "   Ordered by: internal time\n",
      "   List reduced from 479 to 17 due to restriction <'macroscale'>\n",
      "\n",
      "   ncalls  tottime  percall  cumtime  percall filename:lineno(function)\n",
      "     2920    1.062    0.000    1.149    0.000 macroscale.py:139(find_still_stuck)\n",
      "     2920    1.059    0.000    1.059    0.000 macroscale.py:163(check_back_row)\n",
      "     2920    0.791    0.000    0.804    0.000 macroscale.py:158(actual_move)\n",
      "        1    0.612    0.612    5.719    5.719 macroscale.py:273(run)\n",
      "     2920    0.363    0.000    4.001    0.001 macroscale.py:169(move)\n",
      "     2920    0.354    0.000    0.371    0.000 macroscale.py:152(find_which_neighbor)\n",
      "     2920    0.185    0.000    0.442    0.000 macroscale.py:98(bind)\n",
      "     2920    0.129    0.000    0.129    0.000 macroscale.py:270(find_molecule_fiber_status)\n",
      "       22    0.125    0.006    0.200    0.009 macroscale.py:190(fill_list)\n",
      "     2770    0.070    0.000    0.090    0.000 macroscale.py:224(find_unbinding_time)\n",
      "     2770    0.050    0.000    0.091    0.000 macroscale.py:253(find_lysis_time)\n",
      "     3136    0.019    0.000    0.230    0.000 macroscale.py:218(find_binding_time)\n",
      "     2920    0.019    0.000    0.033    0.000 macroscale.py:84(unbind_by_time)\n",
      "     2920    0.016    0.000    0.016    0.000 macroscale.py:146(find_free_to_move)\n",
      "     2920    0.013    0.000    0.073    0.000 macroscale.py:122(move_to_empty_edge)\n",
      "     3136    0.009    0.000    0.211    0.000 macroscale.py:198(next)\n",
      "     2920    0.003    0.000    0.015    0.000 macroscale.py:72(unbind_by_degradation)\n",
      "\n",
      "\n"
     ]
    },
    {
     "data": {
      "text/plain": [
       "<pstats.Stats at 0x1f7dac34d90>"
      ]
     },
     "execution_count": 40,
     "metadata": {},
     "output_type": "execute_result"
    }
   ],
   "source": [
    "p = pstats.Stats(os.path.join(e.os_path, \"macro_pstats\", \"macro_pstats.sts\"))\n",
    "p.strip_dirs().sort_stats(SortKey.TIME).print_stats(\"macroscale\")"
   ]
  },
  {
   "cell_type": "code",
   "execution_count": 41,
   "id": "2db49d8d-e122-4cd6-ae1f-3fc217ecd02a",
   "metadata": {},
   "outputs": [
    {
     "name": "stdout",
     "output_type": "stream",
     "text": [
      "Sun Jan  8 18:16:35 2023    ../../data\\2022-12-27-1100\\macro_pstats\\macro_pstats.sts\n",
      "\n",
      "         416138 function calls (416063 primitive calls) in 5.698 seconds\n",
      "\n",
      "   Ordered by: internal time\n",
      "   List reduced from 479 to 17 due to restriction <'macroscale'>\n",
      "\n",
      "   ncalls  tottime  percall  cumtime  percall filename:lineno(function)\n",
      "     2920    1.098    0.000    1.098    0.000 macroscale.py:166(check_back_row)\n",
      "     2920    0.829    0.000    0.843    0.000 macroscale.py:161(actual_move)\n",
      "     2920    0.778    0.000    0.868    0.000 macroscale.py:139(find_still_stuck)\n",
      "        1    0.647    0.647    5.697    5.697 macroscale.py:276(run)\n",
      "     2920    0.376    0.000    3.846    0.001 macroscale.py:172(move)\n",
      "     2920    0.367    0.000    0.385    0.000 macroscale.py:155(find_which_neighbor)\n",
      "     2920    0.194    0.000    0.470    0.000 macroscale.py:98(bind)\n",
      "     2920    0.142    0.000    0.142    0.000 macroscale.py:273(find_molecule_fiber_status)\n",
      "       22    0.138    0.006    0.216    0.010 macroscale.py:193(fill_list)\n",
      "     2770    0.074    0.000    0.096    0.000 macroscale.py:227(find_unbinding_time)\n",
      "     2770    0.053    0.000    0.097    0.000 macroscale.py:256(find_lysis_time)\n",
      "     3136    0.021    0.000    0.248    0.000 macroscale.py:221(find_binding_time)\n",
      "     2920    0.020    0.000    0.035    0.000 macroscale.py:84(unbind_by_time)\n",
      "     2920    0.016    0.000    0.016    0.000 macroscale.py:149(find_free_to_move)\n",
      "     2920    0.014    0.000    0.076    0.000 macroscale.py:122(move_to_empty_edge)\n",
      "     3136    0.009    0.000    0.228    0.000 macroscale.py:201(next)\n",
      "     2920    0.003    0.000    0.017    0.000 macroscale.py:72(unbind_by_degradation)\n",
      "\n",
      "\n"
     ]
    },
    {
     "data": {
      "text/plain": [
       "<pstats.Stats at 0x1f7dcea0c50>"
      ]
     },
     "execution_count": 41,
     "metadata": {},
     "output_type": "execute_result"
    }
   ],
   "source": [
    "p = pstats.Stats(os.path.join(e.os_path, \"macro_pstats\", \"macro_pstats.sts\"))\n",
    "p.strip_dirs().sort_stats(SortKey.TIME).print_stats(\"macroscale\")"
   ]
  },
  {
   "cell_type": "code",
   "execution_count": 42,
   "id": "c21bdd57-5713-44ea-b143-ca06c31f04f1",
   "metadata": {},
   "outputs": [
    {
     "name": "stdout",
     "output_type": "stream",
     "text": [
      "Sun Jan  8 18:20:58 2023    ../../data\\2022-12-27-1100\\macro_pstats\\macro_pstats.sts\n",
      "\n",
      "         430525 function calls (430450 primitive calls) in 5.573 seconds\n",
      "\n",
      "   Ordered by: internal time\n",
      "   List reduced from 479 to 17 due to restriction <'macroscale'>\n",
      "\n",
      "   ncalls  tottime  percall  cumtime  percall filename:lineno(function)\n",
      "     2920    1.083    0.000    1.083    0.000 macroscale.py:166(check_back_row)\n",
      "     2920    0.812    0.000    0.826    0.000 macroscale.py:161(actual_move)\n",
      "     2920    0.791    0.000    0.892    0.000 macroscale.py:139(find_still_stuck)\n",
      "        1    0.625    0.625    5.573    5.573 macroscale.py:276(run)\n",
      "     2920    0.371    0.000    3.811    0.001 macroscale.py:172(move)\n",
      "     2920    0.364    0.000    0.381    0.000 macroscale.py:155(find_which_neighbor)\n",
      "     2920    0.189    0.000    0.453    0.000 macroscale.py:98(bind)\n",
      "     2920    0.137    0.000    0.137    0.000 macroscale.py:273(find_molecule_fiber_status)\n",
      "       22    0.127    0.006    0.203    0.009 macroscale.py:193(fill_list)\n",
      "     2770    0.072    0.000    0.093    0.000 macroscale.py:227(find_unbinding_time)\n",
      "     2770    0.051    0.000    0.093    0.000 macroscale.py:256(find_lysis_time)\n",
      "     2920    0.019    0.000    0.034    0.000 macroscale.py:84(unbind_by_time)\n",
      "     3136    0.019    0.000    0.233    0.000 macroscale.py:221(find_binding_time)\n",
      "     2920    0.016    0.000    0.016    0.000 macroscale.py:149(find_free_to_move)\n",
      "     2920    0.013    0.000    0.074    0.000 macroscale.py:122(move_to_empty_edge)\n",
      "     3136    0.009    0.000    0.214    0.000 macroscale.py:201(next)\n",
      "     2920    0.003    0.000    0.016    0.000 macroscale.py:72(unbind_by_degradation)\n",
      "\n",
      "\n"
     ]
    },
    {
     "data": {
      "text/plain": [
       "<pstats.Stats at 0x1f7dd31e3d0>"
      ]
     },
     "execution_count": 42,
     "metadata": {},
     "output_type": "execute_result"
    }
   ],
   "source": [
    "p = pstats.Stats(os.path.join(e.os_path, \"macro_pstats\", \"macro_pstats.sts\"))\n",
    "p.strip_dirs().sort_stats(SortKey.TIME).print_stats(\"macroscale\")"
   ]
  },
  {
   "cell_type": "code",
   "execution_count": 44,
   "id": "116c9823-c467-4e4f-b35d-083232c1ea4a",
   "metadata": {},
   "outputs": [
    {
     "name": "stdout",
     "output_type": "stream",
     "text": [
      "Sun Jan  8 18:23:14 2023    ../../data\\2022-12-27-1100\\macro_pstats\\macro_pstats.sts\n",
      "\n",
      "         430516 function calls (430441 primitive calls) in 5.569 seconds\n",
      "\n",
      "   Ordered by: internal time\n",
      "   List reduced from 479 to 17 due to restriction <'macroscale'>\n",
      "\n",
      "   ncalls  tottime  percall  cumtime  percall filename:lineno(function)\n",
      "     2920    1.084    0.000    1.084    0.000 macroscale.py:165(check_back_row)\n",
      "     2920    0.826    0.000    0.840    0.000 macroscale.py:160(actual_move)\n",
      "     2920    0.766    0.000    0.867    0.000 macroscale.py:139(find_still_stuck)\n",
      "        1    0.629    0.629    5.569    5.569 macroscale.py:275(run)\n",
      "     2920    0.372    0.000    3.799    0.001 macroscale.py:171(move)\n",
      "     2920    0.363    0.000    0.380    0.000 macroscale.py:154(find_which_neighbor)\n",
      "     2920    0.192    0.000    0.456    0.000 macroscale.py:98(bind)\n",
      "     2920    0.133    0.000    0.133    0.000 macroscale.py:272(find_molecule_fiber_status)\n",
      "       22    0.127    0.006    0.202    0.009 macroscale.py:192(fill_list)\n",
      "     2770    0.073    0.000    0.093    0.000 macroscale.py:226(find_unbinding_time)\n",
      "     2770    0.051    0.000    0.093    0.000 macroscale.py:255(find_lysis_time)\n",
      "     2920    0.020    0.000    0.034    0.000 macroscale.py:84(unbind_by_time)\n",
      "     3136    0.020    0.000    0.232    0.000 macroscale.py:220(find_binding_time)\n",
      "     2920    0.015    0.000    0.015    0.000 macroscale.py:148(find_free_to_move)\n",
      "     2920    0.013    0.000    0.073    0.000 macroscale.py:122(move_to_empty_edge)\n",
      "     3136    0.009    0.000    0.213    0.000 macroscale.py:200(next)\n",
      "     2920    0.003    0.000    0.016    0.000 macroscale.py:72(unbind_by_degradation)\n",
      "\n",
      "\n"
     ]
    },
    {
     "data": {
      "text/plain": [
       "<pstats.Stats at 0x1f7da70ad10>"
      ]
     },
     "execution_count": 44,
     "metadata": {},
     "output_type": "execute_result"
    }
   ],
   "source": [
    "p = pstats.Stats(os.path.join(e.os_path, \"macro_pstats\", \"macro_pstats.sts\"))\n",
    "p.strip_dirs().sort_stats(SortKey.TIME).print_stats(\"macroscale\")"
   ]
  },
  {
   "cell_type": "code",
   "execution_count": 47,
   "id": "4e352d6a-26f9-4185-a19b-4c4631239ce8",
   "metadata": {},
   "outputs": [
    {
     "name": "stdout",
     "output_type": "stream",
     "text": [
      "Sun Jan  8 18:27:52 2023    ../../data\\2022-12-27-1100\\macro_pstats\\macro_pstats.sts\n",
      "\n",
      "         465587 function calls (465512 primitive calls) in 5.526 seconds\n",
      "\n",
      "   Ordered by: internal time\n",
      "   List reduced from 479 to 17 due to restriction <'macroscale'>\n",
      "\n",
      "   ncalls  tottime  percall  cumtime  percall filename:lineno(function)\n",
      "     2920    0.815    0.000    0.829    0.000 macroscale.py:160(actual_move)\n",
      "     2920    0.761    0.000    0.862    0.000 macroscale.py:139(find_still_stuck)\n",
      "     2920    0.751    0.000    0.786    0.000 macroscale.py:165(check_back_row)\n",
      "        1    0.622    0.622    5.526    5.526 macroscale.py:277(run)\n",
      "     2920    0.371    0.000    3.531    0.001 macroscale.py:173(move)\n",
      "     2920    0.360    0.000    0.377    0.000 macroscale.py:154(find_which_neighbor)\n",
      "     2920    0.190    0.000    0.451    0.000 macroscale.py:98(bind)\n",
      "     2920    0.132    0.000    0.132    0.000 macroscale.py:274(find_molecule_fiber_status)\n",
      "       22    0.129    0.006    0.253    0.012 macroscale.py:194(fill_list)\n",
      "     2770    0.071    0.000    0.092    0.000 macroscale.py:228(find_unbinding_time)\n",
      "     2770    0.051    0.000    0.093    0.000 macroscale.py:257(find_lysis_time)\n",
      "     2920    0.019    0.000    0.033    0.000 macroscale.py:84(unbind_by_time)\n",
      "     3136    0.019    0.000    0.283    0.000 macroscale.py:222(find_binding_time)\n",
      "     2920    0.015    0.000    0.015    0.000 macroscale.py:148(find_free_to_move)\n",
      "     2920    0.013    0.000    0.074    0.000 macroscale.py:122(move_to_empty_edge)\n",
      "     3136    0.009    0.000    0.264    0.000 macroscale.py:202(next)\n",
      "     2920    0.003    0.000    0.015    0.000 macroscale.py:72(unbind_by_degradation)\n",
      "\n",
      "\n"
     ]
    },
    {
     "data": {
      "text/plain": [
       "<pstats.Stats at 0x1f7dd2c0590>"
      ]
     },
     "execution_count": 47,
     "metadata": {},
     "output_type": "execute_result"
    }
   ],
   "source": [
    "p = pstats.Stats(os.path.join(e.os_path, \"macro_pstats\", \"macro_pstats.sts\"))\n",
    "p.strip_dirs().sort_stats(SortKey.TIME).print_stats(\"macroscale\")"
   ]
  },
  {
   "cell_type": "code",
   "execution_count": 49,
   "id": "ee5fbfef-b2da-48a4-a66b-2489e1705db1",
   "metadata": {},
   "outputs": [
    {
     "name": "stdout",
     "output_type": "stream",
     "text": [
      "Sun Jan  8 18:40:24 2023    ../../data\\2022-12-27-1100\\macro_pstats\\macro_pstats.sts\n",
      "\n",
      "         465000 function calls (464925 primitive calls) in 5.250 seconds\n",
      "\n",
      "   Ordered by: internal time\n",
      "   List reduced from 479 to 17 due to restriction <'macroscale'>\n",
      "\n",
      "   ncalls  tottime  percall  cumtime  percall filename:lineno(function)\n",
      "     2920    0.810    0.000    0.824    0.000 macroscale.py:160(actual_move)\n",
      "     2920    0.765    0.000    0.866    0.000 macroscale.py:139(find_still_stuck)\n",
      "     2920    0.753    0.000    0.788    0.000 macroscale.py:165(check_back_row)\n",
      "        1    0.628    0.628    5.250    5.250 macroscale.py:277(run)\n",
      "     2920    0.372    0.000    3.487    0.001 macroscale.py:173(move)\n",
      "     2920    0.361    0.000    0.379    0.000 macroscale.py:154(find_which_neighbor)\n",
      "     2920    0.191    0.000    0.455    0.000 macroscale.py:98(bind)\n",
      "     2920    0.133    0.000    0.133    0.000 macroscale.py:274(find_molecule_fiber_status)\n",
      "       22    0.130    0.006    0.204    0.009 macroscale.py:194(fill_list)\n",
      "     2770    0.072    0.000    0.092    0.000 macroscale.py:228(find_unbinding_time)\n",
      "     2770    0.051    0.000    0.093    0.000 macroscale.py:257(find_lysis_time)\n",
      "     2920    0.020    0.000    0.034    0.000 macroscale.py:84(unbind_by_time)\n",
      "     3136    0.019    0.000    0.234    0.000 macroscale.py:222(find_binding_time)\n",
      "     2920    0.015    0.000    0.015    0.000 macroscale.py:148(find_free_to_move)\n",
      "     2920    0.013    0.000    0.073    0.000 macroscale.py:122(move_to_empty_edge)\n",
      "     3136    0.009    0.000    0.215    0.000 macroscale.py:202(next)\n",
      "     2920    0.003    0.000    0.015    0.000 macroscale.py:72(unbind_by_degradation)\n",
      "\n",
      "\n"
     ]
    },
    {
     "data": {
      "text/plain": [
       "<pstats.Stats at 0x1f7dac32110>"
      ]
     },
     "execution_count": 49,
     "metadata": {},
     "output_type": "execute_result"
    }
   ],
   "source": [
    "p = pstats.Stats(os.path.join(e.os_path, \"macro_pstats\", \"macro_pstats.sts\"))\n",
    "p.strip_dirs().sort_stats(SortKey.TIME).print_stats(\"macroscale\")"
   ]
  },
  {
   "cell_type": "code",
   "execution_count": 50,
   "id": "3df91a42-2cdc-4dd2-af56-65bc58b4543b",
   "metadata": {},
   "outputs": [
    {
     "name": "stdout",
     "output_type": "stream",
     "text": [
      "Sun Jan  8 18:50:36 2023    ../../data\\2022-12-27-1100\\macro_pstats\\macro_pstats.sts\n",
      "\n",
      "         163612206 function calls (163612026 primitive calls) in 2740.388 seconds\n",
      "\n",
      "   Ordered by: internal time\n",
      "   List reduced from 576 to 18 due to restriction <'macroscale'>\n",
      "\n",
      "   ncalls  tottime  percall  cumtime  percall filename:lineno(function)\n",
      "  1752366  501.100    0.000  555.069    0.000 macroscale.py:139(find_still_stuck)\n",
      "  1752366  499.830    0.000  499.830    0.000 macroscale.py:163(check_back_row)\n",
      "  1752366  389.993    0.000  397.903    0.000 macroscale.py:158(actual_move)\n",
      "        1  384.270  384.270 2740.388 2740.388 macroscale.py:273(run)\n",
      "  1752366  172.572    0.000 1923.590    0.001 macroscale.py:169(move)\n",
      "  1752366  166.681    0.000  175.484    0.000 macroscale.py:152(find_which_neighbor)\n",
      "  1752366   91.436    0.000   91.436    0.000 macroscale.py:270(find_molecule_fiber_status)\n",
      "     9867   57.019    0.006   91.030    0.009 macroscale.py:190(fill_list)\n",
      "  1752366   27.200    0.000   57.221    0.000 macroscale.py:98(bind)\n",
      "  1752366   23.581    0.000   34.834    0.000 macroscale.py:84(unbind_by_time)\n",
      "  2037881   10.311    0.000  108.093    0.000 macroscale.py:218(find_binding_time)\n",
      "  1752366    9.591    0.000    9.591    0.000 macroscale.py:146(find_free_to_move)\n",
      "  1752366    8.769    0.000   45.447    0.000 macroscale.py:122(move_to_empty_edge)\n",
      "   409363    5.346    0.000    7.095    0.000 macroscale.py:224(find_unbinding_time)\n",
      "  2037881    5.251    0.000   97.783    0.000 macroscale.py:198(next)\n",
      "   409363    3.810    0.000    7.116    0.000 macroscale.py:253(find_lysis_time)\n",
      "  1752366    2.180    0.000    9.753    0.000 macroscale.py:72(unbind_by_degradation)\n",
      "    39272    0.167    0.000    0.167    0.000 macroscale.py:124(<listcomp>)\n",
      "\n",
      "\n"
     ]
    },
    {
     "data": {
      "text/plain": [
       "<pstats.Stats at 0x1f7dd59b050>"
      ]
     },
     "execution_count": 50,
     "metadata": {},
     "output_type": "execute_result"
    }
   ],
   "source": [
    "p = pstats.Stats(os.path.join(e.os_path, \"macro_pstats\", \"macro_pstats.sts\"))\n",
    "p.strip_dirs().sort_stats(SortKey.TIME).print_stats(\"macroscale\")"
   ]
  },
  {
   "cell_type": "code",
   "execution_count": null,
   "id": "9e6a9969-eb58-47f1-97e3-21bc1747fb80",
   "metadata": {},
   "outputs": [],
   "source": []
  }
 ],
 "metadata": {
  "kernelspec": {
   "display_name": "Python 3 (ipykernel)",
   "language": "python",
   "name": "python3"
  },
  "language_info": {
   "codemirror_mode": {
    "name": "ipython",
    "version": 3
   },
   "file_extension": ".py",
   "mimetype": "text/x-python",
   "name": "python",
   "nbconvert_exporter": "python",
   "pygments_lexer": "ipython3",
   "version": "3.11.0"
  }
 },
 "nbformat": 4,
 "nbformat_minor": 5
}
