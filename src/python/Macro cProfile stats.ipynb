{
 "cells": [
  {
   "cell_type": "code",
   "execution_count": 2,
   "id": "d08a4b7f-1a78-4d35-9bde-829212a01ea5",
   "metadata": {},
   "outputs": [],
   "source": [
    "import os\n",
    "import pstats\n",
    "\n",
    "from pstats import SortKey\n",
    "\n",
    "import lysis"
   ]
  },
  {
   "cell_type": "code",
   "execution_count": 3,
   "id": "de23677a-e2f2-426f-820d-d552e14a0611",
   "metadata": {},
   "outputs": [],
   "source": [
    "e = lysis.util.Experiment(r'../../data', experiment_code='2022-12-27-1100')\n",
    "p = {'total_time': 1}\n",
    "e.initialize_macro_param(p)\n",
    "macro = lysis.MacroscaleRun(e)"
   ]
  },
  {
   "cell_type": "code",
   "execution_count": 4,
   "id": "ee5fbfef-b2da-48a4-a66b-2489e1705db1",
   "metadata": {},
   "outputs": [
    {
     "name": "stdout",
     "output_type": "stream",
     "text": [
      "Tue Jan 10 07:43:34 2023    ../../data\\2022-12-27-1100\\macro_pstats\\macro_pstats.sts\n",
      "\n",
      "         418540 function calls (414195 primitive calls) in 3.770 seconds\n",
      "\n",
      "   Ordered by: internal time\n",
      "   List reduced from 486 to 17 due to restriction <'macroscale'>\n",
      "\n",
      "   ncalls  tottime  percall  cumtime  percall filename:lineno(function)\n",
      "     2920    0.779    0.000    0.792    0.000 macroscale.py:164(actual_move)\n",
      "     2920    0.734    0.000    0.766    0.000 macroscale.py:169(check_back_row)\n",
      "        1    0.534    0.534    3.769    3.769 macroscale.py:282(run)\n",
      "     2920    0.353    0.000    0.370    0.000 macroscale.py:158(find_which_neighbor)\n",
      "     2920    0.207    0.000    0.450    0.000 macroscale.py:99(bind)\n",
      "     2920    0.126    0.000    0.126    0.000 macroscale.py:272(find_molecule_fiber_status)\n",
      "     2920    0.083    0.000    0.083    0.000 macroscale.py:275(find_should_bind)\n",
      "     2920    0.062    0.000    2.057    0.001 macroscale.py:177(move)\n",
      "     2777    0.058    0.000    0.118    0.000 macroscale.py:257(find_lysis_time)\n",
      "     2920    0.021    0.000    0.035    0.000 macroscale.py:85(unbind_by_time)\n",
      "     2777    0.015    0.000    0.044    0.000 macroscale.py:235(find_unbinding_time)\n",
      "     2920    0.015    0.000    0.015    0.000 macroscale.py:152(find_free_to_move)\n",
      "     3157    0.008    0.000    0.027    0.000 macroscale.py:229(find_binding_time)\n",
      "     3135    0.007    0.000    0.019    0.000 macroscale.py:209(next)\n",
      "        1    0.006    0.006    0.010    0.010 macroscale.py:201(fill_list)\n",
      "     2920    0.003    0.000    0.015    0.000 macroscale.py:72(unbind_by_degradation)\n",
      "     2920    0.003    0.000    0.016    0.000 macroscale.py:142(find_still_stuck)\n",
      "\n",
      "\n"
     ]
    },
    {
     "data": {
      "text/plain": [
       "<pstats.Stats at 0x256472b8b10>"
      ]
     },
     "execution_count": 4,
     "metadata": {},
     "output_type": "execute_result"
    }
   ],
   "source": [
    "p = pstats.Stats(os.path.join(e.os_path, \"macro_pstats\", \"macro_pstats.sts\"))\n",
    "p.strip_dirs().sort_stats(SortKey.TIME).print_stats(\"macroscale\")"
   ]
  },
  {
   "cell_type": "code",
   "execution_count": 5,
   "id": "af1b94dd-2e95-4ea2-81a0-6fa26ddacdf6",
   "metadata": {},
   "outputs": [
    {
     "name": "stdout",
     "output_type": "stream",
     "text": [
      "Tue Jan 10 07:46:30 2023    ../../data\\2022-12-27-1100\\macro_pstats\\macro_pstats.sts\n",
      "\n",
      "         1509298 function calls (1509240 primitive calls) in 31.117 seconds\n",
      "\n",
      "   Ordered by: internal time\n",
      "   List reduced from 583 to 17 due to restriction <'macroscale'>\n",
      "\n",
      "   ncalls  tottime  percall  cumtime  percall filename:lineno(function)\n",
      "     2920    6.595    0.002   11.831    0.004 macroscale.py:99(bind)\n",
      "        1    5.881    5.881   31.117   31.117 macroscale.py:282(run)\n",
      "     2920    2.582    0.001    3.203    0.001 macroscale.py:169(check_back_row)\n",
      "     2642    2.019    0.001    3.023    0.001 macroscale.py:257(find_lysis_time)\n",
      "     2920    1.676    0.001    2.050    0.001 macroscale.py:164(actual_move)\n",
      "     2920    0.834    0.000    7.683    0.003 macroscale.py:177(move)\n",
      "     2920    0.682    0.000    0.880    0.000 macroscale.py:158(find_which_neighbor)\n",
      "     2920    0.513    0.000    0.521    0.000 macroscale.py:275(find_should_bind)\n",
      "     2920    0.323    0.000    0.565    0.000 macroscale.py:85(unbind_by_time)\n",
      "     2642    0.225    0.000    0.593    0.000 macroscale.py:235(find_unbinding_time)\n",
      "     2920    0.186    0.000    3.223    0.001 macroscale.py:72(unbind_by_degradation)\n",
      "     2920    0.149    0.000    0.172    0.000 macroscale.py:272(find_molecule_fiber_status)\n",
      "     2920    0.142    0.000    0.146    0.000 macroscale.py:152(find_free_to_move)\n",
      "     3039    0.088    0.000    0.175    0.000 macroscale.py:229(find_binding_time)\n",
      "     3026    0.039    0.000    0.080    0.000 macroscale.py:209(next)\n",
      "     2920    0.006    0.000    0.153    0.000 macroscale.py:142(find_still_stuck)\n",
      "        2    0.001    0.000    0.016    0.008 macroscale.py:201(fill_list)\n",
      "\n",
      "\n"
     ]
    },
    {
     "data": {
      "text/plain": [
       "<pstats.Stats at 0x256472fc7d0>"
      ]
     },
     "execution_count": 5,
     "metadata": {},
     "output_type": "execute_result"
    }
   ],
   "source": [
    "p = pstats.Stats(os.path.join(e.os_path, \"macro_pstats\", \"macro_pstats.sts\"))\n",
    "p.strip_dirs().sort_stats(SortKey.TIME).print_stats(\"macroscale\")"
   ]
  },
  {
   "cell_type": "code",
   "execution_count": null,
   "id": "3e3abe00-482c-4878-9a46-3890ce79610c",
   "metadata": {},
   "outputs": [],
   "source": []
  }
 ],
 "metadata": {
  "kernelspec": {
   "display_name": "Python 3 (ipykernel)",
   "language": "python",
   "name": "python3"
  },
  "language_info": {
   "codemirror_mode": {
    "name": "ipython",
    "version": 3
   },
   "file_extension": ".py",
   "mimetype": "text/x-python",
   "name": "python",
   "nbconvert_exporter": "python",
   "pygments_lexer": "ipython3",
   "version": "3.11.0"
  }
 },
 "nbformat": 4,
 "nbformat_minor": 5
}
