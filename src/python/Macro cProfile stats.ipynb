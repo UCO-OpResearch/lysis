{
 "cells": [
  {
   "cell_type": "code",
   "execution_count": 1,
   "id": "d08a4b7f-1a78-4d35-9bde-829212a01ea5",
   "metadata": {},
   "outputs": [],
   "source": [
    "import os\n",
    "import pstats\n",
    "\n",
    "from pstats import SortKey\n",
    "\n",
    "import lysis"
   ]
  },
  {
   "cell_type": "code",
   "execution_count": 2,
   "id": "de23677a-e2f2-426f-820d-d552e14a0611",
   "metadata": {},
   "outputs": [],
   "source": [
    "e = lysis.util.Experiment(r'../../data', experiment_code='2022-12-27-1100')\n",
    "p = {'total_time': 1}\n",
    "e.initialize_macro_param(p)\n",
    "macro = lysis.MacroscaleRun(e)"
   ]
  },
  {
   "cell_type": "code",
   "execution_count": 5,
   "id": "d00a8d14-3c9d-4f85-9001-21f867911acd",
   "metadata": {},
   "outputs": [
    {
     "name": "stdout",
     "output_type": "stream",
     "text": [
      "Sat Jan 14 19:42:08 2023    ../../data\\2022-12-27-1100\\macro_pstats\\macro_pstats_253.sts\n",
      "\n",
      "         519344720 function calls (515845393 primitive calls) in 4389.885 seconds\n",
      "\n",
      "   Ordered by: internal time\n",
      "   List reduced from 464 to 14 due to restriction <'macroscale'>\n",
      "\n",
      "   ncalls  tottime  percall  cumtime  percall filename:lineno(function)\n",
      "        1  946.817  946.817 4389.885 4389.885 np_macroscale.py:373(run)\n",
      "  3504733  789.831    0.000 1862.137    0.001 np_macroscale.py:217(move_to_empty_edge2)\n",
      "  3504733  623.139    0.000  775.426    0.000 np_macroscale.py:257(actual_move)\n",
      "  2591626  260.876    0.000  260.876    0.000 np_macroscale.py:130(get_neighbors)\n",
      "  3504733   67.068    0.000   79.889    0.000 np_macroscale.py:271(find_reached_rear)\n",
      "  3504733   58.333    0.000  125.331    0.000 np_macroscale.py:104(bind)\n",
      "  3504733   40.500    0.000   40.500    0.000 np_macroscale.py:243(find_still_stuck)\n",
      "  3504733   28.860    0.000 2786.812    0.001 np_macroscale.py:288(move)\n",
      "  3504733   22.350    0.000   40.971    0.000 np_macroscale.py:87(unbind_by_time)\n",
      "   784426   15.378    0.000   23.413    0.000 np_macroscale.py:358(find_lysis_time)\n",
      "  2775071    6.530    0.000   10.243    0.000 np_macroscale.py:316(next)\n",
      "   784426    4.531    0.000   11.657    0.000 np_macroscale.py:336(find_unbinding_time)\n",
      "  3504733    3.547    0.000   16.523    0.000 np_macroscale.py:75(unbind_by_degradation)\n",
      "      243    1.384    0.006    2.183    0.009 np_macroscale.py:308(fill_list)\n",
      "\n",
      "\n"
     ]
    },
    {
     "data": {
      "text/plain": [
       "<pstats.Stats at 0x17f225104d0>"
      ]
     },
     "execution_count": 5,
     "metadata": {},
     "output_type": "execute_result"
    }
   ],
   "source": [
    "p = pstats.Stats(os.path.join(e.os_path, \"macro_pstats\", \"macro_pstats_253.sts\"))\n",
    "p.strip_dirs().sort_stats(SortKey.TIME).print_stats(\"macroscale\")"
   ]
  },
  {
   "cell_type": "code",
   "execution_count": 4,
   "id": "c4c3ea29-60e4-43d6-858b-41f2d7d934d2",
   "metadata": {},
   "outputs": [
    {
     "name": "stdout",
     "output_type": "stream",
     "text": [
      "Sun Jan 15 10:15:58 2023    ../../data\\2022-12-27-1100\\macro_pstats\\macro_pstats_254.sts\n",
      "\n",
      "         511755277 function calls (508255955 primitive calls) in 7012.721 seconds\n",
      "\n",
      "   Ordered by: internal time\n",
      "   List reduced from 469 to 14 due to restriction <'macroscale'>\n",
      "\n",
      "   ncalls  tottime  percall  cumtime  percall filename:lineno(function)\n",
      "        1 1700.453 1700.453 7012.721 7012.721 np_macroscale.py:373(run)\n",
      "  3504733 1162.132    0.000 2788.348    0.001 np_macroscale.py:217(move_to_empty_edge2)\n",
      "  3504733  967.338    0.000 1217.435    0.000 np_macroscale.py:257(actual_move)\n",
      "  2591626  400.520    0.000  400.520    0.000 np_macroscale.py:130(get_neighbors)\n",
      "  3504733  137.514    0.000  156.753    0.000 np_macroscale.py:271(find_reached_rear)\n",
      "  3504733   96.455    0.000   96.455    0.000 np_macroscale.py:243(find_still_stuck)\n",
      "  3504733   89.582    0.000  191.333    0.000 np_macroscale.py:104(bind)\n",
      "  3504733   50.573    0.000 4309.565    0.001 np_macroscale.py:288(move)\n",
      "  3504733   36.657    0.000   65.740    0.000 np_macroscale.py:87(unbind_by_time)\n",
      "   784426   22.298    0.000   35.413    0.000 np_macroscale.py:358(find_lysis_time)\n",
      "      243    9.672    0.040   10.780    0.044 np_macroscale.py:308(fill_list)\n",
      "  2775071    9.279    0.000   22.955    0.000 np_macroscale.py:316(next)\n",
      "   784426    7.244    0.000   17.642    0.000 np_macroscale.py:336(find_unbinding_time)\n",
      "  3504733    4.708    0.000   24.811    0.000 np_macroscale.py:75(unbind_by_degradation)\n",
      "\n",
      "\n"
     ]
    },
    {
     "data": {
      "text/plain": [
       "<pstats.Stats at 0x17f21cd1f90>"
      ]
     },
     "execution_count": 4,
     "metadata": {},
     "output_type": "execute_result"
    }
   ],
   "source": [
    "p = pstats.Stats(os.path.join(e.os_path, \"macro_pstats\", \"macro_pstats_254.sts\"))\n",
    "p.strip_dirs().sort_stats(SortKey.TIME).print_stats(\"macroscale\")"
   ]
  },
  {
   "cell_type": "code",
   "execution_count": 40,
   "id": "5e9568f5-e7a0-47c9-b890-08a86341abbe",
   "metadata": {},
   "outputs": [
    {
     "name": "stdout",
     "output_type": "stream",
     "text": [
      "Sat Jan 14 19:42:08 2023    ../../data\\2022-12-27-1100\\macro_pstats\\macro_pstats_236.sts\n",
      "\n",
      "         175559378 function calls (174754802 primitive calls) in 1053.328 seconds\n",
      "\n",
      "   Ordered by: cumulative time\n",
      "   List reduced from 447 to 17 due to restriction <'macroscale'>\n",
      "\n",
      "   ncalls  tottime  percall  cumtime  percall filename:lineno(function)\n",
      "        1  187.404  187.404 1053.328 1053.328 np_macroscale.py:361(run)\n",
      "   584122    5.460    0.000  753.782    0.001 np_macroscale.py:276(move)\n",
      "   584122  183.151    0.000  648.643    0.001 np_macroscale.py:168(move_to_empty_edge)\n",
      "   550680  102.798    0.000  123.699    0.000 np_macroscale.py:128(get_neighbors)\n",
      "  4484400    2.386    0.000  112.543    0.000 np_macroscale.py:134(select_neighbor)\n",
      "  4484400   90.657    0.000  109.321    0.000 np_macroscale.py:141(check_neighbor_empty)\n",
      "  4484400  103.076    0.000  103.076    0.000 np_macroscale.py:158(reset_neighbors)\n",
      "   584122   57.512    0.000   78.955    0.000 np_macroscale.py:245(actual_move)\n",
      "   584122   16.154    0.000   34.125    0.000 np_macroscale.py:102(bind)\n",
      "   584122   11.453    0.000   13.638    0.000 np_macroscale.py:259(find_reached_rear)\n",
      "   584122    6.068    0.000    9.946    0.000 np_macroscale.py:85(unbind_by_time)\n",
      "   584122    7.086    0.000    7.086    0.000 np_macroscale.py:231(find_still_stuck)\n",
      "   217089    4.461    0.000    6.812    0.000 np_macroscale.py:346(find_lysis_time)\n",
      "   217089    1.296    0.000    3.472    0.000 np_macroscale.py:324(find_unbinding_time)\n",
      "   693711    1.749    0.000    3.141    0.000 np_macroscale.py:304(next)\n",
      "   584122    0.614    0.000    2.782    0.000 np_macroscale.py:73(unbind_by_degradation)\n",
      "       99    0.575    0.006    0.903    0.009 np_macroscale.py:296(fill_list)\n",
      "\n",
      "\n"
     ]
    },
    {
     "data": {
      "text/plain": [
       "<pstats.Stats at 0x17f24ab5710>"
      ]
     },
     "execution_count": 40,
     "metadata": {},
     "output_type": "execute_result"
    }
   ],
   "source": [
    "p = pstats.Stats(os.path.join(e.os_path, \"macro_pstats\", \"macro_pstats_236.sts\"))\n",
    "p.strip_dirs().sort_stats('cumulative').print_stats(\"macroscale\")"
   ]
  },
  {
   "cell_type": "code",
   "execution_count": 39,
   "id": "e1a7fd1c-4e31-4c49-98d0-011e452a166e",
   "metadata": {},
   "outputs": [
    {
     "name": "stdout",
     "output_type": "stream",
     "text": [
      "Sat Jan 14 19:42:08 2023    ../../data\\2022-12-27-1100\\macro_pstats\\macro_pstats_251.sts\n",
      "\n",
      "         97946391 function calls (97141935 primitive calls) in 869.097 seconds\n",
      "\n",
      "   Ordered by: cumulative time\n",
      "   List reduced from 457 to 14 due to restriction <'macroscale'>\n",
      "\n",
      "   ncalls  tottime  percall  cumtime  percall filename:lineno(function)\n",
      "        1  186.759  186.759  869.097  869.097 np_macroscale.py:373(run)\n",
      "   584122    5.244    0.000  571.054    0.001 np_macroscale.py:288(move)\n",
      "   584122  196.646    0.000  464.157    0.001 np_macroscale.py:217(move_to_empty_edge2)\n",
      "   584122   57.242    0.000   80.970    0.000 np_macroscale.py:257(actual_move)\n",
      "   550680   65.089    0.000   65.089    0.000 np_macroscale.py:130(get_neighbors)\n",
      "   584122   16.129    0.000   33.958    0.000 np_macroscale.py:104(bind)\n",
      "   584122   11.365    0.000   13.576    0.000 np_macroscale.py:271(find_reached_rear)\n",
      "   584122    6.040    0.000    9.941    0.000 np_macroscale.py:87(unbind_by_time)\n",
      "   584122    7.107    0.000    7.107    0.000 np_macroscale.py:243(find_still_stuck)\n",
      "   217183    4.419    0.000    6.747    0.000 np_macroscale.py:358(find_lysis_time)\n",
      "   217183    1.296    0.000    3.441    0.000 np_macroscale.py:336(find_unbinding_time)\n",
      "   693857    1.686    0.000    3.057    0.000 np_macroscale.py:316(next)\n",
      "   584122    0.604    0.000    2.790    0.000 np_macroscale.py:75(unbind_by_degradation)\n",
      "       98    0.567    0.006    0.891    0.009 np_macroscale.py:308(fill_list)\n",
      "\n",
      "\n"
     ]
    },
    {
     "data": {
      "text/plain": [
       "<pstats.Stats at 0x17f2496f910>"
      ]
     },
     "execution_count": 39,
     "metadata": {},
     "output_type": "execute_result"
    }
   ],
   "source": [
    "p = pstats.Stats(os.path.join(e.os_path, \"macro_pstats\", \"macro_pstats_251.sts\"))\n",
    "p.strip_dirs().sort_stats('cumulative').print_stats(\"macroscale\")"
   ]
  },
  {
   "cell_type": "code",
   "execution_count": 38,
   "id": "21b457ba-1254-447d-b6df-206fd5e364d1",
   "metadata": {},
   "outputs": [
    {
     "name": "stdout",
     "output_type": "stream",
     "text": [
      "Sun Jan 15 12:45:58 2023    ../../data\\2022-12-27-1100\\macro_pstats\\macro_pstats_255.sts\n",
      "\n",
      "         91236318 function calls (90431862 primitive calls) in 832.176 seconds\n",
      "\n",
      "   Ordered by: cumulative time\n",
      "   List reduced from 455 to 12 due to restriction <'macroscale'>\n",
      "\n",
      "   ncalls  tottime  percall  cumtime  percall filename:lineno(function)\n",
      "        1  186.693  186.693  832.176  832.176 np_macroscale.py:251(run)\n",
      "   584122   16.472    0.000  534.050    0.001 np_macroscale.py:164(move)\n",
      "   584122  218.623    0.000  426.225    0.001 np_macroscale.py:122(move_to_empty_edge)\n",
      "   584122   57.787    0.000   82.033    0.000 np_macroscale.py:152(unrestricted_move)\n",
      "   584122   16.237    0.000   34.155    0.000 np_macroscale.py:96(bind)\n",
      "   584122    6.138    0.000   10.051    0.000 np_macroscale.py:79(unbind_by_time)\n",
      "   584122    7.100    0.000    7.100    0.000 np_macroscale.py:142(find_still_stuck)\n",
      "   217183    4.433    0.000    6.770    0.000 np_macroscale.py:238(find_lysis_time)\n",
      "   217183    1.323    0.000    3.385    0.000 np_macroscale.py:216(find_unbinding_time)\n",
      "   693857    1.733    0.000    3.178    0.000 np_macroscale.py:196(next)\n",
      "   584122    0.611    0.000    2.807    0.000 np_macroscale.py:67(unbind_by_degradation)\n",
      "       98    0.568    0.006    0.895    0.009 np_macroscale.py:189(fill_list)\n",
      "\n",
      "\n"
     ]
    },
    {
     "data": {
      "text/plain": [
       "<pstats.Stats at 0x17f24903990>"
      ]
     },
     "execution_count": 38,
     "metadata": {},
     "output_type": "execute_result"
    }
   ],
   "source": [
    "p = pstats.Stats(os.path.join(e.os_path, \"macro_pstats\", \"macro_pstats_255.sts\"))\n",
    "p.strip_dirs().sort_stats('cumulative').print_stats(\"macroscale\")"
   ]
  },
  {
   "cell_type": "code",
   "execution_count": 37,
   "id": "c10c2f0a-5852-4787-992e-0ebdef4915c5",
   "metadata": {},
   "outputs": [
    {
     "name": "stdout",
     "output_type": "stream",
     "text": [
      "Sun Jan 15 13:04:12 2023    ../../data\\2022-12-27-1100\\macro_pstats\\macro_pstats_256.sts\n",
      "\n",
      "         91174947 function calls (90370491 primitive calls) in 802.405 seconds\n",
      "\n",
      "   Ordered by: cumulative time\n",
      "   List reduced from 455 to 12 due to restriction <'macroscale'>\n",
      "\n",
      "   ncalls  tottime  percall  cumtime  percall filename:lineno(function)\n",
      "        1  188.290  188.290  802.405  802.405 np_macroscale.py:252(run)\n",
      "   584122   16.714    0.000  501.992    0.001 np_macroscale.py:166(move)\n",
      "   584122  183.071    0.000  392.905    0.001 np_macroscale.py:122(move_to_empty_edge)\n",
      "   584122   58.472    0.000   82.970    0.000 np_macroscale.py:154(unrestricted_move)\n",
      "   584122   16.366    0.000   34.514    0.000 np_macroscale.py:96(bind)\n",
      "   584122    6.130    0.000   10.058    0.000 np_macroscale.py:79(unbind_by_time)\n",
      "   584122    7.169    0.000    7.169    0.000 np_macroscale.py:144(find_still_stuck)\n",
      "   217183    4.503    0.000    6.839    0.000 np_macroscale.py:239(find_lysis_time)\n",
      "   217183    1.373    0.000    3.491    0.000 np_macroscale.py:217(find_unbinding_time)\n",
      "   693857    1.784    0.000    3.170    0.000 np_macroscale.py:197(next)\n",
      "   584122    0.615    0.000    2.819    0.000 np_macroscale.py:67(unbind_by_degradation)\n",
      "       98    0.574    0.006    0.902    0.009 np_macroscale.py:190(fill_list)\n",
      "\n",
      "\n"
     ]
    },
    {
     "data": {
      "text/plain": [
       "<pstats.Stats at 0x17f22adc310>"
      ]
     },
     "execution_count": 37,
     "metadata": {},
     "output_type": "execute_result"
    }
   ],
   "source": [
    "p = pstats.Stats(os.path.join(e.os_path, \"macro_pstats\", \"macro_pstats_256.sts\"))\n",
    "p.strip_dirs().sort_stats('cumulative').print_stats(\"macroscale\")"
   ]
  },
  {
   "cell_type": "code",
   "execution_count": 36,
   "id": "b191ae39-f4ed-4a89-831e-28db49e96c44",
   "metadata": {},
   "outputs": [
    {
     "name": "stdout",
     "output_type": "stream",
     "text": [
      "Sun Jan 15 13:21:46 2023    ../../data\\2022-12-27-1100\\macro_pstats\\macro_pstats_257.sts\n",
      "\n",
      "         90093040 function calls (89288584 primitive calls) in 804.650 seconds\n",
      "\n",
      "   Ordered by: cumulative time\n",
      "   List reduced from 455 to 12 due to restriction <'macroscale'>\n",
      "\n",
      "   ncalls  tottime  percall  cumtime  percall filename:lineno(function)\n",
      "        1  189.448  189.448  804.650  804.650 np_macroscale.py:255(run)\n",
      "   584122   16.580    0.000  505.435    0.001 np_macroscale.py:169(move)\n",
      "   584122  184.388    0.000  396.470    0.001 np_macroscale.py:124(move_to_empty_edge)\n",
      "   584122   58.476    0.000   82.982    0.000 np_macroscale.py:157(unrestricted_move)\n",
      "   584122   14.739    0.000   32.080    0.000 np_macroscale.py:98(bind)\n",
      "   584122    6.132    0.000   10.071    0.000 np_macroscale.py:79(unbind_by_time)\n",
      "   584122    7.172    0.000    7.172    0.000 np_macroscale.py:146(find_still_stuck)\n",
      "   217183    4.530    0.000    6.880    0.000 np_macroscale.py:242(find_lysis_time)\n",
      "   217183    1.382    0.000    3.508    0.000 np_macroscale.py:220(find_unbinding_time)\n",
      "   693857    1.776    0.000    3.126    0.000 np_macroscale.py:200(next)\n",
      "   584122    0.618    0.000    2.826    0.000 np_macroscale.py:67(unbind_by_degradation)\n",
      "       98    0.574    0.006    0.903    0.009 np_macroscale.py:193(fill_list)\n",
      "\n",
      "\n"
     ]
    },
    {
     "data": {
      "text/plain": [
       "<pstats.Stats at 0x17f21c844d0>"
      ]
     },
     "execution_count": 36,
     "metadata": {},
     "output_type": "execute_result"
    }
   ],
   "source": [
    "p = pstats.Stats(os.path.join(e.os_path, \"macro_pstats\", \"macro_pstats_257.sts\"))\n",
    "p.strip_dirs().sort_stats('cumulative').print_stats(\"macroscale\")"
   ]
  },
  {
   "cell_type": "code",
   "execution_count": 35,
   "id": "2c82f17d-0292-4eff-89ef-c29f289cd3cf",
   "metadata": {},
   "outputs": [
    {
     "name": "stdout",
     "output_type": "stream",
     "text": [
      "Sun Jan 15 13:39:54 2023    ../../data\\2022-12-27-1100\\macro_pstats\\macro_pstats_258.sts\n",
      "\n",
      "         90091452 function calls (89286996 primitive calls) in 803.408 seconds\n",
      "\n",
      "   Ordered by: cumulative time\n",
      "   List reduced from 455 to 12 due to restriction <'macroscale'>\n",
      "\n",
      "   ncalls  tottime  percall  cumtime  percall filename:lineno(function)\n",
      "        1  191.231  191.231  803.407  803.407 np_macroscale.py:261(run)\n",
      "   584122   16.833    0.000  503.516    0.001 np_macroscale.py:240(move)\n",
      "   584122  182.322    0.000  394.041    0.001 np_macroscale.py:195(move_to_empty_edge)\n",
      "   584122   58.487    0.000   82.792    0.000 np_macroscale.py:228(unrestricted_move)\n",
      "   584122   12.590    0.000   29.886    0.000 np_macroscale.py:169(bind)\n",
      "   584122    6.102    0.000   10.026    0.000 np_macroscale.py:115(unbind_by_time)\n",
      "   584122    7.613    0.000    7.613    0.000 np_macroscale.py:217(find_still_stuck)\n",
      "   217183    4.550    0.000    6.927    0.000 np_macroscale.py:156(find_lysis_time)\n",
      "   217183    1.336    0.000    3.421    0.000 np_macroscale.py:134(find_unbinding_time)\n",
      "   693857    1.738    0.000    3.061    0.000 np_macroscale.py:83(next)\n",
      "   584122    0.612    0.000    2.836    0.000 np_macroscale.py:103(unbind_by_degradation)\n",
      "       98    0.572    0.006    0.898    0.009 np_macroscale.py:76(fill_list)\n",
      "\n",
      "\n"
     ]
    },
    {
     "data": {
      "text/plain": [
       "<pstats.Stats at 0x17f24903b10>"
      ]
     },
     "execution_count": 35,
     "metadata": {},
     "output_type": "execute_result"
    }
   ],
   "source": [
    "p = pstats.Stats(os.path.join(e.os_path, \"macro_pstats\", \"macro_pstats_258.sts\"))\n",
    "p.strip_dirs().sort_stats('cumulative').print_stats(\"macroscale\")"
   ]
  },
  {
   "cell_type": "code",
   "execution_count": 34,
   "id": "33be952f-a393-4d64-9f6c-d9892b714759",
   "metadata": {},
   "outputs": [
    {
     "name": "stdout",
     "output_type": "stream",
     "text": [
      "Sun Jan 15 13:56:21 2023    ../../data\\2022-12-27-1100\\macro_pstats\\macro_pstats_260.sts\n",
      "\n",
      "         83863833 function calls (83063521 primitive calls) in 723.311 seconds\n",
      "\n",
      "   Ordered by: cumulative time\n",
      "   List reduced from 454 to 12 due to restriction <'macroscale'>\n",
      "\n",
      "   ncalls  tottime  percall  cumtime  percall filename:lineno(function)\n",
      "        1   81.786   81.786  723.311  723.311 np_macroscale.py:255(run)\n",
      "   584122   16.901    0.000  506.251    0.001 np_macroscale.py:240(move)\n",
      "   584122  183.402    0.000  398.299    0.001 np_macroscale.py:195(move_to_empty_edge)\n",
      "   584122   57.586    0.000   81.804    0.000 np_macroscale.py:228(unrestricted_move)\n",
      "   584122   12.099    0.000   29.168    0.000 np_macroscale.py:169(bind)\n",
      "   584122    6.137    0.000   10.075    0.000 np_macroscale.py:115(unbind_by_time)\n",
      "   584122    7.017    0.000    7.017    0.000 np_macroscale.py:217(find_still_stuck)\n",
      "   217161    4.459    0.000    6.840    0.000 np_macroscale.py:156(find_lysis_time)\n",
      "   217161    1.334    0.000    3.402    0.000 np_macroscale.py:134(find_unbinding_time)\n",
      "   694329    1.752    0.000    3.090    0.000 np_macroscale.py:83(next)\n",
      "   584122    0.603    0.000    2.804    0.000 np_macroscale.py:103(unbind_by_degradation)\n",
      "       98    0.575    0.006    0.900    0.009 np_macroscale.py:76(fill_list)\n",
      "\n",
      "\n"
     ]
    },
    {
     "data": {
      "text/plain": [
       "<pstats.Stats at 0x17f247d7910>"
      ]
     },
     "execution_count": 34,
     "metadata": {},
     "output_type": "execute_result"
    }
   ],
   "source": [
    "p = pstats.Stats(os.path.join(e.os_path, \"macro_pstats\", \"macro_pstats_260.sts\"))\n",
    "p.strip_dirs().sort_stats('cumulative').print_stats(\"macroscale\")"
   ]
  },
  {
   "cell_type": "code",
   "execution_count": 41,
   "id": "78ebc7be-cb8d-4f1a-aebd-b0ef11399993",
   "metadata": {},
   "outputs": [
    {
     "name": "stdout",
     "output_type": "stream",
     "text": [
      "Sun Jan 15 14:12:52 2023    ../../data\\2022-12-27-1100\\macro_pstats\\macro_pstats_261.sts\n",
      "\n",
      "         83844879 function calls (83044567 primitive calls) in 714.228 seconds\n",
      "\n",
      "   Ordered by: cumulative time\n",
      "   List reduced from 454 to 12 due to restriction <'macroscale'>\n",
      "\n",
      "   ncalls  tottime  percall  cumtime  percall filename:lineno(function)\n",
      "        1   79.800   79.800  714.228  714.228 np_macroscale.py:250(run)\n",
      "   584122   16.704    0.000  499.411    0.001 np_macroscale.py:235(move)\n",
      "   584122  181.756    0.000  390.845    0.001 np_macroscale.py:195(move_to_empty_edge)\n",
      "   584122   57.907    0.000   82.405    0.000 np_macroscale.py:223(unrestricted_move)\n",
      "   584122   12.244    0.000   29.631    0.000 np_macroscale.py:169(bind)\n",
      "   584122    6.177    0.000   10.177    0.000 np_macroscale.py:115(unbind_by_time)\n",
      "   584122    7.156    0.000    7.156    0.000 np_macroscale.py:217(find_still_stuck)\n",
      "   217161    4.531    0.000    6.926    0.000 np_macroscale.py:156(find_lysis_time)\n",
      "   217161    1.351    0.000    3.494    0.000 np_macroscale.py:134(find_unbinding_time)\n",
      "   694329    1.772    0.000    3.106    0.000 np_macroscale.py:83(next)\n",
      "   584122    0.618    0.000    2.887    0.000 np_macroscale.py:103(unbind_by_degradation)\n",
      "       98    0.576    0.006    0.901    0.009 np_macroscale.py:76(fill_list)\n",
      "\n",
      "\n"
     ]
    },
    {
     "data": {
      "text/plain": [
       "<pstats.Stats at 0x17f249035d0>"
      ]
     },
     "execution_count": 41,
     "metadata": {},
     "output_type": "execute_result"
    }
   ],
   "source": [
    "p = pstats.Stats(os.path.join(e.os_path, \"macro_pstats\", \"macro_pstats_261.sts\"))\n",
    "p.strip_dirs().sort_stats('cumulative').print_stats(\"macroscale\")"
   ]
  },
  {
   "cell_type": "code",
   "execution_count": 42,
   "id": "d9865128-ecfb-4c96-8125-86c45e77d05d",
   "metadata": {},
   "outputs": [
    {
     "name": "stdout",
     "output_type": "stream",
     "text": [
      "Sun Jan 15 14:36:09 2023    ../../data\\2022-12-27-1100\\macro_pstats\\macro_pstats_262.sts\n",
      "\n",
      "         83852159 function calls (83051847 primitive calls) in 716.197 seconds\n",
      "\n",
      "   Ordered by: cumulative time\n",
      "   List reduced from 454 to 12 due to restriction <'macroscale'>\n",
      "\n",
      "   ncalls  tottime  percall  cumtime  percall filename:lineno(function)\n",
      "        1   80.824   80.824  716.197  716.197 np_macroscale.py:256(run)\n",
      "   584122   16.439    0.000  500.378    0.001 np_macroscale.py:240(move)\n",
      "   584122  182.245    0.000  393.085    0.001 np_macroscale.py:201(move_to_empty_edge)\n",
      "   584122   57.394    0.000   81.472    0.000 np_macroscale.py:228(unrestricted_move)\n",
      "   584122   12.202    0.000   29.304    0.000 np_macroscale.py:173(bind)\n",
      "   584122    6.170    0.000   10.137    0.000 np_macroscale.py:116(unbind_by_time)\n",
      "   584122    7.131    0.000    7.131    0.000 np_macroscale.py:223(find_still_stuck)\n",
      "   217161    4.457    0.000    6.830    0.000 np_macroscale.py:158(find_lysis_time)\n",
      "   217161    1.325    0.000    3.391    0.000 np_macroscale.py:136(find_unbinding_time)\n",
      "   694329    1.743    0.000    3.045    0.000 np_macroscale.py:83(next)\n",
      "   584122    0.609    0.000    2.839    0.000 np_macroscale.py:103(unbind_by_degradation)\n",
      "       98    0.569    0.006    0.894    0.009 np_macroscale.py:76(fill_list)\n",
      "\n",
      "\n"
     ]
    },
    {
     "data": {
      "text/plain": [
       "<pstats.Stats at 0x17f24b1ef10>"
      ]
     },
     "execution_count": 42,
     "metadata": {},
     "output_type": "execute_result"
    }
   ],
   "source": [
    "p = pstats.Stats(os.path.join(e.os_path, \"macro_pstats\", \"macro_pstats_262.sts\"))\n",
    "p.strip_dirs().sort_stats('cumulative').print_stats(\"macroscale\")"
   ]
  },
  {
   "cell_type": "code",
   "execution_count": 43,
   "id": "6fbbb6c3-acfc-4571-822e-e61742cf225e",
   "metadata": {},
   "outputs": [
    {
     "name": "stdout",
     "output_type": "stream",
     "text": [
      "Sun Jan 15 14:56:16 2023    ../../data\\2022-12-27-1100\\macro_pstats\\macro_pstats_263.sts\n",
      "\n",
      "         83817246 function calls (83016934 primitive calls) in 697.474 seconds\n",
      "\n",
      "   Ordered by: cumulative time\n",
      "   List reduced from 454 to 12 due to restriction <'macroscale'>\n",
      "\n",
      "   ncalls  tottime  percall  cumtime  percall filename:lineno(function)\n",
      "        1   77.262   77.262  697.474  697.474 np_macroscale.py:255(run)\n",
      "   584122   16.622    0.000  487.825    0.001 np_macroscale.py:240(move)\n",
      "   584122  177.984    0.000  382.603    0.001 np_macroscale.py:201(move_to_empty_edge)\n",
      "   584122   55.778    0.000   79.390    0.000 np_macroscale.py:228(unrestricted_move)\n",
      "   584122   11.963    0.000   28.573    0.000 np_macroscale.py:173(bind)\n",
      "   584122    6.069    0.000    9.962    0.000 np_macroscale.py:116(unbind_by_time)\n",
      "   584122    6.990    0.000    6.990    0.000 np_macroscale.py:223(find_still_stuck)\n",
      "   217161    4.345    0.000    6.670    0.000 np_macroscale.py:158(find_lysis_time)\n",
      "   217161    1.296    0.000    3.256    0.000 np_macroscale.py:136(find_unbinding_time)\n",
      "   694329    1.686    0.000    2.960    0.000 np_macroscale.py:83(next)\n",
      "   584122    0.593    0.000    2.776    0.000 np_macroscale.py:103(unbind_by_degradation)\n",
      "       98    0.562    0.006    0.886    0.009 np_macroscale.py:76(fill_list)\n",
      "\n",
      "\n"
     ]
    },
    {
     "data": {
      "text/plain": [
       "<pstats.Stats at 0x17f24c5ac50>"
      ]
     },
     "execution_count": 43,
     "metadata": {},
     "output_type": "execute_result"
    }
   ],
   "source": [
    "p = pstats.Stats(os.path.join(e.os_path, \"macro_pstats\", \"macro_pstats_263.sts\"))\n",
    "p.strip_dirs().sort_stats('cumulative').print_stats(\"macroscale\")"
   ]
  },
  {
   "cell_type": "code",
   "execution_count": 44,
   "id": "2540c640-3115-48bd-8c50-f7cd4211070e",
   "metadata": {},
   "outputs": [
    {
     "name": "stdout",
     "output_type": "stream",
     "text": [
      "Sun Jan 15 15:23:39 2023    ../../data\\2022-12-27-1100\\macro_pstats\\macro_pstats_264.sts\n",
      "\n",
      "         79910589 function calls (79110277 primitive calls) in 700.423 seconds\n",
      "\n",
      "   Ordered by: cumulative time\n",
      "   List reduced from 447 to 12 due to restriction <'macroscale'>\n",
      "\n",
      "   ncalls  tottime  percall  cumtime  percall filename:lineno(function)\n",
      "        1   79.305   79.305  700.423  700.423 np_macroscale.py:254(run)\n",
      "   584122   16.765    0.000  496.655    0.001 np_macroscale.py:239(move)\n",
      "   584122  180.319    0.000  389.801    0.001 np_macroscale.py:200(move_to_empty_edge)\n",
      "   584122   56.817    0.000   80.668    0.000 np_macroscale.py:227(unrestricted_move)\n",
      "   584122    6.644    0.000   19.548    0.000 np_macroscale.py:173(bind)\n",
      "   584122    6.192    0.000   10.128    0.000 np_macroscale.py:116(unbind_by_time)\n",
      "   584122    7.180    0.000    7.180    0.000 np_macroscale.py:222(find_still_stuck)\n",
      "   217161    4.455    0.000    6.812    0.000 np_macroscale.py:158(find_lysis_time)\n",
      "   217161    1.286    0.000    3.320    0.000 np_macroscale.py:136(find_unbinding_time)\n",
      "   694329    1.713    0.000    3.017    0.000 np_macroscale.py:83(next)\n",
      "   584122    0.608    0.000    2.841    0.000 np_macroscale.py:103(unbind_by_degradation)\n",
      "       98    0.569    0.006    0.897    0.009 np_macroscale.py:76(fill_list)\n",
      "\n",
      "\n"
     ]
    },
    {
     "data": {
      "text/plain": [
       "<pstats.Stats at 0x17f23074f50>"
      ]
     },
     "execution_count": 44,
     "metadata": {},
     "output_type": "execute_result"
    }
   ],
   "source": [
    "p = pstats.Stats(os.path.join(e.os_path, \"macro_pstats\", \"macro_pstats_264.sts\"))\n",
    "p.strip_dirs().sort_stats('cumulative').print_stats(\"macroscale\")"
   ]
  },
  {
   "cell_type": "code",
   "execution_count": 45,
   "id": "d6208d05-f3cd-47a3-827b-26d5d48e077c",
   "metadata": {},
   "outputs": [
    {
     "name": "stdout",
     "output_type": "stream",
     "text": [
      "Sun Jan 15 15:36:12 2023    ../../data\\2022-12-27-1100\\macro_pstats\\macro_pstats_265.sts\n",
      "\n",
      "         79903943 function calls (79103631 primitive calls) in 696.022 seconds\n",
      "\n",
      "   Ordered by: cumulative time\n",
      "   List reduced from 447 to 12 due to restriction <'macroscale'>\n",
      "\n",
      "   ncalls  tottime  percall  cumtime  percall filename:lineno(function)\n",
      "        1   78.377   78.377  696.022  696.022 np_macroscale.py:254(run)\n",
      "   584122   16.451    0.000  493.893    0.001 np_macroscale.py:239(move)\n",
      "   584122  179.534    0.000  386.641    0.001 np_macroscale.py:200(move_to_empty_edge)\n",
      "   584122   56.631    0.000   81.438    0.000 np_macroscale.py:227(unrestricted_move)\n",
      "   584122    6.599    0.000   19.660    0.000 np_macroscale.py:173(bind)\n",
      "   584122    5.856    0.000    9.839    0.000 np_macroscale.py:116(unbind_by_time)\n",
      "   584122    7.134    0.000    7.134    0.000 np_macroscale.py:222(find_still_stuck)\n",
      "   217161    4.651    0.000    7.000    0.000 np_macroscale.py:158(find_lysis_time)\n",
      "   217161    1.276    0.000    3.284    0.000 np_macroscale.py:136(find_unbinding_time)\n",
      "   694329    1.706    0.000    3.039    0.000 np_macroscale.py:83(next)\n",
      "   584122    0.584    0.000    2.806    0.000 np_macroscale.py:103(unbind_by_degradation)\n",
      "       98    0.569    0.006    0.898    0.009 np_macroscale.py:76(fill_list)\n",
      "\n",
      "\n"
     ]
    },
    {
     "data": {
      "text/plain": [
       "<pstats.Stats at 0x17f24b8b810>"
      ]
     },
     "execution_count": 45,
     "metadata": {},
     "output_type": "execute_result"
    }
   ],
   "source": [
    "p = pstats.Stats(os.path.join(e.os_path, \"macro_pstats\", \"macro_pstats_265.sts\"))\n",
    "p.strip_dirs().sort_stats('cumulative').print_stats(\"macroscale\")"
   ]
  },
  {
   "cell_type": "code",
   "execution_count": 46,
   "id": "cbd4a569-02f1-4098-a0f8-8230137bcae1",
   "metadata": {},
   "outputs": [
    {
     "name": "stdout",
     "output_type": "stream",
     "text": [
      "Sun Jan 15 15:50:36 2023    ../../data\\2022-12-27-1100\\macro_pstats\\macro_pstats_266.sts\n",
      "\n",
      "         79912960 function calls (79112648 primitive calls) in 701.378 seconds\n",
      "\n",
      "   Ordered by: cumulative time\n",
      "   List reduced from 447 to 12 due to restriction <'macroscale'>\n",
      "\n",
      "   ncalls  tottime  percall  cumtime  percall filename:lineno(function)\n",
      "        1   79.686   79.686  701.377  701.377 np_macroscale.py:245(run)\n",
      "   584122   16.817    0.000  497.685    0.001 np_macroscale.py:230(move)\n",
      "   584122  181.016    0.000  388.981    0.001 np_macroscale.py:191(move_to_empty_edge)\n",
      "   584122   57.224    0.000   82.388    0.000 np_macroscale.py:218(unrestricted_move)\n",
      "   584122    6.713    0.000   20.000    0.000 np_macroscale.py:171(bind)\n",
      "   584122    5.359    0.000    9.378    0.000 np_macroscale.py:115(unbind_by_time)\n",
      "   584122    7.243    0.000    7.243    0.000 np_macroscale.py:213(find_still_stuck)\n",
      "   217161    4.776    0.000    7.160    0.000 np_macroscale.py:156(find_lysis_time)\n",
      "   217161    1.296    0.000    3.325    0.000 np_macroscale.py:134(find_unbinding_time)\n",
      "   694329    1.779    0.000    3.193    0.000 np_macroscale.py:83(next)\n",
      "   584122    0.584    0.000    2.816    0.000 np_macroscale.py:103(unbind_by_degradation)\n",
      "       98    0.574    0.006    0.900    0.009 np_macroscale.py:76(fill_list)\n",
      "\n",
      "\n"
     ]
    },
    {
     "data": {
      "text/plain": [
       "<pstats.Stats at 0x17f24c5ac10>"
      ]
     },
     "execution_count": 46,
     "metadata": {},
     "output_type": "execute_result"
    }
   ],
   "source": [
    "p = pstats.Stats(os.path.join(e.os_path, \"macro_pstats\", \"macro_pstats_266.sts\"))\n",
    "p.strip_dirs().sort_stats('cumulative').print_stats(\"macroscale\")"
   ]
  },
  {
   "cell_type": "code",
   "execution_count": 47,
   "id": "6a4d7db4-ba14-455a-a97a-5694753b7b09",
   "metadata": {},
   "outputs": [
    {
     "name": "stdout",
     "output_type": "stream",
     "text": [
      "Sun Jan 15 16:07:57 2023    ../../data\\2022-12-27-1100\\macro_pstats\\macro_pstats_267.sts\n",
      "\n",
      "         79367282 function calls (78566807 primitive calls) in 716.878 seconds\n",
      "\n",
      "   Ordered by: cumulative time\n",
      "   List reduced from 447 to 12 due to restriction <'macroscale'>\n",
      "\n",
      "   ncalls  tottime  percall  cumtime  percall filename:lineno(function)\n",
      "        1   79.141   79.141  716.878  716.878 np_macroscale.py:245(run)\n",
      "   584122   16.628    0.000  497.552    0.001 np_macroscale.py:230(move)\n",
      "   584122  180.832    0.000  390.606    0.001 np_macroscale.py:191(move_to_empty_edge)\n",
      "   584122   56.980    0.000   80.923    0.000 np_macroscale.py:218(unrestricted_move)\n",
      "   584122    5.589    0.000   26.241    0.000 np_macroscale.py:115(unbind_by_time)\n",
      "   584122    6.658    0.000   19.570    0.000 np_macroscale.py:171(bind)\n",
      "   584122    7.173    0.000    7.173    0.000 np_macroscale.py:213(find_still_stuck)\n",
      "   216751    4.405    0.000    6.772    0.000 np_macroscale.py:156(find_lysis_time)\n",
      "   216751    1.310    0.000    3.349    0.000 np_macroscale.py:134(find_unbinding_time)\n",
      "   694028    1.706    0.000    3.011    0.000 np_macroscale.py:83(next)\n",
      "   584122    0.587    0.000    2.813    0.000 np_macroscale.py:103(unbind_by_degradation)\n",
      "       98    0.566    0.006    0.893    0.009 np_macroscale.py:76(fill_list)\n",
      "\n",
      "\n"
     ]
    },
    {
     "data": {
      "text/plain": [
       "<pstats.Stats at 0x17f24de8550>"
      ]
     },
     "execution_count": 47,
     "metadata": {},
     "output_type": "execute_result"
    }
   ],
   "source": [
    "p = pstats.Stats(os.path.join(e.os_path, \"macro_pstats\", \"macro_pstats_267.sts\"))\n",
    "p.strip_dirs().sort_stats('cumulative').print_stats(\"macroscale\")"
   ]
  },
  {
   "cell_type": "code",
   "execution_count": 48,
   "id": "34163e35-e0d8-4e2e-a7b5-b76aacdbae1c",
   "metadata": {},
   "outputs": [
    {
     "name": "stdout",
     "output_type": "stream",
     "text": [
      "Sun Jan 15 16:34:00 2023    ../../data\\2022-12-27-1100\\macro_pstats\\macro_pstats_268.sts\n",
      "\n",
      "         79310973 function calls (78510661 primitive calls) in 698.040 seconds\n",
      "\n",
      "   Ordered by: cumulative time\n",
      "   List reduced from 447 to 12 due to restriction <'macroscale'>\n",
      "\n",
      "   ncalls  tottime  percall  cumtime  percall filename:lineno(function)\n",
      "        1   79.217   79.217  698.039  698.039 np_macroscale.py:244(run)\n",
      "   584122   16.704    0.000  495.883    0.001 np_macroscale.py:229(move)\n",
      "   584122  180.632    0.000  389.079    0.001 np_macroscale.py:190(move_to_empty_edge)\n",
      "   584122   56.714    0.000   80.639    0.000 np_macroscale.py:217(unrestricted_move)\n",
      "   584122    6.646    0.000   19.479    0.000 np_macroscale.py:170(bind)\n",
      "   584122    4.747    0.000    8.306    0.000 np_macroscale.py:115(unbind_by_time)\n",
      "   584122    7.230    0.000    7.230    0.000 np_macroscale.py:212(find_still_stuck)\n",
      "   217161    4.374    0.000    6.732    0.000 np_macroscale.py:155(find_lysis_time)\n",
      "   217161    1.331    0.000    3.314    0.000 np_macroscale.py:133(find_unbinding_time)\n",
      "   694329    1.713    0.000    3.035    0.000 np_macroscale.py:83(next)\n",
      "   584122    0.579    0.000    2.802    0.000 np_macroscale.py:103(unbind_by_degradation)\n",
      "       98    0.570    0.006    0.897    0.009 np_macroscale.py:76(fill_list)\n",
      "\n",
      "\n"
     ]
    },
    {
     "data": {
      "text/plain": [
       "<pstats.Stats at 0x17f24e27c90>"
      ]
     },
     "execution_count": 48,
     "metadata": {},
     "output_type": "execute_result"
    }
   ],
   "source": [
    "p = pstats.Stats(os.path.join(e.os_path, \"macro_pstats\", \"macro_pstats_268.sts\"))\n",
    "p.strip_dirs().sort_stats('cumulative').print_stats(\"macroscale\")"
   ]
  },
  {
   "cell_type": "code",
   "execution_count": 49,
   "id": "daf35d24-9a35-4139-86ef-dc0666a0dbec",
   "metadata": {},
   "outputs": [
    {
     "name": "stdout",
     "output_type": "stream",
     "text": [
      "Sun Jan 15 16:52:29 2023    ../../data\\2022-12-27-1100\\macro_pstats\\macro_pstats_269.sts\n",
      "\n",
      "         76680773 function calls (75879389 primitive calls) in 815.451 seconds\n",
      "\n",
      "   Ordered by: cumulative time\n",
      "   List reduced from 447 to 12 due to restriction <'macroscale'>\n",
      "\n",
      "   ncalls  tottime  percall  cumtime  percall filename:lineno(function)\n",
      "        1  105.991  105.991  815.450  815.450 np_macroscale.py:244(run)\n",
      "   584122   16.826    0.000  503.015    0.001 np_macroscale.py:229(move)\n",
      "   584122  182.920    0.000  393.204    0.001 np_macroscale.py:190(move_to_empty_edge)\n",
      "   584122   58.770    0.000   83.455    0.000 np_macroscale.py:217(unrestricted_move)\n",
      "   584122    7.030    0.000   20.934    0.000 np_macroscale.py:170(bind)\n",
      "   584122    4.773    0.000    8.387    0.000 np_macroscale.py:115(unbind_by_time)\n",
      "   584122    7.258    0.000    7.258    0.000 np_macroscale.py:212(find_still_stuck)\n",
      "   217080    4.555    0.000    6.966    0.000 np_macroscale.py:155(find_lysis_time)\n",
      "   217080    1.373    0.000    3.533    0.000 np_macroscale.py:133(find_unbinding_time)\n",
      "   694086    1.730    0.000    3.075    0.000 np_macroscale.py:83(next)\n",
      "   584122    0.591    0.000    2.856    0.000 np_macroscale.py:103(unbind_by_degradation)\n",
      "       99    0.577    0.006    0.906    0.009 np_macroscale.py:76(fill_list)\n",
      "\n",
      "\n"
     ]
    },
    {
     "data": {
      "text/plain": [
       "<pstats.Stats at 0x17f24dbfc90>"
      ]
     },
     "execution_count": 49,
     "metadata": {},
     "output_type": "execute_result"
    }
   ],
   "source": [
    "p = pstats.Stats(os.path.join(e.os_path, \"macro_pstats\", \"macro_pstats_269.sts\"))\n",
    "p.strip_dirs().sort_stats('cumulative').print_stats(\"macroscale\")"
   ]
  },
  {
   "cell_type": "code",
   "execution_count": 50,
   "id": "117bfce7-7a2f-42c6-8970-4af747d7a9c8",
   "metadata": {},
   "outputs": [
    {
     "name": "stdout",
     "output_type": "stream",
     "text": [
      "Sun Jan 15 18:02:21 2023    ../../data\\2022-12-27-1100\\macro_pstats\\macro_pstats_270.sts\n",
      "\n",
      "         79326274 function calls (78525962 primitive calls) in 707.921 seconds\n",
      "\n",
      "   Ordered by: cumulative time\n",
      "   List reduced from 447 to 12 due to restriction <'macroscale'>\n",
      "\n",
      "   ncalls  tottime  percall  cumtime  percall filename:lineno(function)\n",
      "        1   80.888   80.888  707.921  707.921 np_macroscale.py:244(run)\n",
      "   584122   16.943    0.000  502.768    0.001 np_macroscale.py:229(move)\n",
      "   584122  183.013    0.000  393.286    0.001 np_macroscale.py:190(move_to_empty_edge)\n",
      "   584122   58.325    0.000   82.953    0.000 np_macroscale.py:217(unrestricted_move)\n",
      "   584122    6.786    0.000   20.006    0.000 np_macroscale.py:170(bind)\n",
      "   584122    4.859    0.000    8.508    0.000 np_macroscale.py:115(unbind_by_time)\n",
      "   584122    7.316    0.000    7.316    0.000 np_macroscale.py:212(find_still_stuck)\n",
      "   217161    4.525    0.000    6.924    0.000 np_macroscale.py:155(find_lysis_time)\n",
      "   217161    1.354    0.000    3.459    0.000 np_macroscale.py:133(find_unbinding_time)\n",
      "   694329    1.738    0.000    3.092    0.000 np_macroscale.py:83(next)\n",
      "   584122    0.602    0.000    2.866    0.000 np_macroscale.py:103(unbind_by_degradation)\n",
      "       98    0.580    0.006    0.907    0.009 np_macroscale.py:76(fill_list)\n",
      "\n",
      "\n"
     ]
    },
    {
     "data": {
      "text/plain": [
       "<pstats.Stats at 0x17f24ef7110>"
      ]
     },
     "execution_count": 50,
     "metadata": {},
     "output_type": "execute_result"
    }
   ],
   "source": [
    "p = pstats.Stats(os.path.join(e.os_path, \"macro_pstats\", \"macro_pstats_270.sts\"))\n",
    "p.strip_dirs().sort_stats('cumulative').print_stats(\"macroscale\")"
   ]
  },
  {
   "cell_type": "code",
   "execution_count": null,
   "id": "e6599a30-9e6c-4c16-aeec-4a93dcf9912f",
   "metadata": {},
   "outputs": [],
   "source": []
  }
 ],
 "metadata": {
  "kernelspec": {
   "display_name": "Python 3 (ipykernel)",
   "language": "python",
   "name": "python3"
  },
  "language_info": {
   "codemirror_mode": {
    "name": "ipython",
    "version": 3
   },
   "file_extension": ".py",
   "mimetype": "text/x-python",
   "name": "python",
   "nbconvert_exporter": "python",
   "pygments_lexer": "ipython3",
   "version": "3.11.0"
  }
 },
 "nbformat": 4,
 "nbformat_minor": 5
}
