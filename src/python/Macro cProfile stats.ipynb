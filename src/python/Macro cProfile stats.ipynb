{
 "cells": [
  {
   "cell_type": "code",
   "execution_count": 2,
   "id": "d08a4b7f-1a78-4d35-9bde-829212a01ea5",
   "metadata": {},
   "outputs": [],
   "source": [
    "import os\n",
    "import pstats\n",
    "\n",
    "from pstats import SortKey\n",
    "\n",
    "import lysis"
   ]
  },
  {
   "cell_type": "code",
   "execution_count": 3,
   "id": "de23677a-e2f2-426f-820d-d552e14a0611",
   "metadata": {},
   "outputs": [],
   "source": [
    "e = lysis.util.Experiment(r'../../data', experiment_code='2022-12-27-1100')\n",
    "p = {'total_time': 1}\n",
    "e.initialize_macro_param(p)\n",
    "macro = lysis.MacroscaleRun(e)"
   ]
  },
  {
   "cell_type": "code",
   "execution_count": 49,
   "id": "ee5fbfef-b2da-48a4-a66b-2489e1705db1",
   "metadata": {},
   "outputs": [
    {
     "name": "stdout",
     "output_type": "stream",
     "text": [
      "Sun Jan  8 18:40:24 2023    ../../data\\2022-12-27-1100\\macro_pstats\\macro_pstats.sts\n",
      "\n",
      "         465000 function calls (464925 primitive calls) in 5.250 seconds\n",
      "\n",
      "   Ordered by: internal time\n",
      "   List reduced from 479 to 17 due to restriction <'macroscale'>\n",
      "\n",
      "   ncalls  tottime  percall  cumtime  percall filename:lineno(function)\n",
      "     2920    0.810    0.000    0.824    0.000 macroscale.py:160(actual_move)\n",
      "     2920    0.765    0.000    0.866    0.000 macroscale.py:139(find_still_stuck)\n",
      "     2920    0.753    0.000    0.788    0.000 macroscale.py:165(check_back_row)\n",
      "        1    0.628    0.628    5.250    5.250 macroscale.py:277(run)\n",
      "     2920    0.372    0.000    3.487    0.001 macroscale.py:173(move)\n",
      "     2920    0.361    0.000    0.379    0.000 macroscale.py:154(find_which_neighbor)\n",
      "     2920    0.191    0.000    0.455    0.000 macroscale.py:98(bind)\n",
      "     2920    0.133    0.000    0.133    0.000 macroscale.py:274(find_molecule_fiber_status)\n",
      "       22    0.130    0.006    0.204    0.009 macroscale.py:194(fill_list)\n",
      "     2770    0.072    0.000    0.092    0.000 macroscale.py:228(find_unbinding_time)\n",
      "     2770    0.051    0.000    0.093    0.000 macroscale.py:257(find_lysis_time)\n",
      "     2920    0.020    0.000    0.034    0.000 macroscale.py:84(unbind_by_time)\n",
      "     3136    0.019    0.000    0.234    0.000 macroscale.py:222(find_binding_time)\n",
      "     2920    0.015    0.000    0.015    0.000 macroscale.py:148(find_free_to_move)\n",
      "     2920    0.013    0.000    0.073    0.000 macroscale.py:122(move_to_empty_edge)\n",
      "     3136    0.009    0.000    0.215    0.000 macroscale.py:202(next)\n",
      "     2920    0.003    0.000    0.015    0.000 macroscale.py:72(unbind_by_degradation)\n",
      "\n",
      "\n"
     ]
    },
    {
     "data": {
      "text/plain": [
       "<pstats.Stats at 0x1f7dac32110>"
      ]
     },
     "execution_count": 49,
     "metadata": {},
     "output_type": "execute_result"
    }
   ],
   "source": [
    "p = pstats.Stats(os.path.join(e.os_path, \"macro_pstats\", \"macro_pstats.sts\"))\n",
    "p.strip_dirs().sort_stats(SortKey.TIME).print_stats(\"macroscale\")"
   ]
  },
  {
   "cell_type": "code",
   "execution_count": 50,
   "id": "3df91a42-2cdc-4dd2-af56-65bc58b4543b",
   "metadata": {
    "tags": []
   },
   "outputs": [
    {
     "name": "stdout",
     "output_type": "stream",
     "text": [
      "Sun Jan  8 18:50:36 2023    ../../data\\2022-12-27-1100\\macro_pstats\\macro_pstats.sts\n",
      "\n",
      "         163612206 function calls (163612026 primitive calls) in 2740.388 seconds\n",
      "\n",
      "   Ordered by: internal time\n",
      "   List reduced from 576 to 18 due to restriction <'macroscale'>\n",
      "\n",
      "   ncalls  tottime  percall  cumtime  percall filename:lineno(function)\n",
      "  1752366  501.100    0.000  555.069    0.000 macroscale.py:139(find_still_stuck)\n",
      "  1752366  499.830    0.000  499.830    0.000 macroscale.py:163(check_back_row)\n",
      "  1752366  389.993    0.000  397.903    0.000 macroscale.py:158(actual_move)\n",
      "        1  384.270  384.270 2740.388 2740.388 macroscale.py:273(run)\n",
      "  1752366  172.572    0.000 1923.590    0.001 macroscale.py:169(move)\n",
      "  1752366  166.681    0.000  175.484    0.000 macroscale.py:152(find_which_neighbor)\n",
      "  1752366   91.436    0.000   91.436    0.000 macroscale.py:270(find_molecule_fiber_status)\n",
      "     9867   57.019    0.006   91.030    0.009 macroscale.py:190(fill_list)\n",
      "  1752366   27.200    0.000   57.221    0.000 macroscale.py:98(bind)\n",
      "  1752366   23.581    0.000   34.834    0.000 macroscale.py:84(unbind_by_time)\n",
      "  2037881   10.311    0.000  108.093    0.000 macroscale.py:218(find_binding_time)\n",
      "  1752366    9.591    0.000    9.591    0.000 macroscale.py:146(find_free_to_move)\n",
      "  1752366    8.769    0.000   45.447    0.000 macroscale.py:122(move_to_empty_edge)\n",
      "   409363    5.346    0.000    7.095    0.000 macroscale.py:224(find_unbinding_time)\n",
      "  2037881    5.251    0.000   97.783    0.000 macroscale.py:198(next)\n",
      "   409363    3.810    0.000    7.116    0.000 macroscale.py:253(find_lysis_time)\n",
      "  1752366    2.180    0.000    9.753    0.000 macroscale.py:72(unbind_by_degradation)\n",
      "    39272    0.167    0.000    0.167    0.000 macroscale.py:124(<listcomp>)\n",
      "\n",
      "\n"
     ]
    },
    {
     "data": {
      "text/plain": [
       "<pstats.Stats at 0x1f7dd59b050>"
      ]
     },
     "execution_count": 50,
     "metadata": {},
     "output_type": "execute_result"
    }
   ],
   "source": [
    "p = pstats.Stats(os.path.join(e.os_path, \"macro_pstats\", \"macro_pstats.sts\"))\n",
    "p.strip_dirs().sort_stats(SortKey.TIME).print_stats(\"macroscale\")"
   ]
  },
  {
   "cell_type": "code",
   "execution_count": 4,
   "id": "9e6a9969-eb58-47f1-97e3-21bc1747fb80",
   "metadata": {
    "collapsed": true,
    "jupyter": {
     "outputs_hidden": true
    },
    "tags": []
   },
   "outputs": [
    {
     "name": "stdout",
     "output_type": "stream",
     "text": [
      "Mon Jan  9 08:03:07 2023    ../../data\\2022-12-27-1100\\macro_pstats\\macro_pstats.sts\n",
      "\n",
      "         442718 function calls (439873 primitive calls) in 5.249 seconds\n",
      "\n",
      "   Ordered by: internal time\n",
      "   List reduced from 485 to 17 due to restriction <'macroscale'>\n",
      "\n",
      "   ncalls  tottime  percall  cumtime  percall filename:lineno(function)\n",
      "     2920    0.820    0.000    0.834    0.000 macroscale.py:158(actual_move)\n",
      "     2920    0.765    0.000    0.867    0.000 macroscale.py:137(find_still_stuck)\n",
      "     2920    0.758    0.000    0.792    0.000 macroscale.py:163(check_back_row)\n",
      "        1    0.628    0.628    5.249    5.249 macroscale.py:283(run)\n",
      "     2920    0.374    0.000    3.507    0.001 macroscale.py:171(move)\n",
      "     2920    0.364    0.000    0.381    0.000 macroscale.py:152(find_which_neighbor)\n",
      "     2920    0.189    0.000    0.428    0.000 macroscale.py:96(bind)\n",
      "     2920    0.137    0.000    0.137    0.000 macroscale.py:280(find_molecule_fiber_status)\n",
      "       22    0.129    0.006    0.205    0.009 macroscale.py:192(fill_list)\n",
      "     2770    0.056    0.000    0.098    0.000 macroscale.py:263(find_lysis_time)\n",
      "     2770    0.032    0.000    0.061    0.000 macroscale.py:226(find_unbinding_time)\n",
      "     2920    0.019    0.000    0.034    0.000 macroscale.py:82(unbind_by_time)\n",
      "     3136    0.019    0.000    0.235    0.000 macroscale.py:220(find_binding_time)\n",
      "     2920    0.015    0.000    0.015    0.000 macroscale.py:146(find_free_to_move)\n",
      "     2920    0.013    0.000    0.074    0.000 macroscale.py:120(move_to_empty_edge)\n",
      "     3136    0.009    0.000    0.216    0.000 macroscale.py:200(next)\n",
      "     2920    0.003    0.000    0.015    0.000 macroscale.py:70(unbind_by_degradation)\n",
      "\n",
      "\n"
     ]
    },
    {
     "data": {
      "text/plain": [
       "<pstats.Stats at 0x229bcf84b90>"
      ]
     },
     "execution_count": 4,
     "metadata": {},
     "output_type": "execute_result"
    }
   ],
   "source": [
    "p = pstats.Stats(os.path.join(e.os_path, \"macro_pstats\", \"macro_pstats.sts\"))\n",
    "p.strip_dirs().sort_stats(SortKey.TIME).print_stats(\"macroscale\")"
   ]
  },
  {
   "cell_type": "code",
   "execution_count": 5,
   "id": "62fe2e2d-2cc9-4298-b0b4-eaa139b72ee2",
   "metadata": {
    "collapsed": true,
    "jupyter": {
     "outputs_hidden": true
    },
    "tags": []
   },
   "outputs": [
    {
     "name": "stdout",
     "output_type": "stream",
     "text": [
      "Mon Jan  9 08:05:32 2023    ../../data\\2022-12-27-1100\\macro_pstats\\macro_pstats.sts\n",
      "\n",
      "         440130 function calls (437285 primitive calls) in 5.314 seconds\n",
      "\n",
      "   Ordered by: internal time\n",
      "   List reduced from 485 to 17 due to restriction <'macroscale'>\n",
      "\n",
      "   ncalls  tottime  percall  cumtime  percall filename:lineno(function)\n",
      "     2920    0.832    0.000    0.846    0.000 macroscale.py:159(actual_move)\n",
      "     2920    0.770    0.000    0.874    0.000 macroscale.py:138(find_still_stuck)\n",
      "     2920    0.765    0.000    0.802    0.000 macroscale.py:164(check_back_row)\n",
      "        1    0.642    0.642    5.314    5.314 macroscale.py:284(run)\n",
      "     2920    0.377    0.000    3.552    0.001 macroscale.py:172(move)\n",
      "     2920    0.366    0.000    0.385    0.000 macroscale.py:153(find_which_neighbor)\n",
      "     2920    0.193    0.000    0.423    0.000 macroscale.py:97(bind)\n",
      "     2920    0.140    0.000    0.140    0.000 macroscale.py:281(find_molecule_fiber_status)\n",
      "       22    0.138    0.006    0.213    0.010 macroscale.py:193(fill_list)\n",
      "     2770    0.057    0.000    0.101    0.000 macroscale.py:264(find_lysis_time)\n",
      "     2770    0.022    0.000    0.047    0.000 macroscale.py:227(find_unbinding_time)\n",
      "     2920    0.020    0.000    0.035    0.000 macroscale.py:83(unbind_by_time)\n",
      "     3136    0.020    0.000    0.245    0.000 macroscale.py:221(find_binding_time)\n",
      "     2920    0.015    0.000    0.015    0.000 macroscale.py:147(find_free_to_move)\n",
      "     2920    0.013    0.000    0.075    0.000 macroscale.py:121(move_to_empty_edge)\n",
      "     3136    0.009    0.000    0.225    0.000 macroscale.py:201(next)\n",
      "     2920    0.003    0.000    0.015    0.000 macroscale.py:71(unbind_by_degradation)\n",
      "\n",
      "\n"
     ]
    },
    {
     "data": {
      "text/plain": [
       "<pstats.Stats at 0x229bcfcdf90>"
      ]
     },
     "execution_count": 5,
     "metadata": {},
     "output_type": "execute_result"
    }
   ],
   "source": [
    "p = pstats.Stats(os.path.join(e.os_path, \"macro_pstats\", \"macro_pstats.sts\"))\n",
    "p.strip_dirs().sort_stats(SortKey.TIME).print_stats(\"macroscale\")"
   ]
  },
  {
   "cell_type": "code",
   "execution_count": 6,
   "id": "fe02889a-bcf7-4e84-82c3-b870c7507f4a",
   "metadata": {
    "collapsed": true,
    "jupyter": {
     "outputs_hidden": true
    },
    "tags": []
   },
   "outputs": [
    {
     "name": "stdout",
     "output_type": "stream",
     "text": [
      "Mon Jan  9 08:06:25 2023    ../../data\\2022-12-27-1100\\macro_pstats\\macro_pstats.sts\n",
      "\n",
      "         439947 function calls (437102 primitive calls) in 5.288 seconds\n",
      "\n",
      "   Ordered by: internal time\n",
      "   List reduced from 485 to 17 due to restriction <'macroscale'>\n",
      "\n",
      "   ncalls  tottime  percall  cumtime  percall filename:lineno(function)\n",
      "     2920    0.827    0.000    0.841    0.000 macroscale.py:159(actual_move)\n",
      "     2920    0.769    0.000    0.873    0.000 macroscale.py:138(find_still_stuck)\n",
      "     2920    0.761    0.000    0.797    0.000 macroscale.py:164(check_back_row)\n",
      "        1    0.638    0.638    5.288    5.288 macroscale.py:284(run)\n",
      "     2920    0.375    0.000    3.537    0.001 macroscale.py:172(move)\n",
      "     2920    0.367    0.000    0.385    0.000 macroscale.py:153(find_which_neighbor)\n",
      "     2920    0.193    0.000    0.418    0.000 macroscale.py:97(bind)\n",
      "     2920    0.139    0.000    0.139    0.000 macroscale.py:281(find_molecule_fiber_status)\n",
      "       22    0.134    0.006    0.209    0.009 macroscale.py:193(fill_list)\n",
      "     2770    0.056    0.000    0.100    0.000 macroscale.py:264(find_lysis_time)\n",
      "     3136    0.020    0.000    0.241    0.000 macroscale.py:221(find_binding_time)\n",
      "     2920    0.020    0.000    0.035    0.000 macroscale.py:83(unbind_by_time)\n",
      "     2770    0.018    0.000    0.043    0.000 macroscale.py:227(find_unbinding_time)\n",
      "     2920    0.015    0.000    0.015    0.000 macroscale.py:147(find_free_to_move)\n",
      "     2920    0.013    0.000    0.075    0.000 macroscale.py:121(move_to_empty_edge)\n",
      "     3136    0.009    0.000    0.220    0.000 macroscale.py:201(next)\n",
      "     2920    0.003    0.000    0.015    0.000 macroscale.py:71(unbind_by_degradation)\n",
      "\n",
      "\n"
     ]
    },
    {
     "data": {
      "text/plain": [
       "<pstats.Stats at 0x229bcfceb90>"
      ]
     },
     "execution_count": 6,
     "metadata": {},
     "output_type": "execute_result"
    }
   ],
   "source": [
    "p = pstats.Stats(os.path.join(e.os_path, \"macro_pstats\", \"macro_pstats.sts\"))\n",
    "p.strip_dirs().sort_stats(SortKey.TIME).print_stats(\"macroscale\")"
   ]
  },
  {
   "cell_type": "code",
   "execution_count": 7,
   "id": "96b76c7c-62aa-4996-8d99-9a82aa8d98b1",
   "metadata": {
    "collapsed": true,
    "jupyter": {
     "outputs_hidden": true
    },
    "tags": []
   },
   "outputs": [
    {
     "name": "stdout",
     "output_type": "stream",
     "text": [
      "Mon Jan  9 08:11:06 2023    ../../data\\2022-12-27-1100\\macro_pstats\\macro_pstats.sts\n",
      "\n",
      "         442865 function calls (440020 primitive calls) in 5.231 seconds\n",
      "\n",
      "   Ordered by: internal time\n",
      "   List reduced from 486 to 18 due to restriction <'macroscale'>\n",
      "\n",
      "   ncalls  tottime  percall  cumtime  percall filename:lineno(function)\n",
      "     2920    0.817    0.000    0.831    0.000 macroscale.py:159(actual_move)\n",
      "     2920    0.766    0.000    0.869    0.000 macroscale.py:138(find_still_stuck)\n",
      "     2920    0.757    0.000    0.792    0.000 macroscale.py:164(check_back_row)\n",
      "        1    0.542    0.542    5.230    5.230 macroscale.py:291(run)\n",
      "     2920    0.374    0.000    3.508    0.001 macroscale.py:172(move)\n",
      "     2920    0.365    0.000    0.383    0.000 macroscale.py:153(find_which_neighbor)\n",
      "     2920    0.191    0.000    0.410    0.000 macroscale.py:97(bind)\n",
      "     2920    0.135    0.000    0.135    0.000 macroscale.py:281(find_molecule_fiber_status)\n",
      "       22    0.129    0.006    0.204    0.009 macroscale.py:193(fill_list)\n",
      "     2920    0.088    0.000    0.088    0.000 macroscale.py:284(find_should_bind)\n",
      "     2770    0.055    0.000    0.099    0.000 macroscale.py:264(find_lysis_time)\n",
      "     2920    0.019    0.000    0.034    0.000 macroscale.py:83(unbind_by_time)\n",
      "     3136    0.019    0.000    0.235    0.000 macroscale.py:221(find_binding_time)\n",
      "     2770    0.017    0.000    0.041    0.000 macroscale.py:227(find_unbinding_time)\n",
      "     2920    0.015    0.000    0.015    0.000 macroscale.py:147(find_free_to_move)\n",
      "     2920    0.013    0.000    0.075    0.000 macroscale.py:121(move_to_empty_edge)\n",
      "     3136    0.009    0.000    0.215    0.000 macroscale.py:201(next)\n",
      "     2920    0.003    0.000    0.015    0.000 macroscale.py:71(unbind_by_degradation)\n",
      "\n",
      "\n"
     ]
    },
    {
     "data": {
      "text/plain": [
       "<pstats.Stats at 0x229bc91c190>"
      ]
     },
     "execution_count": 7,
     "metadata": {},
     "output_type": "execute_result"
    }
   ],
   "source": [
    "p = pstats.Stats(os.path.join(e.os_path, \"macro_pstats\", \"macro_pstats.sts\"))\n",
    "p.strip_dirs().sort_stats(SortKey.TIME).print_stats(\"macroscale\")"
   ]
  },
  {
   "cell_type": "code",
   "execution_count": 8,
   "id": "55bfd6a5-1ea7-4a3a-9c89-f7df21a5c960",
   "metadata": {},
   "outputs": [
    {
     "name": "stdout",
     "output_type": "stream",
     "text": [
      "Mon Jan  9 08:43:06 2023    ../../data\\2022-12-27-1100\\macro_pstats\\macro_pstats.sts\n",
      "\n",
      "         204525138 function calls (204115595 primitive calls) in 2622.895 seconds\n",
      "\n",
      "   Ordered by: internal time\n",
      "   List reduced from 592 to 18 due to restriction <'macroscale'>\n",
      "\n",
      "   ncalls  tottime  percall  cumtime  percall filename:lineno(function)\n",
      "  1752366  481.594    0.000  542.318    0.000 macroscale.py:137(find_still_stuck)\n",
      "  1752366  384.011    0.000  391.925    0.000 macroscale.py:158(actual_move)\n",
      "        1  381.717  381.717 2622.895 2622.895 macroscale.py:283(run)\n",
      "  1752366  374.392    0.000  394.215    0.000 macroscale.py:163(check_back_row)\n",
      "  1752366  173.857    0.000 1800.193    0.001 macroscale.py:171(move)\n",
      "  1752366  168.021    0.000  176.809    0.000 macroscale.py:152(find_which_neighbor)\n",
      "  1752366   88.643    0.000   88.643    0.000 macroscale.py:280(find_molecule_fiber_status)\n",
      "     9867   56.746    0.006   90.621    0.009 macroscale.py:192(fill_list)\n",
      "  1752366   27.294    0.000   74.050    0.000 macroscale.py:96(bind)\n",
      "  1752366   23.231    0.000   34.302    0.000 macroscale.py:82(unbind_by_time)\n",
      "   409363   10.447    0.000   23.649    0.000 macroscale.py:226(find_unbinding_time)\n",
      "  2037881   10.335    0.000  107.518    0.000 macroscale.py:220(find_binding_time)\n",
      "  1752366    8.503    0.000    8.503    0.000 macroscale.py:146(find_free_to_move)\n",
      "  1752366    8.368    0.000   44.546    0.000 macroscale.py:120(move_to_empty_edge)\n",
      "  2037881    5.178    0.000   97.184    0.000 macroscale.py:200(next)\n",
      "   409363    3.950    0.000    7.434    0.000 macroscale.py:263(find_lysis_time)\n",
      "  1752366    2.084    0.000    9.175    0.000 macroscale.py:70(unbind_by_degradation)\n",
      "    39272    0.166    0.000    0.166    0.000 macroscale.py:122(<listcomp>)\n",
      "\n",
      "\n"
     ]
    },
    {
     "data": {
      "text/plain": [
       "<pstats.Stats at 0x229bd8e8250>"
      ]
     },
     "execution_count": 8,
     "metadata": {},
     "output_type": "execute_result"
    }
   ],
   "source": [
    "p = pstats.Stats(os.path.join(e.os_path, \"macro_pstats\", \"macro_pstats.sts\"))\n",
    "p.strip_dirs().sort_stats(SortKey.TIME).print_stats(\"macroscale\")"
   ]
  },
  {
   "cell_type": "code",
   "execution_count": 10,
   "id": "3e3f213e-73b2-46dd-8214-675b8ac94876",
   "metadata": {},
   "outputs": [
    {
     "name": "stdout",
     "output_type": "stream",
     "text": [
      "Mon Jan  9 12:55:52 2023    ../../data\\2022-12-27-1100\\macro_pstats\\macro_pstats_116.sts\n",
      "\n",
      "         208729796 function calls (208259104 primitive calls) in 2647.167 seconds\n",
      "\n",
      "   Ordered by: internal time\n",
      "   List reduced from 595 to 19 due to restriction <'macroscale'>\n",
      "\n",
      "   ncalls  tottime  percall  cumtime  percall filename:lineno(function)\n",
      "  1752366  482.949    0.000  544.052    0.000 macroscale.py:140(find_still_stuck)\n",
      "  1752366  387.053    0.000  394.913    0.000 macroscale.py:161(actual_move)\n",
      "  1752366  376.337    0.000  396.150    0.000 macroscale.py:166(check_back_row)\n",
      "        1  332.677  332.677 2647.167 2647.167 macroscale.py:299(run)\n",
      "  1752366  174.614    0.000 1810.282    0.001 macroscale.py:174(move)\n",
      "  1752366  168.934    0.000  177.998    0.000 macroscale.py:155(find_which_neighbor)\n",
      "  1752366   88.545    0.000   88.545    0.000 macroscale.py:289(find_molecule_fiber_status)\n",
      "     9966   57.041    0.006   91.921    0.009 macroscale.py:195(fill_list)\n",
      "  1752366   50.195    0.000   50.195    0.000 macroscale.py:292(find_should_bind)\n",
      "  1752366   30.401    0.000   84.135    0.000 macroscale.py:97(bind)\n",
      "  1752366   22.941    0.000   33.969    0.000 macroscale.py:83(unbind_by_time)\n",
      "   403895   15.525    0.000   30.915    0.000 macroscale.py:251(find_lysis_time)\n",
      "  2033120   10.457    0.000  108.950    0.000 macroscale.py:223(find_binding_time)\n",
      "  1752366    8.546    0.000    8.546    0.000 macroscale.py:149(find_free_to_move)\n",
      "  1752366    8.260    0.000   44.928    0.000 macroscale.py:123(move_to_empty_edge)\n",
      "  2033120    5.184    0.000   98.492    0.000 macroscale.py:203(next)\n",
      "   403895    2.475    0.000    6.415    0.000 macroscale.py:229(find_unbinding_time)\n",
      "  1752366    2.087    0.000    9.223    0.000 macroscale.py:71(unbind_by_degradation)\n",
      "    38831    0.164    0.000    0.164    0.000 macroscale.py:125(<listcomp>)\n",
      "\n",
      "\n"
     ]
    },
    {
     "data": {
      "text/plain": [
       "<pstats.Stats at 0x229bd028c50>"
      ]
     },
     "execution_count": 10,
     "metadata": {},
     "output_type": "execute_result"
    }
   ],
   "source": [
    "p = pstats.Stats(os.path.join(e.os_path, \"macro_pstats\", \"macro_pstats_116.sts\"))\n",
    "p.strip_dirs().sort_stats(SortKey.TIME).print_stats(\"macroscale\")"
   ]
  },
  {
   "cell_type": "code",
   "execution_count": 12,
   "id": "8c5e85c0-d242-41db-a2bd-eb0eff03085c",
   "metadata": {},
   "outputs": [
    {
     "name": "stdout",
     "output_type": "stream",
     "text": [
      "Mon Jan  9 13:48:12 2023    ../../data\\2022-12-27-1100\\macro_pstats\\macro_pstats.sts\n",
      "\n",
      "         197697031 function calls (197226339 primitive calls) in 2702.059 seconds\n",
      "\n",
      "   Ordered by: internal time\n",
      "   List reduced from 583 to 20 due to restriction <20>\n",
      "\n",
      "   ncalls  tottime  percall  cumtime  percall filename:lineno(function)\n",
      "  1752366  491.494    0.000  554.555    0.000 macroscale.py:140(find_still_stuck)\n",
      "  1752366  402.111    0.000  410.258    0.000 macroscale.py:161(actual_move)\n",
      "  1752366  382.887    0.000  403.816    0.000 macroscale.py:166(check_back_row)\n",
      "        1  340.246  340.246 2702.059 2702.059 macroscale.py:297(run)\n",
      "  4603242  216.736    0.000  216.736    0.000 {method 'random' of 'numpy.random._generator.Generator' objects}\n",
      "  1752366  177.935    0.000 1853.167    0.001 macroscale.py:174(move)\n",
      "  1752366  171.514    0.000  180.707    0.000 macroscale.py:155(find_which_neighbor)\n",
      "  1752366   95.441    0.000   95.441    0.000 macroscale.py:287(find_molecule_fiber_status)\n",
      "     9966   58.853    0.006   93.757    0.009 macroscale.py:195(fill_list)\n",
      "26583698/26113186   53.638    0.000   91.401    0.000 {built-in method numpy.core._multiarray_umath.implement_array_function}\n",
      "  1752366   52.534    0.000   52.534    0.000 macroscale.py:290(find_should_bind)\n",
      "  2289496   37.836    0.000   37.836    0.000 {built-in method numpy.arange}\n",
      "  1752366   31.054    0.000   67.592    0.000 macroscale.py:97(bind)\n",
      " 13232140   24.418    0.000   24.418    0.000 {built-in method numpy.core._multiarray_umath.count_nonzero}\n",
      "  1752366   23.628    0.000   34.975    0.000 macroscale.py:83(unbind_by_time)\n",
      " 10254269   13.222    0.000   63.202    0.000 numeric.py:290(full)\n",
      " 12006635   12.473    0.000   60.111    0.000 <__array_function__ internals>:177(copyto)\n",
      " 13232140   11.162    0.000   50.177    0.000 <__array_function__ internals>:177(count_nonzero)\n",
      "  2033120   11.120    0.000  111.955    0.000 macroscale.py:223(find_binding_time)\n",
      " 14220029    9.555    0.000    9.555    0.000 {built-in method numpy.empty}\n",
      "\n",
      "\n"
     ]
    },
    {
     "data": {
      "text/plain": [
       "<pstats.Stats at 0x229bcdd3390>"
      ]
     },
     "execution_count": 12,
     "metadata": {},
     "output_type": "execute_result"
    }
   ],
   "source": [
    "p = pstats.Stats(os.path.join(e.os_path, \"macro_pstats\", \"macro_pstats.sts\"))\n",
    "p.strip_dirs().sort_stats(SortKey.TIME).print_stats(20)"
   ]
  },
  {
   "cell_type": "code",
   "execution_count": 16,
   "id": "06610359-2e36-4cb1-849f-245260d2ae0b",
   "metadata": {},
   "outputs": [
    {
     "name": "stdout",
     "output_type": "stream",
     "text": [
      "Mon Jan  9 11:55:44 2023    ../../data\\2022-12-27-1100\\macro_pstats\\macro_pstats_114.sts\n",
      "\n",
      "         8464524 function calls (8422364 primitive calls) in 62.460 seconds\n",
      "\n",
      "   Ordered by: internal time\n",
      "   List reduced from 499 to 19 due to restriction <'macroscale'>\n",
      "\n",
      "   ncalls  tottime  percall  cumtime  percall filename:lineno(function)\n",
      "        1   12.027   12.027   62.459   62.459 macroscale.py:299(run)\n",
      "    58412    7.493    0.000    9.467    0.000 macroscale.py:140(find_still_stuck)\n",
      "    58412    6.739    0.000    6.993    0.000 macroscale.py:161(actual_move)\n",
      "    58412    6.671    0.000    7.317    0.000 macroscale.py:166(check_back_row)\n",
      "    58412    3.240    0.000   32.661    0.001 macroscale.py:174(move)\n",
      "    58412    3.115    0.000    3.290    0.000 macroscale.py:155(find_which_neighbor)\n",
      "    58412    2.499    0.000    6.731    0.000 macroscale.py:97(bind)\n",
      "    58412    2.478    0.000    2.478    0.000 macroscale.py:289(find_molecule_fiber_status)\n",
      "    58412    1.678    0.000    1.678    0.000 macroscale.py:292(find_should_bind)\n",
      "    58412    1.404    0.000    1.908    0.000 macroscale.py:83(unbind_by_time)\n",
      "    34449    1.353    0.000    2.660    0.000 macroscale.py:251(find_lysis_time)\n",
      "      157    0.905    0.006    1.436    0.009 macroscale.py:195(fill_list)\n",
      "    58412    0.285    0.000    0.285    0.000 macroscale.py:149(find_free_to_move)\n",
      "    76221    0.273    0.000    1.925    0.000 macroscale.py:223(find_binding_time)\n",
      "    58412    0.253    0.000    1.446    0.000 macroscale.py:123(move_to_empty_edge)\n",
      "    34449    0.196    0.000    0.501    0.000 macroscale.py:229(find_unbinding_time)\n",
      "    76221    0.175    0.000    1.652    0.000 macroscale.py:203(next)\n",
      "    58412    0.052    0.000    0.283    0.000 macroscale.py:71(unbind_by_degradation)\n",
      "      438    0.002    0.000    0.002    0.000 macroscale.py:125(<listcomp>)\n",
      "\n",
      "\n"
     ]
    },
    {
     "data": {
      "text/plain": [
       "<pstats.Stats at 0x229bda9c910>"
      ]
     },
     "execution_count": 16,
     "metadata": {},
     "output_type": "execute_result"
    }
   ],
   "source": [
    "p = pstats.Stats(os.path.join(e.os_path, \"macro_pstats\", \"macro_pstats_114.sts\"))\n",
    "p.strip_dirs().sort_stats(SortKey.TIME).print_stats(\"macroscale\")"
   ]
  },
  {
   "cell_type": "code",
   "execution_count": 18,
   "id": "8dc72b11-b259-408d-8ac6-2b1174023b62",
   "metadata": {},
   "outputs": [
    {
     "name": "stdout",
     "output_type": "stream",
     "text": [
      "Mon Jan  9 14:01:34 2023    ../../data\\2022-12-27-1100\\macro_pstats\\macro_pstats.sts\n",
      "\n",
      "         6997966 function calls (6955650 primitive calls) in 48.338 seconds\n",
      "\n",
      "   Ordered by: internal time\n",
      "   List reduced from 487 to 19 due to restriction <'macroscale'>\n",
      "\n",
      "   ncalls  tottime  percall  cumtime  percall filename:lineno(function)\n",
      "        1   12.067   12.067   48.338   48.338 macroscale.py:300(run)\n",
      "    58412    6.668    0.000    6.909    0.000 macroscale.py:163(actual_move)\n",
      "    58412    6.627    0.000    7.283    0.000 macroscale.py:168(check_back_row)\n",
      "    58412    3.077    0.000    3.245    0.000 macroscale.py:157(find_which_neighbor)\n",
      "    58412    2.512    0.000    2.512    0.000 macroscale.py:290(find_molecule_fiber_status)\n",
      "    58412    2.508    0.000    5.146    0.000 macroscale.py:98(bind)\n",
      "    58412    1.713    0.000    1.713    0.000 macroscale.py:293(find_should_bind)\n",
      "    58412    1.439    0.000    1.946    0.000 macroscale.py:84(unbind_by_time)\n",
      "    58412    1.355    0.000   20.069    0.000 macroscale.py:176(move)\n",
      "    34397    0.685    0.000    1.069    0.000 macroscale.py:256(find_lysis_time)\n",
      "    58412    0.298    0.000    0.298    0.000 macroscale.py:151(find_free_to_move)\n",
      "    34397    0.198    0.000    0.499    0.000 macroscale.py:234(find_unbinding_time)\n",
      "    76520    0.188    0.000    0.471    0.000 macroscale.py:228(find_binding_time)\n",
      "    75221    0.174    0.000    0.284    0.000 macroscale.py:208(next)\n",
      "    58412    0.060    0.000    0.339    0.000 macroscale.py:141(find_still_stuck)\n",
      "    58412    0.052    0.000    0.284    0.000 macroscale.py:71(unbind_by_degradation)\n",
      "        8    0.046    0.006    0.073    0.009 macroscale.py:200(fill_list)\n",
      "       50    0.003    0.000    0.007    0.000 macroscale.py:124(move_to_empty_edge)\n",
      "      605    0.002    0.000    0.002    0.000 macroscale.py:126(<listcomp>)\n",
      "\n",
      "\n"
     ]
    },
    {
     "data": {
      "text/plain": [
       "<pstats.Stats at 0x229bdb83910>"
      ]
     },
     "execution_count": 18,
     "metadata": {},
     "output_type": "execute_result"
    }
   ],
   "source": [
    "p = pstats.Stats(os.path.join(e.os_path, \"macro_pstats\", \"macro_pstats.sts\"))\n",
    "p.strip_dirs().sort_stats(SortKey.TIME).print_stats(\"macroscale\")"
   ]
  },
  {
   "cell_type": "code",
   "execution_count": null,
   "id": "691c9f0a-264e-4e80-aaa7-d92a0b7f33ff",
   "metadata": {},
   "outputs": [],
   "source": []
  }
 ],
 "metadata": {
  "kernelspec": {
   "display_name": "Python 3 (ipykernel)",
   "language": "python",
   "name": "python3"
  },
  "language_info": {
   "codemirror_mode": {
    "name": "ipython",
    "version": 3
   },
   "file_extension": ".py",
   "mimetype": "text/x-python",
   "name": "python",
   "nbconvert_exporter": "python",
   "pygments_lexer": "ipython3",
   "version": "3.11.0"
  }
 },
 "nbformat": 4,
 "nbformat_minor": 5
}
