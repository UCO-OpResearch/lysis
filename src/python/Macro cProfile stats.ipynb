{
 "cells": [
  {
   "cell_type": "code",
   "execution_count": 1,
   "id": "d08a4b7f-1a78-4d35-9bde-829212a01ea5",
   "metadata": {},
   "outputs": [],
   "source": [
    "import os\n",
    "import pstats\n",
    "\n",
    "from pstats import SortKey\n",
    "\n",
    "import lysis"
   ]
  },
  {
   "cell_type": "code",
   "execution_count": 2,
   "id": "de23677a-e2f2-426f-820d-d552e14a0611",
   "metadata": {},
   "outputs": [],
   "source": [
    "e = lysis.util.Experiment(r'../../data', experiment_code='2022-12-27-1100')\n",
    "p = {'total_time': 1}\n",
    "e.initialize_macro_param(p)\n",
    "macro = lysis.MacroscaleRun(e)"
   ]
  },
  {
   "cell_type": "code",
   "execution_count": 6,
   "id": "ee5fbfef-b2da-48a4-a66b-2489e1705db1",
   "metadata": {},
   "outputs": [
    {
     "name": "stdout",
     "output_type": "stream",
     "text": [
      "Thu Jan 12 19:18:27 2023    ../../data\\2022-12-27-1100\\macro_pstats\\macro_pstats.sts\n",
      "\n",
      "         48880731 function calls (48854555 primitive calls) in 69.322 seconds\n",
      "\n",
      "   Ordered by: internal time\n",
      "   List reduced from 426 to 11 due to restriction <'macroscale'>\n",
      "\n",
      "   ncalls  tottime  percall  cumtime  percall filename:lineno(function)\n",
      "    29206   24.839    0.001   29.215    0.001 np_macroscale.py:125(move_to_empty_edge)\n",
      "    29206   12.523    0.000   53.015    0.002 np_macroscale.py:148(move)\n",
      "    29206   10.293    0.000   10.433    0.000 np_macroscale.py:142(find_still_stuck)\n",
      "        1    9.186    9.186   69.322   69.322 np_macroscale.py:248(run)\n",
      "    29206    1.555    0.000    3.258    0.000 np_macroscale.py:99(bind)\n",
      "    20668    0.448    0.000    0.698    0.000 np_macroscale.py:233(find_lysis_time)\n",
      "    29206    0.375    0.000    0.597    0.000 np_macroscale.py:82(unbind_by_time)\n",
      "    20668    0.146    0.000    0.346    0.000 np_macroscale.py:211(find_unbinding_time)\n",
      "    35984    0.090    0.000    0.119    0.000 np_macroscale.py:191(next)\n",
      "    29206    0.028    0.000    0.148    0.000 np_macroscale.py:70(unbind_by_degradation)\n",
      "        1    0.006    0.006    0.009    0.009 np_macroscale.py:183(fill_list)\n",
      "\n",
      "\n"
     ]
    },
    {
     "data": {
      "text/plain": [
       "<pstats.Stats at 0x2a250d57110>"
      ]
     },
     "execution_count": 6,
     "metadata": {},
     "output_type": "execute_result"
    }
   ],
   "source": [
    "p = pstats.Stats(os.path.join(e.os_path, \"macro_pstats\", \"macro_pstats.sts\"))\n",
    "p.strip_dirs().sort_stats(SortKey.TIME).print_stats(\"macroscale\")"
   ]
  },
  {
   "cell_type": "code",
   "execution_count": 8,
   "id": "af1b94dd-2e95-4ea2-81a0-6fa26ddacdf6",
   "metadata": {},
   "outputs": [
    {
     "name": "stdout",
     "output_type": "stream",
     "text": [
      "Thu Jan 12 19:37:14 2023    ../../data\\2022-12-27-1100\\macro_pstats\\macro_pstats.sts\n",
      "\n",
      "         3542670 function calls (3516623 primitive calls) in 42.760 seconds\n",
      "\n",
      "   Ordered by: internal time\n",
      "   List reduced from 426 to 11 due to restriction <'macroscale'>\n",
      "\n",
      "   ncalls  tottime  percall  cumtime  percall filename:lineno(function)\n",
      "    29206   12.438    0.000   26.537    0.001 np_macroscale.py:152(move)\n",
      "    29206   12.393    0.000   12.533    0.000 np_macroscale.py:143(find_still_stuck)\n",
      "        1    9.214    9.214   42.760   42.760 np_macroscale.py:252(run)\n",
      "    29206    1.553    0.000    3.232    0.000 np_macroscale.py:99(bind)\n",
      "    20662    0.443    0.000    0.690    0.000 np_macroscale.py:237(find_lysis_time)\n",
      "    29206    0.367    0.000    0.585    0.000 np_macroscale.py:82(unbind_by_time)\n",
      "    20662    0.144    0.000    0.336    0.000 np_macroscale.py:215(find_unbinding_time)\n",
      "    29206    0.139    0.000    0.761    0.000 np_macroscale.py:125(move_to_empty_edge)\n",
      "    35837    0.088    0.000    0.126    0.000 np_macroscale.py:195(next)\n",
      "    29206    0.027    0.000    0.146    0.000 np_macroscale.py:70(unbind_by_degradation)\n",
      "        2    0.012    0.006    0.019    0.009 np_macroscale.py:187(fill_list)\n",
      "\n",
      "\n"
     ]
    },
    {
     "data": {
      "text/plain": [
       "<pstats.Stats at 0x2a251c4f310>"
      ]
     },
     "execution_count": 8,
     "metadata": {},
     "output_type": "execute_result"
    }
   ],
   "source": [
    "p = pstats.Stats(os.path.join(e.os_path, \"macro_pstats\", \"macro_pstats.sts\"))\n",
    "p.strip_dirs().sort_stats(SortKey.TIME).print_stats(\"macroscale\")"
   ]
  },
  {
   "cell_type": "code",
   "execution_count": 9,
   "id": "3e3abe00-482c-4878-9a46-3890ce79610c",
   "metadata": {},
   "outputs": [
    {
     "name": "stdout",
     "output_type": "stream",
     "text": [
      "Thu Jan 12 19:41:42 2023    ../../data\\2022-12-27-1100\\macro_pstats\\macro_pstats.sts\n",
      "\n",
      "         3527239 function calls (3501192 primitive calls) in 34.499 seconds\n",
      "\n",
      "   Ordered by: internal time\n",
      "   List reduced from 426 to 11 due to restriction <'macroscale'>\n",
      "\n",
      "   ncalls  tottime  percall  cumtime  percall filename:lineno(function)\n",
      "    29206   12.403    0.000   18.445    0.001 np_macroscale.py:154(move)\n",
      "        1    9.138    9.138   34.499   34.499 np_macroscale.py:254(run)\n",
      "    29206    4.365    0.000    4.504    0.000 np_macroscale.py:143(find_still_stuck)\n",
      "    29206    1.556    0.000    3.215    0.000 np_macroscale.py:99(bind)\n",
      "    20662    0.441    0.000    0.686    0.000 np_macroscale.py:239(find_lysis_time)\n",
      "    29206    0.363    0.000    0.577    0.000 np_macroscale.py:82(unbind_by_time)\n",
      "    20662    0.140    0.000    0.332    0.000 np_macroscale.py:217(find_unbinding_time)\n",
      "    29206    0.133    0.000    0.737    0.000 np_macroscale.py:125(move_to_empty_edge)\n",
      "    35837    0.088    0.000    0.129    0.000 np_macroscale.py:197(next)\n",
      "    29206    0.027    0.000    0.144    0.000 np_macroscale.py:70(unbind_by_degradation)\n",
      "        2    0.011    0.006    0.022    0.011 np_macroscale.py:189(fill_list)\n",
      "\n",
      "\n"
     ]
    },
    {
     "data": {
      "text/plain": [
       "<pstats.Stats at 0x2a25273f150>"
      ]
     },
     "execution_count": 9,
     "metadata": {},
     "output_type": "execute_result"
    }
   ],
   "source": [
    "p = pstats.Stats(os.path.join(e.os_path, \"macro_pstats\", \"macro_pstats.sts\"))\n",
    "p.strip_dirs().sort_stats(SortKey.TIME).print_stats(\"macroscale\")"
   ]
  },
  {
   "cell_type": "code",
   "execution_count": 10,
   "id": "6bf9a86e-1809-453f-9246-f68addcac4e3",
   "metadata": {},
   "outputs": [
    {
     "name": "stdout",
     "output_type": "stream",
     "text": [
      "Thu Jan 12 19:45:30 2023    ../../data\\2022-12-27-1100\\macro_pstats\\macro_pstats.sts\n",
      "\n",
      "         3351425 function calls (3325378 primitive calls) in 34.123 seconds\n",
      "\n",
      "   Ordered by: internal time\n",
      "   List reduced from 426 to 11 due to restriction <'macroscale'>\n",
      "\n",
      "   ncalls  tottime  percall  cumtime  percall filename:lineno(function)\n",
      "    29206   12.337    0.000   18.182    0.001 np_macroscale.py:154(move)\n",
      "        1    9.093    9.093   34.123   34.123 np_macroscale.py:254(run)\n",
      "    29206    4.353    0.000    4.490    0.000 np_macroscale.py:143(find_still_stuck)\n",
      "    29206    1.535    0.000    3.167    0.000 np_macroscale.py:99(bind)\n",
      "    20662    0.435    0.000    0.677    0.000 np_macroscale.py:239(find_lysis_time)\n",
      "    29206    0.362    0.000    0.576    0.000 np_macroscale.py:82(unbind_by_time)\n",
      "    20662    0.138    0.000    0.325    0.000 np_macroscale.py:217(find_unbinding_time)\n",
      "    29206    0.131    0.000    0.726    0.000 np_macroscale.py:125(move_to_empty_edge)\n",
      "    35837    0.085    0.000    0.123    0.000 np_macroscale.py:197(next)\n",
      "    29206    0.027    0.000    0.147    0.000 np_macroscale.py:70(unbind_by_degradation)\n",
      "        2    0.011    0.006    0.019    0.009 np_macroscale.py:189(fill_list)\n",
      "\n",
      "\n"
     ]
    },
    {
     "data": {
      "text/plain": [
       "<pstats.Stats at 0x2a2528d6d10>"
      ]
     },
     "execution_count": 10,
     "metadata": {},
     "output_type": "execute_result"
    }
   ],
   "source": [
    "p = pstats.Stats(os.path.join(e.os_path, \"macro_pstats\", \"macro_pstats.sts\"))\n",
    "p.strip_dirs().sort_stats(SortKey.TIME).print_stats(\"macroscale\")"
   ]
  },
  {
   "cell_type": "code",
   "execution_count": 11,
   "id": "f6a51121-1d87-4ee9-9a9d-2d2f43f482e5",
   "metadata": {},
   "outputs": [
    {
     "name": "stdout",
     "output_type": "stream",
     "text": [
      "Thu Jan 12 19:53:47 2023    ../../data\\2022-12-27-1100\\macro_pstats\\macro_pstats.sts\n",
      "\n",
      "         3215738 function calls (3189389 primitive calls) in 33.963 seconds\n",
      "\n",
      "   Ordered by: internal time\n",
      "   List reduced from 426 to 11 due to restriction <'macroscale'>\n",
      "\n",
      "   ncalls  tottime  percall  cumtime  percall filename:lineno(function)\n",
      "    29206   12.385    0.000   18.246    0.001 np_macroscale.py:154(move)\n",
      "        1    8.996    8.996   33.963   33.963 np_macroscale.py:254(run)\n",
      "    29206    4.344    0.000    4.484    0.000 np_macroscale.py:143(find_still_stuck)\n",
      "    29206    1.608    0.000    3.283    0.000 np_macroscale.py:99(bind)\n",
      "    20771    0.447    0.000    0.699    0.000 np_macroscale.py:239(find_lysis_time)\n",
      "    29206    0.373    0.000    0.592    0.000 np_macroscale.py:82(unbind_by_time)\n",
      "    20771    0.140    0.000    0.332    0.000 np_macroscale.py:217(find_unbinding_time)\n",
      "    29206    0.133    0.000    0.743    0.000 np_macroscale.py:125(move_to_empty_edge)\n",
      "    36009    0.085    0.000    0.123    0.000 np_macroscale.py:197(next)\n",
      "    29206    0.027    0.000    0.149    0.000 np_macroscale.py:70(unbind_by_degradation)\n",
      "        2    0.012    0.006    0.019    0.009 np_macroscale.py:189(fill_list)\n",
      "\n",
      "\n"
     ]
    },
    {
     "data": {
      "text/plain": [
       "<pstats.Stats at 0x2a251422590>"
      ]
     },
     "execution_count": 11,
     "metadata": {},
     "output_type": "execute_result"
    }
   ],
   "source": [
    "p = pstats.Stats(os.path.join(e.os_path, \"macro_pstats\", \"macro_pstats.sts\"))\n",
    "p.strip_dirs().sort_stats(SortKey.TIME).print_stats(\"macroscale\")"
   ]
  },
  {
   "cell_type": "code",
   "execution_count": 12,
   "id": "f7cff7f1-932f-4e4c-9f1b-1232cc5b6eff",
   "metadata": {},
   "outputs": [
    {
     "name": "stdout",
     "output_type": "stream",
     "text": [
      "Thu Jan 12 20:48:54 2023    ../../data\\2022-12-27-1100\\macro_pstats\\macro_pstats.sts\n",
      "\n",
      "         240661605 function calls (240602601 primitive calls) in 2834.435 seconds\n",
      "\n",
      "   Ordered by: internal time\n",
      "   List reduced from 426 to 11 due to restriction <'macroscale'>\n",
      "\n",
      "   ncalls  tottime  percall  cumtime  percall filename:lineno(function)\n",
      "   110115 2351.906    0.021 2722.111    0.025 np_macroscale.py:125(move_to_empty_edge)\n",
      "   110115   35.805    0.000 2775.346    0.025 np_macroscale.py:154(move)\n",
      "        1   34.941   34.941 2834.435 2834.435 np_macroscale.py:254(run)\n",
      "   110115   13.753    0.000   14.334    0.000 np_macroscale.py:143(find_still_stuck)\n",
      "   110115    3.700    0.000    7.943    0.000 np_macroscale.py:99(bind)\n",
      "   110115    1.663    0.000    2.605    0.000 np_macroscale.py:82(unbind_by_time)\n",
      "    48784    1.065    0.000    1.618    0.000 np_macroscale.py:239(find_lysis_time)\n",
      "   139618    0.420    0.000    0.727    0.000 np_macroscale.py:197(next)\n",
      "    48784    0.380    0.000    0.902    0.000 np_macroscale.py:217(find_unbinding_time)\n",
      "   110115    0.138    0.000    0.609    0.000 np_macroscale.py:70(unbind_by_degradation)\n",
      "       20    0.115    0.006    0.182    0.009 np_macroscale.py:189(fill_list)\n",
      "\n",
      "\n"
     ]
    },
    {
     "data": {
      "text/plain": [
       "<pstats.Stats at 0x2a2526ff8d0>"
      ]
     },
     "execution_count": 12,
     "metadata": {},
     "output_type": "execute_result"
    }
   ],
   "source": [
    "p = pstats.Stats(os.path.join(e.os_path, \"macro_pstats\", \"macro_pstats.sts\"))\n",
    "p.strip_dirs().sort_stats(SortKey.TIME).print_stats(\"macroscale\")"
   ]
  },
  {
   "cell_type": "code",
   "execution_count": 14,
   "id": "fe814445-c634-4def-bfe8-8654bc527897",
   "metadata": {
    "collapsed": true,
    "jupyter": {
     "outputs_hidden": true
    },
    "tags": []
   },
   "outputs": [
    {
     "name": "stdout",
     "output_type": "stream",
     "text": [
      "Thu Jan 12 23:16:47 2023    ../../data\\2022-12-27-1100\\macro_pstats\\macro_pstats.sts\n",
      "\n",
      "         71817457 function calls (71429810 primitive calls) in 1818.757 seconds\n",
      "\n",
      "   Ordered by: internal time\n",
      "\n",
      "   ncalls  tottime  percall  cumtime  percall filename:lineno(function)\n",
      "   292061 1247.138    0.004 1437.602    0.005 np_macroscale.py:125(move_to_empty_edge)\n",
      "12044914/11657315  171.427    0.000  187.552    0.000 {built-in method numpy.core._multiarray_umath.implement_array_function}\n",
      "   292061  152.532    0.001 1651.918    0.006 np_macroscale.py:183(move)\n",
      "        1  102.950  102.950 1818.757 1818.757 np_macroscale.py:283(run)\n",
      "   292061   51.304    0.000   52.933    0.000 np_macroscale.py:172(find_still_stuck)\n",
      "   870966   27.395    0.000   27.395    0.000 {method 'random' of 'numpy.random._generator.Generator' objects}\n",
      "  5351143   10.147    0.000   10.147    0.000 {built-in method numpy.core._multiarray_umath.count_nonzero}\n",
      "   292061    8.810    0.000   19.723    0.000 np_macroscale.py:99(bind)\n",
      "  5514611    5.652    0.000   34.456    0.000 numeric.py:290(full)\n",
      "  5806672    5.447    0.000   28.171    0.000 <__array_function__ internals>:177(copyto)\n",
      "  5351143    5.392    0.000   22.070    0.000 <__array_function__ internals>:177(count_nonzero)\n",
      "  6217815    4.463    0.000    4.463    0.000 {built-in method numpy.empty}\n",
      "   292061    3.430    0.000    5.642    0.000 np_macroscale.py:82(unbind_by_time)\n",
      "   111897    2.624    0.000    3.910    0.000 np_macroscale.py:268(find_lysis_time)\n",
      "  5351143    2.403    0.000   12.549    0.000 numeric.py:432(count_nonzero)\n",
      "  2669857    2.018    0.000    2.018    0.000 {method 'astype' of 'numpy.ndarray' objects}\n",
      "   350506    1.467    0.000    2.314    0.000 np_macroscale.py:226(next)\n",
      "   111897    1.139    0.000    2.599    0.000 np_macroscale.py:246(find_unbinding_time)\n",
      "  5806672    0.953    0.000    0.953    0.000 multiarray.py:1079(copyto)\n",
      "  5351143    0.896    0.000    0.896    0.000 numeric.py:428(_count_nonzero_dispatcher)\n",
      "   111897    0.835    0.000    1.087    0.000 arraysetops.py:323(_unique1d)\n",
      "   255415    0.731    0.000    0.731    0.000 {method 'copy' of 'numpy.ndarray' objects}\n",
      "   292062    0.573    0.000    3.988    0.000 std.py:1174(__iter__)\n",
      "    17373    0.529    0.000    1.341    0.000 std.py:355(format_meter)\n",
      "   255415    0.449    0.000  146.710    0.001 function_base.py:5444(append)\n",
      "   255415    0.387    0.000  147.404    0.001 <__array_function__ internals>:177(append)\n",
      "   292061    0.383    0.000    4.042    0.000 numeric.py:150(ones)\n",
      "   132184    0.382    0.000    0.382    0.000 {built-in method numpy.core._multiarray_umath.interp}\n",
      "   292061    0.367    0.000    1.662    0.000 np_macroscale.py:70(unbind_by_degradation)\n",
      "   255415    0.353    0.000    0.353    0.000 {method 'reshape' of 'numpy.ndarray' objects}\n",
      "   986094    0.346    0.000    0.485    0.000 utils.py:330(<genexpr>)\n",
      "   255415    0.345    0.000  146.200    0.001 <__array_function__ internals>:177(concatenate)\n",
      "   139009    0.322    0.000    0.421    0.000 {method 'format' of 'str' objects}\n",
      "   424246    0.313    0.000    0.313    0.000 {built-in method numpy.asarray}\n",
      "   132184    0.312    0.000    1.260    0.000 function_base.py:1457(interp)\n",
      "       50    0.287    0.006    0.453    0.009 np_macroscale.py:218(fill_list)\n",
      "   111897    0.272    0.000    1.495    0.000 arraysetops.py:138(unique)\n",
      "   132185    0.269    0.000    0.269    0.000 {built-in method numpy.arange}\n",
      "   132184    0.240    0.000    0.297    0.000 type_check.py:303(iscomplexobj)\n",
      "    17375    0.214    0.000    0.214    0.000 {method 'write' of '_io.TextIOWrapper' objects}\n",
      "    17371    0.187    0.000    3.401    0.000 std.py:1212(update)\n",
      "   104227    0.184    0.000    0.184    0.000 std.py:233(__call__)\n",
      "   244081    0.156    0.000    0.168    0.000 datastore.py:94(__getattr__)\n",
      "   111897    0.152    0.000    1.838    0.000 <__array_function__ internals>:177(unique)\n",
      "   132184    0.151    0.000    1.557    0.000 <__array_function__ internals>:177(interp)\n",
      "   132184    0.146    0.000    0.540    0.000 <__array_function__ internals>:177(iscomplexobj)\n",
      "   968721    0.139    0.000    0.139    0.000 {built-in method unicodedata.east_asian_width}\n",
      "    17373    0.131    0.000    0.615    0.000 {built-in method builtins.sum}\n",
      "    34746    0.124    0.000    0.171    0.000 utils.py:222(_is_ascii)\n",
      "    17373    0.104    0.000    0.146    0.000 std.py:1460(format_dict)\n",
      "   111897    0.102    0.000    0.102    0.000 {method 'flatten' of 'numpy.ndarray' objects}\n",
      "    17373    0.096    0.000    1.583    0.000 std.py:1164(__str__)\n",
      "   479209    0.094    0.000    0.094    0.000 {built-in method numpy.asanyarray}\n",
      "    34745    0.086    0.000    0.229    0.000 std.py:288(format_interval)\n",
      "    17373    0.077    0.000    0.088    0.000 std.py:188(__format__)\n",
      "    17373    0.077    0.000    2.797    0.000 std.py:1478(display)\n",
      "   111897    0.075    0.000    0.075    0.000 {method 'sort' of 'numpy.ndarray' objects}\n",
      "   111897    0.074    0.000    0.113    0.000 arraysetops.py:125(_unpack_tuple)\n",
      "    17372    0.072    0.000    3.064    0.000 std.py:1339(refresh)\n",
      "    17376    0.068    0.000    0.136    0.000 std.py:104(acquire)\n",
      "   255415    0.059    0.000    0.059    0.000 function_base.py:5440(_append_dispatcher)\n",
      "   132184    0.057    0.000    0.057    0.000 {built-in method builtins.issubclass}\n",
      "   241388    0.057    0.000    0.057    0.000 {built-in method builtins.len}\n",
      "    17373    0.055    0.000    1.117    0.000 std.py:348(print_status)\n",
      "    17376    0.052    0.000    0.052    0.000 {method 'acquire' of '_multiprocessing.SemLock' objects}\n",
      "    17373    0.052    0.000    0.052    0.000 {method 'sub' of 're.Pattern' objects}\n",
      "    17372    0.050    0.000    0.050    0.000 {built-in method now}\n",
      "    17373    0.046    0.000    0.662    0.000 utils.py:329(_text_width)\n",
      "    17373    0.045    0.000    0.302    0.000 std.py:342(fp_write)\n",
      "   255415    0.043    0.000    0.043    0.000 multiarray.py:152(concatenate)\n",
      "   364833    0.039    0.000    0.039    0.000 {built-in method builtins.ord}\n",
      "    17373    0.038    0.000    0.047    0.000 std.py:155(__init__)\n",
      "    17373    0.035    0.000    0.748    0.000 utils.py:333(disp_len)\n",
      "    17376    0.034    0.000    0.059    0.000 std.py:108(release)\n",
      "   132184    0.031    0.000    0.031    0.000 function_base.py:1453(_interp_dispatcher)\n",
      "    17375    0.025    0.000    0.025    0.000 {method 'flush' of '_io.TextIOWrapper' objects}\n",
      "   132184    0.022    0.000    0.022    0.000 type_check.py:206(_is_type_dispatcher)\n",
      "    17376    0.022    0.000    0.022    0.000 {method 'release' of '_multiprocessing.SemLock' objects}\n",
      "   111897    0.021    0.000    0.021    0.000 arraysetops.py:133(_unique_dispatcher)\n",
      "    72306    0.019    0.000    0.019    0.000 {built-in method time.time}\n",
      "    34748    0.018    0.000    0.257    0.000 utils.py:143(inner)\n",
      "    86863    0.017    0.000    0.017    0.000 {built-in method builtins.divmod}\n",
      "    17377    0.016    0.000    0.016    0.000 {method 'acquire' of '_thread.RLock' objects}\n",
      "    34796    0.013    0.000    0.013    0.000 {built-in method builtins.hasattr}\n",
      "    17397    0.012    0.000    0.012    0.000 {built-in method builtins.max}\n",
      "    17373    0.011    0.000    0.011    0.000 utils.py:61(__format__)\n",
      "    17374    0.011    0.000    0.011    0.000 {method 'update' of 'dict' objects}\n",
      "    17373    0.011    0.000    0.011    0.000 utils.py:57(__init__)\n",
      "    17375    0.010    0.000    0.010    0.000 {built-in method builtins.abs}\n",
      "        3    0.009    0.003    0.011    0.004 {built-in method numpy.core._multiarray_umath._load_from_filelike}\n",
      "    17373    0.009    0.000    0.009    0.000 std.py:169(colour)\n",
      "    34896    0.008    0.000    0.008    0.000 {built-in method builtins.isinstance}\n",
      "    17373    0.004    0.000    0.004    0.000 std.py:165(colour)\n",
      "    17377    0.003    0.000    0.003    0.000 {method 'release' of '_thread.RLock' objects}\n",
      "        6    0.001    0.000    0.001    0.000 {built-in method io.open_code}\n",
      "       34    0.001    0.000    0.001    0.000 {built-in method nt.stat}\n",
      "       79    0.001    0.000    0.001    0.000 {built-in method _codecs.charmap_decode}\n",
      "       63    0.001    0.000    0.001    0.000 {built-in method builtins.print}\n",
      "        6    0.001    0.000    0.001    0.000 {built-in method marshal.loads}\n",
      "        4    0.001    0.000    0.001    0.000 {method 'acquire' of '_thread.lock' objects}\n",
      "        1    0.000    0.000    0.000    0.000 {built-in method _imp.create_dynamic}\n",
      "       68    0.000    0.000    0.001    0.000 <frozen importlib._bootstrap_external>:96(_path_join)\n",
      "       28    0.000    0.000    0.000    0.000 {built-in method builtins.__build_class__}\n",
      "        6    0.000    0.000    0.000    0.000 {method '__exit__' of '_io._IOBase' objects}\n",
      "        6    0.000    0.000    0.000    0.000 {method 'read' of '_io.BufferedReader' objects}\n",
      "       68    0.000    0.000    0.000    0.000 <frozen importlib._bootstrap_external>:119(<listcomp>)\n",
      "       14    0.000    0.000    0.002    0.000 <frozen importlib._bootstrap_external>:1604(find_spec)\n",
      "        3    0.000    0.000    0.000    0.000 {built-in method io.open}\n",
      "        1    0.000    0.000    0.000    0.000 {built-in method nt.listdir}\n",
      "       97    0.000    0.000    0.000    0.000 {built-in method builtins.getattr}\n",
      "        1    0.000    0.000    0.003    0.003 __init__.py:1(<module>)\n",
      "      7/1    0.000    0.000 1818.757 1818.757 {built-in method builtins.exec}\n",
      "        6    0.000    0.000    0.003    0.001 <frozen importlib._bootstrap_external>:1007(get_code)\n",
      "        7    0.000    0.000    0.002    0.000 <frozen importlib._bootstrap>:1056(_find_spec)\n",
      "      7/2    0.000    0.000    0.008    0.004 <frozen importlib._bootstrap>:1167(_find_and_load)\n",
      "        1    0.000    0.000    0.000    0.000 process.py:1(<module>)\n",
      "      232    0.000    0.000    0.000    0.000 {method 'startswith' of 'str' objects}\n",
      "        3    0.000    0.000    0.012    0.004 npyio.py:801(_read)\n",
      "        3    0.000    0.000    0.012    0.004 datastore.py:203(load_from_disk)\n",
      "       12    0.000    0.000    0.000    0.000 <frozen importlib._bootstrap_external>:437(cache_from_source)\n",
      "       33    0.000    0.000    0.000    0.000 <frozen ntpath>:150(splitdrive)\n",
      "       17    0.000    0.000    0.000    0.000 <frozen importlib._bootstrap>:179(_get_module_lock)\n",
      "        1    0.000    0.000    0.000    0.000 std.py:846(__init__)\n",
      "      244    0.000    0.000    0.000    0.000 {method 'endswith' of 'str' objects}\n",
      "        1    0.000    0.000    0.000    0.000 {built-in method _thread.start_new_thread}\n",
      "        1    0.000    0.000    0.000    0.000 reduction.py:1(<module>)\n",
      "       12    0.000    0.000    0.000    0.000 parse.py:366(urlparse)\n",
      "        1    0.000    0.000    0.000    0.000 function_base.py:5054(delete)\n",
      "       17    0.000    0.000    0.000    0.000 <frozen importlib._bootstrap>:100(acquire)\n",
      "      7/2    0.000    0.000    0.008    0.004 <frozen importlib._bootstrap>:1122(_find_and_load_unlocked)\n",
      "        7    0.000    0.000    0.002    0.000 <frozen importlib._bootstrap_external>:1464(_get_spec)\n",
      "       79    0.000    0.000    0.001    0.000 cp1252.py:22(decode)\n",
      "        1    0.000    0.000    0.000    0.000 util.py:1(<module>)\n",
      "        9    0.000    0.000    0.000    0.000 _datasource.py:303(_isurl)\n",
      "      7/2    0.000    0.000    0.007    0.003 <frozen importlib._bootstrap>:666(_load_unlocked)\n",
      "        6    0.000    0.000    0.000    0.000 _datasource.py:417(_sanitize_relative_path)\n",
      "        6    0.000    0.000    0.002    0.000 <frozen importlib._bootstrap_external>:1127(get_data)\n",
      "        3    0.000    0.000    0.000    0.000 {method 'close' of '_io.TextIOWrapper' objects}\n",
      "       17    0.000    0.000    0.000    0.000 <frozen importlib._bootstrap>:125(release)\n",
      "        3    0.000    0.000    0.012    0.004 npyio.py:1081(loadtxt)\n",
      "        7    0.000    0.000    0.000    0.000 <frozen importlib._bootstrap>:493(_init_module_attrs)\n",
      "        1    0.000    0.000    0.000    0.000 <frozen importlib._bootstrap_external>:1655(_fill_cache)\n",
      "        1    0.000    0.000    0.002    0.002 synchronize.py:1(<module>)\n",
      "       73    0.000    0.000    0.000    0.000 <frozen importlib._bootstrap>:244(_verbose_message)\n",
      "        1    0.000    0.000    0.000    0.000 __init__.py:48(create_string_buffer)\n",
      "      216    0.000    0.000    0.000    0.000 {method 'rstrip' of 'str' objects}\n",
      "        1    0.000    0.000    0.000    0.000 utils.py:246(_screen_shape_windows)\n",
      "        6    0.000    0.000    0.000    0.000 <frozen ntpath>:103(join)\n",
      "        3    0.000    0.000    0.000    0.000 {built-in method numpy.array}\n",
      "        7    0.000    0.000    0.000    0.000 <frozen importlib._bootstrap_external>:778(spec_from_file_location)\n",
      "       12    0.000    0.000    0.000    0.000 <frozen importlib._bootstrap_external>:132(_path_split)\n",
      "        3    0.000    0.000    0.000    0.000 parse.py:433(urlsplit)\n",
      "       12    0.000    0.000    0.000    0.000 <frozen genericpath>:121(_splitext)\n",
      "      6/2    0.000    0.000    0.007    0.003 <frozen importlib._bootstrap_external>:934(exec_module)\n",
      "        1    0.000    0.000    0.002    0.002 context.py:1(<module>)\n",
      "       17    0.000    0.000    0.000    0.000 {built-in method _thread.allocate_lock}\n",
      "        6    0.000    0.000    0.000    0.000 <frozen importlib._bootstrap_external>:642(_classify_pyc)\n",
      "        1    0.000    0.000    0.000    0.000 __init__.py:22(<listcomp>)\n",
      "       15    0.000    0.000    0.000    0.000 _datasource.py:130(keys)\n",
      "       60    0.000    0.000    0.000    0.000 {method 'rfind' of 'str' objects}\n",
      "     10/6    0.000    0.000    0.004    0.001 <frozen importlib._bootstrap>:1209(_handle_fromlist)\n",
      "     20/4    0.000    0.000    0.006    0.001 <frozen importlib._bootstrap>:233(_call_with_frames_removed)\n",
      "        7    0.000    0.000    0.001    0.000 <frozen importlib._bootstrap>:566(module_from_spec)\n",
      "        7    0.000    0.000    0.000    0.000 <frozen importlib._bootstrap_external>:1599(_get_spec)\n",
      "        1    0.000    0.000    0.000    0.000 {built-in method builtins.dir}\n",
      "       18    0.000    0.000    0.000    0.000 {built-in method __new__ of type object at 0x00007FFC9021B480}\n",
      "       38    0.000    0.000    0.000    0.000 __init__.py:23(<genexpr>)\n",
      "       82    0.000    0.000    0.000    0.000 {method 'join' of 'str' objects}\n",
      "        8    0.000    0.000    0.000    0.000 <frozen importlib._bootstrap_external>:172(_path_isabs)\n",
      "        6    0.000    0.000    0.001    0.000 <frozen importlib._bootstrap_external>:727(_compile_bytecode)\n",
      "       31    0.000    0.000    0.001    0.000 <frozen importlib._bootstrap_external>:140(_path_stat)\n",
      "       12    0.000    0.000    0.000    0.000 parse.py:786(__getattr__)\n",
      "       12    0.000    0.000    0.000    0.000 <frozen ntpath>:229(splitext)\n",
      "        6    0.000    0.000    0.000    0.000 _datasource.py:294(_possible_names)\n",
      "        1    0.000    0.000    0.000    0.000 {built-in method _imp.exec_dynamic}\n",
      "       18    0.000    0.000    0.000    0.000 <frozen importlib._bootstrap_external>:84(_unpack_uint32)\n",
      "        7    0.000    0.000    0.000    0.000 <frozen importlib._bootstrap>:169(__enter__)\n",
      "       10    0.000    0.000    0.000    0.000 <frozen importlib._bootstrap>:216(_lock_unlock_module)\n",
      "       15    0.000    0.000    0.000    0.000 parse.py:110(_coerce_args)\n",
      "        1    0.000    0.000    0.009    0.009 std.py:560(__new__)\n",
      "        3    0.000    0.000    0.000    0.000 _datasource.py:375(abspath)\n",
      "        7    0.000    0.000    0.000    0.000 <frozen importlib._bootstrap_external>:567(_get_cached)\n",
      "       52    0.000    0.000    0.000    0.000 {method 'rpartition' of 'str' objects}\n",
      "        3    0.000    0.000    0.001    0.000 _datasource.py:487(open)\n",
      "        1    0.000    0.000    0.000    0.000 process.py:71(BaseProcess)\n",
      "       16    0.000    0.000    0.000    0.000 <frozen importlib._bootstrap_external>:1421(_path_importer_cache)\n",
      "        3    0.000    0.000    0.000    0.000 _datasource.py:344(_findfile)\n",
      "       36    0.000    0.000    0.000    0.000 <frozen importlib._bootstrap_external>:134(<genexpr>)\n",
      "      5/2    0.000    0.000    0.004    0.002 {built-in method builtins.__import__}\n",
      "      109    0.000    0.000    0.000    0.000 {method 'append' of 'list' objects}\n",
      "        9    0.000    0.000    0.000    0.000 _datasource.py:263(_iszip)\n",
      "        1    0.000    0.000    0.000    0.000 context.py:30(BaseContext)\n",
      "        2    0.000    0.000    0.000    0.000 __init__.py:393(__getitem__)\n",
      "        1    0.000    0.000    0.000    0.000 synchronize.py:50(__init__)\n",
      "       51    0.000    0.000    0.000    0.000 {method 'replace' of 'str' objects}\n",
      "        1    0.000    0.000    0.000    0.000 {built-in method _abc._abc_init}\n",
      "        3    0.000    0.000    0.000    0.000 enum.py:1074(__new__)\n",
      "       16    0.000    0.000    0.000    0.000 <frozen importlib._bootstrap>:405(parent)\n",
      "        1    0.000    0.000    0.008    0.008 std.py:118(create_mp_lock)\n",
      "        1    0.000    0.000    0.000    0.000 threading.py:849(__init__)\n",
      "        1    0.000    0.000    0.001    0.001 _monitor.py:30(__init__)\n",
      "       14    0.000    0.000    0.000    0.000 <frozen importlib._bootstrap_external>:67(_relax_case)\n",
      "        1    0.000    0.000    0.000    0.000 {function Random.seed at 0x000001571FF8FB00}\n",
      "        2    0.000    0.000    0.000    0.000 std.py:1279(close)\n",
      "        7    0.000    0.000    0.000    0.000 <frozen importlib._bootstrap>:71(__init__)\n",
      "       28    0.000    0.000    0.000    0.000 <frozen importlib._bootstrap>:1032(__exit__)\n",
      "       10    0.000    0.000    0.000    0.000 <frozen importlib._bootstrap_external>:150(_path_is_mode_type)\n",
      "        7    0.000    0.000    0.000    0.000 __init__.py:89(find_spec)\n",
      "        1    0.000    0.000 1818.757 1818.757 <string>:1(<module>)\n",
      "       10    0.000    0.000    0.000    0.000 <frozen ntpath>:545(normpath)\n",
      "        1    0.000    0.000    0.003    0.003 context.py:70(RLock)\n",
      "        1    0.000    0.000    0.000    0.000 std.py:583(_decr_instances)\n",
      "        2    0.000    0.000    0.000    0.000 threading.py:236(__init__)\n",
      "        1    0.000    0.000    0.001    0.001 threading.py:604(wait)\n",
      "        7    0.000    0.000    0.000    0.000 <frozen importlib._bootstrap>:198(cb)\n",
      "        3    0.000    0.000    0.001    0.000 _datasource.py:155(open)\n",
      "        3    0.000    0.000    0.000    0.000 _weakrefset.py:63(__iter__)\n",
      "        1    0.000    0.000    0.000    0.000 <frozen importlib._bootstrap_external>:1408(_path_hooks)\n",
      "        1    0.000    0.000    0.000    0.000 datastore.py:43(<lambda>)\n",
      "        4    0.000    0.000    0.000    0.000 {built-in method nt._getfullpathname}\n",
      "       18    0.000    0.000    0.000    0.000 _datasource.py:103(_load)\n",
      "        1    0.000    0.000    0.000    0.000 enum.py:1357(_missing_)\n",
      "        7    0.000    0.000    0.002    0.000 <frozen importlib._bootstrap_external>:1496(find_spec)\n",
      "       13    0.000    0.000    0.000    0.000 <frozen importlib._bootstrap>:392(cached)\n",
      "       80    0.000    0.000    0.000    0.000 {built-in method nt.fspath}\n",
      "       28    0.000    0.000    0.000    0.000 <frozen importlib._bootstrap>:1028(__enter__)\n",
      "        6    0.000    0.000    0.000    0.000 <frozen importlib._bootstrap_external>:675(_validate_timestamp_pyc)\n",
      "        1    0.000    0.000    0.008    0.008 std.py:92(__init__)\n",
      "       72    0.000    0.000    0.000    0.000 {method 'lstrip' of 'str' objects}\n",
      "       79    0.000    0.000    0.000    0.000 <frozen codecs>:281(getstate)\n",
      "       52    0.000    0.000    0.000    0.000 {built-in method _imp.acquire_lock}\n",
      "        6    0.000    0.000    0.000    0.000 <frozen importlib._bootstrap_external>:599(_check_name_wrapper)\n",
      "        1    0.000    0.000    0.000    0.000 weakref.py:104(__init__)\n",
      "        1    0.000    0.000    0.000    0.000 random.py:128(seed)\n",
      "        3    0.000    0.000    0.000    0.000 datastore.py:127(_set_status)\n",
      "        6    0.000    0.000    0.000    0.000 {built-in method _imp._fix_co_filename}\n",
      "        1    0.000    0.000    0.000    0.000 std.py:576(_get_free_pos)\n",
      "        1    0.000    0.000    0.000    0.000 <frozen importlib._bootstrap_external>:1696(path_hook_for_FileFinder)\n",
      "        1    0.000    0.000    0.000    0.000 tempfile.py:153(__next__)\n",
      "        3    0.000    0.000    0.000    0.000 npyio.py:736(_ensure_ndmin_ndarray)\n",
      "        1    0.000    0.000    0.000    0.000 <frozen importlib._bootstrap_external>:1559(__init__)\n",
      "        8    0.000    0.000    0.000    0.000 {built-in method nt._path_splitroot}\n",
      "        1    0.000    0.000    0.001    0.001 threading.py:938(start)\n",
      "        9    0.000    0.000    0.000    0.000 enum.py:1436(__contains__)\n",
      "        1    0.000    0.000    0.000    0.000 process.py:399(__init__)\n",
      "       52    0.000    0.000    0.000    0.000 {built-in method _imp.release_lock}\n",
      "        3    0.000    0.000    0.000    0.000 npyio.py:1343(<listcomp>)\n",
      "        9    0.000    0.000    0.000    0.000 <frozen importlib._bootstrap_external>:159(_path_isfile)\n",
      "        3    0.000    0.000    0.000    0.000 enum.py:1473(__or__)\n",
      "        1    0.000    0.000    0.001    0.001 threading.py:288(wait)\n",
      "        3    0.000    0.000    0.000    0.000 enum.py:669(__call__)\n",
      "        1    0.000    0.000    0.000    0.000 random.py:490(<listcomp>)\n",
      "        6    0.000    0.000    0.000    0.000 <frozen importlib._bootstrap_external>:1146(path_stats)\n",
      "        7    0.000    0.000    0.000    0.000 <frozen importlib._bootstrap>:357(__init__)\n",
      "        2    0.000    0.000    0.000    0.000 {built-in method _imp.is_builtin}\n",
      "        1    0.000    0.000    0.000    0.000 reduction.py:33(ForkingPickler)\n",
      "        1    0.000    0.000    0.008    0.008 std.py:657(get_lock)\n",
      "        1    0.000    0.000    0.000    0.000 synchronize.py:46(SemLock)\n",
      "       27    0.000    0.000    0.000    0.000 {method 'add' of 'set' objects}\n",
      "       44    0.000    0.000    0.000    0.000 {method 'lower' of 'str' objects}\n",
      "        4    0.000    0.000    0.000    0.000 <frozen ntpath>:577(abspath)\n",
      "        2    0.000    0.000    0.000    0.000 _weakrefset.py:53(_commit_removals)\n",
      "       12    0.000    0.000    0.000    0.000 datastore.py:105(status)\n",
      "        6    0.000    0.000    0.000    0.000 <frozen importlib._bootstrap>:48(_new_module)\n",
      "        1    0.000    0.000    0.000    0.000 utils.py:162(__init__)\n",
      "        1    0.000    0.000    0.000    0.000 <frozen importlib._bootstrap_external>:1684(<setcomp>)\n",
      "        7    0.000    0.000    0.000    0.000 <frozen importlib._bootstrap>:922(find_spec)\n",
      "        1    0.000    0.000    0.000    0.000 tempfile.py:142(rng)\n",
      "       35    0.000    0.000    0.000    0.000 {method '__exit__' of '_thread.lock' objects}\n",
      "       18    0.000    0.000    0.000    0.000 {built-in method from_bytes}\n",
      "        1    0.000    0.000    0.000    0.000 synchronize.py:186(__init__)\n",
      "        1    0.000    0.000    0.000    0.000 std.py:329(status_printer)\n",
      "       12    0.000    0.000    0.000    0.000 <string>:1(<lambda>)\n",
      "       33    0.000    0.000    0.000    0.000 {method 'get' of 'dict' objects}\n",
      "        7    0.000    0.000    0.000    0.000 <frozen importlib._bootstrap>:173(__exit__)\n",
      "        2    0.000    0.000    0.000    0.000 _weakrefset.py:27(__exit__)\n",
      "        1    0.000    0.000    0.000    0.000 {built-in method nt.urandom}\n",
      "        3    0.000    0.000    0.000    0.000 <__array_function__ internals>:177(squeeze)\n",
      "        1    0.000    0.000    0.000    0.000 utils.py:215(_supports_unicode)\n",
      "        1    0.000    0.000    0.000    0.000 <frozen zipimport>:64(__init__)\n",
      "       35    0.000    0.000    0.000    0.000 {built-in method _thread.get_ident}\n",
      "        2    0.000    0.000    0.000    0.000 threading.py:555(__init__)\n",
      "        1    0.000    0.000    0.000    0.000 random.py:477(choices)\n",
      "        1    0.000    0.000    0.000    0.000 {built-in method utcfromtimestamp}\n",
      "        4    0.000    0.000    0.000    0.000 enum.py:1337(_iter_member_by_value_)\n",
      "        3    0.000    0.000    0.000    0.000 npyio.py:770(_check_nonneg_int)\n",
      "        7    0.000    0.000    0.000    0.000 {built-in method _imp.find_frozen}\n",
      "        1    0.000    0.000    0.000    0.000 random.py:119(__init__)\n",
      "       10    0.000    0.000    0.000    0.000 {built-in method nt._path_normpath}\n",
      "        3    0.000    0.000    0.000    0.000 {method 'remove' of 'set' objects}\n",
      "       23    0.000    0.000    0.000    0.000 {method 'partition' of 'str' objects}\n",
      "        7    0.000    0.000    0.000    0.000 {built-in method builtins.setattr}\n",
      "        3    0.000    0.000    0.000    0.000 contextlib.py:344(__exit__)\n",
      "        3    0.000    0.000    0.000    0.000 _datasource.py:246(__init__)\n",
      "        1    0.000    0.000    0.000    0.000 <frozen abc>:105(__new__)\n",
      "        3    0.000    0.000    0.000    0.000 fromnumeric.py:1504(squeeze)\n",
      "        3    0.000    0.000    0.000    0.000 {built-in method _abc._abc_instancecheck}\n",
      "        2    0.000    0.000    0.000    0.000 __init__.py:386(__getattr__)\n",
      "        3    0.000    0.000    0.000    0.000 {method 'extend' of 'list' objects}\n",
      "        6    0.000    0.000    0.000    0.000 <frozen importlib._bootstrap_external>:1097(__init__)\n",
      "        1    0.000    0.000    0.000    0.000 synchronize.py:114(_make_name)\n",
      "        1    0.000    0.000    0.000    0.000 weakref.py:289(update)\n",
      "        2    0.000    0.000    0.000    0.000 _weakrefset.py:85(add)\n",
      "        1    0.000    0.000    0.000    0.000 synchronize.py:210(Condition)\n",
      "        7    0.000    0.000    0.000    0.000 <frozen importlib._bootstrap>:165(__init__)\n",
      "        1    0.000    0.000    0.000    0.000 _weakrefset.py:110(remove)\n",
      "        1    0.000    0.000    0.000    0.000 synchronize.py:363(Barrier)\n",
      "        6    0.000    0.000    0.000    0.000 {method 'setter' of 'property' objects}\n",
      "        7    0.000    0.000    0.000    0.000 {method 'pop' of 'list' objects}\n",
      "        1    0.000    0.000    0.000    0.000 <frozen importlib._bootstrap_external>:1231(create_module)\n",
      "        3    0.000    0.000    0.000    0.000 _datasource.py:431(exists)\n",
      "        1    0.000    0.000    0.000    0.000 context.py:220(Process)\n",
      "        3    0.000    0.000    0.000    0.000 {method 'squeeze' of 'numpy.ndarray' objects}\n",
      "        4    0.000    0.000    0.000    0.000 std.py:112(__enter__)\n",
      "        3    0.000    0.000    0.000    0.000 utils.py:101(wrapper_setattr)\n",
      "        3    0.000    0.000    0.000    0.000 <frozen genericpath>:16(exists)\n",
      "        3    0.000    0.000    0.000    0.000 <frozen abc>:117(__instancecheck__)\n",
      "        4    0.000    0.000    0.000    0.000 std.py:115(__exit__)\n",
      "        7    0.000    0.000    0.000    0.000 <frozen importlib._bootstrap>:748(find_spec)\n",
      "        1    0.000    0.000    0.000    0.000 enum.py:753(__getattr__)\n",
      "        2    0.000    0.000    0.000    0.000 {built-in method builtins.locals}\n",
      "        1    0.000    0.000    0.000    0.000 _weakrefset.py:37(__init__)\n",
      "        1    0.000    0.000    0.000    0.000 std.py:579(<setcomp>)\n",
      "        2    0.000    0.000    0.000    0.000 utils.py:136(disable_on_exception)\n",
      "        1    0.000    0.000    0.000    0.000 enum.py:1420(<listcomp>)\n",
      "        1    0.000    0.000    0.000    0.000 reduction.py:251(AbstractReducer)\n",
      "        5    0.000    0.000    0.000    0.000 reduction.py:43(register)\n",
      "        1    0.000    0.000    0.000    0.000 {built-in method numpy.core._multiarray_umath.normalize_axis_index}\n",
      "        1    0.000    0.000    0.000    0.000 {built-in method nt.getcwd}\n",
      "        7    0.000    0.000    0.000    0.000 {method 'pop' of 'dict' objects}\n",
      "        1    0.000    0.000    0.000    0.000 threading.py:1317(_make_invoke_excepthook)\n",
      "       15    0.000    0.000    0.000    0.000 {method 'keys' of 'dict' objects}\n",
      "        2    0.000    0.000    0.000    0.000 _weakrefset.py:21(__enter__)\n",
      "        1    0.000    0.000    0.000    0.000 util.py:182(Finalize)\n",
      "        3    0.000    0.000    0.000    0.000 {method 'split' of 'str' objects}\n",
      "        1    0.000    0.000    0.000    0.000 <frozen importlib._bootstrap_external>:1220(__init__)\n",
      "        3    0.000    0.000    0.000    0.000 _datasource.py:280(_splitzipext)\n",
      "        2    0.000    0.000    0.000    0.000 std.py:1300(fp_write)\n",
      "        2    0.000    0.000    0.000    0.000 std.py:1171(__hash__)\n",
      "        1    0.000    0.000    0.000    0.000 utils.py:105(__init__)\n",
      "        4    0.000    0.000    0.000    0.000 enum.py:116(_iter_bits_lsb)\n",
      "        1    0.000    0.000    0.000    0.000 enum.py:47(_is_dunder)\n",
      "       15    0.000    0.000    0.000    0.000 parse.py:99(_noop)\n",
      "        1    0.000    0.000    0.000    0.000 threading.py:804(_newname)\n",
      "        1    0.000    0.000    0.000    0.000 threading.py:264(__enter__)\n",
      "        3    0.000    0.000    0.000    0.000 _datasource.py:256(__del__)\n",
      "        1    0.000    0.000    0.000    0.000 context.py:331(SpawnProcess)\n",
      "        1    0.000    0.000    0.000    0.000 utils.py:74(__eq__)\n",
      "        4    0.000    0.000    0.000    0.000 utils.py:171(__eq__)\n",
      "        3    0.000    0.000    0.000    0.000 _datasource.py:149(__getitem__)\n",
      "        3    0.000    0.000    0.000    0.000 <frozen codecs>:260(__init__)\n",
      "        1    0.000    0.000    0.000    0.000 <frozen importlib._bootstrap_external>:1239(exec_module)\n",
      "        1    0.000    0.000    0.000    0.000 context.py:230(DefaultContext)\n",
      "        1    0.000    0.000    0.000    0.000 {built-in method builtins.next}\n",
      "        3    0.000    0.000    0.000    0.000 contextlib.py:748(__init__)\n",
      "        1    0.000    0.000    0.000    0.000 <__array_function__ internals>:177(delete)\n",
      "        3    0.000    0.000    0.000    0.000 std.py:228(__init__)\n",
      "        8    0.000    0.000    0.000    0.000 {method 'random' of '_random.Random' objects}\n",
      "        1    0.000    0.000    0.000    0.000 utils.py:201(_is_utf)\n",
      "        2    0.000    0.000    0.000    0.000 std.py:1167(_comparable)\n",
      "        1    0.000    0.000    0.000    0.000 {method 'encode' of 'str' objects}\n",
      "        3    0.000    0.000    0.000    0.000 {method 'find' of 'str' objects}\n",
      "        7    0.000    0.000    0.000    0.000 <frozen importlib._bootstrap>:413(has_location)\n",
      "        8    0.000    0.000    0.000    0.000 <frozen importlib._bootstrap_external>:1565(<genexpr>)\n",
      "        2    0.000    0.000    0.000    0.000 _weakrefset.py:17(__init__)\n",
      "        1    0.000    0.000    0.000    0.000 threading.py:279(_is_owned)\n",
      "        1    0.000    0.000    0.000    0.000 threading.py:1214(daemon)\n",
      "        1    0.000    0.000    0.000    0.000 process.py:364(_ParentProcess)\n",
      "        1    0.000    0.000    0.000    0.000 reduction.py:211(_C)\n",
      "        1    0.000    0.000    0.000    0.000 synchronize.py:321(Event)\n",
      "        6    0.000    0.000    0.000    0.000 <frozen importlib._bootstrap_external>:1122(get_filename)\n",
      "        1    0.000    0.000    0.000    0.000 threading.py:273(_release_save)\n",
      "        1    0.000    0.000    0.000    0.000 context.py:203(reducer)\n",
      "        1    0.000    0.000    0.000    0.000 synchronize.py:90(_make_methods)\n",
      "        8    0.000    0.000    0.000    0.000 {built-in method math.floor}\n",
      "        1    0.000    0.000    0.000    0.000 threading.py:1446(current_thread)\n",
      "        1    0.000    0.000    0.000    0.000 index_tricks.py:765(__getitem__)\n",
      "        6    0.000    0.000    0.000    0.000 <frozen importlib._bootstrap_external>:931(create_module)\n",
      "        3    0.000    0.000    0.000    0.000 contextlib.py:340(__init__)\n",
      "        3    0.000    0.000    0.000    0.000 parse.py:413(_checknetloc)\n",
      "        1    0.000    0.000    0.000    0.000 threading.py:276(_acquire_restore)\n",
      "        1    0.000    0.000    0.000    0.000 threading.py:1199(daemon)\n",
      "        3    0.000    0.000    0.000    0.000 npyio.py:726(_ensure_ndmin_ndarray_check_param)\n",
      "        1    0.000    0.000    0.000    0.000 context.py:237(get_context)\n",
      "        1    0.000    0.000    0.000    0.000 reduction.py:104(DupHandle)\n",
      "        2    0.000    0.000    0.000    0.000 {built-in method builtins.id}\n",
      "        1    0.000    0.000    0.000    0.000 <frozen importlib._bootstrap_external>:164(_path_isdir)\n",
      "        1    0.000    0.000    0.000    0.000 util.py:368(ForkAwareThreadLock)\n",
      "        1    0.000    0.000    0.000    0.000 threading.py:267(__exit__)\n",
      "        3    0.000    0.000    0.000    0.000 fromnumeric.py:1500(_squeeze_dispatcher)\n",
      "        1    0.000    0.000    0.000    0.000 context.py:233(__init__)\n",
      "        1    0.000    0.000    0.000    0.000 std.py:1161(__del__)\n",
      "        1    0.000    0.000    0.000    0.000 synchronize.py:123(Semaphore)\n",
      "        1    0.000    0.000    0.000    0.000 util.py:108(_platform_supports_abstract_sockets)\n",
      "        1    0.000    0.000    0.000    0.000 {method 'difference' of 'set' objects}\n",
      "        1    0.000    0.000    0.000    0.000 utils.py:231(_screen_shape_wrapper)\n",
      "        1    0.000    0.000    0.000    0.000 synchronize.py:142(BoundedSemaphore)\n",
      "        1    0.000    0.000    0.000    0.000 synchronize.py:184(RLock)\n",
      "        3    0.000    0.000    0.000    0.000 {method 'items' of 'dict' objects}\n",
      "        1    0.000    0.000    0.000    0.000 {method 'indices' of 'slice' objects}\n",
      "        1    0.000    0.000    0.000    0.000 {built-in method builtins.min}\n",
      "        3    0.000    0.000    0.000    0.000 contextlib.py:342(__enter__)\n",
      "        1    0.000    0.000    0.000    0.000 utils.py:88(__getattr__)\n",
      "        1    0.000    0.000    0.000    0.000 context.py:197(get_start_method)\n",
      "        1    0.000    0.000    0.000    0.000 process.py:349(AuthenticationString)\n",
      "        1    0.000    0.000    0.000    0.000 synchronize.py:159(Lock)\n",
      "        2    0.000    0.000    0.000    0.000 {built-in method _weakref.proxy}\n",
      "        2    0.000    0.000    0.000    0.000 {built-in method atexit.register}\n",
      "        3    0.000    0.000    0.000    0.000 {built-in method _operator.index}\n",
      "        1    0.000    0.000    0.000    0.000 {built-in method nt.getpid}\n",
      "        2    0.000    0.000    0.000    0.000 {built-in method builtins.globals}\n",
      "        1    0.000    0.000    0.000    0.000 std.py:100(<listcomp>)\n",
      "        1    0.000    0.000    0.000    0.000 process.py:397(_MainProcess)\n",
      "        1    0.000    0.000    0.000    0.000 context.py:14(ProcessError)\n",
      "        1    0.000    0.000    0.000    0.000 util.py:385(ForkAwareLocal)\n",
      "        1    0.000    0.000    0.000    0.000 {method 'disable' of '_lsprof.Profiler' objects}\n",
      "        1    0.000    0.000    0.000    0.000 {method 'setdefault' of 'dict' objects}\n",
      "        1    0.000    0.000    0.000    0.000 context.py:17(BufferTooShort)\n",
      "        1    0.000    0.000    0.000    0.000 context.py:20(TimeoutError)\n",
      "        1    0.000    0.000    0.000    0.000 context.py:23(AuthenticationError)\n",
      "        1    0.000    0.000    0.000    0.000 context.py:343(SpawnContext)\n",
      "        1    0.000    0.000    0.000    0.000 util.py:48(debug)\n",
      "        1    0.000    0.000    0.000    0.000 {method '__enter__' of '_thread.lock' objects}\n",
      "        2    0.000    0.000    0.000    0.000 __init__.py:96(<lambda>)\n",
      "        2    0.000    0.000    0.000    0.000 threading.py:568(is_set)\n",
      "        1    0.000    0.000    0.000    0.000 function_base.py:5050(_delete_dispatcher)\n",
      "        1    0.000    0.000    0.000    0.000 process.py:37(current_process)\n",
      "        1    0.000    0.000    0.000    0.000 {method 'append' of 'collections.deque' objects}\n",
      "        2    0.000    0.000    0.000    0.000 datastore.py:225(<lambda>)\n",
      "        1    0.000    0.000    0.000    0.000 std.py:1315(<lambda>)\n",
      "        1    0.000    0.000    0.000    0.000 {method 'release' of '_thread.lock' objects}\n",
      "        1    0.000    0.000    0.000    0.000 {method '__exit__' of '_thread.RLock' objects}\n",
      "        1    0.000    0.000    0.000    0.000 {built-in method sys.audit}\n",
      "\n",
      "\n"
     ]
    },
    {
     "data": {
      "text/plain": [
       "<pstats.Stats at 0x2a25299b910>"
      ]
     },
     "execution_count": 14,
     "metadata": {},
     "output_type": "execute_result"
    }
   ],
   "source": [
    "p = pstats.Stats(os.path.join(e.os_path, \"macro_pstats\", \"macro_pstats.sts\"))\n",
    "p.strip_dirs().sort_stats(SortKey.TIME).print_stats()"
   ]
  },
  {
   "cell_type": "code",
   "execution_count": 16,
   "id": "7eb05722-2e3d-4090-8b7f-45539c1a7ea8",
   "metadata": {},
   "outputs": [
    {
     "name": "stdout",
     "output_type": "stream",
     "text": [
      "Thu Jan 12 23:36:23 2023    ../../data\\2022-12-27-1100\\macro_pstats\\macro_pstats.sts\n",
      "\n",
      "         3176927 function calls (3150578 primitive calls) in 28.687 seconds\n",
      "\n",
      "   Ordered by: internal time\n",
      "   List reduced from 426 to 11 due to restriction <'macroscale'>\n",
      "\n",
      "   ncalls  tottime  percall  cumtime  percall filename:lineno(function)\n",
      "    29206   12.250    0.000   13.280    0.000 np_macroscale.py:183(move)\n",
      "        1    8.864    8.864   28.686   28.686 np_macroscale.py:283(run)\n",
      "    29206    1.539    0.000    3.172    0.000 np_macroscale.py:99(bind)\n",
      "    20771    0.438    0.000    0.688    0.000 np_macroscale.py:268(find_lysis_time)\n",
      "    29206    0.369    0.000    0.586    0.000 np_macroscale.py:82(unbind_by_time)\n",
      "    29206    0.292    0.000    0.292    0.000 np_macroscale.py:172(find_still_stuck)\n",
      "    20771    0.132    0.000    0.315    0.000 np_macroscale.py:246(find_unbinding_time)\n",
      "    36009    0.082    0.000    0.118    0.000 np_macroscale.py:226(next)\n",
      "    29206    0.026    0.000    0.146    0.000 np_macroscale.py:70(unbind_by_degradation)\n",
      "    29206    0.020    0.000    0.124    0.000 np_macroscale.py:125(move_to_empty_edge)\n",
      "        2    0.012    0.006    0.019    0.009 np_macroscale.py:218(fill_list)\n",
      "\n",
      "\n"
     ]
    },
    {
     "data": {
      "text/plain": [
       "<pstats.Stats at 0x2a252792850>"
      ]
     },
     "execution_count": 16,
     "metadata": {},
     "output_type": "execute_result"
    }
   ],
   "source": [
    "p = pstats.Stats(os.path.join(e.os_path, \"macro_pstats\", \"macro_pstats.sts\"))\n",
    "p.strip_dirs().sort_stats(SortKey.TIME).print_stats(\"macroscale\")"
   ]
  },
  {
   "cell_type": "code",
   "execution_count": 3,
   "id": "a079346c-fbe5-4cf3-b164-d114910c180b",
   "metadata": {},
   "outputs": [
    {
     "name": "stdout",
     "output_type": "stream",
     "text": [
      "Fri Jan 13 08:40:44 2023    ../../data\\2022-12-27-1100\\macro_pstats\\macro_pstats.sts\n",
      "\n",
      "         9246312 function calls (9182115 primitive calls) in 205.330 seconds\n",
      "\n",
      "   Ordered by: internal time\n",
      "   List reduced from 444 to 17 due to restriction <'macroscale'>\n",
      "\n",
      "   ncalls  tottime  percall  cumtime  percall filename:lineno(function)\n",
      "    58412   36.359    0.001  147.930    0.003 np_macroscale.py:162(move_to_empty_edge)\n",
      "   177392   32.143    0.000   32.143    0.000 np_macroscale.py:152(reset_neighbors)\n",
      "   177392   28.487    0.000   33.439    0.000 np_macroscale.py:130(select_neighbor)\n",
      "   177392   18.693    0.000   20.084    0.000 np_macroscale.py:138(check_neighbor_empty)\n",
      "        1   17.473   17.473  205.330  205.330 np_macroscale.py:334(run)\n",
      "    58412   12.455    0.000   13.770    0.000 np_macroscale.py:228(actual_move)\n",
      "    21766   11.895    0.001   24.193    0.001 np_macroscale.py:125(get_neighbors)\n",
      "    58412    7.050    0.000    7.610    0.000 np_macroscale.py:241(find_reached_rear)\n",
      "    58412    3.534    0.000  173.598    0.003 np_macroscale.py:249(move)\n",
      "    58412    2.868    0.000    6.749    0.000 np_macroscale.py:99(bind)\n",
      "    58412    1.075    0.000    1.839    0.000 np_macroscale.py:82(unbind_by_time)\n",
      "    34428    0.844    0.000    1.373    0.000 np_macroscale.py:319(find_lysis_time)\n",
      "    58412    0.755    0.000    0.755    0.000 np_macroscale.py:214(find_still_stuck)\n",
      "    34428    0.307    0.000    0.847    0.000 np_macroscale.py:297(find_unbinding_time)\n",
      "    75336    0.249    0.000    0.361    0.000 np_macroscale.py:277(next)\n",
      "    58412    0.113    0.000    0.485    0.000 np_macroscale.py:70(unbind_by_degradation)\n",
      "        6    0.034    0.006    0.055    0.009 np_macroscale.py:269(fill_list)\n",
      "\n",
      "\n"
     ]
    },
    {
     "data": {
      "text/plain": [
       "<pstats.Stats at 0x2a1a83d43d0>"
      ]
     },
     "execution_count": 3,
     "metadata": {},
     "output_type": "execute_result"
    }
   ],
   "source": [
    "p = pstats.Stats(os.path.join(e.os_path, \"macro_pstats\", \"macro_pstats.sts\"))\n",
    "p.strip_dirs().sort_stats(SortKey.TIME).print_stats(\"macroscale\")"
   ]
  },
  {
   "cell_type": "code",
   "execution_count": 4,
   "id": "f8165db1-be01-4ee0-bc0c-df7ca2d219f9",
   "metadata": {},
   "outputs": [
    {
     "name": "stdout",
     "output_type": "stream",
     "text": [
      "Fri Jan 13 09:15:21 2023    ../../data\\2022-12-27-1100\\macro_pstats\\macro_pstats.sts\n",
      "\n",
      "         9251317 function calls (9187120 primitive calls) in 57.001 seconds\n",
      "\n",
      "   Ordered by: internal time\n",
      "   List reduced from 440 to 17 due to restriction <'macroscale'>\n",
      "\n",
      "   ncalls  tottime  percall  cumtime  percall filename:lineno(function)\n",
      "        1   15.763   15.763   57.001   57.001 np_macroscale.py:335(run)\n",
      "    58412   10.734    0.000   11.566    0.000 np_macroscale.py:229(actual_move)\n",
      "    58412    6.628    0.000    6.967    0.000 np_macroscale.py:242(find_reached_rear)\n",
      "    58412    3.913    0.000   10.748    0.000 np_macroscale.py:158(move_to_empty_edge)\n",
      "    58412    2.503    0.000    5.148    0.000 np_macroscale.py:94(bind)\n",
      "   177392    1.968    0.000    2.146    0.000 np_macroscale.py:125(select_neighbor)\n",
      "   177392    1.349    0.000    1.999    0.000 np_macroscale.py:133(check_neighbor_empty)\n",
      "   177392    1.074    0.000    1.074    0.000 np_macroscale.py:148(reset_neighbors)\n",
      "    58412    0.899    0.000    1.392    0.000 np_macroscale.py:77(unbind_by_time)\n",
      "    58412    0.689    0.000    0.689    0.000 np_macroscale.py:215(find_still_stuck)\n",
      "    34428    0.681    0.000    1.069    0.000 np_macroscale.py:320(find_lysis_time)\n",
      "    21766    0.543    0.000    0.760    0.000 np_macroscale.py:120(get_neighbors)\n",
      "    58412    0.454    0.000   30.424    0.001 np_macroscale.py:250(move)\n",
      "    34428    0.202    0.000    0.510    0.000 np_macroscale.py:298(find_unbinding_time)\n",
      "    75336    0.165    0.000    0.258    0.000 np_macroscale.py:278(next)\n",
      "    58412    0.052    0.000    0.292    0.000 np_macroscale.py:65(unbind_by_degradation)\n",
      "        6    0.034    0.006    0.054    0.009 np_macroscale.py:270(fill_list)\n",
      "\n",
      "\n"
     ]
    },
    {
     "data": {
      "text/plain": [
       "<pstats.Stats at 0x2a1a8425ad0>"
      ]
     },
     "execution_count": 4,
     "metadata": {},
     "output_type": "execute_result"
    }
   ],
   "source": [
    "p = pstats.Stats(os.path.join(e.os_path, \"macro_pstats\", \"macro_pstats.sts\"))\n",
    "p.strip_dirs().sort_stats(SortKey.TIME).print_stats(\"macroscale\")"
   ]
  },
  {
   "cell_type": "code",
   "execution_count": 14,
   "id": "7e3d0b4e-a55f-4e1c-9609-0db94a8664e8",
   "metadata": {},
   "outputs": [
    {
     "name": "stdout",
     "output_type": "stream",
     "text": [
      "Fri Jan 13 10:27:50 2023    ../../data\\2022-12-27-1100\\macro_pstats\\macro_pstats_200.sts\n",
      "\n",
      "         30679948 function calls (30503405 primitive calls) in 375.200 seconds\n",
      "\n",
      "   Ordered by: internal time\n",
      "   List reduced from 440 to 20 due to restriction <20>\n",
      "\n",
      "   ncalls  tottime  percall  cumtime  percall filename:lineno(function)\n",
      "   146030  102.920    0.001  250.562    0.002 np_macroscale.py:159(move_to_empty_edge)\n",
      "   965386   66.149    0.000   69.411    0.000 np_macroscale.py:126(select_neighbor)\n",
      "        1   45.440   45.440  375.200  375.200 np_macroscale.py:338(run)\n",
      "   146030   24.617    0.000   25.513    0.000 np_macroscale.py:245(find_reached_rear)\n",
      "   965386   24.138    0.000   24.138    0.000 np_macroscale.py:149(reset_neighbors)\n",
      "   109384   20.816    0.000   24.866    0.000 np_macroscale.py:121(get_neighbors)\n",
      "   965386   20.334    0.000   24.606    0.000 np_macroscale.py:134(check_neighbor_empty)\n",
      "   146030   20.128    0.000   22.420    0.000 np_macroscale.py:232(actual_move)\n",
      "   439936   11.422    0.000   11.422    0.000 {method 'random' of 'numpy.random._generator.Generator' objects}\n",
      "4569232/4392737    8.717    0.000   14.308    0.000 {built-in method numpy.core._multiarray_umath.implement_array_function}\n",
      "   146030    4.336    0.000    9.292    0.000 np_macroscale.py:95(bind)\n",
      "  1167331    3.641    0.000    3.641    0.000 {method 'astype' of 'numpy.ndarray' objects}\n",
      "  2480346    3.076    0.000    3.076    0.000 {built-in method numpy.core._multiarray_umath.count_nonzero}\n",
      "  2480346    2.208    0.000    8.036    0.000 <__array_function__ internals>:177(count_nonzero)\n",
      "   146030    1.913    0.000    3.055    0.000 np_macroscale.py:78(unbind_by_time)\n",
      "   146030    1.897    0.000    1.897    0.000 np_macroscale.py:218(find_still_stuck)\n",
      "  1533947    1.730    0.000    7.105    0.000 numeric.py:290(full)\n",
      "  1679977    1.724    0.000    5.793    0.000 <__array_function__ internals>:177(copyto)\n",
      "   146030    1.343    0.000  301.735    0.002 np_macroscale.py:253(move)\n",
      "    55915    1.198    0.000    1.854    0.000 np_macroscale.py:323(find_lysis_time)\n",
      "\n",
      "\n"
     ]
    },
    {
     "data": {
      "text/plain": [
       "<pstats.Stats at 0x2a1a8cbc090>"
      ]
     },
     "execution_count": 14,
     "metadata": {},
     "output_type": "execute_result"
    }
   ],
   "source": [
    "p = pstats.Stats(os.path.join(e.os_path, \"macro_pstats\", \"macro_pstats_200.sts\"))\n",
    "p.strip_dirs().sort_stats(SortKey.TIME).print_stats(20)"
   ]
  },
  {
   "cell_type": "code",
   "execution_count": 15,
   "id": "eea00305-2b47-4498-96c5-a766473fe941",
   "metadata": {},
   "outputs": [
    {
     "name": "stdout",
     "output_type": "stream",
     "text": [
      "Fri Jan 13 10:44:34 2023    ../../data\\2022-12-27-1100\\macro_pstats\\macro_pstats_203.sts\n",
      "\n",
      "         39372047 function calls (39195819 primitive calls) in 323.705 seconds\n",
      "\n",
      "   Ordered by: internal time\n",
      "   List reduced from 447 to 30 due to restriction <30>\n",
      "\n",
      "   ncalls  tottime  percall  cumtime  percall filename:lineno(function)\n",
      "   146030  100.449    0.001  201.152    0.001 np_macroscale.py:158(move_to_empty_edge)\n",
      "        1   44.195   44.195  323.705  323.705 np_macroscale.py:337(run)\n",
      "   146030   24.386    0.000   25.282    0.000 np_macroscale.py:244(find_reached_rear)\n",
      "   970234   23.029    0.000   23.029    0.000 np_macroscale.py:148(reset_neighbors)\n",
      "   146030   20.206    0.000   22.549    0.000 np_macroscale.py:231(actual_move)\n",
      "   109384   19.977    0.000   23.917    0.000 np_macroscale.py:121(get_neighbors)\n",
      "   970234   19.714    0.000   23.865    0.000 np_macroscale.py:133(check_neighbor_empty)\n",
      "   970234   13.070    0.000   24.668    0.000 {method 'integers' of 'numpy.random._generator.Generator' objects}\n",
      "   439547   11.090    0.000   11.090    0.000 {method 'random' of 'numpy.random._generator.Generator' objects}\n",
      "5547503/5371323    9.065    0.000   24.840    0.000 {built-in method numpy.core._multiarray_umath.implement_array_function}\n",
      "   146030    4.298    0.000    9.121    0.000 np_macroscale.py:95(bind)\n",
      "   970234    3.652    0.000    3.652    0.000 {method 'reduce' of 'numpy.ufunc' objects}\n",
      "  2484837    3.103    0.000    3.103    0.000 {built-in method numpy.core._multiarray_umath.count_nonzero}\n",
      "   970234    2.766    0.000    8.964    0.000 fromnumeric.py:69(_wrapreduction)\n",
      "  2484837    2.235    0.000    8.127    0.000 <__array_function__ internals>:177(count_nonzero)\n",
      "   146030    1.908    0.000    3.031    0.000 np_macroscale.py:78(unbind_by_time)\n",
      "   146030    1.831    0.000    1.831    0.000 np_macroscale.py:217(find_still_stuck)\n",
      "  1538264    1.708    0.000    6.981    0.000 numeric.py:290(full)\n",
      "  1684294    1.667    0.000    5.691    0.000 <__array_function__ internals>:177(copyto)\n",
      "   970331    1.349    0.000    1.349    0.000 {built-in method builtins.getattr}\n",
      "   146030    1.328    0.000  252.142    0.002 np_macroscale.py:252(move)\n",
      "   970234    1.219    0.000   10.183    0.000 fromnumeric.py:2955(prod)\n",
      "    55774    1.187    0.000    1.828    0.000 np_macroscale.py:322(find_lysis_time)\n",
      "  1891019    1.163    0.000    1.163    0.000 {built-in method numpy.empty}\n",
      "  2484837    1.062    0.000    4.166    0.000 numeric.py:432(count_nonzero)\n",
      "   970234    1.055    0.000    1.055    0.000 fromnumeric.py:70(<dictcomp>)\n",
      "   970234    0.729    0.000   11.598    0.000 <__array_function__ internals>:177(prod)\n",
      "   970234    0.529    0.000   25.197    0.000 np_macroscale.py:126(select_neighbor)\n",
      "   179360    0.455    0.000    0.844    0.000 np_macroscale.py:280(next)\n",
      "   201804    0.435    0.000    0.435    0.000 {method 'astype' of 'numpy.ndarray' objects}\n",
      "\n",
      "\n"
     ]
    },
    {
     "data": {
      "text/plain": [
       "<pstats.Stats at 0x2a1a90684d0>"
      ]
     },
     "execution_count": 15,
     "metadata": {},
     "output_type": "execute_result"
    }
   ],
   "source": [
    "p = pstats.Stats(os.path.join(e.os_path, \"macro_pstats\", \"macro_pstats_203.sts\"))\n",
    "p.strip_dirs().sort_stats(SortKey.TIME).print_stats(30)"
   ]
  },
  {
   "cell_type": "code",
   "execution_count": 7,
   "id": "1b999a70-a5af-489a-b7c1-65c175d7d367",
   "metadata": {},
   "outputs": [
    {
     "name": "stdout",
     "output_type": "stream",
     "text": [
      "Fri Jan 13 10:53:17 2023    ../../data\\2022-12-27-1100\\macro_pstats\\macro_pstats.sts\n",
      "\n",
      "         41695263 function calls (41515401 primitive calls) in 324.844 seconds\n",
      "\n",
      "   Ordered by: internal time\n",
      "   List reduced from 447 to 17 due to restriction <'macroscale'>\n",
      "\n",
      "   ncalls  tottime  percall  cumtime  percall filename:lineno(function)\n",
      "   146030  101.113    0.001  202.319    0.001 np_macroscale.py:158(move_to_empty_edge)\n",
      "        1   44.748   44.748  324.843  324.843 np_macroscale.py:338(run)\n",
      "   146030   24.794    0.000   25.686    0.000 np_macroscale.py:245(find_reached_rear)\n",
      "   977046   23.131    0.000   23.131    0.000 np_macroscale.py:148(reset_neighbors)\n",
      "   112588   20.079    0.000   24.121    0.000 np_macroscale.py:121(get_neighbors)\n",
      "   977046   19.681    0.000   23.867    0.000 np_macroscale.py:133(check_neighbor_empty)\n",
      "   146030   15.234    0.000   21.043    0.000 np_macroscale.py:231(actual_move)\n",
      "   146030    4.380    0.000    9.326    0.000 np_macroscale.py:95(bind)\n",
      "   146030    1.921    0.000    3.046    0.000 np_macroscale.py:78(unbind_by_time)\n",
      "   146030    1.868    0.000    1.868    0.000 np_macroscale.py:217(find_still_stuck)\n",
      "   146030    1.341    0.000  252.257    0.002 np_macroscale.py:253(move)\n",
      "    56198    1.223    0.000    1.880    0.000 np_macroscale.py:323(find_lysis_time)\n",
      "   977046    0.524    0.000   25.319    0.000 np_macroscale.py:126(select_neighbor)\n",
      "   179369    0.455    0.000    0.837    0.000 np_macroscale.py:281(next)\n",
      "    56198    0.369    0.000    0.969    0.000 np_macroscale.py:301(find_unbinding_time)\n",
      "       29    0.171    0.006    0.268    0.009 np_macroscale.py:273(fill_list)\n",
      "   146030    0.171    0.000    0.818    0.000 np_macroscale.py:66(unbind_by_degradation)\n",
      "\n",
      "\n"
     ]
    },
    {
     "data": {
      "text/plain": [
       "<pstats.Stats at 0x2a1a849c3d0>"
      ]
     },
     "execution_count": 7,
     "metadata": {},
     "output_type": "execute_result"
    }
   ],
   "source": [
    "p = pstats.Stats(os.path.join(e.os_path, \"macro_pstats\", \"macro_pstats.sts\"))\n",
    "p.strip_dirs().sort_stats(SortKey.TIME).print_stats(\"macroscale\")"
   ]
  },
  {
   "cell_type": "code",
   "execution_count": null,
   "id": "47255b6b-024a-4530-a816-86ba875e6bfa",
   "metadata": {},
   "outputs": [],
   "source": []
  }
 ],
 "metadata": {
  "kernelspec": {
   "display_name": "Python 3 (ipykernel)",
   "language": "python",
   "name": "python3"
  },
  "language_info": {
   "codemirror_mode": {
    "name": "ipython",
    "version": 3
   },
   "file_extension": ".py",
   "mimetype": "text/x-python",
   "name": "python",
   "nbconvert_exporter": "python",
   "pygments_lexer": "ipython3",
   "version": "3.11.0"
  }
 },
 "nbformat": 4,
 "nbformat_minor": 5
}
