{
 "cells": [
  {
   "cell_type": "code",
   "execution_count": 1,
   "id": "d08a4b7f-1a78-4d35-9bde-829212a01ea5",
   "metadata": {},
   "outputs": [],
   "source": [
    "import os\n",
    "import pstats\n",
    "\n",
    "from pstats import SortKey\n",
    "\n",
    "import lysis"
   ]
  },
  {
   "cell_type": "code",
   "execution_count": 2,
   "id": "de23677a-e2f2-426f-820d-d552e14a0611",
   "metadata": {},
   "outputs": [],
   "source": [
    "e = lysis.util.Experiment(r'../../data', experiment_code='2022-12-27-1100')\n",
    "p = {'total_time': 1}\n",
    "e.initialize_macro_param(p)\n",
    "macro = lysis.MacroscaleRun(e)"
   ]
  },
  {
   "cell_type": "code",
   "execution_count": 3,
   "id": "d00a8d14-3c9d-4f85-9001-21f867911acd",
   "metadata": {},
   "outputs": [
    {
     "name": "stdout",
     "output_type": "stream",
     "text": [
      "Fri Jan 13 17:19:28 2023    ../../data\\2022-12-27-1100\\macro_pstats\\macro_pstats_233.sts\n",
      "\n",
      "         178831419 function calls (178026843 primitive calls) in 1348.021 seconds\n",
      "\n",
      "   Ordered by: internal time\n",
      "   List reduced from 447 to 17 due to restriction <'macroscale'>\n",
      "\n",
      "   ncalls  tottime  percall  cumtime  percall filename:lineno(function)\n",
      "   584122  258.234    0.000  825.074    0.001 np_macroscale.py:163(move_to_empty_edge)\n",
      "        1  246.839  246.839 1348.021 1348.021 np_macroscale.py:354(run)\n",
      "   550680  137.766    0.000  166.089    0.000 np_macroscale.py:125(get_neighbors)\n",
      "  4484400  112.565    0.000  112.565    0.000 np_macroscale.py:153(reset_neighbors)\n",
      "  4484400  106.026    0.000  128.439    0.000 np_macroscale.py:138(check_neighbor_empty)\n",
      "   584122   78.188    0.000  104.867    0.000 np_macroscale.py:238(actual_move)\n",
      "   584122   19.541    0.000   43.685    0.000 np_macroscale.py:99(bind)\n",
      "   584122   15.830    0.000   18.501    0.000 np_macroscale.py:252(find_reached_rear)\n",
      "   584122   10.401    0.000   10.401    0.000 np_macroscale.py:224(find_still_stuck)\n",
      "   584122    7.637    0.000  966.481    0.002 np_macroscale.py:269(move)\n",
      "   584122    7.268    0.000   12.005    0.000 np_macroscale.py:82(unbind_by_time)\n",
      "   217089    5.747    0.000    8.673    0.000 np_macroscale.py:339(find_lysis_time)\n",
      "  4484400    2.886    0.000  136.235    0.000 np_macroscale.py:131(select_neighbor)\n",
      "   693711    2.402    0.000    4.125    0.000 np_macroscale.py:297(next)\n",
      "   217089    1.966    0.000    5.352    0.000 np_macroscale.py:317(find_unbinding_time)\n",
      "   584122    0.836    0.000    3.583    0.000 np_macroscale.py:70(unbind_by_degradation)\n",
      "       99    0.716    0.007    1.067    0.011 np_macroscale.py:289(fill_list)\n",
      "\n",
      "\n"
     ]
    },
    {
     "data": {
      "text/plain": [
       "<pstats.Stats at 0x25ba2109590>"
      ]
     },
     "execution_count": 3,
     "metadata": {},
     "output_type": "execute_result"
    }
   ],
   "source": [
    "p = pstats.Stats(os.path.join(e.os_path, \"macro_pstats\", \"macro_pstats_233.sts\"))\n",
    "p.strip_dirs().sort_stats(SortKey.TIME).print_stats(\"macroscale\")"
   ]
  },
  {
   "cell_type": "code",
   "execution_count": 9,
   "id": "c4c3ea29-60e4-43d6-858b-41f2d7d934d2",
   "metadata": {},
   "outputs": [
    {
     "name": "stdout",
     "output_type": "stream",
     "text": [
      "Sat Jan 14 12:13:38 2023    ../../data\\2022-12-27-1100\\macro_pstats\\macro_pstats_236.sts\n",
      "\n",
      "         175559378 function calls (174754802 primitive calls) in 1053.328 seconds\n",
      "\n",
      "   Ordered by: internal time\n",
      "   List reduced from 447 to 17 due to restriction <'macroscale'>\n",
      "\n",
      "   ncalls  tottime  percall  cumtime  percall filename:lineno(function)\n",
      "        1  187.404  187.404 1053.328 1053.328 np_macroscale.py:361(run)\n",
      "   584122  183.151    0.000  648.643    0.001 np_macroscale.py:168(move_to_empty_edge)\n",
      "  4484400  103.076    0.000  103.076    0.000 np_macroscale.py:158(reset_neighbors)\n",
      "   550680  102.798    0.000  123.699    0.000 np_macroscale.py:128(get_neighbors)\n",
      "  4484400   90.657    0.000  109.321    0.000 np_macroscale.py:141(check_neighbor_empty)\n",
      "   584122   57.512    0.000   78.955    0.000 np_macroscale.py:245(actual_move)\n",
      "   584122   16.154    0.000   34.125    0.000 np_macroscale.py:102(bind)\n",
      "   584122   11.453    0.000   13.638    0.000 np_macroscale.py:259(find_reached_rear)\n",
      "   584122    7.086    0.000    7.086    0.000 np_macroscale.py:231(find_still_stuck)\n",
      "   584122    6.068    0.000    9.946    0.000 np_macroscale.py:85(unbind_by_time)\n",
      "   584122    5.460    0.000  753.782    0.001 np_macroscale.py:276(move)\n",
      "   217089    4.461    0.000    6.812    0.000 np_macroscale.py:346(find_lysis_time)\n",
      "  4484400    2.386    0.000  112.543    0.000 np_macroscale.py:134(select_neighbor)\n",
      "   693711    1.749    0.000    3.141    0.000 np_macroscale.py:304(next)\n",
      "   217089    1.296    0.000    3.472    0.000 np_macroscale.py:324(find_unbinding_time)\n",
      "   584122    0.614    0.000    2.782    0.000 np_macroscale.py:73(unbind_by_degradation)\n",
      "       99    0.575    0.006    0.903    0.009 np_macroscale.py:296(fill_list)\n",
      "\n",
      "\n"
     ]
    },
    {
     "data": {
      "text/plain": [
       "<pstats.Stats at 0x25ba2d65e50>"
      ]
     },
     "execution_count": 9,
     "metadata": {},
     "output_type": "execute_result"
    }
   ],
   "source": [
    "p = pstats.Stats(os.path.join(e.os_path, \"macro_pstats\", \"macro_pstats_236.sts\"))\n",
    "p.strip_dirs().sort_stats(SortKey.TIME).print_stats(\"macroscale\")"
   ]
  },
  {
   "cell_type": "code",
   "execution_count": 19,
   "id": "5e9568f5-e7a0-47c9-b890-08a86341abbe",
   "metadata": {},
   "outputs": [
    {
     "data": {
      "text/plain": [
       "573.5880700462233"
      ]
     },
     "execution_count": 19,
     "metadata": {},
     "output_type": "execute_result"
    }
   ],
   "source": [
    "3504733/6110.191587"
   ]
  },
  {
   "cell_type": "code",
   "execution_count": 21,
   "id": "e1a7fd1c-4e31-4c49-98d0-011e452a166e",
   "metadata": {},
   "outputs": [
    {
     "name": "stdout",
     "output_type": "stream",
     "text": [
      "Sat Jan 14 14:37:32 2023    ../../data\\2022-12-27-1100\\macro_pstats\\macro_pstats_249.sts\n",
      "\n",
      "         95220380 function calls (94415119 primitive calls) in 861.263 seconds\n",
      "\n",
      "   Ordered by: internal time\n",
      "   List reduced from 457 to 14 due to restriction <'macroscale'>\n",
      "\n",
      "   ncalls  tottime  percall  cumtime  percall filename:lineno(function)\n",
      "        1  187.820  187.820  861.263  861.263 np_macroscale.py:368(run)\n",
      "   584122  130.561    0.000  451.317    0.001 np_macroscale.py:217(move_to_empty_edge2)\n",
      "   550680  103.081    0.000  127.303    0.000 np_macroscale.py:130(get_neighbors)\n",
      "   584122   58.508    0.000   82.412    0.000 np_macroscale.py:252(actual_move)\n",
      "   584122   16.088    0.000   33.894    0.000 np_macroscale.py:104(bind)\n",
      "   584122   12.482    0.000   14.680    0.000 np_macroscale.py:266(find_reached_rear)\n",
      "   584122    7.586    0.000    7.586    0.000 np_macroscale.py:238(find_still_stuck)\n",
      "   584122    6.581    0.000  562.576    0.001 np_macroscale.py:283(move)\n",
      "   584122    6.108    0.000   10.047    0.000 np_macroscale.py:87(unbind_by_time)\n",
      "   217592    4.390    0.000    6.712    0.000 np_macroscale.py:353(find_lysis_time)\n",
      "   694561    1.679    0.000    3.060    0.000 np_macroscale.py:311(next)\n",
      "   217592    1.269    0.000    3.447    0.000 np_macroscale.py:331(find_unbinding_time)\n",
      "   584122    0.614    0.000    2.799    0.000 np_macroscale.py:75(unbind_by_degradation)\n",
      "       99    0.595    0.006    0.923    0.009 np_macroscale.py:303(fill_list)\n",
      "\n",
      "\n"
     ]
    },
    {
     "data": {
      "text/plain": [
       "<pstats.Stats at 0x25ba2eb9b10>"
      ]
     },
     "execution_count": 21,
     "metadata": {},
     "output_type": "execute_result"
    }
   ],
   "source": [
    "p = pstats.Stats(os.path.join(e.os_path, \"macro_pstats\", \"macro_pstats_249.sts\"))\n",
    "p.strip_dirs().sort_stats(SortKey.TIME).print_stats(\"macroscale\")"
   ]
  },
  {
   "cell_type": "code",
   "execution_count": null,
   "id": "21b457ba-1254-447d-b6df-206fd5e364d1",
   "metadata": {},
   "outputs": [],
   "source": [
    "p = pstats.Stats(os.path.join(e.os_path, \"macro_pstats\", \"macro_pstats_249.sts\"))\n",
    "p.strip_dirs().sort_stats(SortKey.TIME).print_stats(\"macroscale\")"
   ]
  }
 ],
 "metadata": {
  "kernelspec": {
   "display_name": "Python 3 (ipykernel)",
   "language": "python",
   "name": "python3"
  },
  "language_info": {
   "codemirror_mode": {
    "name": "ipython",
    "version": 3
   },
   "file_extension": ".py",
   "mimetype": "text/x-python",
   "name": "python",
   "nbconvert_exporter": "python",
   "pygments_lexer": "ipython3",
   "version": "3.11.0"
  }
 },
 "nbformat": 4,
 "nbformat_minor": 5
}
