{
 "cells": [
  {
   "cell_type": "code",
   "execution_count": 1,
   "id": "d08a4b7f-1a78-4d35-9bde-829212a01ea5",
   "metadata": {},
   "outputs": [],
   "source": [
    "import os\n",
    "import pstats\n",
    "\n",
    "from pstats import SortKey\n",
    "\n",
    "import lysis"
   ]
  },
  {
   "cell_type": "code",
   "execution_count": 2,
   "id": "de23677a-e2f2-426f-820d-d552e14a0611",
   "metadata": {},
   "outputs": [],
   "source": [
    "e = lysis.util.Experiment(r'../../data', experiment_code='2022-12-27-1100')\n",
    "p = {'total_time': 1}\n",
    "e.initialize_macro_param(p)\n",
    "macro = lysis.MacroscaleRun(e)"
   ]
  },
  {
   "cell_type": "code",
   "execution_count": 21,
   "id": "7a2a7eae-88d8-4c31-955f-a35bed5376dd",
   "metadata": {},
   "outputs": [],
   "source": []
  },
  {
   "cell_type": "code",
   "execution_count": 18,
   "id": "efa851ad-f91c-4c8d-b9c2-b4f8a723fe07",
   "metadata": {},
   "outputs": [
    {
     "name": "stdout",
     "output_type": "stream",
     "text": [
      "Fri Jan  6 15:02:55 2023    ../../data\\2022-12-27-1100\\macro_pstats.sts\n",
      "\n",
      "         172089038 function calls (172088963 primitive calls) in 284.070 seconds\n",
      "\n",
      "   Ordered by: internal time\n",
      "   List reduced from 458 to 10 due to restriction <'macroscale'>\n",
      "\n",
      "   ncalls  tottime  percall  cumtime  percall filename:lineno(function)\n",
      "        1  119.704  119.704  284.070  284.070 macroscale.py:207(run)\n",
      " 21446753   74.044    0.000   97.690    0.000 macroscale.py:111(move)\n",
      " 21446753   13.912    0.000   14.114    0.000 macroscale.py:140(next)\n",
      " 21446753    9.532    0.000   23.646    0.000 macroscale.py:159(find_binding_time)\n",
      "       22    0.129    0.006    0.202    0.009 macroscale.py:131(fill_list)\n",
      "    10357    0.099    0.000    0.120    0.000 macroscale.py:165(find_unbinding_time)\n",
      "    10357    0.047    0.000    0.075    0.000 macroscale.py:191(find_lysis_time)\n",
      "     2920    0.045    0.000    0.045    0.000 macroscale.py:58(unbind_by_degradation)\n",
      "    10357    0.040    0.000    0.242    0.000 macroscale.py:82(bind)\n",
      "     2920    0.007    0.000    0.033    0.000 macroscale.py:68(unbind_by_time)\n",
      "\n",
      "\n"
     ]
    },
    {
     "data": {
      "text/plain": [
       "<pstats.Stats at 0x2790c812a90>"
      ]
     },
     "execution_count": 18,
     "metadata": {},
     "output_type": "execute_result"
    }
   ],
   "source": [
    "p.strip_dirs().sort_stats(SortKey.TIME).print_stats(\"macroscale\")"
   ]
  },
  {
   "cell_type": "code",
   "execution_count": 20,
   "id": "6bc941a2-7742-48c3-9802-34a30932d6be",
   "metadata": {},
   "outputs": [
    {
     "name": "stdout",
     "output_type": "stream",
     "text": [
      "Fri Jan  6 15:09:54 2023    ../../data\\2022-12-27-1100\\macro_pstats.sts\n",
      "\n",
      "         172104801 function calls (172104726 primitive calls) in 285.175 seconds\n",
      "\n",
      "   Ordered by: internal time\n",
      "   List reduced from 458 to 10 due to restriction <'macroscale'>\n",
      "\n",
      "   ncalls  tottime  percall  cumtime  percall filename:lineno(function)\n",
      "        1  120.093  120.093  285.175  285.175 macroscale.py:210(run)\n",
      " 21446753   73.210    0.000   96.908    0.000 macroscale.py:114(move)\n",
      " 21446753   13.879    0.000   14.078    0.000 macroscale.py:143(next)\n",
      " 21446753    9.620    0.000   23.698    0.000 macroscale.py:162(find_binding_time)\n",
      "       22    0.126    0.006    0.199    0.009 macroscale.py:134(fill_list)\n",
      "    10357    0.097    0.000    0.118    0.000 macroscale.py:168(find_unbinding_time)\n",
      "    10357    0.047    0.000    0.076    0.000 macroscale.py:194(find_lysis_time)\n",
      "    10357    0.040    0.000    0.241    0.000 macroscale.py:85(bind)\n",
      "     2920    0.007    0.000    0.035    0.000 macroscale.py:58(unbind_by_degradation)\n",
      "     2920    0.003    0.000    0.014    0.000 macroscale.py:71(unbind_by_time)\n",
      "\n",
      "\n"
     ]
    },
    {
     "data": {
      "text/plain": [
       "<pstats.Stats at 0x2790cb634d0>"
      ]
     },
     "execution_count": 20,
     "metadata": {},
     "output_type": "execute_result"
    }
   ],
   "source": [
    "p.strip_dirs().sort_stats(SortKey.TIME).print_stats(\"macroscale\")"
   ]
  },
  {
   "cell_type": "code",
   "execution_count": 22,
   "id": "7fce5c05-2958-4a8d-83cc-16b14585cce4",
   "metadata": {},
   "outputs": [
    {
     "name": "stdout",
     "output_type": "stream",
     "text": [
      "Fri Jan  6 15:24:45 2023    ../../data\\2022-12-27-1100\\macro_pstats.sts\n",
      "\n",
      "         65018927 function calls (65018852 primitive calls) in 158.217 seconds\n",
      "\n",
      "   Ordered by: internal time\n",
      "   List reduced from 462 to 10 due to restriction <'macroscale'>\n",
      "\n",
      "   ncalls  tottime  percall  cumtime  percall filename:lineno(function)\n",
      " 21498140   72.501    0.000   95.000    0.000 macroscale.py:114(move)\n",
      "        1   62.085   62.085  158.217  158.217 macroscale.py:210(run)\n",
      " 21498140   13.179    0.000   13.375    0.000 macroscale.py:143(next)\n",
      " 21498140    9.124    0.000   22.499    0.000 macroscale.py:162(find_binding_time)\n",
      "       22    0.124    0.006    0.196    0.009 macroscale.py:134(fill_list)\n",
      "    10251    0.074    0.000    0.090    0.000 macroscale.py:168(find_unbinding_time)\n",
      "    10251    0.041    0.000    0.069    0.000 macroscale.py:194(find_lysis_time)\n",
      "    10251    0.038    0.000    0.225    0.000 macroscale.py:85(bind)\n",
      "     2920    0.006    0.000    0.030    0.000 macroscale.py:58(unbind_by_degradation)\n",
      "     2920    0.002    0.000    0.013    0.000 macroscale.py:71(unbind_by_time)\n",
      "\n",
      "\n"
     ]
    },
    {
     "data": {
      "text/plain": [
       "<pstats.Stats at 0x2790dd01cd0>"
      ]
     },
     "execution_count": 22,
     "metadata": {},
     "output_type": "execute_result"
    }
   ],
   "source": [
    "p = pstats.Stats(os.path.join(e.os_path, \"macro_pstats.sts\"))\n",
    "p.strip_dirs().sort_stats(SortKey.TIME).print_stats(\"macroscale\")"
   ]
  },
  {
   "cell_type": "code",
   "execution_count": 23,
   "id": "c09aafdc-6c44-42db-bda0-4686b880a4b4",
   "metadata": {},
   "outputs": [
    {
     "name": "stdout",
     "output_type": "stream",
     "text": [
      "Fri Jan  6 16:43:52 2023    ../../data\\2022-12-27-1100\\macro_pstats.sts\n",
      "\n",
      "         65086392 function calls (65086317 primitive calls) in 128.612 seconds\n",
      "\n",
      "   Ordered by: internal time\n",
      "   List reduced from 472 to 11 due to restriction <'macroscale'>\n",
      "\n",
      "   ncalls  tottime  percall  cumtime  percall filename:lineno(function)\n",
      " 21506701   71.277    0.000   93.669    0.000 macroscale.py:121(move)\n",
      "        1   33.482   33.482  128.612  128.612 macroscale.py:221(run)\n",
      " 21506918   13.120    0.000   13.317    0.000 macroscale.py:150(next)\n",
      " 21506918    9.076    0.000   22.392    0.000 macroscale.py:169(find_binding_time)\n",
      "     2920    0.231    0.000    0.587    0.000 macroscale.py:84(bind)\n",
      "       22    0.124    0.006    0.196    0.009 macroscale.py:141(fill_list)\n",
      "     2920    0.078    0.000    0.104    0.000 macroscale.py:175(find_unbinding_time)\n",
      "     2920    0.053    0.000    0.096    0.000 macroscale.py:204(find_lysis_time)\n",
      "     2920    0.021    0.000    0.038    0.000 macroscale.py:70(unbind_by_time)\n",
      "     2920    0.011    0.000    0.011    0.000 macroscale.py:100(<listcomp>)\n",
      "     2920    0.007    0.000    0.033    0.000 macroscale.py:58(unbind_by_degradation)\n",
      "\n",
      "\n"
     ]
    },
    {
     "data": {
      "text/plain": [
       "<pstats.Stats at 0x2790a926ad0>"
      ]
     },
     "execution_count": 23,
     "metadata": {},
     "output_type": "execute_result"
    }
   ],
   "source": [
    "p = pstats.Stats(os.path.join(e.os_path, \"macro_pstats.sts\"))\n",
    "p.strip_dirs().sort_stats(SortKey.TIME).print_stats(\"macroscale\")"
   ]
  },
  {
   "cell_type": "code",
   "execution_count": 24,
   "id": "5f51bdf8-f68f-45c6-b79a-72f9468538c7",
   "metadata": {},
   "outputs": [
    {
     "name": "stdout",
     "output_type": "stream",
     "text": [
      "Fri Jan  6 17:26:35 2023    ../../data\\2022-12-27-1100\\macro_pstats.sts\n",
      "\n",
      "         645369 function calls (636534 primitive calls) in 8.819 seconds\n",
      "\n",
      "   Ordered by: internal time\n",
      "   List reduced from 495 to 11 due to restriction <'macroscale'>\n",
      "\n",
      "   ncalls  tottime  percall  cumtime  percall filename:lineno(function)\n",
      "     2920    6.150    0.002    6.503    0.002 macroscale.py:121(move)\n",
      "        1    1.062    1.062    8.819    8.819 macroscale.py:233(run)\n",
      "     2920    0.230    0.000    0.720    0.000 macroscale.py:84(bind)\n",
      "       22    0.123    0.006    0.198    0.009 macroscale.py:153(fill_list)\n",
      "     2920    0.068    0.000    0.088    0.000 macroscale.py:187(find_unbinding_time)\n",
      "     2920    0.048    0.000    0.090    0.000 macroscale.py:216(find_lysis_time)\n",
      "     3137    0.019    0.000    0.229    0.000 macroscale.py:181(find_binding_time)\n",
      "     2920    0.019    0.000    0.033    0.000 macroscale.py:70(unbind_by_time)\n",
      "     2920    0.013    0.000    0.074    0.000 macroscale.py:108(move_to_empty_edge)\n",
      "     3137    0.009    0.000    0.209    0.000 macroscale.py:161(next)\n",
      "     2920    0.003    0.000    0.015    0.000 macroscale.py:58(unbind_by_degradation)\n",
      "\n",
      "\n"
     ]
    },
    {
     "data": {
      "text/plain": [
       "<pstats.Stats at 0x2790dd015d0>"
      ]
     },
     "execution_count": 24,
     "metadata": {},
     "output_type": "execute_result"
    }
   ],
   "source": [
    "p = pstats.Stats(os.path.join(e.os_path, \"macro_pstats.sts\"))\n",
    "p.strip_dirs().sort_stats(SortKey.TIME).print_stats(\"macroscale\")"
   ]
  },
  {
   "cell_type": "code",
   "execution_count": 25,
   "id": "28a991fd-9d4d-4802-aa75-ce92a63862ae",
   "metadata": {},
   "outputs": [
    {
     "name": "stdout",
     "output_type": "stream",
     "text": [
      "Fri Jan  6 17:30:37 2023    ../../data\\2022-12-27-1100\\macro_pstats.sts\n",
      "\n",
      "         370146 function calls (370071 primitive calls) in 8.431 seconds\n",
      "\n",
      "   Ordered by: internal time\n",
      "   List reduced from 463 to 11 due to restriction <'macroscale'>\n",
      "\n",
      "   ncalls  tottime  percall  cumtime  percall filename:lineno(function)\n",
      "     2920    6.170    0.002    6.514    0.002 macroscale.py:121(move)\n",
      "        1    1.038    1.038    8.430    8.430 macroscale.py:233(run)\n",
      "     2920    0.152    0.000    0.358    0.000 macroscale.py:84(bind)\n",
      "       22    0.125    0.006    0.198    0.009 macroscale.py:153(fill_list)\n",
      "     2920    0.068    0.000    0.088    0.000 macroscale.py:187(find_unbinding_time)\n",
      "     2920    0.048    0.000    0.089    0.000 macroscale.py:216(find_lysis_time)\n",
      "     3137    0.019    0.000    0.228    0.000 macroscale.py:181(find_binding_time)\n",
      "     2920    0.019    0.000    0.033    0.000 macroscale.py:70(unbind_by_time)\n",
      "     2920    0.012    0.000    0.070    0.000 macroscale.py:108(move_to_empty_edge)\n",
      "     3137    0.009    0.000    0.209    0.000 macroscale.py:161(next)\n",
      "     2920    0.003    0.000    0.015    0.000 macroscale.py:58(unbind_by_degradation)\n",
      "\n",
      "\n"
     ]
    },
    {
     "data": {
      "text/plain": [
       "<pstats.Stats at 0x2790cb68690>"
      ]
     },
     "execution_count": 25,
     "metadata": {},
     "output_type": "execute_result"
    }
   ],
   "source": [
    "p = pstats.Stats(os.path.join(e.os_path, \"macro_pstats.sts\"))\n",
    "p.strip_dirs().sort_stats(SortKey.TIME).print_stats(\"macroscale\")"
   ]
  },
  {
   "cell_type": "code",
   "execution_count": 26,
   "id": "512a457f-f8c8-4121-9bb3-0052823d68a4",
   "metadata": {},
   "outputs": [
    {
     "name": "stdout",
     "output_type": "stream",
     "text": [
      "Fri Jan  6 18:44:01 2023    ../../data\\2022-12-27-1100\\macro_pstats.sts\n",
      "\n",
      "         333014317 function calls (327757144 primitive calls) in 4335.230 seconds\n",
      "\n",
      "   Ordered by: internal time\n",
      "   List reduced from 496 to 12 due to restriction <'macroscale'>\n",
      "\n",
      "   ncalls  tottime  percall  cumtime  percall filename:lineno(function)\n",
      "  1752366 2917.644    0.002 3099.429    0.002 macroscale.py:121(move)\n",
      "        1  662.059  662.059 4335.230 4335.230 macroscale.py:233(run)\n",
      "  1752366   85.791    0.000  301.315    0.000 macroscale.py:84(bind)\n",
      "     9902   56.302    0.006   89.330    0.009 macroscale.py:153(fill_list)\n",
      "  1752366   22.975    0.000   34.257    0.000 macroscale.py:70(unbind_by_time)\n",
      "  2035845   10.539    0.000  106.874    0.000 macroscale.py:181(find_binding_time)\n",
      "  1752366    8.643    0.000   44.813    0.000 macroscale.py:108(move_to_empty_edge)\n",
      "  1752366    8.499    0.000   12.309    0.000 macroscale.py:187(find_unbinding_time)\n",
      "  1752366    7.240    0.000   18.516    0.000 macroscale.py:216(find_lysis_time)\n",
      "  2035845    5.658    0.000   96.335    0.000 macroscale.py:161(next)\n",
      "  1752366    2.252    0.000    9.703    0.000 macroscale.py:58(unbind_by_degradation)\n",
      "    38429    0.386    0.000    0.386    0.000 macroscale.py:110(<listcomp>)\n",
      "\n",
      "\n"
     ]
    },
    {
     "data": {
      "text/plain": [
       "<pstats.Stats at 0x2790dddc810>"
      ]
     },
     "execution_count": 26,
     "metadata": {},
     "output_type": "execute_result"
    }
   ],
   "source": [
    "p = pstats.Stats(os.path.join(e.os_path, \"macro_pstats.sts\"))\n",
    "p.strip_dirs().sort_stats(SortKey.TIME).print_stats(\"macroscale\")"
   ]
  },
  {
   "cell_type": "code",
   "execution_count": 38,
   "id": "ab84b586-8109-47ac-8fd5-003b1660dd37",
   "metadata": {},
   "outputs": [
    {
     "name": "stdout",
     "output_type": "stream",
     "text": [
      "Fri Jan  6 20:49:29 2023    ../../data\\2022-12-27-1100\\macro_pstats.sts\n",
      "\n",
      "         330606248 function calls (325349075 primitive calls) in 4011.079 seconds\n",
      "\n",
      "   Ordered by: internal time\n",
      "   List reduced from 498 to 12 due to restriction <'macroscale'>\n",
      "\n",
      "   ncalls  tottime  percall  cumtime  percall filename:lineno(function)\n",
      "  1752366 2536.366    0.001 2725.481    0.002 macroscale.py:123(move)\n",
      "        1  686.464  686.464 4011.079 4011.079 macroscale.py:239(run)\n",
      "  1752366   88.539    0.000  314.815    0.000 macroscale.py:85(bind)\n",
      "     9902   57.381    0.006   90.515    0.009 macroscale.py:159(fill_list)\n",
      "  1752366   23.597    0.000   35.265    0.000 macroscale.py:71(unbind_by_time)\n",
      "  2035845   11.540    0.000  109.296    0.000 macroscale.py:187(find_binding_time)\n",
      "  1752366    9.021    0.000   13.247    0.000 macroscale.py:193(find_unbinding_time)\n",
      "  1752366    8.930    0.000   46.280    0.000 macroscale.py:109(move_to_empty_edge)\n",
      "  1752366    7.530    0.000   19.075    0.000 macroscale.py:222(find_lysis_time)\n",
      "  2035845    5.661    0.000   97.756    0.000 macroscale.py:167(next)\n",
      "  1752366    2.385    0.000   10.181    0.000 macroscale.py:59(unbind_by_degradation)\n",
      "    38429    0.390    0.000    0.390    0.000 macroscale.py:111(<listcomp>)\n",
      "\n",
      "\n"
     ]
    },
    {
     "data": {
      "text/plain": [
       "<pstats.Stats at 0x2790e1c8390>"
      ]
     },
     "execution_count": 38,
     "metadata": {},
     "output_type": "execute_result"
    }
   ],
   "source": [
    "p = pstats.Stats(os.path.join(e.os_path, \"macro_pstats.sts\"))\n",
    "p.strip_dirs().sort_stats(SortKey.TIME).print_stats(\"macroscale\")"
   ]
  },
  {
   "cell_type": "code",
   "execution_count": 27,
   "id": "ffb882ff-4ad8-4736-b28b-cfbf2e763ac2",
   "metadata": {},
   "outputs": [
    {
     "name": "stdout",
     "output_type": "stream",
     "text": [
      "Fri Jan  6 19:14:16 2023    ../../data\\2022-12-27-1100\\macro_pstats.sts\n",
      "\n",
      "         645570 function calls (636735 primitive calls) in 8.949 seconds\n",
      "\n",
      "   Ordered by: internal time\n",
      "   List reduced from 495 to 11 due to restriction <'macroscale'>\n",
      "\n",
      "   ncalls  tottime  percall  cumtime  percall filename:lineno(function)\n",
      "     2920    6.245    0.002    6.603    0.002 macroscale.py:121(move)\n",
      "        1    1.067    1.067    8.949    8.949 macroscale.py:233(run)\n",
      "     2920    0.233    0.000    0.740    0.000 macroscale.py:84(bind)\n",
      "       22    0.126    0.006    0.199    0.009 macroscale.py:153(fill_list)\n",
      "     2920    0.070    0.000    0.091    0.000 macroscale.py:187(find_unbinding_time)\n",
      "     2920    0.049    0.000    0.092    0.000 macroscale.py:216(find_lysis_time)\n",
      "     3137    0.020    0.000    0.231    0.000 macroscale.py:181(find_binding_time)\n",
      "     2920    0.019    0.000    0.033    0.000 macroscale.py:70(unbind_by_time)\n",
      "     2920    0.014    0.000    0.074    0.000 macroscale.py:108(move_to_empty_edge)\n",
      "     3137    0.010    0.000    0.211    0.000 macroscale.py:161(next)\n",
      "     2920    0.003    0.000    0.016    0.000 macroscale.py:58(unbind_by_degradation)\n",
      "\n",
      "\n"
     ]
    },
    {
     "data": {
      "text/plain": [
       "<pstats.Stats at 0x2790de2f210>"
      ]
     },
     "execution_count": 27,
     "metadata": {},
     "output_type": "execute_result"
    }
   ],
   "source": [
    "p = pstats.Stats(os.path.join(e.os_path, \"macro_pstats.sts\"))\n",
    "p.strip_dirs().sort_stats(SortKey.TIME).print_stats(\"macroscale\")"
   ]
  },
  {
   "cell_type": "code",
   "execution_count": 30,
   "id": "7d35dafd-df62-4c82-b54e-c68f294e0802",
   "metadata": {},
   "outputs": [
    {
     "name": "stdout",
     "output_type": "stream",
     "text": [
      "Fri Jan  6 19:22:15 2023    ../../data\\2022-12-27-1100\\macro_pstats.sts\n",
      "\n",
      "         658292 function calls (649457 primitive calls) in 7.936 seconds\n",
      "\n",
      "   Ordered by: internal time\n",
      "   List reduced from 495 to 11 due to restriction <'macroscale'>\n",
      "\n",
      "   ncalls  tottime  percall  cumtime  percall filename:lineno(function)\n",
      "     2920    5.234    0.002    5.603    0.002 macroscale.py:121(move)\n",
      "        1    1.061    1.061    7.936    7.936 macroscale.py:234(run)\n",
      "     2920    0.233    0.000    0.739    0.000 macroscale.py:84(bind)\n",
      "       22    0.127    0.006    0.201    0.009 macroscale.py:154(fill_list)\n",
      "     2920    0.070    0.000    0.091    0.000 macroscale.py:188(find_unbinding_time)\n",
      "     2920    0.050    0.000    0.093    0.000 macroscale.py:217(find_lysis_time)\n",
      "     3137    0.020    0.000    0.232    0.000 macroscale.py:182(find_binding_time)\n",
      "     2920    0.019    0.000    0.033    0.000 macroscale.py:70(unbind_by_time)\n",
      "     2920    0.014    0.000    0.074    0.000 macroscale.py:108(move_to_empty_edge)\n",
      "     3137    0.009    0.000    0.213    0.000 macroscale.py:162(next)\n",
      "     2920    0.003    0.000    0.016    0.000 macroscale.py:58(unbind_by_degradation)\n",
      "\n",
      "\n"
     ]
    },
    {
     "data": {
      "text/plain": [
       "<pstats.Stats at 0x2790cb8ccd0>"
      ]
     },
     "execution_count": 30,
     "metadata": {},
     "output_type": "execute_result"
    }
   ],
   "source": [
    "p = pstats.Stats(os.path.join(e.os_path, \"macro_pstats.sts\"))\n",
    "p.strip_dirs().sort_stats(SortKey.TIME).print_stats(\"macroscale\")"
   ]
  },
  {
   "cell_type": "code",
   "execution_count": 31,
   "id": "82881421-f381-4d55-a1c6-576942b717d8",
   "metadata": {},
   "outputs": [
    {
     "name": "stdout",
     "output_type": "stream",
     "text": [
      "Fri Jan  6 19:23:00 2023    ../../data\\2022-12-27-1100\\macro_pstats.sts\n",
      "\n",
      "         658471 function calls (649636 primitive calls) in 8.045 seconds\n",
      "\n",
      "   Ordered by: internal time\n",
      "   List reduced from 495 to 11 due to restriction <'macroscale'>\n",
      "\n",
      "   ncalls  tottime  percall  cumtime  percall filename:lineno(function)\n",
      "     2920    5.305    0.002    5.677    0.002 macroscale.py:121(move)\n",
      "        1    1.072    1.072    8.044    8.044 macroscale.py:234(run)\n",
      "     2920    0.235    0.000    0.751    0.000 macroscale.py:84(bind)\n",
      "       22    0.126    0.006    0.199    0.009 macroscale.py:154(fill_list)\n",
      "     2920    0.071    0.000    0.092    0.000 macroscale.py:188(find_unbinding_time)\n",
      "     2920    0.050    0.000    0.094    0.000 macroscale.py:217(find_lysis_time)\n",
      "     3137    0.021    0.000    0.232    0.000 macroscale.py:182(find_binding_time)\n",
      "     2920    0.019    0.000    0.034    0.000 macroscale.py:70(unbind_by_time)\n",
      "     2920    0.014    0.000    0.076    0.000 macroscale.py:108(move_to_empty_edge)\n",
      "     3137    0.010    0.000    0.211    0.000 macroscale.py:162(next)\n",
      "     2920    0.003    0.000    0.016    0.000 macroscale.py:58(unbind_by_degradation)\n",
      "\n",
      "\n"
     ]
    },
    {
     "data": {
      "text/plain": [
       "<pstats.Stats at 0x2790daa0910>"
      ]
     },
     "execution_count": 31,
     "metadata": {},
     "output_type": "execute_result"
    }
   ],
   "source": [
    "p = pstats.Stats(os.path.join(e.os_path, \"macro_pstats.sts\"))\n",
    "p.strip_dirs().sort_stats(SortKey.TIME).print_stats(\"macroscale\")"
   ]
  },
  {
   "cell_type": "code",
   "execution_count": 32,
   "id": "5a98ecb6-48e3-45ce-8560-3befb55aa295",
   "metadata": {},
   "outputs": [
    {
     "name": "stdout",
     "output_type": "stream",
     "text": [
      "Fri Jan  6 19:29:16 2023    ../../data\\2022-12-27-1100\\macro_pstats.sts\n",
      "\n",
      "         643686 function calls (634851 primitive calls) in 7.909 seconds\n",
      "\n",
      "   Ordered by: internal time\n",
      "   List reduced from 496 to 11 due to restriction <'macroscale'>\n",
      "\n",
      "   ncalls  tottime  percall  cumtime  percall filename:lineno(function)\n",
      "     2920    5.214    0.002    5.586    0.002 macroscale.py:121(move)\n",
      "        1    1.058    1.058    7.909    7.909 macroscale.py:235(run)\n",
      "     2920    0.233    0.000    0.735    0.000 macroscale.py:84(bind)\n",
      "       22    0.125    0.006    0.199    0.009 macroscale.py:155(fill_list)\n",
      "     2920    0.070    0.000    0.090    0.000 macroscale.py:189(find_unbinding_time)\n",
      "     2920    0.049    0.000    0.092    0.000 macroscale.py:218(find_lysis_time)\n",
      "     3137    0.020    0.000    0.231    0.000 macroscale.py:183(find_binding_time)\n",
      "     2920    0.019    0.000    0.033    0.000 macroscale.py:70(unbind_by_time)\n",
      "     2920    0.014    0.000    0.075    0.000 macroscale.py:108(move_to_empty_edge)\n",
      "     3137    0.009    0.000    0.210    0.000 macroscale.py:163(next)\n",
      "     2920    0.003    0.000    0.015    0.000 macroscale.py:58(unbind_by_degradation)\n",
      "\n",
      "\n"
     ]
    },
    {
     "data": {
      "text/plain": [
       "<pstats.Stats at 0x2790e0e80d0>"
      ]
     },
     "execution_count": 32,
     "metadata": {},
     "output_type": "execute_result"
    }
   ],
   "source": [
    "p = pstats.Stats(os.path.join(e.os_path, \"macro_pstats.sts\"))\n",
    "p.strip_dirs().sort_stats(SortKey.TIME).print_stats(\"macroscale\")"
   ]
  },
  {
   "cell_type": "code",
   "execution_count": 37,
   "id": "7b381390-6623-4acd-9211-1994bb86c183",
   "metadata": {},
   "outputs": [
    {
     "name": "stdout",
     "output_type": "stream",
     "text": [
      "Fri Jan  6 19:41:59 2023    ../../data\\2022-12-27-1100\\macro_pstats.sts\n",
      "\n",
      "         640767 function calls (631932 primitive calls) in 7.916 seconds\n",
      "\n",
      "   Ordered by: internal time\n",
      "   List reduced from 497 to 11 due to restriction <'macroscale'>\n",
      "\n",
      "   ncalls  tottime  percall  cumtime  percall filename:lineno(function)\n",
      "     2920    5.215    0.002    5.578    0.002 macroscale.py:123(move)\n",
      "        1    1.065    1.065    7.915    7.915 macroscale.py:239(run)\n",
      "     2920    0.232    0.000    0.735    0.000 macroscale.py:85(bind)\n",
      "       22    0.125    0.006    0.198    0.009 macroscale.py:159(fill_list)\n",
      "     2920    0.069    0.000    0.090    0.000 macroscale.py:193(find_unbinding_time)\n",
      "     2920    0.049    0.000    0.092    0.000 macroscale.py:222(find_lysis_time)\n",
      "     3137    0.020    0.000    0.230    0.000 macroscale.py:187(find_binding_time)\n",
      "     2920    0.019    0.000    0.034    0.000 macroscale.py:71(unbind_by_time)\n",
      "     2920    0.014    0.000    0.075    0.000 macroscale.py:109(move_to_empty_edge)\n",
      "     3137    0.009    0.000    0.210    0.000 macroscale.py:167(next)\n",
      "     2920    0.003    0.000    0.016    0.000 macroscale.py:59(unbind_by_degradation)\n",
      "\n",
      "\n"
     ]
    },
    {
     "data": {
      "text/plain": [
       "<pstats.Stats at 0x2790e302210>"
      ]
     },
     "execution_count": 37,
     "metadata": {},
     "output_type": "execute_result"
    }
   ],
   "source": [
    "p = pstats.Stats(os.path.join(e.os_path, \"macro_pstats.sts\"))\n",
    "p.strip_dirs().sort_stats(SortKey.TIME).print_stats(\"macroscale\")"
   ]
  },
  {
   "cell_type": "code",
   "execution_count": null,
   "id": "acafa4d0-0dc3-4d9b-a822-03cfe99c0884",
   "metadata": {},
   "outputs": [],
   "source": []
  }
 ],
 "metadata": {
  "kernelspec": {
   "display_name": "Python 3 (ipykernel)",
   "language": "python",
   "name": "python3"
  },
  "language_info": {
   "codemirror_mode": {
    "name": "ipython",
    "version": 3
   },
   "file_extension": ".py",
   "mimetype": "text/x-python",
   "name": "python",
   "nbconvert_exporter": "python",
   "pygments_lexer": "ipython3",
   "version": "3.11.0"
  }
 },
 "nbformat": 4,
 "nbformat_minor": 5
}
