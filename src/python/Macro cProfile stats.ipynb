{
 "cells": [
  {
   "cell_type": "code",
   "execution_count": 1,
   "id": "d08a4b7f-1a78-4d35-9bde-829212a01ea5",
   "metadata": {},
   "outputs": [],
   "source": [
    "import glob\n",
    "import io\n",
    "import os\n",
    "import pstats\n",
    "\n",
    "from pstats import SortKey\n",
    "from datetime import datetime\n",
    "\n",
    "import lysis"
   ]
  },
  {
   "cell_type": "code",
   "execution_count": 8,
   "id": "de23677a-e2f2-426f-820d-d552e14a0611",
   "metadata": {},
   "outputs": [],
   "source": [
    "e = lysis.util.Experiment(r'../../data', experiment_code='2023-01-31-1301')\n",
    "#p = {'total_time': 1}\n",
    "#e.initialize_macro_param(p)\n",
    "e.read_file()\n",
    "#macro = lysis.MacroscaleRun(e)"
   ]
  },
  {
   "cell_type": "code",
   "execution_count": 7,
   "id": "b2e9140b-7cdd-47da-b0d1-51d29cf17c9b",
   "metadata": {},
   "outputs": [
    {
     "name": "stdout",
     "output_type": "stream",
     "text": [
      "Mon Feb  6 10:37:48 2023    ../../data/2023-01-31-1300/macro_pstats/macro_pstats_2023-02-01-014145.sts\n",
      "\n",
      "         427386569 function calls (423961883 primitive calls) in 456507.575 seconds\n",
      "\n",
      "   Ordered by: internal time\n",
      "   List reduced from 518 to 20 due to restriction <20>\n",
      "\n",
      "   ncalls  tottime  percall  cumtime  percall filename:lineno(function)\n",
      " 28037864 447975.616    0.016 448002.910    0.016 kiss.py:144(random)\n",
      "  3504733 2297.545    0.001 3097.156    0.001 np_macroscale.py:423(unrestricted_move)\n",
      "        1 2228.743 2228.743 456507.575 456507.575 np_macroscale.py:494(run)\n",
      "  3504733 1321.287    0.000 2476.884    0.001 np_macroscale.py:391(move_to_empty_edge)\n",
      "  3903679  745.988    0.000  745.988    0.000 np_macroscale.py:210(fill_list)\n",
      "  2563129  329.870    0.000  404.979    0.000 shape_base.py:56(take_along_axis)\n",
      "  2563139  234.394    0.000  234.394    0.000 {method 'reduce' of 'numpy.ufunc' objects}\n",
      "  2563129  223.936    0.000  223.936    0.000 {method 'argsort' of 'numpy.ndarray' objects}\n",
      "  3504733  214.286    0.000 5917.678    0.002 np_macroscale.py:462(move)\n",
      "43244965/39820323  186.509    0.000 1225.878    0.000 {built-in method numpy.core._multiarray_umath.implement_array_function}\n",
      "  3504733  104.800    0.000  104.800    0.000 np_macroscale.py:420(find_still_stuck)\n",
      " 24965359   86.945    0.000   86.945    0.000 {built-in method numpy.core._multiarray_umath.count_nonzero}\n",
      "  3504733   50.312    0.000   88.475    0.000 np_macroscale.py:274(unbind_by_time)\n",
      "  3504733   49.781    0.000  143.707    0.000 np_macroscale.py:370(bind)\n",
      " 35283515   38.916    0.000   38.916    0.000 {built-in method numpy.empty}\n",
      " 27528488   36.136    0.000  440.497    0.000 <__array_function__ internals>:177(count_nonzero)\n",
      "  2563129   34.113    0.000   73.384    0.000 shape_base.py:29(_make_along_axis_idx)\n",
      "   745595   33.232    0.000   47.680    0.000 np_macroscale.py:342(find_lysis_time)\n",
      "  9376586   32.165    0.000   32.165    0.000 {method 'astype' of 'numpy.ndarray' objects}\n",
      " 27528488   28.553    0.000  373.277    0.000 numeric.py:432(count_nonzero)\n",
      "\n",
      "\n"
     ]
    },
    {
     "data": {
      "text/plain": [
       "<pstats.Stats at 0x7f2f6ae536d0>"
      ]
     },
     "execution_count": 7,
     "metadata": {},
     "output_type": "execute_result"
    }
   ],
   "source": [
    "p = pstats.Stats(os.path.join(e.os_path, \"macro_pstats\", \"macro_pstats_2023-02-01-014145.sts\"))\n",
    "p.strip_dirs().sort_stats(SortKey.TIME).print_stats(20)#\"macroscale\")"
   ]
  },
  {
   "cell_type": "code",
   "execution_count": 10,
   "id": "b1256941-dae2-433b-830b-6cf239274077",
   "metadata": {},
   "outputs": [
    {
     "name": "stdout",
     "output_type": "stream",
     "text": [
      "Sun Feb 12 11:27:10 2023    ../../data/2023-01-31-1301/macro_pstats/macro_pstats_2023-02-12-112434.sts\n",
      "\n",
      "         1724070 function calls (1710311 primitive calls) in 152.423 seconds\n",
      "\n",
      "   Ordered by: internal time\n",
      "   List reduced from 438 to 20 due to restriction <20>\n",
      "\n",
      "   ncalls  tottime  percall  cumtime  percall filename:lineno(function)\n",
      "   102476  127.039    0.001  128.406    0.001 kiss.py:144(random)\n",
      "    12809   10.003    0.001   13.529    0.001 np_macroscale.py:423(unrestricted_move)\n",
      "        1    6.857    6.857  152.423  152.423 np_macroscale.py:494(run)\n",
      "    14746    3.322    0.000    3.322    0.000 np_macroscale.py:210(fill_list)\n",
      "    12809    0.751    0.000   14.850    0.001 np_macroscale.py:462(move)\n",
      "    12809    0.635    0.000    1.692    0.000 np_macroscale.py:370(bind)\n",
      "   102476    0.584    0.000    0.789    0.000 ctypeslib.py:184(from_param)\n",
      "    10497    0.473    0.000    0.702    0.000 np_macroscale.py:342(find_lysis_time)\n",
      "    12809    0.365    0.000    0.365    0.000 np_macroscale.py:420(find_still_stuck)\n",
      "    91763    0.328    0.000    0.328    0.000 {built-in method numpy.core._multiarray_umath.count_nonzero}\n",
      "   102476    0.300    0.000    0.300    0.000 __init__.py:509(cast)\n",
      "    12809    0.230    0.000    0.391    0.000 np_macroscale.py:274(unbind_by_time)\n",
      "   102476    0.188    0.000    0.188    0.000 _internal.py:249(__init__)\n",
      "   127884    0.175    0.000    0.175    0.000 {built-in method numpy.empty}\n",
      "131794/118079    0.159    0.000    0.694    0.000 {built-in method numpy.core._multiarray_umath.implement_array_function}\n",
      "    91763    0.133    0.000    0.633    0.000 <__array_function__ internals>:177(count_nonzero)\n",
      "    10497    0.113    0.000    0.270    0.000 np_macroscale.py:317(find_unbinding_time)\n",
      "    23306    0.102    0.000    0.102    0.000 {method 'astype' of 'numpy.ndarray' objects}\n",
      "   102476    0.085    0.000    0.385    0.000 _internal.py:266(data_as)\n",
      "    91763    0.066    0.000    0.393    0.000 numeric.py:432(count_nonzero)\n",
      "\n",
      "\n"
     ]
    },
    {
     "data": {
      "text/plain": [
       "<pstats.Stats at 0x7f2f6ae535b0>"
      ]
     },
     "execution_count": 10,
     "metadata": {},
     "output_type": "execute_result"
    }
   ],
   "source": [
    "p = pstats.Stats(os.path.join(e.os_path, \"macro_pstats\", \"macro_pstats_2023-02-12-112434.sts\"))\n",
    "p.strip_dirs().sort_stats(SortKey.TIME).print_stats(20)"
   ]
  },
  {
   "cell_type": "code",
   "execution_count": 5,
   "id": "01679bb5-2889-464e-bb7e-70d067d69605",
   "metadata": {},
   "outputs": [
    {
     "name": "stdout",
     "output_type": "stream",
     "text": [
      "Wed Jan 18 20:49:50 2023    ../../data\\2022-12-27-1100\\macro_pstats\\macro_pstats_2023-01-18-203745.sts\n",
      "\n",
      "         76735356 function calls (75938761 primitive calls) in 723.676 seconds\n",
      "\n",
      "   Ordered by: internal time\n",
      "   List reduced from 497 to 14 due to restriction <'macroscale'>\n",
      "\n",
      "   ncalls  tottime  percall  cumtime  percall filename:lineno(function)\n",
      "   584122  191.701    0.000  403.049    0.001 np_macroscale.py:306(move_to_empty_edge)\n",
      "        1   83.126   83.126  723.676  723.676 np_macroscale.py:385(run)\n",
      "   584122   60.778    0.000   85.697    0.000 np_macroscale.py:336(unrestricted_move)\n",
      "   584122   17.595    0.000  516.564    0.001 np_macroscale.py:357(move)\n",
      "   584122    7.933    0.000    7.933    0.000 np_macroscale.py:333(find_still_stuck)\n",
      "   584122    7.929    0.000   20.465    0.000 np_macroscale.py:284(bind)\n",
      "   584122    4.650    0.000    8.170    0.000 np_macroscale.py:205(unbind_by_time)\n",
      "   215512    4.453    0.000    6.810    0.000 np_macroscale.py:259(find_lysis_time)\n",
      "   688555    1.775    0.000    3.256    0.000 np_macroscale.py:170(next)\n",
      "   215512    1.327    0.000    3.395    0.000 np_macroscale.py:234(find_unbinding_time)\n",
      "       98    0.633    0.006    1.060    0.011 np_macroscale.py:143(fill_list)\n",
      "   584122    0.603    0.000    2.863    0.000 np_macroscale.py:191(unbind_by_degradation)\n",
      "       21    0.002    0.000    0.007    0.000 np_macroscale.py:374(save_data)\n",
      "        1    0.000    0.000    0.138    0.138 np_macroscale.py:381(record_data_to_disk)\n",
      "\n",
      "\n"
     ]
    },
    {
     "data": {
      "text/plain": [
       "<pstats.Stats at 0x2bbed2219d0>"
      ]
     },
     "execution_count": 5,
     "metadata": {},
     "output_type": "execute_result"
    }
   ],
   "source": [
    "p = pstats.Stats(os.path.join(e.os_path, \"macro_pstats\", \"macro_pstats_2023-01-18-203745.sts\"))\n",
    "p.strip_dirs().sort_stats(SortKey.TIME).print_stats(\"macroscale\")"
   ]
  },
  {
   "cell_type": "code",
   "execution_count": null,
   "id": "b59d2f48-5e99-4429-ac9f-d0fa747f29f6",
   "metadata": {},
   "outputs": [],
   "source": []
  }
 ],
 "metadata": {
  "kernelspec": {
   "display_name": "Python 3 (ipykernel)",
   "language": "python",
   "name": "python3"
  },
  "language_info": {
   "codemirror_mode": {
    "name": "ipython",
    "version": 3
   },
   "file_extension": ".py",
   "mimetype": "text/x-python",
   "name": "python",
   "nbconvert_exporter": "python",
   "pygments_lexer": "ipython3",
   "version": "3.10.8"
  }
 },
 "nbformat": 4,
 "nbformat_minor": 5
}
