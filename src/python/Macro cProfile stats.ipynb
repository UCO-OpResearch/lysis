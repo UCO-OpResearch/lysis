{
 "cells": [
  {
   "cell_type": "code",
   "execution_count": 54,
   "id": "d08a4b7f-1a78-4d35-9bde-829212a01ea5",
   "metadata": {},
   "outputs": [],
   "source": [
    "import glob\n",
    "import io\n",
    "import os\n",
    "import pstats\n",
    "\n",
    "from pstats import SortKey\n",
    "from datetime import datetime\n",
    "\n",
    "import lysis"
   ]
  },
  {
   "cell_type": "code",
   "execution_count": 2,
   "id": "de23677a-e2f2-426f-820d-d552e14a0611",
   "metadata": {},
   "outputs": [],
   "source": [
    "e = lysis.util.Experiment(r'../../data', experiment_code='2022-12-27-1100')\n",
    "p = {'total_time': 1}\n",
    "e.initialize_macro_param(p)\n",
    "macro = lysis.MacroscaleRun(e)"
   ]
  },
  {
   "cell_type": "code",
   "execution_count": 3,
   "id": "d00a8d14-3c9d-4f85-9001-21f867911acd",
   "metadata": {},
   "outputs": [
    {
     "name": "stdout",
     "output_type": "stream",
     "text": [
      "Sat Jan 14 19:42:08 2023    ../../data\\2022-12-27-1100\\macro_pstats\\macro_pstats_253.sts\n",
      "\n",
      "         519344720 function calls (515845393 primitive calls) in 4389.885 seconds\n",
      "\n",
      "   Ordered by: internal time\n",
      "   List reduced from 464 to 14 due to restriction <'macroscale'>\n",
      "\n",
      "   ncalls  tottime  percall  cumtime  percall filename:lineno(function)\n",
      "        1  946.817  946.817 4389.885 4389.885 np_macroscale.py:373(run)\n",
      "  3504733  789.831    0.000 1862.137    0.001 np_macroscale.py:217(move_to_empty_edge2)\n",
      "  3504733  623.139    0.000  775.426    0.000 np_macroscale.py:257(actual_move)\n",
      "  2591626  260.876    0.000  260.876    0.000 np_macroscale.py:130(get_neighbors)\n",
      "  3504733   67.068    0.000   79.889    0.000 np_macroscale.py:271(find_reached_rear)\n",
      "  3504733   58.333    0.000  125.331    0.000 np_macroscale.py:104(bind)\n",
      "  3504733   40.500    0.000   40.500    0.000 np_macroscale.py:243(find_still_stuck)\n",
      "  3504733   28.860    0.000 2786.812    0.001 np_macroscale.py:288(move)\n",
      "  3504733   22.350    0.000   40.971    0.000 np_macroscale.py:87(unbind_by_time)\n",
      "   784426   15.378    0.000   23.413    0.000 np_macroscale.py:358(find_lysis_time)\n",
      "  2775071    6.530    0.000   10.243    0.000 np_macroscale.py:316(next)\n",
      "   784426    4.531    0.000   11.657    0.000 np_macroscale.py:336(find_unbinding_time)\n",
      "  3504733    3.547    0.000   16.523    0.000 np_macroscale.py:75(unbind_by_degradation)\n",
      "      243    1.384    0.006    2.183    0.009 np_macroscale.py:308(fill_list)\n",
      "\n",
      "\n"
     ]
    },
    {
     "data": {
      "text/plain": [
       "<pstats.Stats at 0x24bf0ec2910>"
      ]
     },
     "execution_count": 3,
     "metadata": {},
     "output_type": "execute_result"
    }
   ],
   "source": [
    "p = pstats.Stats(os.path.join(e.os_path, \"macro_pstats\", \"macro_pstats_253.sts\"))\n",
    "p.strip_dirs().sort_stats(SortKey.TIME).print_stats(\"macroscale\")"
   ]
  },
  {
   "cell_type": "code",
   "execution_count": 4,
   "id": "c4c3ea29-60e4-43d6-858b-41f2d7d934d2",
   "metadata": {},
   "outputs": [
    {
     "name": "stdout",
     "output_type": "stream",
     "text": [
      "Sun Jan 15 10:15:58 2023    ../../data\\2022-12-27-1100\\macro_pstats\\macro_pstats_254.sts\n",
      "\n",
      "         511755277 function calls (508255955 primitive calls) in 7012.721 seconds\n",
      "\n",
      "   Ordered by: internal time\n",
      "   List reduced from 469 to 14 due to restriction <'macroscale'>\n",
      "\n",
      "   ncalls  tottime  percall  cumtime  percall filename:lineno(function)\n",
      "        1 1700.453 1700.453 7012.721 7012.721 np_macroscale.py:373(run)\n",
      "  3504733 1162.132    0.000 2788.348    0.001 np_macroscale.py:217(move_to_empty_edge2)\n",
      "  3504733  967.338    0.000 1217.435    0.000 np_macroscale.py:257(actual_move)\n",
      "  2591626  400.520    0.000  400.520    0.000 np_macroscale.py:130(get_neighbors)\n",
      "  3504733  137.514    0.000  156.753    0.000 np_macroscale.py:271(find_reached_rear)\n",
      "  3504733   96.455    0.000   96.455    0.000 np_macroscale.py:243(find_still_stuck)\n",
      "  3504733   89.582    0.000  191.333    0.000 np_macroscale.py:104(bind)\n",
      "  3504733   50.573    0.000 4309.565    0.001 np_macroscale.py:288(move)\n",
      "  3504733   36.657    0.000   65.740    0.000 np_macroscale.py:87(unbind_by_time)\n",
      "   784426   22.298    0.000   35.413    0.000 np_macroscale.py:358(find_lysis_time)\n",
      "      243    9.672    0.040   10.780    0.044 np_macroscale.py:308(fill_list)\n",
      "  2775071    9.279    0.000   22.955    0.000 np_macroscale.py:316(next)\n",
      "   784426    7.244    0.000   17.642    0.000 np_macroscale.py:336(find_unbinding_time)\n",
      "  3504733    4.708    0.000   24.811    0.000 np_macroscale.py:75(unbind_by_degradation)\n",
      "\n",
      "\n"
     ]
    },
    {
     "data": {
      "text/plain": [
       "<pstats.Stats at 0x24bf0f13810>"
      ]
     },
     "execution_count": 4,
     "metadata": {},
     "output_type": "execute_result"
    }
   ],
   "source": [
    "p = pstats.Stats(os.path.join(e.os_path, \"macro_pstats\", \"macro_pstats_254.sts\"))\n",
    "p.strip_dirs().sort_stats(SortKey.TIME).print_stats(\"macroscale\")"
   ]
  },
  {
   "cell_type": "code",
   "execution_count": 65,
   "id": "e6599a30-9e6c-4c16-aeec-4a93dcf9912f",
   "metadata": {},
   "outputs": [
    {
     "name": "stdout",
     "output_type": "stream",
     "text": [
      "Thu Jan 12 17:10:11 2023    ../../data\\2022-12-27-1100\\macro_pstats\\macro_pstats_001.sts\n",
      "\n",
      "         172262272 function calls (172262197 primitive calls) in 320.807 seconds\n",
      "\n",
      "   Ordered by: internal time\n",
      "   List reduced from 452 to 8 due to restriction <'macroscale'>\n",
      "\n",
      "   ncalls  tottime  percall  cumtime  percall filename:lineno(function)\n",
      "        1  156.943  156.943  320.807  320.807 macroscale.py:188(run)\n",
      " 21446753   73.682    0.000   96.047    0.000 macroscale.py:103(move)\n",
      " 21446753   12.681    0.000   12.880    0.000 macroscale.py:133(next)\n",
      " 21446753    9.485    0.000   22.365    0.000 macroscale.py:140(find_binding_time)\n",
      "       22    0.126    0.006    0.199    0.009 macroscale.py:124(fill_list)\n",
      "    10357    0.095    0.000    0.116    0.000 macroscale.py:146(find_unbinding_time)\n",
      "    10357    0.045    0.000    0.073    0.000 macroscale.py:172(find_lysis_time)\n",
      "    10357    0.041    0.000    0.237    0.000 macroscale.py:76(bind)\n",
      "\n",
      "\n"
     ]
    },
    {
     "data": {
      "text/plain": [
       "<pstats.Stats at 0x24bf3c18950>"
      ]
     },
     "execution_count": 65,
     "metadata": {},
     "output_type": "execute_result"
    }
   ],
   "source": [
    "p = pstats.Stats(os.path.join(e.os_path, \"macro_pstats\", \"macro_pstats_001.sts\"))\n",
    "p.strip_dirs().sort_stats(SortKey.TIME).print_stats(\"macroscale\")"
   ]
  },
  {
   "cell_type": "code",
   "execution_count": 71,
   "id": "b7cbbf66-6c96-4e2c-b53d-2e06f12b2bcb",
   "metadata": {},
   "outputs": [
    {
     "name": "stdout",
     "output_type": "stream",
     "text": [
      "Mon Jan 16 11:59:44 2023    ../../data\\2022-12-27-1100\\macro_pstats\\macro_pstats_2023-01-16-115906.sts\n",
      "\n",
      "         6390865 function calls (6328189 primitive calls) in 36.029 seconds\n",
      "\n",
      "   Ordered by: internal time\n",
      "   List reduced from 485 to 12 due to restriction <'macroscale'>\n",
      "\n",
      "   ncalls  tottime  percall  cumtime  percall filename:lineno(function)\n",
      "    58412    7.578    0.000    9.957    0.000 np_macroscale.py:224(unrestricted_move)\n",
      "        1    7.490    7.490   36.028   36.028 np_macroscale.py:251(run)\n",
      "    58412    1.511    0.000   15.393    0.000 np_macroscale.py:236(move)\n",
      "    58412    1.189    0.000    2.996    0.000 np_macroscale.py:197(move_to_empty_edge)\n",
      "    58412    1.014    0.000    2.868    0.000 np_macroscale.py:177(bind)\n",
      "    58412    0.710    0.000    0.710    0.000 np_macroscale.py:219(find_still_stuck)\n",
      "    58412    0.676    0.000    1.100    0.000 np_macroscale.py:122(unbind_by_time)\n",
      "    34211    0.668    0.000    1.060    0.000 np_macroscale.py:162(find_lysis_time)\n",
      "    34211    0.183    0.000    0.476    0.000 np_macroscale.py:140(find_unbinding_time)\n",
      "    75039    0.165    0.000    0.254    0.000 np_macroscale.py:90(next)\n",
      "    58412    0.048    0.000    0.261    0.000 np_macroscale.py:110(unbind_by_degradation)\n",
      "        6    0.035    0.006    0.056    0.009 np_macroscale.py:83(fill_list)\n",
      "\n",
      "\n"
     ]
    },
    {
     "data": {
      "text/plain": [
       "<pstats.Stats at 0x24bf3c26290>"
      ]
     },
     "execution_count": 71,
     "metadata": {},
     "output_type": "execute_result"
    }
   ],
   "source": [
    "p = pstats.Stats(os.path.join(e.os_path, \"macro_pstats\", \"macro_pstats_2023-01-16-115906.sts\"))\n",
    "p.strip_dirs().sort_stats(SortKey.TIME).print_stats(\"macroscale\")"
   ]
  },
  {
   "cell_type": "code",
   "execution_count": 37,
   "id": "645db001-009d-4303-8fc7-14d33a0faeff",
   "metadata": {},
   "outputs": [
    {
     "name": "stdout",
     "output_type": "stream",
     "text": [
      "Mon Jan 16 08:59:41 2023    ../../data\\2022-12-27-1100\\macro_pstats\\macro_pstats_271.sts\n",
      "\n",
      "         400223200 function calls (396784416 primitive calls) in 5718.049 seconds\n",
      "\n",
      "   Ordered by: internal time\n",
      "   List reduced from 249 to 12 due to restriction <'macroscale'>\n",
      "\n",
      "   ncalls  tottime  percall  cumtime  percall filename:lineno(function)\n",
      "  3504733 1052.207    0.000 2244.773    0.001 np_macroscale.py:190(move_to_empty_edge)\n",
      "        1  988.259  988.259 5718.049 5718.049 np_macroscale.py:244(run)\n",
      "  3504733  965.440    0.000 1218.414    0.000 np_macroscale.py:217(unrestricted_move)\n",
      "  3504733  188.612    0.000 3766.012    0.001 np_macroscale.py:229(move)\n",
      "  3504733   94.672    0.000   94.672    0.000 np_macroscale.py:212(find_still_stuck)\n",
      "  3504733   38.967    0.000  113.887    0.000 np_macroscale.py:170(bind)\n",
      "  3504733   29.172    0.000   56.229    0.000 np_macroscale.py:115(unbind_by_time)\n",
      "   782751   22.608    0.000   36.048    0.000 np_macroscale.py:155(find_lysis_time)\n",
      "      241    9.680    0.040   10.786    0.045 np_macroscale.py:76(fill_list)\n",
      "  2760019    9.380    0.000   22.779    0.000 np_macroscale.py:83(next)\n",
      "   782751    6.928    0.000   17.153    0.000 np_macroscale.py:133(find_unbinding_time)\n",
      "  3504733    4.718    0.000   23.961    0.000 np_macroscale.py:103(unbind_by_degradation)\n",
      "\n",
      "\n"
     ]
    }
   ],
   "source": [
    "%%capture profile_results\n",
    "p.strip_dirs().sort_stats(SortKey.TIME).print_stats(\"macroscale\")"
   ]
  },
  {
   "cell_type": "code",
   "execution_count": 72,
   "id": "40ebb4c1-9cdf-48f5-a490-5aa1c1e902c3",
   "metadata": {},
   "outputs": [
    {
     "data": {
      "text/plain": [
       "21.0"
      ]
     },
     "execution_count": 72,
     "metadata": {},
     "output_type": "execute_result"
    }
   ],
   "source": [
    "28.4 // 1.3"
   ]
  },
  {
   "cell_type": "code",
   "execution_count": 73,
   "id": "63e992c1-0508-45a8-a440-6f4f8c28e73c",
   "metadata": {},
   "outputs": [
    {
     "name": "stdout",
     "output_type": "stream",
     "text": [
      "Mon Jan 16 20:49:41 2023    ../../data\\2022-12-27-1100\\macro_pstats\\macro_pstats_2023-01-16-204902.sts\n",
      "\n",
      "         6137258 function calls (6076054 primitive calls) in 36.995 seconds\n",
      "\n",
      "   Ordered by: internal time\n",
      "   List reduced from 497 to 14 due to restriction <'macroscale'>\n",
      "\n",
      "   ncalls  tottime  percall  cumtime  percall filename:lineno(function)\n",
      "    58412    7.730    0.000   10.157    0.000 np_macroscale.py:229(unrestricted_move)\n",
      "        1    7.612    7.612   36.995   36.995 np_macroscale.py:265(run)\n",
      "    58412    1.568    0.000   15.974    0.000 np_macroscale.py:241(move)\n",
      "    58412    1.350    0.000    3.306    0.000 np_macroscale.py:202(move_to_empty_edge)\n",
      "    58412    1.113    0.000    2.964    0.000 np_macroscale.py:184(bind)\n",
      "    58412    0.718    0.000    0.718    0.000 np_macroscale.py:224(find_still_stuck)\n",
      "    34439    0.708    0.000    1.105    0.000 np_macroscale.py:169(find_lysis_time)\n",
      "    58412    0.696    0.000    1.134    0.000 np_macroscale.py:130(unbind_by_time)\n",
      "    34439    0.190    0.000    0.496    0.000 np_macroscale.py:147(find_unbinding_time)\n",
      "    75180    0.170    0.000    0.260    0.000 np_macroscale.py:98(next)\n",
      "    58412    0.052    0.000    0.273    0.000 np_macroscale.py:118(unbind_by_degradation)\n",
      "        6    0.036    0.006    0.056    0.009 np_macroscale.py:91(fill_list)\n",
      "        3    0.000    0.000    0.001    0.000 np_macroscale.py:256(save_data)\n",
      "        1    0.000    0.000    0.017    0.017 np_macroscale.py:261(record_data_to_disk)\n",
      "\n",
      "\n"
     ]
    },
    {
     "data": {
      "text/plain": [
       "<pstats.Stats at 0x24bf1750a90>"
      ]
     },
     "execution_count": 73,
     "metadata": {},
     "output_type": "execute_result"
    }
   ],
   "source": [
    "p = pstats.Stats(os.path.join(e.os_path, \"macro_pstats\", \"macro_pstats_2023-01-16-204902.sts\"))\n",
    "p.strip_dirs().sort_stats(SortKey.TIME).print_stats(\"macroscale\")"
   ]
  },
  {
   "cell_type": "code",
   "execution_count": 74,
   "id": "b5abfcea-7bf1-4974-968d-4edda1822c47",
   "metadata": {},
   "outputs": [
    {
     "name": "stdout",
     "output_type": "stream",
     "text": [
      "Mon Jan 16 20:50:37 2023    ../../data\\2022-12-27-1100\\macro_pstats\\macro_pstats_2023-01-16-183947.sts\n",
      "\n",
      "         421831039 function calls (418059721 primitive calls) in 5905.938 seconds\n",
      "\n",
      "   Ordered by: internal time\n",
      "   List reduced from 491 to 12 due to restriction <'macroscale'>\n",
      "\n",
      "   ncalls  tottime  percall  cumtime  percall filename:lineno(function)\n",
      "  3504733 1142.454    0.000 2441.756    0.001 np_macroscale.py:201(move_to_empty_edge)\n",
      "        1  985.698  985.698 5905.938 5905.938 np_macroscale.py:255(run)\n",
      "  3504733  936.171    0.000 1191.618    0.000 np_macroscale.py:228(unrestricted_move)\n",
      "  3504733  192.447    0.000 3941.030    0.001 np_macroscale.py:240(move)\n",
      "  3504733   94.775    0.000   94.775    0.000 np_macroscale.py:223(find_still_stuck)\n",
      "  3504733   41.710    0.000  121.076    0.000 np_macroscale.py:181(bind)\n",
      "  3504733   30.984    0.000   59.466    0.000 np_macroscale.py:126(unbind_by_time)\n",
      "   842622   23.877    0.000   38.467    0.000 np_macroscale.py:166(find_lysis_time)\n",
      "      269   10.701    0.040   11.940    0.044 np_macroscale.py:87(fill_list)\n",
      "  3054843   10.664    0.000   25.729    0.000 np_macroscale.py:94(next)\n",
      "   842622    7.431    0.000   18.840    0.000 np_macroscale.py:144(find_unbinding_time)\n",
      "  3504733    5.026    0.000   25.232    0.000 np_macroscale.py:114(unbind_by_degradation)\n",
      "\n",
      "\n"
     ]
    },
    {
     "data": {
      "text/plain": [
       "<pstats.Stats at 0x24bf3cf73d0>"
      ]
     },
     "execution_count": 74,
     "metadata": {},
     "output_type": "execute_result"
    }
   ],
   "source": [
    "p = pstats.Stats(os.path.join(e.os_path, \"macro_pstats\", \"macro_pstats_2023-01-16-183947.sts\"))\n",
    "p.strip_dirs().sort_stats(SortKey.TIME).print_stats(\"macroscale\")"
   ]
  },
  {
   "cell_type": "code",
   "execution_count": 75,
   "id": "b2e9140b-7cdd-47da-b0d1-51d29cf17c9b",
   "metadata": {},
   "outputs": [
    {
     "name": "stdout",
     "output_type": "stream",
     "text": [
      "Mon Jan 16 21:07:42 2023    ../../data\\2022-12-27-1100\\macro_pstats\\macro_pstats_2023-01-16-205548.sts\n",
      "\n",
      "         76734260 function calls (75937665 primitive calls) in 712.120 seconds\n",
      "\n",
      "   Ordered by: internal time\n",
      "   List reduced from 497 to 14 due to restriction <'macroscale'>\n",
      "\n",
      "   ncalls  tottime  percall  cumtime  percall filename:lineno(function)\n",
      "   584122  185.054    0.000  401.926    0.001 np_macroscale.py:201(move_to_empty_edge)\n",
      "        1   79.928   79.928  712.120  712.120 np_macroscale.py:264(run)\n",
      "   584122   58.966    0.000   82.729    0.000 np_macroscale.py:228(unrestricted_move)\n",
      "   584122   16.572    0.000  510.703    0.001 np_macroscale.py:240(move)\n",
      "   584122    7.729    0.000   19.961    0.000 np_macroscale.py:183(bind)\n",
      "   584122    7.239    0.000    7.239    0.000 np_macroscale.py:223(find_still_stuck)\n",
      "   584122    4.512    0.000    7.956    0.000 np_macroscale.py:129(unbind_by_time)\n",
      "   215512    4.326    0.000    6.626    0.000 np_macroscale.py:168(find_lysis_time)\n",
      "   688555    1.648    0.000    3.032    0.000 np_macroscale.py:97(next)\n",
      "   215512    1.262    0.000    3.336    0.000 np_macroscale.py:146(find_unbinding_time)\n",
      "   584122    0.594    0.000    2.771    0.000 np_macroscale.py:117(unbind_by_degradation)\n",
      "       98    0.577    0.006    0.902    0.009 np_macroscale.py:90(fill_list)\n",
      "       21    0.002    0.000    0.006    0.000 np_macroscale.py:255(save_data)\n",
      "        1    0.000    0.000    0.140    0.140 np_macroscale.py:260(record_data_to_disk)\n",
      "\n",
      "\n"
     ]
    },
    {
     "data": {
      "text/plain": [
       "<pstats.Stats at 0x24bf379c650>"
      ]
     },
     "execution_count": 75,
     "metadata": {},
     "output_type": "execute_result"
    }
   ],
   "source": [
    "p = pstats.Stats(os.path.join(e.os_path, \"macro_pstats\", \"macro_pstats_2023-01-16-205548.sts\"))\n",
    "p.strip_dirs().sort_stats(SortKey.TIME).print_stats(\"macroscale\")"
   ]
  },
  {
   "cell_type": "code",
   "execution_count": null,
   "id": "b1256941-dae2-433b-830b-6cf239274077",
   "metadata": {},
   "outputs": [],
   "source": []
  }
 ],
 "metadata": {
  "kernelspec": {
   "display_name": "Python 3 (ipykernel)",
   "language": "python",
   "name": "python3"
  },
  "language_info": {
   "codemirror_mode": {
    "name": "ipython",
    "version": 3
   },
   "file_extension": ".py",
   "mimetype": "text/x-python",
   "name": "python",
   "nbconvert_exporter": "python",
   "pygments_lexer": "ipython3",
   "version": "3.11.0"
  }
 },
 "nbformat": 4,
 "nbformat_minor": 5
}
