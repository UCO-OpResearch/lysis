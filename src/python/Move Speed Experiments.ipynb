{
 "cells": [
  {
   "cell_type": "markdown",
   "id": "d1ab79e7-9e1a-45c3-a137-250e4531c784",
   "metadata": {},
   "source": [
    "# Move speed experiments"
   ]
  },
  {
   "cell_type": "markdown",
   "id": "969b37d3-d28c-44ef-976d-4d8d8fdd1198",
   "metadata": {},
   "source": [
    "## Setup"
   ]
  },
  {
   "cell_type": "code",
   "execution_count": 1,
   "id": "3cc12bdf-076e-4d60-b530-c5f8291de888",
   "metadata": {},
   "outputs": [],
   "source": [
    "import lysis\n",
    "import math\n",
    "# import numpy as np\n",
    "import cupy as np\n",
    "from functools import partial"
   ]
  },
  {
   "cell_type": "code",
   "execution_count": 2,
   "id": "b572f55b-ee8f-45ac-81c1-1b6e775f2981",
   "metadata": {},
   "outputs": [],
   "source": [
    "e = lysis.util.Experiment(r'../../data', experiment_code='2022-12-27-1100')\n",
    "p = {'total_time': 1}\n",
    "e.initialize_macro_param(p)\n",
    "macro = lysis.MacroscaleRun(e)"
   ]
  },
  {
   "cell_type": "code",
   "execution_count": 3,
   "id": "10d26e90-31dc-4233-b3d3-4e430786cfb7",
   "metadata": {},
   "outputs": [
    {
     "name": "stderr",
     "output_type": "stream",
     "text": [
      "100%|█████████████████████████████████████████████████████████████████████████████| 2920/2920 [00:08<00:00, 344.46it/s]"
     ]
    },
    {
     "name": "stdout",
     "output_type": "stream",
     "text": [
      "Total binds: 10,552\n",
      "Timesteps with binds: 2,770\n",
      "Total moves: 21,417,478\n"
     ]
    },
    {
     "name": "stderr",
     "output_type": "stream",
     "text": [
      "\n"
     ]
    }
   ],
   "source": [
    "macro.run()"
   ]
  },
  {
   "cell_type": "code",
   "execution_count": 4,
   "id": "4f65db1c-b43a-4e14-a55c-4fa954e08dc2",
   "metadata": {},
   "outputs": [],
   "source": [
    "rng = np.random.default_rng(seed=489489496)"
   ]
  },
  {
   "cell_type": "code",
   "execution_count": 5,
   "id": "b10addd4-02b1-4ec9-bb2b-535376301425",
   "metadata": {},
   "outputs": [],
   "source": [
    "def generate_locations():\n",
    "    locationx = rng.integers(e.macro_params.rows-1,\n",
    "                             size=e.macro_params.total_molecules,\n",
    "                             dtype=np.short)\n",
    "    locationy = rng.integers(e.macro_params.full_row,\n",
    "                             size=e.macro_params.total_molecules,\n",
    "                             dtype=np.short)\n",
    "    neighbor_k = rng.integers(8,\n",
    "                              size=e.macro_params.total_molecules,\n",
    "                              dtype=np.short)\n",
    "    location = np.concatenate((locationx, locationy)).reshape((2, -1))\n",
    "    location_flat = np.ravel_multi_index(tuple(location), (e.macro_params.rows, e.macro_params.full_row))\n",
    "    return locationx, locationy, location, neighbor_k, location_flat"
   ]
  },
  {
   "cell_type": "code",
   "execution_count": 20,
   "id": "5e2d6b43-0422-4611-bfac-33f1fa7dabf8",
   "metadata": {},
   "outputs": [],
   "source": [
    "neighbors_i = np.array(macro.neighbors_i)\n",
    "neighbors_j = np.array(macro.neighbors_j)\n",
    "neighbors = np.empty(macro.neighbors_i.shape + (2,), dtype=np.short)\n",
    "for i, j, k in np.ndindex(macro.neighbors_i.shape):\n",
    "    neighbors[i, j, k, 0] = neighbors_i[i, j, k]\n",
    "    neighbors[i, j, k, 1] = neighbors_j[i, j, k]"
   ]
  },
  {
   "cell_type": "code",
   "execution_count": 17,
   "id": "e8b46095-799a-4f2b-bcd6-9a06bca88a27",
   "metadata": {},
   "outputs": [],
   "source": [
    "neighbors_flat = np.empty((e.macro_params.rows * e.macro_params.full_row, 8, 2), dtype=np.ushort)\n",
    "for i, j, k in np.ndindex(macro.neighbors_i.shape):\n",
    "    neighbors_flat[np.ravel_multi_index((i, j,), macro.neighbors_i.shape[:2]), k, 0] = neighbors_i[i, j, k]\n",
    "    neighbors_flat[np.ravel_multi_index((i, j,), macro.neighbors_i.shape[:2]), k, 1] = neighbors_j[i, j, k]"
   ]
  },
  {
   "cell_type": "code",
   "execution_count": 35,
   "id": "b645f068-4dff-45c0-8b94-3612b49b309b",
   "metadata": {},
   "outputs": [
    {
     "ename": "AttributeError",
     "evalue": "'int' object has no attribute 'shape'",
     "output_type": "error",
     "traceback": [
      "\u001b[1;31m---------------------------------------------------------------------------\u001b[0m",
      "\u001b[1;31mAttributeError\u001b[0m                            Traceback (most recent call last)",
      "Cell \u001b[1;32mIn[35], line 3\u001b[0m\n\u001b[0;32m      1\u001b[0m neighbors_flat_flat \u001b[38;5;241m=\u001b[39m np\u001b[38;5;241m.\u001b[39mempty((e\u001b[38;5;241m.\u001b[39mmacro_params\u001b[38;5;241m.\u001b[39mrows \u001b[38;5;241m*\u001b[39m e\u001b[38;5;241m.\u001b[39mmacro_params\u001b[38;5;241m.\u001b[39mfull_row, \u001b[38;5;241m8\u001b[39m), dtype\u001b[38;5;241m=\u001b[39mnp\u001b[38;5;241m.\u001b[39mushort)\n\u001b[0;32m      2\u001b[0m \u001b[38;5;28;01mfor\u001b[39;00m i, j, k \u001b[38;5;129;01min\u001b[39;00m np\u001b[38;5;241m.\u001b[39mndindex(macro\u001b[38;5;241m.\u001b[39mneighbors_i\u001b[38;5;241m.\u001b[39mshape):\n\u001b[1;32m----> 3\u001b[0m     neighbors_flat_flat[\u001b[43mnp\u001b[49m\u001b[38;5;241;43m.\u001b[39;49m\u001b[43mravel_multi_index\u001b[49m\u001b[43m(\u001b[49m\u001b[43m(\u001b[49m\u001b[43mi\u001b[49m\u001b[43m,\u001b[49m\u001b[43m \u001b[49m\u001b[43mj\u001b[49m\u001b[43m,\u001b[49m\u001b[43m)\u001b[49m\u001b[43m,\u001b[49m\u001b[43m \u001b[49m\u001b[43mmacro\u001b[49m\u001b[38;5;241;43m.\u001b[39;49m\u001b[43mneighbors_i\u001b[49m\u001b[38;5;241;43m.\u001b[39;49m\u001b[43mshape\u001b[49m\u001b[43m[\u001b[49m\u001b[43m:\u001b[49m\u001b[38;5;241;43m2\u001b[39;49m\u001b[43m]\u001b[49m\u001b[43m)\u001b[49m, k] \u001b[38;5;241m=\u001b[39m np\u001b[38;5;241m.\u001b[39mravel_multi_index((neighbors_i[i, j, k], neighbors_j[i, j, k],), macro\u001b[38;5;241m.\u001b[39mneighbors_i\u001b[38;5;241m.\u001b[39mshape[:\u001b[38;5;241m2\u001b[39m])\n",
      "File \u001b[1;32m~\\miniconda3\\envs\\lysis\\Lib\\site-packages\\cupy\\_indexing\\generate.py:343\u001b[0m, in \u001b[0;36mravel_multi_index\u001b[1;34m(multi_index, dims, mode, order)\u001b[0m\n\u001b[0;32m    340\u001b[0m     \u001b[38;5;28;01mraise\u001b[39;00m \u001b[38;5;167;01mValueError\u001b[39;00m(\u001b[38;5;124m'\u001b[39m\u001b[38;5;124morder not understood\u001b[39m\u001b[38;5;124m'\u001b[39m)\n\u001b[0;32m    342\u001b[0m multi_index \u001b[38;5;241m=\u001b[39m cupy\u001b[38;5;241m.\u001b[39mbroadcast_arrays(\u001b[38;5;241m*\u001b[39mmulti_index)\n\u001b[1;32m--> 343\u001b[0m raveled_indices \u001b[38;5;241m=\u001b[39m cupy\u001b[38;5;241m.\u001b[39mzeros(\u001b[43mmulti_index\u001b[49m\u001b[43m[\u001b[49m\u001b[38;5;241;43m0\u001b[39;49m\u001b[43m]\u001b[49m\u001b[38;5;241;43m.\u001b[39;49m\u001b[43mshape\u001b[49m, dtype\u001b[38;5;241m=\u001b[39mcupy\u001b[38;5;241m.\u001b[39mint64)\n\u001b[0;32m    344\u001b[0m \u001b[38;5;28;01mfor\u001b[39;00m d, stride, idx, _mode \u001b[38;5;129;01min\u001b[39;00m \u001b[38;5;28mzip\u001b[39m(dims, ravel_strides, multi_index, mode):\n\u001b[0;32m    346\u001b[0m     \u001b[38;5;28;01mif\u001b[39;00m \u001b[38;5;129;01mnot\u001b[39;00m \u001b[38;5;28misinstance\u001b[39m(idx, cupy\u001b[38;5;241m.\u001b[39mndarray):\n",
      "\u001b[1;31mAttributeError\u001b[0m: 'int' object has no attribute 'shape'"
     ]
    }
   ],
   "source": [
    "neighbors_flat_flat = np.empty((e.macro_params.rows * e.macro_params.full_row, 8), dtype=np.ushort)\n",
    "for i, j, k in np.ndindex(macro.neighbors_i.shape):\n",
    "    neighbors_flat_flat[np.ravel_multi_index((i, j,), macro.neighbors_i.shape[:2]), k] = np.ravel_multi_index((neighbors_i[i, j, k], neighbors_j[i, j, k],), macro.neighbors_i.shape[:2])"
   ]
  },
  {
   "cell_type": "code",
   "execution_count": 37,
   "id": "9e5e71f1-2f6d-4f1a-baa5-07fbacc9da5b",
   "metadata": {},
   "outputs": [],
   "source": [
    "neighbors_ijdk = np.empty((macro.neighbors_i.shape[:2] + (2, 8,)), dtype=np.short)\n",
    "for i, j, k in np.ndindex(macro.neighbors_i.shape):\n",
    "    neighbors_ijdk[i, j, 0, k] = neighbors_i[i, j, k]\n",
    "    neighbors_ijdk[i, j, 1, k] = neighbors_j[i, j, k]"
   ]
  },
  {
   "cell_type": "code",
   "execution_count": 38,
   "id": "7b60c516-c51b-45bb-9c2a-a0ffa99149bf",
   "metadata": {},
   "outputs": [],
   "source": [
    "neighbors_kijd = np.empty(((8,) + macro.neighbors_i.shape[:2] + (2,)), dtype=np.short)\n",
    "for i, j, k in np.ndindex(macro.neighbors_i.shape):\n",
    "    neighbors_kijd[k, i, j, 0] = neighbors_i[i, j, k]\n",
    "    neighbors_kijd[k, i, j, 1] = neighbors_j[i, j, k]"
   ]
  },
  {
   "cell_type": "code",
   "execution_count": 39,
   "id": "de253ea2-68a2-4cd5-83bb-521d3404ffb9",
   "metadata": {},
   "outputs": [],
   "source": [
    "neighbors_dijk = np.empty(((2,) + macro.neighbors_i.shape[:2] + (8,)), dtype=np.short)\n",
    "for i, j, k in np.ndindex(macro.neighbors_i.shape):\n",
    "    neighbors_dijk[0, i, j, k] = neighbors_i[i, j, k]\n",
    "    neighbors_dijk[1, i, j, k] = neighbors_j[i, j, k]"
   ]
  },
  {
   "cell_type": "code",
   "execution_count": 40,
   "id": "0a92d380-a3f5-4558-8620-d530a07f33c6",
   "metadata": {},
   "outputs": [],
   "source": [
    "neighbors_dkij = np.empty(((2, 8,) + macro.neighbors_i.shape[:2]), dtype=np.short)\n",
    "for i, j, k in np.ndindex(macro.neighbors_i.shape):\n",
    "    neighbors_dkij[0, k, i, j] = neighbors_i[i, j, k]\n",
    "    neighbors_dkij[1, k, i, j] = neighbors_j[i, j, k]"
   ]
  },
  {
   "cell_type": "code",
   "execution_count": 41,
   "id": "ece52dc5-ace5-4082-bfbc-242a04eaf09a",
   "metadata": {},
   "outputs": [],
   "source": [
    "neighbors_kdij = np.empty(((8, 2,) + macro.neighbors_i.shape[:2]), dtype=np.short)\n",
    "for i, j, k in np.ndindex(macro.neighbors_i.shape):\n",
    "    neighbors_kdij[k, 0, i, j] = neighbors_i[i, j, k]\n",
    "    neighbors_kdij[k, 1, i, j] = neighbors_j[i, j, k]"
   ]
  },
  {
   "cell_type": "code",
   "execution_count": null,
   "id": "92b74c8f-4ff8-4419-934b-4b69c76d4f29",
   "metadata": {},
   "outputs": [],
   "source": [
    "neighbor_dict = {}\n",
    "for i in range(e.macro_params.rows):\n",
    "    for j in range(e.macro_params.cols):\n",
    "        for k in range(8):\n",
    "            "
   ]
  },
  {
   "cell_type": "code",
   "execution_count": 21,
   "id": "a36033a9-8959-467b-b1f9-290d8b50b5a6",
   "metadata": {},
   "outputs": [],
   "source": [
    "fiber_status = np.array(macro.fiber_status)"
   ]
  },
  {
   "cell_type": "code",
   "execution_count": 22,
   "id": "009100fe-8cc6-4913-b47e-53bef2e58fac",
   "metadata": {},
   "outputs": [],
   "source": [
    "locationx, locationy, location, neighbor_k, location_flat = generate_locations()"
   ]
  },
  {
   "cell_type": "markdown",
   "id": "0fd58704-82bb-414f-b7ed-37bb8f748d55",
   "metadata": {},
   "source": [
    "## Multiple location arrays"
   ]
  },
  {
   "cell_type": "markdown",
   "id": "ede11fb0-36f1-45dc-a31d-342e40d37b47",
   "metadata": {},
   "source": [
    "### Multiple neighbor arrays"
   ]
  },
  {
   "cell_type": "code",
   "execution_count": 23,
   "id": "4fe44e6a-ed40-4e54-bb35-f8353cc45a2c",
   "metadata": {},
   "outputs": [
    {
     "data": {
      "text/plain": [
       "cupy.ndarray"
      ]
     },
     "execution_count": 23,
     "metadata": {},
     "output_type": "execute_result"
    }
   ],
   "source": [
    "type(neighbors_i)#[locationx, locationy, neighbor_k]"
   ]
  },
  {
   "cell_type": "code",
   "execution_count": 24,
   "id": "305d2d73-a4b5-4660-93c8-46f4bb1942b6",
   "metadata": {},
   "outputs": [
    {
     "name": "stdout",
     "output_type": "stream",
     "text": [
      "287 µs ± 93.4 µs per loop (mean ± std. dev. of 7 runs, 1 loop each)\n"
     ]
    }
   ],
   "source": [
    "%timeit temp = neighbors_i[locationx, locationy, neighbor_k]; newloc_j = neighbors_j[locationx, locationy, neighbor_k]; newloc_i = temp"
   ]
  },
  {
   "cell_type": "markdown",
   "id": "a0d1e991-9120-4ce1-bbbe-9b7552f77dba",
   "metadata": {},
   "source": [
    "### Single neighbor array"
   ]
  },
  {
   "cell_type": "code",
   "execution_count": 25,
   "id": "c27c1558-d16e-4ebc-877e-3aba0290debf",
   "metadata": {},
   "outputs": [
    {
     "name": "stdout",
     "output_type": "stream",
     "text": [
      "138 µs ± 22 µs per loop (mean ± std. dev. of 7 runs, 1 loop each)\n"
     ]
    }
   ],
   "source": [
    "%timeit newloc = neighbors[locationx, locationy, neighbor_k]; newloc_i = newloc[:,0]; newloc_j = newloc[:,1]"
   ]
  },
  {
   "cell_type": "markdown",
   "id": "9240aaca-bd1f-4a8c-b64a-790e027c82e1",
   "metadata": {},
   "source": [
    "### Fiber Status"
   ]
  },
  {
   "cell_type": "code",
   "execution_count": 26,
   "id": "6e931dc7-ddff-404f-9682-f01842136dc1",
   "metadata": {},
   "outputs": [
    {
     "name": "stdout",
     "output_type": "stream",
     "text": [
      "157 µs ± 21.3 µs per loop (mean ± std. dev. of 7 runs, 1 loop each)\n"
     ]
    }
   ],
   "source": [
    "%timeit m_fiber_status = fiber_status[locationx, locationy]"
   ]
  },
  {
   "cell_type": "markdown",
   "id": "d3511877-a65a-453d-b79e-6c1add4a1547",
   "metadata": {},
   "source": [
    "## Single location array"
   ]
  },
  {
   "cell_type": "markdown",
   "id": "963e04f2-da91-494d-b46a-f61bfc30f763",
   "metadata": {},
   "source": [
    "## Multiple neighbor arrays"
   ]
  },
  {
   "cell_type": "code",
   "execution_count": 49,
   "id": "8dc2f92f-07dc-4db6-80c8-bdbf5d3fba5d",
   "metadata": {},
   "outputs": [
    {
     "name": "stdout",
     "output_type": "stream",
     "text": [
      "368 µs ± 40.8 µs per loop (mean ± std. dev. of 7 runs, 100 loops each)\n"
     ]
    }
   ],
   "source": [
    "%timeit newloc = np.array([neighbors_i[location[0], location[1], neighbor_k], neighbors_j[location[0], location[1], neighbor_k]])"
   ]
  },
  {
   "cell_type": "code",
   "execution_count": 50,
   "id": "9a4db0f5-4d4c-40ac-97be-d4b2f5088ae6",
   "metadata": {},
   "outputs": [
    {
     "name": "stdout",
     "output_type": "stream",
     "text": [
      "360 µs ± 4.07 µs per loop (mean ± std. dev. of 7 runs, 1,000 loops each)\n"
     ]
    }
   ],
   "source": [
    "%timeit newloc = np.array([neighbors_i[tuple(location) + (neighbor_k,)], neighbors_j[tuple(location) + (neighbor_k,)]])"
   ]
  },
  {
   "cell_type": "code",
   "execution_count": 31,
   "id": "dd33c66d-fc0d-460e-89e2-7c2ea1a1dd0d",
   "metadata": {},
   "outputs": [
    {
     "name": "stdout",
     "output_type": "stream",
     "text": [
      "364 µs ± 13.2 µs per loop (mean ± std. dev. of 7 runs, 1,000 loops each)\n"
     ]
    }
   ],
   "source": [
    "%timeit newloc = np.concatenate((neighbors_i[tuple(location) + (neighbor_k,)], neighbors_j[tuple(location) + (neighbor_k,)])).reshape((2, -1))"
   ]
  },
  {
   "cell_type": "markdown",
   "id": "f7997829-0cd6-4365-bb4c-840e5860ecd1",
   "metadata": {},
   "source": [
    "## Single neighbor array"
   ]
  },
  {
   "cell_type": "code",
   "execution_count": 32,
   "id": "99c46bbc-acdd-4868-bc76-8c7be81da7bb",
   "metadata": {},
   "outputs": [
    {
     "name": "stdout",
     "output_type": "stream",
     "text": [
      "155 µs ± 8.3 µs per loop (mean ± std. dev. of 7 runs, 1,000 loops each)\n"
     ]
    }
   ],
   "source": [
    "%timeit newloc = neighbors[location[0], location[1], neighbor_k].T"
   ]
  },
  {
   "cell_type": "code",
   "execution_count": 33,
   "id": "2e0dd0b8-6bfd-4595-b45f-80a4053e9b90",
   "metadata": {},
   "outputs": [
    {
     "name": "stdout",
     "output_type": "stream",
     "text": [
      "150 µs ± 4.8 µs per loop (mean ± std. dev. of 7 runs, 10,000 loops each)\n"
     ]
    }
   ],
   "source": [
    "%timeit newloc = neighbors[tuple(location) + (neighbor_k,)].T"
   ]
  },
  {
   "cell_type": "code",
   "execution_count": 48,
   "id": "7cd2694b-33b1-4a67-ad8a-72755a95e393",
   "metadata": {
    "tags": []
   },
   "outputs": [
    {
     "name": "stdout",
     "output_type": "stream",
     "text": [
      "153 µs ± 5.76 µs per loop (mean ± std. dev. of 7 runs, 10,000 loops each)\n"
     ]
    }
   ],
   "source": [
    "%timeit newloc = neighbors_ijdk[location[0], location[1], :, neighbor_k].T"
   ]
  },
  {
   "cell_type": "code",
   "execution_count": 43,
   "id": "b4ef3a9c-09df-447b-90a5-d774215dfbc6",
   "metadata": {},
   "outputs": [
    {
     "name": "stdout",
     "output_type": "stream",
     "text": [
      "157 µs ± 12.9 µs per loop (mean ± std. dev. of 7 runs, 1,000 loops each)\n"
     ]
    }
   ],
   "source": [
    "%timeit newloc = neighbors_kijd[neighbor_k, location[0], location[1]]"
   ]
  },
  {
   "cell_type": "code",
   "execution_count": 44,
   "id": "c7f28609-6179-4e12-bf16-5e4880bc3e9b",
   "metadata": {},
   "outputs": [
    {
     "name": "stdout",
     "output_type": "stream",
     "text": [
      "157 µs ± 4.19 µs per loop (mean ± std. dev. of 7 runs, 10,000 loops each)\n"
     ]
    }
   ],
   "source": [
    "%timeit newloc = neighbors_kijd[(neighbor_k,) + tuple(location)].T"
   ]
  },
  {
   "cell_type": "code",
   "execution_count": 45,
   "id": "69f6a383-d215-43fb-82b1-823a9dd26496",
   "metadata": {},
   "outputs": [
    {
     "name": "stdout",
     "output_type": "stream",
     "text": [
      "154 µs ± 6.52 µs per loop (mean ± std. dev. of 7 runs, 10,000 loops each)\n"
     ]
    }
   ],
   "source": [
    "%timeit newloc = neighbors_dijk[:, location[0], location[1], neighbor_k]"
   ]
  },
  {
   "cell_type": "code",
   "execution_count": 46,
   "id": "133f106b-fc3d-42e9-8fe5-0135d33e92b5",
   "metadata": {},
   "outputs": [
    {
     "name": "stdout",
     "output_type": "stream",
     "text": [
      "148 µs ± 12.8 µs per loop (mean ± std. dev. of 7 runs, 1,000 loops each)\n"
     ]
    }
   ],
   "source": [
    "%timeit newloc = neighbors_dkij[:, neighbor_k, location[0], location[1]]"
   ]
  },
  {
   "cell_type": "code",
   "execution_count": 47,
   "id": "e245600b-738c-4a3c-b9d4-7d6280731863",
   "metadata": {},
   "outputs": [
    {
     "name": "stdout",
     "output_type": "stream",
     "text": [
      "153 µs ± 11.4 µs per loop (mean ± std. dev. of 7 runs, 1,000 loops each)\n"
     ]
    }
   ],
   "source": [
    "%timeit newloc = neighbors_kdij[neighbor_k, :, location[0], location[1]]"
   ]
  },
  {
   "cell_type": "code",
   "execution_count": 31,
   "id": "63a5e7d9-17df-4bbd-aa58-47c20cdda105",
   "metadata": {},
   "outputs": [
    {
     "name": "stdout",
     "output_type": "stream",
     "text": [
      "445 µs ± 8.58 µs per loop (mean ± std. dev. of 7 runs, 1,000 loops each)\n"
     ]
    }
   ],
   "source": [
    "%timeit newloc = neighbors_flat_flat[np.ravel_multi_index(tuple(location), (e.macro_params.rows, e.macro_params.full_row)), neighbor_k]"
   ]
  },
  {
   "cell_type": "code",
   "execution_count": 26,
   "id": "fce129f1-d320-4c8c-b919-23fb8609e81e",
   "metadata": {},
   "outputs": [
    {
     "name": "stdout",
     "output_type": "stream",
     "text": [
      "248 µs ± 3.43 µs per loop (mean ± std. dev. of 7 runs, 1,000 loops each)\n"
     ]
    }
   ],
   "source": [
    "%timeit newloc = neighbors_flat_flat[location_flat, neighbor_k]"
   ]
  },
  {
   "cell_type": "markdown",
   "id": "768554a5-dd6f-4ca3-9d47-4230d297b1a1",
   "metadata": {},
   "source": [
    "## Fiber status"
   ]
  },
  {
   "cell_type": "code",
   "execution_count": 36,
   "id": "782ad1a5-4fe0-4d0b-931e-a57799481d87",
   "metadata": {},
   "outputs": [
    {
     "name": "stdout",
     "output_type": "stream",
     "text": [
      "142 µs ± 20 µs per loop (mean ± std. dev. of 7 runs, 1,000 loops each)\n"
     ]
    }
   ],
   "source": [
    "%timeit m_fiber_status = fiber_status[location[0], location[1]]"
   ]
  },
  {
   "cell_type": "code",
   "execution_count": 29,
   "id": "13dd1502-577c-4c50-b2c7-d1ed6544fe4a",
   "metadata": {},
   "outputs": [
    {
     "name": "stdout",
     "output_type": "stream",
     "text": [
      "257 µs ± 3.27 µs per loop (mean ± std. dev. of 7 runs, 1,000 loops each)\n"
     ]
    }
   ],
   "source": [
    "locationx, locationy, location, neighbor_k = generate_locations()\n",
    "%timeit m_fiber_status = fiber_status[tuple(location)]"
   ]
  },
  {
   "cell_type": "code",
   "execution_count": 112,
   "id": "969eac74-9861-4b0c-996d-f6460423c929",
   "metadata": {},
   "outputs": [
    {
     "data": {
      "text/plain": [
       "array([  0.        , 115.57076529,          inf, ...,          inf,\n",
       "         0.        ,          inf])"
      ]
     },
     "execution_count": 112,
     "metadata": {},
     "output_type": "execute_result"
    }
   ],
   "source": [
    "m_fiber_status"
   ]
  },
  {
   "cell_type": "code",
   "execution_count": 23,
   "id": "5a446551-2037-4a75-921f-0a29886e39b9",
   "metadata": {},
   "outputs": [
    {
     "data": {
      "text/plain": [
       "array([  0.        , 115.57076529,          inf, ...,          inf,\n",
       "         0.        ,          inf])"
      ]
     },
     "execution_count": 23,
     "metadata": {},
     "output_type": "execute_result"
    }
   ],
   "source": [
    "m_fiber_status"
   ]
  },
  {
   "cell_type": "code",
   "execution_count": 71,
   "id": "d63afbc7-40fb-4d90-8221-1300ea558d7c",
   "metadata": {},
   "outputs": [
    {
     "data": {
      "text/plain": [
       "array([[ 82,  52,  13, ...,   9,  61,   2],\n",
       "       [ 69,  76, 158, ..., 178, 213, 338]], dtype=int16)"
      ]
     },
     "execution_count": 71,
     "metadata": {},
     "output_type": "execute_result"
    }
   ],
   "source": [
    "newloc"
   ]
  },
  {
   "cell_type": "code",
   "execution_count": 40,
   "id": "8c77c3d9-b2ff-4d83-8ff3-eadc0dab9fa4",
   "metadata": {},
   "outputs": [
    {
     "data": {
      "text/plain": [
       "array([[ 12,  29,  88, ...,  86,  21,  72],\n",
       "       [ 67, 339,  35, ..., 221,  27, 212]], dtype=int16)"
      ]
     },
     "execution_count": 40,
     "metadata": {},
     "output_type": "execute_result"
    }
   ],
   "source": [
    "newloc"
   ]
  },
  {
   "cell_type": "code",
   "execution_count": 24,
   "id": "61781645-6d5f-40a6-a4bf-653b75861165",
   "metadata": {},
   "outputs": [
    {
     "data": {
      "text/plain": [
       "array([[    1,     1,   363, ...,   364,     2,   364],\n",
       "       [    0,     0,     0, ...,     2,     2,     2],\n",
       "       [    0,     3,     0, ...,     1,     4,     4],\n",
       "       ...,\n",
       "       [33299, 33302, 33299, ..., 33662, 33665, 33665],\n",
       "       [    0,     0,     0, ...,     0,     0,     0],\n",
       "       [33302, 33302, 33302, ..., 33663, 33663, 33663]], dtype=uint16)"
      ]
     },
     "execution_count": 24,
     "metadata": {},
     "output_type": "execute_result"
    }
   ],
   "source": [
    "neighbors_flat_flat"
   ]
  },
  {
   "cell_type": "code",
   "execution_count": 68,
   "id": "b5438b6f-46af-453b-a976-681b4558cdca",
   "metadata": {},
   "outputs": [
    {
     "data": {
      "text/plain": [
       "(array([12, 30, 87, ..., 86, 22, 71], dtype=int16),\n",
       " array([ 66, 341,  36, ..., 222,  28, 213], dtype=int16))"
      ]
     },
     "execution_count": 68,
     "metadata": {},
     "output_type": "execute_result"
    }
   ],
   "source": [
    "tuple(location)"
   ]
  },
  {
   "cell_type": "code",
   "execution_count": 28,
   "id": "ad6639a2-2d1d-4968-ace2-f3451047551b",
   "metadata": {},
   "outputs": [],
   "source": [
    "edge_lookup = partial(np.ravel_multi_index, dims=(e.macro_params.rows, e.macro_params.full_row))"
   ]
  },
  {
   "cell_type": "code",
   "execution_count": 29,
   "id": "697173bc-8fb8-4a95-85dc-5f550bb76983",
   "metadata": {},
   "outputs": [
    {
     "data": {
      "text/plain": [
       "1091"
      ]
     },
     "execution_count": 29,
     "metadata": {},
     "output_type": "execute_result"
    }
   ],
   "source": [
    "edge_lookup((3, 5))"
   ]
  },
  {
   "cell_type": "code",
   "execution_count": 13,
   "id": "8ddf6a49-f611-4ad0-8f36-a173832935f5",
   "metadata": {},
   "outputs": [
    {
     "data": {
      "text/plain": [
       "cupy.ndarray"
      ]
     },
     "execution_count": 13,
     "metadata": {},
     "output_type": "execute_result"
    }
   ],
   "source": [
    "type(locationx)"
   ]
  },
  {
   "cell_type": "code",
   "execution_count": null,
   "id": "9e543eb5-3b02-405f-9a36-3e3d939b5d0c",
   "metadata": {},
   "outputs": [],
   "source": []
  }
 ],
 "metadata": {
  "kernelspec": {
   "display_name": "Python 3 (ipykernel)",
   "language": "python",
   "name": "python3"
  },
  "language_info": {
   "codemirror_mode": {
    "name": "ipython",
    "version": 3
   },
   "file_extension": ".py",
   "mimetype": "text/x-python",
   "name": "python",
   "nbconvert_exporter": "python",
   "pygments_lexer": "ipython3",
   "version": "3.11.0"
  }
 },
 "nbformat": 4,
 "nbformat_minor": 5
}
