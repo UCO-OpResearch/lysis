{
 "cells": [
  {
   "cell_type": "code",
   "execution_count": 1,
   "id": "61df83b9-c6f6-4d4e-a622-b15454e5fd77",
   "metadata": {},
   "outputs": [],
   "source": [
    "import numpy as np\n",
    "import matplotlib.pyplot as plt\n",
    "import lysis\n",
    "import re\n",
    "import os\n",
    "import scipy.stats"
   ]
  },
  {
   "cell_type": "code",
   "execution_count": 3,
   "id": "c191bcba-b1fc-4428-b9c1-81c17b2c9787",
   "metadata": {},
   "outputs": [
    {
     "name": "stdout",
     "output_type": "stream",
     "text": [
      "experiment_code : 2023-01-18-1600\n",
      "data_filenames  : unbinding_time    : tsectPA.dat\n",
      "                  lysis_time        : lysismat.dat\n",
      "                  total_lyses       : lenlysisvect.dat\n",
      "                  degradation_state : deg.dat\n",
      "micro_params    : None\n",
      "macro_params    : binding_rate       : 0.1\n",
      "                  pore_size          : 0.00010135\n",
      "                  diffusion_coeff    : 5e-07\n",
      "                  binding_sites      : 427\n",
      "                  forced_unbind      : 0.0852\n",
      "                  average_bind_time  : 27.8\n",
      "                  grid_node_distance : 1.0862\n",
      "                  cols               : 93\n",
      "                  rows               : 121\n",
      "                  full_row           : 278\n",
      "                  xz_row             : 185\n",
      "                  total_edges        : 33,545\n",
      "                  total_fibers       : 25,761\n",
      "                  empty_rows         : 28\n",
      "                  last_empty_edge    : 7,783\n",
      "                  total_molecules    : 43,074\n",
      "                  moving_probability : 0.2\n",
      "                  microscale_runs    : 50,000\n",
      "                  total_trials       : 10\n",
      "                  total_time         : 1,200\n",
      "                  time_step          : 0.0003423940833333333\n",
      "                  total_time_steps   : 3,504,733\n",
      "                  seed               : -2,137,354,075\n",
      "                  state              : [129281, 362436069, 123456789, -2137354075]\n",
      "                  input_data         : ['unbinding_time', 'lysis_time', 'total_lyses']\n",
      "                  output_data        : ['degradation_state']\n",
      "                  save_interval      : 10\n",
      "                  number_of_saves    : 121\n",
      "                  macro_version      : macro_normal.f90, macro_rng_array.f90\n",
      "                  log_lvl            : 30\n",
      "                  duplicate_fortran  : 0\n",
      "                  processing_library : numpy\n",
      "\n"
     ]
    }
   ],
   "source": [
    "e = lysis.util.Experiment(os.path.join(\"..\", \"..\", \"data\"), experiment_code='2023-01-18-1600')\n",
    "e.read_file()\n",
    "print(e)"
   ]
  },
  {
   "cell_type": "code",
   "execution_count": 98,
   "id": "c470598a-816a-4c4f-b3ac-8004996b9fa5",
   "metadata": {},
   "outputs": [],
   "source": [
    "n = np.fromfile(os.path.join(e.os_path, \"m_bind_t.f-array.dat\"), dtype=np.float_)"
   ]
  },
  {
   "cell_type": "code",
   "execution_count": 101,
   "id": "8eb93e07-a7fb-42c7-b244-75e652998350",
   "metadata": {},
   "outputs": [],
   "source": [
    "n = n.reshape(75823498, 3).T"
   ]
  },
  {
   "cell_type": "code",
   "execution_count": 100,
   "id": "2b294605-6e65-4ad8-9388-ee64e4af3c73",
   "metadata": {},
   "outputs": [
    {
     "data": {
      "text/plain": [
       "75823498.0"
      ]
     },
     "execution_count": 100,
     "metadata": {},
     "output_type": "execute_result"
    }
   ],
   "source": [
    "n.size / 3"
   ]
  },
  {
   "cell_type": "code",
   "execution_count": 33,
   "id": "5b88a5c5-f238-44a7-b85e-6fc83a803df9",
   "metadata": {},
   "outputs": [
    {
     "data": {
      "text/plain": [
       "<matplotlib.collections.PathCollection at 0x7f9e1b7d5d50>"
      ]
     },
     "execution_count": 33,
     "metadata": {},
     "output_type": "execute_result"
    },
    {
     "data": {
      "image/png": "[encoded data removed]",
      "text/plain": [
       "<Figure size 640x480 with 1 Axes>"
      ]
     },
     "metadata": {},
     "output_type": "display_data"
    }
   ],
   "source": [
    "plt.scatter(n[1], n[2])"
   ]
  },
  {
   "cell_type": "code",
   "execution_count": 102,
   "id": "7b54992e-989f-4ae9-985f-41537fd1f26d",
   "metadata": {},
   "outputs": [
    {
     "data": {
      "text/plain": [
       "<matplotlib.patches.StepPatch at 0x7f9e1a526d40>"
      ]
     },
     "execution_count": 102,
     "metadata": {},
     "output_type": "execute_result"
    },
    {
     "data": {
      "image/png": "[encoded data removed]",
      "text/plain": [
       "<Figure size 640x480 with 1 Axes>"
      ]
     },
     "metadata": {},
     "output_type": "display_data"
    }
   ],
   "source": [
    "counts, bins = np.histogram(n[0])\n",
    "plt.stairs(counts, bins)"
   ]
  },
  {
   "cell_type": "code",
   "execution_count": 88,
   "id": "c3e18d52-8e42-4119-9931-eca0d7b45055",
   "metadata": {},
   "outputs": [],
   "source": [
    "rands = np.empty((100,3440), dtype=np.float_)\n",
    "for i in range(100):\n",
    "    rands[i] = np.fromfile(os.path.join(e.os_path, f\"random{i+1:03}.f-array.dat\"), dtype=np.float_)"
   ]
  },
  {
   "cell_type": "code",
   "execution_count": 85,
   "id": "c2707fd3-47ae-4f4f-98f6-002abb60254b",
   "metadata": {},
   "outputs": [
    {
     "data": {
      "text/plain": [
       "3440"
      ]
     },
     "execution_count": 85,
     "metadata": {},
     "output_type": "execute_result"
    }
   ],
   "source": [
    "rand = np.fromfile(os.path.join(e.os_path, \"random001.f-array.dat\"), dtype=np.float_)\n",
    "rand.size"
   ]
  },
  {
   "cell_type": "code",
   "execution_count": 89,
   "id": "bb4a2669-e004-4905-b74b-08086dfb484f",
   "metadata": {},
   "outputs": [
    {
     "data": {
      "text/plain": [
       "array([[0.34371783, 0.07755252, 0.81315746, ..., 0.39817703, 0.58313772,\n",
       "        0.93758119],\n",
       "       [0.80713772, 0.63505224, 0.73369301, ..., 0.55141526, 0.83448601,\n",
       "        0.76164542],\n",
       "       [0.69218079, 0.38035831, 0.74877784, ..., 0.60531417, 0.88263337,\n",
       "        0.04972118],\n",
       "       ...,\n",
       "       [0.10015076, 0.00211892, 0.26010383, ..., 0.86858483, 0.74989966,\n",
       "        0.36444236],\n",
       "       [0.13730693, 0.76785972, 0.44646398, ..., 0.71179792, 0.84326439,\n",
       "        0.09655665],\n",
       "       [0.44470357, 0.63497132, 0.3353359 , ..., 0.65594208, 0.58749986,\n",
       "        0.44117791]])"
      ]
     },
     "execution_count": 89,
     "metadata": {},
     "output_type": "execute_result"
    }
   ],
   "source": [
    "rands"
   ]
  },
  {
   "cell_type": "code",
   "execution_count": 82,
   "id": "e0cc3aa3-adfd-4b52-8b67-081aa8e609c6",
   "metadata": {},
   "outputs": [
    {
     "data": {
      "text/plain": [
       "3128"
      ]
     },
     "execution_count": 82,
     "metadata": {},
     "output_type": "execute_result"
    }
   ],
   "source": [
    "np.count_nonzero(n5[0] < 0.8)"
   ]
  },
  {
   "cell_type": "code",
   "execution_count": 4,
   "id": "ff4b39d5-b39c-4825-8f6d-41431dcf7f9d",
   "metadata": {},
   "outputs": [],
   "source": [
    "pattern = re.compile(r\"Last fiber degraded at:\\s*(\\d+\\.\\d*)\\s*sec\")"
   ]
  },
  {
   "cell_type": "code",
   "execution_count": 5,
   "id": "7291269f-71c0-4045-a48b-74ca1f7475b6",
   "metadata": {},
   "outputs": [
    {
     "data": {
      "text/plain": [
       "(880.8771897128499, 7.160084492920072)"
      ]
     },
     "execution_count": 5,
     "metadata": {},
     "output_type": "execute_result"
    }
   ],
   "source": [
    "normal_degrade_times = []\n",
    "with open(os.path.join(e.os_path, \"macro-normal.txt\"), 'r') as file:\n",
    "    normal_degrade_times = re.findall(pattern, file.read())\n",
    "normal_degrade_times = [float(i) for i in normal_degrade_times]\n",
    "np.mean(normal_degrade_times), np.std(normal_degrade_times)"
   ]
  },
  {
   "cell_type": "code",
   "execution_count": 6,
   "id": "65fbc40c-7b91-48af-86a4-d08afcbfced1",
   "metadata": {},
   "outputs": [
    {
     "data": {
      "text/plain": [
       "(867.897783280667, 882.1971873829166, 890.934399601417)"
      ]
     },
     "execution_count": 6,
     "metadata": {},
     "output_type": "execute_result"
    }
   ],
   "source": [
    "min(normal_degrade_times), np.median(normal_degrade_times), max(normal_degrade_times)"
   ]
  },
  {
   "cell_type": "code",
   "execution_count": 9,
   "id": "94820e90-fe2a-4e67-b783-b0f269d22a52",
   "metadata": {},
   "outputs": [
    {
     "data": {
      "text/plain": [
       "(881.5879313510331, 9.324349613973892)"
      ]
     },
     "execution_count": 9,
     "metadata": {},
     "output_type": "execute_result"
    }
   ],
   "source": [
    "array_degrade_times = []\n",
    "with open(os.path.join(e.os_path, \"macro-array.txt\"), 'r') as file:\n",
    "    array_degrade_times = re.findall(pattern, file.read())\n",
    "array_degrade_times = [float(i) for i in array_degrade_times]\n",
    "np.mean(array_degrade_times), np.std(array_degrade_times)"
   ]
  },
  {
   "cell_type": "code",
   "execution_count": 10,
   "id": "f4731240-1b47-468f-a302-3d26cb11cc0b",
   "metadata": {},
   "outputs": [
    {
     "data": {
      "text/plain": [
       "(866.912715502917, 882.4022814388329, 900.600184573917)"
      ]
     },
     "execution_count": 10,
     "metadata": {},
     "output_type": "execute_result"
    }
   ],
   "source": [
    "min(array_degrade_times), np.median(array_degrade_times), max(array_degrade_times)"
   ]
  },
  {
   "cell_type": "code",
   "execution_count": 11,
   "id": "3b882c3c-8b11-4fe6-894f-c02ed5946cd8",
   "metadata": {},
   "outputs": [
    {
     "data": {
      "text/plain": [
       "KstestResult(statistic=0.2, pvalue=0.9944575548290717, statistic_location=872.196540996916, statistic_sign=-1)"
      ]
     },
     "execution_count": 11,
     "metadata": {},
     "output_type": "execute_result"
    }
   ],
   "source": [
    "scipy.stats.ks_2samp(normal_degrade_times, array_degrade_times)"
   ]
  },
  {
   "cell_type": "code",
   "execution_count": 11,
   "id": "8c31296e-cf3a-433d-a44a-b62ec3545077",
   "metadata": {},
   "outputs": [
    {
     "data": {
      "text/plain": [
       "KstestResult(statistic=0.2, pvalue=0.5940706297759378, statistic_location=310.627787463917, statistic_sign=-1)"
      ]
     },
     "execution_count": 11,
     "metadata": {},
     "output_type": "execute_result"
    }
   ],
   "source": [
    "scipy.stats.ks_2samp(normal_degrade_times[:30], array_degrade_times[:30])"
   ]
  },
  {
   "cell_type": "code",
   "execution_count": 116,
   "id": "ce9fce5f-1d54-4b18-ae82-9d54c9a1dacd",
   "metadata": {},
   "outputs": [
    {
     "data": {
      "text/plain": [
       "KstestResult(statistic=0.2, pvalue=0.9944575548290717, statistic_location=333.301808450417, statistic_sign=1)"
      ]
     },
     "execution_count": 116,
     "metadata": {},
     "output_type": "execute_result"
    }
   ],
   "source": [
    "scipy.stats.ks_2samp(normal_degrade_times, normal_degrade_times_2)"
   ]
  },
  {
   "cell_type": "code",
   "execution_count": 19,
   "id": "d4869e71-2352-40de-aab7-ae7db78dc862",
   "metadata": {},
   "outputs": [
    {
     "data": {
      "image/png": "[encoded data removed]",
      "text/plain": [
       "<Figure size 700x700 with 1 Axes>"
      ]
     },
     "metadata": {},
     "output_type": "display_data"
    }
   ],
   "source": [
    "mean_n = np.mean(normal_degrade_times)\n",
    "mean_a = np.mean(array_degrade_times)\n",
    "fig = plt.figure(figsize=(7, 7))\n",
    "ax = fig.add_axes([0, 0, 1, 1])#, frameon=False)\n",
    "ax.hist(normal_degrade_times, histtype='step', bins=5, range=(min(normal_degrade_times + array_degrade_times), max(normal_degrade_times + array_degrade_times)), color='b', edgecolor='b')\n",
    "ax.axvline(mean_n, color='b', linestyle='dashed')\n",
    "ax.hist(array_degrade_times, histtype='step', bins=5, range=(min(normal_degrade_times + array_degrade_times), max(normal_degrade_times + array_degrade_times)), color='xkcd:orange', edgecolor='xkcd:orange')\n",
    "ax.axvline(mean_a, color='xkcd:orange', linestyle='dashed')\n",
    "\n",
    "min_ylim, max_ylim = plt.ylim()\n",
    "ax.text(mean_n, max_ylim*0.8, f\"Mean: {mean_n:.2f}\", color='b', rotation=-90)\n",
    "ax.text(mean_a, max_ylim*0.8, f\"Mean: {mean_a:.2f}\", color='xkcd:orange', rotation=-90)\n",
    "\n",
    "fig.savefig(os.path.join(e.os_path, \"degrade_time_comparison.png\"))\n",
    "\n",
    "plt.show()"
   ]
  },
  {
   "cell_type": "code",
   "execution_count": 21,
   "id": "79a21b32-7bd7-4fd6-87e8-40d97f6f99d4",
   "metadata": {},
   "outputs": [
    {
     "data": {
      "text/plain": [
       "(4.0, 13.0, 55.0, 43.33333333337214)"
      ]
     },
     "execution_count": 21,
     "metadata": {},
     "output_type": "execute_result"
    }
   ],
   "source": [
    "a = np.mean([39624, 39558, 39541]) * 10\n",
    "a // (60*60*24), a // (60*60) % 24, (a // 60) % 60, a % 60"
   ]
  },
  {
   "cell_type": "code",
   "execution_count": 16,
   "id": "1657a133-6ae3-4f78-87b5-b83d303a32e1",
   "metadata": {},
   "outputs": [
    {
     "data": {
      "text/plain": [
       "[889.404582837083,\n",
       " 886.488412429333,\n",
       " 881.738036917166,\n",
       " 885.27394061575,\n",
       " 882.656337848667,\n",
       " 876.521663057583,\n",
       " 867.897783280667,\n",
       " 873.737656766,\n",
       " 874.119083774833,\n",
       " 890.934399601417]"
      ]
     },
     "execution_count": 16,
     "metadata": {},
     "output_type": "execute_result"
    }
   ],
   "source": [
    "normal_degrade_times"
   ]
  },
  {
   "cell_type": "code",
   "execution_count": 17,
   "id": "5d304a07-3145-46d6-a411-f4e58d3e9272",
   "metadata": {},
   "outputs": [
    {
     "data": {
      "text/plain": [
       "[886.758218967,\n",
       " 886.313106658666,\n",
       " 872.196540996916,\n",
       " 870.91804148975,\n",
       " 866.912715502917,\n",
       " 882.945660849083,\n",
       " 900.600184573917,\n",
       " 881.858902028583,\n",
       " 887.610095446333,\n",
       " 879.765846997166]"
      ]
     },
     "execution_count": 17,
     "metadata": {},
     "output_type": "execute_result"
    }
   ],
   "source": [
    "array_degrade_times"
   ]
  },
  {
   "cell_type": "code",
   "execution_count": null,
   "id": "25a654d6-ed3f-498b-a53d-a1131023bc58",
   "metadata": {},
   "outputs": [],
   "source": []
  }
 ],
 "metadata": {
  "kernelspec": {
   "display_name": "Python 3 (ipykernel)",
   "language": "python",
   "name": "python3"
  },
  "language_info": {
   "codemirror_mode": {
    "name": "ipython",
    "version": 3
   },
   "file_extension": ".py",
   "mimetype": "text/x-python",
   "name": "python",
   "nbconvert_exporter": "python",
   "pygments_lexer": "ipython3",
   "version": "3.10.8"
  }
 },
 "nbformat": 4,
 "nbformat_minor": 5
}
