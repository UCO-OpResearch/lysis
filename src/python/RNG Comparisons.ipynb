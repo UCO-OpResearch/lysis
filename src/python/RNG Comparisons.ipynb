{
 "cells": [
  {
   "cell_type": "code",
   "execution_count": 110,
   "id": "61df83b9-c6f6-4d4e-a622-b15454e5fd77",
   "metadata": {},
   "outputs": [],
   "source": [
    "import numpy as np\n",
    "import matplotlib.pyplot as plt\n",
    "import lysis\n",
    "import re\n",
    "import os\n",
    "import scipy.stats"
   ]
  },
  {
   "cell_type": "code",
   "execution_count": 2,
   "id": "c191bcba-b1fc-4428-b9c1-81c17b2c9787",
   "metadata": {},
   "outputs": [
    {
     "name": "stdout",
     "output_type": "stream",
     "text": [
      "experiment_code : 2023-01-18-1700\n",
      "data_filenames  : unbinding_time    : tsectPA.dat\n",
      "                  lysis_time        : lysismat.dat\n",
      "                  total_lyses       : lenlysisvect.dat\n",
      "                  degradation_state : deg.dat\n",
      "micro_params    : None\n",
      "macro_params    : binding_rate       : 0.1\n",
      "                  pore_size          : 0.00010135\n",
      "                  diffusion_coeff    : 5e-07\n",
      "                  binding_sites      : 427\n",
      "                  forced_unbind      : 0.0852\n",
      "                  average_bind_time  : 27.8\n",
      "                  grid_node_distance : 1.0862\n",
      "                  cols               : 9\n",
      "                  rows               : 12\n",
      "                  full_row           : 26\n",
      "                  xz_row             : 17\n",
      "                  total_edges        : 303\n",
      "                  total_fibers       : 225\n",
      "                  empty_rows         : 3\n",
      "                  last_empty_edge    : 77\n",
      "                  total_molecules    : 430\n",
      "                  moving_probability : 0.2\n",
      "                  microscale_runs    : 50,000\n",
      "                  total_trials       : 10\n",
      "                  total_time         : 600\n",
      "                  time_step          : 0.0003423940833333333\n",
      "                  total_time_steps   : 1,752,366\n",
      "                  seed               : 578,439,769\n",
      "                  state              : [129281, 362436069, 123456789, 578439769]\n",
      "                  input_data         : ['unbinding_time', 'lysis_time', 'total_lyses']\n",
      "                  output_data        : ['degradation_state']\n",
      "                  save_interval      : 10\n",
      "                  number_of_saves    : 61\n",
      "                  macro_version      : diffuse_into_and_along\n",
      "                  log_lvl            : 30\n",
      "                  duplicate_fortran  : 1\n",
      "                  processing_library : numpy\n",
      "\n"
     ]
    }
   ],
   "source": [
    "e = lysis.util.Experiment(os.path.join(\"..\", \"..\", \"data\"), experiment_code='2023-01-18-1700')\n",
    "e.read_file()\n",
    "print(e)"
   ]
  },
  {
   "cell_type": "code",
   "execution_count": 98,
   "id": "c470598a-816a-4c4f-b3ac-8004996b9fa5",
   "metadata": {},
   "outputs": [],
   "source": [
    "n = np.fromfile(os.path.join(e.os_path, \"m_bind_t.f-array.dat\"), dtype=np.float_)"
   ]
  },
  {
   "cell_type": "code",
   "execution_count": 101,
   "id": "8eb93e07-a7fb-42c7-b244-75e652998350",
   "metadata": {},
   "outputs": [],
   "source": [
    "n = n.reshape(75823498, 3).T"
   ]
  },
  {
   "cell_type": "code",
   "execution_count": 100,
   "id": "2b294605-6e65-4ad8-9388-ee64e4af3c73",
   "metadata": {},
   "outputs": [
    {
     "data": {
      "text/plain": [
       "75823498.0"
      ]
     },
     "execution_count": 100,
     "metadata": {},
     "output_type": "execute_result"
    }
   ],
   "source": [
    "n.size / 3"
   ]
  },
  {
   "cell_type": "code",
   "execution_count": 33,
   "id": "5b88a5c5-f238-44a7-b85e-6fc83a803df9",
   "metadata": {},
   "outputs": [
    {
     "data": {
      "text/plain": [
       "<matplotlib.collections.PathCollection at 0x7f9e1b7d5d50>"
      ]
     },
     "execution_count": 33,
     "metadata": {},
     "output_type": "execute_result"
    },
    {
     "data": {
      "image/png": "[encoded data removed]",
      "text/plain": [
       "<Figure size 640x480 with 1 Axes>"
      ]
     },
     "metadata": {},
     "output_type": "display_data"
    }
   ],
   "source": [
    "plt.scatter(n[1], n[2])"
   ]
  },
  {
   "cell_type": "code",
   "execution_count": 102,
   "id": "7b54992e-989f-4ae9-985f-41537fd1f26d",
   "metadata": {},
   "outputs": [
    {
     "data": {
      "text/plain": [
       "<matplotlib.patches.StepPatch at 0x7f9e1a526d40>"
      ]
     },
     "execution_count": 102,
     "metadata": {},
     "output_type": "execute_result"
    },
    {
     "data": {
      "image/png": "[encoded data removed]",
      "text/plain": [
       "<Figure size 640x480 with 1 Axes>"
      ]
     },
     "metadata": {},
     "output_type": "display_data"
    }
   ],
   "source": [
    "counts, bins = np.histogram(n[0])\n",
    "plt.stairs(counts, bins)"
   ]
  },
  {
   "cell_type": "code",
   "execution_count": 88,
   "id": "c3e18d52-8e42-4119-9931-eca0d7b45055",
   "metadata": {},
   "outputs": [],
   "source": [
    "rands = np.empty((100,3440), dtype=np.float_)\n",
    "for i in range(100):\n",
    "    rands[i] = np.fromfile(os.path.join(e.os_path, f\"random{i+1:03}.f-array.dat\"), dtype=np.float_)"
   ]
  },
  {
   "cell_type": "code",
   "execution_count": 85,
   "id": "c2707fd3-47ae-4f4f-98f6-002abb60254b",
   "metadata": {},
   "outputs": [
    {
     "data": {
      "text/plain": [
       "3440"
      ]
     },
     "execution_count": 85,
     "metadata": {},
     "output_type": "execute_result"
    }
   ],
   "source": [
    "rand = np.fromfile(os.path.join(e.os_path, \"random001.f-array.dat\"), dtype=np.float_)\n",
    "rand.size"
   ]
  },
  {
   "cell_type": "code",
   "execution_count": 89,
   "id": "bb4a2669-e004-4905-b74b-08086dfb484f",
   "metadata": {},
   "outputs": [
    {
     "data": {
      "text/plain": [
       "array([[0.34371783, 0.07755252, 0.81315746, ..., 0.39817703, 0.58313772,\n",
       "        0.93758119],\n",
       "       [0.80713772, 0.63505224, 0.73369301, ..., 0.55141526, 0.83448601,\n",
       "        0.76164542],\n",
       "       [0.69218079, 0.38035831, 0.74877784, ..., 0.60531417, 0.88263337,\n",
       "        0.04972118],\n",
       "       ...,\n",
       "       [0.10015076, 0.00211892, 0.26010383, ..., 0.86858483, 0.74989966,\n",
       "        0.36444236],\n",
       "       [0.13730693, 0.76785972, 0.44646398, ..., 0.71179792, 0.84326439,\n",
       "        0.09655665],\n",
       "       [0.44470357, 0.63497132, 0.3353359 , ..., 0.65594208, 0.58749986,\n",
       "        0.44117791]])"
      ]
     },
     "execution_count": 89,
     "metadata": {},
     "output_type": "execute_result"
    }
   ],
   "source": [
    "rands"
   ]
  },
  {
   "cell_type": "code",
   "execution_count": 82,
   "id": "e0cc3aa3-adfd-4b52-8b67-081aa8e609c6",
   "metadata": {},
   "outputs": [
    {
     "data": {
      "text/plain": [
       "3128"
      ]
     },
     "execution_count": 82,
     "metadata": {},
     "output_type": "execute_result"
    }
   ],
   "source": [
    "np.count_nonzero(n5[0] < 0.8)"
   ]
  },
  {
   "cell_type": "code",
   "execution_count": 104,
   "id": "ff4b39d5-b39c-4825-8f6d-41431dcf7f9d",
   "metadata": {},
   "outputs": [],
   "source": [
    "pattern = re.compile(r\"Last fiber degraded at:\\s*(\\d+\\.\\d*)\\s*sec\")"
   ]
  },
  {
   "cell_type": "code",
   "execution_count": 119,
   "id": "7291269f-71c0-4045-a48b-74ca1f7475b6",
   "metadata": {},
   "outputs": [
    {
     "data": {
      "text/plain": [
       "([328.36654013325,\n",
       "  311.844656036083,\n",
       "  305.266580907083,\n",
       "  316.8795610315,\n",
       "  342.1687880265,\n",
       "  339.901454406667,\n",
       "  331.47068489275,\n",
       "  317.613653946167,\n",
       "  315.032687346,\n",
       "  294.148360233083,\n",
       "  301.60022506275,\n",
       "  311.27422749325,\n",
       "  325.47604928175,\n",
       "  284.567831387333,\n",
       "  335.23017192775,\n",
       "  314.254767988667,\n",
       "  340.547209647833,\n",
       "  302.577760170667,\n",
       "  323.311776281,\n",
       "  318.460736908333],\n",
       " 317.9996861554208,\n",
       " 15.33820699718757)"
      ]
     },
     "execution_count": 119,
     "metadata": {},
     "output_type": "execute_result"
    }
   ],
   "source": [
    "normal_degrade_times = []\n",
    "with open(os.path.join(e.os_path, \"macro-normal.txt\"), 'r') as file:\n",
    "    normal_degrade_times = re.findall(pattern, file.read())\n",
    "normal_degrade_times = [float(i) for i in normal_degrade_times]\n",
    "normal_degrade_times, np.mean(normal_degrade_times), np.std(normal_degrade_times)"
   ]
  },
  {
   "cell_type": "code",
   "execution_count": 122,
   "id": "94820e90-fe2a-4e67-b783-b0f269d22a52",
   "metadata": {},
   "outputs": [
    {
     "data": {
      "text/plain": [
       "([305.502832824583,\n",
       "  299.568116178167,\n",
       "  309.757421704083,\n",
       "  304.08806047225,\n",
       "  330.050091841,\n",
       "  310.627787463917,\n",
       "  327.15446507825,\n",
       "  328.395986024417,\n",
       "  298.752191077583,\n",
       "  338.264810688333,\n",
       "  301.287619264667,\n",
       "  319.712187282917,\n",
       "  296.888197687917,\n",
       "  298.4354765505,\n",
       "  351.818138083,\n",
       "  330.334278930167,\n",
       "  323.045393684167,\n",
       "  299.50271890825,\n",
       "  297.877374194667,\n",
       "  325.571234836917],\n",
       " 314.83171913878766,\n",
       " 15.756864066186335)"
      ]
     },
     "execution_count": 122,
     "metadata": {},
     "output_type": "execute_result"
    }
   ],
   "source": [
    "array_degrade_times = []\n",
    "with open(os.path.join(e.os_path, \"macro-array.txt\"), 'r') as file:\n",
    "    array_degrade_times = re.findall(pattern, file.read())\n",
    "array_degrade_times = [float(i) for i in array_degrade_times]\n",
    "array_degrade_times, np.mean(array_degrade_times), np.std(array_degrade_times)"
   ]
  },
  {
   "cell_type": "code",
   "execution_count": 111,
   "id": "8c31296e-cf3a-433d-a44a-b62ec3545077",
   "metadata": {},
   "outputs": [
    {
     "data": {
      "text/plain": [
       "KstestResult(statistic=0.3, pvalue=0.7869297884777761, statistic_location=323.774693081667, statistic_sign=-1)"
      ]
     },
     "execution_count": 111,
     "metadata": {},
     "output_type": "execute_result"
    }
   ],
   "source": [
    "scipy.stats.ks_2samp(normal_degrade_times, array_degrade_times)"
   ]
  },
  {
   "cell_type": "code",
   "execution_count": 116,
   "id": "ce9fce5f-1d54-4b18-ae82-9d54c9a1dacd",
   "metadata": {},
   "outputs": [
    {
     "data": {
      "text/plain": [
       "KstestResult(statistic=0.2, pvalue=0.9944575548290717, statistic_location=333.301808450417, statistic_sign=1)"
      ]
     },
     "execution_count": 116,
     "metadata": {},
     "output_type": "execute_result"
    }
   ],
   "source": [
    "scipy.stats.ks_2samp(normal_degrade_times, normal_degrade_times_2)"
   ]
  },
  {
   "cell_type": "code",
   "execution_count": 121,
   "id": "3b882c3c-8b11-4fe6-894f-c02ed5946cd8",
   "metadata": {},
   "outputs": [
    {
     "data": {
      "text/plain": [
       "KstestResult(statistic=0.3, pvalue=0.33559098126008213, statistic_location=310.627787463917, statistic_sign=-1)"
      ]
     },
     "execution_count": 121,
     "metadata": {},
     "output_type": "execute_result"
    }
   ],
   "source": [
    "scipy.stats.ks_2samp(normal_degrade_times, array_degrade_times)"
   ]
  },
  {
   "cell_type": "code",
   "execution_count": null,
   "id": "d4869e71-2352-40de-aab7-ae7db78dc862",
   "metadata": {},
   "outputs": [],
   "source": []
  }
 ],
 "metadata": {
  "kernelspec": {
   "display_name": "Python 3 (ipykernel)",
   "language": "python",
   "name": "python3"
  },
  "language_info": {
   "codemirror_mode": {
    "name": "ipython",
    "version": 3
   },
   "file_extension": ".py",
   "mimetype": "text/x-python",
   "name": "python",
   "nbconvert_exporter": "python",
   "pygments_lexer": "ipython3",
   "version": "3.10.8"
  }
 },
 "nbformat": 4,
 "nbformat_minor": 5
}
